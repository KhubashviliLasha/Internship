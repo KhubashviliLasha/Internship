{
 "cells": [
  {
   "cell_type": "code",
   "execution_count": 11,
   "metadata": {},
   "outputs": [],
   "source": [
    "import pandas as pd \n",
    "main_data_path = (r'D:\\Grenoble_university\\6_month_internship\\working space\\data\\combined_1_year_data_with_flexibility.xlsx')\n",
    "df=pd.read_excel(main_data_path,na_values=['NaN'])\n",
    "read_excel = pd.ExcelFile(r'D:\\Grenoble_university\\6_month_internship\\working space\\data\\combined_1_year_data_with_flexibility.xlsx')\n"
   ]
  },
  {
   "cell_type": "code",
   "execution_count": 12,
   "metadata": {},
   "outputs": [],
   "source": [
    "excel_file = read_excel\n",
    "excel_file_1 = read_excel # not used\n",
    "excel_file_2 = read_excel # not used\n",
    "excel_file_3 = read_excel\n",
    "excel_file_4 = read_excel\n",
    "excel_file_5 = read_excel"
   ]
  },
  {
   "cell_type": "markdown",
   "metadata": {},
   "source": [
    "# to see which house have total site consumption and if some of them does not have just summ all recorded consumptions to have total consumption. "
   ]
  },
  {
   "cell_type": "code",
   "execution_count": 179,
   "metadata": {},
   "outputs": [
    {
     "name": "stdout",
     "output_type": "stream",
     "text": [
      "'Site consumption (' found in sheet 2000900\n",
      "'Site consumption (' found in sheet 2000901\n",
      "'Site consumption (' found in sheet 2000902\n",
      "'Site consumption (' found in sheet 2000903\n",
      "'Site consumption (' found in sheet 2000904\n",
      "'Site consumption (' found in sheet 2000905\n",
      "'Site consumption (' found in sheet 2000906\n",
      "'Site consumption (' found in sheet 2000907\n",
      "'Site consumption (' found in sheet 2000908\n",
      "'Site consumption (' found in sheet 2000909\n",
      "'Site consumption (' found in sheet 2000910\n",
      "'Site consumption (' found in sheet 2000911\n",
      "'Site consumption (' found in sheet 2000912\n",
      "'Site consumption (' found in sheet 2000913\n",
      "'Site consumption (' found in sheet 2000914\n",
      "'Site consumption (' found in sheet 2000915\n",
      "'Site consumption (' found in sheet 2000916\n",
      "'Site consumption (' found in sheet 2000917\n",
      "'Site consumption (' found in sheet 2000918\n",
      "'Site consumption (' found in sheet 2000919\n",
      "'Site consumption (' found in sheet 2000920\n",
      "'Site consumption (' found in sheet 2000921\n",
      "'Site consumption (' found in sheet 2000922\n",
      "'Site consumption (' found in sheet 2000923\n",
      "'Site consumption (' found in sheet 2000924\n",
      "'Site consumption (' found in sheet 2000925\n",
      "'Site consumption (' found in sheet 2000926\n",
      "'Site consumption (' found in sheet 2000927\n",
      "'Site consumption (' found in sheet 2000928\n",
      "'Site consumption (' found in sheet 2000929\n",
      "'Site consumption (' found in sheet 2000930\n",
      "'Site consumption (' found in sheet 2000931\n",
      "'Site consumption (' found in sheet 2000932\n",
      "'Site consumption (' not found in sheet 2000933\n",
      "'Site consumption (' found in sheet 2000934\n",
      "'Site consumption (' found in sheet 2000935\n",
      "'Site consumption (' found in sheet 2000936\n",
      "'Site consumption (' not found in sheet 2000937\n",
      "'Site consumption (' found in sheet 2000938\n",
      "'Site consumption (' found in sheet 2000939\n",
      "'Site consumption (' found in sheet 2000940\n",
      "'Site consumption (' found in sheet 2000941\n",
      "'Site consumption (' found in sheet 2000942\n",
      "'Site consumption (' found in sheet 2000943\n",
      "'Site consumption (' found in sheet 2000944\n",
      "'Site consumption (' found in sheet 2000945\n",
      "'Site consumption (' found in sheet 2000946\n",
      "'Site consumption (' found in sheet 2000947\n",
      "'Site consumption (' found in sheet 2000948\n",
      "'Site consumption (' found in sheet 2000949\n",
      "'Site consumption (' found in sheet 2000950\n",
      "'Site consumption (' found in sheet 2000951\n",
      "'Site consumption (' found in sheet 2000952\n",
      "'Site consumption (' found in sheet 2000953\n",
      "'Site consumption (' found in sheet 2000954\n",
      "'Site consumption (' found in sheet 2000955\n",
      "'Site consumption (' found in sheet 2000956\n",
      "'Site consumption (' found in sheet 2000957\n",
      "'Site consumption (' found in sheet 2000958\n",
      "'Site consumption (' found in sheet 2000959\n",
      "'Site consumption (' found in sheet 2000960\n",
      "'Site consumption (' found in sheet 2000961\n",
      "'Site consumption (' found in sheet 2000962\n",
      "'Site consumption (' found in sheet 2000963\n",
      "'Site consumption (' found in sheet 2000964\n",
      "'Site consumption (' found in sheet 2000965\n",
      "'Site consumption (' found in sheet 2000966\n",
      "'Site consumption (' found in sheet 2000967\n",
      "'Site consumption (' found in sheet 2000968\n",
      "'Site consumption (' found in sheet 2000969\n",
      "'Site consumption (' found in sheet 2000970\n",
      "'Site consumption (' found in sheet 2000971\n",
      "'Site consumption (' found in sheet 2000972\n",
      "'Site consumption (' found in sheet 2000973\n",
      "'Site consumption (' found in sheet 2000974\n",
      "'Site consumption (' found in sheet 2000975\n",
      "'Site consumption (' found in sheet 2000976\n",
      "'Site consumption (' not found in sheet 2000977\n",
      "'Site consumption (' found in sheet 2000978\n",
      "'Site consumption (' found in sheet 2000979\n",
      "'Site consumption (' found in sheet 2000980\n",
      "'Site consumption (' found in sheet 2000981\n",
      "'Site consumption (' found in sheet 2000982\n",
      "'Site consumption (' found in sheet 2000983\n",
      "'Site consumption (' found in sheet 2000984\n",
      "'Site consumption (' found in sheet 2000985\n",
      "'Site consumption (' found in sheet 2000986\n",
      "'Site consumption (' found in sheet 2000987\n",
      "'Site consumption (' found in sheet 2000988\n",
      "'Site consumption (' found in sheet 2000989\n",
      "'Site consumption (' found in sheet 2000990\n",
      "'Site consumption (' found in sheet 2000991\n",
      "'Site consumption (' found in sheet 2000992\n",
      "'Site consumption (' found in sheet 2000993\n",
      "'Site consumption (' found in sheet 2000994\n",
      "'Site consumption (' found in sheet 2000995\n",
      "'Site consumption (' found in sheet 2000996\n",
      "'Site consumption (' found in sheet 2000997\n"
     ]
    }
   ],
   "source": [
    "import pandas as pd\n",
    "\n",
    "# Load the Excel file\n",
    "#excel_file = pd.ExcelFile(r'D:\\Grenoble_university\\6_month_internship\\working space\\data\\combined_1_year_data_with_flexibility.xlsx')\n",
    "\n",
    "# Define the range of sheet numbers\n",
    "start_sheet_number = 2000900\n",
    "end_sheet_number = 2000997\n",
    "\n",
    "# Iterate through the sheet numbers\n",
    "for sheet_number in range(start_sheet_number, end_sheet_number + 1):\n",
    "    sheet_name = str(sheet_number)\n",
    "    if sheet_name in excel_file.sheet_names:\n",
    "        # Read the sheet into a DataFrame\n",
    "        df_1 = excel_file.parse(sheet_name)\n",
    "        # Check if any column starts with 'Site consumption ('\n",
    "        if any(col.startswith('Site consumption (') for col in df_1.columns):\n",
    "            print(f\"'Site consumption (' found in sheet {sheet_name}\")\n",
    "        else:\n",
    "            print(f\"'Site consumption (' not found in sheet {sheet_name}\")\n",
    "    else:\n",
    "        print(f\"Sheet {sheet_name} not found in the Excel file.\")\n"
   ]
  },
  {
   "cell_type": "markdown",
   "metadata": {},
   "source": [
    "# calculate average consumption of each houses and total average consumtion"
   ]
  },
  {
   "cell_type": "markdown",
   "metadata": {},
   "source": [
    "This calculate total lighting consumptions for each houses for one year and average "
   ]
  },
  {
   "cell_type": "code",
   "execution_count": 7,
   "metadata": {},
   "outputs": [
    {
     "name": "stdout",
     "output_type": "stream",
     "text": [
      "Sum for '['Total site light consumption ()']' in sheet 2000900: 528.105\n",
      "Sum for '['Total site light consumption ()']' in sheet 2000901: 308.288\n",
      "Sum for '['Total site light consumption ()']' in sheet 2000902: 130.665\n",
      "'Total site light consumption' not found in sheet 2000903. Excluding this house.\n",
      "Sum for '['Total site light consumption ()']' in sheet 2000904: 841.685\n",
      "Sum for '['Total site light consumption ()']' in sheet 2000905: 189.129\n",
      "Sum for '['Total site light consumption ()']' in sheet 2000906: 421.849\n",
      "Sum for '['Total site light consumption ()']' in sheet 2000907: 632.284\n",
      "Sum for '['Total site light consumption ()']' in sheet 2000908: 214.904\n",
      "Sum for '['Total site light consumption ()']' in sheet 2000909: 514.113\n",
      "Sum for '['Total site light consumption ()']' in sheet 2000910: 116.714\n",
      "Sum for '['Total site light consumption ()']' in sheet 2000911: 168.649\n",
      "Sum for '['Total site light consumption ()']' in sheet 2000912: 828.548\n",
      "Sum for '['Total site light consumption ()']' in sheet 2000913: 159.382\n",
      "Sum for '['Total site light consumption ()']' in sheet 2000914: 170.568\n",
      "Sum for '['Total site light consumption (36cm)']' in sheet 2000915: 395.996\n",
      "Sum for '['Total site light consumption ()']' in sheet 2000916: 80.854\n",
      "Sum for '['Total site light consumption ()']' in sheet 2000917: 282.327\n",
      "Sum for '['Total site light consumption ()']' in sheet 2000918: 148.432\n",
      "'Total site light consumption' not found in sheet 2000919. Excluding this house.\n",
      "'Total site light consumption' not found in sheet 2000920. Excluding this house.\n",
      "Sum for '['Total site light consumption ()']' in sheet 2000921: 757.46\n",
      "Sum for '['Total site light consumption ()']' in sheet 2000922: 332.365\n",
      "Sum for '['Total site light consumption ()']' in sheet 2000923: 309.464\n",
      "Sum for '['Total site light consumption ()']' in sheet 2000924: 858.893\n",
      "Sum for '['Total site light consumption ()']' in sheet 2000925: 299.206\n",
      "Sum for '['Total site light consumption ()']' in sheet 2000926: 990.31\n",
      "'Total site light consumption' not found in sheet 2000927. Excluding this house.\n",
      "Sum for '['Total site light consumption ()']' in sheet 2000928: 179.786\n",
      "'Total site light consumption' not found in sheet 2000929. Excluding this house.\n",
      "'Total site light consumption' not found in sheet 2000930. Excluding this house.\n",
      "Sum for '['Total site light consumption ()']' in sheet 2000931: 245.782\n",
      "Sum for '['Total site light consumption ()']' in sheet 2000932: 277.696\n",
      "'Total site light consumption' not found in sheet 2000933. Excluding this house.\n",
      "Sum for '['Total site light consumption ()']' in sheet 2000934: 971.086\n",
      "Sum for '['Total site light consumption ()']' in sheet 2000935: 288.182\n",
      "Sum for '['Total site light consumption ()']' in sheet 2000936: 207.786\n",
      "'Total site light consumption' not found in sheet 2000937. Excluding this house.\n",
      "Sum for '['Total site light consumption ()']' in sheet 2000938: 234.082\n",
      "'Total site light consumption' not found in sheet 2000939. Excluding this house.\n",
      "'Total site light consumption' not found in sheet 2000940. Excluding this house.\n",
      "Sum for '['Total site light consumption ()']' in sheet 2000941: 183.819\n",
      "'Total site light consumption' not found in sheet 2000942. Excluding this house.\n",
      "'Total site light consumption' not found in sheet 2000943. Excluding this house.\n",
      "Sum for '['Total site light consumption ()']' in sheet 2000944: 1732.18\n",
      "Sum for '['Total site light consumption ()']' in sheet 2000945: 563.187\n",
      "Sum for '['Total site light consumption ()']' in sheet 2000946: 267.661\n",
      "'Total site light consumption' not found in sheet 2000947. Excluding this house.\n",
      "Sum for '['Total site light consumption ()']' in sheet 2000948: 131.686\n",
      "'Total site light consumption' not found in sheet 2000949. Excluding this house.\n",
      "'Total site light consumption' not found in sheet 2000950. Excluding this house.\n",
      "Sum for '['Total site light consumption ()']' in sheet 2000951: 755.362\n",
      "'Total site light consumption' not found in sheet 2000952. Excluding this house.\n",
      "Sum for '['Total site light consumption ()']' in sheet 2000953: 167.706\n",
      "'Total site light consumption' not found in sheet 2000954. Excluding this house.\n",
      "'Total site light consumption' not found in sheet 2000955. Excluding this house.\n",
      "Sum for '['Total site light consumption ()']' in sheet 2000956: 94.119\n",
      "'Total site light consumption' not found in sheet 2000957. Excluding this house.\n",
      "'Total site light consumption' not found in sheet 2000958. Excluding this house.\n",
      "Sum for '['Total site light consumption ()']' in sheet 2000959: 122.312\n",
      "'Total site light consumption' not found in sheet 2000960. Excluding this house.\n",
      "Sum for '['Total site light consumption ()']' in sheet 2000961: 281.522\n",
      "Sum for '['Total site light consumption ()']' in sheet 2000962: 525.181\n",
      "'Total site light consumption' not found in sheet 2000963. Excluding this house.\n",
      "Sum for '['Total site light consumption ()']' in sheet 2000964: 1302.623\n",
      "'Total site light consumption' not found in sheet 2000965. Excluding this house.\n",
      "Sum for '['Total site light consumption ()']' in sheet 2000966: 371.024\n",
      "Sum for '['Total site light consumption ()']' in sheet 2000967: 155.73\n",
      "'Total site light consumption' not found in sheet 2000968. Excluding this house.\n",
      "'Total site light consumption' not found in sheet 2000969. Excluding this house.\n",
      "Sum for '['Total site light consumption ()']' in sheet 2000970: 497.356\n",
      "'Total site light consumption' not found in sheet 2000971. Excluding this house.\n",
      "'Total site light consumption' not found in sheet 2000972. Excluding this house.\n",
      "'Total site light consumption' not found in sheet 2000973. Excluding this house.\n",
      "'Total site light consumption' not found in sheet 2000974. Excluding this house.\n",
      "'Total site light consumption' not found in sheet 2000975. Excluding this house.\n",
      "Sum for '['Total site light consumption ()']' in sheet 2000976: 342.527\n",
      "'Total site light consumption' not found in sheet 2000977. Excluding this house.\n",
      "Sum for '['Total site light consumption ()']' in sheet 2000978: 188.345\n",
      "'Total site light consumption' not found in sheet 2000979. Excluding this house.\n",
      "Sum for '['Total site light consumption ()']' in sheet 2000980: 2482.927\n",
      "Sum for '['Total site light consumption ()']' in sheet 2000981: 375.077\n",
      "Sum for '['Total site light consumption ()']' in sheet 2000982: 590.522\n",
      "Sum for '['Total site light consumption ()']' in sheet 2000983: 14.844\n",
      "Sum for '['Total site light consumption ()']' in sheet 2000984: 182.003\n",
      "Sum for '['Total site light consumption ()']' in sheet 2000985: 476.472\n",
      "'Total site light consumption' not found in sheet 2000986. Excluding this house.\n",
      "'Total site light consumption' not found in sheet 2000987. Excluding this house.\n",
      "Sum for '['Total site light consumption ()']' in sheet 2000988: 446.737\n",
      "'Total site light consumption' not found in sheet 2000989. Excluding this house.\n",
      "'Total site light consumption' not found in sheet 2000990. Excluding this house.\n",
      "'Total site light consumption' not found in sheet 2000991. Excluding this house.\n",
      "'Total site light consumption' not found in sheet 2000992. Excluding this house.\n",
      "'Total site light consumption' not found in sheet 2000993. Excluding this house.\n",
      "'Total site light consumption' not found in sheet 2000994. Excluding this house.\n",
      "Sum for '['Total site light consumption ()']' in sheet 2000995: 634.373\n",
      "'Total site light consumption' not found in sheet 2000996. Excluding this house.\n",
      "Sum for '['Total site light consumption ()']' in sheet 2000997: 285.969\n",
      "Mean (Arithmetic Average) Light Consumption: 443.0851578947369 kWh\n",
      "Median Light Consumption: 299.206 kWh\n",
      "Mode Light Consumption: [  14.844   80.854   94.119  116.714  122.312  130.665  131.686  148.432\n",
      "  155.73   159.382  167.706  168.649  170.568  179.786  182.003  183.819\n",
      "  188.345  189.129  207.786  214.904  234.082  245.782  267.661  277.696\n",
      "  281.522  282.327  285.969  288.182  299.206  308.288  309.464  332.365\n",
      "  342.527  371.024  375.077  395.996  421.849  446.737  476.472  497.356\n",
      "  514.113  525.181  528.105  563.187  590.522  632.284  634.373  755.362\n",
      "  757.46   828.548  841.685  858.893  971.086  990.31  1302.623 1732.18\n",
      " 2482.927] kWh\n"
     ]
    }
   ],
   "source": [
    "import pandas as pd\n",
    "from scipy import stats\n",
    "\n",
    "# Load the Excel file\n",
    "main_data_path = r'D:\\Grenoble_university\\6_month_internship\\working space\\data\\combined_1_year_data_with_flexibility.xlsx'\n",
    "Read_file = pd.ExcelFile(main_data_path)\n",
    "\n",
    "# Define the range of sheet numbers\n",
    "start_sheet_number = 2000900\n",
    "end_sheet_number = 2000997\n",
    "\n",
    "# List of houses to be excluded\n",
    "excluded_houses = {}\n",
    "\n",
    "# Initialize list to store light consumption values for each sheet\n",
    "light_consumption_values = []\n",
    "\n",
    "# Iterate through the sheet numbers\n",
    "for sheet_number in range(start_sheet_number, end_sheet_number + 1):\n",
    "    sheet_name = str(sheet_number)\n",
    "    if sheet_name in Read_file.sheet_names and sheet_name not in excluded_houses:\n",
    "        # Read the sheet into a DataFrame\n",
    "        df_2 = Read_file.parse(sheet_name)\n",
    "        \n",
    "        # Check for columns that start with 'Total site light consumption'\n",
    "        light_consumption_columns = [col for col in df_2.columns if col.startswith('Total site light consumption')]\n",
    "        \n",
    "        if light_consumption_columns:\n",
    "            # Assuming you want to sum up all columns that start with 'Total site light consumption'\n",
    "            total_light_consumption = 0\n",
    "            for col in light_consumption_columns:\n",
    "                df_2[col] = pd.to_numeric(df_2[col], errors='coerce')\n",
    "                total_light_consumption += df_2[col].sum() / 1000\n",
    "            print(f\"Sum for '{light_consumption_columns}' in sheet {sheet_name}: {total_light_consumption}\")\n",
    "            # Append the total sum for this sheet to the list\n",
    "            light_consumption_values.append(total_light_consumption)\n",
    "        else:\n",
    "            # Skip sheets without 'Total site light consumption' columns\n",
    "            print(f\"'Total site light consumption' not found in sheet {sheet_name}. Excluding this house.\")\n",
    "    else:\n",
    "        print(f\"Sheet {sheet_name} not found in the Excel file or is excluded.\")\n",
    "\n",
    "# Calculate mean, median, and mode\n",
    "mean_light_consumption = pd.Series(light_consumption_values).mean()\n",
    "median_light_consumption = pd.Series(light_consumption_values).median()\n",
    "mode_light_consumption = pd.Series(light_consumption_values).mode()\n",
    "\n",
    "# Print the results\n",
    "print(f\"Mean (Arithmetic Average) Light Consumption: {mean_light_consumption} kWh\")\n",
    "print(f\"Median Light Consumption: {median_light_consumption} kWh\")\n",
    "print(f\"Mode Light Consumption: {mode_light_consumption.values} kWh\")\n"
   ]
  },
  {
   "cell_type": "markdown",
   "metadata": {},
   "source": [
    "this calcultes total consumption for each appliances and then average for one year "
   ]
  },
  {
   "cell_type": "code",
   "execution_count": 3,
   "metadata": {},
   "outputs": [
    {
     "name": "stdout",
     "output_type": "stream",
     "text": [
      "Sum for '['Site consumption ()']' in sheet 2000900: 5433.955\n",
      "Sum for '['Site consumption ()']' in sheet 2000901: 4661.35\n",
      "Sheet 2000902 not found in the Excel file or is excluded.\n",
      "Sum for '['Site consumption ()']' in sheet 2000903: 4408.269\n",
      "Sum for '['Site consumption ()']' in sheet 2000904: 10185.746\n",
      "Sum for '['Site consumption ()']' in sheet 2000905: 2644.347\n",
      "Sum for '['Site consumption ()']' in sheet 2000906: 3356.984\n",
      "Sum for '['Site consumption ()']' in sheet 2000907: 6148.312\n",
      "Sum for '['Site consumption ()']' in sheet 2000908: 3480.698\n",
      "Sum for '['Site consumption ()']' in sheet 2000909: 9416.947\n",
      "Sum for '['Site consumption ()']' in sheet 2000910: 2289.067\n",
      "Sum for '['Site consumption ()']' in sheet 2000911: 1743.784\n",
      "Sum for '['Site consumption ()']' in sheet 2000912: 7715.054\n",
      "Sum for '['Site consumption ()']' in sheet 2000913: 2739.13\n",
      "Sum for '['Site consumption ()']' in sheet 2000914: 13151.874\n",
      "Sum for '['Site consumption ()']' in sheet 2000915: 12067.459\n",
      "Sum for '['Site consumption ()']' in sheet 2000916: 3260.412\n",
      "Sum for '['Site consumption ()']' in sheet 2000917: 3398.101\n",
      "Sum for '['Site consumption ()']' in sheet 2000918: 1821.784\n",
      "Sheet 2000919 not found in the Excel file or is excluded.\n",
      "Sheet 2000920 not found in the Excel file or is excluded.\n",
      "Sum for '['Site consumption ()']' in sheet 2000921: 8081.341\n",
      "Sum for '['Site consumption ()']' in sheet 2000922: 2992.618\n",
      "Sum for '['Site consumption ()']' in sheet 2000923: 2055.771\n",
      "Sheet 2000924 not found in the Excel file or is excluded.\n",
      "Sum for '['Site consumption ()']' in sheet 2000925: 3409.214\n",
      "Sum for '['Site consumption ()']' in sheet 2000926: 5003.568\n",
      "Sum for '['Site consumption ()']' in sheet 2000927: 4378.215\n",
      "Sum for '['Site consumption ()']' in sheet 2000928: 9234.631\n",
      "Sum for '['Site consumption ()']' in sheet 2000929: 2161.937\n",
      "Sum for '['Site consumption ()']' in sheet 2000930: 6194.527\n",
      "Sum for '['Site consumption ()']' in sheet 2000931: 4176.841\n",
      "Sum for '['Site consumption ()']' in sheet 2000932: 2744.192\n",
      "Sheet 2000933 not found in the Excel file or is excluded.\n",
      "Sum for '['Site consumption ()']' in sheet 2000934: 11938.424\n",
      "Sum for '['Site consumption ()']' in sheet 2000935: 2453.96\n",
      "Sum for '['Site consumption ()']' in sheet 2000936: 5567.328\n",
      "Sheet 2000937 not found in the Excel file or is excluded.\n",
      "Sum for '['Site consumption ()']' in sheet 2000938: 14115.087\n",
      "Sum for '['Site consumption ()']' in sheet 2000939: 4764.709\n",
      "Sum for '['Site consumption ()']' in sheet 2000940: 6743.198\n",
      "Sum for '['Site consumption ()']' in sheet 2000941: 2955.401\n",
      "Sum for '['Site consumption ()']' in sheet 2000942: 3360.559\n",
      "Sum for '['Site consumption ()']' in sheet 2000943: 3787.707\n",
      "Sum for '['Site consumption ()']' in sheet 2000944: 13273.114\n",
      "Sum for '['Site consumption ()']' in sheet 2000945: 10088.333\n",
      "Sum for '['Site consumption ()']' in sheet 2000946: 2595.789\n",
      "Sum for '['Site consumption ()']' in sheet 2000947: 8138.546\n",
      "Sum for '['Site consumption ()']' in sheet 2000948: 11091.206\n",
      "Sum for '['Site consumption ()']' in sheet 2000949: 4012.132\n",
      "Sum for '['Site consumption ()']' in sheet 2000950: 11687.4\n",
      "Sum for '['Site consumption ()']' in sheet 2000951: 6187.993\n",
      "Sum for '['Site consumption ()']' in sheet 2000952: 5682.121\n",
      "Sum for '['Site consumption ()']' in sheet 2000953: 14698.261\n",
      "Sum for '['Site consumption ()']' in sheet 2000954: 17123.52\n",
      "Sum for '['Site consumption ()']' in sheet 2000955: 6043.037\n",
      "Sum for '['Site consumption ()']' in sheet 2000956: 3488.753\n",
      "Sum for '['Site consumption ()']' in sheet 2000957: 2509.275\n",
      "Sum for '['Site consumption ()']' in sheet 2000958: 1941.833\n",
      "Sum for '['Site consumption ()']' in sheet 2000959: 8733.522\n",
      "Sum for '['Site consumption ( )']' in sheet 2000960: 4242.704\n",
      "Sum for '['Site consumption ()']' in sheet 2000961: 5417.75\n",
      "Sum for '['Site consumption ()']' in sheet 2000962: 9177.521\n",
      "Sum for '['Site consumption ()']' in sheet 2000963: 3107.273\n",
      "Sum for '['Site consumption ()']' in sheet 2000964: 4969.766\n",
      "Sum for '['Site consumption ()']' in sheet 2000965: 5326.945\n",
      "Sum for '['Site consumption ()']' in sheet 2000966: 4332.815\n",
      "Sum for '['Site consumption ()']' in sheet 2000967: 9535.769\n",
      "Sum for '['Site consumption ()']' in sheet 2000968: 3104.098\n",
      "Sum for '['Site consumption ()']' in sheet 2000969: 9482.164\n",
      "Sum for '['Site consumption ()']' in sheet 2000970: 3569.341\n",
      "Sum for '['Site consumption ()']' in sheet 2000971: 10382.544\n",
      "Sum for '['Site consumption ()']' in sheet 2000972: 2764.521\n",
      "Sum for '['Site consumption ()']' in sheet 2000973: 3484.451\n",
      "Sum for '['Site consumption ()']' in sheet 2000974: 7056.712\n",
      "Sum for '['Site consumption ()']' in sheet 2000975: 4371.705\n",
      "Sum for '['Site consumption ()']' in sheet 2000976: 3028.419\n",
      "Sheet 2000977 not found in the Excel file or is excluded.\n",
      "Sum for '['Site consumption ()']' in sheet 2000978: 8289.785\n",
      "Sum for '['Site consumption ()']' in sheet 2000979: 2884.031\n",
      "Sum for '['Site consumption ()']' in sheet 2000980: 6101.826\n",
      "Sum for '['Site consumption ()']' in sheet 2000981: 5200.652\n",
      "Sum for '['Site consumption ()']' in sheet 2000982: 8424.373\n",
      "Sum for '['Site consumption ()']' in sheet 2000983: 4054.982\n",
      "Sum for '['Site consumption ()']' in sheet 2000984: 4085.647\n",
      "Sum for '['Site consumption ()']' in sheet 2000985: 3302.312\n",
      "Sum for '['Site consumption ()']' in sheet 2000986: 2266.623\n",
      "Sum for '['Site consumption ()']' in sheet 2000987: 10002.391\n",
      "Sum for '['Site consumption ()']' in sheet 2000988: 3653.331\n",
      "Sum for '['Site consumption (Garage, 200l)']' in sheet 2000989: 5654.372\n",
      "Sum for '['Site consumption ()']' in sheet 2000990: 5384.846\n",
      "Sum for '['Site consumption ()']' in sheet 2000991: 4520.472\n",
      "Sum for '['Site consumption ()']' in sheet 2000992: 3315.212\n",
      "Sum for '['Site consumption ()']' in sheet 2000993: 635.496\n",
      "Sum for '['Site consumption ()']' in sheet 2000994: 1505.839\n",
      "Sum for '['Site consumption ()']' in sheet 2000995: 4005.725\n",
      "Sum for '['Site consumption ()']' in sheet 2000996: 3879.198\n",
      "Sum for '['Site consumption ()']' in sheet 2000997: 4799.713\n",
      "Mean (Arithmetic Average) Consumption: 5677.567692307693 kWh\n",
      "Median Consumption: 4408.269 kWh\n",
      "Mode Consumption: [  635.496  1505.839  1743.784  1821.784  1941.833  2055.771  2161.937\n",
      "  2266.623  2289.067  2453.96   2509.275  2595.789  2644.347  2739.13\n",
      "  2744.192  2764.521  2884.031  2955.401  2992.618  3028.419  3104.098\n",
      "  3107.273  3260.412  3302.312  3315.212  3356.984  3360.559  3398.101\n",
      "  3409.214  3480.698  3484.451  3488.753  3569.341  3653.331  3787.707\n",
      "  3879.198  4005.725  4012.132  4054.982  4085.647  4176.841  4242.704\n",
      "  4332.815  4371.705  4378.215  4408.269  4520.472  4661.35   4764.709\n",
      "  4799.713  4969.766  5003.568  5200.652  5326.945  5384.846  5417.75\n",
      "  5433.955  5567.328  5654.372  5682.121  6043.037  6101.826  6148.312\n",
      "  6187.993  6194.527  6743.198  7056.712  7715.054  8081.341  8138.546\n",
      "  8289.785  8424.373  8733.522  9177.521  9234.631  9416.947  9482.164\n",
      "  9535.769 10002.391 10088.333 10185.746 10382.544 11091.206 11687.4\n",
      " 11938.424 12067.459 13151.874 13273.114 14115.087 14698.261 17123.52 ] kWh\n"
     ]
    }
   ],
   "source": [
    "import pandas as pd\n",
    "from scipy import stats\n",
    "\n",
    "# Load the Excel file\n",
    "main_data_path = r'D:\\Grenoble_university\\6_month_internship\\working space\\data\\combined_1_year_data_with_flexibility.xlsx'\n",
    "Read_file = pd.ExcelFile(main_data_path)\n",
    "\n",
    "# Define the range of sheet numbers\n",
    "start_sheet_number = 2000900\n",
    "end_sheet_number = 2000997\n",
    "\n",
    "# List of houses to be excluded\n",
    "excluded_houses = {'2000902', '2000920', '2000919', '2000924', '2000933', '2000937', '2000977'}\n",
    "\n",
    "# Initialize list to store total consumption values for each sheet\n",
    "total_consumption_values = []\n",
    "\n",
    "# Iterate through the sheet numbers\n",
    "for sheet_number in range(start_sheet_number, end_sheet_number + 1):\n",
    "    sheet_name = str(sheet_number)\n",
    "    if sheet_name in Read_file.sheet_names and sheet_name not in excluded_houses:\n",
    "        # Read the sheet into a DataFrame\n",
    "        df_2 = Read_file.parse(sheet_name)\n",
    "        \n",
    "        # Check for columns that start with 'Site consumption ('\n",
    "        site_consumption_columns = [col for col in df_2.columns if col.startswith('Site consumption (')]\n",
    "        \n",
    "        if site_consumption_columns:\n",
    "            # Assuming you want to sum up all columns that start with 'Site consumption ('\n",
    "            total_site_consumption = 0\n",
    "            for col in site_consumption_columns:\n",
    "                df_2[col] = pd.to_numeric(df_2[col], errors='coerce')\n",
    "                total_site_consumption += df_2[col].sum() / 1000\n",
    "            print(f\"Sum for '{site_consumption_columns}' in sheet {sheet_name}: {total_site_consumption}\")\n",
    "            # Append the total sum for this sheet to the list\n",
    "            total_consumption_values.append(total_site_consumption)\n",
    "        else:\n",
    "            # Sum up all numeric columns except 'Weekday' and 'date'\n",
    "            df_numeric = df_2.drop(columns=['Weekday', 'date'], errors='ignore')\n",
    "            sum_for_devices = df_numeric.apply(pd.to_numeric, errors='coerce').sum().sum() / 1000\n",
    "            print(f\"'Site consumption (' not found in sheet {sheet_name}. Sum for all devices: {sum_for_devices}\")\n",
    "            # Append the total sum for this sheet to the list\n",
    "            total_consumption_values.append(sum_for_devices)\n",
    "    else:\n",
    "        print(f\"Sheet {sheet_name} not found in the Excel file or is excluded.\")\n",
    "\n",
    "# Calculate mean, median, and mode\n",
    "mean_consumption = pd.Series(total_consumption_values).mean()\n",
    "median_consumption = pd.Series(total_consumption_values).median()\n",
    "mode_consumption = pd.Series(total_consumption_values).mode()\n",
    "\n",
    "# Print the results\n",
    "print(f\"Mean (Arithmetic Average) Consumption: {mean_consumption} kWh\")\n",
    "print(f\"Median Consumption: {median_consumption} kWh\")\n",
    "print(f\"Mode Consumption: {mode_consumption.values} kWh\")\n"
   ]
  },
  {
   "cell_type": "code",
   "execution_count": 180,
   "metadata": {},
   "outputs": [
    {
     "name": "stdout",
     "output_type": "stream",
     "text": [
      "Sum for '['Site consumption ()']' in sheet 2000900: 5433.955\n",
      "Sum for '['Site consumption ()']' in sheet 2000901: 4661.35\n",
      "Sum for '['Site consumption ()']' in sheet 2000902: 1929.643\n",
      "Sum for '['Site consumption ()']' in sheet 2000903: 4408.269\n",
      "Sum for '['Site consumption ()']' in sheet 2000904: 10185.746\n",
      "Sum for '['Site consumption ()']' in sheet 2000905: 2644.347\n",
      "Sum for '['Site consumption ()']' in sheet 2000906: 3356.984\n",
      "Sum for '['Site consumption ()']' in sheet 2000907: 6148.312\n",
      "Sum for '['Site consumption ()']' in sheet 2000908: 3480.698\n",
      "Sum for '['Site consumption ()']' in sheet 2000909: 9416.947\n",
      "Sum for '['Site consumption ()']' in sheet 2000910: 2289.067\n",
      "Sum for '['Site consumption ()']' in sheet 2000911: 1743.784\n",
      "Sum for '['Site consumption ()']' in sheet 2000912: 7715.054\n",
      "Sum for '['Site consumption ()']' in sheet 2000913: 2739.13\n",
      "Sum for '['Site consumption ()']' in sheet 2000914: 13151.874\n",
      "Sum for '['Site consumption ()']' in sheet 2000915: 12067.459\n",
      "Sum for '['Site consumption ()']' in sheet 2000916: 3260.412\n",
      "Sum for '['Site consumption ()']' in sheet 2000917: 3398.101\n",
      "Sum for '['Site consumption ()']' in sheet 2000918: 1821.784\n",
      "Sum for '['Site consumption ()']' in sheet 2000919: 736.093\n",
      "Sum for '['Site consumption ()']' in sheet 2000920: 686.803\n",
      "Sum for '['Site consumption ()']' in sheet 2000921: 8081.341\n",
      "Sum for '['Site consumption ()']' in sheet 2000922: 2992.618\n",
      "Sum for '['Site consumption ()']' in sheet 2000923: 2055.771\n",
      "Sum for '['Site consumption ()']' in sheet 2000924: 1405.752\n",
      "Sum for '['Site consumption ()']' in sheet 2000925: 3409.214\n",
      "Sum for '['Site consumption ()']' in sheet 2000926: 5003.568\n",
      "Sum for '['Site consumption ()']' in sheet 2000927: 4378.215\n",
      "Sum for '['Site consumption ()']' in sheet 2000928: 9234.631\n",
      "Sum for '['Site consumption ()']' in sheet 2000929: 2161.937\n",
      "Sum for '['Site consumption ()']' in sheet 2000930: 6194.527\n",
      "Sum for '['Site consumption ()']' in sheet 2000931: 4176.841\n",
      "Sum for '['Site consumption ()']' in sheet 2000932: 2744.192\n",
      "'Site consumption (' not found in sheet 2000933. Sum for all devices: 1075.988\n",
      "Sum for '['Site consumption ()']' in sheet 2000934: 11938.424\n",
      "Sum for '['Site consumption ()']' in sheet 2000935: 2453.96\n",
      "Sum for '['Site consumption ()']' in sheet 2000936: 5567.328\n",
      "'Site consumption (' not found in sheet 2000937. Sum for all devices: 1456.181\n",
      "Sum for '['Site consumption ()']' in sheet 2000938: 14115.087\n",
      "Sum for '['Site consumption ()']' in sheet 2000939: 4764.709\n",
      "Sum for '['Site consumption ()']' in sheet 2000940: 6743.198\n",
      "Sum for '['Site consumption ()']' in sheet 2000941: 2955.401\n",
      "Sum for '['Site consumption ()']' in sheet 2000942: 3360.559\n",
      "Sum for '['Site consumption ()']' in sheet 2000943: 3787.707\n",
      "Sum for '['Site consumption ()']' in sheet 2000944: 13273.114\n",
      "Sum for '['Site consumption ()']' in sheet 2000945: 10088.333\n",
      "Sum for '['Site consumption ()']' in sheet 2000946: 2595.789\n",
      "Sum for '['Site consumption ()']' in sheet 2000947: 8138.546\n",
      "Sum for '['Site consumption ()']' in sheet 2000948: 11091.206\n",
      "Sum for '['Site consumption ()']' in sheet 2000949: 4012.132\n",
      "Sum for '['Site consumption ()']' in sheet 2000950: 11687.4\n",
      "Sum for '['Site consumption ()']' in sheet 2000951: 6187.993\n",
      "Sum for '['Site consumption ()']' in sheet 2000952: 5682.121\n",
      "Sum for '['Site consumption ()']' in sheet 2000953: 14698.261\n",
      "Sum for '['Site consumption ()']' in sheet 2000954: 17123.52\n",
      "Sum for '['Site consumption ()']' in sheet 2000955: 6043.037\n",
      "Sum for '['Site consumption ()']' in sheet 2000956: 3488.753\n",
      "Sum for '['Site consumption ()']' in sheet 2000957: 2509.275\n",
      "Sum for '['Site consumption ()']' in sheet 2000958: 1941.833\n",
      "Sum for '['Site consumption ()']' in sheet 2000959: 8733.522\n",
      "Sum for '['Site consumption ( )']' in sheet 2000960: 4242.704\n",
      "Sum for '['Site consumption ()']' in sheet 2000961: 5417.75\n",
      "Sum for '['Site consumption ()']' in sheet 2000962: 9177.521\n",
      "Sum for '['Site consumption ()']' in sheet 2000963: 3107.273\n",
      "Sum for '['Site consumption ()']' in sheet 2000964: 4969.766\n",
      "Sum for '['Site consumption ()']' in sheet 2000965: 5326.945\n",
      "Sum for '['Site consumption ()']' in sheet 2000966: 4332.815\n",
      "Sum for '['Site consumption ()']' in sheet 2000967: 9535.769\n",
      "Sum for '['Site consumption ()']' in sheet 2000968: 3104.098\n",
      "Sum for '['Site consumption ()']' in sheet 2000969: 9482.164\n",
      "Sum for '['Site consumption ()']' in sheet 2000970: 3569.341\n",
      "Sum for '['Site consumption ()']' in sheet 2000971: 10382.544\n",
      "Sum for '['Site consumption ()']' in sheet 2000972: 2764.521\n",
      "Sum for '['Site consumption ()']' in sheet 2000973: 3484.451\n",
      "Sum for '['Site consumption ()']' in sheet 2000974: 7056.712\n",
      "Sum for '['Site consumption ()']' in sheet 2000975: 4371.705\n",
      "Sum for '['Site consumption ()']' in sheet 2000976: 3028.419\n",
      "'Site consumption (' not found in sheet 2000977. Sum for all devices: 4652.19\n",
      "Sum for '['Site consumption ()']' in sheet 2000978: 8289.785\n",
      "Sum for '['Site consumption ()']' in sheet 2000979: 2884.031\n",
      "Sum for '['Site consumption ()']' in sheet 2000980: 6101.826\n",
      "Sum for '['Site consumption ()']' in sheet 2000981: 5200.652\n",
      "Sum for '['Site consumption ()']' in sheet 2000982: 8424.373\n",
      "Sum for '['Site consumption ()']' in sheet 2000983: 4054.982\n",
      "Sum for '['Site consumption ()']' in sheet 2000984: 4085.647\n",
      "Sum for '['Site consumption ()']' in sheet 2000985: 3302.312\n",
      "Sum for '['Site consumption ()']' in sheet 2000986: 2266.623\n",
      "Sum for '['Site consumption ()']' in sheet 2000987: 10002.391\n",
      "Sum for '['Site consumption ()']' in sheet 2000988: 3653.331\n",
      "Sum for '['Site consumption (Garage, 200l)']' in sheet 2000989: 5654.372\n",
      "Sum for '['Site consumption ()']' in sheet 2000990: 5384.846\n",
      "Sum for '['Site consumption ()']' in sheet 2000991: 4520.472\n",
      "Sum for '['Site consumption ()']' in sheet 2000992: 3315.212\n",
      "Sum for '['Site consumption ()']' in sheet 2000993: 635.496\n",
      "Sum for '['Site consumption ()']' in sheet 2000994: 1505.839\n",
      "Sum for '['Site consumption ()']' in sheet 2000995: 4005.725\n",
      "Sum for '['Site consumption ()']' in sheet 2000996: 3879.198\n",
      "Sum for '['Site consumption ()']' in sheet 2000997: 4799.713\n"
     ]
    }
   ],
   "source": [
    "import pandas as pd\n",
    "\n",
    "# Load the Excel file\n",
    "Read_file = pd.ExcelFile(main_data_path)\n",
    "\n",
    "# Define the range of sheet numbers\n",
    "start_sheet_number = 2000900\n",
    "end_sheet_number = 2000997\n",
    "\n",
    "# Initialize list to store total consumption values for each sheet\n",
    "total_consumption_values = []\n",
    "\n",
    "# Iterate through the sheet numbers\n",
    "for sheet_number in range(start_sheet_number, end_sheet_number + 1):\n",
    "    sheet_name = str(sheet_number)\n",
    "    if sheet_name in Read_file.sheet_names:\n",
    "        # Read the sheet into a DataFrame\n",
    "        df_2 = Read_file.parse(sheet_name)\n",
    "        \n",
    "        # Check for columns that start with 'Site consumption ('\n",
    "        site_consumption_columns = [col for col in df_2.columns if col.startswith('Site consumption (')]\n",
    "        \n",
    "        if site_consumption_columns:\n",
    "            # Assuming you want to sum up all columns that start with 'Site consumption ('\n",
    "            total_site_consumption = 0\n",
    "            for col in site_consumption_columns:\n",
    "                df_2[col] = pd.to_numeric(df_2[col], errors='coerce')\n",
    "                total_site_consumption += df_2[col].sum()/1000\n",
    "            print(f\"Sum for '{site_consumption_columns}' in sheet {sheet_name}: {total_site_consumption}\")\n",
    "            # Append the total sum for this sheet to the list\n",
    "            total_consumption_values.append(total_site_consumption)\n",
    "        else:\n",
    "            # Sum up all numeric columns except 'Weekday' and 'date'\n",
    "            df_numeric = df_2.drop(columns=['Weekday', 'date'], errors='ignore')\n",
    "            sum_for_devices = df_numeric.apply(pd.to_numeric, errors='coerce').sum().sum()/1000\n",
    "            print(f\"'Site consumption (' not found in sheet {sheet_name}. Sum for all devices: {sum_for_devices}\")\n",
    "            # Append the total sum for this sheet to the list\n",
    "            total_consumption_values.append(sum_for_devices)\n",
    "    else:\n",
    "        print(f\"Sheet {sheet_name} not found in the Excel file.\")\n",
    "\n",
    "\n"
   ]
  },
  {
   "cell_type": "code",
   "execution_count": 2,
   "metadata": {},
   "outputs": [
    {
     "name": "stdout",
     "output_type": "stream",
     "text": [
      "Median of 'Total consumption': 4408.269\n",
      "Arithmetic Mean (Average) of 'Total consumption': 5677.567692307693\n",
      "Nominal Average of 'Total consumption': 5677.567692307693\n"
     ]
    }
   ],
   "source": [
    "# Ensure total_consumption_values has been populated before proceeding\n",
    "if total_consumption_values:\n",
    "    # Convert list to DataFrame for easy calculation\n",
    "    total_consumption_df = pd.DataFrame(total_consumption_values, columns=['Total consumption'])\n",
    "\n",
    "    # Calculate median\n",
    "    median_value = total_consumption_df['Total consumption'].median()\n",
    "\n",
    "    # Calculate mean (arithmetic average)\n",
    "    arithmetic_mean = total_consumption_df['Total consumption'].mean()\n",
    "\n",
    "    # Calculate nominal average\n",
    "    nominal_average = total_consumption_df['Total consumption'].sum() / len(total_consumption_df)\n",
    "\n",
    "    print(f\"Median of 'Total consumption': {median_value}\")\n",
    "    print(f\"Arithmetic Mean (Average) of 'Total consumption': {arithmetic_mean}\")\n",
    "    print(f\"Nominal Average of 'Total consumption': {nominal_average}\")\n",
    "else:\n",
    "    print(\"No 'Total consumption' data found in the specified sheets.\")\n"
   ]
  },
  {
   "cell_type": "code",
   "execution_count": 182,
   "metadata": {},
   "outputs": [
    {
     "name": "stdout",
     "output_type": "stream",
     "text": [
      "Total consumption of all houses = 528601.31\n"
     ]
    }
   ],
   "source": [
    "total_consumption_df = total_consumption_df.sum().sum()\n",
    "print('Total consumption of all houses =', total_consumption_df)"
   ]
  },
  {
   "cell_type": "markdown",
   "metadata": {},
   "source": [
    "## Filtering flexible consumption by peak hours versus total flexible consumption for the year for each home."
   ]
  },
  {
   "cell_type": "code",
   "execution_count": 183,
   "metadata": {},
   "outputs": [
    {
     "name": "stdout",
     "output_type": "stream",
     "text": [
      "\n",
      "==================================================\n",
      "Morning peak sum for flexible devices (08:00:00 - 10:00:00). House ID - 2000900:\n",
      "Power supply for wood boiler ()      32.8\n",
      "Washing machine ()                 13.222\n",
      "Water heater ()                    210.55\n",
      "dtype: object\n",
      "\n",
      "- - - - - - - - - - - - - - - - - - - - - - - - - \n",
      "Evening peak sum for flexible devices (18:00:00 - 22:00:00). House ID - 2000900:\n",
      "Power supply for wood boiler ()     60.808\n",
      "Washing machine ()                   8.803\n",
      "Water heater ()                    405.628\n",
      "dtype: object\n",
      "\n",
      "__________________________________________________\n",
      "morning flexible energy peak sum for a year 2000900 = 256.572 kwh per year\n",
      "evening flexible energy peak sum for a year 2000900 = 475.239 kwh per year\n",
      "Total flex_energy peak for a year 2000900 = 731.8109999999999 kwh\n",
      "Total site consumption sum for 2000900 = 5433.955 kwh per year\n",
      "Potential of flexibility for 2000900 = 13.467373211592658 %\n",
      "==================================================\n",
      "\n",
      "\n",
      "==================================================\n",
      "Morning peak sum for flexible devices (08:00:00 - 10:00:00). House ID - 2000901:\n",
      "Clothes drier (without condenser) (3,2kW)    201.952\n",
      "Dish washer (12 place setting)                64.522\n",
      "Microwave oven (1,25kW)                       19.107\n",
      "TV (67cm)                                     22.513\n",
      "Washing machine (4,5kg, 2,2kW)                175.34\n",
      "dtype: object\n",
      "\n",
      "- - - - - - - - - - - - - - - - - - - - - - - - - \n",
      "Evening peak sum for flexible devices (18:00:00 - 22:00:00). House ID - 2000901:\n",
      "Clothes drier (without condenser) (3,2kW)     56.751\n",
      "Dish washer (12 place setting)               191.359\n",
      "Microwave oven (1,25kW)                       13.396\n",
      "TV (67cm)                                     85.389\n",
      "Washing machine (4,5kg, 2,2kW)                 1.733\n",
      "dtype: object\n",
      "\n",
      "__________________________________________________\n",
      "morning flexible energy peak sum for a year 2000901 = 483.43399999999997 kwh per year\n",
      "evening flexible energy peak sum for a year 2000901 = 348.62800000000004 kwh per year\n",
      "Total flex_energy peak for a year 2000901 = 832.062 kwh\n",
      "Total site consumption sum for 2000901 = 4661.35 kwh per year\n",
      "Potential of flexibility for 2000901 = 17.850236519463245 %\n",
      "==================================================\n",
      "\n",
      "\n",
      "==================================================\n",
      "Morning peak sum for flexible devices (08:00:00 - 10:00:00). House ID - 2000933:\n",
      "Dish washer (12 place setting)          1.223\n",
      "Electric Cooker (hot plate+oven) ()     0.036\n",
      "Microwave oven (0,75kW)                30.592\n",
      "TV (51cm)                               2.276\n",
      "Washing machine ()                      7.115\n",
      "dtype: object\n",
      "\n",
      "- - - - - - - - - - - - - - - - - - - - - - - - - \n",
      "Evening peak sum for flexible devices (18:00:00 - 22:00:00). House ID - 2000933:\n",
      "Dish washer (12 place setting)         76.035\n",
      "Electric Cooker (hot plate+oven) ()    81.199\n",
      "Microwave oven (0,75kW)                 2.611\n",
      "TV (51cm)                              60.328\n",
      "Washing machine ()                      6.832\n",
      "dtype: object\n",
      "\n",
      "__________________________________________________\n",
      "morning flexible energy peak sum for a year 2000933 = 41.242 kwh per year\n",
      "evening flexible energy peak sum for a year 2000933 = 227.00499999999997 kwh per year\n",
      "Total flex_energy peak for a year 2000933 = 268.24699999999996 kwh\n",
      "Total site consumption sum for 2000933 = 1075.988 kwh per year\n",
      "Potential of flexibility for 2000933 = 24.930296620408402 %\n",
      "==================================================\n",
      "\n",
      "\n",
      "==================================================\n",
      "Morning peak sum for flexible devices (08:00:00 - 10:00:00). House ID - 2000937:\n",
      "Dish washer (12 place setting)    44.152\n",
      "Electric oven ()                  22.197\n",
      "Microwave oven ()                  1.215\n",
      "TV ()                              2.851\n",
      "TV ().1                            4.119\n",
      "TV ().2                            7.974\n",
      "Washing machine ()                28.382\n",
      "dtype: object\n",
      "\n",
      "- - - - - - - - - - - - - - - - - - - - - - - - - \n",
      "Evening peak sum for flexible devices (18:00:00 - 22:00:00). House ID - 2000937:\n",
      "Dish washer (12 place setting)    82.375\n",
      "Electric oven ()                  43.402\n",
      "Microwave oven ()                  4.009\n",
      "TV ()                             27.181\n",
      "TV ().1                           16.114\n",
      "TV ().2                            57.64\n",
      "Washing machine ()                43.029\n",
      "dtype: object\n",
      "\n",
      "__________________________________________________\n",
      "morning flexible energy peak sum for a year 2000937 = 110.89000000000001 kwh per year\n",
      "evening flexible energy peak sum for a year 2000937 = 273.75 kwh per year\n",
      "Total flex_energy peak for a year 2000937 = 384.64 kwh\n",
      "Total site consumption sum for 2000937 = 1456.181 kwh per year\n",
      "Potential of flexibility for 2000937 = 26.414298771924642 %\n",
      "==================================================\n",
      "\n"
     ]
    }
   ],
   "source": [
    "import pandas as pd\n",
    "\n",
    "def calculate_flexibility_metrics(sheet_name, main_data_path):\n",
    "    # Read the specific sheet from the Excel file\n",
    "    data = pd.read_excel(main_data_path, sheet_name=sheet_name)\n",
    "    \n",
    "    # Filter rows to include only flexible devices (assuming the second row indicates 'flexible')\n",
    "    flexibility_row = data.iloc[0] == 'flexible'\n",
    "    flexible_devices_data = data.loc[:, flexibility_row]\n",
    "\n",
    "    # Convert 'date' column to datetime format\n",
    "    data['date'] = pd.to_datetime(data['date'])\n",
    "\n",
    "    # Define the time range for calculation (8 am - 10 am and 6 pm - 10 pm)\n",
    "    start_time_morning = pd.Timestamp('08:00:00').time()\n",
    "    end_time_morning = pd.Timestamp('10:00:00').time()\n",
    "    start_time_evening = pd.Timestamp('18:00:00').time()\n",
    "    end_time_evening = pd.Timestamp('22:00:00').time()\n",
    "\n",
    "    # Filter rows based on time range and calculate sum\n",
    "    morning_peak_sum = flexible_devices_data[\n",
    "        (data['date'].dt.time >= start_time_morning) & \n",
    "        (data['date'].dt.time <= end_time_morning)\n",
    "    ].sum()/1000\n",
    "\n",
    "    evening_peak_sum = flexible_devices_data[\n",
    "        (data['date'].dt.time >= start_time_evening) & \n",
    "        (data['date'].dt.time <= end_time_evening)\n",
    "    ].sum()/1000\n",
    "\n",
    "    # Print results with separators\n",
    "    print(\"\\n\" + \"=\"*50)\n",
    "    print(f\"Morning peak sum for flexible devices ({start_time_morning} - {end_time_morning}). House ID - {sheet_name}:\")\n",
    "    print(morning_peak_sum)\n",
    "    print(\"\\n\" + \"- \"*25)\n",
    "    print(f\"Evening peak sum for flexible devices ({start_time_evening} - {end_time_evening}). House ID - {sheet_name}:\")\n",
    "    print(evening_peak_sum)\n",
    "\n",
    "    # Calculate peak values\n",
    "    morning_peak = morning_peak_sum.sum()\n",
    "    print(f\"\\n\" + \"_\"*50)\n",
    "    print(f'morning flexible energy peak sum for a year {sheet_name} =', morning_peak, \"kwh per year\")\n",
    "\n",
    "    evening_peak = evening_peak_sum.sum()\n",
    "    print(f'evening flexible energy peak sum for a year {sheet_name} =', evening_peak, \"kwh per year\")\n",
    "\n",
    "    flex_peak = evening_peak + morning_peak\n",
    "    print(f'Total flex_energy peak for a year {sheet_name} =', flex_peak, \"kwh\")\n",
    "\n",
    "    # Assuming Site_consumption_sum is available somewhere in your data\n",
    "    # Here, we just sum all the Site consumption columns if they exist\n",
    "    site_consumption_columns = [col for col in data.columns if col.startswith('Site consumption (')]\n",
    "    Site_consumption_sum = 0\n",
    "    if site_consumption_columns:\n",
    "        for col in site_consumption_columns:\n",
    "            data[col] = pd.to_numeric(data[col], errors='coerce')\n",
    "            Site_consumption_sum += data[col].sum()/1000\n",
    "    else: \n",
    "\n",
    "        all_devices_data = data.drop(columns=['date']) \n",
    "        all_devices_data = all_devices_data.apply(pd.to_numeric, errors='coerce').fillna(0)\n",
    "        Site_consumption_sum=all_devices_data.sum().sum()/1000\n",
    "     \n",
    "    print(f'Total site consumption sum for {sheet_name} =', Site_consumption_sum, \"kwh per year\")\n",
    "\n",
    "    potential = flex_peak / Site_consumption_sum if Site_consumption_sum else 0\n",
    "    print(f'Potential of flexibility for {sheet_name} =', potential * 100, \"%\")\n",
    "    print(\"=\"*50 + \"\\n\")\n",
    "\n",
    "    return {\n",
    "        \"morning_peak\": morning_peak,\n",
    "        \"evening_peak\": evening_peak,\n",
    "        \"flex_peak\": flex_peak,\n",
    "        \"Site_consumption_sum\": Site_consumption_sum,\n",
    "        \"potential\": potential\n",
    "    }\n",
    "\n",
    "# Example of calling the function for a specific sheet\n",
    "\n",
    "result_2000900 = calculate_flexibility_metrics('2000900', main_data_path)\n",
    "# print(result_2000900)  # Removed the print statement for the result dictionary\n",
    "\n",
    "# You can call this function for any specific sheet you want\n",
    "result_2000901 = calculate_flexibility_metrics('2000901', main_data_path)\n",
    "# print(result_2000901)  # Removed the print statement for the result dictionary\n",
    "result_2000933 = calculate_flexibility_metrics('2000933', main_data_path)\n",
    "result_2000937 = calculate_flexibility_metrics('2000937', main_data_path)\n",
    "# And so on for other sheets...\n"
   ]
  },
  {
   "cell_type": "markdown",
   "metadata": {},
   "source": [
    "# total flexible consumption for the year for each home."
   ]
  },
  {
   "cell_type": "code",
   "execution_count": 184,
   "metadata": {},
   "outputs": [
    {
     "name": "stdout",
     "output_type": "stream",
     "text": [
      "\n",
      "==================================================\n",
      "Energy sum during a year (00:00:00 - 23:59:59) for House 2000900:\n",
      "Power supply for wood boiler ()     353.043\n",
      "Washing machine ()                   98.919\n",
      "Water heater ()                    1831.683\n",
      "dtype: object\n",
      "\n",
      "__________________________________________________\n",
      "full day flexible energy for a year 2000900 = 2283.645 kwh per year\n",
      "Site consumption sum for 2000900 = 5433.955\n",
      "Potential of 2000900 = 0.4202546763821195\n",
      "==================================================\n",
      "\n",
      "**************************************************\n",
      "\n",
      "==================================================\n",
      "Energy sum during a year (00:00:00 - 23:59:59) for House 2000901:\n",
      "Clothes drier (without condenser) (3,2kW)    721.023\n",
      "Dish washer (12 place setting)               516.249\n",
      "Microwave oven (1,25kW)                        77.06\n",
      "TV (67cm)                                    231.908\n",
      "Washing machine (4,5kg, 2,2kW)               335.183\n",
      "dtype: object\n",
      "\n",
      "__________________________________________________\n",
      "full day flexible energy for a year 2000901 = 1881.4229999999998 kwh per year\n",
      "Site consumption sum for 2000901 = 4661.35\n",
      "Potential of 2000901 = 0.40362191210700754\n",
      "==================================================\n",
      "\n",
      "**************************************************\n",
      "\n",
      "==================================================\n",
      "Energy sum during a year (00:00:00 - 23:59:59) for House 2000933:\n",
      "Dish washer (12 place setting)         133.657\n",
      "Electric Cooker (hot plate+oven) ()    147.197\n",
      "Microwave oven (0,75kW)                 43.802\n",
      "TV (51cm)                               95.615\n",
      "Washing machine ()                     185.496\n",
      "dtype: object\n",
      "\n",
      "__________________________________________________\n",
      "full day flexible energy for a year 2000933 = 605.767 kwh per year\n",
      "Site consumption sum for 2000933 = 1075.988\n",
      "Potential of 2000933 = 0.562986761934148\n",
      "==================================================\n",
      "\n",
      "**************************************************\n",
      "\n",
      "==================================================\n",
      "Energy sum during a year (00:00:00 - 23:59:59) for House 2000937:\n",
      "Dish washer (12 place setting)    250.886\n",
      "Electric oven ()                  137.079\n",
      "Microwave oven ()                  17.817\n",
      "TV ()                              67.899\n",
      "TV ().1                            40.928\n",
      "TV ().2                            91.216\n",
      "Washing machine ()                206.665\n",
      "dtype: object\n",
      "\n",
      "__________________________________________________\n",
      "full day flexible energy for a year 2000937 = 812.49 kwh per year\n",
      "Site consumption sum for 2000937 = 1456.181\n",
      "Potential of 2000937 = 0.5579594844322238\n",
      "==================================================\n",
      "\n",
      "**************************************************\n"
     ]
    }
   ],
   "source": [
    "import pandas as pd\n",
    "\n",
    "def calculate_flexibility_metrics(sheet_name, main_data_path):\n",
    "    # Read the specific sheet from the Excel file\n",
    "    data = pd.read_excel(main_data_path, sheet_name=sheet_name)\n",
    "    \n",
    "    # Filter rows to include only flexible devices (assuming the second row indicates 'flexible')\n",
    "    flexibility_row = data.iloc[0] == 'flexible'\n",
    "    flexible_devices_data = data.loc[:, flexibility_row]\n",
    "\n",
    "    # Convert 'date' column to datetime format\n",
    "    data['date'] = pd.to_datetime(data['date'])\n",
    "\n",
    "    # Define the time range for calculation (full day)\n",
    "    start_time_full_day = pd.Timestamp('00:00:00').time()\n",
    "    end_time_full_day = pd.Timestamp('23:59:59').time()\n",
    "\n",
    "    # Filter rows based on the full day time range and calculate sum for flexible devices\n",
    "    full_day_sum = flexible_devices_data[\n",
    "        (data['date'].dt.time >= start_time_full_day) & \n",
    "        (data['date'].dt.time <= end_time_full_day)\n",
    "    ].sum()/1000\n",
    "\n",
    "    # Print results with separators\n",
    "    print(\"\\n\" + \"=\"*50)\n",
    "    print(f\"Energy sum during a year ({start_time_full_day} - {end_time_full_day}) for House {sheet_name}:\")\n",
    "    print(full_day_sum)\n",
    "\n",
    "    # Calculate peak values for flexible devices\n",
    "    full_day_flexible_energy = full_day_sum.sum()\n",
    "    print(f\"\\n\" + \"_\"*50)\n",
    "    print(f'full day flexible energy for a year {sheet_name} =', full_day_flexible_energy,\"kwh per year\")\n",
    "\n",
    "    # Calculate Site consumption sum\n",
    "    site_consumption_columns = [col for col in data.columns if col.startswith('Site consumption (')]\n",
    "    if site_consumption_columns:\n",
    "        # Sum all Site consumption columns if they exist\n",
    "        Site_consumption_sum = 0\n",
    "        for col in site_consumption_columns:\n",
    "            data[col] = pd.to_numeric(data[col], errors='coerce')\n",
    "            Site_consumption_sum += data[col].sum()/1000\n",
    "    else:\n",
    "        # Sum all devices' consumption if Site consumption columns do not exist\n",
    "        all_devices_data = data.drop(columns=['date'])  # Exclude the date column\n",
    "        all_devices_data = all_devices_data.apply(pd.to_numeric, errors='coerce').fillna(0)\n",
    "        Site_consumption_sum = all_devices_data.sum().sum()/1000\n",
    "    \n",
    "    print(f'Site consumption sum for {sheet_name} =', Site_consumption_sum)\n",
    "\n",
    "    potential = full_day_flexible_energy / Site_consumption_sum if Site_consumption_sum else 0\n",
    "    print(f'Potential of {sheet_name} =', potential)\n",
    "    print(\"=\"*50 + \"\\n\")\n",
    "    print(\"*\"*50)\n",
    "\n",
    "    return {\n",
    "        \"full_day_flexible_power\": full_day_flexible_energy,\n",
    "        \"Site_consumption_sum\": Site_consumption_sum,\n",
    "        \"potential\": potential\n",
    "    }\n",
    "\n",
    "# Example of calling the function for a specific sheet\n",
    "\n",
    "result_2000900 = calculate_flexibility_metrics('2000900', main_data_path)\n",
    "# print(result_2000900)\n",
    "\n",
    "# You can call this function for any specific sheet you want\n",
    "result_2000901 = calculate_flexibility_metrics('2000901', main_data_path)\n",
    "# print(result_2000901)\n",
    "result_2000933 = calculate_flexibility_metrics('2000933', main_data_path)\n",
    "result_2000937 = calculate_flexibility_metrics('2000937', main_data_path)\n",
    "# And so on for other sheets...\n"
   ]
  },
  {
   "cell_type": "markdown",
   "metadata": {},
   "source": [
    "# Same for All houses "
   ]
  },
  {
   "cell_type": "code",
   "execution_count": 4,
   "metadata": {},
   "outputs": [],
   "source": [
    "import pandas as pd\n",
    "\n",
    "# Read the Excel file into a dictionary of DataFrames, with sheet names as keys\n",
    "final_main_data = pd.read_excel(r'D:\\Grenoble_university\\6_month_internship\\working space\\data\\combined_1_year_data_with_flexibility.xlsx', sheet_name=None)\n"
   ]
  },
  {
   "cell_type": "code",
   "execution_count": 5,
   "metadata": {},
   "outputs": [],
   "source": [
    "combined_data_dict = final_main_data\n",
    "combined_data_dict_1 = final_main_data\n",
    "combined_data_dict_2 = final_main_data\n",
    "combined_data_dict_3 = final_main_data\n",
    "combined_data_dict_4 = final_main_data\n",
    "combined_data_dict_5 = final_main_data"
   ]
  },
  {
   "cell_type": "markdown",
   "metadata": {},
   "source": [
    "# all hours for all houses"
   ]
  },
  {
   "cell_type": "code",
   "execution_count": 187,
   "metadata": {},
   "outputs": [
    {
     "name": "stdout",
     "output_type": "stream",
     "text": [
      "Sheet: 2000900\n",
      "Full day sum (00:00:00 - 23:59:59):\n",
      "Power supply for wood boiler ()     353.043\n",
      "Washing machine ()                   98.919\n",
      "Water heater ()                    1831.683\n",
      "dtype: object\n",
      "\n",
      "\n",
      "Sheet: 2000901\n",
      "Full day sum (00:00:00 - 23:59:59):\n",
      "Clothes drier (without condenser) (3,2kW)    721.023\n",
      "Dish washer (12 place setting)               516.249\n",
      "Microwave oven (1,25kW)                        77.06\n",
      "TV (67cm)                                    231.908\n",
      "Washing machine (4,5kg, 2,2kW)               335.183\n",
      "dtype: object\n",
      "\n",
      "\n",
      "Sheet: 2000902\n",
      "Full day sum (00:00:00 - 23:59:59):\n",
      "Clothes drier (without condenser) ()     607.314\n",
      "Electric Cooker (hot plate+oven) ()       92.119\n",
      "Microwave oven ()                         45.789\n",
      "TV (36cm)                                129.304\n",
      "Washing machine (5kg,750rpm)             516.214\n",
      "Water heater ()                         1271.954\n",
      "dtype: object\n",
      "\n",
      "\n",
      "Sheet: 2000903\n",
      "Full day sum (00:00:00 - 23:59:59):\n",
      "Dish washer (12 place setting)     489.212\n",
      "Power supply for fuel boiler ()    370.882\n",
      "Washing machine (3,25kW)           205.802\n",
      "dtype: object\n",
      "\n",
      "\n",
      "Sheet: 2000904\n",
      "Full day sum (00:00:00 - 23:59:59):\n",
      "Clothes drier (without condenser) (5kg)     748.925\n",
      "Electric Cooker (hot plate+oven) ()         254.921\n",
      "Washing machine (5kg)                       573.198\n",
      "Water heater ()                            2814.873\n",
      "dtype: object\n",
      "\n",
      "\n",
      "Sheet: 2000905\n",
      "Full day sum (00:00:00 - 23:59:59):\n",
      "Microwave oven (0,7kW)       15.3\n",
      "TV (36cm)                 103.049\n",
      "Washing machine ()         160.96\n",
      "dtype: object\n",
      "\n",
      "\n",
      "Sheet: 2000906\n",
      "Full day sum (00:00:00 - 23:59:59):\n",
      "Electric Cooker (hot plate+oven) ()    198.225\n",
      "Microwave oven (1,2kW)                   80.49\n",
      "TV (70cm)                              257.008\n",
      "TV ()                                      2.7\n",
      "Washing machine (800rpm)               230.682\n",
      "dtype: object\n",
      "\n",
      "\n",
      "Sheet: 2000907\n",
      "Full day sum (00:00:00 - 23:59:59):\n",
      "Clothes drier (without condenser) ()     712.238\n",
      "Dish washer (12 place setting)           295.977\n",
      "Microwave oven ()                         23.019\n",
      "Washing machine ()                       319.995\n",
      "Water heater ()                         2028.273\n",
      "dtype: object\n",
      "\n",
      "\n",
      "Sheet: 2000908\n",
      "Full day sum (00:00:00 - 23:59:59):\n",
      "Clothes drier (with condenser) ()    270.101\n",
      "Dish washer (12 place setting)       329.549\n",
      "Electric oven ()                      108.96\n",
      "Hot plate (3 gas, 1elec)               1.058\n",
      "Microwave oven (1,35kW)               73.594\n",
      "TV (51cm)                            208.057\n",
      "Washing machine ()                   345.607\n",
      "dtype: object\n",
      "\n",
      "\n",
      "Sheet: 2000909\n",
      "Full day sum (00:00:00 - 23:59:59):\n",
      "Electric Cooker (hot plate+oven) (3 radiant)      646.82\n",
      "Electric heating (altogether) ()                1589.227\n",
      "Microwave oven ()                                182.218\n",
      "TV (78cm)                                        299.178\n",
      "Washing machine ()                               457.856\n",
      "Water heater ()                                 2728.508\n",
      "dtype: object\n",
      "\n",
      "\n",
      "Sheet: 2000910\n",
      "Full day sum (00:00:00 - 23:59:59):\n",
      "Dish washer (12 place setting)          69.037\n",
      "Electric Cooker (hot plate+oven) ()    231.181\n",
      "Microwave oven (Fonte, 1,35kW)          61.041\n",
      "TV ()                                   109.18\n",
      "Washing machine ()                      26.014\n",
      "dtype: object\n",
      "\n",
      "\n",
      "Sheet: 2000911\n",
      "Full day sum (00:00:00 - 23:59:59):\n",
      "Electric Cooker (hot plate+oven) ()    328.567\n",
      "TV (51cm)                               75.559\n",
      "Washing machine ()                       72.78\n",
      "dtype: object\n",
      "\n",
      "\n",
      "Sheet: 2000912\n",
      "Full day sum (00:00:00 - 23:59:59):\n",
      "Electric Cooker (hot plate+oven) (1,5kW)    148.151\n",
      "TV (67cm)                                     196.2\n",
      "Washing machine ()                          310.544\n",
      "dtype: object\n",
      "\n",
      "\n",
      "Sheet: 2000913\n",
      "Full day sum (00:00:00 - 23:59:59):\n",
      "Microwave oven (1,1kW)              49.244\n",
      "Power supply for fuel boiler ()    357.468\n",
      "TV (67cm)                          152.075\n",
      "Washing machine ()                 222.716\n",
      "dtype: object\n",
      "\n",
      "\n",
      "Sheet: 2000914\n",
      "Full day sum (00:00:00 - 23:59:59):\n",
      "Clothes drier (without condenser) (2,5kW)      20.879\n",
      "Dish washer (12 place setting)                124.134\n",
      "Electric Cooker (hot plate+oven) (5,1kW)      367.871\n",
      "Electric heating (altogether) ()             7255.403\n",
      "Microwave oven (1,2kW)                         67.854\n",
      "TV (67cm)                                      163.73\n",
      "TV (51cm)                                      49.872\n",
      "Washing machine (2,2kW)                       223.276\n",
      "Water heater ()                              3096.475\n",
      "dtype: object\n",
      "\n",
      "\n",
      "Sheet: 2000915\n",
      "Full day sum (00:00:00 - 23:59:59):\n",
      "Clothes drier (without condenser) ()     128.664\n",
      "Electric Cooker (hot plate+oven) ()      744.848\n",
      "Heat pump water heater ()                 2231.3\n",
      "Heat pump ()                            4617.235\n",
      "Microwave oven ()                         90.889\n",
      "Total site light consumption (36cm)      395.996\n",
      "TV ()                                    166.001\n",
      "TV (63cm)                                118.845\n",
      "Washing machine ()                       245.912\n",
      "Water heater ()                           46.103\n",
      "dtype: object\n",
      "\n",
      "\n",
      "Sheet: 2000916\n",
      "Full day sum (00:00:00 - 23:59:59):\n",
      "Dish washer (12 place setting)      516.702\n",
      "Electric oven (Pyrolysis, 3,1kW)    272.775\n",
      "Hot plate ()                        195.345\n",
      "Microwave oven (1,6kW)              250.067\n",
      "TV (70cm)                           324.997\n",
      "TV (36cm)                            41.872\n",
      "TV (36cm).1                          10.624\n",
      "Washing machine ()                   268.48\n",
      "dtype: object\n",
      "\n",
      "\n",
      "Sheet: 2000917\n",
      "Full day sum (00:00:00 - 23:59:59):\n",
      "Dish washer (12 place setting, 2,3kW)    1133.586\n",
      "Electric Cooker (hot plate+oven) ()       210.873\n",
      "Microwave oven ()                            24.4\n",
      "TV (67cm)                                 255.221\n",
      "TV (51cm)                                  32.244\n",
      "Washing machine (5kg, 2,15kW)             467.682\n",
      "dtype: object\n",
      "\n",
      "\n",
      "Sheet: 2000918\n",
      "Full day sum (00:00:00 - 23:59:59):\n",
      "Electric Cooker (hot plate+oven) ()    66.336\n",
      "Microwave oven (3,4kW)                 22.082\n",
      "TV ()                                  86.147\n",
      "Washing machine (2,1kW)                85.352\n",
      "dtype: object\n",
      "\n",
      "\n",
      "Sheet: 2000919\n",
      "Full day sum (00:00:00 - 23:59:59):\n",
      "Electric oven (2,95kW)             2516.469\n",
      "Microwave oven (1,3kW)              285.852\n",
      "Power supply for fuel boiler ()     139.591\n",
      "Washing machine (2,25kW)            417.428\n",
      "dtype: object\n",
      "\n",
      "\n",
      "Sheet: 2000920\n",
      "Full day sum (00:00:00 - 23:59:59):\n",
      "Dish washer (12 place setting)     438.71\n",
      "Microwave oven (1,3kW)            689.975\n",
      "TV (51cm)                         397.409\n",
      "TV (36cm)                         402.158\n",
      "TV ()                             421.311\n",
      "Washing machine (500rpm)          462.008\n",
      "dtype: object\n",
      "\n",
      "\n",
      "Sheet: 2000921\n",
      "Full day sum (00:00:00 - 23:59:59):\n",
      "Electric Cooker (hot plate+oven) ()      73.611\n",
      "Electric heating (altogether) ()        300.152\n",
      "Microwave oven ()                        139.45\n",
      "TV (36cm)                                60.348\n",
      "TV (36cm).1                             137.253\n",
      "Washing machine (1,85kW)                134.616\n",
      "Water heater ()                        3395.651\n",
      "dtype: object\n",
      "\n",
      "\n",
      "Sheet: 2000922\n",
      "Full day sum (00:00:00 - 23:59:59):\n",
      "Dish washer (12 place setting)      413.677\n",
      "Electric oven (2,1kW)               350.503\n",
      "Microwave oven (1kW)                 33.621\n",
      "TV (36cm)                           164.165\n",
      "TV (70cm)                            92.952\n",
      "TV (36cm).1                          14.749\n",
      "Washing machine+clothes drier ()    228.799\n",
      "dtype: object\n",
      "\n",
      "\n",
      "Sheet: 2000923\n",
      "Full day sum (00:00:00 - 23:59:59):\n",
      "Electric Cooker (hot plate+oven) ()    342.934\n",
      "TV (36cm)                               53.739\n",
      "Washing machine ()                     156.701\n",
      "dtype: object\n",
      "\n",
      "\n",
      "Sheet: 2000924\n",
      "Full day sum (00:00:00 - 23:59:59):\n",
      "Electric Cooker (hot plate+oven) ()    898.186\n",
      "Power supply for fuel boiler ()        938.423\n",
      "TV (51cm)                              810.028\n",
      "TV (70cm)                               816.81\n",
      "Washing machine (1,85kW)               890.052\n",
      "dtype: object\n",
      "\n",
      "\n",
      "Sheet: 2000925\n",
      "Full day sum (00:00:00 - 23:59:59):\n",
      "Dish washer (8 place setting)     105.241\n",
      "Microwave oven ()                  78.071\n",
      "Microwave oven ().1                35.332\n",
      "Power supply for gas boiler ()    436.978\n",
      "Washing machine ()                153.537\n",
      "dtype: object\n",
      "\n",
      "\n",
      "Sheet: 2000926\n",
      "Full day sum (00:00:00 - 23:59:59):\n",
      "Dish washer (12 place setting)    151.968\n",
      "Electric oven (2,5kW)              34.812\n",
      "Washing machine ()                165.249\n",
      "dtype: object\n",
      "\n",
      "\n",
      "Sheet: 2000927\n",
      "Full day sum (00:00:00 - 23:59:59):\n",
      "Clothes drier (without condenser) ()    523.139\n",
      "Electric oven ()                         87.744\n",
      "Microwave oven (1,1kW)                   143.19\n",
      "TV (47cm)                               204.807\n",
      "Washing machine ()                      788.486\n",
      "dtype: object\n",
      "\n",
      "\n",
      "Sheet: 2000928\n",
      "Full day sum (00:00:00 - 23:59:59):\n",
      "Clothes drier (without condenser) ()      65.618\n",
      "Dish washer (12 place setting)           165.437\n",
      "Electric Cooker (hot plate+oven) ()       61.563\n",
      "Electric heating (altogether) ()        5246.389\n",
      "Microwave oven ()                         14.435\n",
      "TV (61cm)                                 163.23\n",
      "TV (36cm)                                 14.314\n",
      "Washing machine ()                        97.126\n",
      "Water heater ()                         1638.259\n",
      "dtype: object\n",
      "\n",
      "\n",
      "Sheet: 2000929\n",
      "Full day sum (00:00:00 - 23:59:59):\n",
      "Microwave oven (2,5kW)                     6.648\n",
      "TV (36cm)                                 53.061\n",
      "Washing machine+clothes drier (2,23kW)    75.423\n",
      "dtype: object\n",
      "\n",
      "\n",
      "Sheet: 2000930\n",
      "Full day sum (00:00:00 - 23:59:59):\n",
      "Clothes drier (without condenser) ()    551.864\n",
      "Dish washer (12 place setting)          316.958\n",
      "TV (71cm)                                 9.813\n",
      "TV (36cm)                                349.45\n",
      "Washing machine ()                      267.816\n",
      "dtype: object\n",
      "\n",
      "\n",
      "Sheet: 2000931\n",
      "Full day sum (00:00:00 - 23:59:59):\n",
      "Clothes drier (without condenser) ()    114.372\n",
      "Dish washer (12 place setting)          414.934\n",
      "Electric oven (1,1kW)                    48.524\n",
      "Microwave oven (1,2kW)                   44.174\n",
      "Washing machine ()                      278.492\n",
      "dtype: object\n",
      "\n",
      "\n",
      "Sheet: 2000932\n",
      "Full day sum (00:00:00 - 23:59:59):\n",
      "Electric Cooker (hot plate+oven) ()    333.842\n",
      "Microwave oven (0,95kW)                 58.537\n",
      "TV (56cm)                                97.06\n",
      "TV (36cm)                               25.128\n",
      "Washing machine ()                     155.546\n",
      "dtype: object\n",
      "\n",
      "\n",
      "Sheet: 2000933\n",
      "Full day sum (00:00:00 - 23:59:59):\n",
      "Dish washer (12 place setting)         133.657\n",
      "Electric Cooker (hot plate+oven) ()    147.197\n",
      "Microwave oven (0,75kW)                 43.802\n",
      "TV (51cm)                               95.615\n",
      "Washing machine ()                     185.496\n",
      "dtype: object\n",
      "\n",
      "\n",
      "Sheet: 2000934\n",
      "Full day sum (00:00:00 - 23:59:59):\n",
      "Clothes drier (without condenser) ()     206.125\n",
      "Electric heating (altogether) ()        4702.101\n",
      "Microwave oven ()                         37.618\n",
      "TV ()                                    454.397\n",
      "TV ().1                                  181.882\n",
      "Washing machine ()                       213.859\n",
      "Water heater ()                         1242.193\n",
      "dtype: object\n",
      "\n",
      "\n",
      "Sheet: 2000935\n",
      "Full day sum (00:00:00 - 23:59:59):\n",
      "Electric oven ()      317.405\n",
      "TV (36cm)                 1.2\n",
      "TV (36cm).1             37.25\n",
      "TV (51cm)             268.912\n",
      "Washing machine ()    241.174\n",
      "dtype: object\n",
      "\n",
      "\n",
      "Sheet: 2000936\n",
      "Full day sum (00:00:00 - 23:59:59):\n",
      "Clothes drier (without condenser) ()     148.773\n",
      "Dish washer (12 place setting)           139.291\n",
      "Electric heating (altogether) ()          90.489\n",
      "TV (55cm)                                134.559\n",
      "TV (36cm)                                   11.3\n",
      "Washing machine ()                       303.991\n",
      "Water heater ()                         1908.805\n",
      "dtype: object\n",
      "\n",
      "\n",
      "Sheet: 2000937\n",
      "Full day sum (00:00:00 - 23:59:59):\n",
      "Dish washer (12 place setting)    250.886\n",
      "Electric oven ()                  137.079\n",
      "Microwave oven ()                  17.817\n",
      "TV ()                              67.899\n",
      "TV ().1                            40.928\n",
      "TV ().2                            91.216\n",
      "Washing machine ()                206.665\n",
      "dtype: object\n",
      "\n",
      "\n",
      "Sheet: 2000938\n",
      "Full day sum (00:00:00 - 23:59:59):\n",
      "Clothes drier (with condenser) (2,55kW)     305.276\n",
      "Dish washer (12 place setting, 3,1kW)       204.177\n",
      "Electric Cooker (hot plate+oven) (6kW)      920.543\n",
      "Electric heating (altogether) ()            7335.99\n",
      "TV (60cm)                                     329.3\n",
      "TV (60cm).1                                  39.631\n",
      "Washing machine ()                          157.247\n",
      "Water heater ()                            2157.962\n",
      "dtype: object\n",
      "\n",
      "\n",
      "Sheet: 2000939\n",
      "Full day sum (00:00:00 - 23:59:59):\n",
      "Clothes drier (without condenser) (1,8kW)    177.141\n",
      "Dish washer (12 place setting)               432.397\n",
      "Electric oven ()                             399.535\n",
      "Microwave oven ()                              95.56\n",
      "Microwave oven ().1                           86.542\n",
      "Washing machine ()                           309.741\n",
      "dtype: object\n",
      "\n",
      "\n",
      "Sheet: 2000940\n",
      "Full day sum (00:00:00 - 23:59:59):\n",
      "Clothes drier (without condenser) ()    1136.379\n",
      "Dish washer (12 place setting)            231.01\n",
      "Power supply for gas boiler ()           118.937\n",
      "TV (51cm)                                 76.081\n",
      "Washing machine ()                       225.619\n",
      "dtype: object\n",
      "\n",
      "\n",
      "Sheet: 2000941\n",
      "Full day sum (00:00:00 - 23:59:59):\n",
      "Dish washer (12 place setting)         312.733\n",
      "Electric Cooker (hot plate+oven) ()     258.53\n",
      "Microwave oven ()                       34.217\n",
      "TV (51cm)                              116.365\n",
      "Washing machine ()                     105.883\n",
      "dtype: object\n",
      "\n",
      "\n",
      "Sheet: 2000942\n",
      "Full day sum (00:00:00 - 23:59:59):\n",
      "Microwave oven (1,35kW)            196.302\n",
      "Power supply for fuel boiler ()    204.815\n",
      "TV (65cm)                          522.065\n",
      "Washing machine ()                 274.473\n",
      "dtype: object\n",
      "\n",
      "\n",
      "Sheet: 2000943\n",
      "Full day sum (00:00:00 - 23:59:59):\n",
      "Clothes drier (without condenser) ()    266.172\n",
      "Dish washer (12 place setting)          225.228\n",
      "Electric oven ()                         97.443\n",
      "Microwave oven ()                        73.795\n",
      "Power supply for fuel boiler ()         526.426\n",
      "Washing machine ()                      111.113\n",
      "dtype: object\n",
      "\n",
      "\n",
      "Sheet: 2000944\n",
      "Full day sum (00:00:00 - 23:59:59):\n",
      "Clothes drier (without condenser) ()     255.028\n",
      "Dish washer (12 place setting)           217.212\n",
      "Electric heating (altogether) ()        7156.708\n",
      "Washing machine ()                        49.148\n",
      "Water heater ()                          1839.48\n",
      "dtype: object\n",
      "\n",
      "\n",
      "Sheet: 2000945\n",
      "Full day sum (00:00:00 - 23:59:59):\n",
      "Electric Cooker (hot plate+oven) ()     552.064\n",
      "Electric heating (altogether) ()       3892.707\n",
      "Microwave oven ()                        70.869\n",
      "TV (70cm)                               429.356\n",
      "TV (55cm)                                17.293\n",
      "Washing machine ()                       68.271\n",
      "Water heater ()                        2039.894\n",
      "dtype: object\n",
      "\n",
      "\n",
      "Sheet: 2000946\n",
      "Full day sum (00:00:00 - 23:59:59):\n",
      "Clothes drier (without condenser) ()    173.301\n",
      "Dish washer (12 place setting)          194.336\n",
      "Electric oven ()                        133.186\n",
      "Hot plate ()                             33.519\n",
      "Microwave oven ()                       143.535\n",
      "Washing machine ()                      278.498\n",
      "dtype: object\n",
      "\n",
      "\n",
      "Sheet: 2000947\n",
      "Full day sum (00:00:00 - 23:59:59):\n",
      "Clothes drier (without condenser) ()     759.055\n",
      "Dish washer (12 place setting, 3,3kW)    497.165\n",
      "Electric oven ()                         174.329\n",
      "Hot plate ()                             252.384\n",
      "Microwave oven ()                         81.622\n",
      "TV (51cm)                                220.876\n",
      "TV (36cm)                                 78.193\n",
      "TV (36cm).1                              159.411\n",
      "Washing machine ()                        320.99\n",
      "dtype: object\n",
      "\n",
      "\n",
      "Sheet: 2000948\n",
      "Full day sum (00:00:00 - 23:59:59):\n",
      "Dish washer (12 place setting)          101.099\n",
      "Electric Cooker (hot plate+oven) ()     374.896\n",
      "Heat pump ()                           2961.556\n",
      "Washing machine+clothes drier ()        112.256\n",
      "Water heater ()                        1773.246\n",
      "Water pump ()                          1114.178\n",
      "dtype: object\n",
      "\n",
      "\n",
      "Sheet: 2000949\n",
      "Full day sum (00:00:00 - 23:59:59):\n",
      "Dish washer (12 place setting)    177.907\n",
      "Electric oven ()                   80.463\n",
      "Microwave oven (1,1kW)             17.228\n",
      "Power supply for gas boiler ()    632.844\n",
      "TV ()                             228.311\n",
      "Washing machine ()                161.429\n",
      "dtype: object\n",
      "\n",
      "\n",
      "Sheet: 2000950\n",
      "Full day sum (00:00:00 - 23:59:59):\n",
      "Dish washer (12 place setting)    970.083\n",
      "Microwave oven ()                   29.82\n",
      "TV ()                             195.703\n",
      "TV ().1                            15.253\n",
      "Washing machine ()                392.412\n",
      "dtype: object\n",
      "\n",
      "\n",
      "Sheet: 2000951\n",
      "Full day sum (00:00:00 - 23:59:59):\n",
      "Electric Cooker (hot plate+oven) ()    263.049\n",
      "Microwave oven ()                      107.808\n",
      "Washing machine ()                      150.48\n",
      "dtype: object\n",
      "\n",
      "\n",
      "Sheet: 2000952\n",
      "Full day sum (00:00:00 - 23:59:59):\n",
      "Clothes drier (without condenser) ()    114.599\n",
      "Dish washer (12 place setting)          226.601\n",
      "Electric oven ()                         97.944\n",
      "Microwave oven (1,5kW)                   81.218\n",
      "Power supply for fuel boiler ()         282.188\n",
      "TV (70cm)                               113.127\n",
      "TV (55cm)                                 70.62\n",
      "TV (36cm)                                92.117\n",
      "Washing machine ()                      305.554\n",
      "dtype: object\n",
      "\n",
      "\n",
      "Sheet: 2000953\n",
      "Full day sum (00:00:00 - 23:59:59):\n",
      "Dish washer (12 place setting)        147.111\n",
      "Electric heating (altogether) ()    10146.546\n",
      "TV (63cm)                             178.749\n",
      "TV (36cm)                               6.239\n",
      "Washing machine ()                    105.916\n",
      "Water heater ()                      1797.696\n",
      "dtype: object\n",
      "\n",
      "\n",
      "Sheet: 2000954\n",
      "Full day sum (00:00:00 - 23:59:59):\n",
      "Electric heating (altogether) ()    10195.771\n",
      "TV (70cm)                             231.225\n",
      "TV (36cm)                              23.991\n",
      "Washing machine ()                     98.148\n",
      "Water heater ()                      3094.283\n",
      "dtype: object\n",
      "\n",
      "\n",
      "Sheet: 2000955\n",
      "Full day sum (00:00:00 - 23:59:59):\n",
      "Electric oven ()       303.272\n",
      "TV (36cm)               24.839\n",
      "Washing machine ()     110.684\n",
      "Water heater ()       2227.663\n",
      "dtype: object\n",
      "\n",
      "\n",
      "Sheet: 2000956\n",
      "Full day sum (00:00:00 - 23:59:59):\n",
      "Electric oven ()       106.333\n",
      "Microwave oven ()         45.8\n",
      "TV ()                  152.926\n",
      "TV ().1                 25.926\n",
      "Washing machine ()     259.633\n",
      "Water heater ()       1438.264\n",
      "dtype: object\n",
      "\n",
      "\n",
      "Sheet: 2000957\n",
      "Full day sum (00:00:00 - 23:59:59):\n",
      "Microwave oven (1,45kW)     38.517\n",
      "TV (63cm)                   40.115\n",
      "Washing machine ()         210.792\n",
      "dtype: object\n",
      "\n",
      "\n",
      "Sheet: 2000958\n",
      "Full day sum (00:00:00 - 23:59:59):\n",
      "Microwave oven (1,3kW)     24.896\n",
      "TV (63cm)                 126.422\n",
      "TV (36cm)                   8.554\n",
      "Washing machine ()        143.273\n",
      "dtype: object\n",
      "\n",
      "\n",
      "Sheet: 2000959\n",
      "Full day sum (00:00:00 - 23:59:59):\n",
      "Clothes drier (without condenser) ()     332.468\n",
      "Electric heating (altogether) ()        2270.473\n",
      "Microwave oven (0,9kW)                    53.535\n",
      "TV (60cm)                                 192.94\n",
      "Washing machine ()                        287.67\n",
      "Water heater ()                         2138.621\n",
      "dtype: object\n",
      "\n",
      "\n",
      "Sheet: 2000960\n",
      "Full day sum (00:00:00 - 23:59:59):\n",
      "Clothes drier (with condenser) ()    541.749\n",
      "Microwave oven ()                     36.307\n",
      "TV (55cm)                            135.819\n",
      "TV (36cm)                             20.403\n",
      "Washing machine ()                   262.231\n",
      "dtype: object\n",
      "\n",
      "\n",
      "Sheet: 2000961\n",
      "Full day sum (00:00:00 - 23:59:59):\n",
      "Dish washer (12 place setting)    298.172\n",
      "Washing machine ()                147.123\n",
      "dtype: object\n",
      "\n",
      "\n",
      "Sheet: 2000962\n",
      "Full day sum (00:00:00 - 23:59:59):\n",
      "Clothes drier (without condenser) ()     975.849\n",
      "Microwave oven ()                         57.582\n",
      "TV ()                                    295.151\n",
      "TV ().1                                   10.795\n",
      "Washing machine ()                        362.58\n",
      "Water heater ()                         2989.534\n",
      "dtype: object\n",
      "\n",
      "\n",
      "Sheet: 2000963\n",
      "Full day sum (00:00:00 - 23:59:59):\n",
      "TV (36cm)             96.171\n",
      "Washing machine ()    20.046\n",
      "dtype: object\n",
      "\n",
      "\n",
      "Sheet: 2000964\n",
      "Full day sum (00:00:00 - 23:59:59):\n",
      "Dish washer (12 place setting)                      516.314\n",
      "Electric Cooker (hot plate+oven) (1 elec, 3 gas)     128.36\n",
      "Microwave oven ()                                    68.237\n",
      "TV (55cm)                                           168.527\n",
      "TV (36cm)                                            29.283\n",
      "Washing machine ()                                  288.546\n",
      "dtype: object\n",
      "\n",
      "\n",
      "Sheet: 2000965\n",
      "Full day sum (00:00:00 - 23:59:59):\n",
      "Clothes drier (without condenser) ()    167.112\n",
      "Washing machine ()                      158.749\n",
      "dtype: object\n",
      "\n",
      "\n",
      "Sheet: 2000966\n",
      "Full day sum (00:00:00 - 23:59:59):\n",
      "Clothes drier (without condenser) ()    801.021\n",
      "Dish washer (12 place setting)          348.164\n",
      "Electric oven (2,58kW)                  114.876\n",
      "TV ()                                    73.393\n",
      "TV ().1                                   9.509\n",
      "Washing machine (2kW)                    225.83\n",
      "dtype: object\n",
      "\n",
      "\n",
      "Sheet: 2000967\n",
      "Full day sum (00:00:00 - 23:59:59):\n",
      "Electric heating (altogether) ()    5352.398\n",
      "Hot plate (ceramic hobs)              150.04\n",
      "Microwave oven (1,25kW)               20.242\n",
      "Microwave oven (1,7kW)               120.889\n",
      "TV (33cm)                              93.68\n",
      "Washing machine ()                     81.54\n",
      "Water heater ()                     1803.155\n",
      "dtype: object\n",
      "\n",
      "\n",
      "Sheet: 2000968\n",
      "Full day sum (00:00:00 - 23:59:59):\n",
      "Electric Cooker (hot plate+oven) (3,3kW)     85.922\n",
      "Electric heating (altogether) ()            903.728\n",
      "TV (33cm)                                    71.867\n",
      "Washing machine+clothes drier ()            150.522\n",
      "Water heater (100l)                         1089.39\n",
      "dtype: object\n",
      "\n",
      "\n",
      "Sheet: 2000969\n",
      "Full day sum (00:00:00 - 23:59:59):\n",
      "Dish washer (6 place setting)         18.124\n",
      "Electric heating (altogether) ()    5032.835\n",
      "Microwave oven ()                     26.268\n",
      "TV ()                                 26.296\n",
      "Washing machine+clothes drier ()     151.122\n",
      "dtype: object\n",
      "\n",
      "\n",
      "Sheet: 2000970\n",
      "Full day sum (00:00:00 - 23:59:59):\n",
      "Clothes drier (with condenser) ()        129.225\n",
      "Dish washer (12 place setting, 3,2kW)    182.954\n",
      "Electric oven (3,5kW)                    324.844\n",
      "TV (55cm)                                117.724\n",
      "TV (36cm)                                 41.349\n",
      "dtype: object\n",
      "\n",
      "\n",
      "Sheet: 2000971\n",
      "Full day sum (00:00:00 - 23:59:59):\n",
      "Computer site ()                    739.027\n",
      "Electric heating ()                4001.697\n",
      "Microwave oven ()                   154.508\n",
      "Power supply for fuel boiler ()     490.434\n",
      "TV ()                               161.223\n",
      "Washing machine ()                  308.969\n",
      "dtype: object\n",
      "\n",
      "\n",
      "Sheet: 2000972\n",
      "Full day sum (00:00:00 - 23:59:59):\n",
      "Clothes drier (with condenser) ()      430.926\n",
      "Dish washer (12 place setting)         269.383\n",
      "Electric Cooker (hot plate+oven) ()    193.497\n",
      "TV (68cm)                              225.415\n",
      "TV ()                                   15.728\n",
      "Washing machine ()                     115.082\n",
      "dtype: object\n",
      "\n",
      "\n",
      "Sheet: 2000973\n",
      "Full day sum (00:00:00 - 23:59:59):\n",
      "Electric oven ()      290.573\n",
      "Microwave oven ()      28.289\n",
      "TV ()                  27.309\n",
      "Washing machine ()    287.453\n",
      "dtype: object\n",
      "\n",
      "\n",
      "Sheet: 2000974\n",
      "Full day sum (00:00:00 - 23:59:59):\n",
      "Dish washer (12 place setting)       234.489\n",
      "Electric heating (altogether) ()     313.236\n",
      "Electric oven ()                      74.902\n",
      "Hot plate ()                         245.061\n",
      "TV (70cm)                            329.288\n",
      "TV (35cm)                             17.542\n",
      "TV ()                                  4.846\n",
      "Washing machine+clothes drier ()      83.776\n",
      "Water heater ()                     2420.432\n",
      "dtype: object\n",
      "\n",
      "\n",
      "Sheet: 2000975\n",
      "Full day sum (00:00:00 - 23:59:59):\n",
      "Electric heating (altogether) ()    2178.468\n",
      "Hot plate ()                             0.0\n",
      "Microwave oven ()                     28.669\n",
      "TV ()                                 36.895\n",
      "Washing machine ()                    46.961\n",
      "Water heater ()                      712.834\n",
      "dtype: object\n",
      "\n",
      "\n",
      "Sheet: 2000976\n",
      "Full day sum (00:00:00 - 23:59:59):\n",
      "Microwave oven (1,1kW)     53.114\n",
      "TV (36cm)                  94.398\n",
      "TV (36cm).1                40.738\n",
      "Washing machine ()        386.488\n",
      "dtype: object\n",
      "\n",
      "\n",
      "Sheet: 2000977\n",
      "Full day sum (00:00:00 - 23:59:59):\n",
      "Electric heating ()         835.266\n",
      "Electric heating ().1       980.319\n",
      "Electric heating ().2      1101.252\n",
      "Microwave oven (0,65kW)      68.013\n",
      "TV (35cm)                   102.508\n",
      "Water heater ()              1190.2\n",
      "dtype: object\n",
      "\n",
      "\n",
      "Sheet: 2000978\n",
      "Full day sum (00:00:00 - 23:59:59):\n",
      "Clothes drier (with condenser) ()     372.687\n",
      "Electric heating (altogether) ()      144.444\n",
      "Electric oven (3,14kW)                203.736\n",
      "TV ()                                 242.424\n",
      "TV (33cm)                              19.956\n",
      "Washing machine ()                     320.19\n",
      "Water heater ()                      5568.464\n",
      "dtype: object\n",
      "\n",
      "\n",
      "Sheet: 2000979\n",
      "Full day sum (00:00:00 - 23:59:59):\n",
      "Dish washer (12 place setting)      178.64\n",
      "Electric oven (2,6kW)              212.207\n",
      "Microwave oven (3,35kW)             28.621\n",
      "Power supply for wall boiler ()    270.308\n",
      "TV ()                               23.401\n",
      "Washing machine ()                 200.537\n",
      "dtype: object\n",
      "\n",
      "\n",
      "Sheet: 2000980\n",
      "Full day sum (00:00:00 - 23:59:59):\n",
      "Dish washer (12 place setting)    434.808\n",
      "Electric oven ()                  174.198\n",
      "Hot plate ()                      304.885\n",
      "Microwave oven ()                  26.415\n",
      "TV (33cm)                          76.417\n",
      "TV ()                              19.062\n",
      "Washing machine ()                150.938\n",
      "dtype: object\n",
      "\n",
      "\n",
      "Sheet: 2000981\n",
      "Full day sum (00:00:00 - 23:59:59):\n",
      "Dish washer (12 place setting)     370.875\n",
      "Microwave oven ()                  266.695\n",
      "TV ()                              116.992\n",
      "TV ().1                              3.577\n",
      "Washing machine ()                  37.704\n",
      "Water heater ()                   2359.715\n",
      "dtype: object\n",
      "\n",
      "\n",
      "Sheet: 2000982\n",
      "Full day sum (00:00:00 - 23:59:59):\n",
      "Electric heating (altogether) ()    2771.289\n",
      "Electric oven (3,375kW)              181.076\n",
      "Hot plate (6kW)                       123.07\n",
      "Microwave oven (1kW)                   50.57\n",
      "TV ()                                 54.863\n",
      "Washing machine+clothes drier ()     282.834\n",
      "Water heater ()                     2391.218\n",
      "dtype: object\n",
      "\n",
      "\n",
      "Sheet: 2000983\n",
      "Full day sum (00:00:00 - 23:59:59):\n",
      "Dish washer (12 place setting)        94.391\n",
      "Electric heating (altogether) ()     755.595\n",
      "Hot plate ()                          75.705\n",
      "Microwave oven (3,2kW)                96.802\n",
      "TV (33cm)                             67.149\n",
      "Washing machine+clothes drier ()      83.605\n",
      "Water heater ()                     1359.462\n",
      "Water heater ().1                    146.045\n",
      "dtype: object\n",
      "\n",
      "\n",
      "Sheet: 2000984\n",
      "Full day sum (00:00:00 - 23:59:59):\n",
      "Dish washer (12 place setting)         141.717\n",
      "Electric Cooker (hot plate+oven) ()    711.885\n",
      "Microwave oven ()                       12.261\n",
      "TV (70cm)                              231.339\n",
      "TV (35cm)                               38.798\n",
      "Washing machine ()                     174.819\n",
      "dtype: object\n",
      "\n",
      "\n",
      "Sheet: 2000985\n",
      "Full day sum (00:00:00 - 23:59:59):\n",
      "Dish washer (12 place setting)         454.268\n",
      "Electric Cooker (hot plate+oven) ()    249.648\n",
      "Microwave oven ()                       34.432\n",
      "TV (70cm)                               100.25\n",
      "Washing machine ()                     311.235\n",
      "dtype: object\n",
      "\n",
      "\n",
      "Sheet: 2000986\n",
      "Full day sum (00:00:00 - 23:59:59):\n",
      "Electric Cooker (hot plate+oven) ()     13.798\n",
      "Microwave oven ()                       65.512\n",
      "Microwave oven (1,1kW)                  97.676\n",
      "TV (55cm)                              143.683\n",
      "Washing machine ()                     134.745\n",
      "dtype: object\n",
      "\n",
      "\n",
      "Sheet: 2000987\n",
      "Full day sum (00:00:00 - 23:59:59):\n",
      "Clothes drier (without condenser) ()      14.127\n",
      "Electric Cooker (hot plate+oven) ()      191.995\n",
      "Microwave oven ()                         37.722\n",
      "TV (50cm)                                218.338\n",
      "TV (47cm)                                   5.15\n",
      "Washing machine ()                       172.538\n",
      "Water heater (200l)                     2169.746\n",
      "dtype: object\n",
      "\n",
      "\n",
      "Sheet: 2000988\n",
      "Full day sum (00:00:00 - 23:59:59):\n",
      "Microwave oven (1,3kW)    309.157\n",
      "TV (55cm)                  80.659\n",
      "Washing machine ()        154.594\n",
      "dtype: object\n",
      "\n",
      "\n",
      "Sheet: 2000989\n",
      "Full day sum (00:00:00 - 23:59:59):\n",
      "Clothes drier (with condenser) ()    546.008\n",
      "Dish washer (12 place setting)       556.843\n",
      "Microwave oven (1,65kW)              107.855\n",
      "TV (72cm)                            249.401\n",
      "TV (36cm)                              18.61\n",
      "Washing machine ()                   456.028\n",
      "dtype: object\n",
      "\n",
      "\n",
      "Sheet: 2000990\n",
      "Full day sum (00:00:00 - 23:59:59):\n",
      "Computer site ()                     307.732\n",
      "Electric heating (altogether) ()      1353.4\n",
      "Microwave oven (2,75kW)                70.67\n",
      "TV (55cm)                              95.84\n",
      "Washing machine ()                   138.568\n",
      "Water heater ()                     1012.491\n",
      "dtype: object\n",
      "\n",
      "\n",
      "Sheet: 2000991\n",
      "Full day sum (00:00:00 - 23:59:59):\n",
      "Dish washer (12 place setting)      77.595\n",
      "Microwave oven (1,2kW)              42.077\n",
      "Washing machine ()                  297.76\n",
      "Water heater ()                   1649.617\n",
      "dtype: object\n",
      "\n",
      "\n",
      "Sheet: 2000992\n",
      "Full day sum (00:00:00 - 23:59:59):\n",
      "Clothes drier (with condenser) ()     85.643\n",
      "Microwave oven ()                      6.243\n",
      "TV (55cm)                            176.135\n",
      "dtype: object\n",
      "\n",
      "\n",
      "Sheet: 2000993\n",
      "Full day sum (00:00:00 - 23:59:59):\n",
      "Dish washer (12 place setting)         92.531\n",
      "Electric Cooker (hot plate+oven) ()    42.456\n",
      "Microwave oven (1,98kW)                23.064\n",
      "Microwave oven ()                       2.515\n",
      "Power supply for fuel boiler ()        53.544\n",
      "TV (50cm)                               12.38\n",
      "Washing machine ()                     79.795\n",
      "dtype: object\n",
      "\n",
      "\n",
      "Sheet: 2000994\n",
      "Full day sum (00:00:00 - 23:59:59):\n",
      "Microwave oven (1,25kW)    22.239\n",
      "TV (50cm)                  73.441\n",
      "TV ()                         0.0\n",
      "Washing machine ()         60.624\n",
      "dtype: object\n",
      "\n",
      "\n",
      "Sheet: 2000995\n",
      "Full day sum (00:00:00 - 23:59:59):\n",
      "Microwave oven (1,2kW)    152.348\n",
      "TV (65cm)                 173.435\n",
      "TV (24cm)                   22.38\n",
      "Washing machine ()         93.621\n",
      "dtype: object\n",
      "\n",
      "\n",
      "Sheet: 2000996\n",
      "Full day sum (00:00:00 - 23:59:59):\n",
      "Clothes drier (without condenser) ()     56.833\n",
      "Dish washer (12 place setting)           68.829\n",
      "Electric deep frier ()                    5.578\n",
      "Electric oven ()                         240.14\n",
      "Microwave oven (1,25kW)                  93.091\n",
      "TV (70cm)                               298.732\n",
      "TV (36cm)                                15.274\n",
      "TV (66cm)                                56.534\n",
      "Washing machine ()                      273.617\n",
      "dtype: object\n",
      "\n",
      "\n",
      "Sheet: 2000997\n",
      "Full day sum (00:00:00 - 23:59:59):\n",
      "Dish washer (12 place setting)    261.559\n",
      "Electric oven ()                  335.644\n",
      "Microwave oven ()                 126.961\n",
      "TV (65cm)                         185.152\n",
      "TV (36cm)                          33.823\n",
      "Washing machine ()                192.499\n",
      "dtype: object\n",
      "\n",
      "\n"
     ]
    }
   ],
   "source": [
    "import pandas as pd\n",
    "\n",
    "# Define the time range for calculation (full day)\n",
    "start_time_full_day = pd.Timestamp('00:00:00').time()\n",
    "end_time_full_day = pd.Timestamp('23:59:59').time()\n",
    "\n",
    "# Initialize variables to accumulate full day sums as Series objects\n",
    "total_full_day_sum = pd.Series(dtype='float64')\n",
    "\n",
    "# Iterate over each sheet and perform the filtering and calculation\n",
    "for sheet_name, df in combined_data_dict_1.items():\n",
    "    # Filter rows to include only flexible devices (assuming the second row indicates 'flexible')\n",
    "    flexibility_row = df.iloc[0] == 'flexible'\n",
    "    flexible_devices_df = df.loc[:, flexibility_row]\n",
    "\n",
    "    # Convert 'date' column to datetime format\n",
    "    df['date'] = pd.to_datetime(df['date'])\n",
    "\n",
    "    # Filter rows based on the full day time range and calculate sum\n",
    "    full_day_sum = flexible_devices_df[\n",
    "        (df['date'].dt.time >= start_time_full_day) & \n",
    "        (df['date'].dt.time <= end_time_full_day)\n",
    "    ].sum() / 1000\n",
    "\n",
    "    # Accumulate full day sums\n",
    "    total_full_day_sum = total_full_day_sum.add(full_day_sum, fill_value=0)\n",
    "\n",
    "    print(f\"Sheet: {sheet_name}\")\n",
    "    print(\"Full day sum (00:00:00 - 23:59:59):\")\n",
    "    print(full_day_sum)\n",
    "    print(\"\\n\")\n",
    "\n",
    "\n"
   ]
  },
  {
   "cell_type": "code",
   "execution_count": 188,
   "metadata": {},
   "outputs": [
    {
     "name": "stdout",
     "output_type": "stream",
     "text": [
      "- - - - - - - - - - - - - - - - - - - - - - - - - - - - - - - - - - - \n",
      " Total Full Day Sum:\n",
      "Clothes drier (with condenser) ()                    2376.339\n",
      "Clothes drier (with condenser) (2,55kW)               305.276\n",
      "Clothes drier (without condenser) ()                 8110.051\n",
      "Clothes drier (without condenser) (1,8kW)             177.141\n",
      "Clothes drier (without condenser) (2,5kW)              20.879\n",
      "Clothes drier (without condenser) (3,2kW)             721.023\n",
      "Clothes drier (without condenser) (5kg)               748.925\n",
      "Computer site ()                                     1046.759\n",
      "Dish washer (12 place setting)                      12400.673\n",
      "Dish washer (12 place setting, 2,3kW)                1133.586\n",
      "Dish washer (12 place setting, 3,1kW)                 204.177\n",
      "Dish washer (12 place setting, 3,2kW)                 182.954\n",
      "Dish washer (12 place setting, 3,3kW)                 497.165\n",
      "Dish washer (6 place setting)                          18.124\n",
      "Dish washer (8 place setting)                         105.241\n",
      "Electric Cooker (hot plate+oven) ()                  6836.221\n",
      "Electric Cooker (hot plate+oven) (1 elec, 3 gas)       128.36\n",
      "Electric Cooker (hot plate+oven) (1,5kW)              148.151\n",
      "Electric Cooker (hot plate+oven) (3 radiant)           646.82\n",
      "Electric Cooker (hot plate+oven) (3,3kW)               85.922\n",
      "Electric Cooker (hot plate+oven) (5,1kW)              367.871\n",
      "Electric Cooker (hot plate+oven) (6kW)                920.543\n",
      "Electric deep frier ()                                  5.578\n",
      "Electric heating ()                                  4836.963\n",
      "Electric heating ().1                                 980.319\n",
      "Electric heating ().2                                1101.252\n",
      "Electric heating (altogether) ()                    78987.349\n",
      "Electric oven ()                                      3159.15\n",
      "Electric oven (1,1kW)                                  48.524\n",
      "Electric oven (2,1kW)                                 350.503\n",
      "Electric oven (2,58kW)                                114.876\n",
      "Electric oven (2,5kW)                                  34.812\n",
      "Electric oven (2,6kW)                                 212.207\n",
      "Electric oven (2,95kW)                               2516.469\n",
      "Electric oven (3,14kW)                                203.736\n",
      "Electric oven (3,375kW)                               181.076\n",
      "Electric oven (3,5kW)                                 324.844\n",
      "Electric oven (Pyrolysis, 3,1kW)                      272.775\n",
      "Heat pump ()                                         7578.791\n",
      "Heat pump water heater ()                              2231.3\n",
      "Hot plate ()                                         1106.899\n",
      "Hot plate (3 gas, 1elec)                                1.058\n",
      "Hot plate (6kW)                                        123.07\n",
      "Hot plate (ceramic hobs)                               150.04\n",
      "Microwave oven ()                                    2315.348\n",
      "Microwave oven ().1                                   121.874\n",
      "Microwave oven (0,65kW)                                68.013\n",
      "Microwave oven (0,75kW)                                43.802\n",
      "Microwave oven (0,7kW)                                   15.3\n",
      "Microwave oven (0,95kW)                                58.537\n",
      "Microwave oven (0,9kW)                                 53.535\n",
      "Microwave oven (1,1kW)                                360.452\n",
      "Microwave oven (1,25kW)                               212.632\n",
      "Microwave oven (1,2kW)                                386.943\n",
      "Microwave oven (1,35kW)                               269.896\n",
      "Microwave oven (1,3kW)                                1309.88\n",
      "Microwave oven (1,45kW)                                38.517\n",
      "Microwave oven (1,5kW)                                 81.218\n",
      "Microwave oven (1,65kW)                               107.855\n",
      "Microwave oven (1,6kW)                                250.067\n",
      "Microwave oven (1,7kW)                                120.889\n",
      "Microwave oven (1,98kW)                                23.064\n",
      "Microwave oven (1kW)                                   84.191\n",
      "Microwave oven (2,5kW)                                  6.648\n",
      "Microwave oven (2,75kW)                                 70.67\n",
      "Microwave oven (3,2kW)                                 96.802\n",
      "Microwave oven (3,35kW)                                28.621\n",
      "Microwave oven (3,4kW)                                 22.082\n",
      "Microwave oven (Fonte, 1,35kW)                         61.041\n",
      "Power supply for fuel boiler ()                      3363.771\n",
      "Power supply for gas boiler ()                       1188.759\n",
      "Power supply for wall boiler ()                       270.308\n",
      "Power supply for wood boiler ()                       353.043\n",
      "TV ()                                                2982.158\n",
      "TV ().1                                                287.87\n",
      "TV ().2                                                91.216\n",
      "TV (24cm)                                               22.38\n",
      "TV (33cm)                                             329.069\n",
      "TV (35cm)                                             158.848\n",
      "TV (36cm)                                            1992.332\n",
      "TV (36cm).1                                           400.025\n",
      "TV (47cm)                                             209.957\n",
      "TV (50cm)                                             304.159\n",
      "TV (51cm)                                            2351.018\n",
      "TV (55cm)                                            1140.859\n",
      "TV (56cm)                                               97.06\n",
      "TV (60cm)                                              522.24\n",
      "TV (60cm).1                                            39.631\n",
      "TV (61cm)                                              163.23\n",
      "TV (63cm)                                             464.131\n",
      "TV (65cm)                                             880.652\n",
      "TV (66cm)                                              56.534\n",
      "TV (67cm)                                             999.134\n",
      "TV (68cm)                                             225.415\n",
      "TV (70cm)                                            3225.084\n",
      "TV (71cm)                                               9.813\n",
      "TV (72cm)                                             249.401\n",
      "TV (78cm)                                             299.178\n",
      "Total site light consumption (36cm)                   395.996\n",
      "Washing machine ()                                  15586.475\n",
      "Washing machine (1,85kW)                             1024.668\n",
      "Washing machine (2,1kW)                                85.352\n",
      "Washing machine (2,25kW)                              417.428\n",
      "Washing machine (2,2kW)                               223.276\n",
      "Washing machine (2kW)                                  225.83\n",
      "Washing machine (3,25kW)                              205.802\n",
      "Washing machine (4,5kg, 2,2kW)                        335.183\n",
      "Washing machine (500rpm)                              462.008\n",
      "Washing machine (5kg)                                 573.198\n",
      "Washing machine (5kg, 2,15kW)                         467.682\n",
      "Washing machine (5kg,750rpm)                          516.214\n",
      "Washing machine (800rpm)                              230.682\n",
      "Washing machine+clothes drier ()                     1092.914\n",
      "Washing machine+clothes drier (2,23kW)                 75.423\n",
      "Water heater ()                                     63967.008\n",
      "Water heater ().1                                     146.045\n",
      "Water heater (100l)                                   1089.39\n",
      "Water heater (200l)                                  2169.746\n",
      "Water pump ()                                        1114.178\n",
      "- - - - - - - - - - - - - - - - - - - - - - - - - - - - - - - - - - - \n"
     ]
    }
   ],
   "source": [
    "# Print the total full day sum\n",
    "print(\"- \"*35)\n",
    "print(\" Total Full Day Sum:\")\n",
    "print(total_full_day_sum.to_string())\n",
    "print(\"- \"*35)"
   ]
  },
  {
   "cell_type": "code",
   "execution_count": 189,
   "metadata": {},
   "outputs": [
    {
     "data": {
      "text/plain": [
       "260993.44200000016"
      ]
     },
     "execution_count": 189,
     "metadata": {},
     "output_type": "execute_result"
    }
   ],
   "source": [
    "dg=total_full_day_sum.sum()\n",
    "dg"
   ]
  },
  {
   "cell_type": "code",
   "execution_count": 190,
   "metadata": {},
   "outputs": [
    {
     "name": "stdout",
     "output_type": "stream",
     "text": [
      "flexibility potencial = 49.3743464237726 %\n"
     ]
    }
   ],
   "source": [
    "flexibility_potential=dg/total_consumption_df\n",
    "print('flexibility potencial =',flexibility_potential*100, '%')"
   ]
  },
  {
   "cell_type": "markdown",
   "metadata": {},
   "source": [
    "# filtering for peak (all house)"
   ]
  },
  {
   "cell_type": "code",
   "execution_count": 191,
   "metadata": {},
   "outputs": [
    {
     "name": "stdout",
     "output_type": "stream",
     "text": [
      "Sheet: 2000900\n",
      "Morning sum (8 am - 10 am):\n",
      "Power supply for wood boiler ()      32.8\n",
      "Washing machine ()                 13.222\n",
      "Water heater ()                    210.55\n",
      "dtype: object\n",
      "\n",
      "Evening sum (6 pm - 10 pm):\n",
      "Power supply for wood boiler ()     60.808\n",
      "Washing machine ()                   8.803\n",
      "Water heater ()                    405.628\n",
      "dtype: object\n",
      "\n",
      "\n",
      "Sheet: 2000901\n",
      "Morning sum (8 am - 10 am):\n",
      "Clothes drier (without condenser) (3,2kW)    201.952\n",
      "Dish washer (12 place setting)                64.522\n",
      "Microwave oven (1,25kW)                       19.107\n",
      "TV (67cm)                                     22.513\n",
      "Washing machine (4,5kg, 2,2kW)                175.34\n",
      "dtype: object\n",
      "\n",
      "Evening sum (6 pm - 10 pm):\n",
      "Clothes drier (without condenser) (3,2kW)     56.751\n",
      "Dish washer (12 place setting)               191.359\n",
      "Microwave oven (1,25kW)                       13.396\n",
      "TV (67cm)                                     85.389\n",
      "Washing machine (4,5kg, 2,2kW)                 1.733\n",
      "dtype: object\n",
      "\n",
      "\n",
      "Sheet: 2000902\n",
      "Morning sum (8 am - 10 am):\n",
      "Clothes drier (without condenser) ()    73.883\n",
      "Electric Cooker (hot plate+oven) ()      3.958\n",
      "Microwave oven ()                       18.315\n",
      "TV (36cm)                                14.62\n",
      "Washing machine (5kg,750rpm)            97.693\n",
      "Water heater ()                         132.45\n",
      "dtype: object\n",
      "\n",
      "Evening sum (6 pm - 10 pm):\n",
      "Clothes drier (without condenser) ()    178.895\n",
      "Electric Cooker (hot plate+oven) ()      46.781\n",
      "Microwave oven ()                        11.155\n",
      "TV (36cm)                                48.305\n",
      "Washing machine (5kg,750rpm)             97.565\n",
      "Water heater ()                         338.527\n",
      "dtype: object\n",
      "\n",
      "\n",
      "Sheet: 2000903\n",
      "Morning sum (8 am - 10 am):\n",
      "Dish washer (12 place setting)     35.993\n",
      "Power supply for fuel boiler ()     33.31\n",
      "Washing machine (3,25kW)           54.856\n",
      "dtype: object\n",
      "\n",
      "Evening sum (6 pm - 10 pm):\n",
      "Dish washer (12 place setting)     219.002\n",
      "Power supply for fuel boiler ()     71.221\n",
      "Washing machine (3,25kW)            22.969\n",
      "dtype: object\n",
      "\n",
      "\n",
      "Sheet: 2000904\n",
      "Morning sum (8 am - 10 am):\n",
      "Clothes drier (without condenser) (5kg)      93.78\n",
      "Electric Cooker (hot plate+oven) ()         38.563\n",
      "Washing machine (5kg)                      106.501\n",
      "Water heater ()                              0.339\n",
      "dtype: object\n",
      "\n",
      "Evening sum (6 pm - 10 pm):\n",
      "Clothes drier (without condenser) (5kg)    170.217\n",
      "Electric Cooker (hot plate+oven) ()        106.562\n",
      "Washing machine (5kg)                       93.087\n",
      "Water heater ()                              0.001\n",
      "dtype: object\n",
      "\n",
      "\n",
      "Sheet: 2000905\n",
      "Morning sum (8 am - 10 am):\n",
      "Microwave oven (0,7kW)     0.701\n",
      "TV (36cm)                  3.223\n",
      "Washing machine ()        46.962\n",
      "dtype: object\n",
      "\n",
      "Evening sum (6 pm - 10 pm):\n",
      "Microwave oven (0,7kW)     4.431\n",
      "TV (36cm)                 55.882\n",
      "Washing machine ()        32.137\n",
      "dtype: object\n",
      "\n",
      "\n",
      "Sheet: 2000906\n",
      "Morning sum (8 am - 10 am):\n",
      "Electric Cooker (hot plate+oven) ()     0.149\n",
      "Microwave oven (1,2kW)                 10.549\n",
      "TV (70cm)                              25.043\n",
      "TV ()                                   0.077\n",
      "Washing machine (800rpm)               21.319\n",
      "dtype: object\n",
      "\n",
      "Evening sum (6 pm - 10 pm):\n",
      "Electric Cooker (hot plate+oven) ()    131.789\n",
      "Microwave oven (1,2kW)                  17.349\n",
      "TV (70cm)                                64.57\n",
      "TV ()                                     1.04\n",
      "Washing machine (800rpm)                17.798\n",
      "dtype: object\n",
      "\n",
      "\n",
      "Sheet: 2000907\n",
      "Morning sum (8 am - 10 am):\n",
      "Clothes drier (without condenser) ()    120.743\n",
      "Dish washer (12 place setting)           30.824\n",
      "Microwave oven ()                         3.126\n",
      "Washing machine ()                       67.248\n",
      "Water heater ()                           0.243\n",
      "dtype: object\n",
      "\n",
      "Evening sum (6 pm - 10 pm):\n",
      "Clothes drier (without condenser) ()    146.608\n",
      "Dish washer (12 place setting)           74.773\n",
      "Microwave oven ()                         8.829\n",
      "Washing machine ()                       59.036\n",
      "Water heater ()                          36.685\n",
      "dtype: object\n",
      "\n",
      "\n",
      "Sheet: 2000908\n",
      "Morning sum (8 am - 10 am):\n",
      "Clothes drier (with condenser) ()     25.09\n",
      "Dish washer (12 place setting)       24.839\n",
      "Electric oven ()                      0.593\n",
      "Hot plate (3 gas, 1elec)              0.004\n",
      "Microwave oven (1,35kW)              10.815\n",
      "TV (51cm)                            21.806\n",
      "Washing machine ()                   63.729\n",
      "dtype: object\n",
      "\n",
      "Evening sum (6 pm - 10 pm):\n",
      "Clothes drier (with condenser) ()    84.254\n",
      "Dish washer (12 place setting)       106.14\n",
      "Electric oven ()                     47.647\n",
      "Hot plate (3 gas, 1elec)              0.704\n",
      "Microwave oven (1,35kW)              23.074\n",
      "TV (51cm)                            49.522\n",
      "Washing machine ()                   75.325\n",
      "dtype: object\n",
      "\n",
      "\n",
      "Sheet: 2000909\n",
      "Morning sum (8 am - 10 am):\n",
      "Electric Cooker (hot plate+oven) (3 radiant)     31.192\n",
      "Electric heating (altogether) ()                166.522\n",
      "Microwave oven ()                                19.075\n",
      "TV (78cm)                                         35.01\n",
      "Washing machine ()                               47.692\n",
      "Water heater ()                                   0.983\n",
      "dtype: object\n",
      "\n",
      "Evening sum (6 pm - 10 pm):\n",
      "Electric Cooker (hot plate+oven) (3 radiant)    326.399\n",
      "Electric heating (altogether) ()                321.182\n",
      "Microwave oven ()                                80.134\n",
      "TV (78cm)                                        90.283\n",
      "Washing machine ()                               87.397\n",
      "Water heater ()                                 752.016\n",
      "dtype: object\n",
      "\n",
      "\n",
      "Sheet: 2000910\n",
      "Morning sum (8 am - 10 am):\n",
      "Dish washer (12 place setting)          9.017\n",
      "Electric Cooker (hot plate+oven) ()    10.325\n",
      "Microwave oven (Fonte, 1,35kW)         10.561\n",
      "TV ()                                   2.044\n",
      "Washing machine ()                      2.302\n",
      "dtype: object\n",
      "\n",
      "Evening sum (6 pm - 10 pm):\n",
      "Dish washer (12 place setting)          40.552\n",
      "Electric Cooker (hot plate+oven) ()    132.541\n",
      "Microwave oven (Fonte, 1,35kW)          22.147\n",
      "TV ()                                   43.891\n",
      "Washing machine ()                       3.741\n",
      "dtype: object\n",
      "\n",
      "\n",
      "Sheet: 2000911\n",
      "Morning sum (8 am - 10 am):\n",
      "Electric Cooker (hot plate+oven) ()    46.505\n",
      "TV (51cm)                               0.407\n",
      "Washing machine ()                     20.256\n",
      "dtype: object\n",
      "\n",
      "Evening sum (6 pm - 10 pm):\n",
      "Electric Cooker (hot plate+oven) ()    131.955\n",
      "TV (51cm)                               35.208\n",
      "Washing machine ()                      17.657\n",
      "dtype: object\n",
      "\n",
      "\n",
      "Sheet: 2000912\n",
      "Morning sum (8 am - 10 am):\n",
      "Electric Cooker (hot plate+oven) (1,5kW)     2.638\n",
      "TV (67cm)                                   11.636\n",
      "Washing machine ()                          40.842\n",
      "dtype: object\n",
      "\n",
      "Evening sum (6 pm - 10 pm):\n",
      "Electric Cooker (hot plate+oven) (1,5kW)    84.273\n",
      "TV (67cm)                                   52.606\n",
      "Washing machine ()                          56.669\n",
      "dtype: object\n",
      "\n",
      "\n",
      "Sheet: 2000913\n",
      "Morning sum (8 am - 10 am):\n",
      "Microwave oven (1,1kW)              10.466\n",
      "Power supply for fuel boiler ()      33.46\n",
      "TV (67cm)                           13.373\n",
      "Washing machine ()                 144.224\n",
      "dtype: object\n",
      "\n",
      "Evening sum (6 pm - 10 pm):\n",
      "Microwave oven (1,1kW)               5.88\n",
      "Power supply for fuel boiler ()    64.461\n",
      "TV (67cm)                          61.842\n",
      "Washing machine ()                  7.234\n",
      "dtype: object\n",
      "\n",
      "\n",
      "Sheet: 2000914\n",
      "Morning sum (8 am - 10 am):\n",
      "Clothes drier (without condenser) (2,5kW)      1.338\n",
      "Dish washer (12 place setting)                 0.494\n",
      "Electric Cooker (hot plate+oven) (5,1kW)      17.611\n",
      "Electric heating (altogether) ()             251.905\n",
      "Microwave oven (1,2kW)                         7.295\n",
      "TV (67cm)                                      20.05\n",
      "TV (51cm)                                      1.515\n",
      "Washing machine (2,2kW)                       18.901\n",
      "Water heater ()                                  0.0\n",
      "dtype: object\n",
      "\n",
      "Evening sum (6 pm - 10 pm):\n",
      "Clothes drier (without condenser) (2,5kW)      1.477\n",
      "Dish washer (12 place setting)                 4.337\n",
      "Electric Cooker (hot plate+oven) (5,1kW)     167.863\n",
      "Electric heating (altogether) ()             342.644\n",
      "Microwave oven (1,2kW)                        26.263\n",
      "TV (67cm)                                     69.305\n",
      "TV (51cm)                                     29.411\n",
      "Washing machine (2,2kW)                        3.279\n",
      "Water heater ()                                2.088\n",
      "dtype: object\n",
      "\n",
      "\n",
      "Sheet: 2000915\n",
      "Morning sum (8 am - 10 am):\n",
      "Clothes drier (without condenser) ()     14.853\n",
      "Electric Cooker (hot plate+oven) ()      16.588\n",
      "Heat pump water heater ()               127.104\n",
      "Heat pump ()                            523.049\n",
      "Microwave oven ()                        14.642\n",
      "Total site light consumption (36cm)      24.672\n",
      "TV ()                                    19.932\n",
      "TV (63cm)                                 8.724\n",
      "Washing machine ()                       21.631\n",
      "Water heater ()                           2.104\n",
      "dtype: object\n",
      "\n",
      "Evening sum (6 pm - 10 pm):\n",
      "Clothes drier (without condenser) ()     11.248\n",
      "Electric Cooker (hot plate+oven) ()     314.642\n",
      "Heat pump water heater ()               434.746\n",
      "Heat pump ()                            762.473\n",
      "Microwave oven ()                        25.673\n",
      "Total site light consumption (36cm)     169.078\n",
      "TV ()                                    60.103\n",
      "TV (63cm)                                14.847\n",
      "Washing machine ()                       18.224\n",
      "Water heater ()                          11.636\n",
      "dtype: object\n",
      "\n",
      "\n",
      "Sheet: 2000916\n",
      "Morning sum (8 am - 10 am):\n",
      "Dish washer (12 place setting)       9.144\n",
      "Electric oven (Pyrolysis, 3,1kW)     5.288\n",
      "Hot plate ()                         4.339\n",
      "Microwave oven (1,6kW)              21.527\n",
      "TV (70cm)                           27.421\n",
      "TV (36cm)                            0.343\n",
      "TV (36cm).1                          2.376\n",
      "Washing machine ()                   47.01\n",
      "dtype: object\n",
      "\n",
      "Evening sum (6 pm - 10 pm):\n",
      "Dish washer (12 place setting)      126.069\n",
      "Electric oven (Pyrolysis, 3,1kW)     104.55\n",
      "Hot plate ()                         92.561\n",
      "Microwave oven (1,6kW)               56.454\n",
      "TV (70cm)                           101.978\n",
      "TV (36cm)                             13.62\n",
      "TV (36cm).1                            2.68\n",
      "Washing machine ()                   26.079\n",
      "dtype: object\n",
      "\n",
      "\n",
      "Sheet: 2000917\n",
      "Morning sum (8 am - 10 am):\n",
      "Dish washer (12 place setting, 2,3kW)    176.641\n",
      "Electric Cooker (hot plate+oven) ()       23.246\n",
      "Microwave oven ()                          1.088\n",
      "TV (67cm)                                 26.381\n",
      "TV (51cm)                                  2.452\n",
      "Washing machine (5kg, 2,15kW)            103.256\n",
      "dtype: object\n",
      "\n",
      "Evening sum (6 pm - 10 pm):\n",
      "Dish washer (12 place setting, 2,3kW)    506.197\n",
      "Electric Cooker (hot plate+oven) ()       77.993\n",
      "Microwave oven ()                          7.366\n",
      "TV (67cm)                                 92.242\n",
      "TV (51cm)                                 19.348\n",
      "Washing machine (5kg, 2,15kW)             165.34\n",
      "dtype: object\n",
      "\n",
      "\n",
      "Sheet: 2000918\n",
      "Morning sum (8 am - 10 am):\n",
      "Electric Cooker (hot plate+oven) ()     0.962\n",
      "Microwave oven (3,4kW)                   2.48\n",
      "TV ()                                   2.282\n",
      "Washing machine (2,1kW)                23.261\n",
      "dtype: object\n",
      "\n",
      "Evening sum (6 pm - 10 pm):\n",
      "Electric Cooker (hot plate+oven) ()    10.761\n",
      "Microwave oven (3,4kW)                  2.419\n",
      "TV ()                                  50.592\n",
      "Washing machine (2,1kW)                 8.618\n",
      "dtype: object\n",
      "\n",
      "\n",
      "Sheet: 2000919\n",
      "Morning sum (8 am - 10 am):\n",
      "Electric oven (2,95kW)             249.537\n",
      "Microwave oven (1,3kW)              83.624\n",
      "Power supply for fuel boiler ()      4.532\n",
      "Washing machine (2,25kW)            38.622\n",
      "dtype: object\n",
      "\n",
      "Evening sum (6 pm - 10 pm):\n",
      "Electric oven (2,95kW)             640.405\n",
      "Microwave oven (1,3kW)              21.077\n",
      "Power supply for fuel boiler ()     37.233\n",
      "Washing machine (2,25kW)            75.046\n",
      "dtype: object\n",
      "\n",
      "\n",
      "Sheet: 2000920\n",
      "Morning sum (8 am - 10 am):\n",
      "Dish washer (12 place setting)     31.02\n",
      "Microwave oven (1,3kW)            51.307\n",
      "TV (51cm)                         27.026\n",
      "TV (36cm)                          29.72\n",
      "TV ()                             28.211\n",
      "Washing machine (500rpm)          37.149\n",
      "dtype: object\n",
      "\n",
      "Evening sum (6 pm - 10 pm):\n",
      "Dish washer (12 place setting)    110.304\n",
      "Microwave oven (1,3kW)            175.828\n",
      "TV (51cm)                         105.844\n",
      "TV (36cm)                         103.503\n",
      "TV ()                             107.784\n",
      "Washing machine (500rpm)          111.701\n",
      "dtype: object\n",
      "\n",
      "\n",
      "Sheet: 2000921\n",
      "Morning sum (8 am - 10 am):\n",
      "Electric Cooker (hot plate+oven) ()     15.282\n",
      "Electric heating (altogether) ()       100.102\n",
      "Microwave oven ()                       30.925\n",
      "TV (36cm)                                7.333\n",
      "TV (36cm).1                             10.385\n",
      "Washing machine (1,85kW)                25.647\n",
      "Water heater ()                            0.0\n",
      "dtype: object\n",
      "\n",
      "Evening sum (6 pm - 10 pm):\n",
      "Electric Cooker (hot plate+oven) ()    19.711\n",
      "Electric heating (altogether) ()       30.215\n",
      "Microwave oven ()                       43.81\n",
      "TV (36cm)                              28.564\n",
      "TV (36cm).1                            36.001\n",
      "Washing machine (1,85kW)                6.386\n",
      "Water heater ()                        24.096\n",
      "dtype: object\n",
      "\n",
      "\n",
      "Sheet: 2000922\n",
      "Morning sum (8 am - 10 am):\n",
      "Dish washer (12 place setting)      121.41\n",
      "Electric oven (2,1kW)               19.641\n",
      "Microwave oven (1kW)                 0.684\n",
      "TV (36cm)                            4.671\n",
      "TV (70cm)                            4.504\n",
      "TV (36cm).1                           0.77\n",
      "Washing machine+clothes drier ()    98.452\n",
      "dtype: object\n",
      "\n",
      "Evening sum (6 pm - 10 pm):\n",
      "Dish washer (12 place setting)       61.038\n",
      "Electric oven (2,1kW)               129.598\n",
      "Microwave oven (1kW)                 10.553\n",
      "TV (36cm)                            55.006\n",
      "TV (70cm)                             35.91\n",
      "TV (36cm).1                           6.037\n",
      "Washing machine+clothes drier ()      4.809\n",
      "dtype: object\n",
      "\n",
      "\n",
      "Sheet: 2000923\n",
      "Morning sum (8 am - 10 am):\n",
      "Electric Cooker (hot plate+oven) ()    29.662\n",
      "TV (36cm)                               0.857\n",
      "Washing machine ()                     34.237\n",
      "dtype: object\n",
      "\n",
      "Evening sum (6 pm - 10 pm):\n",
      "Electric Cooker (hot plate+oven) ()    139.476\n",
      "TV (36cm)                               25.253\n",
      "Washing machine ()                      45.049\n",
      "dtype: object\n",
      "\n",
      "\n",
      "Sheet: 2000924\n",
      "Morning sum (8 am - 10 am):\n",
      "Electric Cooker (hot plate+oven) ()    74.602\n",
      "Power supply for fuel boiler ()        78.774\n",
      "TV (51cm)                              97.475\n",
      "TV (70cm)                              95.152\n",
      "Washing machine (1,85kW)                73.43\n",
      "dtype: object\n",
      "\n",
      "Evening sum (6 pm - 10 pm):\n",
      "Electric Cooker (hot plate+oven) ()    259.848\n",
      "Power supply for fuel boiler ()        237.693\n",
      "TV (51cm)                              242.315\n",
      "TV (70cm)                                241.9\n",
      "Washing machine (1,85kW)               249.572\n",
      "dtype: object\n",
      "\n",
      "\n",
      "Sheet: 2000925\n",
      "Morning sum (8 am - 10 am):\n",
      "Dish washer (8 place setting)     23.824\n",
      "Microwave oven ()                 11.746\n",
      "Microwave oven ().1                6.964\n",
      "Power supply for gas boiler ()    39.568\n",
      "Washing machine ()                37.192\n",
      "dtype: object\n",
      "\n",
      "Evening sum (6 pm - 10 pm):\n",
      "Dish washer (8 place setting)     24.361\n",
      "Microwave oven ()                 17.187\n",
      "Microwave oven ().1                4.776\n",
      "Power supply for gas boiler ()    73.145\n",
      "Washing machine ()                 23.22\n",
      "dtype: object\n",
      "\n",
      "\n",
      "Sheet: 2000926\n",
      "Morning sum (8 am - 10 am):\n",
      "Dish washer (12 place setting)     8.373\n",
      "Electric oven (2,5kW)                0.0\n",
      "Washing machine ()                30.158\n",
      "dtype: object\n",
      "\n",
      "Evening sum (6 pm - 10 pm):\n",
      "Dish washer (12 place setting)    76.211\n",
      "Electric oven (2,5kW)             17.239\n",
      "Washing machine ()                44.565\n",
      "dtype: object\n",
      "\n",
      "\n",
      "Sheet: 2000927\n",
      "Morning sum (8 am - 10 am):\n",
      "Clothes drier (without condenser) ()     60.946\n",
      "Electric oven ()                           5.01\n",
      "Microwave oven (1,1kW)                     5.27\n",
      "TV (47cm)                                11.797\n",
      "Washing machine ()                      261.928\n",
      "dtype: object\n",
      "\n",
      "Evening sum (6 pm - 10 pm):\n",
      "Clothes drier (without condenser) ()      71.6\n",
      "Electric oven ()                        22.449\n",
      "Microwave oven (1,1kW)                  26.255\n",
      "TV (47cm)                                81.61\n",
      "Washing machine ()                      69.007\n",
      "dtype: object\n",
      "\n",
      "\n",
      "Sheet: 2000928\n",
      "Morning sum (8 am - 10 am):\n",
      "Clothes drier (without condenser) ()     5.982\n",
      "Dish washer (12 place setting)          28.339\n",
      "Electric Cooker (hot plate+oven) ()      4.467\n",
      "Electric heating (altogether) ()        432.05\n",
      "Microwave oven ()                        2.991\n",
      "TV (61cm)                                3.419\n",
      "TV (36cm)                                0.905\n",
      "Washing machine ()                      13.965\n",
      "Water heater ()                            0.0\n",
      "dtype: object\n",
      "\n",
      "Evening sum (6 pm - 10 pm):\n",
      "Clothes drier (without condenser) ()       6.676\n",
      "Dish washer (12 place setting)             23.51\n",
      "Electric Cooker (hot plate+oven) ()       17.479\n",
      "Electric heating (altogether) ()        1180.435\n",
      "Microwave oven ()                          2.382\n",
      "TV (61cm)                                 90.277\n",
      "TV (36cm)                                  6.956\n",
      "Washing machine ()                         8.858\n",
      "Water heater ()                              0.0\n",
      "dtype: object\n",
      "\n",
      "\n",
      "Sheet: 2000929\n",
      "Morning sum (8 am - 10 am):\n",
      "Microwave oven (2,5kW)                      1.34\n",
      "TV (36cm)                                  1.419\n",
      "Washing machine+clothes drier (2,23kW)    12.435\n",
      "dtype: object\n",
      "\n",
      "Evening sum (6 pm - 10 pm):\n",
      "Microwave oven (2,5kW)                     1.376\n",
      "TV (36cm)                                 15.234\n",
      "Washing machine+clothes drier (2,23kW)    23.495\n",
      "dtype: object\n",
      "\n",
      "\n",
      "Sheet: 2000930\n",
      "Morning sum (8 am - 10 am):\n",
      "Clothes drier (without condenser) ()    42.911\n",
      "Dish washer (12 place setting)          36.491\n",
      "TV (71cm)                                2.519\n",
      "TV (36cm)                                36.37\n",
      "Washing machine ()                      27.189\n",
      "dtype: object\n",
      "\n",
      "Evening sum (6 pm - 10 pm):\n",
      "Clothes drier (without condenser) ()    151.438\n",
      "Dish washer (12 place setting)           69.881\n",
      "TV (71cm)                                 2.939\n",
      "TV (36cm)                               139.181\n",
      "Washing machine ()                       70.959\n",
      "dtype: object\n",
      "\n",
      "\n",
      "Sheet: 2000931\n",
      "Morning sum (8 am - 10 am):\n",
      "Clothes drier (without condenser) ()     14.435\n",
      "Dish washer (12 place setting)           59.591\n",
      "Electric oven (1,1kW)                     2.945\n",
      "Microwave oven (1,2kW)                    5.759\n",
      "Washing machine ()                      104.071\n",
      "dtype: object\n",
      "\n",
      "Evening sum (6 pm - 10 pm):\n",
      "Clothes drier (without condenser) ()     19.997\n",
      "Dish washer (12 place setting)          142.936\n",
      "Electric oven (1,1kW)                    19.046\n",
      "Microwave oven (1,2kW)                    14.51\n",
      "Washing machine ()                       11.453\n",
      "dtype: object\n",
      "\n",
      "\n",
      "Sheet: 2000932\n",
      "Morning sum (8 am - 10 am):\n",
      "Electric Cooker (hot plate+oven) ()     7.426\n",
      "Microwave oven (0,95kW)                11.193\n",
      "TV (56cm)                              11.706\n",
      "TV (36cm)                                0.11\n",
      "Washing machine ()                     43.874\n",
      "dtype: object\n",
      "\n",
      "Evening sum (6 pm - 10 pm):\n",
      "Electric Cooker (hot plate+oven) ()    189.609\n",
      "Microwave oven (0,95kW)                 18.068\n",
      "TV (56cm)                               28.877\n",
      "TV (36cm)                                 6.68\n",
      "Washing machine ()                      11.254\n",
      "dtype: object\n",
      "\n",
      "\n",
      "Sheet: 2000933\n",
      "Morning sum (8 am - 10 am):\n",
      "Dish washer (12 place setting)          1.223\n",
      "Electric Cooker (hot plate+oven) ()     0.036\n",
      "Microwave oven (0,75kW)                30.592\n",
      "TV (51cm)                               2.276\n",
      "Washing machine ()                      7.115\n",
      "dtype: object\n",
      "\n",
      "Evening sum (6 pm - 10 pm):\n",
      "Dish washer (12 place setting)         76.035\n",
      "Electric Cooker (hot plate+oven) ()    81.199\n",
      "Microwave oven (0,75kW)                 2.611\n",
      "TV (51cm)                              60.328\n",
      "Washing machine ()                      6.832\n",
      "dtype: object\n",
      "\n",
      "\n",
      "Sheet: 2000934\n",
      "Morning sum (8 am - 10 am):\n",
      "Clothes drier (without condenser) ()      3.885\n",
      "Electric heating (altogether) ()        495.532\n",
      "Microwave oven ()                         0.081\n",
      "TV ()                                    34.552\n",
      "TV ().1                                   7.907\n",
      "Washing machine ()                        0.177\n",
      "Water heater ()                             0.0\n",
      "dtype: object\n",
      "\n",
      "Evening sum (6 pm - 10 pm):\n",
      "Clothes drier (without condenser) ()     54.058\n",
      "Electric heating (altogether) ()        699.249\n",
      "Microwave oven ()                        21.747\n",
      "TV ()                                   105.717\n",
      "TV ().1                                   67.12\n",
      "Washing machine ()                        6.456\n",
      "Water heater ()                             0.0\n",
      "dtype: object\n",
      "\n",
      "\n",
      "Sheet: 2000935\n",
      "Morning sum (8 am - 10 am):\n",
      "Electric oven ()      30.686\n",
      "TV (36cm)                0.0\n",
      "TV (36cm).1            0.405\n",
      "TV (51cm)             21.106\n",
      "Washing machine ()     129.8\n",
      "dtype: object\n",
      "\n",
      "Evening sum (6 pm - 10 pm):\n",
      "Electric oven ()      110.298\n",
      "TV (36cm)               0.751\n",
      "TV (36cm).1            17.167\n",
      "TV (51cm)              91.959\n",
      "Washing machine ()      7.151\n",
      "dtype: object\n",
      "\n",
      "\n",
      "Sheet: 2000936\n",
      "Morning sum (8 am - 10 am):\n",
      "Clothes drier (without condenser) ()    12.494\n",
      "Dish washer (12 place setting)          17.846\n",
      "Electric heating (altogether) ()         8.519\n",
      "TV (55cm)                               12.815\n",
      "TV (36cm)                                0.318\n",
      "Washing machine ()                      21.744\n",
      "Water heater ()                            0.0\n",
      "dtype: object\n",
      "\n",
      "Evening sum (6 pm - 10 pm):\n",
      "Clothes drier (without condenser) ()    34.007\n",
      "Dish washer (12 place setting)           1.822\n",
      "Electric heating (altogether) ()         9.314\n",
      "TV (55cm)                               41.301\n",
      "TV (36cm)                                3.891\n",
      "Washing machine ()                      16.794\n",
      "Water heater ()                         62.625\n",
      "dtype: object\n",
      "\n",
      "\n",
      "Sheet: 2000937\n",
      "Morning sum (8 am - 10 am):\n",
      "Dish washer (12 place setting)    44.152\n",
      "Electric oven ()                  22.197\n",
      "Microwave oven ()                  1.215\n",
      "TV ()                              2.851\n",
      "TV ().1                            4.119\n",
      "TV ().2                            7.974\n",
      "Washing machine ()                28.382\n",
      "dtype: object\n",
      "\n",
      "Evening sum (6 pm - 10 pm):\n",
      "Dish washer (12 place setting)    82.375\n",
      "Electric oven ()                  43.402\n",
      "Microwave oven ()                  4.009\n",
      "TV ()                             27.181\n",
      "TV ().1                           16.114\n",
      "TV ().2                            57.64\n",
      "Washing machine ()                43.029\n",
      "dtype: object\n",
      "\n",
      "\n",
      "Sheet: 2000938\n",
      "Morning sum (8 am - 10 am):\n",
      "Clothes drier (with condenser) (2,55kW)     22.192\n",
      "Dish washer (12 place setting, 3,1kW)       15.756\n",
      "Electric Cooker (hot plate+oven) (6kW)      43.808\n",
      "Electric heating (altogether) ()            952.34\n",
      "TV (60cm)                                   17.372\n",
      "TV (60cm).1                                  0.409\n",
      "Washing machine ()                          57.209\n",
      "Water heater ()                            248.115\n",
      "dtype: object\n",
      "\n",
      "Evening sum (6 pm - 10 pm):\n",
      "Clothes drier (with condenser) (2,55kW)      31.577\n",
      "Dish washer (12 place setting, 3,1kW)        35.951\n",
      "Electric Cooker (hot plate+oven) (6kW)      427.344\n",
      "Electric heating (altogether) ()           1376.552\n",
      "TV (60cm)                                   108.253\n",
      "TV (60cm).1                                  12.025\n",
      "Washing machine ()                              4.0\n",
      "Water heater ()                             382.982\n",
      "dtype: object\n",
      "\n",
      "\n",
      "Sheet: 2000939\n",
      "Morning sum (8 am - 10 am):\n",
      "Clothes drier (without condenser) (1,8kW)     31.309\n",
      "Dish washer (12 place setting)                83.795\n",
      "Electric oven ()                              33.521\n",
      "Microwave oven ()                             13.797\n",
      "Microwave oven ().1                            1.093\n",
      "Washing machine ()                           134.362\n",
      "dtype: object\n",
      "\n",
      "Evening sum (6 pm - 10 pm):\n",
      "Clothes drier (without condenser) (1,8kW)     21.893\n",
      "Dish washer (12 place setting)                63.585\n",
      "Electric oven ()                             158.016\n",
      "Microwave oven ()                             22.446\n",
      "Microwave oven ().1                           30.232\n",
      "Washing machine ()                             5.541\n",
      "dtype: object\n",
      "\n",
      "\n",
      "Sheet: 2000940\n",
      "Morning sum (8 am - 10 am):\n",
      "Clothes drier (without condenser) ()    163.997\n",
      "Dish washer (12 place setting)           35.451\n",
      "Power supply for gas boiler ()            9.914\n",
      "TV (51cm)                                   0.0\n",
      "Washing machine ()                         9.44\n",
      "dtype: object\n",
      "\n",
      "Evening sum (6 pm - 10 pm):\n",
      "Clothes drier (without condenser) ()    334.302\n",
      "Dish washer (12 place setting)           67.637\n",
      "Power supply for gas boiler ()           20.628\n",
      "TV (51cm)                                38.579\n",
      "Washing machine ()                      102.853\n",
      "dtype: object\n",
      "\n",
      "\n",
      "Sheet: 2000941\n",
      "Morning sum (8 am - 10 am):\n",
      "Dish washer (12 place setting)         83.204\n",
      "Electric Cooker (hot plate+oven) ()    15.261\n",
      "Microwave oven ()                       1.906\n",
      "TV (51cm)                               3.316\n",
      "Washing machine ()                     25.184\n",
      "dtype: object\n",
      "\n",
      "Evening sum (6 pm - 10 pm):\n",
      "Dish washer (12 place setting)         22.681\n",
      "Electric Cooker (hot plate+oven) ()    32.486\n",
      "Microwave oven ()                      19.369\n",
      "TV (51cm)                              36.961\n",
      "Washing machine ()                      7.283\n",
      "dtype: object\n",
      "\n",
      "\n",
      "Sheet: 2000942\n",
      "Morning sum (8 am - 10 am):\n",
      "Microwave oven (1,35kW)            27.112\n",
      "Power supply for fuel boiler ()     23.97\n",
      "TV (65cm)                          30.542\n",
      "Washing machine ()                 41.532\n",
      "dtype: object\n",
      "\n",
      "Evening sum (6 pm - 10 pm):\n",
      "Microwave oven (1,35kW)            49.632\n",
      "Power supply for fuel boiler ()    37.372\n",
      "TV (65cm)                          91.525\n",
      "Washing machine ()                 75.372\n",
      "dtype: object\n",
      "\n",
      "\n",
      "Sheet: 2000943\n",
      "Morning sum (8 am - 10 am):\n",
      "Clothes drier (without condenser) ()    16.636\n",
      "Dish washer (12 place setting)          13.791\n",
      "Electric oven ()                         8.958\n",
      "Microwave oven ()                        8.324\n",
      "Power supply for fuel boiler ()         47.752\n",
      "Washing machine ()                      29.398\n",
      "dtype: object\n",
      "\n",
      "Evening sum (6 pm - 10 pm):\n",
      "Clothes drier (without condenser) ()    75.465\n",
      "Dish washer (12 place setting)          69.097\n",
      "Electric oven ()                        56.283\n",
      "Microwave oven ()                       10.927\n",
      "Power supply for fuel boiler ()         91.204\n",
      "Washing machine ()                      21.213\n",
      "dtype: object\n",
      "\n",
      "\n",
      "Sheet: 2000944\n",
      "Morning sum (8 am - 10 am):\n",
      "Clothes drier (without condenser) ()    24.174\n",
      "Dish washer (12 place setting)          10.186\n",
      "Electric heating (altogether) ()        668.34\n",
      "Washing machine ()                       4.224\n",
      "Water heater ()                            0.0\n",
      "dtype: object\n",
      "\n",
      "Evening sum (6 pm - 10 pm):\n",
      "Clothes drier (without condenser) ()      79.091\n",
      "Dish washer (12 place setting)           121.319\n",
      "Electric heating (altogether) ()        1361.111\n",
      "Washing machine ()                        16.685\n",
      "Water heater ()                              0.0\n",
      "dtype: object\n",
      "\n",
      "\n",
      "Sheet: 2000945\n",
      "Morning sum (8 am - 10 am):\n",
      "Electric Cooker (hot plate+oven) ()    24.168\n",
      "Electric heating (altogether) ()       266.88\n",
      "Microwave oven ()                      10.374\n",
      "TV (70cm)                              51.524\n",
      "TV (55cm)                               0.835\n",
      "Washing machine ()                     22.326\n",
      "Water heater ()                          8.74\n",
      "dtype: object\n",
      "\n",
      "Evening sum (6 pm - 10 pm):\n",
      "Electric Cooker (hot plate+oven) ()    142.731\n",
      "Electric heating (altogether) ()       854.491\n",
      "Microwave oven ()                       11.596\n",
      "TV (70cm)                              114.139\n",
      "TV (55cm)                                4.067\n",
      "Washing machine ()                       0.126\n",
      "Water heater ()                            0.0\n",
      "dtype: object\n",
      "\n",
      "\n",
      "Sheet: 2000946\n",
      "Morning sum (8 am - 10 am):\n",
      "Clothes drier (without condenser) ()    17.992\n",
      "Dish washer (12 place setting)          22.143\n",
      "Electric oven ()                         33.17\n",
      "Hot plate ()                             7.023\n",
      "Microwave oven ()                       25.358\n",
      "Washing machine ()                      69.862\n",
      "dtype: object\n",
      "\n",
      "Evening sum (6 pm - 10 pm):\n",
      "Clothes drier (without condenser) ()     69.97\n",
      "Dish washer (12 place setting)           28.12\n",
      "Electric oven ()                        41.154\n",
      "Hot plate ()                             10.56\n",
      "Microwave oven ()                       31.056\n",
      "Washing machine ()                      21.156\n",
      "dtype: object\n",
      "\n",
      "\n",
      "Sheet: 2000947\n",
      "Morning sum (8 am - 10 am):\n",
      "Clothes drier (without condenser) ()     154.868\n",
      "Dish washer (12 place setting, 3,3kW)     58.267\n",
      "Electric oven ()                          14.565\n",
      "Hot plate ()                              18.453\n",
      "Microwave oven ()                         10.399\n",
      "TV (51cm)                                 25.176\n",
      "TV (36cm)                                  9.005\n",
      "TV (36cm).1                               12.661\n",
      "Washing machine ()                        70.409\n",
      "dtype: object\n",
      "\n",
      "Evening sum (6 pm - 10 pm):\n",
      "Clothes drier (without condenser) ()     216.304\n",
      "Dish washer (12 place setting, 3,3kW)    118.292\n",
      "Electric oven ()                          25.687\n",
      "Hot plate ()                              51.937\n",
      "Microwave oven ()                         20.648\n",
      "TV (51cm)                                 74.222\n",
      "TV (36cm)                                 24.488\n",
      "TV (36cm).1                               34.498\n",
      "Washing machine ()                        73.581\n",
      "dtype: object\n",
      "\n",
      "\n",
      "Sheet: 2000948\n",
      "Morning sum (8 am - 10 am):\n",
      "Dish washer (12 place setting)           3.335\n",
      "Electric Cooker (hot plate+oven) ()     18.544\n",
      "Heat pump ()                           274.132\n",
      "Washing machine+clothes drier ()        15.257\n",
      "Water heater ()                            0.0\n",
      "Water pump ()                           99.831\n",
      "dtype: object\n",
      "\n",
      "Evening sum (6 pm - 10 pm):\n",
      "Dish washer (12 place setting)          41.842\n",
      "Electric Cooker (hot plate+oven) ()    138.238\n",
      "Heat pump ()                            524.52\n",
      "Washing machine+clothes drier ()         2.942\n",
      "Water heater ()                            0.0\n",
      "Water pump ()                            218.8\n",
      "dtype: object\n",
      "\n",
      "\n",
      "Sheet: 2000949\n",
      "Morning sum (8 am - 10 am):\n",
      "Dish washer (12 place setting)     7.952\n",
      "Electric oven ()                   2.182\n",
      "Microwave oven (1,1kW)               0.0\n",
      "Power supply for gas boiler ()     55.09\n",
      "TV ()                             13.648\n",
      "Washing machine ()                 3.541\n",
      "dtype: object\n",
      "\n",
      "Evening sum (6 pm - 10 pm):\n",
      "Dish washer (12 place setting)       6.53\n",
      "Electric oven ()                   20.534\n",
      "Microwave oven (1,1kW)             10.811\n",
      "Power supply for gas boiler ()    117.734\n",
      "TV ()                                79.7\n",
      "Washing machine ()                  5.502\n",
      "dtype: object\n",
      "\n",
      "\n",
      "Sheet: 2000950\n",
      "Morning sum (8 am - 10 am):\n",
      "Dish washer (12 place setting)    258.966\n",
      "Microwave oven ()                   2.761\n",
      "TV ()                              11.186\n",
      "TV ().1                             0.042\n",
      "Washing machine ()                134.814\n",
      "dtype: object\n",
      "\n",
      "Evening sum (6 pm - 10 pm):\n",
      "Dish washer (12 place setting)    150.896\n",
      "Microwave oven ()                  11.433\n",
      "TV ()                              76.926\n",
      "TV ().1                              4.16\n",
      "Washing machine ()                 60.307\n",
      "dtype: object\n",
      "\n",
      "\n",
      "Sheet: 2000951\n",
      "Morning sum (8 am - 10 am):\n",
      "Electric Cooker (hot plate+oven) ()      7.68\n",
      "Microwave oven ()                      13.601\n",
      "Washing machine ()                     12.065\n",
      "dtype: object\n",
      "\n",
      "Evening sum (6 pm - 10 pm):\n",
      "Electric Cooker (hot plate+oven) ()    128.427\n",
      "Microwave oven ()                       20.834\n",
      "Washing machine ()                      13.327\n",
      "dtype: object\n",
      "\n",
      "\n",
      "Sheet: 2000952\n",
      "Morning sum (8 am - 10 am):\n",
      "Clothes drier (without condenser) ()    22.239\n",
      "Dish washer (12 place setting)          62.601\n",
      "Electric oven ()                        15.847\n",
      "Microwave oven (1,5kW)                   5.834\n",
      "Power supply for fuel boiler ()         25.679\n",
      "TV (70cm)                                6.953\n",
      "TV (55cm)                               11.486\n",
      "TV (36cm)                                7.971\n",
      "Washing machine ()                      60.643\n",
      "dtype: object\n",
      "\n",
      "Evening sum (6 pm - 10 pm):\n",
      "Clothes drier (without condenser) ()    16.696\n",
      "Dish washer (12 place setting)          38.978\n",
      "Electric oven ()                         23.15\n",
      "Microwave oven (1,5kW)                  15.532\n",
      "Power supply for fuel boiler ()         54.291\n",
      "TV (70cm)                               21.717\n",
      "TV (55cm)                               18.154\n",
      "TV (36cm)                               21.531\n",
      "Washing machine ()                      57.204\n",
      "dtype: object\n",
      "\n",
      "\n",
      "Sheet: 2000953\n",
      "Morning sum (8 am - 10 am):\n",
      "Dish washer (12 place setting)         4.677\n",
      "Electric heating (altogether) ()    1018.512\n",
      "TV (63cm)                              0.771\n",
      "TV (36cm)                              0.061\n",
      "Washing machine ()                    23.003\n",
      "Water heater ()                      160.874\n",
      "dtype: object\n",
      "\n",
      "Evening sum (6 pm - 10 pm):\n",
      "Dish washer (12 place setting)        84.158\n",
      "Electric heating (altogether) ()    1503.769\n",
      "TV (63cm)                             85.252\n",
      "TV (36cm)                              2.916\n",
      "Washing machine ()                     18.17\n",
      "Water heater ()                      334.952\n",
      "dtype: object\n",
      "\n",
      "\n",
      "Sheet: 2000954\n",
      "Morning sum (8 am - 10 am):\n",
      "Electric heating (altogether) ()    1125.229\n",
      "TV (70cm)                             19.904\n",
      "TV (36cm)                              4.452\n",
      "Washing machine ()                    13.467\n",
      "Water heater ()                      377.799\n",
      "dtype: object\n",
      "\n",
      "Evening sum (6 pm - 10 pm):\n",
      "Electric heating (altogether) ()    1723.609\n",
      "TV (70cm)                             98.071\n",
      "TV (36cm)                              6.765\n",
      "Washing machine ()                     2.395\n",
      "Water heater ()                      208.903\n",
      "dtype: object\n",
      "\n",
      "\n",
      "Sheet: 2000955\n",
      "Morning sum (8 am - 10 am):\n",
      "Electric oven ()        9.294\n",
      "TV (36cm)               0.441\n",
      "Washing machine ()     29.646\n",
      "Water heater ()       252.009\n",
      "dtype: object\n",
      "\n",
      "Evening sum (6 pm - 10 pm):\n",
      "Electric oven ()      148.386\n",
      "TV (36cm)              11.117\n",
      "Washing machine ()      7.957\n",
      "Water heater ()       500.118\n",
      "dtype: object\n",
      "\n",
      "\n",
      "Sheet: 2000956\n",
      "Morning sum (8 am - 10 am):\n",
      "Electric oven ()       3.276\n",
      "Microwave oven ()      7.872\n",
      "TV ()                  7.907\n",
      "TV ().1                  0.0\n",
      "Washing machine ()     1.521\n",
      "Water heater ()       12.632\n",
      "dtype: object\n",
      "\n",
      "Evening sum (6 pm - 10 pm):\n",
      "Electric oven ()      42.045\n",
      "Microwave oven ()     17.007\n",
      "TV ()                 48.109\n",
      "TV ().1               15.808\n",
      "Washing machine ()       0.0\n",
      "Water heater ()        0.011\n",
      "dtype: object\n",
      "\n",
      "\n",
      "Sheet: 2000957\n",
      "Morning sum (8 am - 10 am):\n",
      "Microwave oven (1,45kW)     3.595\n",
      "TV (63cm)                   6.494\n",
      "Washing machine ()         58.637\n",
      "dtype: object\n",
      "\n",
      "Evening sum (6 pm - 10 pm):\n",
      "Microwave oven (1,45kW)     11.06\n",
      "TV (63cm)                  15.799\n",
      "Washing machine ()         49.096\n",
      "dtype: object\n",
      "\n",
      "\n",
      "Sheet: 2000958\n",
      "Morning sum (8 am - 10 am):\n",
      "Microwave oven (1,3kW)     4.041\n",
      "TV (63cm)                 22.882\n",
      "TV (36cm)                  0.329\n",
      "Washing machine ()        37.168\n",
      "dtype: object\n",
      "\n",
      "Evening sum (6 pm - 10 pm):\n",
      "Microwave oven (1,3kW)     8.658\n",
      "TV (63cm)                 57.784\n",
      "TV (36cm)                  6.072\n",
      "Washing machine ()         1.867\n",
      "dtype: object\n",
      "\n",
      "\n",
      "Sheet: 2000959\n",
      "Morning sum (8 am - 10 am):\n",
      "Clothes drier (without condenser) ()      5.112\n",
      "Electric heating (altogether) ()        159.562\n",
      "Microwave oven (0,9kW)                    9.178\n",
      "TV (60cm)                                 4.626\n",
      "Washing machine ()                        4.658\n",
      "Water heater ()                           1.263\n",
      "dtype: object\n",
      "\n",
      "Evening sum (6 pm - 10 pm):\n",
      "Clothes drier (without condenser) ()      20.16\n",
      "Electric heating (altogether) ()        283.075\n",
      "Microwave oven (0,9kW)                   11.074\n",
      "TV (60cm)                                50.295\n",
      "Washing machine ()                        1.411\n",
      "Water heater ()                             0.0\n",
      "dtype: object\n",
      "\n",
      "\n",
      "Sheet: 2000960\n",
      "Morning sum (8 am - 10 am):\n",
      "Clothes drier (with condenser) ()    42.294\n",
      "Microwave oven ()                     6.391\n",
      "TV (55cm)                             11.44\n",
      "TV (36cm)                             5.933\n",
      "Washing machine ()                   34.945\n",
      "dtype: object\n",
      "\n",
      "Evening sum (6 pm - 10 pm):\n",
      "Clothes drier (with condenser) ()    244.121\n",
      "Microwave oven ()                     11.392\n",
      "TV (55cm)                             59.926\n",
      "TV (36cm)                              2.592\n",
      "Washing machine ()                     99.53\n",
      "dtype: object\n",
      "\n",
      "\n",
      "Sheet: 2000961\n",
      "Morning sum (8 am - 10 am):\n",
      "Dish washer (12 place setting)    18.091\n",
      "Washing machine ()                 1.618\n",
      "dtype: object\n",
      "\n",
      "Evening sum (6 pm - 10 pm):\n",
      "Dish washer (12 place setting)    51.454\n",
      "Washing machine ()                 4.097\n",
      "dtype: object\n",
      "\n",
      "\n",
      "Sheet: 2000962\n",
      "Morning sum (8 am - 10 am):\n",
      "Clothes drier (without condenser) ()     73.691\n",
      "Microwave oven ()                         1.391\n",
      "TV ()                                    29.993\n",
      "TV ().1                                    1.06\n",
      "Washing machine ()                       53.124\n",
      "Water heater ()                         534.185\n",
      "dtype: object\n",
      "\n",
      "Evening sum (6 pm - 10 pm):\n",
      "Clothes drier (without condenser) ()    306.691\n",
      "Microwave oven ()                        26.399\n",
      "TV ()                                   113.182\n",
      "TV ().1                                   4.055\n",
      "Washing machine ()                       71.791\n",
      "Water heater ()                         842.713\n",
      "dtype: object\n",
      "\n",
      "\n",
      "Sheet: 2000963\n",
      "Morning sum (8 am - 10 am):\n",
      "TV (36cm)             9.823\n",
      "Washing machine ()      3.0\n",
      "dtype: object\n",
      "\n",
      "Evening sum (6 pm - 10 pm):\n",
      "TV (36cm)             23.595\n",
      "Washing machine ()     3.246\n",
      "dtype: object\n",
      "\n",
      "\n",
      "Sheet: 2000964\n",
      "Morning sum (8 am - 10 am):\n",
      "Dish washer (12 place setting)                      62.908\n",
      "Electric Cooker (hot plate+oven) (1 elec, 3 gas)     2.241\n",
      "Microwave oven ()                                    3.939\n",
      "TV (55cm)                                            8.476\n",
      "TV (36cm)                                            1.308\n",
      "Washing machine ()                                  40.822\n",
      "dtype: object\n",
      "\n",
      "Evening sum (6 pm - 10 pm):\n",
      "Dish washer (12 place setting)                      199.484\n",
      "Electric Cooker (hot plate+oven) (1 elec, 3 gas)     86.096\n",
      "Microwave oven ()                                    30.863\n",
      "TV (55cm)                                            65.657\n",
      "TV (36cm)                                             7.991\n",
      "Washing machine ()                                    49.39\n",
      "dtype: object\n",
      "\n",
      "\n",
      "Sheet: 2000965\n",
      "Morning sum (8 am - 10 am):\n",
      "Clothes drier (without condenser) ()    46.311\n",
      "Washing machine ()                      49.239\n",
      "dtype: object\n",
      "\n",
      "Evening sum (6 pm - 10 pm):\n",
      "Clothes drier (without condenser) ()    61.119\n",
      "Washing machine ()                       21.51\n",
      "dtype: object\n",
      "\n",
      "\n",
      "Sheet: 2000966\n",
      "Morning sum (8 am - 10 am):\n",
      "Clothes drier (without condenser) ()    109.741\n",
      "Dish washer (12 place setting)           67.771\n",
      "Electric oven (2,58kW)                    0.725\n",
      "TV ()                                      3.45\n",
      "TV ().1                                   0.164\n",
      "Washing machine (2kW)                    27.819\n",
      "dtype: object\n",
      "\n",
      "Evening sum (6 pm - 10 pm):\n",
      "Clothes drier (without condenser) ()    251.908\n",
      "Dish washer (12 place setting)           84.081\n",
      "Electric oven (2,58kW)                   89.681\n",
      "TV ()                                    47.382\n",
      "TV ().1                                   3.894\n",
      "Washing machine (2kW)                     83.33\n",
      "dtype: object\n",
      "\n",
      "\n",
      "Sheet: 2000967\n",
      "Morning sum (8 am - 10 am):\n",
      "Electric heating (altogether) ()    547.973\n",
      "Hot plate (ceramic hobs)              0.176\n",
      "Microwave oven (1,25kW)               1.749\n",
      "Microwave oven (1,7kW)                4.072\n",
      "TV (33cm)                             0.498\n",
      "Washing machine ()                    5.706\n",
      "Water heater ()                       2.721\n",
      "dtype: object\n",
      "\n",
      "Evening sum (6 pm - 10 pm):\n",
      "Electric heating (altogether) ()    906.946\n",
      "Hot plate (ceramic hobs)             80.286\n",
      "Microwave oven (1,25kW)               5.827\n",
      "Microwave oven (1,7kW)               64.462\n",
      "TV (33cm)                             45.11\n",
      "Washing machine ()                   14.479\n",
      "Water heater ()                     220.357\n",
      "dtype: object\n",
      "\n",
      "\n",
      "Sheet: 2000968\n",
      "Morning sum (8 am - 10 am):\n",
      "Electric Cooker (hot plate+oven) (3,3kW)     1.148\n",
      "Electric heating (altogether) ()            83.296\n",
      "TV (33cm)                                    1.854\n",
      "Washing machine+clothes drier ()            10.363\n",
      "Water heater (100l)                          4.035\n",
      "dtype: object\n",
      "\n",
      "Evening sum (6 pm - 10 pm):\n",
      "Electric Cooker (hot plate+oven) (3,3kW)      68.67\n",
      "Electric heating (altogether) ()            136.704\n",
      "TV (33cm)                                    22.363\n",
      "Washing machine+clothes drier ()             58.607\n",
      "Water heater (100l)                          17.088\n",
      "dtype: object\n",
      "\n",
      "\n",
      "Sheet: 2000969\n",
      "Morning sum (8 am - 10 am):\n",
      "Dish washer (6 place setting)         0.366\n",
      "Electric heating (altogether) ()    509.909\n",
      "Microwave oven ()                      6.46\n",
      "TV ()                                 0.132\n",
      "Washing machine+clothes drier ()     13.543\n",
      "dtype: object\n",
      "\n",
      "Evening sum (6 pm - 10 pm):\n",
      "Dish washer (6 place setting)         4.036\n",
      "Electric heating (altogether) ()    807.135\n",
      "Microwave oven ()                    11.049\n",
      "TV ()                                11.524\n",
      "Washing machine+clothes drier ()     31.192\n",
      "dtype: object\n",
      "\n",
      "\n",
      "Sheet: 2000970\n",
      "Morning sum (8 am - 10 am):\n",
      "Clothes drier (with condenser) ()        20.921\n",
      "Dish washer (12 place setting, 3,2kW)     12.23\n",
      "Electric oven (3,5kW)                     4.704\n",
      "TV (55cm)                                 2.124\n",
      "TV (36cm)                                 1.129\n",
      "dtype: object\n",
      "\n",
      "Evening sum (6 pm - 10 pm):\n",
      "Clothes drier (with condenser) ()         44.937\n",
      "Dish washer (12 place setting, 3,2kW)     65.443\n",
      "Electric oven (3,5kW)                    161.381\n",
      "TV (55cm)                                 54.137\n",
      "TV (36cm)                                 18.298\n",
      "dtype: object\n",
      "\n",
      "\n",
      "Sheet: 2000971\n",
      "Morning sum (8 am - 10 am):\n",
      "Computer site ()                    25.771\n",
      "Electric heating ()                 365.77\n",
      "Microwave oven ()                   11.666\n",
      "Power supply for fuel boiler ()     47.042\n",
      "TV ()                                5.104\n",
      "Washing machine ()                 122.152\n",
      "dtype: object\n",
      "\n",
      "Evening sum (6 pm - 10 pm):\n",
      "Computer site ()                   278.825\n",
      "Electric heating ()                682.663\n",
      "Microwave oven ()                   36.722\n",
      "Power supply for fuel boiler ()     82.966\n",
      "TV ()                               57.694\n",
      "Washing machine ()                  21.435\n",
      "dtype: object\n",
      "\n",
      "\n",
      "Sheet: 2000972\n",
      "Morning sum (8 am - 10 am):\n",
      "Clothes drier (with condenser) ()      85.083\n",
      "Dish washer (12 place setting)         31.162\n",
      "Electric Cooker (hot plate+oven) ()    11.355\n",
      "TV (68cm)                              23.378\n",
      "TV ()                                   5.851\n",
      "Washing machine ()                     32.896\n",
      "dtype: object\n",
      "\n",
      "Evening sum (6 pm - 10 pm):\n",
      "Clothes drier (with condenser) ()       90.614\n",
      "Dish washer (12 place setting)         111.226\n",
      "Electric Cooker (hot plate+oven) ()     82.622\n",
      "TV (68cm)                               76.096\n",
      "TV ()                                    5.413\n",
      "Washing machine ()                      15.088\n",
      "dtype: object\n",
      "\n",
      "\n",
      "Sheet: 2000973\n",
      "Morning sum (8 am - 10 am):\n",
      "Electric oven ()      6.832\n",
      "Microwave oven ()     0.241\n",
      "TV ()                 3.265\n",
      "Washing machine ()     39.2\n",
      "dtype: object\n",
      "\n",
      "Evening sum (6 pm - 10 pm):\n",
      "Electric oven ()      64.814\n",
      "Microwave oven ()     20.462\n",
      "TV ()                 15.058\n",
      "Washing machine ()    90.098\n",
      "dtype: object\n",
      "\n",
      "\n",
      "Sheet: 2000974\n",
      "Morning sum (8 am - 10 am):\n",
      "Dish washer (12 place setting)         0.0\n",
      "Electric heating (altogether) ()    10.758\n",
      "Electric oven ()                     0.001\n",
      "Hot plate ()                         7.932\n",
      "TV (70cm)                             3.46\n",
      "TV (35cm)                            0.196\n",
      "TV ()                                0.231\n",
      "Washing machine+clothes drier ()       0.0\n",
      "Water heater ()                        0.0\n",
      "dtype: object\n",
      "\n",
      "Evening sum (6 pm - 10 pm):\n",
      "Dish washer (12 place setting)       42.132\n",
      "Electric heating (altogether) ()    137.197\n",
      "Electric oven ()                     62.219\n",
      "Hot plate ()                        158.921\n",
      "TV (70cm)                            72.343\n",
      "TV (35cm)                            13.314\n",
      "TV ()                                 1.376\n",
      "Washing machine+clothes drier ()     35.948\n",
      "Water heater ()                     165.393\n",
      "dtype: object\n",
      "\n",
      "\n",
      "Sheet: 2000975\n",
      "Morning sum (8 am - 10 am):\n",
      "Electric heating (altogether) ()    203.142\n",
      "Hot plate ()                            0.0\n",
      "Microwave oven ()                      0.99\n",
      "TV ()                                 0.269\n",
      "Washing machine ()                    2.498\n",
      "Water heater ()                         0.0\n",
      "dtype: object\n",
      "\n",
      "Evening sum (6 pm - 10 pm):\n",
      "Electric heating (altogether) ()    371.067\n",
      "Hot plate ()                            0.0\n",
      "Microwave oven ()                    13.206\n",
      "TV ()                                12.637\n",
      "Washing machine ()                   13.783\n",
      "Water heater ()                       2.943\n",
      "dtype: object\n",
      "\n",
      "\n",
      "Sheet: 2000976\n",
      "Morning sum (8 am - 10 am):\n",
      "Microwave oven (1,1kW)     0.574\n",
      "TV (36cm)                  6.683\n",
      "TV (36cm).1                4.726\n",
      "Washing machine ()        47.403\n",
      "dtype: object\n",
      "\n",
      "Evening sum (6 pm - 10 pm):\n",
      "Microwave oven (1,1kW)     28.783\n",
      "TV (36cm)                   24.98\n",
      "TV (36cm).1                14.718\n",
      "Washing machine ()        106.219\n",
      "dtype: object\n",
      "\n",
      "\n",
      "Sheet: 2000977\n",
      "Morning sum (8 am - 10 am):\n",
      "Electric heating ()         77.438\n",
      "Electric heating ().1      102.633\n",
      "Electric heating ().2      115.234\n",
      "Microwave oven (0,65kW)      3.678\n",
      "TV (35cm)                   12.888\n",
      "Water heater ()              5.423\n",
      "dtype: object\n",
      "\n",
      "Evening sum (6 pm - 10 pm):\n",
      "Electric heating ()         147.37\n",
      "Electric heating ().1      151.331\n",
      "Electric heating ().2      174.942\n",
      "Microwave oven (0,65kW)     33.714\n",
      "TV (35cm)                   43.667\n",
      "Water heater ()             67.192\n",
      "dtype: object\n",
      "\n",
      "\n",
      "Sheet: 2000978\n",
      "Morning sum (8 am - 10 am):\n",
      "Clothes drier (with condenser) ()    49.558\n",
      "Electric heating (altogether) ()     11.536\n",
      "Electric oven (3,14kW)                 3.03\n",
      "TV ()                                15.287\n",
      "TV (33cm)                             0.162\n",
      "Washing machine ()                   27.946\n",
      "Water heater ()                      81.608\n",
      "dtype: object\n",
      "\n",
      "Evening sum (6 pm - 10 pm):\n",
      "Clothes drier (with condenser) ()    122.981\n",
      "Electric heating (altogether) ()      30.627\n",
      "Electric oven (3,14kW)                77.862\n",
      "TV ()                                113.742\n",
      "TV (33cm)                             12.202\n",
      "Washing machine ()                   155.601\n",
      "Water heater ()                      708.446\n",
      "dtype: object\n",
      "\n",
      "\n",
      "Sheet: 2000979\n",
      "Morning sum (8 am - 10 am):\n",
      "Dish washer (12 place setting)     28.854\n",
      "Electric oven (2,6kW)               6.069\n",
      "Microwave oven (3,35kW)             0.291\n",
      "Power supply for wall boiler ()    26.149\n",
      "TV ()                               4.725\n",
      "Washing machine ()                 87.791\n",
      "dtype: object\n",
      "\n",
      "Evening sum (6 pm - 10 pm):\n",
      "Dish washer (12 place setting)      69.461\n",
      "Electric oven (2,6kW)              110.921\n",
      "Microwave oven (3,35kW)             10.996\n",
      "Power supply for wall boiler ()     60.468\n",
      "TV ()                                9.818\n",
      "Washing machine ()                  17.626\n",
      "dtype: object\n",
      "\n",
      "\n",
      "Sheet: 2000980\n",
      "Morning sum (8 am - 10 am):\n",
      "Dish washer (12 place setting)    48.406\n",
      "Electric oven ()                    0.35\n",
      "Hot plate ()                       3.347\n",
      "Microwave oven ()                  4.402\n",
      "TV (33cm)                          2.685\n",
      "TV ()                              5.951\n",
      "Washing machine ()                 26.91\n",
      "dtype: object\n",
      "\n",
      "Evening sum (6 pm - 10 pm):\n",
      "Dish washer (12 place setting)     94.025\n",
      "Electric oven ()                  131.574\n",
      "Hot plate ()                      224.438\n",
      "Microwave oven ()                  10.568\n",
      "TV (33cm)                           17.77\n",
      "TV ()                               4.546\n",
      "Washing machine ()                 35.934\n",
      "dtype: object\n",
      "\n",
      "\n",
      "Sheet: 2000981\n",
      "Morning sum (8 am - 10 am):\n",
      "Dish washer (12 place setting)     9.378\n",
      "Microwave oven ()                 15.229\n",
      "TV ()                              9.911\n",
      "TV ().1                            0.019\n",
      "Washing machine ()                 2.488\n",
      "Water heater ()                    9.195\n",
      "dtype: object\n",
      "\n",
      "Evening sum (6 pm - 10 pm):\n",
      "Dish washer (12 place setting)    17.708\n",
      "Microwave oven ()                 98.626\n",
      "TV ()                             29.707\n",
      "TV ().1                            0.752\n",
      "Washing machine ()                  5.75\n",
      "Water heater ()                    0.844\n",
      "dtype: object\n",
      "\n",
      "\n",
      "Sheet: 2000982\n",
      "Morning sum (8 am - 10 am):\n",
      "Electric heating (altogether) ()    238.782\n",
      "Electric oven (3,375kW)              13.183\n",
      "Hot plate (6kW)                       7.136\n",
      "Microwave oven (1kW)                  8.042\n",
      "TV ()                                 4.872\n",
      "Washing machine+clothes drier ()     50.198\n",
      "Water heater ()                         0.0\n",
      "dtype: object\n",
      "\n",
      "Evening sum (6 pm - 10 pm):\n",
      "Electric heating (altogether) ()    867.199\n",
      "Electric oven (3,375kW)              50.226\n",
      "Hot plate (6kW)                      66.917\n",
      "Microwave oven (1kW)                  8.257\n",
      "TV ()                                19.676\n",
      "Washing machine+clothes drier ()     75.324\n",
      "Water heater ()                        4.97\n",
      "dtype: object\n",
      "\n",
      "\n",
      "Sheet: 2000983\n",
      "Morning sum (8 am - 10 am):\n",
      "Dish washer (12 place setting)       4.009\n",
      "Electric heating (altogether) ()     75.86\n",
      "Hot plate ()                          1.65\n",
      "Microwave oven (3,2kW)               2.949\n",
      "TV (33cm)                            3.693\n",
      "Washing machine+clothes drier ()     4.082\n",
      "Water heater ()                        0.0\n",
      "Water heater ().1                   16.987\n",
      "dtype: object\n",
      "\n",
      "Evening sum (6 pm - 10 pm):\n",
      "Dish washer (12 place setting)        1.863\n",
      "Electric heating (altogether) ()    141.669\n",
      "Hot plate ()                          43.99\n",
      "Microwave oven (3,2kW)               55.345\n",
      "TV (33cm)                            32.488\n",
      "Washing machine+clothes drier ()      4.522\n",
      "Water heater ()                       8.717\n",
      "Water heater ().1                    38.638\n",
      "dtype: object\n",
      "\n",
      "\n",
      "Sheet: 2000984\n",
      "Morning sum (8 am - 10 am):\n",
      "Dish washer (12 place setting)         11.213\n",
      "Electric Cooker (hot plate+oven) ()    20.057\n",
      "Microwave oven ()                       1.168\n",
      "TV (70cm)                               5.939\n",
      "TV (35cm)                               0.597\n",
      "Washing machine ()                     26.819\n",
      "dtype: object\n",
      "\n",
      "Evening sum (6 pm - 10 pm):\n",
      "Dish washer (12 place setting)          49.486\n",
      "Electric Cooker (hot plate+oven) ()    350.149\n",
      "Microwave oven ()                        2.562\n",
      "TV (70cm)                               93.741\n",
      "TV (35cm)                               13.983\n",
      "Washing machine ()                       54.46\n",
      "dtype: object\n",
      "\n",
      "\n",
      "Sheet: 2000985\n",
      "Morning sum (8 am - 10 am):\n",
      "Dish washer (12 place setting)         27.825\n",
      "Electric Cooker (hot plate+oven) ()     2.852\n",
      "Microwave oven ()                       4.964\n",
      "TV (70cm)                               8.494\n",
      "Washing machine ()                     61.384\n",
      "dtype: object\n",
      "\n",
      "Evening sum (6 pm - 10 pm):\n",
      "Dish washer (12 place setting)          57.125\n",
      "Electric Cooker (hot plate+oven) ()    163.563\n",
      "Microwave oven ()                        8.116\n",
      "TV (70cm)                               33.086\n",
      "Washing machine ()                      65.016\n",
      "dtype: object\n",
      "\n",
      "\n",
      "Sheet: 2000986\n",
      "Morning sum (8 am - 10 am):\n",
      "Electric Cooker (hot plate+oven) ()       0.0\n",
      "Microwave oven ()                      14.442\n",
      "Microwave oven (1,1kW)                  0.842\n",
      "TV (55cm)                              11.052\n",
      "Washing machine ()                     25.444\n",
      "dtype: object\n",
      "\n",
      "Evening sum (6 pm - 10 pm):\n",
      "Electric Cooker (hot plate+oven) ()    11.491\n",
      "Microwave oven ()                      15.441\n",
      "Microwave oven (1,1kW)                 54.506\n",
      "TV (55cm)                              60.646\n",
      "Washing machine ()                     21.004\n",
      "dtype: object\n",
      "\n",
      "\n",
      "Sheet: 2000987\n",
      "Morning sum (8 am - 10 am):\n",
      "Clothes drier (without condenser) ()     0.854\n",
      "Electric Cooker (hot plate+oven) ()        0.0\n",
      "Microwave oven ()                        5.481\n",
      "TV (50cm)                               14.642\n",
      "TV (47cm)                                0.146\n",
      "Washing machine ()                      17.324\n",
      "Water heater (200l)                      9.613\n",
      "dtype: object\n",
      "\n",
      "Evening sum (6 pm - 10 pm):\n",
      "Clothes drier (without condenser) ()     2.812\n",
      "Electric Cooker (hot plate+oven) ()     59.985\n",
      "Microwave oven ()                        8.479\n",
      "TV (50cm)                               71.989\n",
      "TV (47cm)                                3.088\n",
      "Washing machine ()                      32.041\n",
      "Water heater (200l)                      2.299\n",
      "dtype: object\n",
      "\n",
      "\n",
      "Sheet: 2000988\n",
      "Morning sum (8 am - 10 am):\n",
      "Microwave oven (1,3kW)    35.157\n",
      "TV (55cm)                  4.951\n",
      "Washing machine ()        36.548\n",
      "dtype: object\n",
      "\n",
      "Evening sum (6 pm - 10 pm):\n",
      "Microwave oven (1,3kW)    104.989\n",
      "TV (55cm)                  29.118\n",
      "Washing machine ()          8.882\n",
      "dtype: object\n",
      "\n",
      "\n",
      "Sheet: 2000989\n",
      "Morning sum (8 am - 10 am):\n",
      "Clothes drier (with condenser) ()    52.324\n",
      "Dish washer (12 place setting)       54.096\n",
      "Microwave oven (1,65kW)              13.634\n",
      "TV (72cm)                            25.722\n",
      "TV (36cm)                              1.72\n",
      "Washing machine ()                   93.441\n",
      "dtype: object\n",
      "\n",
      "Evening sum (6 pm - 10 pm):\n",
      "Clothes drier (with condenser) ()    115.739\n",
      "Dish washer (12 place setting)       179.158\n",
      "Microwave oven (1,65kW)               24.385\n",
      "TV (72cm)                              80.47\n",
      "TV (36cm)                              7.506\n",
      "Washing machine ()                   123.287\n",
      "dtype: object\n",
      "\n",
      "\n",
      "Sheet: 2000990\n",
      "Morning sum (8 am - 10 am):\n",
      "Computer site ()                     17.101\n",
      "Electric heating (altogether) ()    116.544\n",
      "Microwave oven (2,75kW)               5.089\n",
      "TV (55cm)                             0.855\n",
      "Washing machine ()                   26.465\n",
      "Water heater ()                         0.0\n",
      "dtype: object\n",
      "\n",
      "Evening sum (6 pm - 10 pm):\n",
      "Computer site ()                    133.875\n",
      "Electric heating (altogether) ()    257.127\n",
      "Microwave oven (2,75kW)              21.657\n",
      "TV (55cm)                            52.789\n",
      "Washing machine ()                   28.443\n",
      "Water heater ()                         0.0\n",
      "dtype: object\n",
      "\n",
      "\n",
      "Sheet: 2000991\n",
      "Morning sum (8 am - 10 am):\n",
      "Dish washer (12 place setting)     13.942\n",
      "Microwave oven (1,2kW)              3.128\n",
      "Washing machine ()                101.007\n",
      "Water heater ()                     6.305\n",
      "dtype: object\n",
      "\n",
      "Evening sum (6 pm - 10 pm):\n",
      "Dish washer (12 place setting)     18.57\n",
      "Microwave oven (1,2kW)            13.732\n",
      "Washing machine ()                11.966\n",
      "Water heater ()                    7.047\n",
      "dtype: object\n",
      "\n",
      "\n",
      "Sheet: 2000992\n",
      "Morning sum (8 am - 10 am):\n",
      "Clothes drier (with condenser) ()    3.599\n",
      "Microwave oven ()                      0.0\n",
      "TV (55cm)                            1.168\n",
      "dtype: object\n",
      "\n",
      "Evening sum (6 pm - 10 pm):\n",
      "Clothes drier (with condenser) ()     6.448\n",
      "Microwave oven ()                     4.263\n",
      "TV (55cm)                            97.897\n",
      "dtype: object\n",
      "\n",
      "\n",
      "Sheet: 2000993\n",
      "Morning sum (8 am - 10 am):\n",
      "Dish washer (12 place setting)          4.57\n",
      "Electric Cooker (hot plate+oven) ()    1.093\n",
      "Microwave oven (1,98kW)                5.178\n",
      "Microwave oven ()                        0.0\n",
      "Power supply for fuel boiler ()        6.985\n",
      "TV (50cm)                              2.503\n",
      "Washing machine ()                     2.925\n",
      "dtype: object\n",
      "\n",
      "Evening sum (6 pm - 10 pm):\n",
      "Dish washer (12 place setting)         22.208\n",
      "Electric Cooker (hot plate+oven) ()     9.051\n",
      "Microwave oven (1,98kW)                 6.164\n",
      "Microwave oven ()                       0.742\n",
      "Power supply for fuel boiler ()        12.703\n",
      "TV (50cm)                               4.094\n",
      "Washing machine ()                     10.581\n",
      "dtype: object\n",
      "\n",
      "\n",
      "Sheet: 2000994\n",
      "Morning sum (8 am - 10 am):\n",
      "Microwave oven (1,25kW)    10.212\n",
      "TV (50cm)                   0.225\n",
      "TV ()                         0.0\n",
      "Washing machine ()          5.418\n",
      "dtype: object\n",
      "\n",
      "Evening sum (6 pm - 10 pm):\n",
      "Microwave oven (1,25kW)     2.907\n",
      "TV (50cm)                   27.76\n",
      "TV ()                         0.0\n",
      "Washing machine ()         12.857\n",
      "dtype: object\n",
      "\n",
      "\n",
      "Sheet: 2000995\n",
      "Morning sum (8 am - 10 am):\n",
      "Microwave oven (1,2kW)    24.527\n",
      "TV (65cm)                  9.816\n",
      "TV (24cm)                  2.839\n",
      "Washing machine ()         17.65\n",
      "dtype: object\n",
      "\n",
      "Evening sum (6 pm - 10 pm):\n",
      "Microwave oven (1,2kW)    34.915\n",
      "TV (65cm)                 51.219\n",
      "TV (24cm)                  6.768\n",
      "Washing machine ()         18.25\n",
      "dtype: object\n",
      "\n",
      "\n",
      "Sheet: 2000996\n",
      "Morning sum (8 am - 10 am):\n",
      "Clothes drier (without condenser) ()    11.886\n",
      "Dish washer (12 place setting)           4.716\n",
      "Electric deep frier ()                     0.0\n",
      "Electric oven ()                        21.019\n",
      "Microwave oven (1,25kW)                  8.257\n",
      "TV (70cm)                                9.874\n",
      "TV (36cm)                                0.658\n",
      "TV (66cm)                                 3.17\n",
      "Washing machine ()                      50.968\n",
      "dtype: object\n",
      "\n",
      "Evening sum (6 pm - 10 pm):\n",
      "Clothes drier (without condenser) ()     9.873\n",
      "Dish washer (12 place setting)          29.156\n",
      "Electric deep frier ()                   0.553\n",
      "Electric oven ()                        70.205\n",
      "Microwave oven (1,25kW)                   21.2\n",
      "TV (70cm)                               89.131\n",
      "TV (36cm)                                6.416\n",
      "TV (66cm)                                9.843\n",
      "Washing machine ()                      39.834\n",
      "dtype: object\n",
      "\n",
      "\n",
      "Sheet: 2000997\n",
      "Morning sum (8 am - 10 am):\n",
      "Dish washer (12 place setting)    22.127\n",
      "Electric oven ()                   8.618\n",
      "Microwave oven ()                 14.669\n",
      "TV (65cm)                          8.788\n",
      "TV (36cm)                          1.758\n",
      "Washing machine ()                18.708\n",
      "dtype: object\n",
      "\n",
      "Evening sum (6 pm - 10 pm):\n",
      "Dish washer (12 place setting)     98.288\n",
      "Electric oven ()                  136.989\n",
      "Microwave oven ()                  43.385\n",
      "TV (65cm)                          81.337\n",
      "TV (36cm)                          14.501\n",
      "Washing machine ()                  65.88\n",
      "dtype: object\n",
      "\n",
      "\n"
     ]
    }
   ],
   "source": [
    "\n",
    "\n",
    "# Define the time range for calculation (8 am - 10 am and 6 pm - 10 pm)\n",
    "start_time_morning = pd.Timestamp('08:00:00').time()\n",
    "end_time_morning = pd.Timestamp('10:00:00').time()\n",
    "start_time_evening = pd.Timestamp('18:00:00').time()\n",
    "end_time_evening = pd.Timestamp('22:00:00').time()\n",
    "\n",
    "# Initialize variables to accumulate morning and evening sums as Series objects\n",
    "total_morning_sum = pd.Series(dtype='float64')\n",
    "total_evening_sum = pd.Series(dtype='float64')\n",
    "\n",
    "# Iterate over each sheet and perform the filtering and calculation\n",
    "for sheet_name, df in combined_data_dict.items():\n",
    "    # Filter rows to include only flexible devices (second row)\n",
    "    flexibility_row = df.iloc[0] == 'flexible'\n",
    "    flexible_devices_df = df.loc[:, flexibility_row]\n",
    "\n",
    "    # Convert 'date' column to datetime format\n",
    "    df['date'] = pd.to_datetime(df['date'])\n",
    "\n",
    "    # Filter rows based on time range and calculate sum\n",
    "    morning_sum = flexible_devices_df[\n",
    "        (df['date'].dt.time >= start_time_morning) & \n",
    "        (df['date'].dt.time <= end_time_morning)\n",
    "    ].sum()/1000\n",
    "\n",
    "    evening_sum = flexible_devices_df[\n",
    "        (df['date'].dt.time >= start_time_evening) & \n",
    "        (df['date'].dt.time <= end_time_evening)\n",
    "    ].sum()/1000\n",
    "\n",
    "    # Accumulate morning and evening sums\n",
    "    total_morning_sum = total_morning_sum.add(morning_sum, fill_value=0)\n",
    "    total_evening_sum = total_evening_sum.add(evening_sum, fill_value=0)\n",
    "\n",
    "    print(f\"Sheet: {sheet_name}\")\n",
    "    print(\"Morning sum (8 am - 10 am):\")\n",
    "    print(morning_sum)\n",
    "    print(\"\\nEvening sum (6 pm - 10 pm):\")\n",
    "    print(evening_sum)\n",
    "    print(\"\\n\")\n",
    "\n",
    "\n"
   ]
  },
  {
   "cell_type": "code",
   "execution_count": 192,
   "metadata": {},
   "outputs": [
    {
     "name": "stdout",
     "output_type": "stream",
     "text": [
      "- - - - - - - - - - - - - - - - - - - - - - - - - \n",
      "Total Morning Sum:\n",
      "Clothes drier (with condenser) ()                    278.869\n",
      "Clothes drier (with condenser) (2,55kW)               22.192\n",
      "Clothes drier (without condenser) ()                 997.633\n",
      "Clothes drier (without condenser) (1,8kW)             31.309\n",
      "Clothes drier (without condenser) (2,5kW)              1.338\n",
      "Clothes drier (without condenser) (3,2kW)            201.952\n",
      "Clothes drier (without condenser) (5kg)                93.78\n",
      "Computer site ()                                      42.872\n",
      "Dish washer (12 place setting)                      1518.447\n",
      "Dish washer (12 place setting, 2,3kW)                176.641\n",
      "Dish washer (12 place setting, 3,1kW)                 15.756\n",
      "Dish washer (12 place setting, 3,2kW)                  12.23\n",
      "Dish washer (12 place setting, 3,3kW)                 58.267\n",
      "Dish washer (6 place setting)                          0.366\n",
      "Dish washer (8 place setting)                         23.824\n",
      "Electric Cooker (hot plate+oven) ()                  372.781\n",
      "Electric Cooker (hot plate+oven) (1 elec, 3 gas)       2.241\n",
      "Electric Cooker (hot plate+oven) (1,5kW)               2.638\n",
      "Electric Cooker (hot plate+oven) (3 radiant)          31.192\n",
      "Electric Cooker (hot plate+oven) (3,3kW)               1.148\n",
      "Electric Cooker (hot plate+oven) (5,1kW)              17.611\n",
      "Electric Cooker (hot plate+oven) (6kW)                43.808\n",
      "Electric deep frier ()                                   0.0\n",
      "Electric heating ()                                  443.208\n",
      "Electric heating ().1                                102.633\n",
      "Electric heating ().2                                115.234\n",
      "Electric heating (altogether) ()                    7443.293\n",
      "Electric oven ()                                     216.119\n",
      "Electric oven (1,1kW)                                  2.945\n",
      "Electric oven (2,1kW)                                 19.641\n",
      "Electric oven (2,58kW)                                 0.725\n",
      "Electric oven (2,5kW)                                    0.0\n",
      "Electric oven (2,6kW)                                  6.069\n",
      "Electric oven (2,95kW)                               249.537\n",
      "Electric oven (3,14kW)                                  3.03\n",
      "Electric oven (3,375kW)                               13.183\n",
      "Electric oven (3,5kW)                                  4.704\n",
      "Electric oven (Pyrolysis, 3,1kW)                       5.288\n",
      "Heat pump ()                                         797.181\n",
      "Heat pump water heater ()                            127.104\n",
      "Hot plate ()                                          42.744\n",
      "Hot plate (3 gas, 1elec)                               0.004\n",
      "Hot plate (6kW)                                        7.136\n",
      "Hot plate (ceramic hobs)                               0.176\n",
      "Microwave oven ()                                    289.029\n",
      "Microwave oven ().1                                    8.057\n",
      "Microwave oven (0,65kW)                                3.678\n",
      "Microwave oven (0,75kW)                               30.592\n",
      "Microwave oven (0,7kW)                                 0.701\n",
      "Microwave oven (0,95kW)                               11.193\n",
      "Microwave oven (0,9kW)                                 9.178\n",
      "Microwave oven (1,1kW)                                17.152\n",
      "Microwave oven (1,25kW)                               39.325\n",
      "Microwave oven (1,2kW)                                51.258\n",
      "Microwave oven (1,35kW)                               37.927\n",
      "Microwave oven (1,3kW)                               174.129\n",
      "Microwave oven (1,45kW)                                3.595\n",
      "Microwave oven (1,5kW)                                 5.834\n",
      "Microwave oven (1,65kW)                               13.634\n",
      "Microwave oven (1,6kW)                                21.527\n",
      "Microwave oven (1,7kW)                                 4.072\n",
      "Microwave oven (1,98kW)                                5.178\n",
      "Microwave oven (1kW)                                   8.726\n",
      "Microwave oven (2,5kW)                                  1.34\n",
      "Microwave oven (2,75kW)                                5.089\n",
      "Microwave oven (3,2kW)                                 2.949\n",
      "Microwave oven (3,35kW)                                0.291\n",
      "Microwave oven (3,4kW)                                  2.48\n",
      "Microwave oven (Fonte, 1,35kW)                        10.561\n",
      "Power supply for fuel boiler ()                      301.504\n",
      "Power supply for gas boiler ()                       104.572\n",
      "Power supply for wall boiler ()                       26.149\n",
      "Power supply for wood boiler ()                         32.8\n",
      "TV ()                                                211.731\n",
      "TV ().1                                               13.311\n",
      "TV ().2                                                7.974\n",
      "TV (24cm)                                              2.839\n",
      "TV (33cm)                                              8.892\n",
      "TV (35cm)                                             13.681\n",
      "TV (36cm)                                             151.16\n",
      "TV (36cm).1                                           31.323\n",
      "TV (47cm)                                             11.943\n",
      "TV (50cm)                                              17.37\n",
      "TV (51cm)                                            202.555\n",
      "TV (55cm)                                             65.202\n",
      "TV (56cm)                                             11.706\n",
      "TV (60cm)                                             21.998\n",
      "TV (60cm).1                                            0.409\n",
      "TV (61cm)                                              3.419\n",
      "TV (63cm)                                             38.871\n",
      "TV (65cm)                                             49.146\n",
      "TV (66cm)                                               3.17\n",
      "TV (67cm)                                             93.953\n",
      "TV (68cm)                                             23.378\n",
      "TV (70cm)                                            258.268\n",
      "TV (71cm)                                              2.519\n",
      "TV (72cm)                                             25.722\n",
      "TV (78cm)                                              35.01\n",
      "Total site light consumption (36cm)                   24.672\n",
      "Washing machine ()                                  3159.898\n",
      "Washing machine (1,85kW)                              99.077\n",
      "Washing machine (2,1kW)                               23.261\n",
      "Washing machine (2,25kW)                              38.622\n",
      "Washing machine (2,2kW)                               18.901\n",
      "Washing machine (2kW)                                 27.819\n",
      "Washing machine (3,25kW)                              54.856\n",
      "Washing machine (4,5kg, 2,2kW)                        175.34\n",
      "Washing machine (500rpm)                              37.149\n",
      "Washing machine (5kg)                                106.501\n",
      "Washing machine (5kg, 2,15kW)                        103.256\n",
      "Washing machine (5kg,750rpm)                          97.693\n",
      "Washing machine (800rpm)                              21.319\n",
      "Washing machine+clothes drier ()                     191.895\n",
      "Washing machine+clothes drier (2,23kW)                12.435\n",
      "Water heater ()                                     2047.538\n",
      "Water heater ().1                                     16.987\n",
      "Water heater (100l)                                    4.035\n",
      "Water heater (200l)                                    9.613\n",
      "Water pump ()                                         99.831\n",
      "- - - - - - - - - - - - - - - - - - - - - - - - - \n",
      "\n",
      "Total Evening Sum:\n",
      "Clothes drier (with condenser) ()                     709.094\n",
      "Clothes drier (with condenser) (2,55kW)                31.577\n",
      "Clothes drier (without condenser) ()                 2118.918\n",
      "Clothes drier (without condenser) (1,8kW)              21.893\n",
      "Clothes drier (without condenser) (2,5kW)               1.477\n",
      "Clothes drier (without condenser) (3,2kW)              56.751\n",
      "Clothes drier (without condenser) (5kg)               170.217\n",
      "Computer site ()                                        412.7\n",
      "Dish washer (12 place setting)                       3226.612\n",
      "Dish washer (12 place setting, 2,3kW)                 506.197\n",
      "Dish washer (12 place setting, 3,1kW)                  35.951\n",
      "Dish washer (12 place setting, 3,2kW)                  65.443\n",
      "Dish washer (12 place setting, 3,3kW)                 118.292\n",
      "Dish washer (6 place setting)                           4.036\n",
      "Dish washer (8 place setting)                          24.361\n",
      "Electric Cooker (hot plate+oven) ()                  2779.089\n",
      "Electric Cooker (hot plate+oven) (1 elec, 3 gas)       86.096\n",
      "Electric Cooker (hot plate+oven) (1,5kW)               84.273\n",
      "Electric Cooker (hot plate+oven) (3 radiant)          326.399\n",
      "Electric Cooker (hot plate+oven) (3,3kW)                68.67\n",
      "Electric Cooker (hot plate+oven) (5,1kW)              167.863\n",
      "Electric Cooker (hot plate+oven) (6kW)                427.344\n",
      "Electric deep frier ()                                  0.553\n",
      "Electric heating ()                                   830.033\n",
      "Electric heating ().1                                 151.331\n",
      "Electric heating ().2                                 174.942\n",
      "Electric heating (altogether) ()                    13341.317\n",
      "Electric oven ()                                     1204.852\n",
      "Electric oven (1,1kW)                                  19.046\n",
      "Electric oven (2,1kW)                                 129.598\n",
      "Electric oven (2,58kW)                                 89.681\n",
      "Electric oven (2,5kW)                                  17.239\n",
      "Electric oven (2,6kW)                                 110.921\n",
      "Electric oven (2,95kW)                                640.405\n",
      "Electric oven (3,14kW)                                 77.862\n",
      "Electric oven (3,375kW)                                50.226\n",
      "Electric oven (3,5kW)                                 161.381\n",
      "Electric oven (Pyrolysis, 3,1kW)                       104.55\n",
      "Heat pump ()                                         1286.993\n",
      "Heat pump water heater ()                             434.746\n",
      "Hot plate ()                                          582.407\n",
      "Hot plate (3 gas, 1elec)                                0.704\n",
      "Hot plate (6kW)                                        66.917\n",
      "Hot plate (ceramic hobs)                               80.286\n",
      "Microwave oven ()                                     729.883\n",
      "Microwave oven ().1                                    35.008\n",
      "Microwave oven (0,65kW)                                33.714\n",
      "Microwave oven (0,75kW)                                 2.611\n",
      "Microwave oven (0,7kW)                                  4.431\n",
      "Microwave oven (0,95kW)                                18.068\n",
      "Microwave oven (0,9kW)                                 11.074\n",
      "Microwave oven (1,1kW)                                126.235\n",
      "Microwave oven (1,25kW)                                 43.33\n",
      "Microwave oven (1,2kW)                                106.769\n",
      "Microwave oven (1,35kW)                                72.706\n",
      "Microwave oven (1,3kW)                                310.552\n",
      "Microwave oven (1,45kW)                                 11.06\n",
      "Microwave oven (1,5kW)                                 15.532\n",
      "Microwave oven (1,65kW)                                24.385\n",
      "Microwave oven (1,6kW)                                 56.454\n",
      "Microwave oven (1,7kW)                                 64.462\n",
      "Microwave oven (1,98kW)                                 6.164\n",
      "Microwave oven (1kW)                                    18.81\n",
      "Microwave oven (2,5kW)                                  1.376\n",
      "Microwave oven (2,75kW)                                21.657\n",
      "Microwave oven (3,2kW)                                 55.345\n",
      "Microwave oven (3,35kW)                                10.996\n",
      "Microwave oven (3,4kW)                                  2.419\n",
      "Microwave oven (Fonte, 1,35kW)                         22.147\n",
      "Power supply for fuel boiler ()                       689.144\n",
      "Power supply for gas boiler ()                        211.507\n",
      "Power supply for wall boiler ()                        60.468\n",
      "Power supply for wood boiler ()                        60.808\n",
      "TV ()                                                1042.798\n",
      "TV ().1                                               111.903\n",
      "TV ().2                                                 57.64\n",
      "TV (24cm)                                               6.768\n",
      "TV (33cm)                                             129.933\n",
      "TV (35cm)                                              70.964\n",
      "TV (36cm)                                             681.594\n",
      "TV (36cm).1                                           111.101\n",
      "TV (47cm)                                              84.698\n",
      "TV (50cm)                                             103.843\n",
      "TV (51cm)                                             783.697\n",
      "TV (55cm)                                             483.692\n",
      "TV (56cm)                                              28.877\n",
      "TV (60cm)                                             158.548\n",
      "TV (60cm).1                                            12.025\n",
      "TV (61cm)                                              90.277\n",
      "TV (63cm)                                             173.682\n",
      "TV (65cm)                                             224.081\n",
      "TV (66cm)                                               9.843\n",
      "TV (67cm)                                             361.384\n",
      "TV (68cm)                                              76.096\n",
      "TV (70cm)                                             966.586\n",
      "TV (71cm)                                               2.939\n",
      "TV (72cm)                                               80.47\n",
      "TV (78cm)                                              90.283\n",
      "Total site light consumption (36cm)                   169.078\n",
      "Washing machine ()                                   2520.053\n",
      "Washing machine (1,85kW)                              255.958\n",
      "Washing machine (2,1kW)                                 8.618\n",
      "Washing machine (2,25kW)                               75.046\n",
      "Washing machine (2,2kW)                                 3.279\n",
      "Washing machine (2kW)                                   83.33\n",
      "Washing machine (3,25kW)                               22.969\n",
      "Washing machine (4,5kg, 2,2kW)                          1.733\n",
      "Washing machine (500rpm)                              111.701\n",
      "Washing machine (5kg)                                  93.087\n",
      "Washing machine (5kg, 2,15kW)                          165.34\n",
      "Washing machine (5kg,750rpm)                           97.565\n",
      "Washing machine (800rpm)                               17.798\n",
      "Washing machine+clothes drier ()                      213.344\n",
      "Washing machine+clothes drier (2,23kW)                 23.495\n",
      "Water heater ()                                       5088.89\n",
      "Water heater ().1                                      38.638\n",
      "Water heater (100l)                                    17.088\n",
      "Water heater (200l)                                     2.299\n",
      "Water pump ()                                           218.8\n"
     ]
    }
   ],
   "source": [
    "# Print the total morning and evening sums\n",
    "print(\"- \"*25)\n",
    "print( \"Total Morning Sum:\")\n",
    "print(total_morning_sum.to_string())\n",
    "print(\"- \"*25)\n",
    "print(\"\\nTotal Evening Sum:\")\n",
    "print(total_evening_sum.to_string())"
   ]
  },
  {
   "cell_type": "code",
   "execution_count": 193,
   "metadata": {},
   "outputs": [
    {
     "data": {
      "text/plain": [
       "71443.80600000001"
      ]
     },
     "execution_count": 193,
     "metadata": {},
     "output_type": "execute_result"
    }
   ],
   "source": [
    "flexible_sum=total_morning_sum.sum()+total_evening_sum.sum()\n",
    "flexible_sum"
   ]
  },
  {
   "cell_type": "code",
   "execution_count": 194,
   "metadata": {},
   "outputs": [
    {
     "data": {
      "text/plain": [
       "528601.31"
      ]
     },
     "execution_count": 194,
     "metadata": {},
     "output_type": "execute_result"
    }
   ],
   "source": [
    "total_consumption_df"
   ]
  },
  {
   "cell_type": "code",
   "execution_count": 195,
   "metadata": {},
   "outputs": [
    {
     "name": "stdout",
     "output_type": "stream",
     "text": [
      "flexibility potencial = 13.51563165819623 %\n"
     ]
    }
   ],
   "source": [
    "flexibility_potential=flexible_sum/total_consumption_df\n",
    "print('flexibility potencial =',flexibility_potential*100, '%')"
   ]
  },
  {
   "cell_type": "code",
   "execution_count": 196,
   "metadata": {},
   "outputs": [
    {
     "name": "stdout",
     "output_type": "stream",
     "text": [
      "flexibility potencial = 13.51563165819623 %\n"
     ]
    }
   ],
   "source": [
    "print('flexibility potencial =',flexibility_potential*100, '%')"
   ]
  },
  {
   "cell_type": "markdown",
   "metadata": {},
   "source": [
    "# plotting "
   ]
  },
  {
   "cell_type": "markdown",
   "metadata": {},
   "source": [
    "here we have omplex flexibility which is based on knowlage of overal consumption curve and equipment consumption curve"
   ]
  },
  {
   "cell_type": "code",
   "execution_count": 199,
   "metadata": {},
   "outputs": [],
   "source": [
    "import pandas as pd\n",
    "import matplotlib.pyplot as plt\n",
    "\n",
    "# Load the Excel file\n",
    "#excel_file_3 = pd.ExcelFile(r'D:\\Grenoble_university\\6_month_internship\\working space\\data\\combined_1_year_data_with_flexibility.xlsx')\n",
    "\n",
    "# Define the range of sheet numbers\n",
    "start_sheet_number_3 = 2000900\n",
    "end_sheet_number_3 = 2000997\n",
    "\n",
    "# Initialize total consumption dictionary\n",
    "total_consumption_3 = {}\n",
    "\n",
    "# Iterate through the sheet numbers\n",
    "for sheet_number_3 in range(start_sheet_number_3, end_sheet_number_3 + 1):\n",
    "    sheet_name_3 = str(sheet_number_3)\n",
    "    if sheet_name_3 in excel_file_3.sheet_names:\n",
    "        # Read the sheet into a DataFrame\n",
    "        df_3 = excel_file_3.parse(sheet_name_3)\n",
    "        \n",
    "        # Check if 'Site consumption ()' is in the columns of the DataFrame\n",
    "        if 'Site consumption ()' in df_3.columns:\n",
    "            # Convert 'Site consumption ()' column to numeric (ignore errors)\n",
    "            df_3['Site consumption ()'] = pd.to_numeric(df_3['Site consumption ()'], errors='coerce')\n",
    "            # Calculate the sum for 'Site consumption ()' column\n",
    "            sum_for_site_consumption_3 = df_3['Site consumption ()'].sum()\n",
    "            total_consumption_3[sheet_name_3] = sum_for_site_consumption_3\n",
    "        else:\n",
    "            # Sum up all numeric columns\n",
    "            sum_for_devices_3 = df_3.iloc[1:].drop(columns=['Weekday', 'date']).sum().sum()\n",
    "            total_consumption_3[sheet_name_3] = sum_for_devices_3\n",
    "    else:\n",
    "        print(f\"Sheet {sheet_name_3} not found in the Excel file.\")\n",
    "\n",
    "# Convert total consumption dictionary to DataFrame\n",
    "total_consumption_df_3 = pd.DataFrame.from_dict(total_consumption_3, orient='index', columns=['Total Consumption'])\n",
    "\n",
    "# Scale down the Total Consumption values to 1e6\n",
    "total_consumption_df_3['Total Consumption'] /= 1e6\n",
    "\n",
    "# Plotting the graph\n",
    "\n"
   ]
  },
  {
   "cell_type": "code",
   "execution_count": 200,
   "metadata": {},
   "outputs": [
    {
     "data": {
      "image/png": "[encoded data removed]",
      "text/plain": [
       "<Figure size 2000x1600 with 1 Axes>"
      ]
     },
     "metadata": {},
     "output_type": "display_data"
    }
   ],
   "source": [
    "plt.figure(figsize=(20, 16))\n",
    "plt.bar(total_consumption_df_3.index, total_consumption_df_3['Total Consumption'], color='blue')\n",
    "plt.xlabel('House ID')\n",
    "plt.ylabel('Total Consumption (in Millions)')\n",
    "plt.title('Total Consumption of Each House')\n",
    "plt.xticks(rotation=45)\n",
    "plt.grid(axis='y')\n",
    "\n",
    "plt.tight_layout()\n",
    "plt.show()"
   ]
  },
  {
   "cell_type": "code",
   "execution_count": 201,
   "metadata": {},
   "outputs": [],
   "source": [
    "import pandas as pd\n",
    "import matplotlib.pyplot as plt\n",
    "\n",
    "# Read the Excel file into a dictionary of DataFrames, with sheet names as keys\n",
    "#combined_data_dict_2 = pd.read_excel(r'D:\\Grenoble_university\\6_month_internship\\working space\\data\\combined_1_year_data_with_flexibility.xlsx', sheet_name=None)\n",
    "\n",
    "# Define the time range for calculation (8 am - 10 am and 6 pm - 10 pm)\n",
    "start_time_morning_2 = pd.Timestamp('08:00:00').time()\n",
    "end_time_morning_2 = pd.Timestamp('10:00:00').time()\n",
    "start_time_evening_2 = pd.Timestamp('18:00:00').time()\n",
    "end_time_evening_2 = pd.Timestamp('22:00:00').time()\n",
    "\n",
    "# Initialize lists to store total morning and evening flexible consumption\n",
    "morning_flex_consumption_2 = []\n",
    "evening_flex_consumption_2 = []\n",
    "\n",
    "# Iterate over each sheet and perform the filtering and calculation\n",
    "for sheet_name, df_2 in combined_data_dict_2.items():\n",
    "    # Filter rows to include only flexible devices (second row)\n",
    "    flexibility_row_2 = df_2.iloc[0] == 'flexible'\n",
    "    flexible_devices_df_2 = df_2.loc[:, flexibility_row_2]\n",
    "\n",
    "    # Convert 'date' column to datetime format\n",
    "    df_2['date'] = pd.to_datetime(df_2['date'])\n",
    "\n",
    "    # Filter rows based on time range and calculate sum for morning and evening\n",
    "    morning_sum_2 = flexible_devices_df_2[\n",
    "        (df_2['date'].dt.time >= start_time_morning_2) & \n",
    "        (df_2['date'].dt.time <= end_time_morning_2)\n",
    "    ].sum().sum()\n",
    "\n",
    "    evening_sum_2 = flexible_devices_df_2[\n",
    "        (df_2['date'].dt.time >= start_time_evening_2) & \n",
    "        (df_2['date'].dt.time <= end_time_evening_2)\n",
    "    ].sum().sum()\n",
    "\n",
    "    # Append morning and evening sums to lists\n",
    "    morning_flex_consumption_2.append(morning_sum_2)\n",
    "    evening_flex_consumption_2.append(evening_sum_2)\n",
    "\n",
    "# Create a DataFrame to store the flexible consumption data\n",
    "flex_consumption_df_2 = pd.DataFrame({\n",
    "    'Morning Flex Consumption': morning_flex_consumption_2,\n",
    "    'Evening Flex Consumption': evening_flex_consumption_2\n",
    "})"
   ]
  },
  {
   "cell_type": "code",
   "execution_count": 202,
   "metadata": {},
   "outputs": [
    {
     "data": {
      "image/png": "[encoded data removed]",
      "text/plain": [
       "<Figure size 2000x1600 with 1 Axes>"
      ]
     },
     "metadata": {},
     "output_type": "display_data"
    }
   ],
   "source": [
    "# Plotting the graph\n",
    "plt.figure(figsize=(20, 16))\n",
    "plt.bar(range(1, len(flex_consumption_df_2) + 1), flex_consumption_df_2['Morning Flex Consumption'], color='blue', linestyle='dashed', label='Morning Peak')\n",
    "plt.bar(range(1, len(flex_consumption_df_2) + 1), flex_consumption_df_2['Evening Flex Consumption'], color='orange', alpha=0.5, label='Evening Peak')\n",
    "plt.xlabel('House ID')\n",
    "plt.ylabel('Flexible Consumption')\n",
    "plt.title('Total Flexible Consumption of Each House During Peak Hours')\n",
    "plt.xticks(range(1, len(flex_consumption_df_2) + 1))\n",
    "plt.legend()\n",
    "plt.tight_layout()\n",
    "plt.show()\n"
   ]
  },
  {
   "cell_type": "code",
   "execution_count": 203,
   "metadata": {},
   "outputs": [],
   "source": [
    "import pandas as pd\n",
    "import matplotlib.pyplot as plt\n",
    "\n",
    "# Read the Excel file into a dictionary of DataFrames, with sheet names as keys\n",
    "data_dict = pd.read_excel(r'D:\\Grenoble_university\\6_month_internship\\working space\\data\\combined_1_year_data_with_flexibility.xlsx', sheet_name=None)\n",
    "\n",
    "# Define the time range for calculation (8 am - 10 am and 6 pm - 10 pm)\n",
    "start_time_morning_1 = pd.Timestamp('08:00:00').time()\n",
    "end_time_morning_1 = pd.Timestamp('10:00:00').time()\n",
    "start_time_evening_1 = pd.Timestamp('18:00:00').time()\n",
    "end_time_evening_1 = pd.Timestamp('22:00:00').time()\n",
    "\n",
    "# Initialize lists to store total morning and evening flexible consumption\n",
    "morning_flex_consumption = []\n",
    "evening_flex_consumption = []\n",
    "\n",
    "# Iterate over each sheet and perform the filtering and calculation\n",
    "for sheet_name, df_1 in data_dict.items():\n",
    "    # Filter rows to include only flexible devices (second row)\n",
    "    flexibility_row_1 = df_1.iloc[0] == 'flexible'\n",
    "    flexible_devices_df_1 = df_1.loc[:, flexibility_row_1]\n",
    "\n",
    "    # Convert 'date' column to datetime format\n",
    "    df_1['date'] = pd.to_datetime(df_1['date'])\n",
    "\n",
    "    # Filter rows based on time range and calculate sum for morning and evening\n",
    "    morning_sum_1 = flexible_devices_df_1[\n",
    "        (df_1['date'].dt.time >= start_time_morning_1) & \n",
    "        (df_1['date'].dt.time <= end_time_morning_1)\n",
    "    ].sum().sum()\n",
    "\n",
    "    evening_sum_1 = flexible_devices_df_1[\n",
    "        (df_1['date'].dt.time >= start_time_evening_1) & \n",
    "        (df_1['date'].dt.time <= end_time_evening_1)\n",
    "    ].sum().sum()\n",
    "\n",
    "    # Append total morning and evening sums to lists\n",
    "    morning_flex_consumption.append(morning_sum_1)\n",
    "    evening_flex_consumption.append(evening_sum_1)\n",
    "\n",
    "# Create a DataFrame to store the flexible consumption data\n",
    "flex_consumption_df_1 = pd.DataFrame({\n",
    "    'House ID': list(data_dict.keys()),\n",
    "    'Morning Flexible Consumption': morning_flex_consumption,\n",
    "    'Evening Flexible Consumption': evening_flex_consumption\n",
    "})\n",
    "\n",
    "\n"
   ]
  },
  {
   "cell_type": "code",
   "execution_count": 204,
   "metadata": {},
   "outputs": [
    {
     "data": {
      "image/png": "[encoded data removed]",
      "text/plain": [
       "<Figure size 2200x1600 with 1 Axes>"
      ]
     },
     "metadata": {},
     "output_type": "display_data"
    }
   ],
   "source": [
    "# Plotting the graph\n",
    "plt.figure(figsize=(22, 16))\n",
    "bar_width = 0.9\n",
    "plt.bar(flex_consumption_df_1['House ID'], flex_consumption_df_1['Morning Flexible Consumption'], bar_width, label='Morning', color='blue')\n",
    "plt.bar(flex_consumption_df_1['House ID'], flex_consumption_df_1['Evening Flexible Consumption'], bar_width, label='Evening', color='orange', bottom=flex_consumption_df_1['Morning Flexible Consumption'])\n",
    "plt.xlabel('House ID')\n",
    "plt.ylabel('Flexible Consumption')\n",
    "plt.title('Morning and Evening Flexible Consumption of Each House')\n",
    "plt.xticks(rotation=45, ha='right')\n",
    "plt.legend()\n",
    "plt.tight_layout()\n",
    "plt.show()"
   ]
  },
  {
   "cell_type": "code",
   "execution_count": 50,
   "metadata": {},
   "outputs": [],
   "source": [
    "import pandas as pd\n",
    "import plotly.graph_objects as go\n",
    "\n",
    "# Load the Excel file for total energy consumption\n",
    "excel_file_5 = pd.ExcelFile(r'D:\\Grenoble_university\\6_month_internship\\working space\\data\\combined_1_year_data_with_flexibility.xlsx')\n",
    "\n",
    "# Define the range of sheet numbers for total energy consumption\n",
    "start_sheet_number = 2000900\n",
    "end_sheet_number = 2000997\n",
    "\n",
    "# Initialize total consumption dictionary\n",
    "total_consumption = {}\n",
    "\n",
    "# Iterate through the sheet numbers for total energy consumption\n",
    "for sheet_number in range(start_sheet_number, end_sheet_number + 1):\n",
    "    sheet_name = str(sheet_number)\n",
    "    if sheet_name in excel_file_5.sheet_names:\n",
    "        # Read the sheet into a DataFrame\n",
    "        df = excel_file_5.parse(sheet_name)\n",
    "        \n",
    "        # Check if 'Site consumption ()' is in the columns of the DataFrame\n",
    "        if 'Site consumption ()' in df.columns:\n",
    "            # Convert 'Site consumption ()' column to numeric (ignore errors)\n",
    "            df['Site consumption ()'] = pd.to_numeric(df['Site consumption ()'], errors='coerce')\n",
    "            # Calculate the sum for 'Site consumption ()' column\n",
    "            sum_for_site_consumption = df['Site consumption ()'].sum()\n",
    "            total_consumption[sheet_name] = sum_for_site_consumption\n",
    "        else:\n",
    "            # Sum up all numeric columns\n",
    "            sum_for_devices = df.iloc[1:].drop(columns=['Weekday', 'date']).sum().sum()\n",
    "            total_consumption[sheet_name] = sum_for_devices\n",
    "    else:\n",
    "        print(f\"Sheet {sheet_name} not found in the Excel file.\")\n",
    "\n",
    "# Convert total consumption dictionary to DataFrame\n",
    "total_consumption_df = pd.DataFrame.from_dict(total_consumption, orient='index', columns=['Total Consumption'])\n",
    "\n",
    "# Read the Excel file into a dictionary of DataFrames for energy flexibility during peak hours\n",
    "combined_data_dict_5 = pd.read_excel(r'D:\\Grenoble_university\\6_month_internship\\working space\\data\\combined_1_year_data_with_flexibility.xlsx', sheet_name=None)\n",
    "\n",
    "# Define the time range for calculation (8 am - 10 am and 6 pm - 10 pm)\n",
    "start_time_morning = pd.Timestamp('08:00:00').time()\n",
    "end_time_morning = pd.Timestamp('10:00:00').time()\n",
    "start_time_evening = pd.Timestamp('18:00:00').time()\n",
    "end_time_evening = pd.Timestamp('22:00:00').time()\n",
    "\n",
    "# Initialize lists to store total morning and evening flexible consumption\n",
    "total_flex_consumption = []\n",
    "\n",
    "# Iterate over each sheet and perform the filtering and calculation for energy flexibility during peak hours\n",
    "for sheet_name, df in combined_data_dict_5.items():\n",
    "    # Filter rows to include only flexible devices (second row)\n",
    "    flexibility_row = df.iloc[0] == 'flexible'\n",
    "    flexible_devices_df = df.loc[:, flexibility_row]\n",
    "\n",
    "    # Convert 'date' column to datetime format\n",
    "    df['date'] = pd.to_datetime(df['date'])\n",
    "\n",
    "    # Filter rows based on time range and calculate sum for morning and evening\n",
    "    morning_sum = flexible_devices_df[\n",
    "        (df['date'].dt.time >= start_time_morning) & \n",
    "        (df['date'].dt.time <= end_time_morning)\n",
    "    ].sum().sum()\n",
    "\n",
    "    evening_sum = flexible_devices_df[\n",
    "        (df['date'].dt.time >= start_time_evening) & \n",
    "        (df['date'].dt.time <= end_time_evening)\n",
    "    ].sum().sum()\n",
    "\n",
    "    # Append total morning and evening sums to list\n",
    "    total_flex_consumption.append(morning_sum + evening_sum)\n",
    "\n",
    "# Create a DataFrame to store the flexible consumption data\n",
    "flex_consumption_df = pd.DataFrame({\n",
    "    'House ID': list(combined_data_dict_5.keys()),\n",
    "    'Total Flexible Consumption': total_flex_consumption\n",
    "})\n",
    "\n",
    "\n"
   ]
  },
  {
   "cell_type": "code",
   "execution_count": null,
   "metadata": {},
   "outputs": [],
   "source": [
    "# Scale the values by 1,000,000\n",
    "#total_consumption_df['Total Consumption'] /= 1_000\n",
    "#flex_consumption_df['Total Flexible Consumption'] /= 1_000"
   ]
  },
  {
   "cell_type": "code",
   "execution_count": 55,
   "metadata": {},
   "outputs": [
    {
     "data": {
      "application/vnd.plotly.v1+json": {
       "config": {
        "plotlyServerURL": "https://plot.ly"
       },
       "data": [
        {
         "marker": {
          "color": "blue"
         },
         "name": "Total Consumption",
         "type": "bar",
         "x": [
          "2000900",
          "2000901",
          "2000902",
          "2000903",
          "2000904",
          "2000905",
          "2000906",
          "2000907",
          "2000908",
          "2000909",
          "2000910",
          "2000911",
          "2000912",
          "2000913",
          "2000914",
          "2000915",
          "2000916",
          "2000917",
          "2000918",
          "2000919",
          "2000920",
          "2000921",
          "2000922",
          "2000923",
          "2000924",
          "2000925",
          "2000926",
          "2000927",
          "2000928",
          "2000929",
          "2000930",
          "2000931",
          "2000932",
          "2000933",
          "2000934",
          "2000935",
          "2000936",
          "2000937",
          "2000938",
          "2000939",
          "2000940",
          "2000941",
          "2000942",
          "2000943",
          "2000944",
          "2000945",
          "2000946",
          "2000947",
          "2000948",
          "2000949",
          "2000950",
          "2000951",
          "2000952",
          "2000953",
          "2000954",
          "2000955",
          "2000956",
          "2000957",
          "2000958",
          "2000959",
          "2000960",
          "2000961",
          "2000962",
          "2000963",
          "2000964",
          "2000965",
          "2000966",
          "2000967",
          "2000968",
          "2000969",
          "2000970",
          "2000971",
          "2000972",
          "2000973",
          "2000974",
          "2000975",
          "2000976",
          "2000977",
          "2000978",
          "2000979",
          "2000980",
          "2000981",
          "2000982",
          "2000983",
          "2000984",
          "2000985",
          "2000986",
          "2000987",
          "2000988",
          "2000989",
          "2000990",
          "2000991",
          "2000992",
          "2000993",
          "2000994",
          "2000995",
          "2000996",
          "2000997"
         ],
         "y": [
          5.433955,
          4.6613500000000005,
          1.929643,
          4.408269000000001,
          10.185746,
          2.6443470000000002,
          3.3569839999999997,
          6.148312,
          3.480698,
          9.416947,
          2.289067,
          1.743784,
          7.715054,
          2.7391300000000003,
          13.151874,
          12.067459000000001,
          3.2604119999999996,
          3.398101,
          1.821784,
          0.736093,
          0.686803,
          8.081341,
          2.992618,
          2.055771,
          1.405752,
          3.409214,
          5.0035680000000005,
          4.378215,
          9.234631,
          2.161937,
          6.194527,
          4.1768410000000005,
          2.744192,
          1.0759880000000002,
          11.938424000000001,
          2.45396,
          5.567328000000001,
          1.456181,
          14.115086999999999,
          4.764709,
          6.7431980000000005,
          2.9554009999999997,
          3.3605590000000003,
          3.7877069999999997,
          13.273114,
          10.088333,
          2.5957890000000003,
          8.138546,
          11.091206,
          4.012132,
          11.6874,
          6.1879930000000005,
          5.682121,
          14.698261,
          17.12352,
          6.043037,
          3.488753,
          2.509275,
          1.9418330000000001,
          8.733522,
          5.679094,
          5.41775,
          9.177521,
          3.107273,
          4.969766,
          5.326944999999999,
          4.332814999999999,
          9.535769,
          3.104098,
          9.482164000000001,
          3.569341,
          10.382544,
          2.7645210000000002,
          3.484451,
          7.056712,
          4.3717049999999995,
          3.028419,
          4.652189999999999,
          8.289785,
          2.884031,
          6.101826,
          5.200652,
          8.424373,
          4.054982,
          4.085647,
          3.3023119999999997,
          2.266623,
          10.002391,
          3.653331,
          8.479254000000001,
          5.384846,
          4.520472,
          3.315212,
          0.635496,
          1.505839,
          4.005725,
          3.8791979999999997,
          4.799713
         ]
        },
        {
         "marker": {
          "color": "orange"
         },
         "name": "Flexible Consumption",
         "opacity": 0.5,
         "type": "bar",
         "x": [
          "2000900",
          "2000901",
          "2000902",
          "2000903",
          "2000904",
          "2000905",
          "2000906",
          "2000907",
          "2000908",
          "2000909",
          "2000910",
          "2000911",
          "2000912",
          "2000913",
          "2000914",
          "2000915",
          "2000916",
          "2000917",
          "2000918",
          "2000919",
          "2000920",
          "2000921",
          "2000922",
          "2000923",
          "2000924",
          "2000925",
          "2000926",
          "2000927",
          "2000928",
          "2000929",
          "2000930",
          "2000931",
          "2000932",
          "2000933",
          "2000934",
          "2000935",
          "2000936",
          "2000937",
          "2000938",
          "2000939",
          "2000940",
          "2000941",
          "2000942",
          "2000943",
          "2000944",
          "2000945",
          "2000946",
          "2000947",
          "2000948",
          "2000949",
          "2000950",
          "2000951",
          "2000952",
          "2000953",
          "2000954",
          "2000955",
          "2000956",
          "2000957",
          "2000958",
          "2000959",
          "2000960",
          "2000961",
          "2000962",
          "2000963",
          "2000964",
          "2000965",
          "2000966",
          "2000967",
          "2000968",
          "2000969",
          "2000970",
          "2000971",
          "2000972",
          "2000973",
          "2000974",
          "2000975",
          "2000976",
          "2000977",
          "2000978",
          "2000979",
          "2000980",
          "2000981",
          "2000982",
          "2000983",
          "2000984",
          "2000985",
          "2000986",
          "2000987",
          "2000988",
          "2000989",
          "2000990",
          "2000991",
          "2000992",
          "2000993",
          "2000994",
          "2000995",
          "2000996",
          "2000997"
         ],
         "y": [
          0.731811,
          0.832062,
          1.062147,
          0.437351,
          0.60905,
          0.14333600000000002,
          0.28968299999999997,
          0.548115,
          0.5335420000000001,
          1.957885,
          0.277121,
          0.251988,
          0.248664,
          0.34094,
          0.965776,
          2.595969,
          0.641439,
          1.20155,
          0.101375,
          1.150076,
          0.919397,
          0.378457,
          0.553083,
          0.274534,
          1.650761,
          0.261983,
          0.17654599999999998,
          0.615872,
          1.828691,
          0.055299,
          0.579878,
          0.394743,
          0.328797,
          0.268247,
          1.496481,
          0.409323,
          0.24349,
          0.38464,
          3.735885,
          0.5995900000000001,
          0.7828010000000001,
          0.247651,
          0.37705700000000003,
          0.449048,
          2.28513,
          1.511997,
          0.377564,
          1.01346,
          1.337441,
          0.323224,
          0.711491,
          0.195934,
          0.486506,
          3.2371149999999997,
          3.580594,
          0.9589679999999999,
          0.156188,
          0.144681,
          0.13880099999999998,
          0.550414,
          0.5185639999999999,
          0.07526000000000001,
          2.058275,
          0.039664000000000005,
          0.559175,
          0.178179,
          0.769946,
          1.900362,
          0.404128,
          1.395346,
          0.385304,
          1.7378099999999999,
          0.570784,
          0.23997,
          0.7114210000000001,
          0.620535,
          0.23408600000000002,
          0.93551,
          1.410588,
          0.43316899999999997,
          0.610906,
          0.199607,
          1.414782,
          0.436462,
          0.630174,
          0.432425,
          0.214868,
          0.22875299999999998,
          0.219645,
          0.771482,
          0.659945,
          0.175697,
          0.113375,
          0.088797,
          0.059379,
          0.16598400000000002,
          0.386759,
          0.515048
         ]
        }
       ],
       "layout": {
        "barmode": "overlay",
        "template": {
         "data": {
          "bar": [
           {
            "error_x": {
             "color": "#2a3f5f"
            },
            "error_y": {
             "color": "#2a3f5f"
            },
            "marker": {
             "line": {
              "color": "#E5ECF6",
              "width": 0.5
             },
             "pattern": {
              "fillmode": "overlay",
              "size": 10,
              "solidity": 0.2
             }
            },
            "type": "bar"
           }
          ],
          "barpolar": [
           {
            "marker": {
             "line": {
              "color": "#E5ECF6",
              "width": 0.5
             },
             "pattern": {
              "fillmode": "overlay",
              "size": 10,
              "solidity": 0.2
             }
            },
            "type": "barpolar"
           }
          ],
          "carpet": [
           {
            "aaxis": {
             "endlinecolor": "#2a3f5f",
             "gridcolor": "white",
             "linecolor": "white",
             "minorgridcolor": "white",
             "startlinecolor": "#2a3f5f"
            },
            "baxis": {
             "endlinecolor": "#2a3f5f",
             "gridcolor": "white",
             "linecolor": "white",
             "minorgridcolor": "white",
             "startlinecolor": "#2a3f5f"
            },
            "type": "carpet"
           }
          ],
          "choropleth": [
           {
            "colorbar": {
             "outlinewidth": 0,
             "ticks": ""
            },
            "type": "choropleth"
           }
          ],
          "contour": [
           {
            "colorbar": {
             "outlinewidth": 0,
             "ticks": ""
            },
            "colorscale": [
             [
              0,
              "#0d0887"
             ],
             [
              0.1111111111111111,
              "#46039f"
             ],
             [
              0.2222222222222222,
              "#7201a8"
             ],
             [
              0.3333333333333333,
              "#9c179e"
             ],
             [
              0.4444444444444444,
              "#bd3786"
             ],
             [
              0.5555555555555556,
              "#d8576b"
             ],
             [
              0.6666666666666666,
              "#ed7953"
             ],
             [
              0.7777777777777778,
              "#fb9f3a"
             ],
             [
              0.8888888888888888,
              "#fdca26"
             ],
             [
              1,
              "#f0f921"
             ]
            ],
            "type": "contour"
           }
          ],
          "contourcarpet": [
           {
            "colorbar": {
             "outlinewidth": 0,
             "ticks": ""
            },
            "type": "contourcarpet"
           }
          ],
          "heatmap": [
           {
            "colorbar": {
             "outlinewidth": 0,
             "ticks": ""
            },
            "colorscale": [
             [
              0,
              "#0d0887"
             ],
             [
              0.1111111111111111,
              "#46039f"
             ],
             [
              0.2222222222222222,
              "#7201a8"
             ],
             [
              0.3333333333333333,
              "#9c179e"
             ],
             [
              0.4444444444444444,
              "#bd3786"
             ],
             [
              0.5555555555555556,
              "#d8576b"
             ],
             [
              0.6666666666666666,
              "#ed7953"
             ],
             [
              0.7777777777777778,
              "#fb9f3a"
             ],
             [
              0.8888888888888888,
              "#fdca26"
             ],
             [
              1,
              "#f0f921"
             ]
            ],
            "type": "heatmap"
           }
          ],
          "heatmapgl": [
           {
            "colorbar": {
             "outlinewidth": 0,
             "ticks": ""
            },
            "colorscale": [
             [
              0,
              "#0d0887"
             ],
             [
              0.1111111111111111,
              "#46039f"
             ],
             [
              0.2222222222222222,
              "#7201a8"
             ],
             [
              0.3333333333333333,
              "#9c179e"
             ],
             [
              0.4444444444444444,
              "#bd3786"
             ],
             [
              0.5555555555555556,
              "#d8576b"
             ],
             [
              0.6666666666666666,
              "#ed7953"
             ],
             [
              0.7777777777777778,
              "#fb9f3a"
             ],
             [
              0.8888888888888888,
              "#fdca26"
             ],
             [
              1,
              "#f0f921"
             ]
            ],
            "type": "heatmapgl"
           }
          ],
          "histogram": [
           {
            "marker": {
             "pattern": {
              "fillmode": "overlay",
              "size": 10,
              "solidity": 0.2
             }
            },
            "type": "histogram"
           }
          ],
          "histogram2d": [
           {
            "colorbar": {
             "outlinewidth": 0,
             "ticks": ""
            },
            "colorscale": [
             [
              0,
              "#0d0887"
             ],
             [
              0.1111111111111111,
              "#46039f"
             ],
             [
              0.2222222222222222,
              "#7201a8"
             ],
             [
              0.3333333333333333,
              "#9c179e"
             ],
             [
              0.4444444444444444,
              "#bd3786"
             ],
             [
              0.5555555555555556,
              "#d8576b"
             ],
             [
              0.6666666666666666,
              "#ed7953"
             ],
             [
              0.7777777777777778,
              "#fb9f3a"
             ],
             [
              0.8888888888888888,
              "#fdca26"
             ],
             [
              1,
              "#f0f921"
             ]
            ],
            "type": "histogram2d"
           }
          ],
          "histogram2dcontour": [
           {
            "colorbar": {
             "outlinewidth": 0,
             "ticks": ""
            },
            "colorscale": [
             [
              0,
              "#0d0887"
             ],
             [
              0.1111111111111111,
              "#46039f"
             ],
             [
              0.2222222222222222,
              "#7201a8"
             ],
             [
              0.3333333333333333,
              "#9c179e"
             ],
             [
              0.4444444444444444,
              "#bd3786"
             ],
             [
              0.5555555555555556,
              "#d8576b"
             ],
             [
              0.6666666666666666,
              "#ed7953"
             ],
             [
              0.7777777777777778,
              "#fb9f3a"
             ],
             [
              0.8888888888888888,
              "#fdca26"
             ],
             [
              1,
              "#f0f921"
             ]
            ],
            "type": "histogram2dcontour"
           }
          ],
          "mesh3d": [
           {
            "colorbar": {
             "outlinewidth": 0,
             "ticks": ""
            },
            "type": "mesh3d"
           }
          ],
          "parcoords": [
           {
            "line": {
             "colorbar": {
              "outlinewidth": 0,
              "ticks": ""
             }
            },
            "type": "parcoords"
           }
          ],
          "pie": [
           {
            "automargin": true,
            "type": "pie"
           }
          ],
          "scatter": [
           {
            "fillpattern": {
             "fillmode": "overlay",
             "size": 10,
             "solidity": 0.2
            },
            "type": "scatter"
           }
          ],
          "scatter3d": [
           {
            "line": {
             "colorbar": {
              "outlinewidth": 0,
              "ticks": ""
             }
            },
            "marker": {
             "colorbar": {
              "outlinewidth": 0,
              "ticks": ""
             }
            },
            "type": "scatter3d"
           }
          ],
          "scattercarpet": [
           {
            "marker": {
             "colorbar": {
              "outlinewidth": 0,
              "ticks": ""
             }
            },
            "type": "scattercarpet"
           }
          ],
          "scattergeo": [
           {
            "marker": {
             "colorbar": {
              "outlinewidth": 0,
              "ticks": ""
             }
            },
            "type": "scattergeo"
           }
          ],
          "scattergl": [
           {
            "marker": {
             "colorbar": {
              "outlinewidth": 0,
              "ticks": ""
             }
            },
            "type": "scattergl"
           }
          ],
          "scattermapbox": [
           {
            "marker": {
             "colorbar": {
              "outlinewidth": 0,
              "ticks": ""
             }
            },
            "type": "scattermapbox"
           }
          ],
          "scatterpolar": [
           {
            "marker": {
             "colorbar": {
              "outlinewidth": 0,
              "ticks": ""
             }
            },
            "type": "scatterpolar"
           }
          ],
          "scatterpolargl": [
           {
            "marker": {
             "colorbar": {
              "outlinewidth": 0,
              "ticks": ""
             }
            },
            "type": "scatterpolargl"
           }
          ],
          "scatterternary": [
           {
            "marker": {
             "colorbar": {
              "outlinewidth": 0,
              "ticks": ""
             }
            },
            "type": "scatterternary"
           }
          ],
          "surface": [
           {
            "colorbar": {
             "outlinewidth": 0,
             "ticks": ""
            },
            "colorscale": [
             [
              0,
              "#0d0887"
             ],
             [
              0.1111111111111111,
              "#46039f"
             ],
             [
              0.2222222222222222,
              "#7201a8"
             ],
             [
              0.3333333333333333,
              "#9c179e"
             ],
             [
              0.4444444444444444,
              "#bd3786"
             ],
             [
              0.5555555555555556,
              "#d8576b"
             ],
             [
              0.6666666666666666,
              "#ed7953"
             ],
             [
              0.7777777777777778,
              "#fb9f3a"
             ],
             [
              0.8888888888888888,
              "#fdca26"
             ],
             [
              1,
              "#f0f921"
             ]
            ],
            "type": "surface"
           }
          ],
          "table": [
           {
            "cells": {
             "fill": {
              "color": "#EBF0F8"
             },
             "line": {
              "color": "white"
             }
            },
            "header": {
             "fill": {
              "color": "#C8D4E3"
             },
             "line": {
              "color": "white"
             }
            },
            "type": "table"
           }
          ]
         },
         "layout": {
          "annotationdefaults": {
           "arrowcolor": "#2a3f5f",
           "arrowhead": 0,
           "arrowwidth": 1
          },
          "autotypenumbers": "strict",
          "coloraxis": {
           "colorbar": {
            "outlinewidth": 0,
            "ticks": ""
           }
          },
          "colorscale": {
           "diverging": [
            [
             0,
             "#8e0152"
            ],
            [
             0.1,
             "#c51b7d"
            ],
            [
             0.2,
             "#de77ae"
            ],
            [
             0.3,
             "#f1b6da"
            ],
            [
             0.4,
             "#fde0ef"
            ],
            [
             0.5,
             "#f7f7f7"
            ],
            [
             0.6,
             "#e6f5d0"
            ],
            [
             0.7,
             "#b8e186"
            ],
            [
             0.8,
             "#7fbc41"
            ],
            [
             0.9,
             "#4d9221"
            ],
            [
             1,
             "#276419"
            ]
           ],
           "sequential": [
            [
             0,
             "#0d0887"
            ],
            [
             0.1111111111111111,
             "#46039f"
            ],
            [
             0.2222222222222222,
             "#7201a8"
            ],
            [
             0.3333333333333333,
             "#9c179e"
            ],
            [
             0.4444444444444444,
             "#bd3786"
            ],
            [
             0.5555555555555556,
             "#d8576b"
            ],
            [
             0.6666666666666666,
             "#ed7953"
            ],
            [
             0.7777777777777778,
             "#fb9f3a"
            ],
            [
             0.8888888888888888,
             "#fdca26"
            ],
            [
             1,
             "#f0f921"
            ]
           ],
           "sequentialminus": [
            [
             0,
             "#0d0887"
            ],
            [
             0.1111111111111111,
             "#46039f"
            ],
            [
             0.2222222222222222,
             "#7201a8"
            ],
            [
             0.3333333333333333,
             "#9c179e"
            ],
            [
             0.4444444444444444,
             "#bd3786"
            ],
            [
             0.5555555555555556,
             "#d8576b"
            ],
            [
             0.6666666666666666,
             "#ed7953"
            ],
            [
             0.7777777777777778,
             "#fb9f3a"
            ],
            [
             0.8888888888888888,
             "#fdca26"
            ],
            [
             1,
             "#f0f921"
            ]
           ]
          },
          "colorway": [
           "#636efa",
           "#EF553B",
           "#00cc96",
           "#ab63fa",
           "#FFA15A",
           "#19d3f3",
           "#FF6692",
           "#B6E880",
           "#FF97FF",
           "#FECB52"
          ],
          "font": {
           "color": "#2a3f5f"
          },
          "geo": {
           "bgcolor": "white",
           "lakecolor": "white",
           "landcolor": "#E5ECF6",
           "showlakes": true,
           "showland": true,
           "subunitcolor": "white"
          },
          "hoverlabel": {
           "align": "left"
          },
          "hovermode": "closest",
          "mapbox": {
           "style": "light"
          },
          "paper_bgcolor": "white",
          "plot_bgcolor": "#E5ECF6",
          "polar": {
           "angularaxis": {
            "gridcolor": "white",
            "linecolor": "white",
            "ticks": ""
           },
           "bgcolor": "#E5ECF6",
           "radialaxis": {
            "gridcolor": "white",
            "linecolor": "white",
            "ticks": ""
           }
          },
          "scene": {
           "xaxis": {
            "backgroundcolor": "#E5ECF6",
            "gridcolor": "white",
            "gridwidth": 2,
            "linecolor": "white",
            "showbackground": true,
            "ticks": "",
            "zerolinecolor": "white"
           },
           "yaxis": {
            "backgroundcolor": "#E5ECF6",
            "gridcolor": "white",
            "gridwidth": 2,
            "linecolor": "white",
            "showbackground": true,
            "ticks": "",
            "zerolinecolor": "white"
           },
           "zaxis": {
            "backgroundcolor": "#E5ECF6",
            "gridcolor": "white",
            "gridwidth": 2,
            "linecolor": "white",
            "showbackground": true,
            "ticks": "",
            "zerolinecolor": "white"
           }
          },
          "shapedefaults": {
           "line": {
            "color": "#2a3f5f"
           }
          },
          "ternary": {
           "aaxis": {
            "gridcolor": "white",
            "linecolor": "white",
            "ticks": ""
           },
           "baxis": {
            "gridcolor": "white",
            "linecolor": "white",
            "ticks": ""
           },
           "bgcolor": "#E5ECF6",
           "caxis": {
            "gridcolor": "white",
            "linecolor": "white",
            "ticks": ""
           }
          },
          "title": {
           "x": 0.05
          },
          "xaxis": {
           "automargin": true,
           "gridcolor": "white",
           "linecolor": "white",
           "ticks": "",
           "title": {
            "standoff": 15
           },
           "zerolinecolor": "white",
           "zerolinewidth": 2
          },
          "yaxis": {
           "automargin": true,
           "gridcolor": "white",
           "linecolor": "white",
           "ticks": "",
           "title": {
            "standoff": 15
           },
           "zerolinecolor": "white",
           "zerolinewidth": 2
          }
         }
        },
        "title": {
         "text": "Total Energy Consumption vs. Flexible Consumption During Peak Hours"
        },
        "xaxis": {
         "tickangle": -45,
         "title": {
          "text": "House ID"
         }
        },
        "yaxis": {
         "title": {
          "text": "Energy Consumption (Kwh)"
         }
        }
       }
      }
     },
     "metadata": {},
     "output_type": "display_data"
    }
   ],
   "source": [
    "\n",
    "\n",
    "# Create a figure\n",
    "fig = go.Figure()\n",
    "\n",
    "# Add bars for total consumption\n",
    "fig.add_trace(go.Bar(\n",
    "    x=total_consumption_df.index,\n",
    "    y=total_consumption_df['Total Consumption'],\n",
    "    name='Total Consumption',\n",
    "    marker_color='blue'\n",
    "))\n",
    "\n",
    "# Add bars for flexible consumption\n",
    "fig.add_trace(go.Bar(\n",
    "    x=flex_consumption_df['House ID'],\n",
    "    y=flex_consumption_df['Total Flexible Consumption'],\n",
    "    name='Flexible Consumption',\n",
    "    marker_color='orange',\n",
    "    opacity=0.5\n",
    "))\n",
    "\n",
    "# Update layout\n",
    "fig.update_layout(\n",
    "    title='Total Energy Consumption vs. Flexible Consumption During Peak Hours',\n",
    "    xaxis_title='House ID',\n",
    "    yaxis_title='Energy Consumption (Kwh)',\n",
    "    barmode='overlay',\n",
    "    xaxis_tickangle=-45\n",
    ")\n",
    "\n",
    "# Show the figure\n",
    "fig.show()"
   ]
  },
  {
   "cell_type": "code",
   "execution_count": 4,
   "metadata": {},
   "outputs": [
    {
     "data": {
      "application/vnd.plotly.v1+json": {
       "config": {
        "plotlyServerURL": "https://plot.ly"
       },
       "data": [
        {
         "marker": {
          "color": "blue"
         },
         "name": "Total Consumption",
         "type": "bar",
         "x": [
          "2000963",
          "2000929",
          "2000994",
          "2000918",
          "2000992",
          "2000905",
          "2000957",
          "2000958",
          "2000993",
          "2000965",
          "2000926",
          "2000995",
          "2000961",
          "2000986",
          "2000911",
          "2000910",
          "2000951",
          "2000988",
          "2000923",
          "2000976",
          "2000933",
          "2000973",
          "2000912",
          "2000932",
          "2000906",
          "2000913",
          "2000970",
          "2000925",
          "2000937",
          "2000941",
          "2000935",
          "2000931",
          "2000979",
          "2000946",
          "2000960",
          "2000903",
          "2000996",
          "2000997",
          "2000985",
          "2000980",
          "2000942",
          "2000964",
          "2000972",
          "2000949",
          "2000922",
          "2000943",
          "2000984",
          "2000908",
          "2000952",
          "2000930",
          "2000939",
          "2000966",
          "2000950",
          "2000927",
          "2000940",
          "2000916",
          "2000901",
          "2000989",
          "2000956",
          "2000991",
          "2000917",
          "2000900",
          "2000968",
          "2000947",
          "2000902",
          "2000955",
          "2000983",
          "2000936",
          "2000987",
          "2000920",
          "2000990",
          "2000975",
          "2000981",
          "2000919",
          "2000907",
          "2000974",
          "2000921",
          "2000977",
          "2000924",
          "2000904",
          "2000962",
          "2000969",
          "2000959",
          "2000982",
          "2000971",
          "2000909",
          "2000948",
          "2000978",
          "2000934",
          "2000945",
          "2000928",
          "2000967",
          "2000915",
          "2000944",
          "2000914",
          "2000938",
          "2000953",
          "2000954"
         ],
         "y": [
          3107273,
          2161937,
          1505839,
          1821784,
          3315212,
          2644347,
          2509275,
          1941833,
          635496,
          5326945,
          5003568,
          4005725,
          5417750,
          2266623,
          1743784,
          2289067,
          6187993,
          3653331,
          2055771,
          3028419,
          1075988,
          3484451,
          7715054,
          2744192,
          3356984,
          2739130,
          3569341,
          3409214,
          1456181,
          2955401,
          2453960,
          4176841,
          2884031,
          2595789,
          5679094,
          4408269,
          3879198,
          4799713,
          3302312,
          6101826,
          3360559,
          4969766,
          2764521,
          4012132,
          2992618,
          3787707,
          4085647,
          3480698,
          5682121,
          6194527,
          4764709,
          4332815,
          11687400,
          4378215,
          6743198,
          3260412,
          4661350,
          8479254,
          3488753,
          4520472,
          3398101,
          5433955,
          3104098,
          8138546,
          1929643,
          6043037,
          4054982,
          5567328,
          10002391,
          686803,
          5384846,
          4371705,
          5200652,
          736093,
          6148312,
          7056712,
          8081341,
          4652190,
          1405752,
          10185746,
          9177521,
          9482164,
          8733522,
          8424373,
          10382544,
          9416947,
          11091206,
          8289785,
          11938424,
          10088333,
          9234631,
          9535769,
          12067459,
          13273114,
          13151874,
          14115087,
          14698261,
          17123520
         ]
        },
        {
         "marker": {
          "color": [
           "red",
           "red",
           "red",
           "red",
           "red",
           "red",
           "red",
           "red",
           "red",
           "red",
           "red",
           "red",
           "red",
           "red",
           "red",
           "red",
           "red",
           "red",
           "red",
           "red",
           "red",
           "red",
           "red",
           "red",
           "red",
           "red",
           "red",
           "red",
           "red",
           "red",
           "red",
           "red",
           "red",
           "yellow",
           "yellow",
           "yellow",
           "yellow",
           "yellow",
           "yellow",
           "yellow",
           "yellow",
           "yellow",
           "yellow",
           "yellow",
           "yellow",
           "yellow",
           "yellow",
           "yellow",
           "yellow",
           "yellow",
           "yellow",
           "yellow",
           "yellow",
           "yellow",
           "yellow",
           "yellow",
           "yellow",
           "yellow",
           "yellow",
           "yellow",
           "yellow",
           "yellow",
           "yellow",
           "yellow",
           "yellow",
           "green",
           "green",
           "green",
           "green",
           "green",
           "green",
           "green",
           "green",
           "green",
           "green",
           "green",
           "green",
           "green",
           "green",
           "green",
           "green",
           "green",
           "green",
           "green",
           "green",
           "green",
           "green",
           "green",
           "green",
           "green",
           "green",
           "green",
           "green",
           "green",
           "green",
           "green",
           "green",
           "green"
          ]
         },
         "name": "Flexible Consumption",
         "opacity": 0.5,
         "type": "bar",
         "x": [
          "2000963",
          "2000929",
          "2000994",
          "2000918",
          "2000992",
          "2000905",
          "2000957",
          "2000958",
          "2000993",
          "2000965",
          "2000926",
          "2000995",
          "2000961",
          "2000986",
          "2000911",
          "2000910",
          "2000951",
          "2000988",
          "2000923",
          "2000976",
          "2000933",
          "2000973",
          "2000912",
          "2000932",
          "2000906",
          "2000913",
          "2000970",
          "2000925",
          "2000937",
          "2000941",
          "2000935",
          "2000931",
          "2000979",
          "2000946",
          "2000960",
          "2000903",
          "2000996",
          "2000997",
          "2000985",
          "2000980",
          "2000942",
          "2000964",
          "2000972",
          "2000949",
          "2000922",
          "2000943",
          "2000984",
          "2000908",
          "2000952",
          "2000930",
          "2000939",
          "2000966",
          "2000950",
          "2000927",
          "2000940",
          "2000916",
          "2000901",
          "2000989",
          "2000956",
          "2000991",
          "2000917",
          "2000900",
          "2000968",
          "2000947",
          "2000902",
          "2000955",
          "2000983",
          "2000936",
          "2000987",
          "2000920",
          "2000990",
          "2000975",
          "2000981",
          "2000919",
          "2000907",
          "2000974",
          "2000921",
          "2000977",
          "2000924",
          "2000904",
          "2000962",
          "2000969",
          "2000959",
          "2000982",
          "2000971",
          "2000909",
          "2000948",
          "2000978",
          "2000934",
          "2000945",
          "2000928",
          "2000967",
          "2000915",
          "2000944",
          "2000914",
          "2000938",
          "2000953",
          "2000954"
         ],
         "y": [
          116217,
          135132,
          156304,
          259917,
          268021,
          279309,
          289424,
          303145,
          306285,
          325861,
          352029,
          441784,
          445295,
          455414,
          476906,
          496453,
          521337,
          544410,
          553374,
          574738,
          605767,
          633624,
          654895,
          670113,
          769105,
          781503,
          796096,
          809159,
          812490,
          827728,
          865941,
          900496,
          913714,
          956375,
          996509,
          1065896,
          1108628,
          1135638,
          1149833,
          1186723,
          1197655,
          1199267,
          1250031,
          1298182,
          1298466,
          1300177,
          1310819,
          1336926,
          1383968,
          1495901,
          1500916,
          1572793,
          1603271,
          1747366,
          1788026,
          1880862,
          1881423,
          1934745,
          2028882,
          2067049,
          2124006,
          2283645,
          2301429,
          2544025,
          2662694,
          2666458,
          2678754,
          2737208,
          2809616,
          2811571,
          2978701,
          3003827,
          3155558,
          3359340,
          3379502,
          3723572,
          4241081,
          4277558,
          4353499,
          4391917,
          4691491,
          5254645,
          5275707,
          5854920,
          5855858,
          5903807,
          6437231,
          6871901,
          7038175,
          7070454,
          7466371,
          7621944,
          8785793,
          9517576,
          11369494,
          11450126,
          12382257,
          13643418
         ]
        }
       ],
       "layout": {
        "barmode": "overlay",
        "template": {
         "data": {
          "bar": [
           {
            "error_x": {
             "color": "#2a3f5f"
            },
            "error_y": {
             "color": "#2a3f5f"
            },
            "marker": {
             "line": {
              "color": "#E5ECF6",
              "width": 0.5
             },
             "pattern": {
              "fillmode": "overlay",
              "size": 10,
              "solidity": 0.2
             }
            },
            "type": "bar"
           }
          ],
          "barpolar": [
           {
            "marker": {
             "line": {
              "color": "#E5ECF6",
              "width": 0.5
             },
             "pattern": {
              "fillmode": "overlay",
              "size": 10,
              "solidity": 0.2
             }
            },
            "type": "barpolar"
           }
          ],
          "carpet": [
           {
            "aaxis": {
             "endlinecolor": "#2a3f5f",
             "gridcolor": "white",
             "linecolor": "white",
             "minorgridcolor": "white",
             "startlinecolor": "#2a3f5f"
            },
            "baxis": {
             "endlinecolor": "#2a3f5f",
             "gridcolor": "white",
             "linecolor": "white",
             "minorgridcolor": "white",
             "startlinecolor": "#2a3f5f"
            },
            "type": "carpet"
           }
          ],
          "choropleth": [
           {
            "colorbar": {
             "outlinewidth": 0,
             "ticks": ""
            },
            "type": "choropleth"
           }
          ],
          "contour": [
           {
            "colorbar": {
             "outlinewidth": 0,
             "ticks": ""
            },
            "colorscale": [
             [
              0,
              "#0d0887"
             ],
             [
              0.1111111111111111,
              "#46039f"
             ],
             [
              0.2222222222222222,
              "#7201a8"
             ],
             [
              0.3333333333333333,
              "#9c179e"
             ],
             [
              0.4444444444444444,
              "#bd3786"
             ],
             [
              0.5555555555555556,
              "#d8576b"
             ],
             [
              0.6666666666666666,
              "#ed7953"
             ],
             [
              0.7777777777777778,
              "#fb9f3a"
             ],
             [
              0.8888888888888888,
              "#fdca26"
             ],
             [
              1,
              "#f0f921"
             ]
            ],
            "type": "contour"
           }
          ],
          "contourcarpet": [
           {
            "colorbar": {
             "outlinewidth": 0,
             "ticks": ""
            },
            "type": "contourcarpet"
           }
          ],
          "heatmap": [
           {
            "colorbar": {
             "outlinewidth": 0,
             "ticks": ""
            },
            "colorscale": [
             [
              0,
              "#0d0887"
             ],
             [
              0.1111111111111111,
              "#46039f"
             ],
             [
              0.2222222222222222,
              "#7201a8"
             ],
             [
              0.3333333333333333,
              "#9c179e"
             ],
             [
              0.4444444444444444,
              "#bd3786"
             ],
             [
              0.5555555555555556,
              "#d8576b"
             ],
             [
              0.6666666666666666,
              "#ed7953"
             ],
             [
              0.7777777777777778,
              "#fb9f3a"
             ],
             [
              0.8888888888888888,
              "#fdca26"
             ],
             [
              1,
              "#f0f921"
             ]
            ],
            "type": "heatmap"
           }
          ],
          "heatmapgl": [
           {
            "colorbar": {
             "outlinewidth": 0,
             "ticks": ""
            },
            "colorscale": [
             [
              0,
              "#0d0887"
             ],
             [
              0.1111111111111111,
              "#46039f"
             ],
             [
              0.2222222222222222,
              "#7201a8"
             ],
             [
              0.3333333333333333,
              "#9c179e"
             ],
             [
              0.4444444444444444,
              "#bd3786"
             ],
             [
              0.5555555555555556,
              "#d8576b"
             ],
             [
              0.6666666666666666,
              "#ed7953"
             ],
             [
              0.7777777777777778,
              "#fb9f3a"
             ],
             [
              0.8888888888888888,
              "#fdca26"
             ],
             [
              1,
              "#f0f921"
             ]
            ],
            "type": "heatmapgl"
           }
          ],
          "histogram": [
           {
            "marker": {
             "pattern": {
              "fillmode": "overlay",
              "size": 10,
              "solidity": 0.2
             }
            },
            "type": "histogram"
           }
          ],
          "histogram2d": [
           {
            "colorbar": {
             "outlinewidth": 0,
             "ticks": ""
            },
            "colorscale": [
             [
              0,
              "#0d0887"
             ],
             [
              0.1111111111111111,
              "#46039f"
             ],
             [
              0.2222222222222222,
              "#7201a8"
             ],
             [
              0.3333333333333333,
              "#9c179e"
             ],
             [
              0.4444444444444444,
              "#bd3786"
             ],
             [
              0.5555555555555556,
              "#d8576b"
             ],
             [
              0.6666666666666666,
              "#ed7953"
             ],
             [
              0.7777777777777778,
              "#fb9f3a"
             ],
             [
              0.8888888888888888,
              "#fdca26"
             ],
             [
              1,
              "#f0f921"
             ]
            ],
            "type": "histogram2d"
           }
          ],
          "histogram2dcontour": [
           {
            "colorbar": {
             "outlinewidth": 0,
             "ticks": ""
            },
            "colorscale": [
             [
              0,
              "#0d0887"
             ],
             [
              0.1111111111111111,
              "#46039f"
             ],
             [
              0.2222222222222222,
              "#7201a8"
             ],
             [
              0.3333333333333333,
              "#9c179e"
             ],
             [
              0.4444444444444444,
              "#bd3786"
             ],
             [
              0.5555555555555556,
              "#d8576b"
             ],
             [
              0.6666666666666666,
              "#ed7953"
             ],
             [
              0.7777777777777778,
              "#fb9f3a"
             ],
             [
              0.8888888888888888,
              "#fdca26"
             ],
             [
              1,
              "#f0f921"
             ]
            ],
            "type": "histogram2dcontour"
           }
          ],
          "mesh3d": [
           {
            "colorbar": {
             "outlinewidth": 0,
             "ticks": ""
            },
            "type": "mesh3d"
           }
          ],
          "parcoords": [
           {
            "line": {
             "colorbar": {
              "outlinewidth": 0,
              "ticks": ""
             }
            },
            "type": "parcoords"
           }
          ],
          "pie": [
           {
            "automargin": true,
            "type": "pie"
           }
          ],
          "scatter": [
           {
            "fillpattern": {
             "fillmode": "overlay",
             "size": 10,
             "solidity": 0.2
            },
            "type": "scatter"
           }
          ],
          "scatter3d": [
           {
            "line": {
             "colorbar": {
              "outlinewidth": 0,
              "ticks": ""
             }
            },
            "marker": {
             "colorbar": {
              "outlinewidth": 0,
              "ticks": ""
             }
            },
            "type": "scatter3d"
           }
          ],
          "scattercarpet": [
           {
            "marker": {
             "colorbar": {
              "outlinewidth": 0,
              "ticks": ""
             }
            },
            "type": "scattercarpet"
           }
          ],
          "scattergeo": [
           {
            "marker": {
             "colorbar": {
              "outlinewidth": 0,
              "ticks": ""
             }
            },
            "type": "scattergeo"
           }
          ],
          "scattergl": [
           {
            "marker": {
             "colorbar": {
              "outlinewidth": 0,
              "ticks": ""
             }
            },
            "type": "scattergl"
           }
          ],
          "scattermapbox": [
           {
            "marker": {
             "colorbar": {
              "outlinewidth": 0,
              "ticks": ""
             }
            },
            "type": "scattermapbox"
           }
          ],
          "scatterpolar": [
           {
            "marker": {
             "colorbar": {
              "outlinewidth": 0,
              "ticks": ""
             }
            },
            "type": "scatterpolar"
           }
          ],
          "scatterpolargl": [
           {
            "marker": {
             "colorbar": {
              "outlinewidth": 0,
              "ticks": ""
             }
            },
            "type": "scatterpolargl"
           }
          ],
          "scatterternary": [
           {
            "marker": {
             "colorbar": {
              "outlinewidth": 0,
              "ticks": ""
             }
            },
            "type": "scatterternary"
           }
          ],
          "surface": [
           {
            "colorbar": {
             "outlinewidth": 0,
             "ticks": ""
            },
            "colorscale": [
             [
              0,
              "#0d0887"
             ],
             [
              0.1111111111111111,
              "#46039f"
             ],
             [
              0.2222222222222222,
              "#7201a8"
             ],
             [
              0.3333333333333333,
              "#9c179e"
             ],
             [
              0.4444444444444444,
              "#bd3786"
             ],
             [
              0.5555555555555556,
              "#d8576b"
             ],
             [
              0.6666666666666666,
              "#ed7953"
             ],
             [
              0.7777777777777778,
              "#fb9f3a"
             ],
             [
              0.8888888888888888,
              "#fdca26"
             ],
             [
              1,
              "#f0f921"
             ]
            ],
            "type": "surface"
           }
          ],
          "table": [
           {
            "cells": {
             "fill": {
              "color": "#EBF0F8"
             },
             "line": {
              "color": "white"
             }
            },
            "header": {
             "fill": {
              "color": "#C8D4E3"
             },
             "line": {
              "color": "white"
             }
            },
            "type": "table"
           }
          ]
         },
         "layout": {
          "annotationdefaults": {
           "arrowcolor": "#2a3f5f",
           "arrowhead": 0,
           "arrowwidth": 1
          },
          "autotypenumbers": "strict",
          "coloraxis": {
           "colorbar": {
            "outlinewidth": 0,
            "ticks": ""
           }
          },
          "colorscale": {
           "diverging": [
            [
             0,
             "#8e0152"
            ],
            [
             0.1,
             "#c51b7d"
            ],
            [
             0.2,
             "#de77ae"
            ],
            [
             0.3,
             "#f1b6da"
            ],
            [
             0.4,
             "#fde0ef"
            ],
            [
             0.5,
             "#f7f7f7"
            ],
            [
             0.6,
             "#e6f5d0"
            ],
            [
             0.7,
             "#b8e186"
            ],
            [
             0.8,
             "#7fbc41"
            ],
            [
             0.9,
             "#4d9221"
            ],
            [
             1,
             "#276419"
            ]
           ],
           "sequential": [
            [
             0,
             "#0d0887"
            ],
            [
             0.1111111111111111,
             "#46039f"
            ],
            [
             0.2222222222222222,
             "#7201a8"
            ],
            [
             0.3333333333333333,
             "#9c179e"
            ],
            [
             0.4444444444444444,
             "#bd3786"
            ],
            [
             0.5555555555555556,
             "#d8576b"
            ],
            [
             0.6666666666666666,
             "#ed7953"
            ],
            [
             0.7777777777777778,
             "#fb9f3a"
            ],
            [
             0.8888888888888888,
             "#fdca26"
            ],
            [
             1,
             "#f0f921"
            ]
           ],
           "sequentialminus": [
            [
             0,
             "#0d0887"
            ],
            [
             0.1111111111111111,
             "#46039f"
            ],
            [
             0.2222222222222222,
             "#7201a8"
            ],
            [
             0.3333333333333333,
             "#9c179e"
            ],
            [
             0.4444444444444444,
             "#bd3786"
            ],
            [
             0.5555555555555556,
             "#d8576b"
            ],
            [
             0.6666666666666666,
             "#ed7953"
            ],
            [
             0.7777777777777778,
             "#fb9f3a"
            ],
            [
             0.8888888888888888,
             "#fdca26"
            ],
            [
             1,
             "#f0f921"
            ]
           ]
          },
          "colorway": [
           "#636efa",
           "#EF553B",
           "#00cc96",
           "#ab63fa",
           "#FFA15A",
           "#19d3f3",
           "#FF6692",
           "#B6E880",
           "#FF97FF",
           "#FECB52"
          ],
          "font": {
           "color": "#2a3f5f"
          },
          "geo": {
           "bgcolor": "white",
           "lakecolor": "white",
           "landcolor": "#E5ECF6",
           "showlakes": true,
           "showland": true,
           "subunitcolor": "white"
          },
          "hoverlabel": {
           "align": "left"
          },
          "hovermode": "closest",
          "mapbox": {
           "style": "light"
          },
          "paper_bgcolor": "white",
          "plot_bgcolor": "#E5ECF6",
          "polar": {
           "angularaxis": {
            "gridcolor": "white",
            "linecolor": "white",
            "ticks": ""
           },
           "bgcolor": "#E5ECF6",
           "radialaxis": {
            "gridcolor": "white",
            "linecolor": "white",
            "ticks": ""
           }
          },
          "scene": {
           "xaxis": {
            "backgroundcolor": "#E5ECF6",
            "gridcolor": "white",
            "gridwidth": 2,
            "linecolor": "white",
            "showbackground": true,
            "ticks": "",
            "zerolinecolor": "white"
           },
           "yaxis": {
            "backgroundcolor": "#E5ECF6",
            "gridcolor": "white",
            "gridwidth": 2,
            "linecolor": "white",
            "showbackground": true,
            "ticks": "",
            "zerolinecolor": "white"
           },
           "zaxis": {
            "backgroundcolor": "#E5ECF6",
            "gridcolor": "white",
            "gridwidth": 2,
            "linecolor": "white",
            "showbackground": true,
            "ticks": "",
            "zerolinecolor": "white"
           }
          },
          "shapedefaults": {
           "line": {
            "color": "#2a3f5f"
           }
          },
          "ternary": {
           "aaxis": {
            "gridcolor": "white",
            "linecolor": "white",
            "ticks": ""
           },
           "baxis": {
            "gridcolor": "white",
            "linecolor": "white",
            "ticks": ""
           },
           "bgcolor": "#E5ECF6",
           "caxis": {
            "gridcolor": "white",
            "linecolor": "white",
            "ticks": ""
           }
          },
          "title": {
           "x": 0.05
          },
          "xaxis": {
           "automargin": true,
           "gridcolor": "white",
           "linecolor": "white",
           "ticks": "",
           "title": {
            "standoff": 15
           },
           "zerolinecolor": "white",
           "zerolinewidth": 2
          },
          "yaxis": {
           "automargin": true,
           "gridcolor": "white",
           "linecolor": "white",
           "ticks": "",
           "title": {
            "standoff": 15
           },
           "zerolinecolor": "white",
           "zerolinewidth": 2
          }
         }
        },
        "title": {
         "text": "Total Energy Consumption vs. Flexible Consumption During Peak Hours"
        },
        "xaxis": {
         "tickangle": -45,
         "title": {
          "text": "House ID"
         }
        },
        "yaxis": {
         "range": [
          0,
          15000
         ],
         "tickformat": ",.0f",
         "title": {
          "text": "Energy Consumption (Kwh)"
         }
        }
       }
      }
     },
     "metadata": {},
     "output_type": "display_data"
    }
   ],
   "source": [
    "import pandas as pd\n",
    "import plotly.graph_objects as go\n",
    "\n",
    "# Load the Excel file for total energy consumption\n",
    "excel_file_5 = pd.ExcelFile(r'D:\\Grenoble_university\\6_month_internship\\working space\\data\\combined_1_year_data_with_flexibility.xlsx')\n",
    "\n",
    "# Define the range of sheet numbers for total energy consumption\n",
    "start_sheet_number = 2000900\n",
    "end_sheet_number = 2000997\n",
    "\n",
    "# Initialize total consumption dictionary\n",
    "total_consumption = {}\n",
    "\n",
    "# Iterate through the sheet numbers for total energy consumption\n",
    "for sheet_number in range(start_sheet_number, end_sheet_number + 1):\n",
    "    sheet_name = str(sheet_number)\n",
    "    if sheet_name in excel_file_5.sheet_names:\n",
    "        # Read the sheet into a DataFrame\n",
    "        df = excel_file_5.parse(sheet_name)\n",
    "        \n",
    "        # Check if 'Site consumption ()' is in the columns of the DataFrame\n",
    "        if 'Site consumption ()' in df.columns:\n",
    "            # Convert 'Site consumption ()' column to numeric (ignore errors)\n",
    "            df['Site consumption ()'] = pd.to_numeric(df['Site consumption ()'], errors='coerce')\n",
    "            # Calculate the sum for 'Site consumption ()' column\n",
    "            sum_for_site_consumption = df['Site consumption ()'].sum()\n",
    "            total_consumption[sheet_name] = sum_for_site_consumption\n",
    "        else:\n",
    "            # Sum up all numeric columns\n",
    "            sum_for_devices = df.iloc[1:].drop(columns=['Weekday', 'date']).sum().sum()\n",
    "            total_consumption[sheet_name] = sum_for_devices\n",
    "    else:\n",
    "        print(f\"Sheet {sheet_name} not found in the Excel file.\")\n",
    "\n",
    "# Convert total consumption dictionary to DataFrame\n",
    "total_consumption_df = pd.DataFrame.from_dict(total_consumption, orient='index', columns=['Total Consumption'])\n",
    "\n",
    "# Read the Excel file into a dictionary of DataFrames for energy flexibility during peak hours\n",
    "combined_data_dict_5 = pd.read_excel(r'D:\\Grenoble_university\\6_month_internship\\working space\\data\\combined_1_year_data_with_flexibility.xlsx', sheet_name=None)\n",
    "\n",
    "# Define the time range for calculation (8 am - 10 am and 6 pm - 10 pm)\n",
    "start_time_morning = pd.Timestamp('00:00:00').time()\n",
    "end_time_morning = pd.Timestamp('12:00:00').time()\n",
    "start_time_evening = pd.Timestamp('12:00:01').time()\n",
    "end_time_evening = pd.Timestamp('23:59:59').time()\n",
    "\n",
    "\n",
    "# Initialize lists to store total morning and evening flexible consumption\n",
    "total_flex_consumption = []\n",
    "\n",
    "# Iterate over each sheet and perform the filtering and calculation for energy flexibility during peak hours\n",
    "for sheet_name, df in combined_data_dict_5.items():\n",
    "    # Filter rows to include only flexible devices (second row)\n",
    "    flexibility_row = df.iloc[0] == 'flexible'\n",
    "    flexible_devices_df = df.loc[:, flexibility_row]\n",
    "\n",
    "    # Convert 'date' column to datetime format\n",
    "    df['date'] = pd.to_datetime(df['date'])\n",
    "\n",
    "    # Filter rows based on time range and calculate sum for morning and evening\n",
    "    morning_sum = flexible_devices_df[\n",
    "        (df['date'].dt.time >= start_time_morning) & \n",
    "        (df['date'].dt.time <= end_time_morning)\n",
    "    ].sum().sum()\n",
    "\n",
    "    evening_sum = flexible_devices_df[\n",
    "        (df['date'].dt.time >= start_time_evening) & \n",
    "        (df['date'].dt.time <= end_time_evening)\n",
    "    ].sum().sum()\n",
    "\n",
    "    # Append total morning and evening sums to list\n",
    "    total_flex_consumption.append(morning_sum + evening_sum)\n",
    "\n",
    "# Create a DataFrame to store the flexible consumption data\n",
    "flex_consumption_df = pd.DataFrame({\n",
    "    'House ID': list(combined_data_dict_5.keys()),\n",
    "    'Total Flexible Consumption': total_flex_consumption\n",
    "})\n",
    "\n",
    "# Merge the total consumption and flexible consumption DataFrames\n",
    "merged_df = total_consumption_df.merge(flex_consumption_df, left_index=True, right_on='House ID')\n",
    "\n",
    "# Define flexibility thresholds\n",
    "high_threshold = merged_df['Total Flexible Consumption'].quantile(0.66)\n",
    "low_threshold = merged_df['Total Flexible Consumption'].quantile(0.33)\n",
    "\n",
    "# Categorize flexibility potential\n",
    "def categorize_flexibility(value):\n",
    "    if value >= high_threshold:\n",
    "        return 'High'\n",
    "    elif value >= low_threshold:\n",
    "        return 'Average'\n",
    "    else:\n",
    "        return 'Low'\n",
    "\n",
    "merged_df['Flexibility Category'] = merged_df['Total Flexible Consumption'].apply(categorize_flexibility)\n",
    "\n",
    "# Define colors based on flexibility categories\n",
    "color_map = {\n",
    "    'High': 'green',\n",
    "    'Average': 'yellow',\n",
    "    'Low': 'red'\n",
    "}\n",
    "\n",
    "merged_df['Color'] = merged_df['Flexibility Category'].map(color_map)\n",
    "\n",
    "# Sort DataFrame by Total Flexible Consumption\n",
    "merged_df = merged_df.sort_values(by='Total Flexible Consumption')\n",
    "\n",
    "# Create a figure\n",
    "fig = go.Figure()\n",
    "\n",
    "# Add bars for total consumption\n",
    "fig.add_trace(go.Bar(\n",
    "    x=merged_df['House ID'],\n",
    "    y=merged_df['Total Consumption'],\n",
    "    name='Total Consumption',\n",
    "    marker_color='blue'\n",
    "))\n",
    "\n",
    "# Add bars for flexible consumption with colors based on flexibility category\n",
    "fig.add_trace(go.Bar(\n",
    "    x=merged_df['House ID'],\n",
    "    y=merged_df['Total Flexible Consumption'],\n",
    "    name='Flexible Consumption',\n",
    "    marker=dict(color=merged_df['Color']),\n",
    "    opacity=0.5\n",
    "))\n",
    "\n",
    "# Update layout with appropriate y-axis range and formatting\n",
    "fig.update_layout(\n",
    "    title='Total Energy Consumption vs. Flexible Consumption During Peak Hours',\n",
    "    xaxis_title='House ID',\n",
    "    yaxis_title='Energy Consumption (Kwh)',\n",
    "    yaxis=dict(\n",
    "        tickformat=',.0f',  # Use comma as a thousand separator\n",
    "        range=[0, 15000]   # Set y-axis range to a maximum of 15,000\n",
    "    ),\n",
    "    barmode='overlay',\n",
    "    xaxis_tickangle=-45\n",
    ")\n",
    "\n",
    "# Show the figure\n",
    "fig.show()\n"
   ]
  },
  {
   "cell_type": "code",
   "execution_count": 3,
   "metadata": {},
   "outputs": [
    {
     "data": {
      "application/vnd.plotly.v1+json": {
       "config": {
        "plotlyServerURL": "https://plot.ly"
       },
       "data": [
        {
         "marker": {
          "color": "blue"
         },
         "name": "Total Consumption",
         "type": "bar",
         "x": [
          "2000905",
          "2000910",
          "2000906",
          "2000903",
          "2000908",
          "2000907",
          "2000904",
          "2000900",
          "2000901",
          "2000902",
          "2000909"
         ],
         "y": [
          2644347,
          2289067,
          3356984,
          4408269,
          3480698,
          6148312,
          10185746,
          5433955,
          4661350,
          1929643,
          9416947
         ]
        },
        {
         "marker": {
          "color": [
           "red",
           "red",
           "red",
           "red",
           "yellow",
           "yellow",
           "yellow",
           "green",
           "green",
           "green",
           "green"
          ]
         },
         "name": "Flexible Consumption",
         "opacity": 0.5,
         "type": "bar",
         "x": [
          "2000905",
          "2000910",
          "2000906",
          "2000903",
          "2000908",
          "2000907",
          "2000904",
          "2000900",
          "2000901",
          "2000902",
          "2000909"
         ],
         "y": [
          143336,
          277121,
          289683,
          437351,
          533542,
          548115,
          609050,
          731811,
          832062,
          1062147,
          1957885
         ]
        }
       ],
       "layout": {
        "barmode": "overlay",
        "template": {
         "data": {
          "bar": [
           {
            "error_x": {
             "color": "#2a3f5f"
            },
            "error_y": {
             "color": "#2a3f5f"
            },
            "marker": {
             "line": {
              "color": "#E5ECF6",
              "width": 0.5
             },
             "pattern": {
              "fillmode": "overlay",
              "size": 10,
              "solidity": 0.2
             }
            },
            "type": "bar"
           }
          ],
          "barpolar": [
           {
            "marker": {
             "line": {
              "color": "#E5ECF6",
              "width": 0.5
             },
             "pattern": {
              "fillmode": "overlay",
              "size": 10,
              "solidity": 0.2
             }
            },
            "type": "barpolar"
           }
          ],
          "carpet": [
           {
            "aaxis": {
             "endlinecolor": "#2a3f5f",
             "gridcolor": "white",
             "linecolor": "white",
             "minorgridcolor": "white",
             "startlinecolor": "#2a3f5f"
            },
            "baxis": {
             "endlinecolor": "#2a3f5f",
             "gridcolor": "white",
             "linecolor": "white",
             "minorgridcolor": "white",
             "startlinecolor": "#2a3f5f"
            },
            "type": "carpet"
           }
          ],
          "choropleth": [
           {
            "colorbar": {
             "outlinewidth": 0,
             "ticks": ""
            },
            "type": "choropleth"
           }
          ],
          "contour": [
           {
            "colorbar": {
             "outlinewidth": 0,
             "ticks": ""
            },
            "colorscale": [
             [
              0,
              "#0d0887"
             ],
             [
              0.1111111111111111,
              "#46039f"
             ],
             [
              0.2222222222222222,
              "#7201a8"
             ],
             [
              0.3333333333333333,
              "#9c179e"
             ],
             [
              0.4444444444444444,
              "#bd3786"
             ],
             [
              0.5555555555555556,
              "#d8576b"
             ],
             [
              0.6666666666666666,
              "#ed7953"
             ],
             [
              0.7777777777777778,
              "#fb9f3a"
             ],
             [
              0.8888888888888888,
              "#fdca26"
             ],
             [
              1,
              "#f0f921"
             ]
            ],
            "type": "contour"
           }
          ],
          "contourcarpet": [
           {
            "colorbar": {
             "outlinewidth": 0,
             "ticks": ""
            },
            "type": "contourcarpet"
           }
          ],
          "heatmap": [
           {
            "colorbar": {
             "outlinewidth": 0,
             "ticks": ""
            },
            "colorscale": [
             [
              0,
              "#0d0887"
             ],
             [
              0.1111111111111111,
              "#46039f"
             ],
             [
              0.2222222222222222,
              "#7201a8"
             ],
             [
              0.3333333333333333,
              "#9c179e"
             ],
             [
              0.4444444444444444,
              "#bd3786"
             ],
             [
              0.5555555555555556,
              "#d8576b"
             ],
             [
              0.6666666666666666,
              "#ed7953"
             ],
             [
              0.7777777777777778,
              "#fb9f3a"
             ],
             [
              0.8888888888888888,
              "#fdca26"
             ],
             [
              1,
              "#f0f921"
             ]
            ],
            "type": "heatmap"
           }
          ],
          "heatmapgl": [
           {
            "colorbar": {
             "outlinewidth": 0,
             "ticks": ""
            },
            "colorscale": [
             [
              0,
              "#0d0887"
             ],
             [
              0.1111111111111111,
              "#46039f"
             ],
             [
              0.2222222222222222,
              "#7201a8"
             ],
             [
              0.3333333333333333,
              "#9c179e"
             ],
             [
              0.4444444444444444,
              "#bd3786"
             ],
             [
              0.5555555555555556,
              "#d8576b"
             ],
             [
              0.6666666666666666,
              "#ed7953"
             ],
             [
              0.7777777777777778,
              "#fb9f3a"
             ],
             [
              0.8888888888888888,
              "#fdca26"
             ],
             [
              1,
              "#f0f921"
             ]
            ],
            "type": "heatmapgl"
           }
          ],
          "histogram": [
           {
            "marker": {
             "pattern": {
              "fillmode": "overlay",
              "size": 10,
              "solidity": 0.2
             }
            },
            "type": "histogram"
           }
          ],
          "histogram2d": [
           {
            "colorbar": {
             "outlinewidth": 0,
             "ticks": ""
            },
            "colorscale": [
             [
              0,
              "#0d0887"
             ],
             [
              0.1111111111111111,
              "#46039f"
             ],
             [
              0.2222222222222222,
              "#7201a8"
             ],
             [
              0.3333333333333333,
              "#9c179e"
             ],
             [
              0.4444444444444444,
              "#bd3786"
             ],
             [
              0.5555555555555556,
              "#d8576b"
             ],
             [
              0.6666666666666666,
              "#ed7953"
             ],
             [
              0.7777777777777778,
              "#fb9f3a"
             ],
             [
              0.8888888888888888,
              "#fdca26"
             ],
             [
              1,
              "#f0f921"
             ]
            ],
            "type": "histogram2d"
           }
          ],
          "histogram2dcontour": [
           {
            "colorbar": {
             "outlinewidth": 0,
             "ticks": ""
            },
            "colorscale": [
             [
              0,
              "#0d0887"
             ],
             [
              0.1111111111111111,
              "#46039f"
             ],
             [
              0.2222222222222222,
              "#7201a8"
             ],
             [
              0.3333333333333333,
              "#9c179e"
             ],
             [
              0.4444444444444444,
              "#bd3786"
             ],
             [
              0.5555555555555556,
              "#d8576b"
             ],
             [
              0.6666666666666666,
              "#ed7953"
             ],
             [
              0.7777777777777778,
              "#fb9f3a"
             ],
             [
              0.8888888888888888,
              "#fdca26"
             ],
             [
              1,
              "#f0f921"
             ]
            ],
            "type": "histogram2dcontour"
           }
          ],
          "mesh3d": [
           {
            "colorbar": {
             "outlinewidth": 0,
             "ticks": ""
            },
            "type": "mesh3d"
           }
          ],
          "parcoords": [
           {
            "line": {
             "colorbar": {
              "outlinewidth": 0,
              "ticks": ""
             }
            },
            "type": "parcoords"
           }
          ],
          "pie": [
           {
            "automargin": true,
            "type": "pie"
           }
          ],
          "scatter": [
           {
            "fillpattern": {
             "fillmode": "overlay",
             "size": 10,
             "solidity": 0.2
            },
            "type": "scatter"
           }
          ],
          "scatter3d": [
           {
            "line": {
             "colorbar": {
              "outlinewidth": 0,
              "ticks": ""
             }
            },
            "marker": {
             "colorbar": {
              "outlinewidth": 0,
              "ticks": ""
             }
            },
            "type": "scatter3d"
           }
          ],
          "scattercarpet": [
           {
            "marker": {
             "colorbar": {
              "outlinewidth": 0,
              "ticks": ""
             }
            },
            "type": "scattercarpet"
           }
          ],
          "scattergeo": [
           {
            "marker": {
             "colorbar": {
              "outlinewidth": 0,
              "ticks": ""
             }
            },
            "type": "scattergeo"
           }
          ],
          "scattergl": [
           {
            "marker": {
             "colorbar": {
              "outlinewidth": 0,
              "ticks": ""
             }
            },
            "type": "scattergl"
           }
          ],
          "scattermapbox": [
           {
            "marker": {
             "colorbar": {
              "outlinewidth": 0,
              "ticks": ""
             }
            },
            "type": "scattermapbox"
           }
          ],
          "scatterpolar": [
           {
            "marker": {
             "colorbar": {
              "outlinewidth": 0,
              "ticks": ""
             }
            },
            "type": "scatterpolar"
           }
          ],
          "scatterpolargl": [
           {
            "marker": {
             "colorbar": {
              "outlinewidth": 0,
              "ticks": ""
             }
            },
            "type": "scatterpolargl"
           }
          ],
          "scatterternary": [
           {
            "marker": {
             "colorbar": {
              "outlinewidth": 0,
              "ticks": ""
             }
            },
            "type": "scatterternary"
           }
          ],
          "surface": [
           {
            "colorbar": {
             "outlinewidth": 0,
             "ticks": ""
            },
            "colorscale": [
             [
              0,
              "#0d0887"
             ],
             [
              0.1111111111111111,
              "#46039f"
             ],
             [
              0.2222222222222222,
              "#7201a8"
             ],
             [
              0.3333333333333333,
              "#9c179e"
             ],
             [
              0.4444444444444444,
              "#bd3786"
             ],
             [
              0.5555555555555556,
              "#d8576b"
             ],
             [
              0.6666666666666666,
              "#ed7953"
             ],
             [
              0.7777777777777778,
              "#fb9f3a"
             ],
             [
              0.8888888888888888,
              "#fdca26"
             ],
             [
              1,
              "#f0f921"
             ]
            ],
            "type": "surface"
           }
          ],
          "table": [
           {
            "cells": {
             "fill": {
              "color": "#EBF0F8"
             },
             "line": {
              "color": "white"
             }
            },
            "header": {
             "fill": {
              "color": "#C8D4E3"
             },
             "line": {
              "color": "white"
             }
            },
            "type": "table"
           }
          ]
         },
         "layout": {
          "annotationdefaults": {
           "arrowcolor": "#2a3f5f",
           "arrowhead": 0,
           "arrowwidth": 1
          },
          "autotypenumbers": "strict",
          "coloraxis": {
           "colorbar": {
            "outlinewidth": 0,
            "ticks": ""
           }
          },
          "colorscale": {
           "diverging": [
            [
             0,
             "#8e0152"
            ],
            [
             0.1,
             "#c51b7d"
            ],
            [
             0.2,
             "#de77ae"
            ],
            [
             0.3,
             "#f1b6da"
            ],
            [
             0.4,
             "#fde0ef"
            ],
            [
             0.5,
             "#f7f7f7"
            ],
            [
             0.6,
             "#e6f5d0"
            ],
            [
             0.7,
             "#b8e186"
            ],
            [
             0.8,
             "#7fbc41"
            ],
            [
             0.9,
             "#4d9221"
            ],
            [
             1,
             "#276419"
            ]
           ],
           "sequential": [
            [
             0,
             "#0d0887"
            ],
            [
             0.1111111111111111,
             "#46039f"
            ],
            [
             0.2222222222222222,
             "#7201a8"
            ],
            [
             0.3333333333333333,
             "#9c179e"
            ],
            [
             0.4444444444444444,
             "#bd3786"
            ],
            [
             0.5555555555555556,
             "#d8576b"
            ],
            [
             0.6666666666666666,
             "#ed7953"
            ],
            [
             0.7777777777777778,
             "#fb9f3a"
            ],
            [
             0.8888888888888888,
             "#fdca26"
            ],
            [
             1,
             "#f0f921"
            ]
           ],
           "sequentialminus": [
            [
             0,
             "#0d0887"
            ],
            [
             0.1111111111111111,
             "#46039f"
            ],
            [
             0.2222222222222222,
             "#7201a8"
            ],
            [
             0.3333333333333333,
             "#9c179e"
            ],
            [
             0.4444444444444444,
             "#bd3786"
            ],
            [
             0.5555555555555556,
             "#d8576b"
            ],
            [
             0.6666666666666666,
             "#ed7953"
            ],
            [
             0.7777777777777778,
             "#fb9f3a"
            ],
            [
             0.8888888888888888,
             "#fdca26"
            ],
            [
             1,
             "#f0f921"
            ]
           ]
          },
          "colorway": [
           "#636efa",
           "#EF553B",
           "#00cc96",
           "#ab63fa",
           "#FFA15A",
           "#19d3f3",
           "#FF6692",
           "#B6E880",
           "#FF97FF",
           "#FECB52"
          ],
          "font": {
           "color": "#2a3f5f"
          },
          "geo": {
           "bgcolor": "white",
           "lakecolor": "white",
           "landcolor": "#E5ECF6",
           "showlakes": true,
           "showland": true,
           "subunitcolor": "white"
          },
          "hoverlabel": {
           "align": "left"
          },
          "hovermode": "closest",
          "mapbox": {
           "style": "light"
          },
          "paper_bgcolor": "white",
          "plot_bgcolor": "#E5ECF6",
          "polar": {
           "angularaxis": {
            "gridcolor": "white",
            "linecolor": "white",
            "ticks": ""
           },
           "bgcolor": "#E5ECF6",
           "radialaxis": {
            "gridcolor": "white",
            "linecolor": "white",
            "ticks": ""
           }
          },
          "scene": {
           "xaxis": {
            "backgroundcolor": "#E5ECF6",
            "gridcolor": "white",
            "gridwidth": 2,
            "linecolor": "white",
            "showbackground": true,
            "ticks": "",
            "zerolinecolor": "white"
           },
           "yaxis": {
            "backgroundcolor": "#E5ECF6",
            "gridcolor": "white",
            "gridwidth": 2,
            "linecolor": "white",
            "showbackground": true,
            "ticks": "",
            "zerolinecolor": "white"
           },
           "zaxis": {
            "backgroundcolor": "#E5ECF6",
            "gridcolor": "white",
            "gridwidth": 2,
            "linecolor": "white",
            "showbackground": true,
            "ticks": "",
            "zerolinecolor": "white"
           }
          },
          "shapedefaults": {
           "line": {
            "color": "#2a3f5f"
           }
          },
          "ternary": {
           "aaxis": {
            "gridcolor": "white",
            "linecolor": "white",
            "ticks": ""
           },
           "baxis": {
            "gridcolor": "white",
            "linecolor": "white",
            "ticks": ""
           },
           "bgcolor": "#E5ECF6",
           "caxis": {
            "gridcolor": "white",
            "linecolor": "white",
            "ticks": ""
           }
          },
          "title": {
           "x": 0.05
          },
          "xaxis": {
           "automargin": true,
           "gridcolor": "white",
           "linecolor": "white",
           "ticks": "",
           "title": {
            "standoff": 15
           },
           "zerolinecolor": "white",
           "zerolinewidth": 2
          },
          "yaxis": {
           "automargin": true,
           "gridcolor": "white",
           "linecolor": "white",
           "ticks": "",
           "title": {
            "standoff": 15
           },
           "zerolinecolor": "white",
           "zerolinewidth": 2
          }
         }
        },
        "title": {
         "text": "Total Energy Consumption vs. Flexible Consumption During Peak Hours"
        },
        "xaxis": {
         "tickangle": -45,
         "title": {
          "text": "House ID"
         }
        },
        "yaxis": {
         "range": [
          0,
          15000
         ],
         "tickformat": ",.0f",
         "title": {
          "text": "Energy Consumption (Kwh)"
         }
        }
       }
      }
     },
     "metadata": {},
     "output_type": "display_data"
    }
   ],
   "source": [
    "import pandas as pd\n",
    "import plotly.graph_objects as go\n",
    "\n",
    "# Load the Excel file for total energy consumption\n",
    "excel_file_5 = pd.ExcelFile(r'D:\\Grenoble_university\\6_month_internship\\working space\\data\\combined_1_year_data_with_flexibility.xlsx')\n",
    "\n",
    "# Define the range of sheet numbers for total energy consumption\n",
    "start_sheet_number = 2000900\n",
    "end_sheet_number = 2000910  # Change the end sheet number to 2000910 for filtering\n",
    "\n",
    "# Initialize total consumption dictionary\n",
    "total_consumption = {}\n",
    "\n",
    "# Iterate through the filtered range of sheet numbers for total energy consumption\n",
    "for sheet_number in range(start_sheet_number, end_sheet_number + 1):\n",
    "    sheet_name = str(sheet_number)\n",
    "    if sheet_name in excel_file_5.sheet_names:\n",
    "        # Read the sheet into a DataFrame\n",
    "        df = excel_file_5.parse(sheet_name)\n",
    "        \n",
    "        # Check if 'Site consumption ()' is in the columns of the DataFrame\n",
    "        if 'Site consumption ()' in df.columns:\n",
    "            # Convert 'Site consumption ()' column to numeric (ignore errors)\n",
    "            df['Site consumption ()'] = pd.to_numeric(df['Site consumption ()'], errors='coerce')\n",
    "            # Calculate the sum for 'Site consumption ()' column\n",
    "            sum_for_site_consumption = df['Site consumption ()'].sum()\n",
    "            total_consumption[sheet_name] = sum_for_site_consumption\n",
    "        else:\n",
    "            # Sum up all numeric columns\n",
    "            sum_for_devices = df.iloc[1:].drop(columns=['Weekday', 'date']).sum().sum()\n",
    "            total_consumption[sheet_name] = sum_for_devices\n",
    "    else:\n",
    "        print(f\"Sheet {sheet_name} not found in the Excel file.\")\n",
    "\n",
    "# Convert total consumption dictionary to DataFrame\n",
    "total_consumption_df = pd.DataFrame.from_dict(total_consumption, orient='index', columns=['Total Consumption'])\n",
    "\n",
    "# Read the Excel file into a dictionary of DataFrames for energy flexibility during peak hours\n",
    "combined_data_dict_5 = pd.read_excel(r'D:\\Grenoble_university\\6_month_internship\\working space\\data\\combined_1_year_data_with_flexibility.xlsx', sheet_name=None)\n",
    "\n",
    "# Define the time range for calculation (8 am - 10 am and 6 pm - 10 pm)\n",
    "start_time_morning = pd.Timestamp('08:00:00').time()\n",
    "end_time_morning = pd.Timestamp('10:00:00').time()\n",
    "start_time_evening = pd.Timestamp('18:00:00').time()\n",
    "end_time_evening = pd.Timestamp('22:00:00').time()\n",
    "\n",
    "# Initialize lists to store total morning and evening flexible consumption\n",
    "total_flex_consumption = []\n",
    "\n",
    "# Iterate over each sheet and perform the filtering and calculation for energy flexibility during peak hours\n",
    "for sheet_name, df in combined_data_dict_5.items():\n",
    "    # Filter sheets within the specified range\n",
    "    if int(sheet_name) < start_sheet_number or int(sheet_name) > end_sheet_number:\n",
    "        continue\n",
    "    \n",
    "    # Filter rows to include only flexible devices (second row)\n",
    "    flexibility_row = df.iloc[0] == 'flexible'\n",
    "    flexible_devices_df = df.loc[:, flexibility_row]\n",
    "\n",
    "    # Convert 'date' column to datetime format\n",
    "    df['date'] = pd.to_datetime(df['date'])\n",
    "\n",
    "    # Filter rows based on time range and calculate sum for morning and evening\n",
    "    morning_sum = flexible_devices_df[\n",
    "        (df['date'].dt.time >= start_time_morning) & \n",
    "        (df['date'].dt.time <= end_time_morning)\n",
    "    ].sum().sum()\n",
    "\n",
    "    evening_sum = flexible_devices_df[\n",
    "        (df['date'].dt.time >= start_time_evening) & \n",
    "        (df['date'].dt.time <= end_time_evening)\n",
    "    ].sum().sum()\n",
    "\n",
    "    # Append total morning and evening sums to list\n",
    "    total_flex_consumption.append(morning_sum + evening_sum)\n",
    "\n",
    "# Create a DataFrame to store the flexible consumption data\n",
    "flex_consumption_df = pd.DataFrame({\n",
    "    'House ID': list(combined_data_dict_5.keys())[:len(total_flex_consumption)],\n",
    "    'Total Flexible Consumption': total_flex_consumption\n",
    "})\n",
    "\n",
    "# Merge the total consumption and flexible consumption DataFrames\n",
    "merged_df = total_consumption_df.merge(flex_consumption_df, left_index=True, right_on='House ID')\n",
    "\n",
    "# Define flexibility thresholds\n",
    "high_threshold = merged_df['Total Flexible Consumption'].quantile(0.66)\n",
    "low_threshold = merged_df['Total Flexible Consumption'].quantile(0.33)\n",
    "\n",
    "# Categorize flexibility potential\n",
    "def categorize_flexibility(value):\n",
    "    if value >= high_threshold:\n",
    "        return 'High'\n",
    "    elif value >= low_threshold:\n",
    "        return 'Average'\n",
    "    else:\n",
    "        return 'Low'\n",
    "\n",
    "merged_df['Flexibility Category'] = merged_df['Total Flexible Consumption'].apply(categorize_flexibility)\n",
    "\n",
    "# Define colors based on flexibility categories\n",
    "color_map = {\n",
    "    'High': 'green',\n",
    "    'Average': 'yellow',\n",
    "    'Low': 'red'\n",
    "}\n",
    "\n",
    "merged_df['Color'] = merged_df['Flexibility Category'].map(color_map)\n",
    "\n",
    "# Sort DataFrame by Total Flexible Consumption\n",
    "merged_df = merged_df.sort_values(by='Total Flexible Consumption')\n",
    "\n",
    "# Create a figure\n",
    "fig = go.Figure()\n",
    "\n",
    "# Add bars for total consumption\n",
    "fig.add_trace(go.Bar(\n",
    "    x=merged_df['House ID'],\n",
    "    y=merged_df['Total Consumption'],\n",
    "    name='Total Consumption',\n",
    "    marker_color='blue'\n",
    "))\n",
    "\n",
    "# Add bars for flexible consumption with colors based on flexibility category\n",
    "fig.add_trace(go.Bar(\n",
    "    x=merged_df['House ID'],\n",
    "    y=merged_df['Total Flexible Consumption'],\n",
    "    name='Flexible Consumption',\n",
    "    marker=dict(color=merged_df['Color']),\n",
    "    opacity=0.5\n",
    "))\n",
    "\n",
    "# Update layout with appropriate y-axis range and formatting\n",
    "fig.update_layout(\n",
    "    title='Total Energy Consumption vs. Flexible Consumption During Peak Hours',\n",
    "    xaxis_title='House ID',\n",
    "    yaxis_title='Energy Consumption (Kwh)',\n",
    "    yaxis=dict(\n",
    "        tickformat=',.0f',  # Use comma as a thousand separator\n",
    "        range=[0, 15000]   # Set y-axis range to a maximum of 15,000\n",
    "    ),\n",
    "    barmode='overlay',\n",
    "    xaxis_tickangle=-45\n",
    ")\n",
    "\n",
    "# Show the figure\n",
    "fig.show()\n"
   ]
  },
  {
   "cell_type": "markdown",
   "metadata": {},
   "source": [
    "# finall version"
   ]
  },
  {
   "cell_type": "code",
   "execution_count": 2,
   "metadata": {},
   "outputs": [
    {
     "name": "stdout",
     "output_type": "stream",
     "text": [
      "Sheet 2000902 not found in the Excel file or excluded.\n",
      "Sheet 2000919 not found in the Excel file or excluded.\n",
      "Sheet 2000920 not found in the Excel file or excluded.\n",
      "Sheet 2000924 not found in the Excel file or excluded.\n",
      "Sheet 2000902 excluded.\n",
      "Sheet 2000919 excluded.\n",
      "Sheet 2000920 excluded.\n",
      "Sheet 2000924 excluded.\n"
     ]
    },
    {
     "data": {
      "application/vnd.plotly.v1+json": {
       "config": {
        "plotlyServerURL": "https://plot.ly"
       },
       "data": [
        {
         "marker": {
          "color": "blue"
         },
         "name": "Total Consumption",
         "type": "bar",
         "x": [
          "2000963",
          "2000929",
          "2000994",
          "2000961",
          "2000993",
          "2000918",
          "2000992",
          "2000958",
          "2000905",
          "2000957",
          "2000956",
          "2000995",
          "2000991",
          "2000926",
          "2000965",
          "2000951",
          "2000981",
          "2000986",
          "2000988",
          "2000987",
          "2000976",
          "2000973",
          "2000936",
          "2000941",
          "2000912",
          "2000911",
          "2000925",
          "2000933",
          "2000923",
          "2000910",
          "2000906",
          "2000949",
          "2000932",
          "2000913",
          "2000942",
          "2000946",
          "2000921",
          "2000937",
          "2000970",
          "2000996",
          "2000931",
          "2000968",
          "2000935",
          "2000985",
          "2000979",
          "2000983",
          "2000903",
          "2000943",
          "2000952",
          "2000997",
          "2000960",
          "2000908",
          "2000907",
          "2000959",
          "2000922",
          "2000964",
          "2000972",
          "2000930",
          "2000939",
          "2000904",
          "2000980",
          "2000927",
          "2000975",
          "2000984",
          "2000916",
          "2000990",
          "2000974",
          "2000950",
          "2000900",
          "2000966",
          "2000989",
          "2000940",
          "2000901",
          "2000977",
          "2000955",
          "2000914",
          "2000947",
          "2000917",
          "2000948",
          "2000969",
          "2000978",
          "2000982",
          "2000934",
          "2000945",
          "2000971",
          "2000928",
          "2000967",
          "2000909",
          "2000962",
          "2000944",
          "2000915",
          "2000953",
          "2000954",
          "2000938"
         ],
         "y": [
          3107273,
          2161937,
          1505839,
          5417750,
          635496,
          1821784,
          3315212,
          1941833,
          2644347,
          2509275,
          3488753,
          4005725,
          4520472,
          5003568,
          5326945,
          6187993,
          5200652,
          2266623,
          3653331,
          10002391,
          3028419,
          3484451,
          5567328,
          2955401,
          7715054,
          1743784,
          3409214,
          1075988,
          2055771,
          2289067,
          3356984,
          4012132,
          2744192,
          2739130,
          3360559,
          2595789,
          8081341,
          1456181,
          3569341,
          3879198,
          4176841,
          3104098,
          2453960,
          3302312,
          2884031,
          4054982,
          4408269,
          3787707,
          5682121,
          4799713,
          5679094,
          3480698,
          6148312,
          8733522,
          2992618,
          4969766,
          2764521,
          6194527,
          4764709,
          10185746,
          6101826,
          4378215,
          4371705,
          4085647,
          3260412,
          5384846,
          7056712,
          11687400,
          5433955,
          4332815,
          8479254,
          6743198,
          4661350,
          4652190,
          6043037,
          13151874,
          8138546,
          3398101,
          11091206,
          9482164,
          8289785,
          8424373,
          11938424,
          10088333,
          10382544,
          9234631,
          9535769,
          9416947,
          9177521,
          13273114,
          12067459,
          14698261,
          17123520,
          14115087
         ]
        },
        {
         "marker": {
          "color": [
           "red",
           "red",
           "red",
           "red",
           "red",
           "red",
           "red",
           "red",
           "red",
           "red",
           "red",
           "red",
           "red",
           "red",
           "red",
           "red",
           "red",
           "red",
           "red",
           "red",
           "red",
           "red",
           "red",
           "red",
           "red",
           "red",
           "red",
           "red",
           "red",
           "red",
           "red",
           "yellow",
           "yellow",
           "yellow",
           "yellow",
           "yellow",
           "yellow",
           "yellow",
           "yellow",
           "yellow",
           "yellow",
           "yellow",
           "yellow",
           "yellow",
           "yellow",
           "yellow",
           "yellow",
           "yellow",
           "yellow",
           "yellow",
           "yellow",
           "yellow",
           "yellow",
           "yellow",
           "yellow",
           "yellow",
           "yellow",
           "yellow",
           "yellow",
           "yellow",
           "yellow",
           "yellow",
           "green",
           "green",
           "green",
           "green",
           "green",
           "green",
           "green",
           "green",
           "green",
           "green",
           "green",
           "green",
           "green",
           "green",
           "green",
           "green",
           "green",
           "green",
           "green",
           "green",
           "green",
           "green",
           "green",
           "green",
           "green",
           "green",
           "green",
           "green",
           "green",
           "green",
           "green",
           "green"
          ]
         },
         "name": "Flexible Consumption",
         "opacity": 0.5,
         "type": "bar",
         "x": [
          "2000963",
          "2000929",
          "2000994",
          "2000961",
          "2000993",
          "2000918",
          "2000992",
          "2000958",
          "2000905",
          "2000957",
          "2000956",
          "2000995",
          "2000991",
          "2000926",
          "2000965",
          "2000951",
          "2000981",
          "2000986",
          "2000988",
          "2000987",
          "2000976",
          "2000973",
          "2000936",
          "2000941",
          "2000912",
          "2000911",
          "2000925",
          "2000933",
          "2000923",
          "2000910",
          "2000906",
          "2000949",
          "2000932",
          "2000913",
          "2000942",
          "2000946",
          "2000921",
          "2000937",
          "2000970",
          "2000996",
          "2000931",
          "2000968",
          "2000935",
          "2000985",
          "2000979",
          "2000983",
          "2000903",
          "2000943",
          "2000952",
          "2000997",
          "2000960",
          "2000908",
          "2000907",
          "2000959",
          "2000922",
          "2000964",
          "2000972",
          "2000930",
          "2000939",
          "2000904",
          "2000980",
          "2000927",
          "2000975",
          "2000984",
          "2000916",
          "2000990",
          "2000974",
          "2000950",
          "2000900",
          "2000966",
          "2000989",
          "2000940",
          "2000901",
          "2000977",
          "2000955",
          "2000914",
          "2000947",
          "2000917",
          "2000948",
          "2000969",
          "2000978",
          "2000982",
          "2000934",
          "2000945",
          "2000971",
          "2000928",
          "2000967",
          "2000909",
          "2000962",
          "2000944",
          "2000915",
          "2000953",
          "2000954",
          "2000938"
         ],
         "y": [
          39664,
          55299,
          59379,
          75260,
          88797,
          101375,
          113375,
          138801,
          143336,
          144681,
          156188,
          165984,
          175697,
          176546,
          178179,
          195934,
          199607,
          214868,
          219645,
          228753,
          234086,
          239970,
          243490,
          247651,
          248664,
          251988,
          261983,
          268247,
          274534,
          277121,
          289683,
          323224,
          328797,
          340940,
          377057,
          377564,
          378457,
          384640,
          385304,
          386759,
          394743,
          404128,
          409323,
          432425,
          433169,
          436462,
          437351,
          449048,
          486506,
          515048,
          518564,
          533542,
          548115,
          550414,
          553083,
          559175,
          570784,
          579878,
          599590,
          609050,
          610906,
          615872,
          620535,
          630174,
          641439,
          659945,
          711421,
          711491,
          731811,
          769946,
          771482,
          782801,
          832062,
          935510,
          958968,
          965776,
          1013460,
          1201550,
          1337441,
          1395346,
          1410588,
          1414782,
          1496481,
          1511997,
          1737810,
          1828691,
          1900362,
          1957885,
          2058275,
          2285130,
          2595969,
          3237115,
          3580594,
          3735885
         ]
        }
       ],
       "layout": {
        "barmode": "overlay",
        "template": {
         "data": {
          "bar": [
           {
            "error_x": {
             "color": "#2a3f5f"
            },
            "error_y": {
             "color": "#2a3f5f"
            },
            "marker": {
             "line": {
              "color": "#E5ECF6",
              "width": 0.5
             },
             "pattern": {
              "fillmode": "overlay",
              "size": 10,
              "solidity": 0.2
             }
            },
            "type": "bar"
           }
          ],
          "barpolar": [
           {
            "marker": {
             "line": {
              "color": "#E5ECF6",
              "width": 0.5
             },
             "pattern": {
              "fillmode": "overlay",
              "size": 10,
              "solidity": 0.2
             }
            },
            "type": "barpolar"
           }
          ],
          "carpet": [
           {
            "aaxis": {
             "endlinecolor": "#2a3f5f",
             "gridcolor": "white",
             "linecolor": "white",
             "minorgridcolor": "white",
             "startlinecolor": "#2a3f5f"
            },
            "baxis": {
             "endlinecolor": "#2a3f5f",
             "gridcolor": "white",
             "linecolor": "white",
             "minorgridcolor": "white",
             "startlinecolor": "#2a3f5f"
            },
            "type": "carpet"
           }
          ],
          "choropleth": [
           {
            "colorbar": {
             "outlinewidth": 0,
             "ticks": ""
            },
            "type": "choropleth"
           }
          ],
          "contour": [
           {
            "colorbar": {
             "outlinewidth": 0,
             "ticks": ""
            },
            "colorscale": [
             [
              0,
              "#0d0887"
             ],
             [
              0.1111111111111111,
              "#46039f"
             ],
             [
              0.2222222222222222,
              "#7201a8"
             ],
             [
              0.3333333333333333,
              "#9c179e"
             ],
             [
              0.4444444444444444,
              "#bd3786"
             ],
             [
              0.5555555555555556,
              "#d8576b"
             ],
             [
              0.6666666666666666,
              "#ed7953"
             ],
             [
              0.7777777777777778,
              "#fb9f3a"
             ],
             [
              0.8888888888888888,
              "#fdca26"
             ],
             [
              1,
              "#f0f921"
             ]
            ],
            "type": "contour"
           }
          ],
          "contourcarpet": [
           {
            "colorbar": {
             "outlinewidth": 0,
             "ticks": ""
            },
            "type": "contourcarpet"
           }
          ],
          "heatmap": [
           {
            "colorbar": {
             "outlinewidth": 0,
             "ticks": ""
            },
            "colorscale": [
             [
              0,
              "#0d0887"
             ],
             [
              0.1111111111111111,
              "#46039f"
             ],
             [
              0.2222222222222222,
              "#7201a8"
             ],
             [
              0.3333333333333333,
              "#9c179e"
             ],
             [
              0.4444444444444444,
              "#bd3786"
             ],
             [
              0.5555555555555556,
              "#d8576b"
             ],
             [
              0.6666666666666666,
              "#ed7953"
             ],
             [
              0.7777777777777778,
              "#fb9f3a"
             ],
             [
              0.8888888888888888,
              "#fdca26"
             ],
             [
              1,
              "#f0f921"
             ]
            ],
            "type": "heatmap"
           }
          ],
          "heatmapgl": [
           {
            "colorbar": {
             "outlinewidth": 0,
             "ticks": ""
            },
            "colorscale": [
             [
              0,
              "#0d0887"
             ],
             [
              0.1111111111111111,
              "#46039f"
             ],
             [
              0.2222222222222222,
              "#7201a8"
             ],
             [
              0.3333333333333333,
              "#9c179e"
             ],
             [
              0.4444444444444444,
              "#bd3786"
             ],
             [
              0.5555555555555556,
              "#d8576b"
             ],
             [
              0.6666666666666666,
              "#ed7953"
             ],
             [
              0.7777777777777778,
              "#fb9f3a"
             ],
             [
              0.8888888888888888,
              "#fdca26"
             ],
             [
              1,
              "#f0f921"
             ]
            ],
            "type": "heatmapgl"
           }
          ],
          "histogram": [
           {
            "marker": {
             "pattern": {
              "fillmode": "overlay",
              "size": 10,
              "solidity": 0.2
             }
            },
            "type": "histogram"
           }
          ],
          "histogram2d": [
           {
            "colorbar": {
             "outlinewidth": 0,
             "ticks": ""
            },
            "colorscale": [
             [
              0,
              "#0d0887"
             ],
             [
              0.1111111111111111,
              "#46039f"
             ],
             [
              0.2222222222222222,
              "#7201a8"
             ],
             [
              0.3333333333333333,
              "#9c179e"
             ],
             [
              0.4444444444444444,
              "#bd3786"
             ],
             [
              0.5555555555555556,
              "#d8576b"
             ],
             [
              0.6666666666666666,
              "#ed7953"
             ],
             [
              0.7777777777777778,
              "#fb9f3a"
             ],
             [
              0.8888888888888888,
              "#fdca26"
             ],
             [
              1,
              "#f0f921"
             ]
            ],
            "type": "histogram2d"
           }
          ],
          "histogram2dcontour": [
           {
            "colorbar": {
             "outlinewidth": 0,
             "ticks": ""
            },
            "colorscale": [
             [
              0,
              "#0d0887"
             ],
             [
              0.1111111111111111,
              "#46039f"
             ],
             [
              0.2222222222222222,
              "#7201a8"
             ],
             [
              0.3333333333333333,
              "#9c179e"
             ],
             [
              0.4444444444444444,
              "#bd3786"
             ],
             [
              0.5555555555555556,
              "#d8576b"
             ],
             [
              0.6666666666666666,
              "#ed7953"
             ],
             [
              0.7777777777777778,
              "#fb9f3a"
             ],
             [
              0.8888888888888888,
              "#fdca26"
             ],
             [
              1,
              "#f0f921"
             ]
            ],
            "type": "histogram2dcontour"
           }
          ],
          "mesh3d": [
           {
            "colorbar": {
             "outlinewidth": 0,
             "ticks": ""
            },
            "type": "mesh3d"
           }
          ],
          "parcoords": [
           {
            "line": {
             "colorbar": {
              "outlinewidth": 0,
              "ticks": ""
             }
            },
            "type": "parcoords"
           }
          ],
          "pie": [
           {
            "automargin": true,
            "type": "pie"
           }
          ],
          "scatter": [
           {
            "fillpattern": {
             "fillmode": "overlay",
             "size": 10,
             "solidity": 0.2
            },
            "type": "scatter"
           }
          ],
          "scatter3d": [
           {
            "line": {
             "colorbar": {
              "outlinewidth": 0,
              "ticks": ""
             }
            },
            "marker": {
             "colorbar": {
              "outlinewidth": 0,
              "ticks": ""
             }
            },
            "type": "scatter3d"
           }
          ],
          "scattercarpet": [
           {
            "marker": {
             "colorbar": {
              "outlinewidth": 0,
              "ticks": ""
             }
            },
            "type": "scattercarpet"
           }
          ],
          "scattergeo": [
           {
            "marker": {
             "colorbar": {
              "outlinewidth": 0,
              "ticks": ""
             }
            },
            "type": "scattergeo"
           }
          ],
          "scattergl": [
           {
            "marker": {
             "colorbar": {
              "outlinewidth": 0,
              "ticks": ""
             }
            },
            "type": "scattergl"
           }
          ],
          "scattermapbox": [
           {
            "marker": {
             "colorbar": {
              "outlinewidth": 0,
              "ticks": ""
             }
            },
            "type": "scattermapbox"
           }
          ],
          "scatterpolar": [
           {
            "marker": {
             "colorbar": {
              "outlinewidth": 0,
              "ticks": ""
             }
            },
            "type": "scatterpolar"
           }
          ],
          "scatterpolargl": [
           {
            "marker": {
             "colorbar": {
              "outlinewidth": 0,
              "ticks": ""
             }
            },
            "type": "scatterpolargl"
           }
          ],
          "scatterternary": [
           {
            "marker": {
             "colorbar": {
              "outlinewidth": 0,
              "ticks": ""
             }
            },
            "type": "scatterternary"
           }
          ],
          "surface": [
           {
            "colorbar": {
             "outlinewidth": 0,
             "ticks": ""
            },
            "colorscale": [
             [
              0,
              "#0d0887"
             ],
             [
              0.1111111111111111,
              "#46039f"
             ],
             [
              0.2222222222222222,
              "#7201a8"
             ],
             [
              0.3333333333333333,
              "#9c179e"
             ],
             [
              0.4444444444444444,
              "#bd3786"
             ],
             [
              0.5555555555555556,
              "#d8576b"
             ],
             [
              0.6666666666666666,
              "#ed7953"
             ],
             [
              0.7777777777777778,
              "#fb9f3a"
             ],
             [
              0.8888888888888888,
              "#fdca26"
             ],
             [
              1,
              "#f0f921"
             ]
            ],
            "type": "surface"
           }
          ],
          "table": [
           {
            "cells": {
             "fill": {
              "color": "#EBF0F8"
             },
             "line": {
              "color": "white"
             }
            },
            "header": {
             "fill": {
              "color": "#C8D4E3"
             },
             "line": {
              "color": "white"
             }
            },
            "type": "table"
           }
          ]
         },
         "layout": {
          "annotationdefaults": {
           "arrowcolor": "#2a3f5f",
           "arrowhead": 0,
           "arrowwidth": 1
          },
          "autotypenumbers": "strict",
          "coloraxis": {
           "colorbar": {
            "outlinewidth": 0,
            "ticks": ""
           }
          },
          "colorscale": {
           "diverging": [
            [
             0,
             "#8e0152"
            ],
            [
             0.1,
             "#c51b7d"
            ],
            [
             0.2,
             "#de77ae"
            ],
            [
             0.3,
             "#f1b6da"
            ],
            [
             0.4,
             "#fde0ef"
            ],
            [
             0.5,
             "#f7f7f7"
            ],
            [
             0.6,
             "#e6f5d0"
            ],
            [
             0.7,
             "#b8e186"
            ],
            [
             0.8,
             "#7fbc41"
            ],
            [
             0.9,
             "#4d9221"
            ],
            [
             1,
             "#276419"
            ]
           ],
           "sequential": [
            [
             0,
             "#0d0887"
            ],
            [
             0.1111111111111111,
             "#46039f"
            ],
            [
             0.2222222222222222,
             "#7201a8"
            ],
            [
             0.3333333333333333,
             "#9c179e"
            ],
            [
             0.4444444444444444,
             "#bd3786"
            ],
            [
             0.5555555555555556,
             "#d8576b"
            ],
            [
             0.6666666666666666,
             "#ed7953"
            ],
            [
             0.7777777777777778,
             "#fb9f3a"
            ],
            [
             0.8888888888888888,
             "#fdca26"
            ],
            [
             1,
             "#f0f921"
            ]
           ],
           "sequentialminus": [
            [
             0,
             "#0d0887"
            ],
            [
             0.1111111111111111,
             "#46039f"
            ],
            [
             0.2222222222222222,
             "#7201a8"
            ],
            [
             0.3333333333333333,
             "#9c179e"
            ],
            [
             0.4444444444444444,
             "#bd3786"
            ],
            [
             0.5555555555555556,
             "#d8576b"
            ],
            [
             0.6666666666666666,
             "#ed7953"
            ],
            [
             0.7777777777777778,
             "#fb9f3a"
            ],
            [
             0.8888888888888888,
             "#fdca26"
            ],
            [
             1,
             "#f0f921"
            ]
           ]
          },
          "colorway": [
           "#636efa",
           "#EF553B",
           "#00cc96",
           "#ab63fa",
           "#FFA15A",
           "#19d3f3",
           "#FF6692",
           "#B6E880",
           "#FF97FF",
           "#FECB52"
          ],
          "font": {
           "color": "#2a3f5f"
          },
          "geo": {
           "bgcolor": "white",
           "lakecolor": "white",
           "landcolor": "#E5ECF6",
           "showlakes": true,
           "showland": true,
           "subunitcolor": "white"
          },
          "hoverlabel": {
           "align": "left"
          },
          "hovermode": "closest",
          "mapbox": {
           "style": "light"
          },
          "paper_bgcolor": "white",
          "plot_bgcolor": "#E5ECF6",
          "polar": {
           "angularaxis": {
            "gridcolor": "white",
            "linecolor": "white",
            "ticks": ""
           },
           "bgcolor": "#E5ECF6",
           "radialaxis": {
            "gridcolor": "white",
            "linecolor": "white",
            "ticks": ""
           }
          },
          "scene": {
           "xaxis": {
            "backgroundcolor": "#E5ECF6",
            "gridcolor": "white",
            "gridwidth": 2,
            "linecolor": "white",
            "showbackground": true,
            "ticks": "",
            "zerolinecolor": "white"
           },
           "yaxis": {
            "backgroundcolor": "#E5ECF6",
            "gridcolor": "white",
            "gridwidth": 2,
            "linecolor": "white",
            "showbackground": true,
            "ticks": "",
            "zerolinecolor": "white"
           },
           "zaxis": {
            "backgroundcolor": "#E5ECF6",
            "gridcolor": "white",
            "gridwidth": 2,
            "linecolor": "white",
            "showbackground": true,
            "ticks": "",
            "zerolinecolor": "white"
           }
          },
          "shapedefaults": {
           "line": {
            "color": "#2a3f5f"
           }
          },
          "ternary": {
           "aaxis": {
            "gridcolor": "white",
            "linecolor": "white",
            "ticks": ""
           },
           "baxis": {
            "gridcolor": "white",
            "linecolor": "white",
            "ticks": ""
           },
           "bgcolor": "#E5ECF6",
           "caxis": {
            "gridcolor": "white",
            "linecolor": "white",
            "ticks": ""
           }
          },
          "title": {
           "x": 0.05
          },
          "xaxis": {
           "automargin": true,
           "gridcolor": "white",
           "linecolor": "white",
           "ticks": "",
           "title": {
            "standoff": 15
           },
           "zerolinecolor": "white",
           "zerolinewidth": 2
          },
          "yaxis": {
           "automargin": true,
           "gridcolor": "white",
           "linecolor": "white",
           "ticks": "",
           "title": {
            "standoff": 15
           },
           "zerolinecolor": "white",
           "zerolinewidth": 2
          }
         }
        },
        "title": {
         "text": "Total Energy Consumption vs. Flexible Consumption During Peak Hours"
        },
        "xaxis": {
         "tickangle": -45,
         "title": {
          "text": "House ID"
         }
        },
        "yaxis": {
         "range": [
          0,
          15000
         ],
         "tickformat": ",.0f",
         "title": {
          "text": "Energy Consumption (Kwh)"
         }
        }
       }
      }
     },
     "metadata": {},
     "output_type": "display_data"
    }
   ],
   "source": [
    "import pandas as pd\n",
    "import plotly.graph_objects as go\n",
    "\n",
    "# Load the Excel file for total energy consumption\n",
    "excel_file_5 = pd.ExcelFile(r'D:\\Grenoble_university\\6_month_internship\\working space\\data\\combined_1_year_data_with_flexibility.xlsx')\n",
    "\n",
    "# Define the range of sheet numbers for total energy consumption\n",
    "start_sheet_number = 2000900\n",
    "end_sheet_number = 2000997\n",
    "\n",
    "# Initialize total consumption dictionary\n",
    "total_consumption = {}\n",
    "\n",
    "# Define houses to be excluded\n",
    "excluded_houses = {'2000902', '2000920', '2000919', '2000924'}\n",
    "\n",
    "# Iterate through the sheet numbers for total energy consumption\n",
    "for sheet_number in range(start_sheet_number, end_sheet_number + 1):\n",
    "    sheet_name = str(sheet_number)\n",
    "    if sheet_name in excel_file_5.sheet_names and sheet_name not in excluded_houses:\n",
    "        # Read the sheet into a DataFrame\n",
    "        df = excel_file_5.parse(sheet_name)\n",
    "        \n",
    "        # Check if 'Site consumption ()' is in the columns of the DataFrame\n",
    "        if 'Site consumption ()' in df.columns:\n",
    "            # Convert 'Site consumption ()' column to numeric (ignore errors)\n",
    "            df['Site consumption ()'] = pd.to_numeric(df['Site consumption ()'], errors='coerce')\n",
    "            # Calculate the sum for 'Site consumption ()' column\n",
    "            sum_for_site_consumption = df['Site consumption ()'].sum()\n",
    "            total_consumption[sheet_name] = sum_for_site_consumption\n",
    "        else:\n",
    "            # Sum up all numeric columns\n",
    "            sum_for_devices = df.iloc[1:].drop(columns=['Weekday', 'date']).sum().sum()\n",
    "            total_consumption[sheet_name] = sum_for_devices\n",
    "    else:\n",
    "        print(f\"Sheet {sheet_name} not found in the Excel file or excluded.\")\n",
    "\n",
    "# Convert total consumption dictionary to DataFrame\n",
    "total_consumption_df = pd.DataFrame.from_dict(total_consumption, orient='index', columns=['Total Consumption'])\n",
    "\n",
    "# Read the Excel file into a dictionary of DataFrames for energy flexibility during peak hours\n",
    "combined_data_dict_5 = pd.read_excel(r'D:\\Grenoble_university\\6_month_internship\\working space\\data\\combined_1_year_data_with_flexibility.xlsx', sheet_name=None)\n",
    "\n",
    "# Define the time range for calculation (8 am - 10 am and 6 pm - 10 pm)\n",
    "start_time_morning = pd.Timestamp('08:00:00').time()\n",
    "end_time_morning = pd.Timestamp('10:00:00').time()\n",
    "start_time_evening = pd.Timestamp('18:00:00').time()\n",
    "end_time_evening = pd.Timestamp('22:00:00').time()\n",
    "\n",
    "# Initialize lists to store total morning and evening flexible consumption\n",
    "total_flex_consumption = []\n",
    "\n",
    "# Iterate over each sheet and perform the filtering and calculation for energy flexibility during peak hours\n",
    "for sheet_name, df in combined_data_dict_5.items():\n",
    "    if sheet_name not in excluded_houses:\n",
    "        # Filter rows to include only flexible devices (second row)\n",
    "        flexibility_row = df.iloc[0] == 'flexible'\n",
    "        flexible_devices_df = df.loc[:, flexibility_row]\n",
    "\n",
    "        # Convert 'date' column to datetime format\n",
    "        df['date'] = pd.to_datetime(df['date'])\n",
    "\n",
    "        # Filter rows based on time range and calculate sum for morning and evening\n",
    "        morning_sum = flexible_devices_df[\n",
    "            (df['date'].dt.time >= start_time_morning) & \n",
    "            (df['date'].dt.time <= end_time_morning)\n",
    "        ].sum().sum()\n",
    "\n",
    "        evening_sum = flexible_devices_df[\n",
    "            (df['date'].dt.time >= start_time_evening) & \n",
    "            (df['date'].dt.time <= end_time_evening)\n",
    "        ].sum().sum()\n",
    "\n",
    "        # Append total morning and evening sums to list\n",
    "        total_flex_consumption.append(morning_sum + evening_sum)\n",
    "    else:\n",
    "        print(f\"Sheet {sheet_name} excluded.\")\n",
    "\n",
    "# Create a DataFrame to store the flexible consumption data\n",
    "flex_consumption_df = pd.DataFrame({\n",
    "    'House ID': [k for k in combined_data_dict_5.keys() if k not in excluded_houses],\n",
    "    'Total Flexible Consumption': total_flex_consumption\n",
    "})\n",
    "\n",
    "# Merge the total consumption and flexible consumption DataFrames\n",
    "merged_df = total_consumption_df.merge(flex_consumption_df, left_index=True, right_on='House ID')\n",
    "\n",
    "# Define flexibility thresholds\n",
    "high_threshold = merged_df['Total Flexible Consumption'].quantile(0.66)\n",
    "low_threshold = merged_df['Total Flexible Consumption'].quantile(0.33)\n",
    "\n",
    "# Categorize flexibility potential\n",
    "def categorize_flexibility(value):\n",
    "    if value >= high_threshold:\n",
    "        return 'High'\n",
    "    elif value >= low_threshold:\n",
    "        return 'Average'\n",
    "    else:\n",
    "        return 'Low'\n",
    "\n",
    "merged_df['Flexibility Category'] = merged_df['Total Flexible Consumption'].apply(categorize_flexibility)\n",
    "\n",
    "# Define colors based on flexibility categories\n",
    "color_map = {\n",
    "    'High': 'green',\n",
    "    'Average': 'yellow',\n",
    "    'Low': 'red'\n",
    "}\n",
    "\n",
    "merged_df['Color'] = merged_df['Flexibility Category'].map(color_map)\n",
    "\n",
    "# Sort DataFrame by Total Flexible Consumption\n",
    "merged_df = merged_df.sort_values(by='Total Flexible Consumption')\n",
    "\n",
    "# Create a figure\n",
    "fig = go.Figure()\n",
    "\n",
    "# Add bars for total consumption\n",
    "fig.add_trace(go.Bar(\n",
    "    x=merged_df['House ID'],\n",
    "    y=merged_df['Total Consumption'],\n",
    "    name='Total Consumption',\n",
    "    marker_color='blue'\n",
    "))\n",
    "\n",
    "# Add bars for flexible consumption with colors based on flexibility category\n",
    "fig.add_trace(go.Bar(\n",
    "    x=merged_df['House ID'],\n",
    "    y=merged_df['Total Flexible Consumption'],\n",
    "    name='Flexible Consumption',\n",
    "    marker=dict(color=merged_df['Color']),\n",
    "    opacity=0.5\n",
    "))\n",
    "\n",
    "# Update layout with appropriate y-axis range and formatting\n",
    "fig.update_layout(\n",
    "    title='Total Energy Consumption vs. Flexible Consumption During Peak Hours',\n",
    "    xaxis_title='House ID',\n",
    "    yaxis_title='Energy Consumption (Kwh)',\n",
    "    yaxis=dict(\n",
    "        tickformat=',.0f',  # Use comma as a thousand separator\n",
    "        range=[0, 15000]   # Set y-axis range to a maximum of 15,000\n",
    "    ),\n",
    "    barmode='overlay',\n",
    "    xaxis_tickangle=-45\n",
    ")\n",
    "\n",
    "# Show the figure\n",
    "fig.show()\n"
   ]
  },
  {
   "cell_type": "markdown",
   "metadata": {},
   "source": [
    "# Simple Flexibility Indicators"
   ]
  },
  {
   "cell_type": "markdown",
   "metadata": {},
   "source": [
    "I need to build simple indicator which will depend only on the type of energy appliance \n",
    "\n",
    "so I can call my file where I have all apliances with power and energy and plot them during one year energy and potential flexibility. "
   ]
  },
  {
   "cell_type": "code",
   "execution_count": 2,
   "metadata": {},
   "outputs": [
    {
     "data": {
      "application/vnd.plotly.v1+json": {
       "config": {
        "plotlyServerURL": "https://plot.ly"
       },
       "data": [
        {
         "hoverinfo": "text",
         "marker": {
          "color": "blue"
         },
         "mode": "markers",
         "name": "Dish washer ",
         "text": "Appliance: Dish washer <br>Power: 3000 W<br>Energy: 154 kWh/year",
         "type": "scatter",
         "x": [
          154
         ],
         "y": [
          3000
         ]
        },
        {
         "hoverinfo": "text",
         "marker": {
          "color": "blue"
         },
         "mode": "markers",
         "name": "Chest freezer ",
         "text": "Appliance: Chest freezer <br>Power: 200 W<br>Energy: 296 kWh/year",
         "type": "scatter",
         "x": [
          296
         ],
         "y": [
          200
         ]
        },
        {
         "hoverinfo": "text",
         "marker": {
          "color": "blue"
         },
         "mode": "markers",
         "name": "Fridge freezer ",
         "text": "Appliance: Fridge freezer <br>Power: 200 W<br>Energy: 296 kWh/year",
         "type": "scatter",
         "x": [
          296
         ],
         "y": [
          200
         ]
        },
        {
         "hoverinfo": "text",
         "marker": {
          "color": "blue"
         },
         "mode": "markers",
         "name": "Vertical freezer ",
         "text": "Appliance: Vertical freezer <br>Power: 200 W<br>Energy: 296 kWh/year",
         "type": "scatter",
         "x": [
          296
         ],
         "y": [
          200
         ]
        },
        {
         "hoverinfo": "text",
         "marker": {
          "color": "blue"
         },
         "mode": "markers",
         "name": "Electric oven ",
         "text": "Appliance: Electric oven <br>Power: 2500 W<br>Energy: 146 kWh/year",
         "type": "scatter",
         "x": [
          146
         ],
         "y": [
          2500
         ]
        },
        {
         "hoverinfo": "text",
         "marker": {
          "color": "blue"
         },
         "mode": "markers",
         "name": "Electric Cooker ",
         "text": "Appliance: Electric Cooker <br>Power: 3000 W<br>Energy: 159 kWh/year",
         "type": "scatter",
         "x": [
          159
         ],
         "y": [
          3000
         ]
        },
        {
         "hoverinfo": "text",
         "marker": {
          "color": "blue"
         },
         "mode": "markers",
         "name": "Microwave oven ",
         "text": "Appliance: Microwave oven <br>Power: 1500 W<br>Energy: 39 kWh/year",
         "type": "scatter",
         "x": [
          39
         ],
         "y": [
          1500
         ]
        },
        {
         "hoverinfo": "text",
         "marker": {
          "color": "blue"
         },
         "mode": "markers",
         "name": "TV ",
         "text": "Appliance: TV <br>Power: 77 W<br>Energy: 163 kWh/year",
         "type": "scatter",
         "x": [
          163
         ],
         "y": [
          77
         ]
        },
        {
         "hoverinfo": "text",
         "marker": {
          "color": "blue"
         },
         "mode": "markers",
         "name": "Hot plate ",
         "text": "Appliance: Hot plate <br>Power: 2000 W<br>Energy: 159 kWh/year",
         "type": "scatter",
         "x": [
          159
         ],
         "y": [
          2000
         ]
        },
        {
         "hoverinfo": "text",
         "marker": {
          "color": "blue"
         },
         "mode": "markers",
         "name": "Fridge ",
         "text": "Appliance: Fridge <br>Power: 300 W<br>Energy: 346 kWh/year",
         "type": "scatter",
         "x": [
          346
         ],
         "y": [
          300
         ]
        },
        {
         "hoverinfo": "text",
         "marker": {
          "color": "blue"
         },
         "mode": "markers",
         "name": "Halogen lamp ",
         "text": "Appliance: Halogen lamp <br>Power: 500 W<br>Energy: 134 kWh/year",
         "type": "scatter",
         "x": [
          134
         ],
         "y": [
          500
         ]
        },
        {
         "hoverinfo": "text",
         "marker": {
          "color": "blue"
         },
         "mode": "markers",
         "name": "Washing machine ",
         "text": "Appliance: Washing machine <br>Power: 2000 W<br>Energy: 100 kWh/year",
         "type": "scatter",
         "x": [
          100
         ],
         "y": [
          2000
         ]
        },
        {
         "hoverinfo": "text",
         "marker": {
          "color": "blue"
         },
         "mode": "markers",
         "name": "Clothes drier ",
         "text": "Appliance: Clothes drier <br>Power: 2200 W<br>Energy: 280 kWh/year",
         "type": "scatter",
         "x": [
          280
         ],
         "y": [
          2200
         ]
        },
        {
         "hoverinfo": "text",
         "marker": {
          "color": "blue"
         },
         "mode": "markers",
         "name": "Electric heating ",
         "text": "Appliance: Electric heating <br>Power: 1500 W<br>Energy: 1720 kWh/year",
         "type": "scatter",
         "x": [
          1720
         ],
         "y": [
          1500
         ]
        },
        {
         "hoverinfo": "text",
         "marker": {
          "color": "blue"
         },
         "mode": "markers",
         "name": "Water heater ",
         "text": "Appliance: Water heater <br>Power: 3500 W<br>Energy: 1676 kWh/year",
         "type": "scatter",
         "x": [
          1676
         ],
         "y": [
          3500
         ]
        },
        {
         "hoverinfo": "text",
         "marker": {
          "color": "blue"
         },
         "mode": "markers",
         "name": "Non halogen lamp ",
         "text": "Appliance: Non halogen lamp <br>Power: 500 W<br>Energy: 134 kWh/year",
         "type": "scatter",
         "x": [
          134
         ],
         "y": [
          500
         ]
        },
        {
         "hoverinfo": "text",
         "marker": {
          "color": "blue"
         },
         "mode": "markers",
         "name": "Aquarium ",
         "text": "Appliance: Aquarium <br>Power: 300 W<br>Energy: 200 kWh/year",
         "type": "scatter",
         "x": [
          200
         ],
         "y": [
          300
         ]
        },
        {
         "hoverinfo": "text",
         "marker": {
          "color": "blue"
         },
         "mode": "markers",
         "name": "Power supply for fuel boiler",
         "text": "Appliance: Power supply for fuel boiler<br>Power: 200 W<br>Energy: 363 kWh/year",
         "type": "scatter",
         "x": [
          363
         ],
         "y": [
          200
         ]
        },
        {
         "hoverinfo": "text",
         "marker": {
          "color": "blue"
         },
         "mode": "markers",
         "name": "Computer site ",
         "text": "Appliance: Computer site <br>Power: 70 W<br>Energy: 124 kWh/year",
         "type": "scatter",
         "x": [
          124
         ],
         "y": [
          70
         ]
        },
        {
         "hoverinfo": "text",
         "marker": {
          "color": "blue"
         },
         "mode": "markers",
         "name": "Power supply for wood boiler",
         "text": "Appliance: Power supply for wood boiler<br>Power: 300 W<br>Energy: 120 kWh/year",
         "type": "scatter",
         "x": [
          120
         ],
         "y": [
          300
         ]
        },
        {
         "hoverinfo": "text",
         "marker": {
          "color": "blue"
         },
         "mode": "markers",
         "name": "Heat pump ",
         "text": "Appliance: Heat pump <br>Power: 830 W<br>Energy: 4500 kWh/year",
         "type": "scatter",
         "x": [
          4500
         ],
         "y": [
          830
         ]
        },
        {
         "hoverinfo": "text",
         "marker": {
          "color": "blue"
         },
         "mode": "markers",
         "name": "Water pump ",
         "text": "Appliance: Water pump <br>Power: 400 W<br>Energy: 150 kWh/year",
         "type": "scatter",
         "x": [
          150
         ],
         "y": [
          400
         ]
        },
        {
         "hoverinfo": "text",
         "marker": {
          "color": "blue"
         },
         "mode": "markers",
         "name": "Washing machine+clothes drier ",
         "text": "Appliance: Washing machine+clothes drier <br>Power: 2500 W<br>Energy: 385 kWh/year",
         "type": "scatter",
         "x": [
          385
         ],
         "y": [
          2500
         ]
        },
        {
         "hoverinfo": "text",
         "marker": {
          "color": "blue"
         },
         "mode": "markers",
         "name": "Power supply for gas boiler",
         "text": "Appliance: Power supply for gas boiler<br>Power: 200 W<br>Energy: 375 kWh/year",
         "type": "scatter",
         "x": [
          375
         ],
         "y": [
          200
         ]
        },
        {
         "hoverinfo": "text",
         "marker": {
          "color": "blue"
         },
         "mode": "markers",
         "name": "Electric deep frier ",
         "text": "Appliance: Electric deep frier <br>Power: 1200 W<br>Energy: 159 kWh/year",
         "type": "scatter",
         "x": [
          159
         ],
         "y": [
          1200
         ]
        },
        {
         "hoverinfo": "text",
         "marker": {
          "color": "blue"
         },
         "mode": "markers",
         "name": "Heat pump water heater ",
         "text": "Appliance: Heat pump water heater <br>Power: 1000 W<br>Energy: 2300 kWh/year",
         "type": "scatter",
         "x": [
          2300
         ],
         "y": [
          1000
         ]
        },
        {
         "hoverinfo": "text",
         "marker": {
          "color": "blue"
         },
         "mode": "markers",
         "name": "Power supply for wall boiler",
         "text": "Appliance: Power supply for wall boiler<br>Power: 300 W<br>Energy: 120 kWh/year",
         "type": "scatter",
         "x": [
          120
         ],
         "y": [
          300
         ]
        },
        {
         "hoverinfo": "text",
         "marker": {
          "color": "blue"
         },
         "mode": "markers",
         "name": "No-frost fridge ",
         "text": "Appliance: No-frost fridge <br>Power: 200 W<br>Energy: 186 kWh/year",
         "type": "scatter",
         "x": [
          186
         ],
         "y": [
          200
         ]
        },
        {
         "line": {
          "color": "black"
         },
         "mode": "lines",
         "name": "Line_0_v",
         "showlegend": false,
         "type": "scatter",
         "x": [
          154,
          154
         ],
         "y": [
          0,
          3000
         ]
        },
        {
         "line": {
          "color": "black"
         },
         "mode": "lines",
         "name": "Line_0_h",
         "showlegend": false,
         "type": "scatter",
         "x": [
          0,
          154
         ],
         "y": [
          3000,
          3000
         ]
        },
        {
         "line": {
          "color": "black"
         },
         "mode": "lines",
         "name": "Line_1_v",
         "showlegend": false,
         "type": "scatter",
         "x": [
          296,
          296
         ],
         "y": [
          0,
          200
         ]
        },
        {
         "line": {
          "color": "black"
         },
         "mode": "lines",
         "name": "Line_1_h",
         "showlegend": false,
         "type": "scatter",
         "x": [
          0,
          296
         ],
         "y": [
          200,
          200
         ]
        },
        {
         "line": {
          "color": "black"
         },
         "mode": "lines",
         "name": "Line_2_v",
         "showlegend": false,
         "type": "scatter",
         "x": [
          296,
          296
         ],
         "y": [
          0,
          200
         ]
        },
        {
         "line": {
          "color": "black"
         },
         "mode": "lines",
         "name": "Line_2_h",
         "showlegend": false,
         "type": "scatter",
         "x": [
          0,
          296
         ],
         "y": [
          200,
          200
         ]
        },
        {
         "line": {
          "color": "black"
         },
         "mode": "lines",
         "name": "Line_3_v",
         "showlegend": false,
         "type": "scatter",
         "x": [
          296,
          296
         ],
         "y": [
          0,
          200
         ]
        },
        {
         "line": {
          "color": "black"
         },
         "mode": "lines",
         "name": "Line_3_h",
         "showlegend": false,
         "type": "scatter",
         "x": [
          0,
          296
         ],
         "y": [
          200,
          200
         ]
        },
        {
         "line": {
          "color": "black"
         },
         "mode": "lines",
         "name": "Line_4_v",
         "showlegend": false,
         "type": "scatter",
         "x": [
          146,
          146
         ],
         "y": [
          0,
          2500
         ]
        },
        {
         "line": {
          "color": "black"
         },
         "mode": "lines",
         "name": "Line_4_h",
         "showlegend": false,
         "type": "scatter",
         "x": [
          0,
          146
         ],
         "y": [
          2500,
          2500
         ]
        },
        {
         "line": {
          "color": "black"
         },
         "mode": "lines",
         "name": "Line_5_v",
         "showlegend": false,
         "type": "scatter",
         "x": [
          159,
          159
         ],
         "y": [
          0,
          3000
         ]
        },
        {
         "line": {
          "color": "black"
         },
         "mode": "lines",
         "name": "Line_5_h",
         "showlegend": false,
         "type": "scatter",
         "x": [
          0,
          159
         ],
         "y": [
          3000,
          3000
         ]
        },
        {
         "line": {
          "color": "black"
         },
         "mode": "lines",
         "name": "Line_6_v",
         "showlegend": false,
         "type": "scatter",
         "x": [
          39,
          39
         ],
         "y": [
          0,
          1500
         ]
        },
        {
         "line": {
          "color": "black"
         },
         "mode": "lines",
         "name": "Line_6_h",
         "showlegend": false,
         "type": "scatter",
         "x": [
          0,
          39
         ],
         "y": [
          1500,
          1500
         ]
        },
        {
         "line": {
          "color": "black"
         },
         "mode": "lines",
         "name": "Line_7_v",
         "showlegend": false,
         "type": "scatter",
         "x": [
          163,
          163
         ],
         "y": [
          0,
          77
         ]
        },
        {
         "line": {
          "color": "black"
         },
         "mode": "lines",
         "name": "Line_7_h",
         "showlegend": false,
         "type": "scatter",
         "x": [
          0,
          163
         ],
         "y": [
          77,
          77
         ]
        },
        {
         "line": {
          "color": "black"
         },
         "mode": "lines",
         "name": "Line_8_v",
         "showlegend": false,
         "type": "scatter",
         "x": [
          159,
          159
         ],
         "y": [
          0,
          2000
         ]
        },
        {
         "line": {
          "color": "black"
         },
         "mode": "lines",
         "name": "Line_8_h",
         "showlegend": false,
         "type": "scatter",
         "x": [
          0,
          159
         ],
         "y": [
          2000,
          2000
         ]
        },
        {
         "line": {
          "color": "black"
         },
         "mode": "lines",
         "name": "Line_9_v",
         "showlegend": false,
         "type": "scatter",
         "x": [
          346,
          346
         ],
         "y": [
          0,
          300
         ]
        },
        {
         "line": {
          "color": "black"
         },
         "mode": "lines",
         "name": "Line_9_h",
         "showlegend": false,
         "type": "scatter",
         "x": [
          0,
          346
         ],
         "y": [
          300,
          300
         ]
        },
        {
         "line": {
          "color": "black"
         },
         "mode": "lines",
         "name": "Line_10_v",
         "showlegend": false,
         "type": "scatter",
         "x": [
          134,
          134
         ],
         "y": [
          0,
          500
         ]
        },
        {
         "line": {
          "color": "black"
         },
         "mode": "lines",
         "name": "Line_10_h",
         "showlegend": false,
         "type": "scatter",
         "x": [
          0,
          134
         ],
         "y": [
          500,
          500
         ]
        },
        {
         "line": {
          "color": "black"
         },
         "mode": "lines",
         "name": "Line_11_v",
         "showlegend": false,
         "type": "scatter",
         "x": [
          100,
          100
         ],
         "y": [
          0,
          2000
         ]
        },
        {
         "line": {
          "color": "black"
         },
         "mode": "lines",
         "name": "Line_11_h",
         "showlegend": false,
         "type": "scatter",
         "x": [
          0,
          100
         ],
         "y": [
          2000,
          2000
         ]
        },
        {
         "line": {
          "color": "black"
         },
         "mode": "lines",
         "name": "Line_12_v",
         "showlegend": false,
         "type": "scatter",
         "x": [
          280,
          280
         ],
         "y": [
          0,
          2200
         ]
        },
        {
         "line": {
          "color": "black"
         },
         "mode": "lines",
         "name": "Line_12_h",
         "showlegend": false,
         "type": "scatter",
         "x": [
          0,
          280
         ],
         "y": [
          2200,
          2200
         ]
        },
        {
         "line": {
          "color": "black"
         },
         "mode": "lines",
         "name": "Line_13_v",
         "showlegend": false,
         "type": "scatter",
         "x": [
          1720,
          1720
         ],
         "y": [
          0,
          1500
         ]
        },
        {
         "line": {
          "color": "black"
         },
         "mode": "lines",
         "name": "Line_13_h",
         "showlegend": false,
         "type": "scatter",
         "x": [
          0,
          1720
         ],
         "y": [
          1500,
          1500
         ]
        },
        {
         "line": {
          "color": "black"
         },
         "mode": "lines",
         "name": "Line_14_v",
         "showlegend": false,
         "type": "scatter",
         "x": [
          1676,
          1676
         ],
         "y": [
          0,
          3500
         ]
        },
        {
         "line": {
          "color": "black"
         },
         "mode": "lines",
         "name": "Line_14_h",
         "showlegend": false,
         "type": "scatter",
         "x": [
          0,
          1676
         ],
         "y": [
          3500,
          3500
         ]
        },
        {
         "line": {
          "color": "black"
         },
         "mode": "lines",
         "name": "Line_15_v",
         "showlegend": false,
         "type": "scatter",
         "x": [
          134,
          134
         ],
         "y": [
          0,
          500
         ]
        },
        {
         "line": {
          "color": "black"
         },
         "mode": "lines",
         "name": "Line_15_h",
         "showlegend": false,
         "type": "scatter",
         "x": [
          0,
          134
         ],
         "y": [
          500,
          500
         ]
        },
        {
         "line": {
          "color": "black"
         },
         "mode": "lines",
         "name": "Line_16_v",
         "showlegend": false,
         "type": "scatter",
         "x": [
          200,
          200
         ],
         "y": [
          0,
          300
         ]
        },
        {
         "line": {
          "color": "black"
         },
         "mode": "lines",
         "name": "Line_16_h",
         "showlegend": false,
         "type": "scatter",
         "x": [
          0,
          200
         ],
         "y": [
          300,
          300
         ]
        },
        {
         "line": {
          "color": "black"
         },
         "mode": "lines",
         "name": "Line_17_v",
         "showlegend": false,
         "type": "scatter",
         "x": [
          363,
          363
         ],
         "y": [
          0,
          200
         ]
        },
        {
         "line": {
          "color": "black"
         },
         "mode": "lines",
         "name": "Line_17_h",
         "showlegend": false,
         "type": "scatter",
         "x": [
          0,
          363
         ],
         "y": [
          200,
          200
         ]
        },
        {
         "line": {
          "color": "black"
         },
         "mode": "lines",
         "name": "Line_18_v",
         "showlegend": false,
         "type": "scatter",
         "x": [
          124,
          124
         ],
         "y": [
          0,
          70
         ]
        },
        {
         "line": {
          "color": "black"
         },
         "mode": "lines",
         "name": "Line_18_h",
         "showlegend": false,
         "type": "scatter",
         "x": [
          0,
          124
         ],
         "y": [
          70,
          70
         ]
        },
        {
         "line": {
          "color": "black"
         },
         "mode": "lines",
         "name": "Line_19_v",
         "showlegend": false,
         "type": "scatter",
         "x": [
          120,
          120
         ],
         "y": [
          0,
          300
         ]
        },
        {
         "line": {
          "color": "black"
         },
         "mode": "lines",
         "name": "Line_19_h",
         "showlegend": false,
         "type": "scatter",
         "x": [
          0,
          120
         ],
         "y": [
          300,
          300
         ]
        },
        {
         "line": {
          "color": "black"
         },
         "mode": "lines",
         "name": "Line_20_v",
         "showlegend": false,
         "type": "scatter",
         "x": [
          4500,
          4500
         ],
         "y": [
          0,
          830
         ]
        },
        {
         "line": {
          "color": "black"
         },
         "mode": "lines",
         "name": "Line_20_h",
         "showlegend": false,
         "type": "scatter",
         "x": [
          0,
          4500
         ],
         "y": [
          830,
          830
         ]
        },
        {
         "line": {
          "color": "black"
         },
         "mode": "lines",
         "name": "Line_21_v",
         "showlegend": false,
         "type": "scatter",
         "x": [
          150,
          150
         ],
         "y": [
          0,
          400
         ]
        },
        {
         "line": {
          "color": "black"
         },
         "mode": "lines",
         "name": "Line_21_h",
         "showlegend": false,
         "type": "scatter",
         "x": [
          0,
          150
         ],
         "y": [
          400,
          400
         ]
        },
        {
         "line": {
          "color": "black"
         },
         "mode": "lines",
         "name": "Line_22_v",
         "showlegend": false,
         "type": "scatter",
         "x": [
          385,
          385
         ],
         "y": [
          0,
          2500
         ]
        },
        {
         "line": {
          "color": "black"
         },
         "mode": "lines",
         "name": "Line_22_h",
         "showlegend": false,
         "type": "scatter",
         "x": [
          0,
          385
         ],
         "y": [
          2500,
          2500
         ]
        },
        {
         "line": {
          "color": "black"
         },
         "mode": "lines",
         "name": "Line_23_v",
         "showlegend": false,
         "type": "scatter",
         "x": [
          375,
          375
         ],
         "y": [
          0,
          200
         ]
        },
        {
         "line": {
          "color": "black"
         },
         "mode": "lines",
         "name": "Line_23_h",
         "showlegend": false,
         "type": "scatter",
         "x": [
          0,
          375
         ],
         "y": [
          200,
          200
         ]
        },
        {
         "line": {
          "color": "black"
         },
         "mode": "lines",
         "name": "Line_24_v",
         "showlegend": false,
         "type": "scatter",
         "x": [
          159,
          159
         ],
         "y": [
          0,
          1200
         ]
        },
        {
         "line": {
          "color": "black"
         },
         "mode": "lines",
         "name": "Line_24_h",
         "showlegend": false,
         "type": "scatter",
         "x": [
          0,
          159
         ],
         "y": [
          1200,
          1200
         ]
        },
        {
         "line": {
          "color": "black"
         },
         "mode": "lines",
         "name": "Line_25_v",
         "showlegend": false,
         "type": "scatter",
         "x": [
          2300,
          2300
         ],
         "y": [
          0,
          1000
         ]
        },
        {
         "line": {
          "color": "black"
         },
         "mode": "lines",
         "name": "Line_25_h",
         "showlegend": false,
         "type": "scatter",
         "x": [
          0,
          2300
         ],
         "y": [
          1000,
          1000
         ]
        },
        {
         "line": {
          "color": "black"
         },
         "mode": "lines",
         "name": "Line_26_v",
         "showlegend": false,
         "type": "scatter",
         "x": [
          120,
          120
         ],
         "y": [
          0,
          300
         ]
        },
        {
         "line": {
          "color": "black"
         },
         "mode": "lines",
         "name": "Line_26_h",
         "showlegend": false,
         "type": "scatter",
         "x": [
          0,
          120
         ],
         "y": [
          300,
          300
         ]
        },
        {
         "line": {
          "color": "black"
         },
         "mode": "lines",
         "name": "Line_27_v",
         "showlegend": false,
         "type": "scatter",
         "x": [
          186,
          186
         ],
         "y": [
          0,
          200
         ]
        },
        {
         "line": {
          "color": "black"
         },
         "mode": "lines",
         "name": "Line_27_h",
         "showlegend": false,
         "type": "scatter",
         "x": [
          0,
          186
         ],
         "y": [
          200,
          200
         ]
        }
       ],
       "layout": {
        "height": 750,
        "hovermode": "closest",
        "margin": {
         "b": 50,
         "l": 50,
         "r": 50,
         "t": 50
        },
        "showlegend": true,
        "template": {
         "data": {
          "bar": [
           {
            "error_x": {
             "color": "#2a3f5f"
            },
            "error_y": {
             "color": "#2a3f5f"
            },
            "marker": {
             "line": {
              "color": "#E5ECF6",
              "width": 0.5
             },
             "pattern": {
              "fillmode": "overlay",
              "size": 10,
              "solidity": 0.2
             }
            },
            "type": "bar"
           }
          ],
          "barpolar": [
           {
            "marker": {
             "line": {
              "color": "#E5ECF6",
              "width": 0.5
             },
             "pattern": {
              "fillmode": "overlay",
              "size": 10,
              "solidity": 0.2
             }
            },
            "type": "barpolar"
           }
          ],
          "carpet": [
           {
            "aaxis": {
             "endlinecolor": "#2a3f5f",
             "gridcolor": "white",
             "linecolor": "white",
             "minorgridcolor": "white",
             "startlinecolor": "#2a3f5f"
            },
            "baxis": {
             "endlinecolor": "#2a3f5f",
             "gridcolor": "white",
             "linecolor": "white",
             "minorgridcolor": "white",
             "startlinecolor": "#2a3f5f"
            },
            "type": "carpet"
           }
          ],
          "choropleth": [
           {
            "colorbar": {
             "outlinewidth": 0,
             "ticks": ""
            },
            "type": "choropleth"
           }
          ],
          "contour": [
           {
            "colorbar": {
             "outlinewidth": 0,
             "ticks": ""
            },
            "colorscale": [
             [
              0,
              "#0d0887"
             ],
             [
              0.1111111111111111,
              "#46039f"
             ],
             [
              0.2222222222222222,
              "#7201a8"
             ],
             [
              0.3333333333333333,
              "#9c179e"
             ],
             [
              0.4444444444444444,
              "#bd3786"
             ],
             [
              0.5555555555555556,
              "#d8576b"
             ],
             [
              0.6666666666666666,
              "#ed7953"
             ],
             [
              0.7777777777777778,
              "#fb9f3a"
             ],
             [
              0.8888888888888888,
              "#fdca26"
             ],
             [
              1,
              "#f0f921"
             ]
            ],
            "type": "contour"
           }
          ],
          "contourcarpet": [
           {
            "colorbar": {
             "outlinewidth": 0,
             "ticks": ""
            },
            "type": "contourcarpet"
           }
          ],
          "heatmap": [
           {
            "colorbar": {
             "outlinewidth": 0,
             "ticks": ""
            },
            "colorscale": [
             [
              0,
              "#0d0887"
             ],
             [
              0.1111111111111111,
              "#46039f"
             ],
             [
              0.2222222222222222,
              "#7201a8"
             ],
             [
              0.3333333333333333,
              "#9c179e"
             ],
             [
              0.4444444444444444,
              "#bd3786"
             ],
             [
              0.5555555555555556,
              "#d8576b"
             ],
             [
              0.6666666666666666,
              "#ed7953"
             ],
             [
              0.7777777777777778,
              "#fb9f3a"
             ],
             [
              0.8888888888888888,
              "#fdca26"
             ],
             [
              1,
              "#f0f921"
             ]
            ],
            "type": "heatmap"
           }
          ],
          "heatmapgl": [
           {
            "colorbar": {
             "outlinewidth": 0,
             "ticks": ""
            },
            "colorscale": [
             [
              0,
              "#0d0887"
             ],
             [
              0.1111111111111111,
              "#46039f"
             ],
             [
              0.2222222222222222,
              "#7201a8"
             ],
             [
              0.3333333333333333,
              "#9c179e"
             ],
             [
              0.4444444444444444,
              "#bd3786"
             ],
             [
              0.5555555555555556,
              "#d8576b"
             ],
             [
              0.6666666666666666,
              "#ed7953"
             ],
             [
              0.7777777777777778,
              "#fb9f3a"
             ],
             [
              0.8888888888888888,
              "#fdca26"
             ],
             [
              1,
              "#f0f921"
             ]
            ],
            "type": "heatmapgl"
           }
          ],
          "histogram": [
           {
            "marker": {
             "pattern": {
              "fillmode": "overlay",
              "size": 10,
              "solidity": 0.2
             }
            },
            "type": "histogram"
           }
          ],
          "histogram2d": [
           {
            "colorbar": {
             "outlinewidth": 0,
             "ticks": ""
            },
            "colorscale": [
             [
              0,
              "#0d0887"
             ],
             [
              0.1111111111111111,
              "#46039f"
             ],
             [
              0.2222222222222222,
              "#7201a8"
             ],
             [
              0.3333333333333333,
              "#9c179e"
             ],
             [
              0.4444444444444444,
              "#bd3786"
             ],
             [
              0.5555555555555556,
              "#d8576b"
             ],
             [
              0.6666666666666666,
              "#ed7953"
             ],
             [
              0.7777777777777778,
              "#fb9f3a"
             ],
             [
              0.8888888888888888,
              "#fdca26"
             ],
             [
              1,
              "#f0f921"
             ]
            ],
            "type": "histogram2d"
           }
          ],
          "histogram2dcontour": [
           {
            "colorbar": {
             "outlinewidth": 0,
             "ticks": ""
            },
            "colorscale": [
             [
              0,
              "#0d0887"
             ],
             [
              0.1111111111111111,
              "#46039f"
             ],
             [
              0.2222222222222222,
              "#7201a8"
             ],
             [
              0.3333333333333333,
              "#9c179e"
             ],
             [
              0.4444444444444444,
              "#bd3786"
             ],
             [
              0.5555555555555556,
              "#d8576b"
             ],
             [
              0.6666666666666666,
              "#ed7953"
             ],
             [
              0.7777777777777778,
              "#fb9f3a"
             ],
             [
              0.8888888888888888,
              "#fdca26"
             ],
             [
              1,
              "#f0f921"
             ]
            ],
            "type": "histogram2dcontour"
           }
          ],
          "mesh3d": [
           {
            "colorbar": {
             "outlinewidth": 0,
             "ticks": ""
            },
            "type": "mesh3d"
           }
          ],
          "parcoords": [
           {
            "line": {
             "colorbar": {
              "outlinewidth": 0,
              "ticks": ""
             }
            },
            "type": "parcoords"
           }
          ],
          "pie": [
           {
            "automargin": true,
            "type": "pie"
           }
          ],
          "scatter": [
           {
            "fillpattern": {
             "fillmode": "overlay",
             "size": 10,
             "solidity": 0.2
            },
            "type": "scatter"
           }
          ],
          "scatter3d": [
           {
            "line": {
             "colorbar": {
              "outlinewidth": 0,
              "ticks": ""
             }
            },
            "marker": {
             "colorbar": {
              "outlinewidth": 0,
              "ticks": ""
             }
            },
            "type": "scatter3d"
           }
          ],
          "scattercarpet": [
           {
            "marker": {
             "colorbar": {
              "outlinewidth": 0,
              "ticks": ""
             }
            },
            "type": "scattercarpet"
           }
          ],
          "scattergeo": [
           {
            "marker": {
             "colorbar": {
              "outlinewidth": 0,
              "ticks": ""
             }
            },
            "type": "scattergeo"
           }
          ],
          "scattergl": [
           {
            "marker": {
             "colorbar": {
              "outlinewidth": 0,
              "ticks": ""
             }
            },
            "type": "scattergl"
           }
          ],
          "scattermapbox": [
           {
            "marker": {
             "colorbar": {
              "outlinewidth": 0,
              "ticks": ""
             }
            },
            "type": "scattermapbox"
           }
          ],
          "scatterpolar": [
           {
            "marker": {
             "colorbar": {
              "outlinewidth": 0,
              "ticks": ""
             }
            },
            "type": "scatterpolar"
           }
          ],
          "scatterpolargl": [
           {
            "marker": {
             "colorbar": {
              "outlinewidth": 0,
              "ticks": ""
             }
            },
            "type": "scatterpolargl"
           }
          ],
          "scatterternary": [
           {
            "marker": {
             "colorbar": {
              "outlinewidth": 0,
              "ticks": ""
             }
            },
            "type": "scatterternary"
           }
          ],
          "surface": [
           {
            "colorbar": {
             "outlinewidth": 0,
             "ticks": ""
            },
            "colorscale": [
             [
              0,
              "#0d0887"
             ],
             [
              0.1111111111111111,
              "#46039f"
             ],
             [
              0.2222222222222222,
              "#7201a8"
             ],
             [
              0.3333333333333333,
              "#9c179e"
             ],
             [
              0.4444444444444444,
              "#bd3786"
             ],
             [
              0.5555555555555556,
              "#d8576b"
             ],
             [
              0.6666666666666666,
              "#ed7953"
             ],
             [
              0.7777777777777778,
              "#fb9f3a"
             ],
             [
              0.8888888888888888,
              "#fdca26"
             ],
             [
              1,
              "#f0f921"
             ]
            ],
            "type": "surface"
           }
          ],
          "table": [
           {
            "cells": {
             "fill": {
              "color": "#EBF0F8"
             },
             "line": {
              "color": "white"
             }
            },
            "header": {
             "fill": {
              "color": "#C8D4E3"
             },
             "line": {
              "color": "white"
             }
            },
            "type": "table"
           }
          ]
         },
         "layout": {
          "annotationdefaults": {
           "arrowcolor": "#2a3f5f",
           "arrowhead": 0,
           "arrowwidth": 1
          },
          "autotypenumbers": "strict",
          "coloraxis": {
           "colorbar": {
            "outlinewidth": 0,
            "ticks": ""
           }
          },
          "colorscale": {
           "diverging": [
            [
             0,
             "#8e0152"
            ],
            [
             0.1,
             "#c51b7d"
            ],
            [
             0.2,
             "#de77ae"
            ],
            [
             0.3,
             "#f1b6da"
            ],
            [
             0.4,
             "#fde0ef"
            ],
            [
             0.5,
             "#f7f7f7"
            ],
            [
             0.6,
             "#e6f5d0"
            ],
            [
             0.7,
             "#b8e186"
            ],
            [
             0.8,
             "#7fbc41"
            ],
            [
             0.9,
             "#4d9221"
            ],
            [
             1,
             "#276419"
            ]
           ],
           "sequential": [
            [
             0,
             "#0d0887"
            ],
            [
             0.1111111111111111,
             "#46039f"
            ],
            [
             0.2222222222222222,
             "#7201a8"
            ],
            [
             0.3333333333333333,
             "#9c179e"
            ],
            [
             0.4444444444444444,
             "#bd3786"
            ],
            [
             0.5555555555555556,
             "#d8576b"
            ],
            [
             0.6666666666666666,
             "#ed7953"
            ],
            [
             0.7777777777777778,
             "#fb9f3a"
            ],
            [
             0.8888888888888888,
             "#fdca26"
            ],
            [
             1,
             "#f0f921"
            ]
           ],
           "sequentialminus": [
            [
             0,
             "#0d0887"
            ],
            [
             0.1111111111111111,
             "#46039f"
            ],
            [
             0.2222222222222222,
             "#7201a8"
            ],
            [
             0.3333333333333333,
             "#9c179e"
            ],
            [
             0.4444444444444444,
             "#bd3786"
            ],
            [
             0.5555555555555556,
             "#d8576b"
            ],
            [
             0.6666666666666666,
             "#ed7953"
            ],
            [
             0.7777777777777778,
             "#fb9f3a"
            ],
            [
             0.8888888888888888,
             "#fdca26"
            ],
            [
             1,
             "#f0f921"
            ]
           ]
          },
          "colorway": [
           "#636efa",
           "#EF553B",
           "#00cc96",
           "#ab63fa",
           "#FFA15A",
           "#19d3f3",
           "#FF6692",
           "#B6E880",
           "#FF97FF",
           "#FECB52"
          ],
          "font": {
           "color": "#2a3f5f"
          },
          "geo": {
           "bgcolor": "white",
           "lakecolor": "white",
           "landcolor": "#E5ECF6",
           "showlakes": true,
           "showland": true,
           "subunitcolor": "white"
          },
          "hoverlabel": {
           "align": "left"
          },
          "hovermode": "closest",
          "mapbox": {
           "style": "light"
          },
          "paper_bgcolor": "white",
          "plot_bgcolor": "#E5ECF6",
          "polar": {
           "angularaxis": {
            "gridcolor": "white",
            "linecolor": "white",
            "ticks": ""
           },
           "bgcolor": "#E5ECF6",
           "radialaxis": {
            "gridcolor": "white",
            "linecolor": "white",
            "ticks": ""
           }
          },
          "scene": {
           "xaxis": {
            "backgroundcolor": "#E5ECF6",
            "gridcolor": "white",
            "gridwidth": 2,
            "linecolor": "white",
            "showbackground": true,
            "ticks": "",
            "zerolinecolor": "white"
           },
           "yaxis": {
            "backgroundcolor": "#E5ECF6",
            "gridcolor": "white",
            "gridwidth": 2,
            "linecolor": "white",
            "showbackground": true,
            "ticks": "",
            "zerolinecolor": "white"
           },
           "zaxis": {
            "backgroundcolor": "#E5ECF6",
            "gridcolor": "white",
            "gridwidth": 2,
            "linecolor": "white",
            "showbackground": true,
            "ticks": "",
            "zerolinecolor": "white"
           }
          },
          "shapedefaults": {
           "line": {
            "color": "#2a3f5f"
           }
          },
          "ternary": {
           "aaxis": {
            "gridcolor": "white",
            "linecolor": "white",
            "ticks": ""
           },
           "baxis": {
            "gridcolor": "white",
            "linecolor": "white",
            "ticks": ""
           },
           "bgcolor": "#E5ECF6",
           "caxis": {
            "gridcolor": "white",
            "linecolor": "white",
            "ticks": ""
           }
          },
          "title": {
           "x": 0.05
          },
          "xaxis": {
           "automargin": true,
           "gridcolor": "white",
           "linecolor": "white",
           "ticks": "",
           "title": {
            "standoff": 15
           },
           "zerolinecolor": "white",
           "zerolinewidth": 2
          },
          "yaxis": {
           "automargin": true,
           "gridcolor": "white",
           "linecolor": "white",
           "ticks": "",
           "title": {
            "standoff": 15
           },
           "zerolinecolor": "white",
           "zerolinewidth": 2
          }
         }
        },
        "title": {
         "text": "Average Power vs. Annual Energy Spent for Each Appliance"
        },
        "updatemenus": [
         {
          "buttons": [
           {
            "args": [
             "visible",
             [
              true,
              true,
              true,
              true,
              true,
              true,
              true,
              true,
              true,
              true,
              true,
              true,
              true,
              true,
              true,
              true,
              true,
              true,
              true,
              true,
              true,
              true,
              true,
              true,
              true,
              true,
              true,
              true,
              false,
              false,
              false,
              false,
              false,
              false,
              false,
              false,
              false,
              false,
              false,
              false,
              false,
              false,
              false,
              false,
              false,
              false,
              false,
              false,
              false,
              false,
              false,
              false,
              false,
              false,
              false,
              false,
              false,
              false,
              false,
              false,
              false,
              false,
              false,
              false,
              false,
              false,
              false,
              false,
              false,
              false,
              false,
              false,
              false,
              false,
              false,
              false,
              false,
              false,
              false,
              false,
              false,
              false,
              false,
              false
             ]
            ],
            "label": "Hide Lines",
            "method": "restyle"
           },
           {
            "args": [
             "visible",
             [
              true,
              true,
              true,
              true,
              true,
              true,
              true,
              true,
              true,
              true,
              true,
              true,
              true,
              true,
              true,
              true,
              true,
              true,
              true,
              true,
              true,
              true,
              true,
              true,
              true,
              true,
              true,
              true,
              true,
              true,
              true,
              true,
              true,
              true,
              true,
              true,
              true,
              true,
              true,
              true,
              true,
              true,
              true,
              true,
              true,
              true,
              true,
              true,
              true,
              true,
              true,
              true,
              true,
              true,
              true,
              true,
              true,
              true,
              true,
              true,
              true,
              true,
              true,
              true,
              true,
              true,
              true,
              true,
              true,
              true,
              true,
              true,
              true,
              true,
              true,
              true,
              true,
              true,
              true,
              true,
              true,
              true,
              true,
              true
             ]
            ],
            "label": "Show Lines",
            "method": "restyle"
           }
          ],
          "direction": "left",
          "pad": {
           "r": 10,
           "t": 10
          },
          "showactive": true,
          "type": "buttons",
          "x": 1.5,
          "xanchor": "right",
          "y": 1.08,
          "yanchor": "top"
         }
        ],
        "width": 1600,
        "xaxis": {
         "title": {
          "text": "Annual Energy Spent [kWh/year]"
         }
        },
        "yaxis": {
         "title": {
          "text": "Average Appliance Power [W]"
         }
        }
       }
      }
     },
     "metadata": {},
     "output_type": "display_data"
    }
   ],
   "source": [
    "import pandas as pd\n",
    "import plotly.graph_objs as go\n",
    "\n",
    "# Load the Excel file with the correct sheet name\n",
    "file_path = r'D:\\Grenoble_university\\6_month_internship\\working space\\data\\column_titles_with add info.xlsx'\n",
    "df = pd.read_excel(file_path)\n",
    "\n",
    "# Extract data from the DataFrame\n",
    "appliances = df['Appliance'].values\n",
    "power = df['tipical power'].values\n",
    "energy = df['typical annual energy [kwh/yr]'].values\n",
    "\n",
    "# Create a scatter plot\n",
    "fig = go.Figure()\n",
    "\n",
    "# Add scatter trace for appliances\n",
    "scatter_traces = []\n",
    "for i in range(len(appliances)):\n",
    "    hover_text = f\"Appliance: {appliances[i]}<br>Power: {power[i]} W<br>Energy: {energy[i]} kWh/year\"\n",
    "    scatter_trace = go.Scatter(\n",
    "        x=[energy[i]], \n",
    "        y=[power[i]], \n",
    "        mode='markers', \n",
    "        marker=dict(color='blue'), \n",
    "        name=appliances[i],\n",
    "        text=hover_text, \n",
    "        hoverinfo='text'\n",
    "    )\n",
    "    fig.add_trace(scatter_trace)\n",
    "    scatter_traces.append(scatter_trace)\n",
    "\n",
    "# Add lines connecting each point to the x and y axes\n",
    "line_traces = []\n",
    "for i in range(len(appliances)):\n",
    "    vertical_line_trace = go.Scatter(x=[energy[i], energy[i]], y=[0, power[i]], mode='lines', line=dict(color='black'), showlegend=False, name=f'Line_{i}_v')\n",
    "    horizontal_line_trace = go.Scatter(x=[0, energy[i]], y=[power[i], power[i]], mode='lines', line=dict(color='black'), showlegend=False, name=f'Line_{i}_h')\n",
    "    fig.add_trace(vertical_line_trace)  # Vertical line to x-axis\n",
    "    fig.add_trace(horizontal_line_trace)  # Horizontal line to y-axis\n",
    "    line_traces.extend([vertical_line_trace, horizontal_line_trace])\n",
    "\n",
    "# Set layout\n",
    "fig.update_layout(\n",
    "    title='Average Power vs. Annual Energy Spent for Each Appliance',\n",
    "    xaxis=dict(title='Annual Energy Spent [kWh/year]'),\n",
    "    yaxis=dict(title='Average Appliance Power [W]'),\n",
    "    hovermode='closest',\n",
    "    height=750,\n",
    "    width=1600,\n",
    "    margin=dict(l=50, r=50, t=50, b=50),\n",
    "    showlegend=True,\n",
    "    updatemenus=[\n",
    "        dict(\n",
    "            type=\"buttons\",\n",
    "            direction=\"left\",\n",
    "            buttons=list([\n",
    "                dict(\n",
    "                    args=[\"visible\", [True if not trace.name.startswith('Line_') else False for trace in fig.data]],\n",
    "                    label=\"Hide Lines\",\n",
    "                    method=\"restyle\"\n",
    "                ),\n",
    "                dict(\n",
    "                    args=[\"visible\", [True for trace in fig.data]],\n",
    "                    label=\"Show Lines\",\n",
    "                    method=\"restyle\"\n",
    "                ),\n",
    "            ]),\n",
    "            pad={\"r\": 10, \"t\": 10},\n",
    "            showactive=True,\n",
    "            x=1.5,  # Move buttons to the right side of the graph\n",
    "            xanchor=\"right\",\n",
    "            y=1.08,\n",
    "            yanchor=\"top\"\n",
    "        ),\n",
    "    ]\n",
    ")\n",
    "\n",
    "# Show the plot\n",
    "fig.show()\n"
   ]
  },
  {
   "cell_type": "code",
   "execution_count": 3,
   "metadata": {},
   "outputs": [
    {
     "name": "stdout",
     "output_type": "stream",
     "text": [
      "Flexible Appliances:\n",
      "  Typical Power (W): 28377\n",
      "  Typical Annual Energy (kWh/yr): 13176\n",
      "Not Flexible Appliances:\n",
      "  Typical Power (W): 2300\n",
      "  Typical Annual Energy (kWh/yr): 1904\n"
     ]
    }
   ],
   "source": [
    "import pandas as pd\n",
    "\n",
    "# Define the file path using raw string\n",
    "file_path = r'D:\\Grenoble_university\\6_month_internship\\working space\\data\\column_titles_with add info.xlsx'\n",
    "\n",
    "# Load the data into a DataFrame to inspect column names\n",
    "df = pd.read_excel(file_path, sheet_name=0)\n",
    "\n",
    "\n",
    "required_columns = ['Appliance', 'Flexibility', 'tipical power', 'typical annual energy [kwh/yr]']\n",
    "\n",
    "# Load only the necessary columns from the Excel file\n",
    "df = pd.read_excel(file_path, usecols=required_columns)\n",
    "\n",
    "# Calculate the sum of typical power and typical annual energy for flexible and not flexible appliances\n",
    "flexible_power_sum = df[df[\"Flexibility\"] == \"flexible\"][\"tipical power\"].sum()\n",
    "not_flexible_power_sum = df[df[\"Flexibility\"] == \"not_flexible\"][\"tipical power\"].sum()\n",
    "\n",
    "flexible_energy_sum = df[df[\"Flexibility\"] == \"flexible\"][\"typical annual energy [kwh/yr]\"].sum()\n",
    "not_flexible_energy_sum = df[df[\"Flexibility\"] == \"not_flexible\"][\"typical annual energy [kwh/yr]\"].sum()\n",
    "\n",
    "# Print the results\n",
    "print(\"Flexible Appliances:\")\n",
    "print(f\"  Typical Power (W): {flexible_power_sum}\")\n",
    "print(f\"  Typical Annual Energy (kWh/yr): {flexible_energy_sum}\")\n",
    "\n",
    "print(\"Not Flexible Appliances:\")\n",
    "print(f\"  Typical Power (W): {not_flexible_power_sum}\")\n",
    "print(f\"  Typical Annual Energy (kWh/yr): {not_flexible_energy_sum}\")\n"
   ]
  },
  {
   "cell_type": "code",
   "execution_count": 5,
   "metadata": {},
   "outputs": [
    {
     "name": "stdout",
     "output_type": "stream",
     "text": [
      "General flexibility powr procentage =  92.50252632265214 %\n",
      "General energy flexibility procentage = 87.37400530503979 %\n"
     ]
    }
   ],
   "source": [
    "print('General flexibility powr procentage = ',(flexible_power_sum/(not_flexible_power_sum+flexible_power_sum)) *100,'%')\n",
    "print( 'General energy flexibility procentage =', (flexible_energy_sum/(not_flexible_energy_sum+flexible_energy_sum))* 100, '%')"
   ]
  },
  {
   "cell_type": "code",
   "execution_count": 6,
   "metadata": {},
   "outputs": [
    {
     "data": {
      "application/vnd.plotly.v1+json": {
       "config": {
        "plotlyServerURL": "https://plot.ly"
       },
       "data": [
        {
         "marker": {
          "color": [
           "blue",
           "orange"
          ]
         },
         "name": "Energy Consumption",
         "type": "bar",
         "x": [
          "Total Consumption",
          "Flexible Consumption"
         ],
         "y": [
          15080,
          13176
         ]
        }
       ],
       "layout": {
        "barmode": "group",
        "template": {
         "data": {
          "bar": [
           {
            "error_x": {
             "color": "#2a3f5f"
            },
            "error_y": {
             "color": "#2a3f5f"
            },
            "marker": {
             "line": {
              "color": "#E5ECF6",
              "width": 0.5
             },
             "pattern": {
              "fillmode": "overlay",
              "size": 10,
              "solidity": 0.2
             }
            },
            "type": "bar"
           }
          ],
          "barpolar": [
           {
            "marker": {
             "line": {
              "color": "#E5ECF6",
              "width": 0.5
             },
             "pattern": {
              "fillmode": "overlay",
              "size": 10,
              "solidity": 0.2
             }
            },
            "type": "barpolar"
           }
          ],
          "carpet": [
           {
            "aaxis": {
             "endlinecolor": "#2a3f5f",
             "gridcolor": "white",
             "linecolor": "white",
             "minorgridcolor": "white",
             "startlinecolor": "#2a3f5f"
            },
            "baxis": {
             "endlinecolor": "#2a3f5f",
             "gridcolor": "white",
             "linecolor": "white",
             "minorgridcolor": "white",
             "startlinecolor": "#2a3f5f"
            },
            "type": "carpet"
           }
          ],
          "choropleth": [
           {
            "colorbar": {
             "outlinewidth": 0,
             "ticks": ""
            },
            "type": "choropleth"
           }
          ],
          "contour": [
           {
            "colorbar": {
             "outlinewidth": 0,
             "ticks": ""
            },
            "colorscale": [
             [
              0,
              "#0d0887"
             ],
             [
              0.1111111111111111,
              "#46039f"
             ],
             [
              0.2222222222222222,
              "#7201a8"
             ],
             [
              0.3333333333333333,
              "#9c179e"
             ],
             [
              0.4444444444444444,
              "#bd3786"
             ],
             [
              0.5555555555555556,
              "#d8576b"
             ],
             [
              0.6666666666666666,
              "#ed7953"
             ],
             [
              0.7777777777777778,
              "#fb9f3a"
             ],
             [
              0.8888888888888888,
              "#fdca26"
             ],
             [
              1,
              "#f0f921"
             ]
            ],
            "type": "contour"
           }
          ],
          "contourcarpet": [
           {
            "colorbar": {
             "outlinewidth": 0,
             "ticks": ""
            },
            "type": "contourcarpet"
           }
          ],
          "heatmap": [
           {
            "colorbar": {
             "outlinewidth": 0,
             "ticks": ""
            },
            "colorscale": [
             [
              0,
              "#0d0887"
             ],
             [
              0.1111111111111111,
              "#46039f"
             ],
             [
              0.2222222222222222,
              "#7201a8"
             ],
             [
              0.3333333333333333,
              "#9c179e"
             ],
             [
              0.4444444444444444,
              "#bd3786"
             ],
             [
              0.5555555555555556,
              "#d8576b"
             ],
             [
              0.6666666666666666,
              "#ed7953"
             ],
             [
              0.7777777777777778,
              "#fb9f3a"
             ],
             [
              0.8888888888888888,
              "#fdca26"
             ],
             [
              1,
              "#f0f921"
             ]
            ],
            "type": "heatmap"
           }
          ],
          "heatmapgl": [
           {
            "colorbar": {
             "outlinewidth": 0,
             "ticks": ""
            },
            "colorscale": [
             [
              0,
              "#0d0887"
             ],
             [
              0.1111111111111111,
              "#46039f"
             ],
             [
              0.2222222222222222,
              "#7201a8"
             ],
             [
              0.3333333333333333,
              "#9c179e"
             ],
             [
              0.4444444444444444,
              "#bd3786"
             ],
             [
              0.5555555555555556,
              "#d8576b"
             ],
             [
              0.6666666666666666,
              "#ed7953"
             ],
             [
              0.7777777777777778,
              "#fb9f3a"
             ],
             [
              0.8888888888888888,
              "#fdca26"
             ],
             [
              1,
              "#f0f921"
             ]
            ],
            "type": "heatmapgl"
           }
          ],
          "histogram": [
           {
            "marker": {
             "pattern": {
              "fillmode": "overlay",
              "size": 10,
              "solidity": 0.2
             }
            },
            "type": "histogram"
           }
          ],
          "histogram2d": [
           {
            "colorbar": {
             "outlinewidth": 0,
             "ticks": ""
            },
            "colorscale": [
             [
              0,
              "#0d0887"
             ],
             [
              0.1111111111111111,
              "#46039f"
             ],
             [
              0.2222222222222222,
              "#7201a8"
             ],
             [
              0.3333333333333333,
              "#9c179e"
             ],
             [
              0.4444444444444444,
              "#bd3786"
             ],
             [
              0.5555555555555556,
              "#d8576b"
             ],
             [
              0.6666666666666666,
              "#ed7953"
             ],
             [
              0.7777777777777778,
              "#fb9f3a"
             ],
             [
              0.8888888888888888,
              "#fdca26"
             ],
             [
              1,
              "#f0f921"
             ]
            ],
            "type": "histogram2d"
           }
          ],
          "histogram2dcontour": [
           {
            "colorbar": {
             "outlinewidth": 0,
             "ticks": ""
            },
            "colorscale": [
             [
              0,
              "#0d0887"
             ],
             [
              0.1111111111111111,
              "#46039f"
             ],
             [
              0.2222222222222222,
              "#7201a8"
             ],
             [
              0.3333333333333333,
              "#9c179e"
             ],
             [
              0.4444444444444444,
              "#bd3786"
             ],
             [
              0.5555555555555556,
              "#d8576b"
             ],
             [
              0.6666666666666666,
              "#ed7953"
             ],
             [
              0.7777777777777778,
              "#fb9f3a"
             ],
             [
              0.8888888888888888,
              "#fdca26"
             ],
             [
              1,
              "#f0f921"
             ]
            ],
            "type": "histogram2dcontour"
           }
          ],
          "mesh3d": [
           {
            "colorbar": {
             "outlinewidth": 0,
             "ticks": ""
            },
            "type": "mesh3d"
           }
          ],
          "parcoords": [
           {
            "line": {
             "colorbar": {
              "outlinewidth": 0,
              "ticks": ""
             }
            },
            "type": "parcoords"
           }
          ],
          "pie": [
           {
            "automargin": true,
            "type": "pie"
           }
          ],
          "scatter": [
           {
            "fillpattern": {
             "fillmode": "overlay",
             "size": 10,
             "solidity": 0.2
            },
            "type": "scatter"
           }
          ],
          "scatter3d": [
           {
            "line": {
             "colorbar": {
              "outlinewidth": 0,
              "ticks": ""
             }
            },
            "marker": {
             "colorbar": {
              "outlinewidth": 0,
              "ticks": ""
             }
            },
            "type": "scatter3d"
           }
          ],
          "scattercarpet": [
           {
            "marker": {
             "colorbar": {
              "outlinewidth": 0,
              "ticks": ""
             }
            },
            "type": "scattercarpet"
           }
          ],
          "scattergeo": [
           {
            "marker": {
             "colorbar": {
              "outlinewidth": 0,
              "ticks": ""
             }
            },
            "type": "scattergeo"
           }
          ],
          "scattergl": [
           {
            "marker": {
             "colorbar": {
              "outlinewidth": 0,
              "ticks": ""
             }
            },
            "type": "scattergl"
           }
          ],
          "scattermapbox": [
           {
            "marker": {
             "colorbar": {
              "outlinewidth": 0,
              "ticks": ""
             }
            },
            "type": "scattermapbox"
           }
          ],
          "scatterpolar": [
           {
            "marker": {
             "colorbar": {
              "outlinewidth": 0,
              "ticks": ""
             }
            },
            "type": "scatterpolar"
           }
          ],
          "scatterpolargl": [
           {
            "marker": {
             "colorbar": {
              "outlinewidth": 0,
              "ticks": ""
             }
            },
            "type": "scatterpolargl"
           }
          ],
          "scatterternary": [
           {
            "marker": {
             "colorbar": {
              "outlinewidth": 0,
              "ticks": ""
             }
            },
            "type": "scatterternary"
           }
          ],
          "surface": [
           {
            "colorbar": {
             "outlinewidth": 0,
             "ticks": ""
            },
            "colorscale": [
             [
              0,
              "#0d0887"
             ],
             [
              0.1111111111111111,
              "#46039f"
             ],
             [
              0.2222222222222222,
              "#7201a8"
             ],
             [
              0.3333333333333333,
              "#9c179e"
             ],
             [
              0.4444444444444444,
              "#bd3786"
             ],
             [
              0.5555555555555556,
              "#d8576b"
             ],
             [
              0.6666666666666666,
              "#ed7953"
             ],
             [
              0.7777777777777778,
              "#fb9f3a"
             ],
             [
              0.8888888888888888,
              "#fdca26"
             ],
             [
              1,
              "#f0f921"
             ]
            ],
            "type": "surface"
           }
          ],
          "table": [
           {
            "cells": {
             "fill": {
              "color": "#EBF0F8"
             },
             "line": {
              "color": "white"
             }
            },
            "header": {
             "fill": {
              "color": "#C8D4E3"
             },
             "line": {
              "color": "white"
             }
            },
            "type": "table"
           }
          ]
         },
         "layout": {
          "annotationdefaults": {
           "arrowcolor": "#2a3f5f",
           "arrowhead": 0,
           "arrowwidth": 1
          },
          "autotypenumbers": "strict",
          "coloraxis": {
           "colorbar": {
            "outlinewidth": 0,
            "ticks": ""
           }
          },
          "colorscale": {
           "diverging": [
            [
             0,
             "#8e0152"
            ],
            [
             0.1,
             "#c51b7d"
            ],
            [
             0.2,
             "#de77ae"
            ],
            [
             0.3,
             "#f1b6da"
            ],
            [
             0.4,
             "#fde0ef"
            ],
            [
             0.5,
             "#f7f7f7"
            ],
            [
             0.6,
             "#e6f5d0"
            ],
            [
             0.7,
             "#b8e186"
            ],
            [
             0.8,
             "#7fbc41"
            ],
            [
             0.9,
             "#4d9221"
            ],
            [
             1,
             "#276419"
            ]
           ],
           "sequential": [
            [
             0,
             "#0d0887"
            ],
            [
             0.1111111111111111,
             "#46039f"
            ],
            [
             0.2222222222222222,
             "#7201a8"
            ],
            [
             0.3333333333333333,
             "#9c179e"
            ],
            [
             0.4444444444444444,
             "#bd3786"
            ],
            [
             0.5555555555555556,
             "#d8576b"
            ],
            [
             0.6666666666666666,
             "#ed7953"
            ],
            [
             0.7777777777777778,
             "#fb9f3a"
            ],
            [
             0.8888888888888888,
             "#fdca26"
            ],
            [
             1,
             "#f0f921"
            ]
           ],
           "sequentialminus": [
            [
             0,
             "#0d0887"
            ],
            [
             0.1111111111111111,
             "#46039f"
            ],
            [
             0.2222222222222222,
             "#7201a8"
            ],
            [
             0.3333333333333333,
             "#9c179e"
            ],
            [
             0.4444444444444444,
             "#bd3786"
            ],
            [
             0.5555555555555556,
             "#d8576b"
            ],
            [
             0.6666666666666666,
             "#ed7953"
            ],
            [
             0.7777777777777778,
             "#fb9f3a"
            ],
            [
             0.8888888888888888,
             "#fdca26"
            ],
            [
             1,
             "#f0f921"
            ]
           ]
          },
          "colorway": [
           "#636efa",
           "#EF553B",
           "#00cc96",
           "#ab63fa",
           "#FFA15A",
           "#19d3f3",
           "#FF6692",
           "#B6E880",
           "#FF97FF",
           "#FECB52"
          ],
          "font": {
           "color": "#2a3f5f"
          },
          "geo": {
           "bgcolor": "white",
           "lakecolor": "white",
           "landcolor": "#E5ECF6",
           "showlakes": true,
           "showland": true,
           "subunitcolor": "white"
          },
          "hoverlabel": {
           "align": "left"
          },
          "hovermode": "closest",
          "mapbox": {
           "style": "light"
          },
          "paper_bgcolor": "white",
          "plot_bgcolor": "#E5ECF6",
          "polar": {
           "angularaxis": {
            "gridcolor": "white",
            "linecolor": "white",
            "ticks": ""
           },
           "bgcolor": "#E5ECF6",
           "radialaxis": {
            "gridcolor": "white",
            "linecolor": "white",
            "ticks": ""
           }
          },
          "scene": {
           "xaxis": {
            "backgroundcolor": "#E5ECF6",
            "gridcolor": "white",
            "gridwidth": 2,
            "linecolor": "white",
            "showbackground": true,
            "ticks": "",
            "zerolinecolor": "white"
           },
           "yaxis": {
            "backgroundcolor": "#E5ECF6",
            "gridcolor": "white",
            "gridwidth": 2,
            "linecolor": "white",
            "showbackground": true,
            "ticks": "",
            "zerolinecolor": "white"
           },
           "zaxis": {
            "backgroundcolor": "#E5ECF6",
            "gridcolor": "white",
            "gridwidth": 2,
            "linecolor": "white",
            "showbackground": true,
            "ticks": "",
            "zerolinecolor": "white"
           }
          },
          "shapedefaults": {
           "line": {
            "color": "#2a3f5f"
           }
          },
          "ternary": {
           "aaxis": {
            "gridcolor": "white",
            "linecolor": "white",
            "ticks": ""
           },
           "baxis": {
            "gridcolor": "white",
            "linecolor": "white",
            "ticks": ""
           },
           "bgcolor": "#E5ECF6",
           "caxis": {
            "gridcolor": "white",
            "linecolor": "white",
            "ticks": ""
           }
          },
          "title": {
           "x": 0.05
          },
          "xaxis": {
           "automargin": true,
           "gridcolor": "white",
           "linecolor": "white",
           "ticks": "",
           "title": {
            "standoff": 15
           },
           "zerolinecolor": "white",
           "zerolinewidth": 2
          },
          "yaxis": {
           "automargin": true,
           "gridcolor": "white",
           "linecolor": "white",
           "ticks": "",
           "title": {
            "standoff": 15
           },
           "zerolinecolor": "white",
           "zerolinewidth": 2
          }
         }
        },
        "title": {
         "text": "Total Energy Consumption vs. Flexible Consumption During One Year"
        },
        "xaxis": {
         "title": {
          "text": "Type of Consumption"
         }
        },
        "yaxis": {
         "title": {
          "text": "Energy Consumption (kWh/yr)"
         }
        }
       }
      }
     },
     "metadata": {},
     "output_type": "display_data"
    }
   ],
   "source": [
    "import pandas as pd\n",
    "import plotly.graph_objects as go\n",
    "\n",
    "# Define the file path\n",
    "file_path = r'D:\\Grenoble_university\\6_month_internship\\working space\\data\\column_titles_with add info.xlsx'\n",
    "\n",
    "# Read the Excel file without specifying columns to inspect the column names\n",
    "df_full = pd.read_excel(file_path)\n",
    "\n",
    "\n",
    "# Trim extra spaces from the column names\n",
    "df_full.columns = df_full.columns.str.strip()\n",
    "\n",
    "\n",
    "# Define the corrected column names\n",
    "required_columns = ['Appliance', 'Flexibility', 'tipical power', 'typical annual energy [kwh/yr]']\n",
    "\n",
    "# Select the required columns\n",
    "df = df_full[required_columns]\n",
    "\n",
    "# Calculate total consumption\n",
    "total_consumption = df['typical annual energy [kwh/yr]'].sum()\n",
    "\n",
    "# Calculate flexible consumption\n",
    "flexible_consumption = df[df[\"Flexibility\"] == \"flexible\"]['typical annual energy [kwh/yr]'].sum()\n",
    "\n",
    "# Create a DataFrame for plotting\n",
    "consumption_data = {\n",
    "    'Type': ['Total Consumption', 'Flexible Consumption'],\n",
    "    'Consumption (kWh/yr)': [total_consumption, flexible_consumption]\n",
    "}\n",
    "consumption_df = pd.DataFrame(consumption_data)\n",
    "\n",
    "# Create a figure\n",
    "fig = go.Figure()\n",
    "\n",
    "# Add bars for total consumption\n",
    "fig.add_trace(go.Bar(\n",
    "    x=consumption_df['Type'],\n",
    "    y=consumption_df['Consumption (kWh/yr)'],\n",
    "    name='Energy Consumption',\n",
    "    marker_color=['blue', 'orange']\n",
    "))\n",
    "\n",
    "# Update layout\n",
    "fig.update_layout(\n",
    "    title='Total Energy Consumption vs. Flexible Consumption During One Year',\n",
    "    xaxis_title='Type of Consumption',\n",
    "    yaxis_title='Energy Consumption (kWh/yr)',\n",
    "    barmode='group'\n",
    ")\n",
    "\n",
    "# Show the figure\n",
    "fig.show()\n"
   ]
  },
  {
   "cell_type": "code",
   "execution_count": 7,
   "metadata": {},
   "outputs": [
    {
     "data": {
      "application/vnd.plotly.v1+json": {
       "config": {
        "plotlyServerURL": "https://plot.ly"
       },
       "data": [
        {
         "marker": {
          "color": "orange"
         },
         "name": "Flexible Consumption",
         "type": "bar",
         "x": [
          "Clothes drier ",
          "Computer site ",
          "Dish washer ",
          "Electric Cooker ",
          "Electric deep frier ",
          "Electric heating ",
          "Electric oven ",
          "Heat pump ",
          "Heat pump water heater ",
          "Hot plate ",
          "Microwave oven ",
          "Non halogen lamp ",
          "Power supply for fuel boiler",
          "Power supply for gas boiler",
          "Power supply for wall boiler",
          "Power supply for wood boiler",
          "TV ",
          "Washing machine ",
          "Washing machine+clothes drier ",
          "Water heater "
         ],
         "y": [
          280,
          124,
          154,
          159,
          159,
          1720,
          146,
          4500,
          2300,
          159,
          39,
          134,
          363,
          375,
          120,
          120,
          163,
          100,
          385,
          1676
         ]
        },
        {
         "marker": {
          "color": "blue"
         },
         "name": "Not Flexible Consumption",
         "type": "bar",
         "x": [
          "Aquarium ",
          "Chest freezer ",
          "Fridge ",
          "Fridge freezer ",
          "Halogen lamp ",
          "No-frost fridge ",
          "Vertical freezer ",
          "Water pump "
         ],
         "y": [
          200,
          296,
          346,
          296,
          134,
          186,
          296,
          150
         ]
        }
       ],
       "layout": {
        "barmode": "group",
        "template": {
         "data": {
          "bar": [
           {
            "error_x": {
             "color": "#2a3f5f"
            },
            "error_y": {
             "color": "#2a3f5f"
            },
            "marker": {
             "line": {
              "color": "#E5ECF6",
              "width": 0.5
             },
             "pattern": {
              "fillmode": "overlay",
              "size": 10,
              "solidity": 0.2
             }
            },
            "type": "bar"
           }
          ],
          "barpolar": [
           {
            "marker": {
             "line": {
              "color": "#E5ECF6",
              "width": 0.5
             },
             "pattern": {
              "fillmode": "overlay",
              "size": 10,
              "solidity": 0.2
             }
            },
            "type": "barpolar"
           }
          ],
          "carpet": [
           {
            "aaxis": {
             "endlinecolor": "#2a3f5f",
             "gridcolor": "white",
             "linecolor": "white",
             "minorgridcolor": "white",
             "startlinecolor": "#2a3f5f"
            },
            "baxis": {
             "endlinecolor": "#2a3f5f",
             "gridcolor": "white",
             "linecolor": "white",
             "minorgridcolor": "white",
             "startlinecolor": "#2a3f5f"
            },
            "type": "carpet"
           }
          ],
          "choropleth": [
           {
            "colorbar": {
             "outlinewidth": 0,
             "ticks": ""
            },
            "type": "choropleth"
           }
          ],
          "contour": [
           {
            "colorbar": {
             "outlinewidth": 0,
             "ticks": ""
            },
            "colorscale": [
             [
              0,
              "#0d0887"
             ],
             [
              0.1111111111111111,
              "#46039f"
             ],
             [
              0.2222222222222222,
              "#7201a8"
             ],
             [
              0.3333333333333333,
              "#9c179e"
             ],
             [
              0.4444444444444444,
              "#bd3786"
             ],
             [
              0.5555555555555556,
              "#d8576b"
             ],
             [
              0.6666666666666666,
              "#ed7953"
             ],
             [
              0.7777777777777778,
              "#fb9f3a"
             ],
             [
              0.8888888888888888,
              "#fdca26"
             ],
             [
              1,
              "#f0f921"
             ]
            ],
            "type": "contour"
           }
          ],
          "contourcarpet": [
           {
            "colorbar": {
             "outlinewidth": 0,
             "ticks": ""
            },
            "type": "contourcarpet"
           }
          ],
          "heatmap": [
           {
            "colorbar": {
             "outlinewidth": 0,
             "ticks": ""
            },
            "colorscale": [
             [
              0,
              "#0d0887"
             ],
             [
              0.1111111111111111,
              "#46039f"
             ],
             [
              0.2222222222222222,
              "#7201a8"
             ],
             [
              0.3333333333333333,
              "#9c179e"
             ],
             [
              0.4444444444444444,
              "#bd3786"
             ],
             [
              0.5555555555555556,
              "#d8576b"
             ],
             [
              0.6666666666666666,
              "#ed7953"
             ],
             [
              0.7777777777777778,
              "#fb9f3a"
             ],
             [
              0.8888888888888888,
              "#fdca26"
             ],
             [
              1,
              "#f0f921"
             ]
            ],
            "type": "heatmap"
           }
          ],
          "heatmapgl": [
           {
            "colorbar": {
             "outlinewidth": 0,
             "ticks": ""
            },
            "colorscale": [
             [
              0,
              "#0d0887"
             ],
             [
              0.1111111111111111,
              "#46039f"
             ],
             [
              0.2222222222222222,
              "#7201a8"
             ],
             [
              0.3333333333333333,
              "#9c179e"
             ],
             [
              0.4444444444444444,
              "#bd3786"
             ],
             [
              0.5555555555555556,
              "#d8576b"
             ],
             [
              0.6666666666666666,
              "#ed7953"
             ],
             [
              0.7777777777777778,
              "#fb9f3a"
             ],
             [
              0.8888888888888888,
              "#fdca26"
             ],
             [
              1,
              "#f0f921"
             ]
            ],
            "type": "heatmapgl"
           }
          ],
          "histogram": [
           {
            "marker": {
             "pattern": {
              "fillmode": "overlay",
              "size": 10,
              "solidity": 0.2
             }
            },
            "type": "histogram"
           }
          ],
          "histogram2d": [
           {
            "colorbar": {
             "outlinewidth": 0,
             "ticks": ""
            },
            "colorscale": [
             [
              0,
              "#0d0887"
             ],
             [
              0.1111111111111111,
              "#46039f"
             ],
             [
              0.2222222222222222,
              "#7201a8"
             ],
             [
              0.3333333333333333,
              "#9c179e"
             ],
             [
              0.4444444444444444,
              "#bd3786"
             ],
             [
              0.5555555555555556,
              "#d8576b"
             ],
             [
              0.6666666666666666,
              "#ed7953"
             ],
             [
              0.7777777777777778,
              "#fb9f3a"
             ],
             [
              0.8888888888888888,
              "#fdca26"
             ],
             [
              1,
              "#f0f921"
             ]
            ],
            "type": "histogram2d"
           }
          ],
          "histogram2dcontour": [
           {
            "colorbar": {
             "outlinewidth": 0,
             "ticks": ""
            },
            "colorscale": [
             [
              0,
              "#0d0887"
             ],
             [
              0.1111111111111111,
              "#46039f"
             ],
             [
              0.2222222222222222,
              "#7201a8"
             ],
             [
              0.3333333333333333,
              "#9c179e"
             ],
             [
              0.4444444444444444,
              "#bd3786"
             ],
             [
              0.5555555555555556,
              "#d8576b"
             ],
             [
              0.6666666666666666,
              "#ed7953"
             ],
             [
              0.7777777777777778,
              "#fb9f3a"
             ],
             [
              0.8888888888888888,
              "#fdca26"
             ],
             [
              1,
              "#f0f921"
             ]
            ],
            "type": "histogram2dcontour"
           }
          ],
          "mesh3d": [
           {
            "colorbar": {
             "outlinewidth": 0,
             "ticks": ""
            },
            "type": "mesh3d"
           }
          ],
          "parcoords": [
           {
            "line": {
             "colorbar": {
              "outlinewidth": 0,
              "ticks": ""
             }
            },
            "type": "parcoords"
           }
          ],
          "pie": [
           {
            "automargin": true,
            "type": "pie"
           }
          ],
          "scatter": [
           {
            "fillpattern": {
             "fillmode": "overlay",
             "size": 10,
             "solidity": 0.2
            },
            "type": "scatter"
           }
          ],
          "scatter3d": [
           {
            "line": {
             "colorbar": {
              "outlinewidth": 0,
              "ticks": ""
             }
            },
            "marker": {
             "colorbar": {
              "outlinewidth": 0,
              "ticks": ""
             }
            },
            "type": "scatter3d"
           }
          ],
          "scattercarpet": [
           {
            "marker": {
             "colorbar": {
              "outlinewidth": 0,
              "ticks": ""
             }
            },
            "type": "scattercarpet"
           }
          ],
          "scattergeo": [
           {
            "marker": {
             "colorbar": {
              "outlinewidth": 0,
              "ticks": ""
             }
            },
            "type": "scattergeo"
           }
          ],
          "scattergl": [
           {
            "marker": {
             "colorbar": {
              "outlinewidth": 0,
              "ticks": ""
             }
            },
            "type": "scattergl"
           }
          ],
          "scattermapbox": [
           {
            "marker": {
             "colorbar": {
              "outlinewidth": 0,
              "ticks": ""
             }
            },
            "type": "scattermapbox"
           }
          ],
          "scatterpolar": [
           {
            "marker": {
             "colorbar": {
              "outlinewidth": 0,
              "ticks": ""
             }
            },
            "type": "scatterpolar"
           }
          ],
          "scatterpolargl": [
           {
            "marker": {
             "colorbar": {
              "outlinewidth": 0,
              "ticks": ""
             }
            },
            "type": "scatterpolargl"
           }
          ],
          "scatterternary": [
           {
            "marker": {
             "colorbar": {
              "outlinewidth": 0,
              "ticks": ""
             }
            },
            "type": "scatterternary"
           }
          ],
          "surface": [
           {
            "colorbar": {
             "outlinewidth": 0,
             "ticks": ""
            },
            "colorscale": [
             [
              0,
              "#0d0887"
             ],
             [
              0.1111111111111111,
              "#46039f"
             ],
             [
              0.2222222222222222,
              "#7201a8"
             ],
             [
              0.3333333333333333,
              "#9c179e"
             ],
             [
              0.4444444444444444,
              "#bd3786"
             ],
             [
              0.5555555555555556,
              "#d8576b"
             ],
             [
              0.6666666666666666,
              "#ed7953"
             ],
             [
              0.7777777777777778,
              "#fb9f3a"
             ],
             [
              0.8888888888888888,
              "#fdca26"
             ],
             [
              1,
              "#f0f921"
             ]
            ],
            "type": "surface"
           }
          ],
          "table": [
           {
            "cells": {
             "fill": {
              "color": "#EBF0F8"
             },
             "line": {
              "color": "white"
             }
            },
            "header": {
             "fill": {
              "color": "#C8D4E3"
             },
             "line": {
              "color": "white"
             }
            },
            "type": "table"
           }
          ]
         },
         "layout": {
          "annotationdefaults": {
           "arrowcolor": "#2a3f5f",
           "arrowhead": 0,
           "arrowwidth": 1
          },
          "autotypenumbers": "strict",
          "coloraxis": {
           "colorbar": {
            "outlinewidth": 0,
            "ticks": ""
           }
          },
          "colorscale": {
           "diverging": [
            [
             0,
             "#8e0152"
            ],
            [
             0.1,
             "#c51b7d"
            ],
            [
             0.2,
             "#de77ae"
            ],
            [
             0.3,
             "#f1b6da"
            ],
            [
             0.4,
             "#fde0ef"
            ],
            [
             0.5,
             "#f7f7f7"
            ],
            [
             0.6,
             "#e6f5d0"
            ],
            [
             0.7,
             "#b8e186"
            ],
            [
             0.8,
             "#7fbc41"
            ],
            [
             0.9,
             "#4d9221"
            ],
            [
             1,
             "#276419"
            ]
           ],
           "sequential": [
            [
             0,
             "#0d0887"
            ],
            [
             0.1111111111111111,
             "#46039f"
            ],
            [
             0.2222222222222222,
             "#7201a8"
            ],
            [
             0.3333333333333333,
             "#9c179e"
            ],
            [
             0.4444444444444444,
             "#bd3786"
            ],
            [
             0.5555555555555556,
             "#d8576b"
            ],
            [
             0.6666666666666666,
             "#ed7953"
            ],
            [
             0.7777777777777778,
             "#fb9f3a"
            ],
            [
             0.8888888888888888,
             "#fdca26"
            ],
            [
             1,
             "#f0f921"
            ]
           ],
           "sequentialminus": [
            [
             0,
             "#0d0887"
            ],
            [
             0.1111111111111111,
             "#46039f"
            ],
            [
             0.2222222222222222,
             "#7201a8"
            ],
            [
             0.3333333333333333,
             "#9c179e"
            ],
            [
             0.4444444444444444,
             "#bd3786"
            ],
            [
             0.5555555555555556,
             "#d8576b"
            ],
            [
             0.6666666666666666,
             "#ed7953"
            ],
            [
             0.7777777777777778,
             "#fb9f3a"
            ],
            [
             0.8888888888888888,
             "#fdca26"
            ],
            [
             1,
             "#f0f921"
            ]
           ]
          },
          "colorway": [
           "#636efa",
           "#EF553B",
           "#00cc96",
           "#ab63fa",
           "#FFA15A",
           "#19d3f3",
           "#FF6692",
           "#B6E880",
           "#FF97FF",
           "#FECB52"
          ],
          "font": {
           "color": "#2a3f5f"
          },
          "geo": {
           "bgcolor": "white",
           "lakecolor": "white",
           "landcolor": "#E5ECF6",
           "showlakes": true,
           "showland": true,
           "subunitcolor": "white"
          },
          "hoverlabel": {
           "align": "left"
          },
          "hovermode": "closest",
          "mapbox": {
           "style": "light"
          },
          "paper_bgcolor": "white",
          "plot_bgcolor": "#E5ECF6",
          "polar": {
           "angularaxis": {
            "gridcolor": "white",
            "linecolor": "white",
            "ticks": ""
           },
           "bgcolor": "#E5ECF6",
           "radialaxis": {
            "gridcolor": "white",
            "linecolor": "white",
            "ticks": ""
           }
          },
          "scene": {
           "xaxis": {
            "backgroundcolor": "#E5ECF6",
            "gridcolor": "white",
            "gridwidth": 2,
            "linecolor": "white",
            "showbackground": true,
            "ticks": "",
            "zerolinecolor": "white"
           },
           "yaxis": {
            "backgroundcolor": "#E5ECF6",
            "gridcolor": "white",
            "gridwidth": 2,
            "linecolor": "white",
            "showbackground": true,
            "ticks": "",
            "zerolinecolor": "white"
           },
           "zaxis": {
            "backgroundcolor": "#E5ECF6",
            "gridcolor": "white",
            "gridwidth": 2,
            "linecolor": "white",
            "showbackground": true,
            "ticks": "",
            "zerolinecolor": "white"
           }
          },
          "shapedefaults": {
           "line": {
            "color": "#2a3f5f"
           }
          },
          "ternary": {
           "aaxis": {
            "gridcolor": "white",
            "linecolor": "white",
            "ticks": ""
           },
           "baxis": {
            "gridcolor": "white",
            "linecolor": "white",
            "ticks": ""
           },
           "bgcolor": "#E5ECF6",
           "caxis": {
            "gridcolor": "white",
            "linecolor": "white",
            "ticks": ""
           }
          },
          "title": {
           "x": 0.05
          },
          "xaxis": {
           "automargin": true,
           "gridcolor": "white",
           "linecolor": "white",
           "ticks": "",
           "title": {
            "standoff": 15
           },
           "zerolinecolor": "white",
           "zerolinewidth": 2
          },
          "yaxis": {
           "automargin": true,
           "gridcolor": "white",
           "linecolor": "white",
           "ticks": "",
           "title": {
            "standoff": 15
           },
           "zerolinecolor": "white",
           "zerolinewidth": 2
          }
         }
        },
        "title": {
         "text": "Energy Consumption of Appliances: Flexible vs. Not Flexible"
        },
        "xaxis": {
         "tickangle": -45,
         "title": {
          "text": "Appliance"
         }
        },
        "yaxis": {
         "title": {
          "text": "Energy Consumption (kWh/yr)"
         }
        }
       }
      }
     },
     "metadata": {},
     "output_type": "display_data"
    }
   ],
   "source": [
    "import pandas as pd\n",
    "import plotly.graph_objects as go\n",
    "\n",
    "# Define the file path\n",
    "file_path = r'D:\\Grenoble_university\\6_month_internship\\working space\\data\\column_titles_with add info.xlsx'\n",
    "\n",
    "# Read the Excel file without specifying columns to inspect the column names\n",
    "df_full = pd.read_excel(file_path)\n",
    "\n",
    "# Trim extra spaces from the column names\n",
    "df_full.columns = df_full.columns.str.strip()\n",
    "\n",
    "# Define the corrected column names\n",
    "required_columns = ['Appliance', 'Flexibility', 'tipical power', 'typical annual energy [kwh/yr]']\n",
    "\n",
    "# Select the required columns\n",
    "df = df_full[required_columns]\n",
    "\n",
    "# Calculate total and flexible energy consumption for each appliance\n",
    "df_grouped = df.groupby(['Appliance', 'Flexibility']).agg({\n",
    "    'tipical power': 'sum',\n",
    "    'typical annual energy [kwh/yr]': 'sum'\n",
    "}).reset_index()\n",
    "\n",
    "# Separate the data into flexible and not flexible\n",
    "flexible_df = df_grouped[df_grouped['Flexibility'] == 'flexible']\n",
    "not_flexible_df = df_grouped[df_grouped['Flexibility'] == 'not_flexible']\n",
    "\n",
    "# Create a figure\n",
    "fig = go.Figure()\n",
    "\n",
    "# Add bars for flexible consumption\n",
    "fig.add_trace(go.Bar(\n",
    "    x=flexible_df['Appliance'],\n",
    "    y=flexible_df['typical annual energy [kwh/yr]'],\n",
    "    name='Flexible Consumption',\n",
    "    marker_color='orange'\n",
    "))\n",
    "\n",
    "# Add bars for not flexible consumption\n",
    "fig.add_trace(go.Bar(\n",
    "    x=not_flexible_df['Appliance'],\n",
    "    y=not_flexible_df['typical annual energy [kwh/yr]'],\n",
    "    name='Not Flexible Consumption',\n",
    "    marker_color='blue'\n",
    "))\n",
    "\n",
    "# Update layout\n",
    "fig.update_layout(\n",
    "    title='Energy Consumption of Appliances: Flexible vs. Not Flexible',\n",
    "    xaxis_title='Appliance',\n",
    "    yaxis_title='Energy Consumption (kWh/yr)',\n",
    "    barmode='group',\n",
    "    xaxis_tickangle=-45\n",
    ")\n",
    "\n",
    "# Show the figure\n",
    "fig.show()\n"
   ]
  },
  {
   "cell_type": "code",
   "execution_count": 8,
   "metadata": {},
   "outputs": [
    {
     "name": "stderr",
     "output_type": "stream",
     "text": [
      "C:\\Users\\MSI\\AppData\\Local\\Temp\\ipykernel_19296\\415264841.py:20: SettingWithCopyWarning:\n",
      "\n",
      "\n",
      "A value is trying to be set on a copy of a slice from a DataFrame.\n",
      "Try using .loc[row_indexer,col_indexer] = value instead\n",
      "\n",
      "See the caveats in the documentation: https://pandas.pydata.org/pandas-docs/stable/user_guide/indexing.html#returning-a-view-versus-a-copy\n",
      "\n"
     ]
    },
    {
     "data": {
      "application/vnd.plotly.v1+json": {
       "config": {
        "plotlyServerURL": "https://plot.ly"
       },
       "data": [
        {
         "line": {
          "color": "orange"
         },
         "mode": "lines",
         "name": "Dish washer  (Flexible)",
         "type": "scatter",
         "x": [
          0,
          1,
          2,
          3,
          4,
          5,
          6,
          7,
          8,
          9,
          10,
          11,
          12,
          13,
          14,
          15,
          16,
          17,
          18,
          19,
          20,
          21,
          22,
          23
         ],
         "y": [
          0.017531876138433516,
          0.017531876138433516,
          0.017531876138433516,
          0.017531876138433516,
          0.017531876138433516,
          0.017531876138433516,
          0.017531876138433516,
          0.017531876138433516,
          0.017531876138433516,
          0.017531876138433516,
          0.017531876138433516,
          0.017531876138433516,
          0.017531876138433516,
          0.017531876138433516,
          0.017531876138433516,
          0.017531876138433516,
          0.017531876138433516,
          0.017531876138433516,
          0.017531876138433516,
          0.017531876138433516,
          0.017531876138433516,
          0.017531876138433516,
          0.017531876138433516,
          0.017531876138433516
         ]
        },
        {
         "line": {
          "color": "orange"
         },
         "mode": "lines",
         "name": "Electric oven  (Flexible)",
         "type": "scatter",
         "x": [
          0,
          1,
          2,
          3,
          4,
          5,
          6,
          7,
          8,
          9,
          10,
          11,
          12,
          13,
          14,
          15,
          16,
          17,
          18,
          19,
          20,
          21,
          22,
          23
         ],
         "y": [
          0.016621129326047358,
          0.016621129326047358,
          0.016621129326047358,
          0.016621129326047358,
          0.016621129326047358,
          0.016621129326047358,
          0.016621129326047358,
          0.016621129326047358,
          0.016621129326047358,
          0.016621129326047358,
          0.016621129326047358,
          0.016621129326047358,
          0.016621129326047358,
          0.016621129326047358,
          0.016621129326047358,
          0.016621129326047358,
          0.016621129326047358,
          0.016621129326047358,
          0.016621129326047358,
          0.016621129326047358,
          0.016621129326047358,
          0.016621129326047358,
          0.016621129326047358,
          0.016621129326047358
         ]
        },
        {
         "line": {
          "color": "orange"
         },
         "mode": "lines",
         "name": "Electric Cooker  (Flexible)",
         "type": "scatter",
         "x": [
          0,
          1,
          2,
          3,
          4,
          5,
          6,
          7,
          8,
          9,
          10,
          11,
          12,
          13,
          14,
          15,
          16,
          17,
          18,
          19,
          20,
          21,
          22,
          23
         ],
         "y": [
          0.018101092896174863,
          0.018101092896174863,
          0.018101092896174863,
          0.018101092896174863,
          0.018101092896174863,
          0.018101092896174863,
          0.018101092896174863,
          0.018101092896174863,
          0.018101092896174863,
          0.018101092896174863,
          0.018101092896174863,
          0.018101092896174863,
          0.018101092896174863,
          0.018101092896174863,
          0.018101092896174863,
          0.018101092896174863,
          0.018101092896174863,
          0.018101092896174863,
          0.018101092896174863,
          0.018101092896174863,
          0.018101092896174863,
          0.018101092896174863,
          0.018101092896174863,
          0.018101092896174863
         ]
        },
        {
         "line": {
          "color": "orange"
         },
         "mode": "lines",
         "name": "Microwave oven  (Flexible)",
         "type": "scatter",
         "x": [
          0,
          1,
          2,
          3,
          4,
          5,
          6,
          7,
          8,
          9,
          10,
          11,
          12,
          13,
          14,
          15,
          16,
          17,
          18,
          19,
          20,
          21,
          22,
          23
         ],
         "y": [
          0.004439890710382513,
          0.004439890710382513,
          0.004439890710382513,
          0.004439890710382513,
          0.004439890710382513,
          0.004439890710382513,
          0.004439890710382513,
          0.004439890710382513,
          0.004439890710382513,
          0.004439890710382513,
          0.004439890710382513,
          0.004439890710382513,
          0.004439890710382513,
          0.004439890710382513,
          0.004439890710382513,
          0.004439890710382513,
          0.004439890710382513,
          0.004439890710382513,
          0.004439890710382513,
          0.004439890710382513,
          0.004439890710382513,
          0.004439890710382513,
          0.004439890710382513,
          0.004439890710382513
         ]
        },
        {
         "line": {
          "color": "orange"
         },
         "mode": "lines",
         "name": "TV  (Flexible)",
         "type": "scatter",
         "x": [
          0,
          1,
          2,
          3,
          4,
          5,
          6,
          7,
          8,
          9,
          10,
          11,
          12,
          13,
          14,
          15,
          16,
          17,
          18,
          19,
          20,
          21,
          22,
          23
         ],
         "y": [
          0.01855646630236794,
          0.01855646630236794,
          0.01855646630236794,
          0.01855646630236794,
          0.01855646630236794,
          0.01855646630236794,
          0.01855646630236794,
          0.01855646630236794,
          0.01855646630236794,
          0.01855646630236794,
          0.01855646630236794,
          0.01855646630236794,
          0.01855646630236794,
          0.01855646630236794,
          0.01855646630236794,
          0.01855646630236794,
          0.01855646630236794,
          0.01855646630236794,
          0.01855646630236794,
          0.01855646630236794,
          0.01855646630236794,
          0.01855646630236794,
          0.01855646630236794,
          0.01855646630236794
         ]
        },
        {
         "line": {
          "color": "orange"
         },
         "mode": "lines",
         "name": "Hot plate  (Flexible)",
         "type": "scatter",
         "x": [
          0,
          1,
          2,
          3,
          4,
          5,
          6,
          7,
          8,
          9,
          10,
          11,
          12,
          13,
          14,
          15,
          16,
          17,
          18,
          19,
          20,
          21,
          22,
          23
         ],
         "y": [
          0.018101092896174863,
          0.018101092896174863,
          0.018101092896174863,
          0.018101092896174863,
          0.018101092896174863,
          0.018101092896174863,
          0.018101092896174863,
          0.018101092896174863,
          0.018101092896174863,
          0.018101092896174863,
          0.018101092896174863,
          0.018101092896174863,
          0.018101092896174863,
          0.018101092896174863,
          0.018101092896174863,
          0.018101092896174863,
          0.018101092896174863,
          0.018101092896174863,
          0.018101092896174863,
          0.018101092896174863,
          0.018101092896174863,
          0.018101092896174863,
          0.018101092896174863,
          0.018101092896174863
         ]
        },
        {
         "line": {
          "color": "orange"
         },
         "mode": "lines",
         "name": "Washing machine  (Flexible)",
         "type": "scatter",
         "x": [
          0,
          1,
          2,
          3,
          4,
          5,
          6,
          7,
          8,
          9,
          10,
          11,
          12,
          13,
          14,
          15,
          16,
          17,
          18,
          19,
          20,
          21,
          22,
          23
         ],
         "y": [
          0.011384335154826957,
          0.011384335154826957,
          0.011384335154826957,
          0.011384335154826957,
          0.011384335154826957,
          0.011384335154826957,
          0.011384335154826957,
          0.011384335154826957,
          0.011384335154826957,
          0.011384335154826957,
          0.011384335154826957,
          0.011384335154826957,
          0.011384335154826957,
          0.011384335154826957,
          0.011384335154826957,
          0.011384335154826957,
          0.011384335154826957,
          0.011384335154826957,
          0.011384335154826957,
          0.011384335154826957,
          0.011384335154826957,
          0.011384335154826957,
          0.011384335154826957,
          0.011384335154826957
         ]
        },
        {
         "line": {
          "color": "orange"
         },
         "mode": "lines",
         "name": "Clothes drier  (Flexible)",
         "type": "scatter",
         "x": [
          0,
          1,
          2,
          3,
          4,
          5,
          6,
          7,
          8,
          9,
          10,
          11,
          12,
          13,
          14,
          15,
          16,
          17,
          18,
          19,
          20,
          21,
          22,
          23
         ],
         "y": [
          0.031876138433515486,
          0.031876138433515486,
          0.031876138433515486,
          0.031876138433515486,
          0.031876138433515486,
          0.031876138433515486,
          0.031876138433515486,
          0.031876138433515486,
          0.031876138433515486,
          0.031876138433515486,
          0.031876138433515486,
          0.031876138433515486,
          0.031876138433515486,
          0.031876138433515486,
          0.031876138433515486,
          0.031876138433515486,
          0.031876138433515486,
          0.031876138433515486,
          0.031876138433515486,
          0.031876138433515486,
          0.031876138433515486,
          0.031876138433515486,
          0.031876138433515486,
          0.031876138433515486
         ]
        },
        {
         "line": {
          "color": "orange"
         },
         "mode": "lines",
         "name": "Electric heating  (Flexible)",
         "type": "scatter",
         "x": [
          0,
          1,
          2,
          3,
          4,
          5,
          6,
          7,
          8,
          9,
          10,
          11,
          12,
          13,
          14,
          15,
          16,
          17,
          18,
          19,
          20,
          21,
          22,
          23
         ],
         "y": [
          0.19581056466302368,
          0.19581056466302368,
          0.19581056466302368,
          0.19581056466302368,
          0.19581056466302368,
          0.19581056466302368,
          0.19581056466302368,
          0.19581056466302368,
          0.19581056466302368,
          0.19581056466302368,
          0.19581056466302368,
          0.19581056466302368,
          0.19581056466302368,
          0.19581056466302368,
          0.19581056466302368,
          0.19581056466302368,
          0.19581056466302368,
          0.19581056466302368,
          0.19581056466302368,
          0.19581056466302368,
          0.19581056466302368,
          0.19581056466302368,
          0.19581056466302368,
          0.19581056466302368
         ]
        },
        {
         "line": {
          "color": "orange"
         },
         "mode": "lines",
         "name": "Water heater  (Flexible)",
         "type": "scatter",
         "x": [
          0,
          1,
          2,
          3,
          4,
          5,
          6,
          7,
          8,
          9,
          10,
          11,
          12,
          13,
          14,
          15,
          16,
          17,
          18,
          19,
          20,
          21,
          22,
          23
         ],
         "y": [
          0.19080145719489983,
          0.19080145719489983,
          0.19080145719489983,
          0.19080145719489983,
          0.19080145719489983,
          0.19080145719489983,
          0.19080145719489983,
          0.19080145719489983,
          0.19080145719489983,
          0.19080145719489983,
          0.19080145719489983,
          0.19080145719489983,
          0.19080145719489983,
          0.19080145719489983,
          0.19080145719489983,
          0.19080145719489983,
          0.19080145719489983,
          0.19080145719489983,
          0.19080145719489983,
          0.19080145719489983,
          0.19080145719489983,
          0.19080145719489983,
          0.19080145719489983,
          0.19080145719489983
         ]
        },
        {
         "line": {
          "color": "orange"
         },
         "mode": "lines",
         "name": "Non halogen lamp  (Flexible)",
         "type": "scatter",
         "x": [
          0,
          1,
          2,
          3,
          4,
          5,
          6,
          7,
          8,
          9,
          10,
          11,
          12,
          13,
          14,
          15,
          16,
          17,
          18,
          19,
          20,
          21,
          22,
          23
         ],
         "y": [
          0.015255009107468125,
          0.015255009107468125,
          0.015255009107468125,
          0.015255009107468125,
          0.015255009107468125,
          0.015255009107468125,
          0.015255009107468125,
          0.015255009107468125,
          0.015255009107468125,
          0.015255009107468125,
          0.015255009107468125,
          0.015255009107468125,
          0.015255009107468125,
          0.015255009107468125,
          0.015255009107468125,
          0.015255009107468125,
          0.015255009107468125,
          0.015255009107468125,
          0.015255009107468125,
          0.015255009107468125,
          0.015255009107468125,
          0.015255009107468125,
          0.015255009107468125,
          0.015255009107468125
         ]
        },
        {
         "line": {
          "color": "orange"
         },
         "mode": "lines",
         "name": "Power supply for fuel boiler (Flexible)",
         "type": "scatter",
         "x": [
          0,
          1,
          2,
          3,
          4,
          5,
          6,
          7,
          8,
          9,
          10,
          11,
          12,
          13,
          14,
          15,
          16,
          17,
          18,
          19,
          20,
          21,
          22,
          23
         ],
         "y": [
          0.041325136612021855,
          0.041325136612021855,
          0.041325136612021855,
          0.041325136612021855,
          0.041325136612021855,
          0.041325136612021855,
          0.041325136612021855,
          0.041325136612021855,
          0.041325136612021855,
          0.041325136612021855,
          0.041325136612021855,
          0.041325136612021855,
          0.041325136612021855,
          0.041325136612021855,
          0.041325136612021855,
          0.041325136612021855,
          0.041325136612021855,
          0.041325136612021855,
          0.041325136612021855,
          0.041325136612021855,
          0.041325136612021855,
          0.041325136612021855,
          0.041325136612021855,
          0.041325136612021855
         ]
        },
        {
         "line": {
          "color": "orange"
         },
         "mode": "lines",
         "name": "Computer site  (Flexible)",
         "type": "scatter",
         "x": [
          0,
          1,
          2,
          3,
          4,
          5,
          6,
          7,
          8,
          9,
          10,
          11,
          12,
          13,
          14,
          15,
          16,
          17,
          18,
          19,
          20,
          21,
          22,
          23
         ],
         "y": [
          0.014116575591985429,
          0.014116575591985429,
          0.014116575591985429,
          0.014116575591985429,
          0.014116575591985429,
          0.014116575591985429,
          0.014116575591985429,
          0.014116575591985429,
          0.014116575591985429,
          0.014116575591985429,
          0.014116575591985429,
          0.014116575591985429,
          0.014116575591985429,
          0.014116575591985429,
          0.014116575591985429,
          0.014116575591985429,
          0.014116575591985429,
          0.014116575591985429,
          0.014116575591985429,
          0.014116575591985429,
          0.014116575591985429,
          0.014116575591985429,
          0.014116575591985429,
          0.014116575591985429
         ]
        },
        {
         "line": {
          "color": "orange"
         },
         "mode": "lines",
         "name": "Power supply for wood boiler (Flexible)",
         "type": "scatter",
         "x": [
          0,
          1,
          2,
          3,
          4,
          5,
          6,
          7,
          8,
          9,
          10,
          11,
          12,
          13,
          14,
          15,
          16,
          17,
          18,
          19,
          20,
          21,
          22,
          23
         ],
         "y": [
          0.01366120218579235,
          0.01366120218579235,
          0.01366120218579235,
          0.01366120218579235,
          0.01366120218579235,
          0.01366120218579235,
          0.01366120218579235,
          0.01366120218579235,
          0.01366120218579235,
          0.01366120218579235,
          0.01366120218579235,
          0.01366120218579235,
          0.01366120218579235,
          0.01366120218579235,
          0.01366120218579235,
          0.01366120218579235,
          0.01366120218579235,
          0.01366120218579235,
          0.01366120218579235,
          0.01366120218579235,
          0.01366120218579235,
          0.01366120218579235,
          0.01366120218579235,
          0.01366120218579235
         ]
        },
        {
         "line": {
          "color": "orange"
         },
         "mode": "lines",
         "name": "Heat pump  (Flexible)",
         "type": "scatter",
         "x": [
          0,
          1,
          2,
          3,
          4,
          5,
          6,
          7,
          8,
          9,
          10,
          11,
          12,
          13,
          14,
          15,
          16,
          17,
          18,
          19,
          20,
          21,
          22,
          23
         ],
         "y": [
          0.5122950819672131,
          0.5122950819672131,
          0.5122950819672131,
          0.5122950819672131,
          0.5122950819672131,
          0.5122950819672131,
          0.5122950819672131,
          0.5122950819672131,
          0.5122950819672131,
          0.5122950819672131,
          0.5122950819672131,
          0.5122950819672131,
          0.5122950819672131,
          0.5122950819672131,
          0.5122950819672131,
          0.5122950819672131,
          0.5122950819672131,
          0.5122950819672131,
          0.5122950819672131,
          0.5122950819672131,
          0.5122950819672131,
          0.5122950819672131,
          0.5122950819672131,
          0.5122950819672131
         ]
        },
        {
         "line": {
          "color": "orange"
         },
         "mode": "lines",
         "name": "Washing machine+clothes drier  (Flexible)",
         "type": "scatter",
         "x": [
          0,
          1,
          2,
          3,
          4,
          5,
          6,
          7,
          8,
          9,
          10,
          11,
          12,
          13,
          14,
          15,
          16,
          17,
          18,
          19,
          20,
          21,
          22,
          23
         ],
         "y": [
          0.04382969034608379,
          0.04382969034608379,
          0.04382969034608379,
          0.04382969034608379,
          0.04382969034608379,
          0.04382969034608379,
          0.04382969034608379,
          0.04382969034608379,
          0.04382969034608379,
          0.04382969034608379,
          0.04382969034608379,
          0.04382969034608379,
          0.04382969034608379,
          0.04382969034608379,
          0.04382969034608379,
          0.04382969034608379,
          0.04382969034608379,
          0.04382969034608379,
          0.04382969034608379,
          0.04382969034608379,
          0.04382969034608379,
          0.04382969034608379,
          0.04382969034608379,
          0.04382969034608379
         ]
        },
        {
         "line": {
          "color": "orange"
         },
         "mode": "lines",
         "name": "Power supply for gas boiler (Flexible)",
         "type": "scatter",
         "x": [
          0,
          1,
          2,
          3,
          4,
          5,
          6,
          7,
          8,
          9,
          10,
          11,
          12,
          13,
          14,
          15,
          16,
          17,
          18,
          19,
          20,
          21,
          22,
          23
         ],
         "y": [
          0.04269125683060109,
          0.04269125683060109,
          0.04269125683060109,
          0.04269125683060109,
          0.04269125683060109,
          0.04269125683060109,
          0.04269125683060109,
          0.04269125683060109,
          0.04269125683060109,
          0.04269125683060109,
          0.04269125683060109,
          0.04269125683060109,
          0.04269125683060109,
          0.04269125683060109,
          0.04269125683060109,
          0.04269125683060109,
          0.04269125683060109,
          0.04269125683060109,
          0.04269125683060109,
          0.04269125683060109,
          0.04269125683060109,
          0.04269125683060109,
          0.04269125683060109,
          0.04269125683060109
         ]
        },
        {
         "line": {
          "color": "orange"
         },
         "mode": "lines",
         "name": "Electric deep frier  (Flexible)",
         "type": "scatter",
         "x": [
          0,
          1,
          2,
          3,
          4,
          5,
          6,
          7,
          8,
          9,
          10,
          11,
          12,
          13,
          14,
          15,
          16,
          17,
          18,
          19,
          20,
          21,
          22,
          23
         ],
         "y": [
          0.018101092896174863,
          0.018101092896174863,
          0.018101092896174863,
          0.018101092896174863,
          0.018101092896174863,
          0.018101092896174863,
          0.018101092896174863,
          0.018101092896174863,
          0.018101092896174863,
          0.018101092896174863,
          0.018101092896174863,
          0.018101092896174863,
          0.018101092896174863,
          0.018101092896174863,
          0.018101092896174863,
          0.018101092896174863,
          0.018101092896174863,
          0.018101092896174863,
          0.018101092896174863,
          0.018101092896174863,
          0.018101092896174863,
          0.018101092896174863,
          0.018101092896174863,
          0.018101092896174863
         ]
        },
        {
         "line": {
          "color": "orange"
         },
         "mode": "lines",
         "name": "Heat pump water heater  (Flexible)",
         "type": "scatter",
         "x": [
          0,
          1,
          2,
          3,
          4,
          5,
          6,
          7,
          8,
          9,
          10,
          11,
          12,
          13,
          14,
          15,
          16,
          17,
          18,
          19,
          20,
          21,
          22,
          23
         ],
         "y": [
          0.26183970856102,
          0.26183970856102,
          0.26183970856102,
          0.26183970856102,
          0.26183970856102,
          0.26183970856102,
          0.26183970856102,
          0.26183970856102,
          0.26183970856102,
          0.26183970856102,
          0.26183970856102,
          0.26183970856102,
          0.26183970856102,
          0.26183970856102,
          0.26183970856102,
          0.26183970856102,
          0.26183970856102,
          0.26183970856102,
          0.26183970856102,
          0.26183970856102,
          0.26183970856102,
          0.26183970856102,
          0.26183970856102,
          0.26183970856102
         ]
        },
        {
         "line": {
          "color": "orange"
         },
         "mode": "lines",
         "name": "Power supply for wall boiler (Flexible)",
         "type": "scatter",
         "x": [
          0,
          1,
          2,
          3,
          4,
          5,
          6,
          7,
          8,
          9,
          10,
          11,
          12,
          13,
          14,
          15,
          16,
          17,
          18,
          19,
          20,
          21,
          22,
          23
         ],
         "y": [
          0.01366120218579235,
          0.01366120218579235,
          0.01366120218579235,
          0.01366120218579235,
          0.01366120218579235,
          0.01366120218579235,
          0.01366120218579235,
          0.01366120218579235,
          0.01366120218579235,
          0.01366120218579235,
          0.01366120218579235,
          0.01366120218579235,
          0.01366120218579235,
          0.01366120218579235,
          0.01366120218579235,
          0.01366120218579235,
          0.01366120218579235,
          0.01366120218579235,
          0.01366120218579235,
          0.01366120218579235,
          0.01366120218579235,
          0.01366120218579235,
          0.01366120218579235,
          0.01366120218579235
         ]
        },
        {
         "line": {
          "color": "blue"
         },
         "mode": "lines",
         "name": "Chest freezer  (Not Flexible)",
         "type": "scatter",
         "x": [
          0,
          1,
          2,
          3,
          4,
          5,
          6,
          7,
          8,
          9,
          10,
          11,
          12,
          13,
          14,
          15,
          16,
          17,
          18,
          19,
          20,
          21,
          22,
          23
         ],
         "y": [
          0.033697632058287796,
          0.033697632058287796,
          0.033697632058287796,
          0.033697632058287796,
          0.033697632058287796,
          0.033697632058287796,
          0.033697632058287796,
          0.033697632058287796,
          0.033697632058287796,
          0.033697632058287796,
          0.033697632058287796,
          0.033697632058287796,
          0.033697632058287796,
          0.033697632058287796,
          0.033697632058287796,
          0.033697632058287796,
          0.033697632058287796,
          0.033697632058287796,
          0.033697632058287796,
          0.033697632058287796,
          0.033697632058287796,
          0.033697632058287796,
          0.033697632058287796,
          0.033697632058287796
         ]
        },
        {
         "line": {
          "color": "blue"
         },
         "mode": "lines",
         "name": "Fridge freezer  (Not Flexible)",
         "type": "scatter",
         "x": [
          0,
          1,
          2,
          3,
          4,
          5,
          6,
          7,
          8,
          9,
          10,
          11,
          12,
          13,
          14,
          15,
          16,
          17,
          18,
          19,
          20,
          21,
          22,
          23
         ],
         "y": [
          0.033697632058287796,
          0.033697632058287796,
          0.033697632058287796,
          0.033697632058287796,
          0.033697632058287796,
          0.033697632058287796,
          0.033697632058287796,
          0.033697632058287796,
          0.033697632058287796,
          0.033697632058287796,
          0.033697632058287796,
          0.033697632058287796,
          0.033697632058287796,
          0.033697632058287796,
          0.033697632058287796,
          0.033697632058287796,
          0.033697632058287796,
          0.033697632058287796,
          0.033697632058287796,
          0.033697632058287796,
          0.033697632058287796,
          0.033697632058287796,
          0.033697632058287796,
          0.033697632058287796
         ]
        },
        {
         "line": {
          "color": "blue"
         },
         "mode": "lines",
         "name": "Vertical freezer  (Not Flexible)",
         "type": "scatter",
         "x": [
          0,
          1,
          2,
          3,
          4,
          5,
          6,
          7,
          8,
          9,
          10,
          11,
          12,
          13,
          14,
          15,
          16,
          17,
          18,
          19,
          20,
          21,
          22,
          23
         ],
         "y": [
          0.033697632058287796,
          0.033697632058287796,
          0.033697632058287796,
          0.033697632058287796,
          0.033697632058287796,
          0.033697632058287796,
          0.033697632058287796,
          0.033697632058287796,
          0.033697632058287796,
          0.033697632058287796,
          0.033697632058287796,
          0.033697632058287796,
          0.033697632058287796,
          0.033697632058287796,
          0.033697632058287796,
          0.033697632058287796,
          0.033697632058287796,
          0.033697632058287796,
          0.033697632058287796,
          0.033697632058287796,
          0.033697632058287796,
          0.033697632058287796,
          0.033697632058287796,
          0.033697632058287796
         ]
        },
        {
         "line": {
          "color": "blue"
         },
         "mode": "lines",
         "name": "Fridge  (Not Flexible)",
         "type": "scatter",
         "x": [
          0,
          1,
          2,
          3,
          4,
          5,
          6,
          7,
          8,
          9,
          10,
          11,
          12,
          13,
          14,
          15,
          16,
          17,
          18,
          19,
          20,
          21,
          22,
          23
         ],
         "y": [
          0.03938979963570127,
          0.03938979963570127,
          0.03938979963570127,
          0.03938979963570127,
          0.03938979963570127,
          0.03938979963570127,
          0.03938979963570127,
          0.03938979963570127,
          0.03938979963570127,
          0.03938979963570127,
          0.03938979963570127,
          0.03938979963570127,
          0.03938979963570127,
          0.03938979963570127,
          0.03938979963570127,
          0.03938979963570127,
          0.03938979963570127,
          0.03938979963570127,
          0.03938979963570127,
          0.03938979963570127,
          0.03938979963570127,
          0.03938979963570127,
          0.03938979963570127,
          0.03938979963570127
         ]
        },
        {
         "line": {
          "color": "blue"
         },
         "mode": "lines",
         "name": "Halogen lamp  (Not Flexible)",
         "type": "scatter",
         "x": [
          0,
          1,
          2,
          3,
          4,
          5,
          6,
          7,
          8,
          9,
          10,
          11,
          12,
          13,
          14,
          15,
          16,
          17,
          18,
          19,
          20,
          21,
          22,
          23
         ],
         "y": [
          0.015255009107468125,
          0.015255009107468125,
          0.015255009107468125,
          0.015255009107468125,
          0.015255009107468125,
          0.015255009107468125,
          0.015255009107468125,
          0.015255009107468125,
          0.015255009107468125,
          0.015255009107468125,
          0.015255009107468125,
          0.015255009107468125,
          0.015255009107468125,
          0.015255009107468125,
          0.015255009107468125,
          0.015255009107468125,
          0.015255009107468125,
          0.015255009107468125,
          0.015255009107468125,
          0.015255009107468125,
          0.015255009107468125,
          0.015255009107468125,
          0.015255009107468125,
          0.015255009107468125
         ]
        },
        {
         "line": {
          "color": "blue"
         },
         "mode": "lines",
         "name": "Aquarium  (Not Flexible)",
         "type": "scatter",
         "x": [
          0,
          1,
          2,
          3,
          4,
          5,
          6,
          7,
          8,
          9,
          10,
          11,
          12,
          13,
          14,
          15,
          16,
          17,
          18,
          19,
          20,
          21,
          22,
          23
         ],
         "y": [
          0.022768670309653915,
          0.022768670309653915,
          0.022768670309653915,
          0.022768670309653915,
          0.022768670309653915,
          0.022768670309653915,
          0.022768670309653915,
          0.022768670309653915,
          0.022768670309653915,
          0.022768670309653915,
          0.022768670309653915,
          0.022768670309653915,
          0.022768670309653915,
          0.022768670309653915,
          0.022768670309653915,
          0.022768670309653915,
          0.022768670309653915,
          0.022768670309653915,
          0.022768670309653915,
          0.022768670309653915,
          0.022768670309653915,
          0.022768670309653915,
          0.022768670309653915,
          0.022768670309653915
         ]
        },
        {
         "line": {
          "color": "blue"
         },
         "mode": "lines",
         "name": "Water pump  (Not Flexible)",
         "type": "scatter",
         "x": [
          0,
          1,
          2,
          3,
          4,
          5,
          6,
          7,
          8,
          9,
          10,
          11,
          12,
          13,
          14,
          15,
          16,
          17,
          18,
          19,
          20,
          21,
          22,
          23
         ],
         "y": [
          0.01707650273224044,
          0.01707650273224044,
          0.01707650273224044,
          0.01707650273224044,
          0.01707650273224044,
          0.01707650273224044,
          0.01707650273224044,
          0.01707650273224044,
          0.01707650273224044,
          0.01707650273224044,
          0.01707650273224044,
          0.01707650273224044,
          0.01707650273224044,
          0.01707650273224044,
          0.01707650273224044,
          0.01707650273224044,
          0.01707650273224044,
          0.01707650273224044,
          0.01707650273224044,
          0.01707650273224044,
          0.01707650273224044,
          0.01707650273224044,
          0.01707650273224044,
          0.01707650273224044
         ]
        },
        {
         "line": {
          "color": "blue"
         },
         "mode": "lines",
         "name": "No-frost fridge  (Not Flexible)",
         "type": "scatter",
         "x": [
          0,
          1,
          2,
          3,
          4,
          5,
          6,
          7,
          8,
          9,
          10,
          11,
          12,
          13,
          14,
          15,
          16,
          17,
          18,
          19,
          20,
          21,
          22,
          23
         ],
         "y": [
          0.02117486338797814,
          0.02117486338797814,
          0.02117486338797814,
          0.02117486338797814,
          0.02117486338797814,
          0.02117486338797814,
          0.02117486338797814,
          0.02117486338797814,
          0.02117486338797814,
          0.02117486338797814,
          0.02117486338797814,
          0.02117486338797814,
          0.02117486338797814,
          0.02117486338797814,
          0.02117486338797814,
          0.02117486338797814,
          0.02117486338797814,
          0.02117486338797814,
          0.02117486338797814,
          0.02117486338797814,
          0.02117486338797814,
          0.02117486338797814,
          0.02117486338797814,
          0.02117486338797814
         ]
        }
       ],
       "layout": {
        "showlegend": true,
        "template": {
         "data": {
          "bar": [
           {
            "error_x": {
             "color": "#2a3f5f"
            },
            "error_y": {
             "color": "#2a3f5f"
            },
            "marker": {
             "line": {
              "color": "#E5ECF6",
              "width": 0.5
             },
             "pattern": {
              "fillmode": "overlay",
              "size": 10,
              "solidity": 0.2
             }
            },
            "type": "bar"
           }
          ],
          "barpolar": [
           {
            "marker": {
             "line": {
              "color": "#E5ECF6",
              "width": 0.5
             },
             "pattern": {
              "fillmode": "overlay",
              "size": 10,
              "solidity": 0.2
             }
            },
            "type": "barpolar"
           }
          ],
          "carpet": [
           {
            "aaxis": {
             "endlinecolor": "#2a3f5f",
             "gridcolor": "white",
             "linecolor": "white",
             "minorgridcolor": "white",
             "startlinecolor": "#2a3f5f"
            },
            "baxis": {
             "endlinecolor": "#2a3f5f",
             "gridcolor": "white",
             "linecolor": "white",
             "minorgridcolor": "white",
             "startlinecolor": "#2a3f5f"
            },
            "type": "carpet"
           }
          ],
          "choropleth": [
           {
            "colorbar": {
             "outlinewidth": 0,
             "ticks": ""
            },
            "type": "choropleth"
           }
          ],
          "contour": [
           {
            "colorbar": {
             "outlinewidth": 0,
             "ticks": ""
            },
            "colorscale": [
             [
              0,
              "#0d0887"
             ],
             [
              0.1111111111111111,
              "#46039f"
             ],
             [
              0.2222222222222222,
              "#7201a8"
             ],
             [
              0.3333333333333333,
              "#9c179e"
             ],
             [
              0.4444444444444444,
              "#bd3786"
             ],
             [
              0.5555555555555556,
              "#d8576b"
             ],
             [
              0.6666666666666666,
              "#ed7953"
             ],
             [
              0.7777777777777778,
              "#fb9f3a"
             ],
             [
              0.8888888888888888,
              "#fdca26"
             ],
             [
              1,
              "#f0f921"
             ]
            ],
            "type": "contour"
           }
          ],
          "contourcarpet": [
           {
            "colorbar": {
             "outlinewidth": 0,
             "ticks": ""
            },
            "type": "contourcarpet"
           }
          ],
          "heatmap": [
           {
            "colorbar": {
             "outlinewidth": 0,
             "ticks": ""
            },
            "colorscale": [
             [
              0,
              "#0d0887"
             ],
             [
              0.1111111111111111,
              "#46039f"
             ],
             [
              0.2222222222222222,
              "#7201a8"
             ],
             [
              0.3333333333333333,
              "#9c179e"
             ],
             [
              0.4444444444444444,
              "#bd3786"
             ],
             [
              0.5555555555555556,
              "#d8576b"
             ],
             [
              0.6666666666666666,
              "#ed7953"
             ],
             [
              0.7777777777777778,
              "#fb9f3a"
             ],
             [
              0.8888888888888888,
              "#fdca26"
             ],
             [
              1,
              "#f0f921"
             ]
            ],
            "type": "heatmap"
           }
          ],
          "heatmapgl": [
           {
            "colorbar": {
             "outlinewidth": 0,
             "ticks": ""
            },
            "colorscale": [
             [
              0,
              "#0d0887"
             ],
             [
              0.1111111111111111,
              "#46039f"
             ],
             [
              0.2222222222222222,
              "#7201a8"
             ],
             [
              0.3333333333333333,
              "#9c179e"
             ],
             [
              0.4444444444444444,
              "#bd3786"
             ],
             [
              0.5555555555555556,
              "#d8576b"
             ],
             [
              0.6666666666666666,
              "#ed7953"
             ],
             [
              0.7777777777777778,
              "#fb9f3a"
             ],
             [
              0.8888888888888888,
              "#fdca26"
             ],
             [
              1,
              "#f0f921"
             ]
            ],
            "type": "heatmapgl"
           }
          ],
          "histogram": [
           {
            "marker": {
             "pattern": {
              "fillmode": "overlay",
              "size": 10,
              "solidity": 0.2
             }
            },
            "type": "histogram"
           }
          ],
          "histogram2d": [
           {
            "colorbar": {
             "outlinewidth": 0,
             "ticks": ""
            },
            "colorscale": [
             [
              0,
              "#0d0887"
             ],
             [
              0.1111111111111111,
              "#46039f"
             ],
             [
              0.2222222222222222,
              "#7201a8"
             ],
             [
              0.3333333333333333,
              "#9c179e"
             ],
             [
              0.4444444444444444,
              "#bd3786"
             ],
             [
              0.5555555555555556,
              "#d8576b"
             ],
             [
              0.6666666666666666,
              "#ed7953"
             ],
             [
              0.7777777777777778,
              "#fb9f3a"
             ],
             [
              0.8888888888888888,
              "#fdca26"
             ],
             [
              1,
              "#f0f921"
             ]
            ],
            "type": "histogram2d"
           }
          ],
          "histogram2dcontour": [
           {
            "colorbar": {
             "outlinewidth": 0,
             "ticks": ""
            },
            "colorscale": [
             [
              0,
              "#0d0887"
             ],
             [
              0.1111111111111111,
              "#46039f"
             ],
             [
              0.2222222222222222,
              "#7201a8"
             ],
             [
              0.3333333333333333,
              "#9c179e"
             ],
             [
              0.4444444444444444,
              "#bd3786"
             ],
             [
              0.5555555555555556,
              "#d8576b"
             ],
             [
              0.6666666666666666,
              "#ed7953"
             ],
             [
              0.7777777777777778,
              "#fb9f3a"
             ],
             [
              0.8888888888888888,
              "#fdca26"
             ],
             [
              1,
              "#f0f921"
             ]
            ],
            "type": "histogram2dcontour"
           }
          ],
          "mesh3d": [
           {
            "colorbar": {
             "outlinewidth": 0,
             "ticks": ""
            },
            "type": "mesh3d"
           }
          ],
          "parcoords": [
           {
            "line": {
             "colorbar": {
              "outlinewidth": 0,
              "ticks": ""
             }
            },
            "type": "parcoords"
           }
          ],
          "pie": [
           {
            "automargin": true,
            "type": "pie"
           }
          ],
          "scatter": [
           {
            "fillpattern": {
             "fillmode": "overlay",
             "size": 10,
             "solidity": 0.2
            },
            "type": "scatter"
           }
          ],
          "scatter3d": [
           {
            "line": {
             "colorbar": {
              "outlinewidth": 0,
              "ticks": ""
             }
            },
            "marker": {
             "colorbar": {
              "outlinewidth": 0,
              "ticks": ""
             }
            },
            "type": "scatter3d"
           }
          ],
          "scattercarpet": [
           {
            "marker": {
             "colorbar": {
              "outlinewidth": 0,
              "ticks": ""
             }
            },
            "type": "scattercarpet"
           }
          ],
          "scattergeo": [
           {
            "marker": {
             "colorbar": {
              "outlinewidth": 0,
              "ticks": ""
             }
            },
            "type": "scattergeo"
           }
          ],
          "scattergl": [
           {
            "marker": {
             "colorbar": {
              "outlinewidth": 0,
              "ticks": ""
             }
            },
            "type": "scattergl"
           }
          ],
          "scattermapbox": [
           {
            "marker": {
             "colorbar": {
              "outlinewidth": 0,
              "ticks": ""
             }
            },
            "type": "scattermapbox"
           }
          ],
          "scatterpolar": [
           {
            "marker": {
             "colorbar": {
              "outlinewidth": 0,
              "ticks": ""
             }
            },
            "type": "scatterpolar"
           }
          ],
          "scatterpolargl": [
           {
            "marker": {
             "colorbar": {
              "outlinewidth": 0,
              "ticks": ""
             }
            },
            "type": "scatterpolargl"
           }
          ],
          "scatterternary": [
           {
            "marker": {
             "colorbar": {
              "outlinewidth": 0,
              "ticks": ""
             }
            },
            "type": "scatterternary"
           }
          ],
          "surface": [
           {
            "colorbar": {
             "outlinewidth": 0,
             "ticks": ""
            },
            "colorscale": [
             [
              0,
              "#0d0887"
             ],
             [
              0.1111111111111111,
              "#46039f"
             ],
             [
              0.2222222222222222,
              "#7201a8"
             ],
             [
              0.3333333333333333,
              "#9c179e"
             ],
             [
              0.4444444444444444,
              "#bd3786"
             ],
             [
              0.5555555555555556,
              "#d8576b"
             ],
             [
              0.6666666666666666,
              "#ed7953"
             ],
             [
              0.7777777777777778,
              "#fb9f3a"
             ],
             [
              0.8888888888888888,
              "#fdca26"
             ],
             [
              1,
              "#f0f921"
             ]
            ],
            "type": "surface"
           }
          ],
          "table": [
           {
            "cells": {
             "fill": {
              "color": "#EBF0F8"
             },
             "line": {
              "color": "white"
             }
            },
            "header": {
             "fill": {
              "color": "#C8D4E3"
             },
             "line": {
              "color": "white"
             }
            },
            "type": "table"
           }
          ]
         },
         "layout": {
          "annotationdefaults": {
           "arrowcolor": "#2a3f5f",
           "arrowhead": 0,
           "arrowwidth": 1
          },
          "autotypenumbers": "strict",
          "coloraxis": {
           "colorbar": {
            "outlinewidth": 0,
            "ticks": ""
           }
          },
          "colorscale": {
           "diverging": [
            [
             0,
             "#8e0152"
            ],
            [
             0.1,
             "#c51b7d"
            ],
            [
             0.2,
             "#de77ae"
            ],
            [
             0.3,
             "#f1b6da"
            ],
            [
             0.4,
             "#fde0ef"
            ],
            [
             0.5,
             "#f7f7f7"
            ],
            [
             0.6,
             "#e6f5d0"
            ],
            [
             0.7,
             "#b8e186"
            ],
            [
             0.8,
             "#7fbc41"
            ],
            [
             0.9,
             "#4d9221"
            ],
            [
             1,
             "#276419"
            ]
           ],
           "sequential": [
            [
             0,
             "#0d0887"
            ],
            [
             0.1111111111111111,
             "#46039f"
            ],
            [
             0.2222222222222222,
             "#7201a8"
            ],
            [
             0.3333333333333333,
             "#9c179e"
            ],
            [
             0.4444444444444444,
             "#bd3786"
            ],
            [
             0.5555555555555556,
             "#d8576b"
            ],
            [
             0.6666666666666666,
             "#ed7953"
            ],
            [
             0.7777777777777778,
             "#fb9f3a"
            ],
            [
             0.8888888888888888,
             "#fdca26"
            ],
            [
             1,
             "#f0f921"
            ]
           ],
           "sequentialminus": [
            [
             0,
             "#0d0887"
            ],
            [
             0.1111111111111111,
             "#46039f"
            ],
            [
             0.2222222222222222,
             "#7201a8"
            ],
            [
             0.3333333333333333,
             "#9c179e"
            ],
            [
             0.4444444444444444,
             "#bd3786"
            ],
            [
             0.5555555555555556,
             "#d8576b"
            ],
            [
             0.6666666666666666,
             "#ed7953"
            ],
            [
             0.7777777777777778,
             "#fb9f3a"
            ],
            [
             0.8888888888888888,
             "#fdca26"
            ],
            [
             1,
             "#f0f921"
            ]
           ]
          },
          "colorway": [
           "#636efa",
           "#EF553B",
           "#00cc96",
           "#ab63fa",
           "#FFA15A",
           "#19d3f3",
           "#FF6692",
           "#B6E880",
           "#FF97FF",
           "#FECB52"
          ],
          "font": {
           "color": "#2a3f5f"
          },
          "geo": {
           "bgcolor": "white",
           "lakecolor": "white",
           "landcolor": "#E5ECF6",
           "showlakes": true,
           "showland": true,
           "subunitcolor": "white"
          },
          "hoverlabel": {
           "align": "left"
          },
          "hovermode": "closest",
          "mapbox": {
           "style": "light"
          },
          "paper_bgcolor": "white",
          "plot_bgcolor": "#E5ECF6",
          "polar": {
           "angularaxis": {
            "gridcolor": "white",
            "linecolor": "white",
            "ticks": ""
           },
           "bgcolor": "#E5ECF6",
           "radialaxis": {
            "gridcolor": "white",
            "linecolor": "white",
            "ticks": ""
           }
          },
          "scene": {
           "xaxis": {
            "backgroundcolor": "#E5ECF6",
            "gridcolor": "white",
            "gridwidth": 2,
            "linecolor": "white",
            "showbackground": true,
            "ticks": "",
            "zerolinecolor": "white"
           },
           "yaxis": {
            "backgroundcolor": "#E5ECF6",
            "gridcolor": "white",
            "gridwidth": 2,
            "linecolor": "white",
            "showbackground": true,
            "ticks": "",
            "zerolinecolor": "white"
           },
           "zaxis": {
            "backgroundcolor": "#E5ECF6",
            "gridcolor": "white",
            "gridwidth": 2,
            "linecolor": "white",
            "showbackground": true,
            "ticks": "",
            "zerolinecolor": "white"
           }
          },
          "shapedefaults": {
           "line": {
            "color": "#2a3f5f"
           }
          },
          "ternary": {
           "aaxis": {
            "gridcolor": "white",
            "linecolor": "white",
            "ticks": ""
           },
           "baxis": {
            "gridcolor": "white",
            "linecolor": "white",
            "ticks": ""
           },
           "bgcolor": "#E5ECF6",
           "caxis": {
            "gridcolor": "white",
            "linecolor": "white",
            "ticks": ""
           }
          },
          "title": {
           "x": 0.05
          },
          "xaxis": {
           "automargin": true,
           "gridcolor": "white",
           "linecolor": "white",
           "ticks": "",
           "title": {
            "standoff": 15
           },
           "zerolinecolor": "white",
           "zerolinewidth": 2
          },
          "yaxis": {
           "automargin": true,
           "gridcolor": "white",
           "linecolor": "white",
           "ticks": "",
           "title": {
            "standoff": 15
           },
           "zerolinecolor": "white",
           "zerolinewidth": 2
          }
         }
        },
        "title": {
         "text": "Hourly Energy Consumption of Appliances"
        },
        "xaxis": {
         "tickmode": "linear",
         "tickvals": [
          0,
          1,
          2,
          3,
          4,
          5,
          6,
          7,
          8,
          9,
          10,
          11,
          12,
          13,
          14,
          15,
          16,
          17,
          18,
          19,
          20,
          21,
          22,
          23
         ],
         "title": {
          "text": "Hour of the Day"
         }
        },
        "yaxis": {
         "range": [
          0,
          0.5635245901639344
         ],
         "title": {
          "text": "Energy Consumption (kWh)"
         }
        }
       }
      }
     },
     "metadata": {},
     "output_type": "display_data"
    }
   ],
   "source": [
    "import pandas as pd\n",
    "import plotly.graph_objects as go\n",
    "\n",
    "# Define the file path\n",
    "file_path = r'D:\\Grenoble_university\\6_month_internship\\working space\\data\\column_titles_with add info.xlsx'\n",
    "\n",
    "# Read the Excel file without specifying columns to inspect the column names\n",
    "df_full = pd.read_excel(file_path)\n",
    "\n",
    "# Trim extra spaces from the column names\n",
    "df_full.columns = df_full.columns.str.strip()\n",
    "\n",
    "# Define the corrected column names\n",
    "required_columns = ['Appliance', 'Flexibility', 'tipical power', 'typical annual energy [kwh/yr]']\n",
    "\n",
    "# Select the required columns\n",
    "df = df_full[required_columns]\n",
    "\n",
    "# Calculate average hourly consumption for each appliance\n",
    "df['hourly consumption'] = df['typical annual energy [kwh/yr]'] / (366 * 24)\n",
    "\n",
    "# Separate the data into flexible and not flexible\n",
    "flexible_df = df[df['Flexibility'] == 'flexible']\n",
    "not_flexible_df = df[df['Flexibility'] == 'not_flexible']\n",
    "\n",
    "# Create a figure\n",
    "fig = go.Figure()\n",
    "\n",
    "# Add lines for flexible consumption\n",
    "for index, row in flexible_df.iterrows():\n",
    "    fig.add_trace(go.Scatter(\n",
    "        x=list(range(24)),\n",
    "        y=[row['hourly consumption']]*24,\n",
    "        mode='lines',\n",
    "        name=row['Appliance'] + ' (Flexible)',\n",
    "        line=dict(color='orange')\n",
    "    ))\n",
    "\n",
    "# Add lines for not flexible consumption\n",
    "for index, row in not_flexible_df.iterrows():\n",
    "    fig.add_trace(go.Scatter(\n",
    "        x=list(range(24)),\n",
    "        y=[row['hourly consumption']]*24,\n",
    "        mode='lines',\n",
    "        name=row['Appliance'] + ' (Not Flexible)',\n",
    "        line=dict(color='blue')\n",
    "    ))\n",
    "\n",
    "# Update layout\n",
    "fig.update_layout(\n",
    "    title='Hourly Energy Consumption of Appliances',\n",
    "    xaxis_title='Hour of the Day',\n",
    "    yaxis_title='Energy Consumption (kWh)',\n",
    "    xaxis=dict(tickmode='linear', tickvals=list(range(24))),\n",
    "    yaxis=dict(range=[0, max(df['hourly consumption']) * 1.1]),  # Set y-axis range to accommodate all consumption values\n",
    "    showlegend=True\n",
    ")\n",
    "\n",
    "# Show the figure\n",
    "fig.show()\n"
   ]
  },
  {
   "cell_type": "code",
   "execution_count": 9,
   "metadata": {},
   "outputs": [
    {
     "name": "stdout",
     "output_type": "stream",
     "text": [
      "Processing sheet 2000900\n",
      "Found matching appliance: Fridge\n",
      "Fridge  is not flexible with annual energy consumption: 145.53253424657535 kWh\n",
      "Found matching appliance: Halogen lamp\n",
      "Halogen lamp  is not flexible with annual energy consumption: 92.66362252663623 kWh\n",
      "Found matching appliance: Power supply for wood boiler\n",
      "Power supply for wood boiler is flexible with annual energy consumption: 201.5085616438356 kWh\n",
      "Found matching appliance: Vertical freezer\n",
      "Vertical freezer  is not flexible with annual energy consumption: 126.13089802130898 kWh\n",
      "Found matching appliance: Washing machine\n",
      "Washing machine  is flexible with annual energy consumption: 376.40410958904107 kWh\n",
      "Found matching appliance: Water heater\n",
      "Water heater  is flexible with annual energy consumption: 12197.280251141552 kWh\n",
      "Processing sheet 2000901\n",
      "Found matching appliance: Chest freezer\n",
      "Chest freezer  is not flexible with annual energy consumption: 233.20776255707761 kWh\n",
      "Found matching appliance: Clothes drier\n",
      "Clothes drier  is flexible with annual energy consumption: 3017.9805936073058 kWh\n",
      "Found matching appliance: Dish washer\n",
      "Dish washer  is flexible with annual energy consumption: 2946.626712328767 kWh\n",
      "Found matching appliance: Fridge\n",
      "Fridge  is not flexible with annual energy consumption: 127.83047945205479 kWh\n",
      "Found matching appliance: Microwave oven\n",
      "Microwave oven  is flexible with annual energy consumption: 219.9200913242009 kWh\n",
      "Found matching appliance: Non halogen lamp\n",
      "Non halogen lamp  is flexible with annual energy consumption: 1.1491628614916287 kWh\n",
      "Found matching appliance: Non halogen lamp\n",
      "Non halogen lamp  is flexible with annual energy consumption: 32.78443683409437 kWh\n",
      "Found matching appliance: TV\n",
      "TV  is flexible with annual energy consumption: 33.97434550989345 kWh\n",
      "Found matching appliance: Washing machine\n",
      "Washing machine  is flexible with annual energy consumption: 1275.4299847793 kWh\n",
      "Processing sheet 2000902\n",
      "Found matching appliance: Clothes drier\n",
      "Clothes drier  is flexible with annual energy consumption: 2542.029680365297 kWh\n",
      "Found matching appliance: Electric Cooker\n",
      "Electric Cooker  is flexible with annual energy consumption: 525.7933789954338 kWh\n",
      "Found matching appliance: Fridge freezer\n",
      "Fridge freezer  is not flexible with annual energy consumption: 185.31316590563165 kWh\n",
      "Found matching appliance: Fridge\n",
      "Fridge  is not flexible with annual energy consumption: 277.9697488584475 kWh\n",
      "Found matching appliance: Halogen lamp\n",
      "Halogen lamp  is not flexible with annual energy consumption: 1.7427701674277016 kWh\n",
      "Found matching appliance: Microwave oven\n",
      "Microwave oven  is flexible with annual energy consumption: 130.6763698630137 kWh\n",
      "Found matching appliance: TV\n",
      "TV  is flexible with annual energy consumption: 18.942937595129376 kWh\n",
      "Found matching appliance: Washing machine\n",
      "Washing machine  is flexible with annual energy consumption: 1964.2846270928462 kWh\n",
      "Found matching appliance: Water heater\n",
      "Water heater  is flexible with annual energy consumption: 8470.013318112633 kWh\n",
      "Processing sheet 2000903\n",
      "Found matching appliance: Chest freezer\n",
      "Chest freezer  is not flexible with annual energy consumption: 93.69368340943683 kWh\n",
      "Found matching appliance: Dish washer\n",
      "Dish washer  is flexible with annual energy consumption: 2792.3059360730595 kWh\n",
      "Found matching appliance: Halogen lamp\n",
      "Halogen lamp  is not flexible with annual energy consumption: 156.96917808219177 kWh\n",
      "Found matching appliance: Halogen lamp\n",
      "Halogen lamp  is not flexible with annual energy consumption: 13.048896499238966 kWh\n",
      "Found matching appliance: Halogen lamp\n",
      "Halogen lamp  is not flexible with annual energy consumption: 95.52130898021309 kWh\n",
      "Found matching appliance: Halogen lamp\n",
      "Halogen lamp  is not flexible with annual energy consumption: 62.96803652968037 kWh\n",
      "Found matching appliance: Power supply for fuel boiler\n",
      "Power supply for fuel boiler is flexible with annual energy consumption: 141.12709284627093 kWh\n",
      "Found matching appliance: Washing machine\n",
      "Washing machine  is flexible with annual energy consumption: 783.1126331811263 kWh\n",
      "Processing sheet 2000904\n",
      "Found matching appliance: Chest freezer\n",
      "Chest freezer  is not flexible with annual energy consumption: 180.20814307458144 kWh\n",
      "Found matching appliance: Clothes drier\n",
      "Clothes drier  is flexible with annual energy consumption: 3134.769786910198 kWh\n",
      "Found matching appliance: Electric Cooker\n",
      "Electric Cooker  is flexible with annual energy consumption: 1455.0285388127854 kWh\n",
      "Found matching appliance: Halogen lamp\n",
      "Halogen lamp  is not flexible with annual energy consumption: 8.125951293759513 kWh\n",
      "Found matching appliance: Non halogen lamp\n",
      "Non halogen lamp  is flexible with annual energy consumption: 55.46042617960426 kWh\n",
      "Found matching appliance: Non halogen lamp\n",
      "Non halogen lamp  is flexible with annual energy consumption: 0.213089802130898 kWh\n",
      "Found matching appliance: Washing machine\n",
      "Washing machine  is flexible with annual energy consumption: 2181.1187214611873 kWh\n",
      "Found matching appliance: Water heater\n",
      "Water heater  is flexible with annual energy consumption: 18744.397831050228 kWh\n",
      "Processing sheet 2000905\n",
      "Found matching appliance: Chest freezer\n",
      "Chest freezer  is not flexible with annual energy consumption: 246.94520547945206 kWh\n",
      "Found matching appliance: Fridge freezer\n",
      "Fridge freezer  is not flexible with annual energy consumption: 288.63774733637746 kWh\n",
      "Found matching appliance: Fridge\n",
      "Fridge  is not flexible with annual energy consumption: 432.9566210045662 kWh\n",
      "Found matching appliance: Halogen lamp\n",
      "Halogen lamp  is not flexible with annual energy consumption: 14.036339421613395 kWh\n",
      "Found matching appliance: Microwave oven\n",
      "Microwave oven  is flexible with annual energy consumption: 43.66438356164384 kWh\n",
      "Found matching appliance: TV\n",
      "TV  is flexible with annual energy consumption: 15.0966000761035 kWh\n",
      "Found matching appliance: Washing machine\n",
      "Washing machine  is flexible with annual energy consumption: 612.4809741248098 kWh\n",
      "Processing sheet 2000906\n",
      "Found matching appliance: Electric Cooker\n",
      "Electric Cooker  is flexible with annual energy consumption: 1131.4212328767123 kWh\n",
      "Found matching appliance: Fridge freezer\n",
      "Fridge freezer  is not flexible with annual energy consumption: 228.69292237442923 kWh\n",
      "Found matching appliance: Fridge\n",
      "Fridge  is not flexible with annual energy consumption: 343.03938356164383 kWh\n",
      "Found matching appliance: Microwave oven\n",
      "Microwave oven  is flexible with annual energy consumption: 229.70890410958904 kWh\n",
      "Found matching appliance: Non halogen lamp\n",
      "Non halogen lamp  is flexible with annual energy consumption: 39.30365296803653 kWh\n",
      "Found matching appliance: TV\n",
      "TV  is flexible with annual energy consumption: 37.651476407914764 kWh\n",
      "Found matching appliance: TV\n",
      "TV  is flexible with annual energy consumption: 0.3955479452054795 kWh\n",
      "Found matching appliance: Vertical freezer\n",
      "Vertical freezer  is not flexible with annual energy consumption: 117.07115677321157 kWh\n",
      "Found matching appliance: Washing machine\n",
      "Washing machine  is flexible with annual energy consumption: 877.7853881278539 kWh\n",
      "Processing sheet 2000907\n",
      "Found matching appliance: Clothes drier\n",
      "Clothes drier  is flexible with annual energy consumption: 2981.209284627093 kWh\n",
      "Found matching appliance: Dish washer\n",
      "Dish washer  is flexible with annual energy consumption: 1689.3664383561643 kWh\n",
      "Found matching appliance: Microwave oven\n",
      "Microwave oven  is flexible with annual energy consumption: 65.69349315068493 kWh\n",
      "Found matching appliance: Washing machine\n",
      "Washing machine  is flexible with annual energy consumption: 1217.63698630137 kWh\n",
      "Found matching appliance: Water heater\n",
      "Water heater  is flexible with annual energy consumption: 13506.384132420091 kWh\n",
      "Processing sheet 2000908\n",
      "Found matching appliance: Clothes drier\n",
      "Clothes drier  is flexible with annual energy consumption: 1130.5597412480975 kWh\n",
      "Found matching appliance: Dish washer\n",
      "Dish washer  is flexible with annual energy consumption: 1880.9874429223744 kWh\n",
      "Found matching appliance: Electric oven\n",
      "Electric oven  is flexible with annual energy consumption: 518.2648401826484 kWh\n",
      "Found matching appliance: Fridge freezer\n",
      "Fridge freezer  is not flexible with annual energy consumption: 188.4189497716895 kWh\n",
      "Found matching appliance: Fridge\n",
      "Fridge  is not flexible with annual energy consumption: 282.62842465753425 kWh\n",
      "Found matching appliance: Hot plate\n",
      "Hot plate  is flexible with annual energy consumption: 4.025875190258752 kWh\n",
      "Found matching appliance: Microwave oven\n",
      "Microwave oven  is flexible with annual energy consumption: 210.0285388127854 kWh\n",
      "Found matching appliance: TV\n",
      "TV  is flexible with annual energy consumption: 30.48019216133942 kWh\n",
      "Found matching appliance: Vertical freezer\n",
      "Vertical freezer  is not flexible with annual energy consumption: 241.0665905631659 kWh\n",
      "Found matching appliance: Washing machine\n",
      "Washing machine  is flexible with annual energy consumption: 1315.0951293759513 kWh\n",
      "Processing sheet 2000909\n",
      "Found matching appliance: Electric Cooker\n",
      "Electric Cooker  is flexible with annual energy consumption: 3691.89497716895 kWh\n",
      "Found matching appliance: Electric heating\n",
      "Electric heating  is flexible with annual energy consumption: 4535.465182648401 kWh\n",
      "Found matching appliance: Fridge freezer\n",
      "Fridge freezer  is not flexible with annual energy consumption: 241.26864535768647 kWh\n",
      "Found matching appliance: Fridge\n",
      "Fridge  is not flexible with annual energy consumption: 361.90296803652967 kWh\n",
      "Found matching appliance: Halogen lamp\n",
      "Halogen lamp  is not flexible with annual energy consumption: 4.018264840182648 kWh\n",
      "Found matching appliance: Microwave oven\n",
      "Microwave oven  is flexible with annual energy consumption: 520.0285388127854 kWh\n",
      "Found matching appliance: TV\n",
      "TV  is flexible with annual energy consumption: 43.82934931506849 kWh\n",
      "Found matching appliance: Washing machine\n",
      "Washing machine  is flexible with annual energy consumption: 1742.2222222222222 kWh\n",
      "Found matching appliance: Water heater\n",
      "Water heater  is flexible with annual energy consumption: 18169.288432267884 kWh\n",
      "Processing sheet 2000910\n",
      "Found matching appliance: Dish washer\n",
      "Dish washer  is flexible with annual energy consumption: 394.04680365296804 kWh\n",
      "Found matching appliance: Electric Cooker\n",
      "Electric Cooker  is flexible with annual energy consumption: 1319.5262557077626 kWh\n",
      "Found matching appliance: Fridge freezer\n",
      "Fridge freezer  is not flexible with annual energy consumption: 182.5654490106545 kWh\n",
      "Found matching appliance: Fridge\n",
      "Fridge  is not flexible with annual energy consumption: 273.8481735159817 kWh\n",
      "Found matching appliance: Halogen lamp\n",
      "Halogen lamp  is not flexible with annual energy consumption: 5.9998097412480975 kWh\n",
      "Found matching appliance: Microwave oven\n",
      "Microwave oven  is flexible with annual energy consumption: 174.20376712328766 kWh\n",
      "Found matching appliance: TV\n",
      "TV  is flexible with annual energy consumption: 15.994786910197869 kWh\n",
      "Found matching appliance: Vertical freezer\n",
      "Vertical freezer  is not flexible with annual energy consumption: 196.59436834094367 kWh\n",
      "Found matching appliance: Washing machine\n",
      "Washing machine  is flexible with annual energy consumption: 98.98782343987824 kWh\n",
      "Processing sheet 2000911\n",
      "Found matching appliance: Electric Cooker\n",
      "Electric Cooker  is flexible with annual energy consumption: 1875.382420091324 kWh\n",
      "Found matching appliance: Fridge freezer\n",
      "Fridge freezer  is not flexible with annual energy consumption: 175.43759512937595 kWh\n",
      "Found matching appliance: Fridge\n",
      "Fridge  is not flexible with annual energy consumption: 263.1563926940639 kWh\n",
      "Found matching appliance: Non halogen lamp\n",
      "Non halogen lamp  is flexible with annual energy consumption: 26.91780821917808 kWh\n",
      "Found matching appliance: Non halogen lamp\n",
      "Non halogen lamp  is flexible with annual energy consumption: 0.06659056316590563 kWh\n",
      "Found matching appliance: Non halogen lamp\n",
      "Non halogen lamp  is flexible with annual energy consumption: 4.128614916286149 kWh\n",
      "Found matching appliance: Non halogen lamp\n",
      "Non halogen lamp  is flexible with annual energy consumption: 0.989345509893455 kWh\n",
      "Found matching appliance: TV\n",
      "TV  is flexible with annual energy consumption: 11.06933599695586 kWh\n",
      "Found matching appliance: Washing machine\n",
      "Washing machine  is flexible with annual energy consumption: 276.9406392694064 kWh\n",
      "Processing sheet 2000912\n",
      "Found matching appliance: Electric Cooker\n",
      "Electric Cooker  is flexible with annual energy consumption: 845.6107305936073 kWh\n",
      "Found matching appliance: Fridge freezer\n",
      "Fridge freezer  is not flexible with annual energy consumption: 340.146499238965 kWh\n",
      "Found matching appliance: Fridge\n",
      "Fridge  is not flexible with annual energy consumption: 510.2197488584475 kWh\n",
      "Found matching appliance: Non halogen lamp\n",
      "Non halogen lamp  is flexible with annual energy consumption: 283.201103500761 kWh\n",
      "Found matching appliance: Non halogen lamp\n",
      "Non halogen lamp  is flexible with annual energy consumption: 7.276445966514459 kWh\n",
      "Found matching appliance: TV\n",
      "TV  is flexible with annual energy consumption: 28.743150684931507 kWh\n",
      "Found matching appliance: Vertical freezer\n",
      "Vertical freezer  is not flexible with annual energy consumption: 231.15715372907152 kWh\n",
      "Found matching appliance: Washing machine\n",
      "Washing machine  is flexible with annual energy consumption: 1181.6742770167427 kWh\n",
      "Processing sheet 2000913\n",
      "Found matching appliance: Fridge freezer\n",
      "Fridge freezer  is not flexible with annual energy consumption: 184.94710806697108 kWh\n",
      "Found matching appliance: Fridge\n",
      "Fridge  is not flexible with annual energy consumption: 277.42066210045664 kWh\n",
      "Found matching appliance: Halogen lamp\n",
      "Halogen lamp  is not flexible with annual energy consumption: 65.77435312024353 kWh\n",
      "Found matching appliance: Microwave oven\n",
      "Microwave oven  is flexible with annual energy consumption: 140.5365296803653 kWh\n",
      "Found matching appliance: Power supply for fuel boiler\n",
      "Power supply for fuel boiler is flexible with annual energy consumption: 136.02283105022832 kWh\n",
      "Found matching appliance: TV\n",
      "TV  is flexible with annual energy consumption: 22.278871765601217 kWh\n",
      "Found matching appliance: Washing machine\n",
      "Washing machine  is flexible with annual energy consumption: 847.4733637747337 kWh\n",
      "Processing sheet 2000914\n",
      "Found matching appliance: Clothes drier\n",
      "Clothes drier  is flexible with annual energy consumption: 87.39307458143075 kWh\n",
      "Found matching appliance: Dish washer\n",
      "Dish washer  is flexible with annual energy consumption: 708.527397260274 kWh\n",
      "Found matching appliance: Electric Cooker\n",
      "Electric Cooker  is flexible with annual energy consumption: 2099.720319634703 kWh\n",
      "Found matching appliance: Electric heating\n",
      "Electric heating  is flexible with annual energy consumption: 20706.05878995434 kWh\n",
      "Found matching appliance: Fridge\n",
      "Fridge  is not flexible with annual energy consumption: 127.4480593607306 kWh\n",
      "Found matching appliance: Halogen lamp\n",
      "Halogen lamp  is not flexible with annual energy consumption: 27.57420091324201 kWh\n",
      "Found matching appliance: Microwave oven\n",
      "Microwave oven  is flexible with annual energy consumption: 193.6472602739726 kWh\n",
      "Found matching appliance: TV\n",
      "TV  is flexible with annual energy consumption: 23.986320395738204 kWh\n",
      "Found matching appliance: TV\n",
      "TV  is flexible with annual energy consumption: 7.306210045662101 kWh\n",
      "Found matching appliance: Vertical freezer\n",
      "Vertical freezer  is not flexible with annual energy consumption: 213.47716894977168 kWh\n",
      "Found matching appliance: Washing machine\n",
      "Washing machine  is flexible with annual energy consumption: 849.6042617960426 kWh\n",
      "Found matching appliance: Water heater\n",
      "Water heater  is flexible with annual energy consumption: 20619.601407914764 kWh\n",
      "Processing sheet 2000915\n",
      "Found matching appliance: Chest freezer\n",
      "Chest freezer  is not flexible with annual energy consumption: 242.1704718417047 kWh\n",
      "Found matching appliance: Clothes drier\n",
      "Clothes drier  is flexible with annual energy consumption: 538.5479452054794 kWh\n",
      "Found matching appliance: Electric Cooker\n",
      "Electric Cooker  is flexible with annual energy consumption: 4251.415525114156 kWh\n",
      "Found matching appliance: Heat pump\n",
      "Heat pump  is flexible with annual energy consumption: 3523.5521308980215 kWh\n",
      "Found matching appliance: Heat pump water heater\n",
      "Heat pump water heater  is flexible with annual energy consumption: 4245.243531202435 kWh\n",
      "Found matching appliance: Heat pump\n",
      "Heat pump  is flexible with annual energy consumption: 7291.295757229833 kWh\n",
      "Found matching appliance: Microwave oven\n",
      "Microwave oven  is flexible with annual energy consumption: 259.38641552511416 kWh\n",
      "Found matching appliance: TV\n",
      "TV  is flexible with annual energy consumption: 24.319020167427702 kWh\n",
      "Found matching appliance: TV\n",
      "TV  is flexible with annual energy consumption: 17.41070205479452 kWh\n",
      "Found matching appliance: Washing machine\n",
      "Washing machine  is flexible with annual energy consumption: 935.738203957382 kWh\n",
      "Found matching appliance: Water heater\n",
      "Water heater  is flexible with annual energy consumption: 307.00247336377475 kWh\n",
      "Processing sheet 2000916\n",
      "Found matching appliance: Chest freezer\n",
      "Chest freezer  is not flexible with annual energy consumption: 96.45205479452055 kWh\n",
      "Found matching appliance: Dish washer\n",
      "Dish washer  is flexible with annual energy consumption: 2949.2123287671234 kWh\n",
      "Found matching appliance: Electric oven\n",
      "Electric oven  is flexible with annual energy consumption: 1297.4457762557079 kWh\n",
      "Found matching appliance: Hot plate\n",
      "Hot plate  is flexible with annual energy consumption: 743.3219178082192 kWh\n",
      "Found matching appliance: Microwave oven\n",
      "Microwave oven  is flexible with annual energy consumption: 713.6615296803653 kWh\n",
      "Found matching appliance: TV\n",
      "TV  is flexible with annual energy consumption: 47.61181316590563 kWh\n",
      "Found matching appliance: TV\n",
      "TV  is flexible with annual energy consumption: 6.134216133942162 kWh\n",
      "Found matching appliance: TV\n",
      "TV  is flexible with annual energy consumption: 1.5564079147640792 kWh\n",
      "Found matching appliance: Washing machine\n",
      "Washing machine  is flexible with annual energy consumption: 1021.613394216134 kWh\n",
      "Processing sheet 2000917\n",
      "Found matching appliance: Dish washer\n",
      "Dish washer  is flexible with annual energy consumption: 6470.239726027397 kWh\n",
      "Found matching appliance: Electric Cooker\n",
      "Electric Cooker  is flexible with annual energy consumption: 1203.61301369863 kWh\n",
      "Found matching appliance: Fridge\n",
      "Fridge  is not flexible with annual energy consumption: 201.7431506849315 kWh\n",
      "Found matching appliance: Microwave oven\n",
      "Microwave oven  is flexible with annual energy consumption: 69.63470319634703 kWh\n",
      "Found matching appliance: Non halogen lamp\n",
      "Non halogen lamp  is flexible with annual energy consumption: 3.4855403348554033 kWh\n",
      "Found matching appliance: Non halogen lamp\n",
      "Non halogen lamp  is flexible with annual energy consumption: 7.401065449010654 kWh\n",
      "Found matching appliance: TV\n",
      "TV  is flexible with annual energy consumption: 37.389682267884325 kWh\n",
      "Found matching appliance: TV\n",
      "TV  is flexible with annual energy consumption: 4.723721461187215 kWh\n",
      "Found matching appliance: Washing machine\n",
      "Washing machine  is flexible with annual energy consumption: 1779.6118721461187 kWh\n",
      "Processing sheet 2000918\n",
      "Found matching appliance: Electric Cooker\n",
      "Electric Cooker  is flexible with annual energy consumption: 378.63013698630135 kWh\n",
      "Found matching appliance: Fridge freezer\n",
      "Fridge freezer  is not flexible with annual energy consumption: 127.41324200913242 kWh\n",
      "Found matching appliance: Fridge\n",
      "Fridge  is not flexible with annual energy consumption: 191.11986301369862 kWh\n",
      "Found matching appliance: Halogen lamp\n",
      "Halogen lamp  is not flexible with annual energy consumption: 98.48458904109589 kWh\n",
      "Found matching appliance: Microwave oven\n",
      "Microwave oven  is flexible with annual energy consumption: 63.019406392694066 kWh\n",
      "Found matching appliance: TV\n",
      "TV  is flexible with annual energy consumption: 12.6204699391172 kWh\n",
      "Found matching appliance: Washing machine\n",
      "Washing machine  is flexible with annual energy consumption: 324.779299847793 kWh\n",
      "Processing sheet 2000919\n",
      "Found matching appliance: Electric oven\n",
      "Electric oven  is flexible with annual energy consumption: 11969.506278538813 kWh\n",
      "Found matching appliance: Fridge freezer\n",
      "Fridge freezer  is not flexible with annual energy consumption: 122.36453576864535 kWh\n",
      "Found matching appliance: Fridge\n",
      "Fridge  is not flexible with annual energy consumption: 183.54680365296804 kWh\n",
      "Found matching appliance: Microwave oven\n",
      "Microwave oven  is flexible with annual energy consumption: 815.7876712328767 kWh\n",
      "Found matching appliance: Power supply for fuel boiler\n",
      "Power supply for fuel boiler is flexible with annual energy consumption: 53.11681887366819 kWh\n",
      "Found matching appliance: Vertical freezer\n",
      "Vertical freezer  is not flexible with annual energy consumption: 28.237062404870624 kWh\n",
      "Found matching appliance: Washing machine\n",
      "Washing machine  is flexible with annual energy consumption: 1588.3866057838661 kWh\n"
     ]
    },
    {
     "data": {
      "application/vnd.plotly.v1+json": {
       "config": {
        "plotlyServerURL": "https://plot.ly"
       },
       "data": [
        {
         "marker": {
          "color": "blue"
         },
         "name": "Total Consumption",
         "type": "bar",
         "x": [
          "2000900",
          "2000901",
          "2000902",
          "2000903",
          "2000904",
          "2000905",
          "2000906",
          "2000907",
          "2000908",
          "2000909",
          "2000910",
          "2000911",
          "2000912",
          "2000913",
          "2000914",
          "2000915",
          "2000916",
          "2000917",
          "2000918",
          "2000919"
         ],
         "y": [
          364.32705479452056,
          361.03824200913243,
          465.0256849315068,
          422.20110350076106,
          188.33409436834097,
          982.575913242009,
          688.8034627092846,
          0,
          712.1139649923896,
          607.1898782343987,
          659.007800608828,
          438.5939878234399,
          1081.5234018264841,
          528.1421232876712,
          368.4994292237443,
          242.1704718417047,
          96.45205479452055,
          201.7431506849315,
          417.0176940639269,
          334.148401826484
         ]
        },
        {
         "marker": {
          "color": "orange"
         },
         "name": "Flexible Consumption",
         "type": "bar",
         "x": [
          "2000900",
          "2000901",
          "2000902",
          "2000903",
          "2000904",
          "2000905",
          "2000906",
          "2000907",
          "2000908",
          "2000909",
          "2000910",
          "2000911",
          "2000912",
          "2000913",
          "2000914",
          "2000915",
          "2000916",
          "2000917",
          "2000918",
          "2000919"
         ],
         "y": [
          12775.192922374428,
          7527.865327245054,
          13651.740312024353,
          3716.545662100457,
          25570.988394216132,
          671.2419577625571,
          2316.2662024353117,
          19460.290334855403,
          5089.441759893455,
          28702.728702435314,
          2002.7594368340945,
          2195.49475456621,
          2346.505707762557,
          1146.3115962709285,
          45295.84504185693,
          21393.91170471842,
          6780.557383942163,
          9576.09932458143,
          779.0493131659057,
          14426.797374429223
         ]
        }
       ],
       "layout": {
        "barmode": "group",
        "template": {
         "data": {
          "bar": [
           {
            "error_x": {
             "color": "#2a3f5f"
            },
            "error_y": {
             "color": "#2a3f5f"
            },
            "marker": {
             "line": {
              "color": "#E5ECF6",
              "width": 0.5
             },
             "pattern": {
              "fillmode": "overlay",
              "size": 10,
              "solidity": 0.2
             }
            },
            "type": "bar"
           }
          ],
          "barpolar": [
           {
            "marker": {
             "line": {
              "color": "#E5ECF6",
              "width": 0.5
             },
             "pattern": {
              "fillmode": "overlay",
              "size": 10,
              "solidity": 0.2
             }
            },
            "type": "barpolar"
           }
          ],
          "carpet": [
           {
            "aaxis": {
             "endlinecolor": "#2a3f5f",
             "gridcolor": "white",
             "linecolor": "white",
             "minorgridcolor": "white",
             "startlinecolor": "#2a3f5f"
            },
            "baxis": {
             "endlinecolor": "#2a3f5f",
             "gridcolor": "white",
             "linecolor": "white",
             "minorgridcolor": "white",
             "startlinecolor": "#2a3f5f"
            },
            "type": "carpet"
           }
          ],
          "choropleth": [
           {
            "colorbar": {
             "outlinewidth": 0,
             "ticks": ""
            },
            "type": "choropleth"
           }
          ],
          "contour": [
           {
            "colorbar": {
             "outlinewidth": 0,
             "ticks": ""
            },
            "colorscale": [
             [
              0,
              "#0d0887"
             ],
             [
              0.1111111111111111,
              "#46039f"
             ],
             [
              0.2222222222222222,
              "#7201a8"
             ],
             [
              0.3333333333333333,
              "#9c179e"
             ],
             [
              0.4444444444444444,
              "#bd3786"
             ],
             [
              0.5555555555555556,
              "#d8576b"
             ],
             [
              0.6666666666666666,
              "#ed7953"
             ],
             [
              0.7777777777777778,
              "#fb9f3a"
             ],
             [
              0.8888888888888888,
              "#fdca26"
             ],
             [
              1,
              "#f0f921"
             ]
            ],
            "type": "contour"
           }
          ],
          "contourcarpet": [
           {
            "colorbar": {
             "outlinewidth": 0,
             "ticks": ""
            },
            "type": "contourcarpet"
           }
          ],
          "heatmap": [
           {
            "colorbar": {
             "outlinewidth": 0,
             "ticks": ""
            },
            "colorscale": [
             [
              0,
              "#0d0887"
             ],
             [
              0.1111111111111111,
              "#46039f"
             ],
             [
              0.2222222222222222,
              "#7201a8"
             ],
             [
              0.3333333333333333,
              "#9c179e"
             ],
             [
              0.4444444444444444,
              "#bd3786"
             ],
             [
              0.5555555555555556,
              "#d8576b"
             ],
             [
              0.6666666666666666,
              "#ed7953"
             ],
             [
              0.7777777777777778,
              "#fb9f3a"
             ],
             [
              0.8888888888888888,
              "#fdca26"
             ],
             [
              1,
              "#f0f921"
             ]
            ],
            "type": "heatmap"
           }
          ],
          "heatmapgl": [
           {
            "colorbar": {
             "outlinewidth": 0,
             "ticks": ""
            },
            "colorscale": [
             [
              0,
              "#0d0887"
             ],
             [
              0.1111111111111111,
              "#46039f"
             ],
             [
              0.2222222222222222,
              "#7201a8"
             ],
             [
              0.3333333333333333,
              "#9c179e"
             ],
             [
              0.4444444444444444,
              "#bd3786"
             ],
             [
              0.5555555555555556,
              "#d8576b"
             ],
             [
              0.6666666666666666,
              "#ed7953"
             ],
             [
              0.7777777777777778,
              "#fb9f3a"
             ],
             [
              0.8888888888888888,
              "#fdca26"
             ],
             [
              1,
              "#f0f921"
             ]
            ],
            "type": "heatmapgl"
           }
          ],
          "histogram": [
           {
            "marker": {
             "pattern": {
              "fillmode": "overlay",
              "size": 10,
              "solidity": 0.2
             }
            },
            "type": "histogram"
           }
          ],
          "histogram2d": [
           {
            "colorbar": {
             "outlinewidth": 0,
             "ticks": ""
            },
            "colorscale": [
             [
              0,
              "#0d0887"
             ],
             [
              0.1111111111111111,
              "#46039f"
             ],
             [
              0.2222222222222222,
              "#7201a8"
             ],
             [
              0.3333333333333333,
              "#9c179e"
             ],
             [
              0.4444444444444444,
              "#bd3786"
             ],
             [
              0.5555555555555556,
              "#d8576b"
             ],
             [
              0.6666666666666666,
              "#ed7953"
             ],
             [
              0.7777777777777778,
              "#fb9f3a"
             ],
             [
              0.8888888888888888,
              "#fdca26"
             ],
             [
              1,
              "#f0f921"
             ]
            ],
            "type": "histogram2d"
           }
          ],
          "histogram2dcontour": [
           {
            "colorbar": {
             "outlinewidth": 0,
             "ticks": ""
            },
            "colorscale": [
             [
              0,
              "#0d0887"
             ],
             [
              0.1111111111111111,
              "#46039f"
             ],
             [
              0.2222222222222222,
              "#7201a8"
             ],
             [
              0.3333333333333333,
              "#9c179e"
             ],
             [
              0.4444444444444444,
              "#bd3786"
             ],
             [
              0.5555555555555556,
              "#d8576b"
             ],
             [
              0.6666666666666666,
              "#ed7953"
             ],
             [
              0.7777777777777778,
              "#fb9f3a"
             ],
             [
              0.8888888888888888,
              "#fdca26"
             ],
             [
              1,
              "#f0f921"
             ]
            ],
            "type": "histogram2dcontour"
           }
          ],
          "mesh3d": [
           {
            "colorbar": {
             "outlinewidth": 0,
             "ticks": ""
            },
            "type": "mesh3d"
           }
          ],
          "parcoords": [
           {
            "line": {
             "colorbar": {
              "outlinewidth": 0,
              "ticks": ""
             }
            },
            "type": "parcoords"
           }
          ],
          "pie": [
           {
            "automargin": true,
            "type": "pie"
           }
          ],
          "scatter": [
           {
            "fillpattern": {
             "fillmode": "overlay",
             "size": 10,
             "solidity": 0.2
            },
            "type": "scatter"
           }
          ],
          "scatter3d": [
           {
            "line": {
             "colorbar": {
              "outlinewidth": 0,
              "ticks": ""
             }
            },
            "marker": {
             "colorbar": {
              "outlinewidth": 0,
              "ticks": ""
             }
            },
            "type": "scatter3d"
           }
          ],
          "scattercarpet": [
           {
            "marker": {
             "colorbar": {
              "outlinewidth": 0,
              "ticks": ""
             }
            },
            "type": "scattercarpet"
           }
          ],
          "scattergeo": [
           {
            "marker": {
             "colorbar": {
              "outlinewidth": 0,
              "ticks": ""
             }
            },
            "type": "scattergeo"
           }
          ],
          "scattergl": [
           {
            "marker": {
             "colorbar": {
              "outlinewidth": 0,
              "ticks": ""
             }
            },
            "type": "scattergl"
           }
          ],
          "scattermapbox": [
           {
            "marker": {
             "colorbar": {
              "outlinewidth": 0,
              "ticks": ""
             }
            },
            "type": "scattermapbox"
           }
          ],
          "scatterpolar": [
           {
            "marker": {
             "colorbar": {
              "outlinewidth": 0,
              "ticks": ""
             }
            },
            "type": "scatterpolar"
           }
          ],
          "scatterpolargl": [
           {
            "marker": {
             "colorbar": {
              "outlinewidth": 0,
              "ticks": ""
             }
            },
            "type": "scatterpolargl"
           }
          ],
          "scatterternary": [
           {
            "marker": {
             "colorbar": {
              "outlinewidth": 0,
              "ticks": ""
             }
            },
            "type": "scatterternary"
           }
          ],
          "surface": [
           {
            "colorbar": {
             "outlinewidth": 0,
             "ticks": ""
            },
            "colorscale": [
             [
              0,
              "#0d0887"
             ],
             [
              0.1111111111111111,
              "#46039f"
             ],
             [
              0.2222222222222222,
              "#7201a8"
             ],
             [
              0.3333333333333333,
              "#9c179e"
             ],
             [
              0.4444444444444444,
              "#bd3786"
             ],
             [
              0.5555555555555556,
              "#d8576b"
             ],
             [
              0.6666666666666666,
              "#ed7953"
             ],
             [
              0.7777777777777778,
              "#fb9f3a"
             ],
             [
              0.8888888888888888,
              "#fdca26"
             ],
             [
              1,
              "#f0f921"
             ]
            ],
            "type": "surface"
           }
          ],
          "table": [
           {
            "cells": {
             "fill": {
              "color": "#EBF0F8"
             },
             "line": {
              "color": "white"
             }
            },
            "header": {
             "fill": {
              "color": "#C8D4E3"
             },
             "line": {
              "color": "white"
             }
            },
            "type": "table"
           }
          ]
         },
         "layout": {
          "annotationdefaults": {
           "arrowcolor": "#2a3f5f",
           "arrowhead": 0,
           "arrowwidth": 1
          },
          "autotypenumbers": "strict",
          "coloraxis": {
           "colorbar": {
            "outlinewidth": 0,
            "ticks": ""
           }
          },
          "colorscale": {
           "diverging": [
            [
             0,
             "#8e0152"
            ],
            [
             0.1,
             "#c51b7d"
            ],
            [
             0.2,
             "#de77ae"
            ],
            [
             0.3,
             "#f1b6da"
            ],
            [
             0.4,
             "#fde0ef"
            ],
            [
             0.5,
             "#f7f7f7"
            ],
            [
             0.6,
             "#e6f5d0"
            ],
            [
             0.7,
             "#b8e186"
            ],
            [
             0.8,
             "#7fbc41"
            ],
            [
             0.9,
             "#4d9221"
            ],
            [
             1,
             "#276419"
            ]
           ],
           "sequential": [
            [
             0,
             "#0d0887"
            ],
            [
             0.1111111111111111,
             "#46039f"
            ],
            [
             0.2222222222222222,
             "#7201a8"
            ],
            [
             0.3333333333333333,
             "#9c179e"
            ],
            [
             0.4444444444444444,
             "#bd3786"
            ],
            [
             0.5555555555555556,
             "#d8576b"
            ],
            [
             0.6666666666666666,
             "#ed7953"
            ],
            [
             0.7777777777777778,
             "#fb9f3a"
            ],
            [
             0.8888888888888888,
             "#fdca26"
            ],
            [
             1,
             "#f0f921"
            ]
           ],
           "sequentialminus": [
            [
             0,
             "#0d0887"
            ],
            [
             0.1111111111111111,
             "#46039f"
            ],
            [
             0.2222222222222222,
             "#7201a8"
            ],
            [
             0.3333333333333333,
             "#9c179e"
            ],
            [
             0.4444444444444444,
             "#bd3786"
            ],
            [
             0.5555555555555556,
             "#d8576b"
            ],
            [
             0.6666666666666666,
             "#ed7953"
            ],
            [
             0.7777777777777778,
             "#fb9f3a"
            ],
            [
             0.8888888888888888,
             "#fdca26"
            ],
            [
             1,
             "#f0f921"
            ]
           ]
          },
          "colorway": [
           "#636efa",
           "#EF553B",
           "#00cc96",
           "#ab63fa",
           "#FFA15A",
           "#19d3f3",
           "#FF6692",
           "#B6E880",
           "#FF97FF",
           "#FECB52"
          ],
          "font": {
           "color": "#2a3f5f"
          },
          "geo": {
           "bgcolor": "white",
           "lakecolor": "white",
           "landcolor": "#E5ECF6",
           "showlakes": true,
           "showland": true,
           "subunitcolor": "white"
          },
          "hoverlabel": {
           "align": "left"
          },
          "hovermode": "closest",
          "mapbox": {
           "style": "light"
          },
          "paper_bgcolor": "white",
          "plot_bgcolor": "#E5ECF6",
          "polar": {
           "angularaxis": {
            "gridcolor": "white",
            "linecolor": "white",
            "ticks": ""
           },
           "bgcolor": "#E5ECF6",
           "radialaxis": {
            "gridcolor": "white",
            "linecolor": "white",
            "ticks": ""
           }
          },
          "scene": {
           "xaxis": {
            "backgroundcolor": "#E5ECF6",
            "gridcolor": "white",
            "gridwidth": 2,
            "linecolor": "white",
            "showbackground": true,
            "ticks": "",
            "zerolinecolor": "white"
           },
           "yaxis": {
            "backgroundcolor": "#E5ECF6",
            "gridcolor": "white",
            "gridwidth": 2,
            "linecolor": "white",
            "showbackground": true,
            "ticks": "",
            "zerolinecolor": "white"
           },
           "zaxis": {
            "backgroundcolor": "#E5ECF6",
            "gridcolor": "white",
            "gridwidth": 2,
            "linecolor": "white",
            "showbackground": true,
            "ticks": "",
            "zerolinecolor": "white"
           }
          },
          "shapedefaults": {
           "line": {
            "color": "#2a3f5f"
           }
          },
          "ternary": {
           "aaxis": {
            "gridcolor": "white",
            "linecolor": "white",
            "ticks": ""
           },
           "baxis": {
            "gridcolor": "white",
            "linecolor": "white",
            "ticks": ""
           },
           "bgcolor": "#E5ECF6",
           "caxis": {
            "gridcolor": "white",
            "linecolor": "white",
            "ticks": ""
           }
          },
          "title": {
           "x": 0.05
          },
          "xaxis": {
           "automargin": true,
           "gridcolor": "white",
           "linecolor": "white",
           "ticks": "",
           "title": {
            "standoff": 15
           },
           "zerolinecolor": "white",
           "zerolinewidth": 2
          },
          "yaxis": {
           "automargin": true,
           "gridcolor": "white",
           "linecolor": "white",
           "ticks": "",
           "title": {
            "standoff": 15
           },
           "zerolinecolor": "white",
           "zerolinewidth": 2
          }
         }
        },
        "title": {
         "text": "Total Energy Consumption vs. Flexible Consumption for Each House"
        },
        "xaxis": {
         "tickangle": -45,
         "title": {
          "text": "House ID"
         }
        },
        "yaxis": {
         "title": {
          "text": "Energy Consumption (kWh)"
         }
        }
       }
      }
     },
     "metadata": {},
     "output_type": "display_data"
    }
   ],
   "source": [
    "import pandas as pd\n",
    "import plotly.graph_objs as go\n",
    "\n",
    "# Load the Excel file with the correct sheet name\n",
    "excel_file = pd.ExcelFile(r'D:\\Grenoble_university\\6_month_internship\\working space\\data\\combined_1_year_data_with_flexibility.xlsx')\n",
    "\n",
    "# Load the appliances data\n",
    "appliances_file_path = r'D:\\Grenoble_university\\6_month_internship\\working space\\data\\column_titles_with add info.xlsx'\n",
    "appliances_df = pd.read_excel(appliances_file_path)\n",
    "\n",
    "# Initialize dictionaries to store total and flexible energy consumption\n",
    "total_consumption = {}\n",
    "flexible_consumption = {}\n",
    "\n",
    "# Iterate over each sheet from 2000900 to 2000904\n",
    "for sheet_number in range(2000900, 2000920):\n",
    "    sheet_name = str(sheet_number)\n",
    "    if sheet_name in excel_file.sheet_names:\n",
    "        print(f\"Processing sheet {sheet_name}\")\n",
    "        # Read the sheet\n",
    "        df = pd.read_excel(excel_file, sheet_name=sheet_name)\n",
    "        \n",
    "        # Initialize dictionaries for this sheet\n",
    "        total_consumption[sheet_name] = 0\n",
    "        flexible_consumption[sheet_name] = 0\n",
    "        \n",
    "        # Iterate over columns and check if appliance names match\n",
    "        for column in df.columns:\n",
    "            for index, appliance in appliances_df.iterrows():\n",
    "                # Extract substring before \"(\" symbol for comparison\n",
    "                appliance_name = appliance['Appliance'].split(\"(\")[0].strip()\n",
    "                if appliance_name in column:\n",
    "                    print(f\"Found matching appliance: {appliance_name}\")\n",
    "                    # Convert column data to numeric type\n",
    "                    df[column] = pd.to_numeric(df[column], errors='coerce')\n",
    "                    # Calculate annual energy consumption based on typical power\n",
    "                    typical_power = appliance['tipical power']\n",
    "                    annual_energy = typical_power * df[column].sum() / (60 * 24 * 365)  # Assuming data is in 1-minute intervals\n",
    "                    # Categorize as flexible or not flexible based on flexibility in appliances data\n",
    "                    flexibility = appliance['Flexibility']\n",
    "                    if flexibility == 'flexible':\n",
    "                        print(f\"{appliance['Appliance']} is flexible with annual energy consumption: {annual_energy} kWh\")\n",
    "                        flexible_consumption[sheet_name] += annual_energy\n",
    "                    else:\n",
    "                        print(f\"{appliance['Appliance']} is not flexible with annual energy consumption: {annual_energy} kWh\")\n",
    "                        total_consumption[sheet_name] += annual_energy\n",
    "\n",
    "# Convert dictionaries to lists for plotting\n",
    "house_ids = list(total_consumption.keys())\n",
    "total_values = list(total_consumption.values())\n",
    "flexible_values = list(flexible_consumption.values())\n",
    "\n",
    "# Create a figure\n",
    "fig = go.Figure()\n",
    "\n",
    "# Add bars for total consumption\n",
    "fig.add_trace(go.Bar(\n",
    "    x=house_ids,\n",
    "    y=total_values,\n",
    "    name='Total Consumption',\n",
    "    marker_color='blue'\n",
    "))\n",
    "\n",
    "# Add bars for flexible consumption\n",
    "fig.add_trace(go.Bar(\n",
    "    x=house_ids,\n",
    "    y=flexible_values,\n",
    "    name='Flexible Consumption',\n",
    "    marker_color='orange'\n",
    "))\n",
    "\n",
    "# Update layout\n",
    "fig.update_layout(\n",
    "    title='Total Energy Consumption vs. Flexible Consumption for Each House',\n",
    "    xaxis_title='House ID',\n",
    "    yaxis_title='Energy Consumption (kWh)',\n",
    "    barmode='group',\n",
    "    xaxis_tickangle=-45\n",
    ")\n",
    "\n",
    "# Show the figure\n",
    "fig.show()\n",
    "\n"
   ]
  },
  {
   "cell_type": "code",
   "execution_count": 5,
   "metadata": {},
   "outputs": [
    {
     "name": "stdout",
     "output_type": "stream",
     "text": [
      "Processing sheet 2000900\n",
      "Found matching appliance: Fridge\n",
      "Fridge is not flexible with annual energy consumption: 145.53253424657535 kWh\n",
      "Found matching appliance: Halogen lamp\n",
      "Halogen lamp is flexible with annual energy consumption: 92.66362252663623 kWh\n",
      "Found matching appliance: Power supply for wood boiler\n",
      "Power supply for wood boiler is flexible with annual energy consumption: 201.5085616438356 kWh\n",
      "Found matching appliance: Vertical freezer\n",
      "Vertical freezer is not flexible with annual energy consumption: 126.13089802130898 kWh\n",
      "Found matching appliance: Washing machine\n",
      "Washing machine is flexible with annual energy consumption: 376.40410958904107 kWh\n",
      "Found matching appliance: Water heater\n",
      "Water heater is flexible with annual energy consumption: 12197.280251141552 kWh\n",
      "Processing sheet 2000901\n",
      "Found matching appliance: Chest freezer\n",
      "Chest freezer is not flexible with annual energy consumption: 233.20776255707761 kWh\n",
      "Found matching appliance: Clothes drier\n",
      "Clothes drier is flexible with annual energy consumption: 3017.9805936073058 kWh\n",
      "Found matching appliance: Dish washer\n",
      "Dish washer is flexible with annual energy consumption: 2946.626712328767 kWh\n",
      "Found matching appliance: Fridge\n",
      "Fridge is not flexible with annual energy consumption: 127.83047945205479 kWh\n",
      "Found matching appliance: Microwave oven\n",
      "Microwave oven is flexible with annual energy consumption: 219.9200913242009 kWh\n",
      "Found matching appliance: Non halogen lamp\n",
      "Non halogen lamp is flexible with annual energy consumption: 1.1491628614916287 kWh\n",
      "Found matching appliance: Non halogen lamp\n",
      "Non halogen lamp is flexible with annual energy consumption: 32.78443683409437 kWh\n",
      "Found matching appliance: TV\n",
      "TV is flexible with annual energy consumption: 33.97434550989345 kWh\n",
      "Found matching appliance: Washing machine\n",
      "Washing machine is flexible with annual energy consumption: 1275.4299847793 kWh\n",
      "Processing sheet 2000902\n",
      "Found matching appliance: Clothes drier\n",
      "Clothes drier is flexible with annual energy consumption: 2542.029680365297 kWh\n",
      "Found matching appliance: Electric Cooker\n",
      "Electric Cooker is flexible with annual energy consumption: 525.7933789954338 kWh\n",
      "Found matching appliance: Fridge freezer\n",
      "Fridge freezer is not flexible with annual energy consumption: 185.31316590563165 kWh\n",
      "Found matching appliance: Fridge\n",
      "Fridge is not flexible with annual energy consumption: 277.9697488584475 kWh\n",
      "Found matching appliance: Halogen lamp\n",
      "Halogen lamp is flexible with annual energy consumption: 1.7427701674277016 kWh\n",
      "Found matching appliance: Microwave oven\n",
      "Microwave oven is flexible with annual energy consumption: 130.6763698630137 kWh\n",
      "Found matching appliance: TV\n",
      "TV is flexible with annual energy consumption: 18.942937595129376 kWh\n",
      "Found matching appliance: Washing machine\n",
      "Washing machine is flexible with annual energy consumption: 1964.2846270928462 kWh\n",
      "Found matching appliance: Water heater\n",
      "Water heater is flexible with annual energy consumption: 8470.013318112633 kWh\n",
      "Processing sheet 2000903\n",
      "Found matching appliance: Chest freezer\n",
      "Chest freezer is not flexible with annual energy consumption: 93.69368340943683 kWh\n",
      "Found matching appliance: Dish washer\n",
      "Dish washer is flexible with annual energy consumption: 2792.3059360730595 kWh\n",
      "Found matching appliance: Halogen lamp\n",
      "Halogen lamp is flexible with annual energy consumption: 156.96917808219177 kWh\n",
      "Found matching appliance: Halogen lamp\n",
      "Halogen lamp is flexible with annual energy consumption: 13.048896499238966 kWh\n",
      "Found matching appliance: Halogen lamp\n",
      "Halogen lamp is flexible with annual energy consumption: 95.52130898021309 kWh\n",
      "Found matching appliance: Halogen lamp\n",
      "Halogen lamp is flexible with annual energy consumption: 62.96803652968037 kWh\n",
      "Found matching appliance: Power supply for fuel boiler\n",
      "Power supply for fuel boiler is flexible with annual energy consumption: 141.12709284627093 kWh\n",
      "Found matching appliance: Washing machine\n",
      "Washing machine is flexible with annual energy consumption: 783.1126331811263 kWh\n",
      "Processing sheet 2000904\n",
      "Found matching appliance: Chest freezer\n",
      "Chest freezer is not flexible with annual energy consumption: 180.20814307458144 kWh\n",
      "Found matching appliance: Clothes drier\n",
      "Clothes drier is flexible with annual energy consumption: 3134.769786910198 kWh\n",
      "Found matching appliance: Electric Cooker\n",
      "Electric Cooker is flexible with annual energy consumption: 1455.0285388127854 kWh\n",
      "Found matching appliance: Halogen lamp\n",
      "Halogen lamp is flexible with annual energy consumption: 8.125951293759513 kWh\n",
      "Found matching appliance: Non halogen lamp\n",
      "Non halogen lamp is flexible with annual energy consumption: 55.46042617960426 kWh\n",
      "Found matching appliance: Non halogen lamp\n",
      "Non halogen lamp is flexible with annual energy consumption: 0.213089802130898 kWh\n",
      "Found matching appliance: Washing machine\n",
      "Washing machine is flexible with annual energy consumption: 2181.1187214611873 kWh\n",
      "Found matching appliance: Water heater\n",
      "Water heater is flexible with annual energy consumption: 18744.397831050228 kWh\n",
      "Processing sheet 2000905\n",
      "Found matching appliance: Chest freezer\n",
      "Chest freezer is not flexible with annual energy consumption: 246.94520547945206 kWh\n",
      "Found matching appliance: Fridge freezer\n",
      "Fridge freezer is not flexible with annual energy consumption: 288.63774733637746 kWh\n",
      "Found matching appliance: Fridge\n",
      "Fridge is not flexible with annual energy consumption: 432.9566210045662 kWh\n",
      "Found matching appliance: Halogen lamp\n",
      "Halogen lamp is flexible with annual energy consumption: 14.036339421613395 kWh\n",
      "Found matching appliance: Microwave oven\n",
      "Microwave oven is flexible with annual energy consumption: 43.66438356164384 kWh\n",
      "Found matching appliance: TV\n",
      "TV is flexible with annual energy consumption: 15.0966000761035 kWh\n",
      "Found matching appliance: Washing machine\n",
      "Washing machine is flexible with annual energy consumption: 612.4809741248098 kWh\n",
      "Processing sheet 2000906\n",
      "Found matching appliance: Electric Cooker\n",
      "Electric Cooker is flexible with annual energy consumption: 1131.4212328767123 kWh\n",
      "Found matching appliance: Fridge freezer\n",
      "Fridge freezer is not flexible with annual energy consumption: 228.69292237442923 kWh\n",
      "Found matching appliance: Fridge\n",
      "Fridge is not flexible with annual energy consumption: 343.03938356164383 kWh\n",
      "Found matching appliance: Microwave oven\n",
      "Microwave oven is flexible with annual energy consumption: 229.70890410958904 kWh\n",
      "Found matching appliance: Non halogen lamp\n",
      "Non halogen lamp is flexible with annual energy consumption: 39.30365296803653 kWh\n",
      "Found matching appliance: TV\n",
      "TV is flexible with annual energy consumption: 37.651476407914764 kWh\n",
      "Found matching appliance: TV\n",
      "TV is flexible with annual energy consumption: 0.3955479452054795 kWh\n",
      "Found matching appliance: Vertical freezer\n",
      "Vertical freezer is not flexible with annual energy consumption: 117.07115677321157 kWh\n",
      "Found matching appliance: Washing machine\n",
      "Washing machine is flexible with annual energy consumption: 877.7853881278539 kWh\n",
      "Processing sheet 2000907\n",
      "Found matching appliance: Clothes drier\n",
      "Clothes drier is flexible with annual energy consumption: 2981.209284627093 kWh\n",
      "Found matching appliance: Dish washer\n",
      "Dish washer is flexible with annual energy consumption: 1689.3664383561643 kWh\n",
      "Found matching appliance: Microwave oven\n",
      "Microwave oven is flexible with annual energy consumption: 65.69349315068493 kWh\n",
      "Found matching appliance: Washing machine\n",
      "Washing machine is flexible with annual energy consumption: 1217.63698630137 kWh\n",
      "Found matching appliance: Water heater\n",
      "Water heater is flexible with annual energy consumption: 13506.384132420091 kWh\n",
      "Processing sheet 2000908\n",
      "Found matching appliance: Clothes drier\n",
      "Clothes drier is flexible with annual energy consumption: 1130.5597412480975 kWh\n",
      "Found matching appliance: Dish washer\n",
      "Dish washer is flexible with annual energy consumption: 1880.9874429223744 kWh\n",
      "Found matching appliance: Electric oven\n",
      "Electric oven is flexible with annual energy consumption: 518.2648401826484 kWh\n",
      "Found matching appliance: Fridge freezer\n",
      "Fridge freezer is not flexible with annual energy consumption: 188.4189497716895 kWh\n",
      "Found matching appliance: Fridge\n",
      "Fridge is not flexible with annual energy consumption: 282.62842465753425 kWh\n",
      "Found matching appliance: Hot plate\n",
      "Hot plate is flexible with annual energy consumption: 4.025875190258752 kWh\n",
      "Found matching appliance: Microwave oven\n",
      "Microwave oven is flexible with annual energy consumption: 210.0285388127854 kWh\n",
      "Found matching appliance: TV\n",
      "TV is flexible with annual energy consumption: 30.48019216133942 kWh\n",
      "Found matching appliance: Vertical freezer\n",
      "Vertical freezer is not flexible with annual energy consumption: 241.0665905631659 kWh\n",
      "Found matching appliance: Washing machine\n",
      "Washing machine is flexible with annual energy consumption: 1315.0951293759513 kWh\n",
      "Processing sheet 2000909\n",
      "Found matching appliance: Electric Cooker\n",
      "Electric Cooker is flexible with annual energy consumption: 3691.89497716895 kWh\n",
      "Found matching appliance: Electric heating\n",
      "Electric heating is flexible with annual energy consumption: 4535.465182648401 kWh\n",
      "Found matching appliance: Fridge freezer\n",
      "Fridge freezer is not flexible with annual energy consumption: 241.26864535768647 kWh\n",
      "Found matching appliance: Fridge\n",
      "Fridge is not flexible with annual energy consumption: 361.90296803652967 kWh\n",
      "Found matching appliance: Halogen lamp\n",
      "Halogen lamp is flexible with annual energy consumption: 4.018264840182648 kWh\n",
      "Found matching appliance: Microwave oven\n",
      "Microwave oven is flexible with annual energy consumption: 520.0285388127854 kWh\n",
      "Found matching appliance: TV\n",
      "TV is flexible with annual energy consumption: 43.82934931506849 kWh\n",
      "Found matching appliance: Washing machine\n",
      "Washing machine is flexible with annual energy consumption: 1742.2222222222222 kWh\n",
      "Found matching appliance: Water heater\n",
      "Water heater is flexible with annual energy consumption: 18169.288432267884 kWh\n",
      "Processing sheet 2000910\n",
      "Found matching appliance: Dish washer\n",
      "Dish washer is flexible with annual energy consumption: 394.04680365296804 kWh\n",
      "Found matching appliance: Electric Cooker\n",
      "Electric Cooker is flexible with annual energy consumption: 1319.5262557077626 kWh\n",
      "Found matching appliance: Fridge freezer\n",
      "Fridge freezer is not flexible with annual energy consumption: 182.5654490106545 kWh\n",
      "Found matching appliance: Fridge\n",
      "Fridge is not flexible with annual energy consumption: 273.8481735159817 kWh\n",
      "Found matching appliance: Halogen lamp\n",
      "Halogen lamp is flexible with annual energy consumption: 5.9998097412480975 kWh\n",
      "Found matching appliance: Microwave oven\n",
      "Microwave oven is flexible with annual energy consumption: 174.20376712328766 kWh\n",
      "Found matching appliance: TV\n",
      "TV is flexible with annual energy consumption: 15.994786910197869 kWh\n",
      "Found matching appliance: Vertical freezer\n",
      "Vertical freezer is not flexible with annual energy consumption: 196.59436834094367 kWh\n",
      "Found matching appliance: Washing machine\n",
      "Washing machine is flexible with annual energy consumption: 98.98782343987824 kWh\n",
      "Processing sheet 2000911\n",
      "Found matching appliance: Electric Cooker\n",
      "Electric Cooker is flexible with annual energy consumption: 1875.382420091324 kWh\n",
      "Found matching appliance: Fridge freezer\n",
      "Fridge freezer is not flexible with annual energy consumption: 175.43759512937595 kWh\n",
      "Found matching appliance: Fridge\n",
      "Fridge is not flexible with annual energy consumption: 263.1563926940639 kWh\n",
      "Found matching appliance: Non halogen lamp\n",
      "Non halogen lamp is flexible with annual energy consumption: 26.91780821917808 kWh\n",
      "Found matching appliance: Non halogen lamp\n",
      "Non halogen lamp is flexible with annual energy consumption: 0.06659056316590563 kWh\n",
      "Found matching appliance: Non halogen lamp\n",
      "Non halogen lamp is flexible with annual energy consumption: 4.128614916286149 kWh\n",
      "Found matching appliance: Non halogen lamp\n",
      "Non halogen lamp is flexible with annual energy consumption: 0.989345509893455 kWh\n",
      "Found matching appliance: TV\n",
      "TV is flexible with annual energy consumption: 11.06933599695586 kWh\n",
      "Found matching appliance: Washing machine\n",
      "Washing machine is flexible with annual energy consumption: 276.9406392694064 kWh\n",
      "Processing sheet 2000912\n",
      "Found matching appliance: Electric Cooker\n",
      "Electric Cooker is flexible with annual energy consumption: 845.6107305936073 kWh\n",
      "Found matching appliance: Fridge freezer\n",
      "Fridge freezer is not flexible with annual energy consumption: 340.146499238965 kWh\n",
      "Found matching appliance: Fridge\n",
      "Fridge is not flexible with annual energy consumption: 510.2197488584475 kWh\n",
      "Found matching appliance: Non halogen lamp\n",
      "Non halogen lamp is flexible with annual energy consumption: 283.201103500761 kWh\n",
      "Found matching appliance: Non halogen lamp\n",
      "Non halogen lamp is flexible with annual energy consumption: 7.276445966514459 kWh\n",
      "Found matching appliance: TV\n",
      "TV is flexible with annual energy consumption: 28.743150684931507 kWh\n",
      "Found matching appliance: Vertical freezer\n",
      "Vertical freezer is not flexible with annual energy consumption: 231.15715372907152 kWh\n",
      "Found matching appliance: Washing machine\n",
      "Washing machine is flexible with annual energy consumption: 1181.6742770167427 kWh\n",
      "Processing sheet 2000913\n",
      "Found matching appliance: Fridge freezer\n",
      "Fridge freezer is not flexible with annual energy consumption: 184.94710806697108 kWh\n",
      "Found matching appliance: Fridge\n",
      "Fridge is not flexible with annual energy consumption: 277.42066210045664 kWh\n",
      "Found matching appliance: Halogen lamp\n",
      "Halogen lamp is flexible with annual energy consumption: 65.77435312024353 kWh\n",
      "Found matching appliance: Microwave oven\n",
      "Microwave oven is flexible with annual energy consumption: 140.5365296803653 kWh\n",
      "Found matching appliance: Power supply for fuel boiler\n",
      "Power supply for fuel boiler is flexible with annual energy consumption: 136.02283105022832 kWh\n",
      "Found matching appliance: TV\n",
      "TV is flexible with annual energy consumption: 22.278871765601217 kWh\n",
      "Found matching appliance: Washing machine\n",
      "Washing machine is flexible with annual energy consumption: 847.4733637747337 kWh\n",
      "Processing sheet 2000914\n",
      "Found matching appliance: Clothes drier\n",
      "Clothes drier is flexible with annual energy consumption: 87.39307458143075 kWh\n",
      "Found matching appliance: Dish washer\n",
      "Dish washer is flexible with annual energy consumption: 708.527397260274 kWh\n",
      "Found matching appliance: Electric Cooker\n",
      "Electric Cooker is flexible with annual energy consumption: 2099.720319634703 kWh\n",
      "Found matching appliance: Electric heating\n",
      "Electric heating is flexible with annual energy consumption: 20706.05878995434 kWh\n",
      "Found matching appliance: Fridge\n",
      "Fridge is not flexible with annual energy consumption: 127.4480593607306 kWh\n",
      "Found matching appliance: Halogen lamp\n",
      "Halogen lamp is flexible with annual energy consumption: 27.57420091324201 kWh\n",
      "Found matching appliance: Microwave oven\n",
      "Microwave oven is flexible with annual energy consumption: 193.6472602739726 kWh\n",
      "Found matching appliance: TV\n",
      "TV is flexible with annual energy consumption: 23.986320395738204 kWh\n",
      "Found matching appliance: TV\n",
      "TV is flexible with annual energy consumption: 7.306210045662101 kWh\n",
      "Found matching appliance: Vertical freezer\n",
      "Vertical freezer is not flexible with annual energy consumption: 213.47716894977168 kWh\n",
      "Found matching appliance: Washing machine\n",
      "Washing machine is flexible with annual energy consumption: 849.6042617960426 kWh\n",
      "Found matching appliance: Water heater\n",
      "Water heater is flexible with annual energy consumption: 20619.601407914764 kWh\n",
      "Processing sheet 2000915\n",
      "Found matching appliance: Chest freezer\n",
      "Chest freezer is not flexible with annual energy consumption: 242.1704718417047 kWh\n",
      "Found matching appliance: Clothes drier\n",
      "Clothes drier is flexible with annual energy consumption: 538.5479452054794 kWh\n",
      "Found matching appliance: Electric Cooker\n",
      "Electric Cooker is flexible with annual energy consumption: 4251.415525114156 kWh\n",
      "Found matching appliance: Heat pump\n",
      "Heat pump is flexible with annual energy consumption: 3523.5521308980215 kWh\n",
      "Found matching appliance: Heat pump water heater\n",
      "Heat pump water heater is flexible with annual energy consumption: 4245.243531202435 kWh\n",
      "Found matching appliance: Heat pump\n",
      "Heat pump is flexible with annual energy consumption: 7291.295757229833 kWh\n",
      "Found matching appliance: Microwave oven\n",
      "Microwave oven is flexible with annual energy consumption: 259.38641552511416 kWh\n",
      "Found matching appliance: TV\n",
      "TV is flexible with annual energy consumption: 24.319020167427702 kWh\n",
      "Found matching appliance: TV\n",
      "TV is flexible with annual energy consumption: 17.41070205479452 kWh\n",
      "Found matching appliance: Washing machine\n",
      "Washing machine is flexible with annual energy consumption: 935.738203957382 kWh\n",
      "Found matching appliance: Water heater\n",
      "Water heater is flexible with annual energy consumption: 307.00247336377475 kWh\n",
      "Processing sheet 2000916\n",
      "Found matching appliance: Chest freezer\n",
      "Chest freezer is not flexible with annual energy consumption: 96.45205479452055 kWh\n",
      "Found matching appliance: Dish washer\n",
      "Dish washer is flexible with annual energy consumption: 2949.2123287671234 kWh\n",
      "Found matching appliance: Electric oven\n",
      "Electric oven is flexible with annual energy consumption: 1297.4457762557079 kWh\n",
      "Found matching appliance: Hot plate\n",
      "Hot plate is flexible with annual energy consumption: 743.3219178082192 kWh\n",
      "Found matching appliance: Microwave oven\n",
      "Microwave oven is flexible with annual energy consumption: 713.6615296803653 kWh\n",
      "Found matching appliance: TV\n",
      "TV is flexible with annual energy consumption: 47.61181316590563 kWh\n",
      "Found matching appliance: TV\n",
      "TV is flexible with annual energy consumption: 6.134216133942162 kWh\n",
      "Found matching appliance: TV\n",
      "TV is flexible with annual energy consumption: 1.5564079147640792 kWh\n",
      "Found matching appliance: Washing machine\n",
      "Washing machine is flexible with annual energy consumption: 1021.613394216134 kWh\n",
      "Processing sheet 2000917\n",
      "Found matching appliance: Dish washer\n",
      "Dish washer is flexible with annual energy consumption: 6470.239726027397 kWh\n",
      "Found matching appliance: Electric Cooker\n",
      "Electric Cooker is flexible with annual energy consumption: 1203.61301369863 kWh\n",
      "Found matching appliance: Fridge\n",
      "Fridge is not flexible with annual energy consumption: 201.7431506849315 kWh\n",
      "Found matching appliance: Microwave oven\n",
      "Microwave oven is flexible with annual energy consumption: 69.63470319634703 kWh\n",
      "Found matching appliance: Non halogen lamp\n",
      "Non halogen lamp is flexible with annual energy consumption: 3.4855403348554033 kWh\n",
      "Found matching appliance: Non halogen lamp\n",
      "Non halogen lamp is flexible with annual energy consumption: 7.401065449010654 kWh\n",
      "Found matching appliance: TV\n",
      "TV is flexible with annual energy consumption: 37.389682267884325 kWh\n",
      "Found matching appliance: TV\n",
      "TV is flexible with annual energy consumption: 4.723721461187215 kWh\n",
      "Found matching appliance: Washing machine\n",
      "Washing machine is flexible with annual energy consumption: 1779.6118721461187 kWh\n",
      "Processing sheet 2000918\n",
      "Found matching appliance: Electric Cooker\n",
      "Electric Cooker is flexible with annual energy consumption: 378.63013698630135 kWh\n",
      "Found matching appliance: Fridge freezer\n",
      "Fridge freezer is not flexible with annual energy consumption: 127.41324200913242 kWh\n",
      "Found matching appliance: Fridge\n",
      "Fridge is not flexible with annual energy consumption: 191.11986301369862 kWh\n",
      "Found matching appliance: Halogen lamp\n",
      "Halogen lamp is flexible with annual energy consumption: 98.48458904109589 kWh\n",
      "Found matching appliance: Microwave oven\n",
      "Microwave oven is flexible with annual energy consumption: 63.019406392694066 kWh\n",
      "Found matching appliance: TV\n",
      "TV is flexible with annual energy consumption: 12.6204699391172 kWh\n",
      "Found matching appliance: Washing machine\n",
      "Washing machine is flexible with annual energy consumption: 324.779299847793 kWh\n",
      "Processing sheet 2000919\n",
      "Found matching appliance: Electric oven\n",
      "Electric oven is flexible with annual energy consumption: 11969.506278538813 kWh\n",
      "Found matching appliance: Fridge freezer\n",
      "Fridge freezer is not flexible with annual energy consumption: 122.36453576864535 kWh\n",
      "Found matching appliance: Fridge\n",
      "Fridge is not flexible with annual energy consumption: 183.54680365296804 kWh\n",
      "Found matching appliance: Microwave oven\n",
      "Microwave oven is flexible with annual energy consumption: 815.7876712328767 kWh\n",
      "Found matching appliance: Power supply for fuel boiler\n",
      "Power supply for fuel boiler is flexible with annual energy consumption: 53.11681887366819 kWh\n",
      "Found matching appliance: Vertical freezer\n",
      "Vertical freezer is not flexible with annual energy consumption: 28.237062404870624 kWh\n",
      "Found matching appliance: Washing machine\n",
      "Washing machine is flexible with annual energy consumption: 1588.3866057838661 kWh\n"
     ]
    },
    {
     "data": {
      "application/vnd.plotly.v1+json": {
       "config": {
        "plotlyServerURL": "https://plot.ly"
       },
       "data": [
        {
         "marker": {
          "color": "blue"
         },
         "name": "Total Consumption",
         "type": "bar",
         "x": [
          "2000900",
          "2000901",
          "2000902",
          "2000903",
          "2000904",
          "2000905",
          "2000906",
          "2000907",
          "2000908",
          "2000909",
          "2000910",
          "2000911",
          "2000912",
          "2000913",
          "2000914",
          "2000915",
          "2000916",
          "2000917",
          "2000918",
          "2000919"
         ],
         "y": [
          271.66343226788433,
          361.03824200913243,
          463.2829147640791,
          93.69368340943683,
          180.20814307458144,
          968.5395738203956,
          688.8034627092846,
          0,
          712.1139649923896,
          603.1716133942161,
          653.0079908675799,
          438.5939878234399,
          1081.5234018264841,
          462.3677701674277,
          340.9252283105023,
          242.1704718417047,
          96.45205479452055,
          201.7431506849315,
          318.533105022831,
          334.148401826484
         ]
        },
        {
         "marker": {
          "color": [
           "yellow",
           "yellow",
           "green",
           "yellow",
           "green",
           "red",
           "red",
           "green",
           "yellow",
           "green",
           "red",
           "red",
           "red",
           "red",
           "green",
           "green",
           "yellow",
           "yellow",
           "red",
           "green"
          ]
         },
         "name": "Flexible Consumption",
         "opacity": 0.5,
         "type": "bar",
         "x": [
          "2000900",
          "2000901",
          "2000902",
          "2000903",
          "2000904",
          "2000905",
          "2000906",
          "2000907",
          "2000908",
          "2000909",
          "2000910",
          "2000911",
          "2000912",
          "2000913",
          "2000914",
          "2000915",
          "2000916",
          "2000917",
          "2000918",
          "2000919"
         ],
         "y": [
          12867.856544901066,
          7527.865327245054,
          13653.48308219178,
          4045.053082191781,
          25579.114345509894,
          685.2782971841705,
          2316.2662024353117,
          19460.290334855403,
          5089.441759893455,
          28706.746967275496,
          2008.7592465753426,
          2195.49475456621,
          2346.505707762557,
          1212.085949391172,
          45323.419242770164,
          21393.91170471842,
          6780.557383942163,
          9576.09932458143,
          877.5339022070016,
          14426.797374429223
         ]
        }
       ],
       "layout": {
        "barmode": "group",
        "template": {
         "data": {
          "bar": [
           {
            "error_x": {
             "color": "#2a3f5f"
            },
            "error_y": {
             "color": "#2a3f5f"
            },
            "marker": {
             "line": {
              "color": "#E5ECF6",
              "width": 0.5
             },
             "pattern": {
              "fillmode": "overlay",
              "size": 10,
              "solidity": 0.2
             }
            },
            "type": "bar"
           }
          ],
          "barpolar": [
           {
            "marker": {
             "line": {
              "color": "#E5ECF6",
              "width": 0.5
             },
             "pattern": {
              "fillmode": "overlay",
              "size": 10,
              "solidity": 0.2
             }
            },
            "type": "barpolar"
           }
          ],
          "carpet": [
           {
            "aaxis": {
             "endlinecolor": "#2a3f5f",
             "gridcolor": "white",
             "linecolor": "white",
             "minorgridcolor": "white",
             "startlinecolor": "#2a3f5f"
            },
            "baxis": {
             "endlinecolor": "#2a3f5f",
             "gridcolor": "white",
             "linecolor": "white",
             "minorgridcolor": "white",
             "startlinecolor": "#2a3f5f"
            },
            "type": "carpet"
           }
          ],
          "choropleth": [
           {
            "colorbar": {
             "outlinewidth": 0,
             "ticks": ""
            },
            "type": "choropleth"
           }
          ],
          "contour": [
           {
            "colorbar": {
             "outlinewidth": 0,
             "ticks": ""
            },
            "colorscale": [
             [
              0,
              "#0d0887"
             ],
             [
              0.1111111111111111,
              "#46039f"
             ],
             [
              0.2222222222222222,
              "#7201a8"
             ],
             [
              0.3333333333333333,
              "#9c179e"
             ],
             [
              0.4444444444444444,
              "#bd3786"
             ],
             [
              0.5555555555555556,
              "#d8576b"
             ],
             [
              0.6666666666666666,
              "#ed7953"
             ],
             [
              0.7777777777777778,
              "#fb9f3a"
             ],
             [
              0.8888888888888888,
              "#fdca26"
             ],
             [
              1,
              "#f0f921"
             ]
            ],
            "type": "contour"
           }
          ],
          "contourcarpet": [
           {
            "colorbar": {
             "outlinewidth": 0,
             "ticks": ""
            },
            "type": "contourcarpet"
           }
          ],
          "heatmap": [
           {
            "colorbar": {
             "outlinewidth": 0,
             "ticks": ""
            },
            "colorscale": [
             [
              0,
              "#0d0887"
             ],
             [
              0.1111111111111111,
              "#46039f"
             ],
             [
              0.2222222222222222,
              "#7201a8"
             ],
             [
              0.3333333333333333,
              "#9c179e"
             ],
             [
              0.4444444444444444,
              "#bd3786"
             ],
             [
              0.5555555555555556,
              "#d8576b"
             ],
             [
              0.6666666666666666,
              "#ed7953"
             ],
             [
              0.7777777777777778,
              "#fb9f3a"
             ],
             [
              0.8888888888888888,
              "#fdca26"
             ],
             [
              1,
              "#f0f921"
             ]
            ],
            "type": "heatmap"
           }
          ],
          "heatmapgl": [
           {
            "colorbar": {
             "outlinewidth": 0,
             "ticks": ""
            },
            "colorscale": [
             [
              0,
              "#0d0887"
             ],
             [
              0.1111111111111111,
              "#46039f"
             ],
             [
              0.2222222222222222,
              "#7201a8"
             ],
             [
              0.3333333333333333,
              "#9c179e"
             ],
             [
              0.4444444444444444,
              "#bd3786"
             ],
             [
              0.5555555555555556,
              "#d8576b"
             ],
             [
              0.6666666666666666,
              "#ed7953"
             ],
             [
              0.7777777777777778,
              "#fb9f3a"
             ],
             [
              0.8888888888888888,
              "#fdca26"
             ],
             [
              1,
              "#f0f921"
             ]
            ],
            "type": "heatmapgl"
           }
          ],
          "histogram": [
           {
            "marker": {
             "pattern": {
              "fillmode": "overlay",
              "size": 10,
              "solidity": 0.2
             }
            },
            "type": "histogram"
           }
          ],
          "histogram2d": [
           {
            "colorbar": {
             "outlinewidth": 0,
             "ticks": ""
            },
            "colorscale": [
             [
              0,
              "#0d0887"
             ],
             [
              0.1111111111111111,
              "#46039f"
             ],
             [
              0.2222222222222222,
              "#7201a8"
             ],
             [
              0.3333333333333333,
              "#9c179e"
             ],
             [
              0.4444444444444444,
              "#bd3786"
             ],
             [
              0.5555555555555556,
              "#d8576b"
             ],
             [
              0.6666666666666666,
              "#ed7953"
             ],
             [
              0.7777777777777778,
              "#fb9f3a"
             ],
             [
              0.8888888888888888,
              "#fdca26"
             ],
             [
              1,
              "#f0f921"
             ]
            ],
            "type": "histogram2d"
           }
          ],
          "histogram2dcontour": [
           {
            "colorbar": {
             "outlinewidth": 0,
             "ticks": ""
            },
            "colorscale": [
             [
              0,
              "#0d0887"
             ],
             [
              0.1111111111111111,
              "#46039f"
             ],
             [
              0.2222222222222222,
              "#7201a8"
             ],
             [
              0.3333333333333333,
              "#9c179e"
             ],
             [
              0.4444444444444444,
              "#bd3786"
             ],
             [
              0.5555555555555556,
              "#d8576b"
             ],
             [
              0.6666666666666666,
              "#ed7953"
             ],
             [
              0.7777777777777778,
              "#fb9f3a"
             ],
             [
              0.8888888888888888,
              "#fdca26"
             ],
             [
              1,
              "#f0f921"
             ]
            ],
            "type": "histogram2dcontour"
           }
          ],
          "mesh3d": [
           {
            "colorbar": {
             "outlinewidth": 0,
             "ticks": ""
            },
            "type": "mesh3d"
           }
          ],
          "parcoords": [
           {
            "line": {
             "colorbar": {
              "outlinewidth": 0,
              "ticks": ""
             }
            },
            "type": "parcoords"
           }
          ],
          "pie": [
           {
            "automargin": true,
            "type": "pie"
           }
          ],
          "scatter": [
           {
            "fillpattern": {
             "fillmode": "overlay",
             "size": 10,
             "solidity": 0.2
            },
            "type": "scatter"
           }
          ],
          "scatter3d": [
           {
            "line": {
             "colorbar": {
              "outlinewidth": 0,
              "ticks": ""
             }
            },
            "marker": {
             "colorbar": {
              "outlinewidth": 0,
              "ticks": ""
             }
            },
            "type": "scatter3d"
           }
          ],
          "scattercarpet": [
           {
            "marker": {
             "colorbar": {
              "outlinewidth": 0,
              "ticks": ""
             }
            },
            "type": "scattercarpet"
           }
          ],
          "scattergeo": [
           {
            "marker": {
             "colorbar": {
              "outlinewidth": 0,
              "ticks": ""
             }
            },
            "type": "scattergeo"
           }
          ],
          "scattergl": [
           {
            "marker": {
             "colorbar": {
              "outlinewidth": 0,
              "ticks": ""
             }
            },
            "type": "scattergl"
           }
          ],
          "scattermapbox": [
           {
            "marker": {
             "colorbar": {
              "outlinewidth": 0,
              "ticks": ""
             }
            },
            "type": "scattermapbox"
           }
          ],
          "scatterpolar": [
           {
            "marker": {
             "colorbar": {
              "outlinewidth": 0,
              "ticks": ""
             }
            },
            "type": "scatterpolar"
           }
          ],
          "scatterpolargl": [
           {
            "marker": {
             "colorbar": {
              "outlinewidth": 0,
              "ticks": ""
             }
            },
            "type": "scatterpolargl"
           }
          ],
          "scatterternary": [
           {
            "marker": {
             "colorbar": {
              "outlinewidth": 0,
              "ticks": ""
             }
            },
            "type": "scatterternary"
           }
          ],
          "surface": [
           {
            "colorbar": {
             "outlinewidth": 0,
             "ticks": ""
            },
            "colorscale": [
             [
              0,
              "#0d0887"
             ],
             [
              0.1111111111111111,
              "#46039f"
             ],
             [
              0.2222222222222222,
              "#7201a8"
             ],
             [
              0.3333333333333333,
              "#9c179e"
             ],
             [
              0.4444444444444444,
              "#bd3786"
             ],
             [
              0.5555555555555556,
              "#d8576b"
             ],
             [
              0.6666666666666666,
              "#ed7953"
             ],
             [
              0.7777777777777778,
              "#fb9f3a"
             ],
             [
              0.8888888888888888,
              "#fdca26"
             ],
             [
              1,
              "#f0f921"
             ]
            ],
            "type": "surface"
           }
          ],
          "table": [
           {
            "cells": {
             "fill": {
              "color": "#EBF0F8"
             },
             "line": {
              "color": "white"
             }
            },
            "header": {
             "fill": {
              "color": "#C8D4E3"
             },
             "line": {
              "color": "white"
             }
            },
            "type": "table"
           }
          ]
         },
         "layout": {
          "annotationdefaults": {
           "arrowcolor": "#2a3f5f",
           "arrowhead": 0,
           "arrowwidth": 1
          },
          "autotypenumbers": "strict",
          "coloraxis": {
           "colorbar": {
            "outlinewidth": 0,
            "ticks": ""
           }
          },
          "colorscale": {
           "diverging": [
            [
             0,
             "#8e0152"
            ],
            [
             0.1,
             "#c51b7d"
            ],
            [
             0.2,
             "#de77ae"
            ],
            [
             0.3,
             "#f1b6da"
            ],
            [
             0.4,
             "#fde0ef"
            ],
            [
             0.5,
             "#f7f7f7"
            ],
            [
             0.6,
             "#e6f5d0"
            ],
            [
             0.7,
             "#b8e186"
            ],
            [
             0.8,
             "#7fbc41"
            ],
            [
             0.9,
             "#4d9221"
            ],
            [
             1,
             "#276419"
            ]
           ],
           "sequential": [
            [
             0,
             "#0d0887"
            ],
            [
             0.1111111111111111,
             "#46039f"
            ],
            [
             0.2222222222222222,
             "#7201a8"
            ],
            [
             0.3333333333333333,
             "#9c179e"
            ],
            [
             0.4444444444444444,
             "#bd3786"
            ],
            [
             0.5555555555555556,
             "#d8576b"
            ],
            [
             0.6666666666666666,
             "#ed7953"
            ],
            [
             0.7777777777777778,
             "#fb9f3a"
            ],
            [
             0.8888888888888888,
             "#fdca26"
            ],
            [
             1,
             "#f0f921"
            ]
           ],
           "sequentialminus": [
            [
             0,
             "#0d0887"
            ],
            [
             0.1111111111111111,
             "#46039f"
            ],
            [
             0.2222222222222222,
             "#7201a8"
            ],
            [
             0.3333333333333333,
             "#9c179e"
            ],
            [
             0.4444444444444444,
             "#bd3786"
            ],
            [
             0.5555555555555556,
             "#d8576b"
            ],
            [
             0.6666666666666666,
             "#ed7953"
            ],
            [
             0.7777777777777778,
             "#fb9f3a"
            ],
            [
             0.8888888888888888,
             "#fdca26"
            ],
            [
             1,
             "#f0f921"
            ]
           ]
          },
          "colorway": [
           "#636efa",
           "#EF553B",
           "#00cc96",
           "#ab63fa",
           "#FFA15A",
           "#19d3f3",
           "#FF6692",
           "#B6E880",
           "#FF97FF",
           "#FECB52"
          ],
          "font": {
           "color": "#2a3f5f"
          },
          "geo": {
           "bgcolor": "white",
           "lakecolor": "white",
           "landcolor": "#E5ECF6",
           "showlakes": true,
           "showland": true,
           "subunitcolor": "white"
          },
          "hoverlabel": {
           "align": "left"
          },
          "hovermode": "closest",
          "mapbox": {
           "style": "light"
          },
          "paper_bgcolor": "white",
          "plot_bgcolor": "#E5ECF6",
          "polar": {
           "angularaxis": {
            "gridcolor": "white",
            "linecolor": "white",
            "ticks": ""
           },
           "bgcolor": "#E5ECF6",
           "radialaxis": {
            "gridcolor": "white",
            "linecolor": "white",
            "ticks": ""
           }
          },
          "scene": {
           "xaxis": {
            "backgroundcolor": "#E5ECF6",
            "gridcolor": "white",
            "gridwidth": 2,
            "linecolor": "white",
            "showbackground": true,
            "ticks": "",
            "zerolinecolor": "white"
           },
           "yaxis": {
            "backgroundcolor": "#E5ECF6",
            "gridcolor": "white",
            "gridwidth": 2,
            "linecolor": "white",
            "showbackground": true,
            "ticks": "",
            "zerolinecolor": "white"
           },
           "zaxis": {
            "backgroundcolor": "#E5ECF6",
            "gridcolor": "white",
            "gridwidth": 2,
            "linecolor": "white",
            "showbackground": true,
            "ticks": "",
            "zerolinecolor": "white"
           }
          },
          "shapedefaults": {
           "line": {
            "color": "#2a3f5f"
           }
          },
          "ternary": {
           "aaxis": {
            "gridcolor": "white",
            "linecolor": "white",
            "ticks": ""
           },
           "baxis": {
            "gridcolor": "white",
            "linecolor": "white",
            "ticks": ""
           },
           "bgcolor": "#E5ECF6",
           "caxis": {
            "gridcolor": "white",
            "linecolor": "white",
            "ticks": ""
           }
          },
          "title": {
           "x": 0.05
          },
          "xaxis": {
           "automargin": true,
           "gridcolor": "white",
           "linecolor": "white",
           "ticks": "",
           "title": {
            "standoff": 15
           },
           "zerolinecolor": "white",
           "zerolinewidth": 2
          },
          "yaxis": {
           "automargin": true,
           "gridcolor": "white",
           "linecolor": "white",
           "ticks": "",
           "title": {
            "standoff": 15
           },
           "zerolinecolor": "white",
           "zerolinewidth": 2
          }
         }
        },
        "title": {
         "text": "Total Energy Consumption vs. Flexible Consumption"
        },
        "xaxis": {
         "tickangle": -45,
         "title": {
          "text": "House ID"
         }
        },
        "yaxis": {
         "title": {
          "text": "Energy Consumption (kWh)"
         }
        }
       }
      }
     },
     "metadata": {},
     "output_type": "display_data"
    }
   ],
   "source": [
    "import pandas as pd\n",
    "import plotly.graph_objs as go\n",
    "\n",
    "# Load the Excel file with the correct sheet name\n",
    "excel_file = pd.ExcelFile(r'D:\\Grenoble_university\\6_month_internship\\working space\\data\\combined_1_year_data_with_flexibility.xlsx')\n",
    "\n",
    "# Load the appliances data\n",
    "appliances_file_path = r'D:\\Grenoble_university\\6_month_internship\\working space\\data\\column_titles_with add info.xlsx'\n",
    "appliances_df = pd.read_excel(appliances_file_path)\n",
    "\n",
    "# Initialize dictionaries to store total and flexible energy consumption\n",
    "total_consumption = {}\n",
    "flexible_consumption = {}\n",
    "\n",
    "# Iterate over each sheet from 2000900 to 2000920\n",
    "for sheet_number in range(2000900, 2000920):\n",
    "    sheet_name = str(sheet_number)\n",
    "    if sheet_name in excel_file.sheet_names:\n",
    "        print(f\"Processing sheet {sheet_name}\")\n",
    "        # Read the sheet\n",
    "        df = pd.read_excel(excel_file, sheet_name=sheet_name)\n",
    "        \n",
    "        # Initialize dictionaries for this sheet\n",
    "        total_consumption[sheet_name] = 0\n",
    "        flexible_consumption[sheet_name] = 0\n",
    "        \n",
    "        # Iterate over columns and check if appliance names match\n",
    "        for column in df.columns:\n",
    "            for index, appliance in appliances_df.iterrows():\n",
    "                # Extract substring before \"(\" symbol for comparison\n",
    "                appliance_name = appliance['Appliance'].split(\"(\")[0].strip()\n",
    "                if appliance_name in column:\n",
    "                    print(f\"Found matching appliance: {appliance_name}\")\n",
    "                    # Convert column data to numeric type\n",
    "                    df[column] = pd.to_numeric(df[column], errors='coerce')\n",
    "                    # Calculate annual energy consumption based on typical power\n",
    "                    typical_power = appliance['tipical power']\n",
    "                    annual_energy = typical_power * df[column].sum() / (60 * 24 * 365)  # Assuming data is in 1-minute intervals\n",
    "                    # Categorize as flexible or not flexible based on flexibility in appliances data\n",
    "                    flexibility = appliance['Flexibility']\n",
    "                    if flexibility == 'flexible':\n",
    "                        print(f\"{appliance['Appliance']} is flexible with annual energy consumption: {annual_energy} kWh\")\n",
    "                        flexible_consumption[sheet_name] += annual_energy\n",
    "                    else:\n",
    "                        print(f\"{appliance['Appliance']} is not flexible with annual energy consumption: {annual_energy} kWh\")\n",
    "                        total_consumption[sheet_name] += annual_energy\n",
    "\n",
    "# Convert dictionaries to DataFrame\n",
    "data_df = pd.DataFrame({\n",
    "    'House ID': list(total_consumption.keys()),\n",
    "    'Total Consumption': list(total_consumption.values()),\n",
    "    'Flexible Consumption': list(flexible_consumption.values())\n",
    "})\n",
    "\n",
    "# Define flexibility thresholds\n",
    "high_threshold = data_df['Flexible Consumption'].quantile(0.66)\n",
    "low_threshold = data_df['Flexible Consumption'].quantile(0.33)\n",
    "\n",
    "# Categorize flexibility potential\n",
    "def categorize_flexibility(value):\n",
    "    if value >= high_threshold:\n",
    "        return 'High'\n",
    "    elif value >= low_threshold:\n",
    "        return 'Average'\n",
    "    else:\n",
    "        return 'Low'\n",
    "\n",
    "data_df['Flexibility Category'] = data_df['Flexible Consumption'].apply(categorize_flexibility)\n",
    "\n",
    "# Define colors based on flexibility categories\n",
    "color_map = {\n",
    "    'High': 'green',\n",
    "    'Average': 'yellow',\n",
    "    'Low': 'red'\n",
    "}\n",
    "\n",
    "data_df['Color'] = data_df['Flexibility Category'].map(color_map)\n",
    "\n",
    "# Sort DataFrame by House ID\n",
    "data_df = data_df.sort_values(by='House ID')\n",
    "\n",
    "# Create a figure\n",
    "fig = go.Figure()\n",
    "\n",
    "# Add bars for total consumption\n",
    "fig.add_trace(go.Bar(\n",
    "    x=data_df['House ID'],\n",
    "    y=data_df['Total Consumption'],\n",
    "    name='Total Consumption',\n",
    "    marker_color='blue'\n",
    "))\n",
    "\n",
    "# Add bars for flexible consumption with colors based on flexibility category\n",
    "fig.add_trace(go.Bar(\n",
    "    x=data_df['House ID'],\n",
    "    y=data_df['Flexible Consumption'],\n",
    "    name='Flexible Consumption',\n",
    "    marker=dict(color=data_df['Color']),\n",
    "    opacity=0.5\n",
    "))\n",
    "\n",
    "# Update layout\n",
    "fig.update_layout(\n",
    "    title='Total Energy Consumption vs. Flexible Consumption',\n",
    "    xaxis_title='House ID',\n",
    "    yaxis_title='Energy Consumption (kWh)',\n",
    "    barmode='group',\n",
    "    xaxis_tickangle=-45\n",
    ")\n",
    "\n",
    "# Show the figure\n",
    "fig.show()\n"
   ]
  },
  {
   "cell_type": "code",
   "execution_count": 7,
   "metadata": {},
   "outputs": [
    {
     "name": "stdout",
     "output_type": "stream",
     "text": [
      "Processing sheet 2000900\n",
      "Found matching appliance: Fridge\n",
      "Fridge is not flexible with annual energy consumption: 145.53253424657535 kWh\n",
      "Found matching appliance: Halogen lamp\n",
      "Halogen lamp is flexible with annual energy consumption: 92.66362252663623 kWh\n",
      "Found matching appliance: Power supply for wood boiler\n",
      "Power supply for wood boiler is flexible with annual energy consumption: 201.5085616438356 kWh\n",
      "Found matching appliance: Vertical freezer\n",
      "Vertical freezer is not flexible with annual energy consumption: 126.13089802130898 kWh\n",
      "Found matching appliance: Washing machine\n",
      "Washing machine is flexible with annual energy consumption: 376.40410958904107 kWh\n",
      "Found matching appliance: Water heater\n",
      "Water heater is flexible with annual energy consumption: 12197.280251141552 kWh\n",
      "Processing sheet 2000901\n",
      "Found matching appliance: Chest freezer\n",
      "Chest freezer is not flexible with annual energy consumption: 233.20776255707761 kWh\n",
      "Found matching appliance: Clothes drier\n",
      "Clothes drier is flexible with annual energy consumption: 3017.9805936073058 kWh\n",
      "Found matching appliance: Dish washer\n",
      "Dish washer is flexible with annual energy consumption: 2946.626712328767 kWh\n",
      "Found matching appliance: Fridge\n",
      "Fridge is not flexible with annual energy consumption: 127.83047945205479 kWh\n",
      "Found matching appliance: Microwave oven\n",
      "Microwave oven is flexible with annual energy consumption: 219.9200913242009 kWh\n",
      "Found matching appliance: Non halogen lamp\n",
      "Non halogen lamp is flexible with annual energy consumption: 1.1491628614916287 kWh\n",
      "Found matching appliance: Non halogen lamp\n",
      "Non halogen lamp is flexible with annual energy consumption: 32.78443683409437 kWh\n",
      "Found matching appliance: TV\n",
      "TV is flexible with annual energy consumption: 33.97434550989345 kWh\n",
      "Found matching appliance: Washing machine\n",
      "Washing machine is flexible with annual energy consumption: 1275.4299847793 kWh\n",
      "Processing sheet 2000902\n",
      "Found matching appliance: Clothes drier\n",
      "Clothes drier is flexible with annual energy consumption: 2542.029680365297 kWh\n",
      "Found matching appliance: Electric Cooker\n",
      "Electric Cooker is flexible with annual energy consumption: 525.7933789954338 kWh\n",
      "Found matching appliance: Fridge freezer\n",
      "Fridge freezer is not flexible with annual energy consumption: 185.31316590563165 kWh\n",
      "Found matching appliance: Fridge\n",
      "Fridge is not flexible with annual energy consumption: 277.9697488584475 kWh\n",
      "Found matching appliance: Halogen lamp\n",
      "Halogen lamp is flexible with annual energy consumption: 1.7427701674277016 kWh\n",
      "Found matching appliance: Microwave oven\n",
      "Microwave oven is flexible with annual energy consumption: 130.6763698630137 kWh\n",
      "Found matching appliance: TV\n",
      "TV is flexible with annual energy consumption: 18.942937595129376 kWh\n",
      "Found matching appliance: Washing machine\n",
      "Washing machine is flexible with annual energy consumption: 1964.2846270928462 kWh\n",
      "Found matching appliance: Water heater\n",
      "Water heater is flexible with annual energy consumption: 8470.013318112633 kWh\n",
      "Processing sheet 2000903\n",
      "Found matching appliance: Chest freezer\n",
      "Chest freezer is not flexible with annual energy consumption: 93.69368340943683 kWh\n",
      "Found matching appliance: Dish washer\n",
      "Dish washer is flexible with annual energy consumption: 2792.3059360730595 kWh\n",
      "Found matching appliance: Halogen lamp\n",
      "Halogen lamp is flexible with annual energy consumption: 156.96917808219177 kWh\n",
      "Found matching appliance: Halogen lamp\n",
      "Halogen lamp is flexible with annual energy consumption: 13.048896499238966 kWh\n",
      "Found matching appliance: Halogen lamp\n",
      "Halogen lamp is flexible with annual energy consumption: 95.52130898021309 kWh\n",
      "Found matching appliance: Halogen lamp\n",
      "Halogen lamp is flexible with annual energy consumption: 62.96803652968037 kWh\n",
      "Found matching appliance: Power supply for fuel boiler\n",
      "Power supply for fuel boiler is flexible with annual energy consumption: 141.12709284627093 kWh\n",
      "Found matching appliance: Washing machine\n",
      "Washing machine is flexible with annual energy consumption: 783.1126331811263 kWh\n",
      "Processing sheet 2000904\n",
      "Found matching appliance: Chest freezer\n",
      "Chest freezer is not flexible with annual energy consumption: 180.20814307458144 kWh\n",
      "Found matching appliance: Clothes drier\n",
      "Clothes drier is flexible with annual energy consumption: 3134.769786910198 kWh\n",
      "Found matching appliance: Electric Cooker\n",
      "Electric Cooker is flexible with annual energy consumption: 1455.0285388127854 kWh\n",
      "Found matching appliance: Halogen lamp\n",
      "Halogen lamp is flexible with annual energy consumption: 8.125951293759513 kWh\n",
      "Found matching appliance: Non halogen lamp\n",
      "Non halogen lamp is flexible with annual energy consumption: 55.46042617960426 kWh\n",
      "Found matching appliance: Non halogen lamp\n",
      "Non halogen lamp is flexible with annual energy consumption: 0.213089802130898 kWh\n",
      "Found matching appliance: Washing machine\n",
      "Washing machine is flexible with annual energy consumption: 2181.1187214611873 kWh\n",
      "Found matching appliance: Water heater\n",
      "Water heater is flexible with annual energy consumption: 18744.397831050228 kWh\n",
      "Processing sheet 2000905\n",
      "Found matching appliance: Chest freezer\n",
      "Chest freezer is not flexible with annual energy consumption: 246.94520547945206 kWh\n",
      "Found matching appliance: Fridge freezer\n",
      "Fridge freezer is not flexible with annual energy consumption: 288.63774733637746 kWh\n",
      "Found matching appliance: Fridge\n",
      "Fridge is not flexible with annual energy consumption: 432.9566210045662 kWh\n",
      "Found matching appliance: Halogen lamp\n",
      "Halogen lamp is flexible with annual energy consumption: 14.036339421613395 kWh\n",
      "Found matching appliance: Microwave oven\n",
      "Microwave oven is flexible with annual energy consumption: 43.66438356164384 kWh\n",
      "Found matching appliance: TV\n",
      "TV is flexible with annual energy consumption: 15.0966000761035 kWh\n",
      "Found matching appliance: Washing machine\n",
      "Washing machine is flexible with annual energy consumption: 612.4809741248098 kWh\n",
      "Processing sheet 2000906\n",
      "Found matching appliance: Electric Cooker\n",
      "Electric Cooker is flexible with annual energy consumption: 1131.4212328767123 kWh\n",
      "Found matching appliance: Fridge freezer\n",
      "Fridge freezer is not flexible with annual energy consumption: 228.69292237442923 kWh\n",
      "Found matching appliance: Fridge\n",
      "Fridge is not flexible with annual energy consumption: 343.03938356164383 kWh\n",
      "Found matching appliance: Microwave oven\n",
      "Microwave oven is flexible with annual energy consumption: 229.70890410958904 kWh\n",
      "Found matching appliance: Non halogen lamp\n",
      "Non halogen lamp is flexible with annual energy consumption: 39.30365296803653 kWh\n",
      "Found matching appliance: TV\n",
      "TV is flexible with annual energy consumption: 37.651476407914764 kWh\n",
      "Found matching appliance: TV\n",
      "TV is flexible with annual energy consumption: 0.3955479452054795 kWh\n",
      "Found matching appliance: Vertical freezer\n",
      "Vertical freezer is not flexible with annual energy consumption: 117.07115677321157 kWh\n",
      "Found matching appliance: Washing machine\n",
      "Washing machine is flexible with annual energy consumption: 877.7853881278539 kWh\n",
      "Processing sheet 2000907\n",
      "Found matching appliance: Clothes drier\n",
      "Clothes drier is flexible with annual energy consumption: 2981.209284627093 kWh\n",
      "Found matching appliance: Dish washer\n",
      "Dish washer is flexible with annual energy consumption: 1689.3664383561643 kWh\n",
      "Found matching appliance: Microwave oven\n",
      "Microwave oven is flexible with annual energy consumption: 65.69349315068493 kWh\n",
      "Found matching appliance: Washing machine\n",
      "Washing machine is flexible with annual energy consumption: 1217.63698630137 kWh\n",
      "Found matching appliance: Water heater\n",
      "Water heater is flexible with annual energy consumption: 13506.384132420091 kWh\n",
      "Processing sheet 2000908\n",
      "Found matching appliance: Clothes drier\n",
      "Clothes drier is flexible with annual energy consumption: 1130.5597412480975 kWh\n",
      "Found matching appliance: Dish washer\n",
      "Dish washer is flexible with annual energy consumption: 1880.9874429223744 kWh\n",
      "Found matching appliance: Electric oven\n",
      "Electric oven is flexible with annual energy consumption: 518.2648401826484 kWh\n",
      "Found matching appliance: Fridge freezer\n",
      "Fridge freezer is not flexible with annual energy consumption: 188.4189497716895 kWh\n",
      "Found matching appliance: Fridge\n",
      "Fridge is not flexible with annual energy consumption: 282.62842465753425 kWh\n",
      "Found matching appliance: Hot plate\n",
      "Hot plate is flexible with annual energy consumption: 4.025875190258752 kWh\n",
      "Found matching appliance: Microwave oven\n",
      "Microwave oven is flexible with annual energy consumption: 210.0285388127854 kWh\n",
      "Found matching appliance: TV\n",
      "TV is flexible with annual energy consumption: 30.48019216133942 kWh\n",
      "Found matching appliance: Vertical freezer\n",
      "Vertical freezer is not flexible with annual energy consumption: 241.0665905631659 kWh\n",
      "Found matching appliance: Washing machine\n",
      "Washing machine is flexible with annual energy consumption: 1315.0951293759513 kWh\n",
      "Processing sheet 2000909\n",
      "Found matching appliance: Electric Cooker\n",
      "Electric Cooker is flexible with annual energy consumption: 3691.89497716895 kWh\n",
      "Found matching appliance: Electric heating\n",
      "Electric heating is flexible with annual energy consumption: 4535.465182648401 kWh\n",
      "Found matching appliance: Fridge freezer\n",
      "Fridge freezer is not flexible with annual energy consumption: 241.26864535768647 kWh\n",
      "Found matching appliance: Fridge\n",
      "Fridge is not flexible with annual energy consumption: 361.90296803652967 kWh\n",
      "Found matching appliance: Halogen lamp\n",
      "Halogen lamp is flexible with annual energy consumption: 4.018264840182648 kWh\n",
      "Found matching appliance: Microwave oven\n",
      "Microwave oven is flexible with annual energy consumption: 520.0285388127854 kWh\n",
      "Found matching appliance: TV\n",
      "TV is flexible with annual energy consumption: 43.82934931506849 kWh\n",
      "Found matching appliance: Washing machine\n",
      "Washing machine is flexible with annual energy consumption: 1742.2222222222222 kWh\n",
      "Found matching appliance: Water heater\n",
      "Water heater is flexible with annual energy consumption: 18169.288432267884 kWh\n",
      "Processing sheet 2000910\n",
      "Found matching appliance: Dish washer\n",
      "Dish washer is flexible with annual energy consumption: 394.04680365296804 kWh\n",
      "Found matching appliance: Electric Cooker\n",
      "Electric Cooker is flexible with annual energy consumption: 1319.5262557077626 kWh\n",
      "Found matching appliance: Fridge freezer\n",
      "Fridge freezer is not flexible with annual energy consumption: 182.5654490106545 kWh\n",
      "Found matching appliance: Fridge\n",
      "Fridge is not flexible with annual energy consumption: 273.8481735159817 kWh\n",
      "Found matching appliance: Halogen lamp\n",
      "Halogen lamp is flexible with annual energy consumption: 5.9998097412480975 kWh\n",
      "Found matching appliance: Microwave oven\n",
      "Microwave oven is flexible with annual energy consumption: 174.20376712328766 kWh\n",
      "Found matching appliance: TV\n",
      "TV is flexible with annual energy consumption: 15.994786910197869 kWh\n",
      "Found matching appliance: Vertical freezer\n",
      "Vertical freezer is not flexible with annual energy consumption: 196.59436834094367 kWh\n",
      "Found matching appliance: Washing machine\n",
      "Washing machine is flexible with annual energy consumption: 98.98782343987824 kWh\n",
      "Processing sheet 2000911\n",
      "Found matching appliance: Electric Cooker\n",
      "Electric Cooker is flexible with annual energy consumption: 1875.382420091324 kWh\n",
      "Found matching appliance: Fridge freezer\n",
      "Fridge freezer is not flexible with annual energy consumption: 175.43759512937595 kWh\n",
      "Found matching appliance: Fridge\n",
      "Fridge is not flexible with annual energy consumption: 263.1563926940639 kWh\n",
      "Found matching appliance: Non halogen lamp\n",
      "Non halogen lamp is flexible with annual energy consumption: 26.91780821917808 kWh\n",
      "Found matching appliance: Non halogen lamp\n",
      "Non halogen lamp is flexible with annual energy consumption: 0.06659056316590563 kWh\n",
      "Found matching appliance: Non halogen lamp\n",
      "Non halogen lamp is flexible with annual energy consumption: 4.128614916286149 kWh\n",
      "Found matching appliance: Non halogen lamp\n",
      "Non halogen lamp is flexible with annual energy consumption: 0.989345509893455 kWh\n",
      "Found matching appliance: TV\n",
      "TV is flexible with annual energy consumption: 11.06933599695586 kWh\n",
      "Found matching appliance: Washing machine\n",
      "Washing machine is flexible with annual energy consumption: 276.9406392694064 kWh\n",
      "Processing sheet 2000912\n",
      "Found matching appliance: Electric Cooker\n",
      "Electric Cooker is flexible with annual energy consumption: 845.6107305936073 kWh\n",
      "Found matching appliance: Fridge freezer\n",
      "Fridge freezer is not flexible with annual energy consumption: 340.146499238965 kWh\n",
      "Found matching appliance: Fridge\n",
      "Fridge is not flexible with annual energy consumption: 510.2197488584475 kWh\n",
      "Found matching appliance: Non halogen lamp\n",
      "Non halogen lamp is flexible with annual energy consumption: 283.201103500761 kWh\n",
      "Found matching appliance: Non halogen lamp\n",
      "Non halogen lamp is flexible with annual energy consumption: 7.276445966514459 kWh\n",
      "Found matching appliance: TV\n",
      "TV is flexible with annual energy consumption: 28.743150684931507 kWh\n",
      "Found matching appliance: Vertical freezer\n",
      "Vertical freezer is not flexible with annual energy consumption: 231.15715372907152 kWh\n",
      "Found matching appliance: Washing machine\n",
      "Washing machine is flexible with annual energy consumption: 1181.6742770167427 kWh\n",
      "Processing sheet 2000913\n",
      "Found matching appliance: Fridge freezer\n",
      "Fridge freezer is not flexible with annual energy consumption: 184.94710806697108 kWh\n",
      "Found matching appliance: Fridge\n",
      "Fridge is not flexible with annual energy consumption: 277.42066210045664 kWh\n",
      "Found matching appliance: Halogen lamp\n",
      "Halogen lamp is flexible with annual energy consumption: 65.77435312024353 kWh\n",
      "Found matching appliance: Microwave oven\n",
      "Microwave oven is flexible with annual energy consumption: 140.5365296803653 kWh\n",
      "Found matching appliance: Power supply for fuel boiler\n",
      "Power supply for fuel boiler is flexible with annual energy consumption: 136.02283105022832 kWh\n",
      "Found matching appliance: TV\n",
      "TV is flexible with annual energy consumption: 22.278871765601217 kWh\n",
      "Found matching appliance: Washing machine\n",
      "Washing machine is flexible with annual energy consumption: 847.4733637747337 kWh\n",
      "Processing sheet 2000914\n",
      "Found matching appliance: Clothes drier\n",
      "Clothes drier is flexible with annual energy consumption: 87.39307458143075 kWh\n",
      "Found matching appliance: Dish washer\n",
      "Dish washer is flexible with annual energy consumption: 708.527397260274 kWh\n",
      "Found matching appliance: Electric Cooker\n",
      "Electric Cooker is flexible with annual energy consumption: 2099.720319634703 kWh\n",
      "Found matching appliance: Electric heating\n",
      "Electric heating is flexible with annual energy consumption: 20706.05878995434 kWh\n",
      "Found matching appliance: Fridge\n",
      "Fridge is not flexible with annual energy consumption: 127.4480593607306 kWh\n",
      "Found matching appliance: Halogen lamp\n",
      "Halogen lamp is flexible with annual energy consumption: 27.57420091324201 kWh\n",
      "Found matching appliance: Microwave oven\n",
      "Microwave oven is flexible with annual energy consumption: 193.6472602739726 kWh\n",
      "Found matching appliance: TV\n",
      "TV is flexible with annual energy consumption: 23.986320395738204 kWh\n",
      "Found matching appliance: TV\n",
      "TV is flexible with annual energy consumption: 7.306210045662101 kWh\n",
      "Found matching appliance: Vertical freezer\n",
      "Vertical freezer is not flexible with annual energy consumption: 213.47716894977168 kWh\n",
      "Found matching appliance: Washing machine\n",
      "Washing machine is flexible with annual energy consumption: 849.6042617960426 kWh\n",
      "Found matching appliance: Water heater\n",
      "Water heater is flexible with annual energy consumption: 20619.601407914764 kWh\n",
      "Processing sheet 2000915\n",
      "Found matching appliance: Chest freezer\n",
      "Chest freezer is not flexible with annual energy consumption: 242.1704718417047 kWh\n",
      "Found matching appliance: Clothes drier\n",
      "Clothes drier is flexible with annual energy consumption: 538.5479452054794 kWh\n",
      "Found matching appliance: Electric Cooker\n",
      "Electric Cooker is flexible with annual energy consumption: 4251.415525114156 kWh\n",
      "Found matching appliance: Heat pump\n",
      "Heat pump is flexible with annual energy consumption: 3523.5521308980215 kWh\n",
      "Found matching appliance: Heat pump water heater\n",
      "Heat pump water heater is flexible with annual energy consumption: 4245.243531202435 kWh\n",
      "Found matching appliance: Heat pump\n",
      "Heat pump is flexible with annual energy consumption: 7291.295757229833 kWh\n",
      "Found matching appliance: Microwave oven\n",
      "Microwave oven is flexible with annual energy consumption: 259.38641552511416 kWh\n",
      "Found matching appliance: TV\n",
      "TV is flexible with annual energy consumption: 24.319020167427702 kWh\n",
      "Found matching appliance: TV\n",
      "TV is flexible with annual energy consumption: 17.41070205479452 kWh\n",
      "Found matching appliance: Washing machine\n",
      "Washing machine is flexible with annual energy consumption: 935.738203957382 kWh\n",
      "Found matching appliance: Water heater\n",
      "Water heater is flexible with annual energy consumption: 307.00247336377475 kWh\n",
      "Processing sheet 2000916\n",
      "Found matching appliance: Chest freezer\n",
      "Chest freezer is not flexible with annual energy consumption: 96.45205479452055 kWh\n",
      "Found matching appliance: Dish washer\n",
      "Dish washer is flexible with annual energy consumption: 2949.2123287671234 kWh\n",
      "Found matching appliance: Electric oven\n",
      "Electric oven is flexible with annual energy consumption: 1297.4457762557079 kWh\n",
      "Found matching appliance: Hot plate\n",
      "Hot plate is flexible with annual energy consumption: 743.3219178082192 kWh\n",
      "Found matching appliance: Microwave oven\n",
      "Microwave oven is flexible with annual energy consumption: 713.6615296803653 kWh\n",
      "Found matching appliance: TV\n",
      "TV is flexible with annual energy consumption: 47.61181316590563 kWh\n",
      "Found matching appliance: TV\n",
      "TV is flexible with annual energy consumption: 6.134216133942162 kWh\n",
      "Found matching appliance: TV\n",
      "TV is flexible with annual energy consumption: 1.5564079147640792 kWh\n",
      "Found matching appliance: Washing machine\n",
      "Washing machine is flexible with annual energy consumption: 1021.613394216134 kWh\n",
      "Processing sheet 2000917\n",
      "Found matching appliance: Dish washer\n",
      "Dish washer is flexible with annual energy consumption: 6470.239726027397 kWh\n",
      "Found matching appliance: Electric Cooker\n",
      "Electric Cooker is flexible with annual energy consumption: 1203.61301369863 kWh\n",
      "Found matching appliance: Fridge\n",
      "Fridge is not flexible with annual energy consumption: 201.7431506849315 kWh\n",
      "Found matching appliance: Microwave oven\n",
      "Microwave oven is flexible with annual energy consumption: 69.63470319634703 kWh\n",
      "Found matching appliance: Non halogen lamp\n",
      "Non halogen lamp is flexible with annual energy consumption: 3.4855403348554033 kWh\n",
      "Found matching appliance: Non halogen lamp\n",
      "Non halogen lamp is flexible with annual energy consumption: 7.401065449010654 kWh\n",
      "Found matching appliance: TV\n",
      "TV is flexible with annual energy consumption: 37.389682267884325 kWh\n",
      "Found matching appliance: TV\n",
      "TV is flexible with annual energy consumption: 4.723721461187215 kWh\n",
      "Found matching appliance: Washing machine\n",
      "Washing machine is flexible with annual energy consumption: 1779.6118721461187 kWh\n",
      "Processing sheet 2000918\n",
      "Found matching appliance: Electric Cooker\n",
      "Electric Cooker is flexible with annual energy consumption: 378.63013698630135 kWh\n",
      "Found matching appliance: Fridge freezer\n",
      "Fridge freezer is not flexible with annual energy consumption: 127.41324200913242 kWh\n",
      "Found matching appliance: Fridge\n",
      "Fridge is not flexible with annual energy consumption: 191.11986301369862 kWh\n",
      "Found matching appliance: Halogen lamp\n",
      "Halogen lamp is flexible with annual energy consumption: 98.48458904109589 kWh\n",
      "Found matching appliance: Microwave oven\n",
      "Microwave oven is flexible with annual energy consumption: 63.019406392694066 kWh\n",
      "Found matching appliance: TV\n",
      "TV is flexible with annual energy consumption: 12.6204699391172 kWh\n",
      "Found matching appliance: Washing machine\n",
      "Washing machine is flexible with annual energy consumption: 324.779299847793 kWh\n",
      "Processing sheet 2000919\n",
      "Found matching appliance: Electric oven\n",
      "Electric oven is flexible with annual energy consumption: 11969.506278538813 kWh\n",
      "Found matching appliance: Fridge freezer\n",
      "Fridge freezer is not flexible with annual energy consumption: 122.36453576864535 kWh\n",
      "Found matching appliance: Fridge\n",
      "Fridge is not flexible with annual energy consumption: 183.54680365296804 kWh\n",
      "Found matching appliance: Microwave oven\n",
      "Microwave oven is flexible with annual energy consumption: 815.7876712328767 kWh\n",
      "Found matching appliance: Power supply for fuel boiler\n",
      "Power supply for fuel boiler is flexible with annual energy consumption: 53.11681887366819 kWh\n",
      "Found matching appliance: Vertical freezer\n",
      "Vertical freezer is not flexible with annual energy consumption: 28.237062404870624 kWh\n",
      "Found matching appliance: Washing machine\n",
      "Washing machine is flexible with annual energy consumption: 1588.3866057838661 kWh\n",
      "Processing sheet 2000920\n",
      "Found matching appliance: Dish washer\n",
      "Dish washer is flexible with annual energy consumption: 2504.0525114155253 kWh\n",
      "Found matching appliance: Fridge freezer\n",
      "Fridge freezer is not flexible with annual energy consumption: 168.17351598173516 kWh\n",
      "Found matching appliance: Fridge\n",
      "Fridge is not flexible with annual energy consumption: 252.26027397260273 kWh\n",
      "Found matching appliance: Fridge\n",
      "Fridge is not flexible with annual energy consumption: 242.1164383561644 kWh\n",
      "Found matching appliance: Halogen lamp\n",
      "Halogen lamp is flexible with annual energy consumption: 370.49467275494675 kWh\n",
      "Found matching appliance: Microwave oven\n",
      "Microwave oven is flexible with annual energy consumption: 1969.1067351598174 kWh\n",
      "Found matching appliance: TV\n",
      "TV is flexible with annual energy consumption: 58.22011605783866 kWh\n",
      "Found matching appliance: TV\n",
      "TV is flexible with annual energy consumption: 58.915840943683406 kWh\n",
      "Found matching appliance: TV\n",
      "TV is flexible with annual energy consumption: 61.72174086757991 kWh\n",
      "Found matching appliance: Vertical freezer\n",
      "Vertical freezer is not flexible with annual energy consumption: 165.6613394216134 kWh\n",
      "Found matching appliance: Washing machine\n",
      "Washing machine is flexible with annual energy consumption: 1758.021308980213 kWh\n",
      "Processing sheet 2000921\n",
      "Found matching appliance: Electric Cooker\n",
      "Electric Cooker is flexible with annual energy consumption: 420.15410958904107 kWh\n",
      "Found matching appliance: Electric heating\n",
      "Electric heating is flexible with annual energy consumption: 856.5981735159818 kWh\n",
      "Found matching appliance: Microwave oven\n",
      "Microwave oven is flexible with annual energy consumption: 397.9737442922374 kWh\n",
      "Found matching appliance: No-frost fridge\n",
      "No-frost fridge is not flexible with annual energy consumption: 355.49695585996955 kWh\n",
      "Found matching appliance: TV\n",
      "TV is flexible with annual energy consumption: 8.84093607305936 kWh\n",
      "Found matching appliance: TV\n",
      "TV is flexible with annual energy consumption: 20.1074600456621 kWh\n",
      "Found matching appliance: Washing machine\n",
      "Washing machine is flexible with annual energy consumption: 512.2374429223744 kWh\n",
      "Found matching appliance: Water heater\n",
      "Water heater is flexible with annual energy consumption: 22611.831240487063 kWh\n",
      "Processing sheet 2000922\n",
      "Found matching appliance: Dish washer\n",
      "Dish washer is flexible with annual energy consumption: 2361.1700913242007 kWh\n",
      "Found matching appliance: Electric oven\n",
      "Electric oven is flexible with annual energy consumption: 1667.1565829528158 kWh\n",
      "Found matching appliance: Fridge freezer\n",
      "Fridge freezer is not flexible with annual energy consumption: 309.69520547945206 kWh\n",
      "Found matching appliance: Fridge\n",
      "Fridge is not flexible with annual energy consumption: 464.5428082191781 kWh\n",
      "Found matching appliance: Microwave oven\n",
      "Microwave oven is flexible with annual energy consumption: 95.95034246575342 kWh\n",
      "Found matching appliance: TV\n",
      "TV is flexible with annual energy consumption: 24.050047564687976 kWh\n",
      "Found matching appliance: TV\n",
      "TV is flexible with annual energy consumption: 13.617397260273973 kWh\n",
      "Found matching appliance: TV\n",
      "TV is flexible with annual energy consumption: 2.160717275494673 kWh\n",
      "Found matching appliance: Washing machine\n",
      "Washing machine is flexible with annual energy consumption: 870.6202435312024 kWh\n",
      "Found matching appliance: Washing machine+clothes drier\n",
      "Washing machine+clothes drier is flexible with annual energy consumption: 1088.2753044140031 kWh\n",
      "Processing sheet 2000923\n",
      "Found matching appliance: Electric Cooker\n",
      "Electric Cooker is flexible with annual energy consumption: 1957.3858447488585 kWh\n",
      "Found matching appliance: Fridge\n",
      "Fridge is not flexible with annual energy consumption: 143.3829908675799 kWh\n",
      "Found matching appliance: Non halogen lamp\n",
      "Non halogen lamp is flexible with annual energy consumption: 0.7049086757990868 kWh\n",
      "Found matching appliance: Non halogen lamp\n",
      "Non halogen lamp is flexible with annual energy consumption: 72.72450532724505 kWh\n",
      "Found matching appliance: Non halogen lamp\n",
      "Non halogen lamp is flexible with annual energy consumption: 18.285768645357688 kWh\n",
      "Found matching appliance: TV\n",
      "TV is flexible with annual energy consumption: 7.872722602739726 kWh\n",
      "Found matching appliance: Washing machine\n",
      "Washing machine is flexible with annual energy consumption: 596.2747336377473 kWh\n",
      "Processing sheet 2000924\n",
      "Found matching appliance: Electric Cooker\n",
      "Electric Cooker is flexible with annual energy consumption: 5126.632420091324 kWh\n",
      "Found matching appliance: Halogen lamp\n",
      "Halogen lamp is flexible with annual energy consumption: 911.3299086757991 kWh\n",
      "Found matching appliance: Power supply for fuel boiler\n",
      "Power supply for fuel boiler is flexible with annual energy consumption: 357.08637747336377 kWh\n",
      "Found matching appliance: TV\n",
      "TV is flexible with annual energy consumption: 118.66848554033486 kWh\n",
      "Found matching appliance: TV\n",
      "TV is flexible with annual energy consumption: 119.66204337899543 kWh\n",
      "Found matching appliance: Vertical freezer\n",
      "Vertical freezer is not flexible with annual energy consumption: 337.2229832572298 kWh\n",
      "Found matching appliance: Washing machine\n",
      "Washing machine is flexible with annual energy consumption: 3386.8036529680367 kWh\n",
      "Processing sheet 2000925\n",
      "Found matching appliance: Chest freezer\n",
      "Chest freezer is not flexible with annual energy consumption: 344.0882800608828 kWh\n",
      "Found matching appliance: Dish washer\n",
      "Dish washer is flexible with annual energy consumption: 600.6906392694063 kWh\n",
      "Found matching appliance: Fridge\n",
      "Fridge is not flexible with annual energy consumption: 154.0450913242009 kWh\n",
      "Found matching appliance: Halogen lamp\n",
      "Halogen lamp is flexible with annual energy consumption: 306.54870624048704 kWh\n",
      "Found matching appliance: Microwave oven\n",
      "Microwave oven is flexible with annual energy consumption: 222.80536529680364 kWh\n",
      "Found matching appliance: Microwave oven\n",
      "Microwave oven is flexible with annual energy consumption: 100.83333333333333 kWh\n",
      "Found matching appliance: Power supply for gas boiler\n",
      "Power supply for gas boiler is flexible with annual energy consumption: 166.27777777777777 kWh\n",
      "Found matching appliance: Washing machine\n",
      "Washing machine is flexible with annual energy consumption: 584.2351598173516 kWh\n",
      "Processing sheet 2000926\n",
      "Found matching appliance: Chest freezer\n",
      "Chest freezer is not flexible with annual energy consumption: 156.984398782344 kWh\n",
      "Found matching appliance: Dish washer\n",
      "Dish washer is flexible with annual energy consumption: 867.3972602739726 kWh\n",
      "Found matching appliance: Electric oven\n",
      "Electric oven is flexible with annual energy consumption: 165.58219178082192 kWh\n",
      "Found matching appliance: Fridge\n",
      "Fridge is not flexible with annual energy consumption: 107.09360730593608 kWh\n",
      "Found matching appliance: Fridge\n",
      "Fridge is not flexible with annual energy consumption: 263.5656392694064 kWh\n",
      "Found matching appliance: Halogen lamp\n",
      "Halogen lamp is flexible with annual energy consumption: 5.908485540334856 kWh\n",
      "Found matching appliance: Halogen lamp\n",
      "Halogen lamp is flexible with annual energy consumption: 37.19178082191781 kWh\n",
      "Found matching appliance: Halogen lamp\n",
      "Halogen lamp is flexible with annual energy consumption: 45.01902587519026 kWh\n",
      "Found matching appliance: Halogen lamp\n",
      "Halogen lamp is flexible with annual energy consumption: 36.99581430745814 kWh\n",
      "Found matching appliance: Non halogen lamp\n",
      "Non halogen lamp is flexible with annual energy consumption: 5.908485540334856 kWh\n",
      "Found matching appliance: Washing machine\n",
      "Washing machine is flexible with annual energy consumption: 628.8013698630137 kWh\n",
      "Processing sheet 2000927\n",
      "Found matching appliance: Clothes drier\n",
      "Clothes drier is flexible with annual energy consumption: 2189.69901065449 kWh\n",
      "Found matching appliance: Electric oven\n",
      "Electric oven is flexible with annual energy consumption: 417.351598173516 kWh\n",
      "Found matching appliance: Fridge freezer\n",
      "Fridge freezer is not flexible with annual energy consumption: 158.79908675799086 kWh\n",
      "Found matching appliance: Fridge\n",
      "Fridge is not flexible with annual energy consumption: 238.1986301369863 kWh\n",
      "Found matching appliance: Fridge\n",
      "Fridge is not flexible with annual energy consumption: 0.0 kWh\n",
      "Found matching appliance: Halogen lamp\n",
      "Halogen lamp is flexible with annual energy consumption: 106.02073820395738 kWh\n",
      "Found matching appliance: Halogen lamp\n",
      "Halogen lamp is flexible with annual energy consumption: 46.837899543378995 kWh\n",
      "Found matching appliance: Microwave oven\n",
      "Microwave oven is flexible with annual energy consumption: 408.6472602739726 kWh\n",
      "Found matching appliance: TV\n",
      "TV is flexible with annual energy consumption: 30.004069634703196 kWh\n",
      "Found matching appliance: Washing machine\n",
      "Washing machine is flexible with annual energy consumption: 3000.3272450532722 kWh\n",
      "Processing sheet 2000928\n",
      "Found matching appliance: Chest freezer\n",
      "Chest freezer is not flexible with annual energy consumption: 89.4627092846271 kWh\n",
      "Found matching appliance: Clothes drier\n",
      "Clothes drier is flexible with annual energy consumption: 274.6567732115677 kWh\n",
      "Found matching appliance: Dish washer\n",
      "Dish washer is flexible with annual energy consumption: 944.2751141552511 kWh\n",
      "Found matching appliance: Electric Cooker\n",
      "Electric Cooker is flexible with annual energy consumption: 351.38698630136986 kWh\n",
      "Found matching appliance: Electric heating\n",
      "Electric heating is flexible with annual energy consumption: 14972.571347031964 kWh\n",
      "Found matching appliance: Fridge freezer\n",
      "Fridge freezer is not flexible with annual energy consumption: 119.39535768645358 kWh\n",
      "Found matching appliance: Fridge\n",
      "Fridge is not flexible with annual energy consumption: 179.09303652968038 kWh\n",
      "Found matching appliance: Microwave oven\n",
      "Microwave oven is flexible with annual energy consumption: 41.19577625570776 kWh\n",
      "Found matching appliance: TV\n",
      "TV is flexible with annual energy consumption: 23.913070776255708 kWh\n",
      "Found matching appliance: TV\n",
      "TV is flexible with annual energy consumption: 2.0969901065449013 kWh\n",
      "Found matching appliance: Washing machine\n",
      "Washing machine is flexible with annual energy consumption: 369.5814307458143 kWh\n",
      "Found matching appliance: Water heater\n",
      "Water heater is flexible with annual energy consumption: 10909.25894216134 kWh\n",
      "Processing sheet 2000929\n",
      "Found matching appliance: Fridge freezer\n",
      "Fridge freezer is not flexible with annual energy consumption: 175.52435312024352 kWh\n",
      "Found matching appliance: Fridge\n",
      "Fridge is not flexible with annual energy consumption: 263.2865296803653 kWh\n",
      "Found matching appliance: Halogen lamp\n",
      "Halogen lamp is flexible with annual energy consumption: 266.97108066971083 kWh\n",
      "Found matching appliance: Microwave oven\n",
      "Microwave oven is flexible with annual energy consumption: 18.972602739726028 kWh\n",
      "Found matching appliance: TV\n",
      "TV is flexible with annual energy consumption: 7.773396118721461 kWh\n",
      "Found matching appliance: Washing machine\n",
      "Washing machine is flexible with annual energy consumption: 286.99771689497715 kWh\n",
      "Found matching appliance: Washing machine+clothes drier\n",
      "Washing machine+clothes drier is flexible with annual energy consumption: 358.74714611872145 kWh\n",
      "Processing sheet 2000930\n",
      "Found matching appliance: Clothes drier\n",
      "Clothes drier is flexible with annual energy consumption: 2309.9330289193304 kWh\n",
      "Found matching appliance: Dish washer\n",
      "Dish washer is flexible with annual energy consumption: 1809.12100456621 kWh\n",
      "Found matching appliance: Fridge freezer\n",
      "Fridge freezer is not flexible with annual energy consumption: 200.94292237442923 kWh\n",
      "Found matching appliance: Fridge\n",
      "Fridge is not flexible with annual energy consumption: 301.41438356164383 kWh\n",
      "Found matching appliance: TV\n",
      "TV is flexible with annual energy consumption: 1.4375970319634703 kWh\n",
      "Found matching appliance: TV\n",
      "TV is flexible with annual energy consumption: 51.19415905631659 kWh\n",
      "Found matching appliance: Vertical freezer\n",
      "Vertical freezer is not flexible with annual energy consumption: 161.02473363774735 kWh\n",
      "Found matching appliance: Washing machine\n",
      "Washing machine is flexible with annual energy consumption: 1019.0867579908676 kWh\n",
      "Processing sheet 2000931\n",
      "Found matching appliance: Aquarium\n",
      "Aquarium is not flexible with annual energy consumption: 699.4206621004566 kWh\n",
      "Found matching appliance: Clothes drier\n",
      "Clothes drier is flexible with annual energy consumption: 478.7260273972603 kWh\n",
      "Found matching appliance: Dish washer\n",
      "Dish washer is flexible with annual energy consumption: 2368.3447488584475 kWh\n",
      "Found matching appliance: Electric oven\n",
      "Electric oven is flexible with annual energy consumption: 230.80289193302892 kWh\n",
      "Found matching appliance: Fridge freezer\n",
      "Fridge freezer is not flexible with annual energy consumption: 193.09170471841705 kWh\n",
      "Found matching appliance: Fridge\n",
      "Fridge is not flexible with annual energy consumption: 289.63755707762556 kWh\n",
      "Found matching appliance: Microwave oven\n",
      "Microwave oven is flexible with annual energy consumption: 126.06735159817352 kWh\n",
      "Found matching appliance: Non halogen lamp\n",
      "Non halogen lamp is flexible with annual energy consumption: 0.4195205479452055 kWh\n",
      "Found matching appliance: Vertical freezer\n",
      "Vertical freezer is not flexible with annual energy consumption: 204.8748097412481 kWh\n",
      "Found matching appliance: Washing machine\n",
      "Washing machine is flexible with annual energy consumption: 1059.710806697108 kWh\n",
      "Processing sheet 2000932\n",
      "Found matching appliance: Electric Cooker\n",
      "Electric Cooker is flexible with annual energy consumption: 1905.4908675799086 kWh\n",
      "Found matching appliance: Fridge freezer\n",
      "Fridge freezer is not flexible with annual energy consumption: 318.9741248097412 kWh\n",
      "Found matching appliance: Fridge\n",
      "Fridge is not flexible with annual energy consumption: 478.46118721461187 kWh\n",
      "Found matching appliance: Microwave oven\n",
      "Microwave oven is flexible with annual energy consumption: 167.0576484018265 kWh\n",
      "Found matching appliance: Non halogen lamp\n",
      "Non halogen lamp is flexible with annual energy consumption: 0.5755327245053272 kWh\n",
      "Found matching appliance: Non halogen lamp\n",
      "Non halogen lamp is flexible with annual energy consumption: 2.337328767123288 kWh\n",
      "Found matching appliance: Non halogen lamp\n",
      "Non halogen lamp is flexible with annual energy consumption: 1.8150684931506849 kWh\n",
      "Found matching appliance: TV\n",
      "TV is flexible with annual energy consumption: 14.219216133942162 kWh\n",
      "Found matching appliance: TV\n",
      "TV is flexible with annual energy consumption: 3.6812328767123286 kWh\n",
      "Found matching appliance: Washing machine\n",
      "Washing machine is flexible with annual energy consumption: 591.8797564687976 kWh\n",
      "Processing sheet 2000933\n",
      "Found matching appliance: Dish washer\n",
      "Dish washer is flexible with annual energy consumption: 762.8824200913242 kWh\n",
      "Found matching appliance: Electric Cooker\n",
      "Electric Cooker is flexible with annual energy consumption: 840.1655251141552 kWh\n",
      "Found matching appliance: Fridge freezer\n",
      "Fridge freezer is not flexible with annual energy consumption: 178.92732115677322 kWh\n",
      "Found matching appliance: Fridge\n",
      "Fridge is not flexible with annual energy consumption: 268.3909817351598 kWh\n",
      "Found matching appliance: Microwave oven\n",
      "Microwave oven is flexible with annual energy consumption: 125.00570776255708 kWh\n",
      "Found matching appliance: TV\n",
      "TV is flexible with annual energy consumption: 14.007524733637748 kWh\n",
      "Found matching appliance: Washing machine\n",
      "Washing machine is flexible with annual energy consumption: 705.8447488584475 kWh\n",
      "Processing sheet 2000934\n",
      "Found matching appliance: Clothes drier\n",
      "Clothes drier is flexible with annual energy consumption: 862.7758751902587 kWh\n",
      "Found matching appliance: Electric heating\n",
      "Electric heating is flexible with annual energy consumption: 13419.23801369863 kWh\n",
      "Found matching appliance: Halogen lamp\n",
      "Halogen lamp is flexible with annual energy consumption: 1.9025875190258752 kWh\n",
      "Found matching appliance: Microwave oven\n",
      "Microwave oven is flexible with annual energy consumption: 107.35730593607306 kWh\n",
      "Found matching appliance: TV\n",
      "TV is flexible with annual energy consumption: 66.56881468797565 kWh\n",
      "Found matching appliance: TV\n",
      "TV is flexible with annual energy consumption: 26.645574581430747 kWh\n",
      "Found matching appliance: Vertical freezer\n",
      "Vertical freezer is not flexible with annual energy consumption: 282.5327245053272 kWh\n",
      "Found matching appliance: Washing machine\n",
      "Washing machine is flexible with annual energy consumption: 813.7709284627093 kWh\n",
      "Found matching appliance: Water heater\n",
      "Water heater is flexible with annual energy consumption: 8271.833143074582 kWh\n",
      "Processing sheet 2000935\n",
      "Found matching appliance: Electric oven\n",
      "Electric oven is flexible with annual energy consumption: 1509.72697869102 kWh\n",
      "Found matching appliance: Fridge freezer\n",
      "Fridge freezer is not flexible with annual energy consumption: 185.82001522070016 kWh\n",
      "Found matching appliance: Fridge\n",
      "Fridge is not flexible with annual energy consumption: 278.73002283105023 kWh\n",
      "Found matching appliance: Non halogen lamp\n",
      "Non halogen lamp is flexible with annual energy consumption: 0.06373668188736682 kWh\n",
      "Found matching appliance: Non halogen lamp\n",
      "Non halogen lamp is flexible with annual energy consumption: 0.8476027397260274 kWh\n",
      "Found matching appliance: Non halogen lamp\n",
      "Non halogen lamp is flexible with annual energy consumption: 20.99790715372907 kWh\n",
      "Found matching appliance: TV\n",
      "TV is flexible with annual energy consumption: 0.17579908675799086 kWh\n",
      "Found matching appliance: TV\n",
      "TV is flexible with annual energy consumption: 5.4570966514459665 kWh\n",
      "Found matching appliance: TV\n",
      "TV is flexible with annual energy consumption: 39.395403348554034 kWh\n",
      "Found matching appliance: Washing machine\n",
      "Washing machine is flexible with annual energy consumption: 917.7092846270929 kWh\n",
      "Processing sheet 2000936\n",
      "Found matching appliance: Clothes drier\n",
      "Clothes drier is flexible with annual energy consumption: 622.7180365296804 kWh\n",
      "Found matching appliance: Dish washer\n",
      "Dish washer is flexible with annual energy consumption: 795.0399543378995 kWh\n",
      "Found matching appliance: Electric heating\n",
      "Electric heating is flexible with annual energy consumption: 258.24486301369865 kWh\n",
      "Found matching appliance: Fridge\n",
      "Fridge is not flexible with annual energy consumption: 216.98173515981736 kWh\n",
      "Found matching appliance: TV\n",
      "TV is flexible with annual energy consumption: 19.71279109589041 kWh\n",
      "Found matching appliance: TV\n",
      "TV is flexible with annual energy consumption: 1.655441400304414 kWh\n",
      "Found matching appliance: Vertical freezer\n",
      "Vertical freezer is not flexible with annual energy consumption: 120.98630136986301 kWh\n",
      "Found matching appliance: Washing machine\n",
      "Washing machine is flexible with annual energy consumption: 1156.7389649923896 kWh\n",
      "Found matching appliance: Water heater\n",
      "Water heater is flexible with annual energy consumption: 12710.83999238965 kWh\n",
      "Processing sheet 2000937\n",
      "Found matching appliance: Chest freezer\n",
      "Chest freezer is not flexible with annual energy consumption: 233.6765601217656 kWh\n",
      "Found matching appliance: Dish washer\n",
      "Dish washer is flexible with annual energy consumption: 1431.9977168949772 kWh\n",
      "Found matching appliance: Electric oven\n",
      "Electric oven is flexible with annual energy consumption: 652.0119863013699 kWh\n",
      "Found matching appliance: Halogen lamp\n",
      "Halogen lamp is flexible with annual energy consumption: 28.147831050228312 kWh\n",
      "Found matching appliance: Microwave oven\n",
      "Microwave oven is flexible with annual energy consumption: 50.84760273972603 kWh\n",
      "Found matching appliance: TV\n",
      "TV is flexible with annual energy consumption: 9.947151826484019 kWh\n",
      "Found matching appliance: TV\n",
      "TV is flexible with annual energy consumption: 5.995920852359209 kWh\n",
      "Found matching appliance: TV\n",
      "TV is flexible with annual energy consumption: 13.363074581430746 kWh\n",
      "Found matching appliance: Washing machine\n",
      "Washing machine is flexible with annual energy consumption: 786.396499238965 kWh\n",
      "Processing sheet 2000938\n",
      "Found matching appliance: Chest freezer\n",
      "Chest freezer is not flexible with annual energy consumption: 380.33447488584477 kWh\n",
      "Found matching appliance: Clothes drier\n",
      "Clothes drier is flexible with annual energy consumption: 1277.7914764079148 kWh\n",
      "Found matching appliance: Dish washer\n",
      "Dish washer is flexible with annual energy consumption: 1165.3938356164383 kWh\n",
      "Found matching appliance: Electric Cooker\n",
      "Electric Cooker is flexible with annual energy consumption: 5254.240867579909 kWh\n",
      "Found matching appliance: Electric heating\n",
      "Electric heating is flexible with annual energy consumption: 20936.044520547945 kWh\n",
      "Found matching appliance: Fridge\n",
      "Fridge is not flexible with annual energy consumption: 174.26255707762556 kWh\n",
      "Found matching appliance: TV\n",
      "TV is flexible with annual energy consumption: 48.242199391171994 kWh\n",
      "Found matching appliance: TV\n",
      "TV is flexible with annual energy consumption: 5.8059113394216135 kWh\n",
      "Found matching appliance: Washing machine\n",
      "Washing machine is flexible with annual energy consumption: 598.3523592085236 kWh\n",
      "Found matching appliance: Water heater\n",
      "Water heater is flexible with annual energy consumption: 14369.990487062405 kWh\n",
      "Processing sheet 2000939\n",
      "Found matching appliance: Clothes drier\n",
      "Clothes drier is flexible with annual energy consumption: 741.4577625570777 kWh\n",
      "Found matching appliance: Dish washer\n",
      "Dish washer is flexible with annual energy consumption: 2468.0194063926942 kWh\n",
      "Found matching appliance: Electric oven\n",
      "Electric oven is flexible with annual energy consumption: 1900.3757610350076 kWh\n",
      "Found matching appliance: Fridge freezer\n",
      "Fridge freezer is not flexible with annual energy consumption: 176.40905631659055 kWh\n",
      "Found matching appliance: Fridge\n",
      "Fridge is not flexible with annual energy consumption: 264.61358447488584 kWh\n",
      "Found matching appliance: Fridge\n",
      "Fridge is not flexible with annual energy consumption: 99.10159817351598 kWh\n",
      "Found matching appliance: Halogen lamp\n",
      "Halogen lamp is flexible with annual energy consumption: 11.04261796042618 kWh\n",
      "Found matching appliance: Microwave oven\n",
      "Microwave oven is flexible with annual energy consumption: 272.716894977169 kWh\n",
      "Found matching appliance: Microwave oven\n",
      "Microwave oven is flexible with annual energy consumption: 246.98059360730593 kWh\n",
      "Found matching appliance: Vertical freezer\n",
      "Vertical freezer is not flexible with annual energy consumption: 301.6662861491629 kWh\n",
      "Found matching appliance: Washing machine\n",
      "Washing machine is flexible with annual energy consumption: 1178.6187214611873 kWh\n",
      "Processing sheet 2000940\n",
      "Found matching appliance: Clothes drier\n",
      "Clothes drier is flexible with annual energy consumption: 4756.5331050228315 kWh\n",
      "Found matching appliance: Dish washer\n",
      "Dish washer is flexible with annual energy consumption: 1318.5502283105022 kWh\n",
      "Found matching appliance: Fridge freezer\n",
      "Fridge freezer is not flexible with annual energy consumption: 173.50570776255708 kWh\n",
      "Found matching appliance: Fridge\n",
      "Fridge is not flexible with annual energy consumption: 260.2585616438356 kWh\n",
      "Found matching appliance: Power supply for gas boiler\n",
      "Power supply for gas boiler is flexible with annual energy consumption: 45.257610350076106 kWh\n",
      "Found matching appliance: TV\n",
      "TV is flexible with annual energy consumption: 11.145808599695586 kWh\n",
      "Found matching appliance: Vertical freezer\n",
      "Vertical freezer is not flexible with annual energy consumption: 158.49429223744292 kWh\n",
      "Found matching appliance: Washing machine\n",
      "Washing machine is flexible with annual energy consumption: 858.5197869101979 kWh\n",
      "Processing sheet 2000941\n",
      "Found matching appliance: Chest freezer\n",
      "Chest freezer is not flexible with annual energy consumption: 292.220700152207 kWh\n",
      "Found matching appliance: Dish washer\n",
      "Dish washer is flexible with annual energy consumption: 1785.005707762557 kWh\n",
      "Found matching appliance: Electric Cooker\n",
      "Electric Cooker is flexible with annual energy consumption: 1475.6278538812785 kWh\n",
      "Found matching appliance: Fridge\n",
      "Fridge is not flexible with annual energy consumption: 149.7579908675799 kWh\n",
      "Found matching appliance: Fridge\n",
      "Fridge is not flexible with annual energy consumption: 135.8304794520548 kWh\n",
      "Found matching appliance: Microwave oven\n",
      "Microwave oven is flexible with annual energy consumption: 97.65125570776256 kWh\n",
      "Found matching appliance: TV\n",
      "TV is flexible with annual energy consumption: 17.04738394216134 kWh\n",
      "Found matching appliance: Washing machine\n",
      "Washing machine is flexible with annual energy consumption: 402.90334855403347 kWh\n",
      "Processing sheet 2000942\n",
      "Found matching appliance: Chest freezer\n",
      "Chest freezer is not flexible with annual energy consumption: 125.99695585996956 kWh\n",
      "Found matching appliance: Fridge freezer\n",
      "Fridge freezer is not flexible with annual energy consumption: 226.79337899543378 kWh\n",
      "Found matching appliance: Fridge\n",
      "Fridge is not flexible with annual energy consumption: 340.1900684931507 kWh\n",
      "Found matching appliance: Halogen lamp\n",
      "Halogen lamp is flexible with annual energy consumption: 326.1910197869102 kWh\n",
      "Found matching appliance: Microwave oven\n",
      "Microwave oven is flexible with annual energy consumption: 560.222602739726 kWh\n",
      "Found matching appliance: Power supply for fuel boiler\n",
      "Power supply for fuel boiler is flexible with annual energy consumption: 77.93569254185692 kWh\n",
      "Found matching appliance: TV\n",
      "TV is flexible with annual energy consumption: 76.48212519025876 kWh\n",
      "Found matching appliance: Washing machine\n",
      "Washing machine is flexible with annual energy consumption: 1044.4178082191781 kWh\n",
      "Processing sheet 2000943\n",
      "Found matching appliance: Clothes drier\n",
      "Clothes drier is flexible with annual energy consumption: 1114.1141552511415 kWh\n",
      "Found matching appliance: Dish washer\n",
      "Dish washer is flexible with annual energy consumption: 1285.5479452054794 kWh\n",
      "Found matching appliance: Electric oven\n",
      "Electric oven is flexible with annual energy consumption: 463.4845890410959 kWh\n",
      "Found matching appliance: Fridge\n",
      "Fridge is not flexible with annual energy consumption: 317.0827625570776 kWh\n",
      "Found matching appliance: Fridge\n",
      "Fridge is not flexible with annual energy consumption: 117.62842465753425 kWh\n",
      "Found matching appliance: Halogen lamp\n",
      "Halogen lamp is flexible with annual energy consumption: 0.9046803652968036 kWh\n",
      "Found matching appliance: Microwave oven\n",
      "Microwave oven is flexible with annual energy consumption: 210.60216894977168 kWh\n",
      "Found matching appliance: Power supply for fuel boiler\n",
      "Power supply for fuel boiler is flexible with annual energy consumption: 200.31430745814308 kWh\n",
      "Found matching appliance: Vertical freezer\n",
      "Vertical freezer is not flexible with annual energy consumption: 189.40905631659055 kWh\n",
      "Found matching appliance: Washing machine\n",
      "Washing machine is flexible with annual energy consumption: 422.80441400304414 kWh\n",
      "Processing sheet 2000944\n",
      "Found matching appliance: Clothes drier\n",
      "Clothes drier is flexible with annual energy consumption: 1067.468797564688 kWh\n",
      "Found matching appliance: Dish washer\n",
      "Dish washer is flexible with annual energy consumption: 1239.7945205479452 kWh\n",
      "Found matching appliance: Electric heating\n",
      "Electric heating is flexible with annual energy consumption: 20424.39497716895 kWh\n",
      "Found matching appliance: Fridge\n",
      "Fridge is not flexible with annual energy consumption: 135.6546803652968 kWh\n",
      "Found matching appliance: Halogen lamp\n",
      "Halogen lamp is flexible with annual energy consumption: 72.57990867579909 kWh\n",
      "Found matching appliance: Vertical freezer\n",
      "Vertical freezer is not flexible with annual energy consumption: 121.64954337899543 kWh\n",
      "Found matching appliance: Washing machine\n",
      "Washing machine is flexible with annual energy consumption: 187.01674277016744 kWh\n",
      "Found matching appliance: Water heater\n",
      "Water heater is flexible with annual energy consumption: 12249.20091324201 kWh\n",
      "Processing sheet 2000945\n",
      "Found matching appliance: Chest freezer\n",
      "Chest freezer is not flexible with annual energy consumption: 148.20700152207002 kWh\n",
      "Found matching appliance: Electric Cooker\n",
      "Electric Cooker is flexible with annual energy consumption: 3151.0502283105025 kWh\n",
      "Found matching appliance: Electric heating\n",
      "Electric heating is flexible with annual energy consumption: 11109.323630136987 kWh\n",
      "Found matching appliance: Fridge freezer\n",
      "Fridge freezer is not flexible with annual energy consumption: 216.27016742770167 kWh\n",
      "Found matching appliance: Fridge\n",
      "Fridge is not flexible with annual energy consumption: 324.4052511415525 kWh\n",
      "Found matching appliance: Microwave oven\n",
      "Microwave oven is flexible with annual energy consumption: 202.25171232876713 kWh\n",
      "Found matching appliance: TV\n",
      "TV is flexible with annual energy consumption: 62.90032724505327 kWh\n",
      "Found matching appliance: TV\n",
      "TV is flexible with annual energy consumption: 2.5334113394216136 kWh\n",
      "Found matching appliance: Washing machine\n",
      "Washing machine is flexible with annual energy consumption: 259.783105022831 kWh\n",
      "Found matching appliance: Water heater\n",
      "Water heater is flexible with annual energy consumption: 13583.76902587519 kWh\n",
      "Processing sheet 2000946\n",
      "Found matching appliance: Chest freezer\n",
      "Chest freezer is not flexible with annual energy consumption: 162.7876712328767 kWh\n",
      "Found matching appliance: Clothes drier\n",
      "Clothes drier is flexible with annual energy consumption: 725.384703196347 kWh\n",
      "Found matching appliance: Dish washer\n",
      "Dish washer is flexible with annual energy consumption: 1109.2237442922374 kWh\n",
      "Found matching appliance: Electric oven\n",
      "Electric oven is flexible with annual energy consumption: 633.4950532724505 kWh\n",
      "Found matching appliance: Halogen lamp\n",
      "Halogen lamp is flexible with annual energy consumption: 6.5220700152207005 kWh\n",
      "Found matching appliance: Hot plate\n",
      "Hot plate is flexible with annual energy consumption: 127.54566210045662 kWh\n",
      "Found matching appliance: Microwave oven\n",
      "Microwave oven is flexible with annual energy consumption: 409.6318493150685 kWh\n",
      "Found matching appliance: Washing machine\n",
      "Washing machine is flexible with annual energy consumption: 1059.7336377473364 kWh\n",
      "Processing sheet 2000947\n",
      "Found matching appliance: Clothes drier\n",
      "Clothes drier is flexible with annual energy consumption: 3177.1708523592083 kWh\n",
      "Found matching appliance: Dish washer\n",
      "Dish washer is flexible with annual energy consumption: 2837.6997716894975 kWh\n",
      "Found matching appliance: Electric oven\n",
      "Electric oven is flexible with annual energy consumption: 829.1904490106544 kWh\n",
      "Found matching appliance: Fridge\n",
      "Fridge is not flexible with annual energy consumption: 237.83390410958904 kWh\n",
      "Found matching appliance: Hot plate\n",
      "Hot plate is flexible with annual energy consumption: 960.365296803653 kWh\n",
      "Found matching appliance: Microwave oven\n",
      "Microwave oven is flexible with annual energy consumption: 232.93949771689498 kWh\n",
      "Found matching appliance: TV\n",
      "TV is flexible with annual energy consumption: 32.35816590563166 kWh\n",
      "Found matching appliance: TV\n",
      "TV is flexible with annual energy consumption: 11.45521499238965 kWh\n",
      "Found matching appliance: TV\n",
      "TV is flexible with annual energy consumption: 23.353590182648404 kWh\n",
      "Found matching appliance: Vertical freezer\n",
      "Vertical freezer is not flexible with annual energy consumption: 168.58561643835617 kWh\n",
      "Found matching appliance: Washing machine\n",
      "Washing machine is flexible with annual energy consumption: 1221.4231354642313 kWh\n",
      "Processing sheet 2000948\n",
      "Found matching appliance: Dish washer\n",
      "Dish washer is flexible with annual energy consumption: 577.0490867579908 kWh\n",
      "Found matching appliance: Electric Cooker\n",
      "Electric Cooker is flexible with annual energy consumption: 2139.8173515981734 kWh\n",
      "Found matching appliance: Fridge\n",
      "Fridge is not flexible with annual energy consumption: 244.22716894977168 kWh\n",
      "Found matching appliance: Fridge\n",
      "Fridge is not flexible with annual energy consumption: 30.41038812785388 kWh\n",
      "Found matching appliance: Halogen lamp\n",
      "Halogen lamp is flexible with annual energy consumption: 133.43226788432267 kWh\n",
      "Found matching appliance: Heat pump\n",
      "Heat pump is flexible with annual energy consumption: 4676.734170471842 kWh\n",
      "Found matching appliance: Vertical freezer\n",
      "Vertical freezer is not flexible with annual energy consumption: 162.68188736681887 kWh\n",
      "Found matching appliance: Washing machine\n",
      "Washing machine is flexible with annual energy consumption: 427.15372907153727 kWh\n",
      "Found matching appliance: Washing machine+clothes drier\n",
      "Washing machine+clothes drier is flexible with annual energy consumption: 533.9421613394217 kWh\n",
      "Found matching appliance: Water heater\n",
      "Water heater is flexible with annual energy consumption: 11808.14497716895 kWh\n",
      "Found matching appliance: Water pump\n",
      "Water pump is not flexible with annual energy consumption: 847.9284627092846 kWh\n",
      "Processing sheet 2000949\n",
      "Found matching appliance: Dish washer\n",
      "Dish washer is flexible with annual energy consumption: 1015.4509132420092 kWh\n",
      "Found matching appliance: Electric oven\n",
      "Electric oven is flexible with annual energy consumption: 382.7197488584475 kWh\n",
      "Found matching appliance: Fridge freezer\n",
      "Fridge freezer is not flexible with annual energy consumption: 117.38013698630137 kWh\n",
      "Found matching appliance: Fridge\n",
      "Fridge is not flexible with annual energy consumption: 176.07020547945206 kWh\n",
      "Found matching appliance: Halogen lamp\n",
      "Halogen lamp is flexible with annual energy consumption: 96.13394216133942 kWh\n",
      "Found matching appliance: Microwave oven\n",
      "Microwave oven is flexible with annual energy consumption: 49.166666666666664 kWh\n",
      "Found matching appliance: Power supply for gas boiler\n",
      "Power supply for gas boiler is flexible with annual energy consumption: 240.8082191780822 kWh\n",
      "Found matching appliance: TV\n",
      "TV is flexible with annual energy consumption: 33.44738774733638 kWh\n",
      "Found matching appliance: Vertical freezer\n",
      "Vertical freezer is not flexible with annual energy consumption: 237.7663622526636 kWh\n",
      "Found matching appliance: Washing machine\n",
      "Washing machine is flexible with annual energy consumption: 614.265601217656 kWh\n",
      "Processing sheet 2000950\n",
      "Found matching appliance: Dish washer\n",
      "Dish washer is flexible with annual energy consumption: 5537.003424657534 kWh\n",
      "Found matching appliance: Fridge freezer\n",
      "Fridge freezer is not flexible with annual energy consumption: 316.6818873668189 kWh\n",
      "Found matching appliance: Fridge\n",
      "Fridge is not flexible with annual energy consumption: 475.0228310502283 kWh\n",
      "Found matching appliance: Microwave oven\n",
      "Microwave oven is flexible with annual energy consumption: 85.1027397260274 kWh\n",
      "Found matching appliance: TV\n",
      "TV is flexible with annual energy consumption: 28.670340563165905 kWh\n",
      "Found matching appliance: TV\n",
      "TV is flexible with annual energy consumption: 2.234552891933029 kWh\n",
      "Found matching appliance: Washing machine\n",
      "Washing machine is flexible with annual energy consumption: 1493.1963470319636 kWh\n",
      "Processing sheet 2000951\n",
      "Found matching appliance: Chest freezer\n",
      "Chest freezer is not flexible with annual energy consumption: 123.24391171993912 kWh\n",
      "Found matching appliance: Electric Cooker\n",
      "Electric Cooker is flexible with annual energy consumption: 1501.4212328767123 kWh\n",
      "Found matching appliance: Fridge\n",
      "Fridge is not flexible with annual energy consumption: 255.8915525114155 kWh\n",
      "Found matching appliance: Halogen lamp\n",
      "Halogen lamp is flexible with annual energy consumption: 267.18702435312025 kWh\n",
      "Found matching appliance: Microwave oven\n",
      "Microwave oven is flexible with annual energy consumption: 307.67123287671234 kWh\n",
      "Found matching appliance: Non halogen lamp\n",
      "Non halogen lamp is flexible with annual energy consumption: 12.374429223744292 kWh\n",
      "Found matching appliance: Non halogen lamp\n",
      "Non halogen lamp is flexible with annual energy consumption: 0.898021308980213 kWh\n",
      "Found matching appliance: Vertical freezer\n",
      "Vertical freezer is not flexible with annual energy consumption: 154.7134703196347 kWh\n",
      "Found matching appliance: Washing machine\n",
      "Washing machine is flexible with annual energy consumption: 572.6027397260274 kWh\n",
      "Processing sheet 2000952\n",
      "Found matching appliance: Chest freezer\n",
      "Chest freezer is not flexible with annual energy consumption: 180.1385083713851 kWh\n",
      "Found matching appliance: Clothes drier\n",
      "Clothes drier is flexible with annual energy consumption: 479.6761796042618 kWh\n",
      "Found matching appliance: Dish washer\n",
      "Dish washer is flexible with annual energy consumption: 1293.3847031963471 kWh\n",
      "Found matching appliance: Electric oven\n",
      "Electric oven is flexible with annual energy consumption: 465.8675799086758 kWh\n",
      "Found matching appliance: Microwave oven\n",
      "Microwave oven is flexible with annual energy consumption: 231.7865296803653 kWh\n",
      "Found matching appliance: Power supply for fuel boiler\n",
      "Power supply for fuel boiler is flexible with annual energy consumption: 107.37747336377474 kWh\n",
      "Found matching appliance: TV\n",
      "TV is flexible with annual energy consumption: 16.573019406392692 kWh\n",
      "Found matching appliance: TV\n",
      "TV is flexible with annual energy consumption: 10.345776255707763 kWh\n",
      "Found matching appliance: TV\n",
      "TV is flexible with annual energy consumption: 13.495070395738203 kWh\n",
      "Found matching appliance: Washing machine\n",
      "Washing machine is flexible with annual energy consumption: 1162.6864535768646 kWh\n",
      "Processing sheet 2000953\n",
      "Found matching appliance: Chest freezer\n",
      "Chest freezer is not flexible with annual energy consumption: 236.95814307458144 kWh\n",
      "Found matching appliance: Dish washer\n",
      "Dish washer is flexible with annual energy consumption: 839.6746575342465 kWh\n",
      "Found matching appliance: Electric heating\n",
      "Electric heating is flexible with annual energy consumption: 28957.037671232876 kWh\n",
      "Found matching appliance: Fridge freezer\n",
      "Fridge freezer is not flexible with annual energy consumption: 197.05289193302892 kWh\n",
      "Found matching appliance: Fridge\n",
      "Fridge is not flexible with annual energy consumption: 295.57933789954336 kWh\n",
      "Found matching appliance: Non halogen lamp\n",
      "Non halogen lamp is flexible with annual energy consumption: 83.80327245053273 kWh\n",
      "Found matching appliance: Non halogen lamp\n",
      "Non halogen lamp is flexible with annual energy consumption: 0.0 kWh\n",
      "Found matching appliance: TV\n",
      "TV is flexible with annual energy consumption: 26.186592465753424 kWh\n",
      "Found matching appliance: TV\n",
      "TV is flexible with annual energy consumption: 0.9140087519025876 kWh\n",
      "Found matching appliance: Washing machine\n",
      "Washing machine is flexible with annual energy consumption: 403.02891933028917 kWh\n",
      "Found matching appliance: Water heater\n",
      "Water heater is flexible with annual energy consumption: 11970.95890410959 kWh\n",
      "Processing sheet 2000954\n",
      "Found matching appliance: Electric heating\n",
      "Electric heating is flexible with annual energy consumption: 29097.51997716895 kWh\n",
      "Found matching appliance: Fridge\n",
      "Fridge is not flexible with annual energy consumption: 166.10216894977168 kWh\n",
      "Found matching appliance: TV\n",
      "TV is flexible with annual energy consumption: 33.87428652968037 kWh\n",
      "Found matching appliance: TV\n",
      "TV is flexible with annual energy consumption: 3.5146632420091324 kWh\n",
      "Found matching appliance: Vertical freezer\n",
      "Vertical freezer is not flexible with annual energy consumption: 246.0076103500761 kWh\n",
      "Found matching appliance: Washing machine\n",
      "Washing machine is flexible with annual energy consumption: 373.4703196347032 kWh\n",
      "Found matching appliance: Water heater\n",
      "Water heater is flexible with annual energy consumption: 20605.0047564688 kWh\n",
      "Processing sheet 2000955\n",
      "Found matching appliance: Electric oven\n",
      "Electric oven is flexible with annual energy consumption: 1442.503805175038 kWh\n",
      "Found matching appliance: Fridge freezer\n",
      "Fridge freezer is not flexible with annual energy consumption: 150.3165905631659 kWh\n",
      "Found matching appliance: Fridge\n",
      "Fridge is not flexible with annual energy consumption: 225.47488584474885 kWh\n",
      "Found matching appliance: TV\n",
      "TV is flexible with annual energy consumption: 3.638894596651446 kWh\n",
      "Found matching appliance: Washing machine\n",
      "Washing machine is flexible with annual energy consumption: 421.17199391171994 kWh\n",
      "Found matching appliance: Water heater\n",
      "Water heater is flexible with annual energy consumption: 14834.133371385084 kWh\n",
      "Processing sheet 2000956\n",
      "Found matching appliance: Electric oven\n",
      "Electric oven is flexible with annual energy consumption: 505.76959665144597 kWh\n",
      "Found matching appliance: Fridge freezer\n",
      "Fridge freezer is not flexible with annual energy consumption: 124.49124809741248 kWh\n",
      "Found matching appliance: Fridge\n",
      "Fridge is not flexible with annual energy consumption: 186.7368721461187 kWh\n",
      "Found matching appliance: Microwave oven\n",
      "Microwave oven is flexible with annual energy consumption: 130.70776255707761 kWh\n",
      "Found matching appliance: Non halogen lamp\n",
      "Non halogen lamp is flexible with annual energy consumption: 0.0 kWh\n",
      "Found matching appliance: Non halogen lamp\n",
      "Non halogen lamp is flexible with annual energy consumption: 0.6573439878234398 kWh\n",
      "Found matching appliance: TV\n",
      "TV is flexible with annual energy consumption: 22.403542617960426 kWh\n",
      "Found matching appliance: TV\n",
      "TV is flexible with annual energy consumption: 3.7981392694063927 kWh\n",
      "Found matching appliance: Vertical freezer\n",
      "Vertical freezer is not flexible with annual energy consumption: 136.90106544901064 kWh\n",
      "Found matching appliance: Washing machine\n",
      "Washing machine is flexible with annual energy consumption: 987.94901065449 kWh\n",
      "Found matching appliance: Water heater\n",
      "Water heater is flexible with annual energy consumption: 9577.48097412481 kWh\n",
      "Processing sheet 2000957\n",
      "Found matching appliance: Fridge freezer\n",
      "Fridge freezer is not flexible with annual energy consumption: 316.4254185692542 kWh\n",
      "Found matching appliance: Fridge\n",
      "Fridge is not flexible with annual energy consumption: 474.63812785388126 kWh\n",
      "Found matching appliance: Microwave oven\n",
      "Microwave oven is flexible with annual energy consumption: 109.92294520547945 kWh\n",
      "Found matching appliance: TV\n",
      "TV is flexible with annual energy consumption: 5.87681697108067 kWh\n",
      "Found matching appliance: Washing machine\n",
      "Washing machine is flexible with annual energy consumption: 802.1004566210046 kWh\n",
      "Processing sheet 2000958\n",
      "Found matching appliance: Fridge freezer\n",
      "Fridge freezer is not flexible with annual energy consumption: 226.324200913242 kWh\n",
      "Found matching appliance: Fridge\n",
      "Fridge is not flexible with annual energy consumption: 339.486301369863 kWh\n",
      "Found matching appliance: Microwave oven\n",
      "Microwave oven is flexible with annual energy consumption: 71.05022831050228 kWh\n",
      "Found matching appliance: TV\n",
      "TV is flexible with annual energy consumption: 18.520726788432267 kWh\n",
      "Found matching appliance: TV\n",
      "TV is flexible with annual energy consumption: 1.253154490106545 kWh\n",
      "Found matching appliance: Washing machine\n",
      "Washing machine is flexible with annual energy consumption: 545.1788432267884 kWh\n",
      "Processing sheet 2000959\n",
      "Found matching appliance: Clothes drier\n",
      "Clothes drier is flexible with annual energy consumption: 1391.6088280060883 kWh\n",
      "Found matching appliance: Electric heating\n",
      "Electric heating is flexible with annual energy consumption: 6479.660388127854 kWh\n",
      "Found matching appliance: Fridge freezer\n",
      "Fridge freezer is not flexible with annual energy consumption: 153.734398782344 kWh\n",
      "Found matching appliance: Fridge\n",
      "Fridge is not flexible with annual energy consumption: 230.60159817351598 kWh\n",
      "Found matching appliance: Microwave oven\n",
      "Microwave oven is flexible with annual energy consumption: 152.78253424657535 kWh\n",
      "Found matching appliance: TV\n",
      "TV is flexible with annual energy consumption: 28.265563165905633 kWh\n",
      "Found matching appliance: Washing machine\n",
      "Washing machine is flexible with annual energy consumption: 1094.6347031963471 kWh\n",
      "Found matching appliance: Water heater\n",
      "Water heater is flexible with annual energy consumption: 14241.197678843228 kWh\n",
      "Processing sheet 2000960\n",
      "Found matching appliance: Clothes drier\n",
      "Clothes drier is flexible with annual energy consumption: 2267.5947488584475 kWh\n",
      "Found matching appliance: Fridge freezer\n",
      "Fridge freezer is not flexible with annual energy consumption: 167.3824200913242 kWh\n",
      "Found matching appliance: Fridge\n",
      "Fridge is not flexible with annual energy consumption: 251.0736301369863 kWh\n",
      "Found matching appliance: Microwave oven\n",
      "Microwave oven is flexible with annual energy consumption: 103.61586757990868 kWh\n",
      "Found matching appliance: TV\n",
      "TV is flexible with annual energy consumption: 19.8973801369863 kWh\n",
      "Found matching appliance: TV\n",
      "TV is flexible with annual energy consumption: 2.9890239726027397 kWh\n",
      "Found matching appliance: Washing machine\n",
      "Washing machine is flexible with annual energy consumption: 997.8348554033486 kWh\n",
      "Processing sheet 2000961\n",
      "Found matching appliance: Dish washer\n",
      "Dish washer is flexible with annual energy consumption: 1701.8949771689497 kWh\n",
      "Found matching appliance: Fridge freezer\n",
      "Fridge freezer is not flexible with annual energy consumption: 158.75342465753425 kWh\n",
      "Found matching appliance: Fridge\n",
      "Fridge is not flexible with annual energy consumption: 238.13013698630138 kWh\n",
      "Found matching appliance: Halogen lamp\n",
      "Halogen lamp is flexible with annual energy consumption: 292.98896499238964 kWh\n",
      "Found matching appliance: Non halogen lamp\n",
      "Non halogen lamp is flexible with annual energy consumption: 2.0947488584474887 kWh\n",
      "Found matching appliance: Non halogen lamp\n",
      "Non halogen lamp is flexible with annual energy consumption: 5.6316590563165905 kWh\n",
      "Found matching appliance: Non halogen lamp\n",
      "Non halogen lamp is flexible with annual energy consumption: 25.193112633181126 kWh\n",
      "Found matching appliance: Washing machine\n",
      "Washing machine is flexible with annual energy consumption: 559.8287671232877 kWh\n",
      "Processing sheet 2000962\n",
      "Found matching appliance: Chest freezer\n",
      "Chest freezer is not flexible with annual energy consumption: 124.21575342465754 kWh\n",
      "Found matching appliance: Clothes drier\n",
      "Clothes drier is flexible with annual energy consumption: 4084.6038812785387 kWh\n",
      "Found matching appliance: Fridge\n",
      "Fridge is not flexible with annual energy consumption: 126.79737442922375 kWh\n",
      "Found matching appliance: Halogen lamp\n",
      "Halogen lamp is flexible with annual energy consumption: 286.7180365296804 kWh\n",
      "Found matching appliance: Microwave oven\n",
      "Microwave oven is flexible with annual energy consumption: 164.33219178082192 kWh\n",
      "Found matching appliance: TV\n",
      "TV is flexible with annual energy consumption: 43.23939687975647 kWh\n",
      "Found matching appliance: TV\n",
      "TV is flexible with annual energy consumption: 1.581459284627093 kWh\n",
      "Found matching appliance: Washing machine\n",
      "Washing machine is flexible with annual energy consumption: 1379.6803652968038 kWh\n",
      "Found matching appliance: Water heater\n",
      "Water heater is flexible with annual energy consumption: 19907.475266362253 kWh\n",
      "Processing sheet 2000963\n",
      "Found matching appliance: Fridge freezer\n",
      "Fridge freezer is not flexible with annual energy consumption: 293.9326484018265 kWh\n",
      "Found matching appliance: Fridge\n",
      "Fridge is not flexible with annual energy consumption: 440.8989726027397 kWh\n",
      "Found matching appliance: Halogen lamp\n",
      "Halogen lamp is flexible with annual energy consumption: 200.04851598173516 kWh\n",
      "Found matching appliance: Halogen lamp\n",
      "Halogen lamp is flexible with annual energy consumption: 35.012366818873666 kWh\n",
      "Found matching appliance: TV\n",
      "TV is flexible with annual energy consumption: 14.088978310502283 kWh\n",
      "Found matching appliance: Washing machine\n",
      "Washing machine is flexible with annual energy consumption: 76.27853881278538 kWh\n",
      "Processing sheet 2000964\n",
      "Found matching appliance: Aquarium\n",
      "Aquarium is not flexible with annual energy consumption: 233.0736301369863 kWh\n",
      "Found matching appliance: Dish washer\n",
      "Dish washer is flexible with annual energy consumption: 2946.997716894977 kWh\n",
      "Found matching appliance: Electric Cooker\n",
      "Electric Cooker is flexible with annual energy consumption: 732.648401826484 kWh\n",
      "Found matching appliance: Fridge freezer\n",
      "Fridge freezer is not flexible with annual energy consumption: 339.4006849315069 kWh\n",
      "Found matching appliance: Fridge\n",
      "Fridge is not flexible with annual energy consumption: 509.1010273972603 kWh\n",
      "Found matching appliance: Microwave oven\n",
      "Microwave oven is flexible with annual energy consumption: 194.74029680365297 kWh\n",
      "Found matching appliance: Non halogen lamp\n",
      "Non halogen lamp is flexible with annual energy consumption: 0.6316590563165906 kWh\n",
      "Found matching appliance: Non halogen lamp\n",
      "Non halogen lamp is flexible with annual energy consumption: 0.0 kWh\n",
      "Found matching appliance: Non halogen lamp\n",
      "Non halogen lamp is flexible with annual energy consumption: 1.1719939117199392 kWh\n",
      "Found matching appliance: Non halogen lamp\n",
      "Non halogen lamp is flexible with annual energy consumption: 0.3310502283105023 kWh\n",
      "Found matching appliance: TV\n",
      "TV is flexible with annual energy consumption: 24.689077245053273 kWh\n",
      "Found matching appliance: TV\n",
      "TV is flexible with annual energy consumption: 4.289937214611872 kWh\n",
      "Found matching appliance: Washing machine\n",
      "Washing machine is flexible with annual energy consumption: 1097.9680365296804 kWh\n",
      "Processing sheet 2000965\n",
      "Found matching appliance: Clothes drier\n",
      "Clothes drier is flexible with annual energy consumption: 699.4794520547945 kWh\n",
      "Found matching appliance: Fridge freezer\n",
      "Fridge freezer is not flexible with annual energy consumption: 284.8234398782344 kWh\n",
      "Found matching appliance: Fridge\n",
      "Fridge is not flexible with annual energy consumption: 427.2351598173516 kWh\n",
      "Found matching appliance: Halogen lamp\n",
      "Halogen lamp is flexible with annual energy consumption: 354.5500380517504 kWh\n",
      "Found matching appliance: Washing machine\n",
      "Washing machine is flexible with annual energy consumption: 604.0677321156774 kWh\n",
      "Processing sheet 2000966\n",
      "Found matching appliance: Chest freezer\n",
      "Chest freezer is not flexible with annual energy consumption: 187.99467275494672 kWh\n",
      "Found matching appliance: Clothes drier\n",
      "Clothes drier is flexible with annual energy consumption: 3352.827625570776 kWh\n",
      "Found matching appliance: Dish washer\n",
      "Dish washer is flexible with annual energy consumption: 1987.2374429223744 kWh\n",
      "Found matching appliance: Electric oven\n",
      "Electric oven is flexible with annual energy consumption: 546.4041095890411 kWh\n",
      "Found matching appliance: Fridge freezer\n",
      "Fridge freezer is not flexible with annual energy consumption: 262.0646879756469 kWh\n",
      "Found matching appliance: Fridge\n",
      "Fridge is not flexible with annual energy consumption: 393.09703196347033 kWh\n",
      "Found matching appliance: Halogen lamp\n",
      "Halogen lamp is flexible with annual energy consumption: 1.5001902587519025 kWh\n",
      "Found matching appliance: TV\n",
      "TV is flexible with annual energy consumption: 10.752018645357687 kWh\n",
      "Found matching appliance: TV\n",
      "TV is flexible with annual energy consumption: 1.3930612633181125 kWh\n",
      "Found matching appliance: Washing machine\n",
      "Washing machine is flexible with annual energy consumption: 859.3226788432268 kWh\n",
      "Processing sheet 2000967\n",
      "Found matching appliance: Electric heating\n",
      "Electric heating is flexible with annual energy consumption: 15275.108447488585 kWh\n",
      "Found matching appliance: Fridge freezer\n",
      "Fridge freezer is not flexible with annual energy consumption: 154.90905631659055 kWh\n",
      "Found matching appliance: Fridge\n",
      "Fridge is not flexible with annual energy consumption: 232.36358447488584 kWh\n",
      "Found matching appliance: Halogen lamp\n",
      "Halogen lamp is flexible with annual energy consumption: 80.14840182648402 kWh\n",
      "Found matching appliance: Halogen lamp\n",
      "Halogen lamp is flexible with annual energy consumption: 14.980022831050228 kWh\n",
      "Found matching appliance: Hot plate\n",
      "Hot plate is flexible with annual energy consumption: 570.9284627092846 kWh\n",
      "Found matching appliance: Microwave oven\n",
      "Microwave oven is flexible with annual energy consumption: 57.768264840182646 kWh\n",
      "Found matching appliance: Microwave oven\n",
      "Microwave oven is flexible with annual energy consumption: 345.00285388127855 kWh\n",
      "Found matching appliance: Non halogen lamp\n",
      "Non halogen lamp is flexible with annual energy consumption: 1.1843607305936072 kWh\n",
      "Found matching appliance: TV\n",
      "TV is flexible with annual energy consumption: 13.724048706240486 kWh\n",
      "Found matching appliance: Washing machine\n",
      "Washing machine is flexible with annual energy consumption: 310.2739726027397 kWh\n",
      "Found matching appliance: Water heater\n",
      "Water heater is flexible with annual energy consumption: 12007.310692541856 kWh\n",
      "Processing sheet 2000968\n",
      "Found matching appliance: Electric Cooker\n",
      "Electric Cooker is flexible with annual energy consumption: 490.42237442922374 kWh\n",
      "Found matching appliance: Electric heating\n",
      "Electric heating is flexible with annual energy consumption: 2579.132420091324 kWh\n",
      "Found matching appliance: Fridge\n",
      "Fridge is not flexible with annual energy consumption: 108.05079908675799 kWh\n",
      "Found matching appliance: TV\n",
      "TV is flexible with annual energy consumption: 10.528460806697108 kWh\n",
      "Found matching appliance: Washing machine\n",
      "Washing machine is flexible with annual energy consumption: 572.7625570776256 kWh\n",
      "Found matching appliance: Washing machine+clothes drier\n",
      "Washing machine+clothes drier is flexible with annual energy consumption: 715.953196347032 kWh\n",
      "Found matching appliance: Water heater\n",
      "Water heater is flexible with annual energy consumption: 7254.309360730594 kWh\n",
      "Processing sheet 2000969\n",
      "Found matching appliance: Dish washer\n",
      "Dish washer is flexible with annual energy consumption: 103.44748858447488 kWh\n",
      "Found matching appliance: Electric heating\n",
      "Electric heating is flexible with annual energy consumption: 14363.113584474886 kWh\n",
      "Found matching appliance: Halogen lamp\n",
      "Halogen lamp is flexible with annual energy consumption: 101.09684170471841 kWh\n",
      "Found matching appliance: Microwave oven\n",
      "Microwave oven is flexible with annual energy consumption: 74.96575342465754 kWh\n",
      "Found matching appliance: TV\n",
      "TV is flexible with annual energy consumption: 3.85234398782344 kWh\n",
      "Found matching appliance: Washing machine\n",
      "Washing machine is flexible with annual energy consumption: 575.0456621004566 kWh\n",
      "Found matching appliance: Washing machine+clothes drier\n",
      "Washing machine+clothes drier is flexible with annual energy consumption: 718.8070776255707 kWh\n",
      "Processing sheet 2000970\n",
      "Found matching appliance: Clothes drier\n",
      "Clothes drier is flexible with annual energy consumption: 540.8961187214612 kWh\n",
      "Found matching appliance: Dish washer\n",
      "Dish washer is flexible with annual energy consumption: 1044.25799086758 kWh\n",
      "Found matching appliance: Electric oven\n",
      "Electric oven is flexible with annual energy consumption: 1545.1103500761035 kWh\n",
      "Found matching appliance: Fridge freezer\n",
      "Fridge freezer is not flexible with annual energy consumption: 149.32610350076104 kWh\n",
      "Found matching appliance: Fridge\n",
      "Fridge is not flexible with annual energy consumption: 223.98915525114154 kWh\n",
      "Found matching appliance: Halogen lamp\n",
      "Halogen lamp is flexible with annual energy consumption: 119.58904109589041 kWh\n",
      "Found matching appliance: TV\n",
      "TV is flexible with annual energy consumption: 17.246476407914763 kWh\n",
      "Found matching appliance: TV\n",
      "TV is flexible with annual energy consumption: 6.05759703196347 kWh\n",
      "Processing sheet 2000971\n",
      "Found matching appliance: Computer site\n",
      "Computer site is flexible with annual energy consumption: 98.42444824961949 kWh\n",
      "Found matching appliance: Electric heating\n",
      "Electric heating is flexible with annual energy consumption: 11420.368150684932 kWh\n",
      "Found matching appliance: Fridge freezer\n",
      "Fridge freezer is not flexible with annual energy consumption: 149.10578386605783 kWh\n",
      "Found matching appliance: Fridge\n",
      "Fridge is not flexible with annual energy consumption: 223.65867579908675 kWh\n",
      "Found matching appliance: Fridge freezer\n",
      "Fridge freezer is not flexible with annual energy consumption: 222.0745814307458 kWh\n",
      "Found matching appliance: Fridge\n",
      "Fridge is not flexible with annual energy consumption: 333.11187214611874 kWh\n",
      "Found matching appliance: Fridge\n",
      "Fridge is not flexible with annual energy consumption: 86.03538812785388 kWh\n",
      "Found matching appliance: Fridge\n",
      "Fridge is not flexible with annual energy consumption: 317.26312785388126 kWh\n",
      "Found matching appliance: Halogen lamp\n",
      "Halogen lamp is flexible with annual energy consumption: 355.3434170471842 kWh\n",
      "Found matching appliance: Halogen lamp\n",
      "Halogen lamp is flexible with annual energy consumption: 27.669330289193304 kWh\n",
      "Found matching appliance: Microwave oven\n",
      "Microwave oven is flexible with annual energy consumption: 440.9474885844749 kWh\n",
      "Found matching appliance: Power supply for fuel boiler\n",
      "Power supply for fuel boiler is flexible with annual energy consumption: 186.61872146118722 kWh\n",
      "Found matching appliance: TV\n",
      "TV is flexible with annual energy consumption: 23.619046803652967 kWh\n",
      "Found matching appliance: Washing machine\n",
      "Washing machine is flexible with annual energy consumption: 1175.6811263318114 kWh\n",
      "Processing sheet 2000972\n",
      "Found matching appliance: Clothes drier\n",
      "Clothes drier is flexible with annual energy consumption: 1803.7237442922374 kWh\n",
      "Found matching appliance: Dish washer\n",
      "Dish washer is flexible with annual energy consumption: 1537.574200913242 kWh\n",
      "Found matching appliance: Electric Cooker\n",
      "Electric Cooker is flexible with annual energy consumption: 1104.4349315068494 kWh\n",
      "Found matching appliance: Fridge freezer\n",
      "Fridge freezer is not flexible with annual energy consumption: 178.4124809741248 kWh\n",
      "Found matching appliance: Fridge\n",
      "Fridge is not flexible with annual energy consumption: 267.6187214611872 kWh\n",
      "Found matching appliance: Halogen lamp\n",
      "Halogen lamp is flexible with annual energy consumption: 119.09246575342466 kWh\n",
      "Found matching appliance: Halogen lamp\n",
      "Halogen lamp is flexible with annual energy consumption: 63.41704718417047 kWh\n",
      "Found matching appliance: Halogen lamp\n",
      "Halogen lamp is flexible with annual energy consumption: 36.19006849315068 kWh\n",
      "Found matching appliance: TV\n",
      "TV is flexible with annual energy consumption: 33.02312595129376 kWh\n",
      "Found matching appliance: TV\n",
      "TV is flexible with annual energy consumption: 2.3041400304414004 kWh\n",
      "Found matching appliance: Washing machine\n",
      "Washing machine is flexible with annual energy consumption: 437.9071537290715 kWh\n",
      "Processing sheet 2000973\n",
      "Found matching appliance: Electric oven\n",
      "Electric oven is flexible with annual energy consumption: 1382.101407914764 kWh\n",
      "Found matching appliance: Fridge\n",
      "Fridge is not flexible with annual energy consumption: 104.69063926940639 kWh\n",
      "Found matching appliance: Microwave oven\n",
      "Microwave oven is flexible with annual energy consumption: 80.73344748858447 kWh\n",
      "Found matching appliance: TV\n",
      "TV is flexible with annual energy consumption: 4.000747716894977 kWh\n",
      "Found matching appliance: Vertical freezer\n",
      "Vertical freezer is not flexible with annual energy consumption: 409.72945205479454 kWh\n",
      "Found matching appliance: Washing machine\n",
      "Washing machine is flexible with annual energy consumption: 1093.8089802130899 kWh\n",
      "Processing sheet 2000974\n",
      "Found matching appliance: Dish washer\n",
      "Dish washer is flexible with annual energy consumption: 1338.4075342465753 kWh\n",
      "Found matching appliance: Electric heating\n",
      "Electric heating is flexible with annual energy consumption: 893.9383561643835 kWh\n",
      "Found matching appliance: Electric oven\n",
      "Electric oven is flexible with annual energy consumption: 356.26902587519027 kWh\n",
      "Found matching appliance: Fridge freezer\n",
      "Fridge freezer is not flexible with annual energy consumption: 174.67770167427702 kWh\n",
      "Found matching appliance: Fridge\n",
      "Fridge is not flexible with annual energy consumption: 262.0165525114155 kWh\n",
      "Found matching appliance: Halogen lamp\n",
      "Halogen lamp is flexible with annual energy consumption: 88.9773592085236 kWh\n",
      "Found matching appliance: Halogen lamp\n",
      "Halogen lamp is flexible with annual energy consumption: 36.37747336377473 kWh\n",
      "Found matching appliance: Halogen lamp\n",
      "Halogen lamp is flexible with annual energy consumption: 41.95205479452055 kWh\n",
      "Found matching appliance: Halogen lamp\n",
      "Halogen lamp is flexible with annual energy consumption: 53.38089802130898 kWh\n",
      "Found matching appliance: Hot plate\n",
      "Hot plate is flexible with annual energy consumption: 932.5 kWh\n",
      "Found matching appliance: TV\n",
      "TV is flexible with annual energy consumption: 48.24044140030441 kWh\n",
      "Found matching appliance: TV\n",
      "TV is flexible with annual energy consumption: 2.5698896499238963 kWh\n",
      "Found matching appliance: TV\n",
      "TV is flexible with annual energy consumption: 0.7099353120243531 kWh\n",
      "Found matching appliance: Washing machine\n",
      "Washing machine is flexible with annual energy consumption: 318.7823439878234 kWh\n",
      "Found matching appliance: Washing machine+clothes drier\n",
      "Washing machine+clothes drier is flexible with annual energy consumption: 398.4779299847793 kWh\n",
      "Found matching appliance: Water heater\n",
      "Water heater is flexible with annual energy consumption: 16117.79299847793 kWh\n",
      "Processing sheet 2000975\n",
      "Found matching appliance: Electric heating\n",
      "Electric heating is flexible with annual energy consumption: 6217.08904109589 kWh\n",
      "Found matching appliance: Fridge\n",
      "Fridge is not flexible with annual energy consumption: 130.63470319634703 kWh\n",
      "Found matching appliance: Halogen lamp\n",
      "Halogen lamp is flexible with annual energy consumption: 0.025684931506849314 kWh\n",
      "Found matching appliance: Hot plate\n",
      "Hot plate is flexible with annual energy consumption: 0.0 kWh\n",
      "Found matching appliance: Microwave oven\n",
      "Microwave oven is flexible with annual energy consumption: 81.81792237442923 kWh\n",
      "Found matching appliance: TV\n",
      "TV is flexible with annual energy consumption: 5.405089421613394 kWh\n",
      "Found matching appliance: Vertical freezer\n",
      "Vertical freezer is not flexible with annual energy consumption: 167.4790715372907 kWh\n",
      "Found matching appliance: Washing machine\n",
      "Washing machine is flexible with annual energy consumption: 178.69482496194826 kWh\n",
      "Found matching appliance: Water heater\n",
      "Water heater is flexible with annual energy consumption: 4746.801750380518 kWh\n",
      "Processing sheet 2000976\n",
      "Found matching appliance: Fridge freezer\n",
      "Fridge freezer is not flexible with annual energy consumption: 287.12937595129375 kWh\n",
      "Found matching appliance: Fridge\n",
      "Fridge is not flexible with annual energy consumption: 430.69406392694066 kWh\n",
      "Found matching appliance: Halogen lamp\n",
      "Halogen lamp is flexible with annual energy consumption: 0.0 kWh\n",
      "Found matching appliance: Halogen lamp\n",
      "Halogen lamp is flexible with annual energy consumption: 0.946537290715373 kWh\n",
      "Found matching appliance: Microwave oven\n",
      "Microwave oven is flexible with annual energy consumption: 151.5810502283105 kWh\n",
      "Found matching appliance: TV\n",
      "TV is flexible with annual energy consumption: 13.829235159817351 kWh\n",
      "Found matching appliance: TV\n",
      "TV is flexible with annual energy consumption: 5.96808599695586 kWh\n",
      "Found matching appliance: Washing machine\n",
      "Washing machine is flexible with annual energy consumption: 1470.654490106545 kWh\n",
      "Processing sheet 2000977\n",
      "Found matching appliance: Electric heating\n",
      "Electric heating is flexible with annual energy consumption: 2383.75 kWh\n",
      "Found matching appliance: Electric heating\n",
      "Electric heating is flexible with annual energy consumption: 2797.7140410958905 kWh\n",
      "Found matching appliance: Electric heating\n",
      "Electric heating is flexible with annual energy consumption: 3142.8424657534247 kWh\n",
      "Found matching appliance: Fridge\n",
      "Fridge is not flexible with annual energy consumption: 197.9263698630137 kWh\n",
      "Found matching appliance: Halogen lamp\n",
      "Halogen lamp is flexible with annual energy consumption: 26.507800608828006 kWh\n",
      "Found matching appliance: Microwave oven\n",
      "Microwave oven is flexible with annual energy consumption: 194.10102739726028 kWh\n",
      "Found matching appliance: TV\n",
      "TV is flexible with annual energy consumption: 15.01734398782344 kWh\n",
      "Found matching appliance: Water heater\n",
      "Water heater is flexible with annual energy consumption: 7925.6088280060885 kWh\n",
      "Processing sheet 2000978\n",
      "Found matching appliance: Clothes drier\n",
      "Clothes drier is flexible with annual energy consumption: 1559.953196347032 kWh\n",
      "Found matching appliance: Electric heating\n",
      "Electric heating is flexible with annual energy consumption: 412.2260273972603 kWh\n",
      "Found matching appliance: Electric oven\n",
      "Electric oven is flexible with annual energy consumption: 969.0639269406392 kWh\n",
      "Found matching appliance: Fridge freezer\n",
      "Fridge freezer is not flexible with annual energy consumption: 145.04946727549466 kWh\n",
      "Found matching appliance: Fridge\n",
      "Fridge is not flexible with annual energy consumption: 217.574200913242 kWh\n",
      "Found matching appliance: Halogen lamp\n",
      "Halogen lamp is flexible with annual energy consumption: 1.3660578386605784 kWh\n",
      "Found matching appliance: Halogen lamp\n",
      "Halogen lamp is flexible with annual energy consumption: 0.4023972602739726 kWh\n",
      "Found matching appliance: TV\n",
      "TV is flexible with annual energy consumption: 35.514931506849315 kWh\n",
      "Found matching appliance: TV\n",
      "TV is flexible with annual energy consumption: 2.923538812785388 kWh\n",
      "Found matching appliance: Washing machine\n",
      "Washing machine is flexible with annual energy consumption: 1218.37899543379 kWh\n",
      "Found matching appliance: Water heater\n",
      "Water heater is flexible with annual energy consumption: 37080.71537290715 kWh\n",
      "Processing sheet 2000979\n",
      "Found matching appliance: Dish washer\n",
      "Dish washer is flexible with annual energy consumption: 1019.634703196347 kWh\n",
      "Found matching appliance: Electric oven\n",
      "Electric oven is flexible with annual energy consumption: 1009.3559741248098 kWh\n",
      "Found matching appliance: Fridge freezer\n",
      "Fridge freezer is not flexible with annual energy consumption: 181.90182648401827 kWh\n",
      "Found matching appliance: Fridge\n",
      "Fridge is not flexible with annual energy consumption: 272.8527397260274 kWh\n",
      "Found matching appliance: Microwave oven\n",
      "Microwave oven is flexible with annual energy consumption: 81.68093607305936 kWh\n",
      "Found matching appliance: Power supply for wall boiler\n",
      "Power supply for wall boiler is flexible with annual energy consumption: 102.85692541856925 kWh\n",
      "Found matching appliance: TV\n",
      "TV is flexible with annual energy consumption: 3.428228691019787 kWh\n",
      "Found matching appliance: Washing machine\n",
      "Washing machine is flexible with annual energy consumption: 763.0783866057839 kWh\n",
      "Processing sheet 2000980\n",
      "Found matching appliance: Dish washer\n",
      "Dish washer is flexible with annual energy consumption: 2481.780821917808 kWh\n",
      "Found matching appliance: Electric oven\n",
      "Electric oven is flexible with annual energy consumption: 828.5673515981736 kWh\n",
      "Found matching appliance: Fridge freezer\n",
      "Fridge freezer is not flexible with annual energy consumption: 223.70053272450534 kWh\n",
      "Found matching appliance: Fridge\n",
      "Fridge is not flexible with annual energy consumption: 335.550799086758 kWh\n",
      "Found matching appliance: Halogen lamp\n",
      "Halogen lamp is flexible with annual energy consumption: 65.8685312024353 kWh\n",
      "Found matching appliance: Halogen lamp\n",
      "Halogen lamp is flexible with annual energy consumption: 80.37576103500761 kWh\n",
      "Found matching appliance: Hot plate\n",
      "Hot plate is flexible with annual energy consumption: 1160.140791476408 kWh\n",
      "Found matching appliance: Microwave oven\n",
      "Microwave oven is flexible with annual energy consumption: 75.38527397260275 kWh\n",
      "Found matching appliance: TV\n",
      "TV is flexible with annual energy consumption: 11.195032343987824 kWh\n",
      "Found matching appliance: TV\n",
      "TV is flexible with annual energy consumption: 2.792568493150685 kWh\n",
      "Found matching appliance: Washing machine\n",
      "Washing machine is flexible with annual energy consumption: 574.3455098934551 kWh\n",
      "Processing sheet 2000981\n",
      "Found matching appliance: Aquarium\n",
      "Aquarium is not flexible with annual energy consumption: 123.79280821917808 kWh\n",
      "Found matching appliance: Chest freezer\n",
      "Chest freezer is not flexible with annual energy consumption: 70.41704718417047 kWh\n",
      "Found matching appliance: Dish washer\n",
      "Dish washer is flexible with annual energy consumption: 2116.8664383561645 kWh\n",
      "Found matching appliance: Fridge\n",
      "Fridge is not flexible with annual energy consumption: 72.84703196347031 kWh\n",
      "Found matching appliance: Microwave oven\n",
      "Microwave oven is flexible with annual energy consumption: 761.1158675799087 kWh\n",
      "Found matching appliance: TV\n",
      "TV is flexible with annual energy consumption: 17.13923896499239 kWh\n",
      "Found matching appliance: TV\n",
      "TV is flexible with annual energy consumption: 0.5240277777777778 kWh\n",
      "Found matching appliance: Washing machine\n",
      "Washing machine is flexible with annual energy consumption: 143.4703196347032 kWh\n",
      "Found matching appliance: Water heater\n",
      "Water heater is flexible with annual energy consumption: 15713.475076103501 kWh\n",
      "Processing sheet 2000982\n",
      "Found matching appliance: Electric heating\n",
      "Electric heating is flexible with annual energy consumption: 7908.929794520548 kWh\n",
      "Found matching appliance: Electric oven\n",
      "Electric oven is flexible with annual energy consumption: 861.2823439878234 kWh\n",
      "Found matching appliance: Fridge freezer\n",
      "Fridge freezer is not flexible with annual energy consumption: 211.4410197869102 kWh\n",
      "Found matching appliance: Fridge\n",
      "Fridge is not flexible with annual energy consumption: 317.1615296803653 kWh\n",
      "Found matching appliance: Hot plate\n",
      "Hot plate is flexible with annual energy consumption: 468.30289193302895 kWh\n",
      "Found matching appliance: Microwave oven\n",
      "Microwave oven is flexible with annual energy consumption: 144.32077625570776 kWh\n",
      "Found matching appliance: TV\n",
      "TV is flexible with annual energy consumption: 8.037387747336377 kWh\n",
      "Found matching appliance: Washing machine\n",
      "Washing machine is flexible with annual energy consumption: 1076.2328767123288 kWh\n",
      "Found matching appliance: Washing machine+clothes drier\n",
      "Washing machine+clothes drier is flexible with annual energy consumption: 1345.291095890411 kWh\n",
      "Found matching appliance: Water heater\n",
      "Water heater is flexible with annual energy consumption: 15923.255327245053 kWh\n",
      "Processing sheet 2000983\n",
      "Found matching appliance: Dish washer\n",
      "Dish washer is flexible with annual energy consumption: 538.7614155251141 kWh\n",
      "Found matching appliance: Electric heating\n",
      "Electric heating is flexible with annual energy consumption: 2156.378424657534 kWh\n",
      "Found matching appliance: Fridge freezer\n",
      "Fridge freezer is not flexible with annual energy consumption: 161.1259512937595 kWh\n",
      "Found matching appliance: Fridge\n",
      "Fridge is not flexible with annual energy consumption: 241.68892694063928 kWh\n",
      "Found matching appliance: Hot plate\n",
      "Hot plate is flexible with annual energy consumption: 288.07077625570776 kWh\n",
      "Found matching appliance: Microwave oven\n",
      "Microwave oven is flexible with annual energy consumption: 276.26141552511416 kWh\n",
      "Found matching appliance: Non halogen lamp\n",
      "Non halogen lamp is flexible with annual energy consumption: 0.7676940639269406 kWh\n",
      "Found matching appliance: TV\n",
      "TV is flexible with annual energy consumption: 9.837277397260275 kWh\n",
      "Found matching appliance: Washing machine\n",
      "Washing machine is flexible with annual energy consumption: 318.1316590563166 kWh\n",
      "Found matching appliance: Washing machine+clothes drier\n",
      "Washing machine+clothes drier is flexible with annual energy consumption: 397.66457382039573 kWh\n",
      "Found matching appliance: Water heater\n",
      "Water heater is flexible with annual energy consumption: 9052.73401826484 kWh\n",
      "Found matching appliance: Water heater\n",
      "Water heater is flexible with annual energy consumption: 972.5218797564688 kWh\n",
      "Processing sheet 2000984\n",
      "Found matching appliance: Dish washer\n",
      "Dish washer is flexible with annual energy consumption: 808.8869863013699 kWh\n",
      "Found matching appliance: Electric Cooker\n",
      "Electric Cooker is flexible with annual energy consumption: 4063.2705479452056 kWh\n",
      "Found matching appliance: Fridge freezer\n",
      "Fridge freezer is not flexible with annual energy consumption: 214.07686453576864 kWh\n",
      "Found matching appliance: Fridge\n",
      "Fridge is not flexible with annual energy consumption: 321.115296803653 kWh\n",
      "Found matching appliance: Halogen lamp\n",
      "Halogen lamp is flexible with annual energy consumption: 146.2214611872146 kWh\n",
      "Found matching appliance: Halogen lamp\n",
      "Halogen lamp is flexible with annual energy consumption: 195.62119482496195 kWh\n",
      "Found matching appliance: Halogen lamp\n",
      "Halogen lamp is flexible with annual energy consumption: 9.19996194824962 kWh\n",
      "Found matching appliance: Halogen lamp\n",
      "Halogen lamp is flexible with annual energy consumption: 213.6025494672755 kWh\n",
      "Found matching appliance: Halogen lamp\n",
      "Halogen lamp is flexible with annual energy consumption: 231.56392694063928 kWh\n",
      "Found matching appliance: Microwave oven\n",
      "Microwave oven is flexible with annual energy consumption: 34.99143835616438 kWh\n",
      "Found matching appliance: TV\n",
      "TV is flexible with annual energy consumption: 33.89098744292237 kWh\n",
      "Found matching appliance: TV\n",
      "TV is flexible with annual energy consumption: 5.683877473363775 kWh\n",
      "Found matching appliance: Washing machine\n",
      "Washing machine is flexible with annual energy consumption: 665.216894977169 kWh\n",
      "Processing sheet 2000985\n",
      "Found matching appliance: Aquarium\n",
      "Aquarium is not flexible with annual energy consumption: 200.8818493150685 kWh\n",
      "Found matching appliance: Dish washer\n",
      "Dish washer is flexible with annual energy consumption: 2592.8538812785387 kWh\n",
      "Found matching appliance: Electric Cooker\n",
      "Electric Cooker is flexible with annual energy consumption: 1424.9315068493152 kWh\n",
      "Found matching appliance: Fridge freezer\n",
      "Fridge freezer is not flexible with annual energy consumption: 254.73173515981736 kWh\n",
      "Found matching appliance: Fridge\n",
      "Fridge is not flexible with annual energy consumption: 382.097602739726 kWh\n",
      "Found matching appliance: Halogen lamp\n",
      "Halogen lamp is flexible with annual energy consumption: 19.484398782343987 kWh\n",
      "Found matching appliance: Halogen lamp\n",
      "Halogen lamp is flexible with annual energy consumption: 10.519406392694064 kWh\n",
      "Found matching appliance: Microwave oven\n",
      "Microwave oven is flexible with annual energy consumption: 98.2648401826484 kWh\n",
      "Found matching appliance: TV\n",
      "TV is flexible with annual energy consumption: 14.686548706240487 kWh\n",
      "Found matching appliance: Washing machine\n",
      "Washing machine is flexible with annual energy consumption: 1184.3036529680364 kWh\n",
      "Processing sheet 2000986\n",
      "Found matching appliance: Aquarium\n",
      "Aquarium is not flexible with annual energy consumption: 146.65582191780823 kWh\n",
      "Found matching appliance: Chest freezer\n",
      "Chest freezer is not flexible with annual energy consumption: 97.12252663622526 kWh\n",
      "Found matching appliance: Electric Cooker\n",
      "Electric Cooker is flexible with annual energy consumption: 78.75570776255708 kWh\n",
      "Found matching appliance: Fridge freezer\n",
      "Fridge freezer is not flexible with annual energy consumption: 210.0669710806697 kWh\n",
      "Found matching appliance: Fridge\n",
      "Fridge is not flexible with annual energy consumption: 315.1004566210046 kWh\n",
      "Found matching appliance: Microwave oven\n",
      "Microwave oven is flexible with annual energy consumption: 186.9634703196347 kWh\n",
      "Found matching appliance: Microwave oven\n",
      "Microwave oven is flexible with annual energy consumption: 278.75570776255705 kWh\n",
      "Found matching appliance: TV\n",
      "TV is flexible with annual energy consumption: 21.049450152207 kWh\n",
      "Found matching appliance: Washing machine\n",
      "Washing machine is flexible with annual energy consumption: 512.7283105022831 kWh\n",
      "Processing sheet 2000987\n",
      "Found matching appliance: Aquarium\n",
      "Aquarium is not flexible with annual energy consumption: 161.66038812785388 kWh\n",
      "Found matching appliance: Chest freezer\n",
      "Chest freezer is not flexible with annual energy consumption: 196.09779299847793 kWh\n",
      "Found matching appliance: Clothes drier\n",
      "Clothes drier is flexible with annual energy consumption: 59.131278538812786 kWh\n",
      "Found matching appliance: Electric Cooker\n",
      "Electric Cooker is flexible with annual energy consumption: 1095.8618721461187 kWh\n",
      "Found matching appliance: Fridge freezer\n",
      "Fridge freezer is not flexible with annual energy consumption: 76.64459665144597 kWh\n",
      "Found matching appliance: Fridge\n",
      "Fridge is not flexible with annual energy consumption: 114.96689497716895 kWh\n",
      "Found matching appliance: Microwave oven\n",
      "Microwave oven is flexible with annual energy consumption: 107.6541095890411 kWh\n",
      "Found matching appliance: TV\n",
      "TV is flexible with annual energy consumption: 31.98635083713851 kWh\n",
      "Found matching appliance: TV\n",
      "TV is flexible with annual energy consumption: 0.7544710806697108 kWh\n",
      "Found matching appliance: Washing machine\n",
      "Washing machine is flexible with annual energy consumption: 656.5372907153729 kWh\n",
      "Found matching appliance: Water heater\n",
      "Water heater is flexible with annual energy consumption: 14448.460806697109 kWh\n",
      "Processing sheet 2000988\n",
      "Found matching appliance: Fridge\n",
      "Fridge is not flexible with annual energy consumption: 124.37100456621005 kWh\n",
      "Found matching appliance: Halogen lamp\n",
      "Halogen lamp is flexible with annual energy consumption: 30.235920852359207 kWh\n",
      "Found matching appliance: Microwave oven\n",
      "Microwave oven is flexible with annual energy consumption: 882.2973744292237 kWh\n",
      "Found matching appliance: Non halogen lamp\n",
      "Non halogen lamp is flexible with annual energy consumption: 4.60806697108067 kWh\n",
      "Found matching appliance: Non halogen lamp\n",
      "Non halogen lamp is flexible with annual energy consumption: 97.64364535768645 kWh\n",
      "Found matching appliance: Non halogen lamp\n",
      "Non halogen lamp is flexible with annual energy consumption: 0.0 kWh\n",
      "Found matching appliance: TV\n",
      "TV is flexible with annual energy consumption: 11.81648211567732 kWh\n",
      "Found matching appliance: Vertical freezer\n",
      "Vertical freezer is not flexible with annual energy consumption: 146.06316590563165 kWh\n",
      "Found matching appliance: Washing machine\n",
      "Washing machine is flexible with annual energy consumption: 588.2572298325723 kWh\n",
      "Processing sheet 2000989\n",
      "Found matching appliance: Chest freezer\n",
      "Chest freezer is not flexible with annual energy consumption: 338.71270928462707 kWh\n",
      "Found matching appliance: Clothes drier\n",
      "Clothes drier is flexible with annual energy consumption: 2285.421613394216 kWh\n",
      "Found matching appliance: Dish washer\n",
      "Dish washer is flexible with annual energy consumption: 3178.327625570776 kWh\n",
      "Found matching appliance: Microwave oven\n",
      "Microwave oven is flexible with annual energy consumption: 307.80536529680364 kWh\n",
      "Found matching appliance: TV\n",
      "TV is flexible with annual energy consumption: 36.53705669710806 kWh\n",
      "Found matching appliance: TV\n",
      "TV is flexible with annual energy consumption: 2.7263508371385083 kWh\n",
      "Found matching appliance: Washing machine\n",
      "Washing machine is flexible with annual energy consumption: 1735.2663622526636 kWh\n",
      "Processing sheet 2000990\n",
      "Found matching appliance: Computer site\n",
      "Computer site is flexible with annual energy consumption: 40.98409436834094 kWh\n",
      "Found matching appliance: Electric heating\n",
      "Electric heating is flexible with annual energy consumption: 3862.442922374429 kWh\n",
      "Found matching appliance: Fridge\n",
      "Fridge is not flexible with annual energy consumption: 124.15582191780823 kWh\n",
      "Found matching appliance: Microwave oven\n",
      "Microwave oven is flexible with annual energy consumption: 201.6837899543379 kWh\n",
      "Found matching appliance: TV\n",
      "TV is flexible with annual energy consumption: 14.040487062404871 kWh\n",
      "Found matching appliance: Vertical freezer\n",
      "Vertical freezer is not flexible with annual energy consumption: 117.17846270928463 kWh\n",
      "Found matching appliance: Washing machine\n",
      "Washing machine is flexible with annual energy consumption: 527.2754946727549 kWh\n",
      "Found matching appliance: Water heater\n",
      "Water heater is flexible with annual energy consumption: 6742.234589041096 kWh\n",
      "Processing sheet 2000991\n",
      "Found matching appliance: Chest freezer\n",
      "Chest freezer is not flexible with annual energy consumption: 202.7629375951294 kWh\n",
      "Found matching appliance: Dish washer\n",
      "Dish washer is flexible with annual energy consumption: 442.89383561643837 kWh\n",
      "Found matching appliance: Microwave oven\n",
      "Microwave oven is flexible with annual energy consumption: 120.08276255707763 kWh\n",
      "Found matching appliance: Washing machine\n",
      "Washing machine is flexible with annual energy consumption: 1133.0289193302892 kWh\n",
      "Found matching appliance: Water heater\n",
      "Water heater is flexible with annual energy consumption: 10984.892503805175 kWh\n",
      "Processing sheet 2000992\n",
      "Found matching appliance: Aquarium\n",
      "Aquarium is not flexible with annual energy consumption: 439.9069634703196 kWh\n",
      "Found matching appliance: Chest freezer\n",
      "Chest freezer is not flexible with annual energy consumption: 189.2043378995434 kWh\n",
      "Found matching appliance: Clothes drier\n",
      "Clothes drier is flexible with annual energy consumption: 358.4752663622527 kWh\n",
      "Found matching appliance: Fridge\n",
      "Fridge is not flexible with annual energy consumption: 146.81278538812785 kWh\n",
      "Found matching appliance: Microwave oven\n",
      "Microwave oven is flexible with annual energy consumption: 17.81678082191781 kWh\n",
      "Found matching appliance: TV\n",
      "TV is flexible with annual energy consumption: 25.803643455098936 kWh\n",
      "Processing sheet 2000993\n",
      "Found matching appliance: Chest freezer\n",
      "Chest freezer is not flexible with annual energy consumption: 30.419330289193304 kWh\n",
      "Found matching appliance: Dish washer\n",
      "Dish washer is flexible with annual energy consumption: 528.1449771689498 kWh\n",
      "Found matching appliance: Electric Cooker\n",
      "Electric Cooker is flexible with annual energy consumption: 242.32876712328766 kWh\n",
      "Found matching appliance: Fridge freezer\n",
      "Fridge freezer is not flexible with annual energy consumption: 55.98972602739726 kWh\n",
      "Found matching appliance: Fridge\n",
      "Fridge is not flexible with annual energy consumption: 83.98458904109589 kWh\n",
      "Found matching appliance: Microwave oven\n",
      "Microwave oven is flexible with annual energy consumption: 65.82191780821918 kWh\n",
      "Found matching appliance: Microwave oven\n",
      "Microwave oven is flexible with annual energy consumption: 7.177511415525114 kWh\n",
      "Found matching appliance: Power supply for fuel boiler\n",
      "Power supply for fuel boiler is flexible with annual energy consumption: 20.374429223744293 kWh\n",
      "Found matching appliance: TV\n",
      "TV is flexible with annual energy consumption: 1.8136605783866058 kWh\n",
      "Found matching appliance: Washing machine\n",
      "Washing machine is flexible with annual energy consumption: 303.6339421613394 kWh\n",
      "Processing sheet 2000994\n",
      "Found matching appliance: Fridge freezer\n",
      "Fridge freezer is not flexible with annual energy consumption: 229.42960426179604 kWh\n",
      "Found matching appliance: Fridge\n",
      "Fridge is not flexible with annual energy consumption: 344.14440639269407 kWh\n",
      "Found matching appliance: Microwave oven\n",
      "Microwave oven is flexible with annual energy consumption: 63.467465753424655 kWh\n",
      "Found matching appliance: TV\n",
      "TV is flexible with annual energy consumption: 10.759050608828007 kWh\n",
      "Found matching appliance: TV\n",
      "TV is flexible with annual energy consumption: 0.0 kWh\n",
      "Found matching appliance: Vertical freezer\n",
      "Vertical freezer is not flexible with annual energy consumption: 160.0209284627093 kWh\n",
      "Found matching appliance: Washing machine\n",
      "Washing machine is flexible with annual energy consumption: 230.68493150684932 kWh\n",
      "Processing sheet 2000995\n",
      "Found matching appliance: Chest freezer\n",
      "Chest freezer is not flexible with annual energy consumption: 438.3333333333333 kWh\n",
      "Found matching appliance: Fridge freezer\n",
      "Fridge freezer is not flexible with annual energy consumption: 268.3424657534247 kWh\n",
      "Found matching appliance: Fridge\n",
      "Fridge is not flexible with annual energy consumption: 402.513698630137 kWh\n",
      "Found matching appliance: Microwave oven\n",
      "Microwave oven is flexible with annual energy consumption: 434.783105022831 kWh\n",
      "Found matching appliance: Non halogen lamp\n",
      "Non halogen lamp is flexible with annual energy consumption: 1.724695585996956 kWh\n",
      "Found matching appliance: Non halogen lamp\n",
      "Non halogen lamp is flexible with annual energy consumption: 0.747716894977169 kWh\n",
      "Found matching appliance: Non halogen lamp\n",
      "Non halogen lamp is flexible with annual energy consumption: 3.4246575342465753 kWh\n",
      "Found matching appliance: TV\n",
      "TV is flexible with annual energy consumption: 25.408095509893457 kWh\n",
      "Found matching appliance: TV\n",
      "TV is flexible with annual energy consumption: 3.2786529680365297 kWh\n",
      "Found matching appliance: Washing machine\n",
      "Washing machine is flexible with annual energy consumption: 356.24429223744295 kWh\n",
      "Processing sheet 2000996\n",
      "Found matching appliance: Chest freezer\n",
      "Chest freezer is not flexible with annual energy consumption: 234.60502283105023 kWh\n",
      "Found matching appliance: Clothes drier\n",
      "Clothes drier is flexible with annual energy consumption: 237.88546423135463 kWh\n",
      "Found matching appliance: Dish washer\n",
      "Dish washer is flexible with annual energy consumption: 392.8595890410959 kWh\n",
      "Found matching appliance: Electric deep frier\n",
      "Electric deep frier is flexible with annual energy consumption: 12.735159817351597 kWh\n",
      "Found matching appliance: Electric oven\n",
      "Electric oven is flexible with annual energy consumption: 1142.2184170471842 kWh\n",
      "Found matching appliance: Fridge freezer\n",
      "Fridge freezer is not flexible with annual energy consumption: 243.45091324200914 kWh\n",
      "Found matching appliance: Fridge\n",
      "Fridge is not flexible with annual energy consumption: 365.1763698630137 kWh\n",
      "Found matching appliance: Fridge\n",
      "Fridge is not flexible with annual energy consumption: 96.1832191780822 kWh\n",
      "Found matching appliance: Microwave oven\n",
      "Microwave oven is flexible with annual energy consumption: 265.67066210045664 kWh\n",
      "Found matching appliance: TV\n",
      "TV is flexible with annual energy consumption: 43.76401065449011 kWh\n",
      "Found matching appliance: TV\n",
      "TV is flexible with annual energy consumption: 2.2376293759512937 kWh\n",
      "Found matching appliance: TV\n",
      "TV is flexible with annual energy consumption: 8.28218797564688 kWh\n",
      "Found matching appliance: Washing machine\n",
      "Washing machine is flexible with annual energy consumption: 1041.1605783866057 kWh\n"
     ]
    },
    {
     "data": {
      "application/vnd.plotly.v1+json": {
       "config": {
        "plotlyServerURL": "https://plot.ly"
       },
       "data": [
        {
         "marker": {
          "color": "blue"
         },
         "name": "Total Consumption",
         "type": "bar",
         "x": [
          "2000994",
          "2000963",
          "2000992",
          "2000958",
          "2000905",
          "2000995",
          "2000918",
          "2000957",
          "2000929",
          "2000986",
          "2000993",
          "2000913",
          "2000988",
          "2000976",
          "2000965",
          "2000926",
          "2000925",
          "2000910",
          "2000942",
          "2000911",
          "2000906",
          "2000912",
          "2000949",
          "2000933",
          "2000935",
          "2000973",
          "2000961",
          "2000923",
          "2000951",
          "2000932",
          "2000937",
          "2000979",
          "2000996",
          "2000970",
          "2000960",
          "2000943",
          "2000941",
          "2000952",
          "2000903",
          "2000946",
          "2000931",
          "2000964",
          "2000908",
          "2000972",
          "2000930",
          "2000980",
          "2000985",
          "2000922",
          "2000927",
          "2000984",
          "2000966",
          "2000920",
          "2000916",
          "2000939",
          "2000940",
          "2000950",
          "2000901",
          "2000989",
          "2000947",
          "2000917",
          "2000924",
          "2000956",
          "2000975",
          "2000990",
          "2000968",
          "2000991",
          "2000900",
          "2000902",
          "2000971",
          "2000983",
          "2000919",
          "2000936",
          "2000969",
          "2000987",
          "2000977",
          "2000955",
          "2000981",
          "2000907",
          "2000948",
          "2000974",
          "2000915",
          "2000959",
          "2000934",
          "2000921",
          "2000904",
          "2000962",
          "2000982",
          "2000928",
          "2000945",
          "2000967",
          "2000909",
          "2000944",
          "2000978",
          "2000953",
          "2000938",
          "2000914",
          "2000954"
         ],
         "y": [
          733.5949391171995,
          734.8316210045662,
          775.9240867579908,
          565.810502283105,
          968.5395738203956,
          1109.189497716895,
          318.533105022831,
          791.0635464231354,
          438.8108828006088,
          768.9457762557078,
          170.39364535768647,
          462.3677701674277,
          270.4341704718417,
          717.8234398782345,
          712.058599695586,
          527.6436453576864,
          498.1333713850837,
          653.0079908675799,
          692.9804033485541,
          438.5939878234399,
          688.8034627092846,
          1081.5234018264841,
          531.2167047184171,
          447.31830289193306,
          464.5500380517504,
          514.4200913242009,
          396.8835616438356,
          143.3829908675799,
          533.8489345509893,
          797.4353120243532,
          233.6765601217656,
          454.75456621004565,
          939.4155251141553,
          373.31525875190255,
          418.4560502283105,
          624.1202435312024,
          577.8091704718416,
          180.1385083713851,
          93.69368340943683,
          162.7876712328767,
          1387.0247336377474,
          1081.5753424657535,
          712.1139649923896,
          446.031202435312,
          663.3820395738204,
          559.2513318112633,
          837.711187214612,
          774.2380136986301,
          396.9977168949772,
          535.1921613394217,
          843.1563926940639,
          828.2115677321157,
          96.45205479452055,
          841.7905251141553,
          592.2585616438356,
          791.7047184170472,
          361.03824200913243,
          338.71270928462707,
          406.41952054794524,
          201.7431506849315,
          337.2229832572298,
          448.1291856925418,
          298.11377473363774,
          241.33428462709287,
          108.05079908675799,
          202.7629375951294,
          271.66343226788433,
          463.2829147640791,
          1331.2494292237443,
          402.81487823439875,
          334.148401826484,
          337.9680365296804,
          0,
          549.3696727549467,
          197.9263698630137,
          375.79147640791473,
          267.0568873668189,
          0,
          1285.247907153729,
          436.69425418569256,
          242.1704718417047,
          384.33599695585997,
          282.5327245053272,
          355.49695585996955,
          180.20814307458144,
          251.0131278538813,
          528.6025494672755,
          387.95110350076106,
          688.8824200913242,
          387.2726407914764,
          603.1716133942161,
          257.30422374429224,
          362.6236681887367,
          729.5903729071538,
          554.5970319634703,
          340.9252283105023,
          412.1097792998478
         ]
        },
        {
         "marker": {
          "color": [
           "red",
           "red",
           "red",
           "red",
           "red",
           "red",
           "red",
           "red",
           "red",
           "red",
           "red",
           "red",
           "red",
           "red",
           "red",
           "red",
           "red",
           "red",
           "red",
           "red",
           "red",
           "red",
           "red",
           "red",
           "red",
           "red",
           "red",
           "red",
           "red",
           "red",
           "red",
           "red",
           "yellow",
           "yellow",
           "yellow",
           "yellow",
           "yellow",
           "yellow",
           "yellow",
           "yellow",
           "yellow",
           "yellow",
           "yellow",
           "yellow",
           "yellow",
           "yellow",
           "yellow",
           "yellow",
           "yellow",
           "yellow",
           "yellow",
           "yellow",
           "yellow",
           "yellow",
           "yellow",
           "yellow",
           "yellow",
           "yellow",
           "yellow",
           "yellow",
           "yellow",
           "yellow",
           "yellow",
           "yellow",
           "green",
           "green",
           "green",
           "green",
           "green",
           "green",
           "green",
           "green",
           "green",
           "green",
           "green",
           "green",
           "green",
           "green",
           "green",
           "green",
           "green",
           "green",
           "green",
           "green",
           "green",
           "green",
           "green",
           "green",
           "green",
           "green",
           "green",
           "green",
           "green",
           "green",
           "green",
           "green",
           "green"
          ]
         },
         "name": "Flexible Consumption",
         "opacity": 0.5,
         "type": "bar",
         "x": [
          "2000994",
          "2000963",
          "2000992",
          "2000958",
          "2000905",
          "2000995",
          "2000918",
          "2000957",
          "2000929",
          "2000986",
          "2000993",
          "2000913",
          "2000988",
          "2000976",
          "2000965",
          "2000926",
          "2000925",
          "2000910",
          "2000942",
          "2000911",
          "2000906",
          "2000912",
          "2000949",
          "2000933",
          "2000935",
          "2000973",
          "2000961",
          "2000923",
          "2000951",
          "2000932",
          "2000937",
          "2000979",
          "2000996",
          "2000970",
          "2000960",
          "2000943",
          "2000941",
          "2000952",
          "2000903",
          "2000946",
          "2000931",
          "2000964",
          "2000908",
          "2000972",
          "2000930",
          "2000980",
          "2000985",
          "2000922",
          "2000927",
          "2000984",
          "2000966",
          "2000920",
          "2000916",
          "2000939",
          "2000940",
          "2000950",
          "2000901",
          "2000989",
          "2000947",
          "2000917",
          "2000924",
          "2000956",
          "2000975",
          "2000990",
          "2000968",
          "2000991",
          "2000900",
          "2000902",
          "2000971",
          "2000983",
          "2000919",
          "2000936",
          "2000969",
          "2000987",
          "2000977",
          "2000955",
          "2000981",
          "2000907",
          "2000948",
          "2000974",
          "2000915",
          "2000959",
          "2000934",
          "2000921",
          "2000904",
          "2000962",
          "2000982",
          "2000928",
          "2000945",
          "2000967",
          "2000909",
          "2000944",
          "2000978",
          "2000953",
          "2000938",
          "2000914",
          "2000954"
         ],
         "y": [
          304.911447869102,
          325.4283999238965,
          402.09569063926943,
          636.0029528158295,
          685.2782971841705,
          825.6112157534246,
          877.5339022070016,
          917.9002187975647,
          939.4619425418568,
          1078.2526464992388,
          1169.295205479452,
          1212.085949391172,
          1614.8587195585997,
          1642.979398782344,
          1658.0972222222222,
          1792.8044140030443,
          1981.3909817351596,
          2008.7592465753426,
          2085.24924847793,
          2195.49475456621,
          2316.2662024353117,
          2346.505707762557,
          2431.9924790715377,
          2447.9059265601218,
          2494.373808980213,
          2560.6445833333332,
          2587.632229832572,
          2653.2484836377475,
          2662.154680365297,
          2687.056651445966,
          2978.7077834855404,
          2980.035154109589,
          3146.813698630137,
          3273.1575742009127,
          3391.931875951294,
          3697.7722602739723,
          3778.235549847793,
          3781.192785388128,
          4045.053082191781,
          4071.5367199391167,
          4264.071347031963,
          5003.468169710807,
          5089.441759893455,
          5137.666877853881,
          5190.772547564688,
          5280.451641933028,
          5345.044235159818,
          6123.000726788432,
          6198.887821537291,
          6408.149826864537,
          6759.437127092847,
          6780.532926179604,
          6780.557383942163,
          6819.211757990868,
          6990.006539193303,
          7146.2074048706245,
          7527.865327245054,
          7546.084374048706,
          9325.955974124809,
          9576.09932458143,
          10020.182888127852,
          11228.766369863013,
          11229.834313165906,
          11388.661377473363,
          11623.108369482496,
          12680.89802130898,
          12867.856544901066,
          13653.48308219178,
          13728.671729452057,
          14011.129134322679,
          14426.797374429223,
          15564.950043759512,
          15940.328751902587,
          16400.386179604262,
          16485.541506849317,
          16701.448065068493,
          18752.590968417047,
          19460.290334855403,
          20296.273744292237,
          20628.37624048706,
          21393.91170471842,
          23388.149695586,
          23570.092243150684,
          24827.74310692542,
          25579.114345509894,
          25867.63059741248,
          27735.652494292237,
          27888.93643074581,
          28371.611440258752,
          28676.429528158296,
          28706.746967275496,
          35240.45585996956,
          41280.544444444444,
          42281.60402587519,
          43655.86165715373,
          45323.419242770164,
          50113.38400304414
         ]
        }
       ],
       "layout": {
        "barmode": "overlay",
        "template": {
         "data": {
          "bar": [
           {
            "error_x": {
             "color": "#2a3f5f"
            },
            "error_y": {
             "color": "#2a3f5f"
            },
            "marker": {
             "line": {
              "color": "#E5ECF6",
              "width": 0.5
             },
             "pattern": {
              "fillmode": "overlay",
              "size": 10,
              "solidity": 0.2
             }
            },
            "type": "bar"
           }
          ],
          "barpolar": [
           {
            "marker": {
             "line": {
              "color": "#E5ECF6",
              "width": 0.5
             },
             "pattern": {
              "fillmode": "overlay",
              "size": 10,
              "solidity": 0.2
             }
            },
            "type": "barpolar"
           }
          ],
          "carpet": [
           {
            "aaxis": {
             "endlinecolor": "#2a3f5f",
             "gridcolor": "white",
             "linecolor": "white",
             "minorgridcolor": "white",
             "startlinecolor": "#2a3f5f"
            },
            "baxis": {
             "endlinecolor": "#2a3f5f",
             "gridcolor": "white",
             "linecolor": "white",
             "minorgridcolor": "white",
             "startlinecolor": "#2a3f5f"
            },
            "type": "carpet"
           }
          ],
          "choropleth": [
           {
            "colorbar": {
             "outlinewidth": 0,
             "ticks": ""
            },
            "type": "choropleth"
           }
          ],
          "contour": [
           {
            "colorbar": {
             "outlinewidth": 0,
             "ticks": ""
            },
            "colorscale": [
             [
              0,
              "#0d0887"
             ],
             [
              0.1111111111111111,
              "#46039f"
             ],
             [
              0.2222222222222222,
              "#7201a8"
             ],
             [
              0.3333333333333333,
              "#9c179e"
             ],
             [
              0.4444444444444444,
              "#bd3786"
             ],
             [
              0.5555555555555556,
              "#d8576b"
             ],
             [
              0.6666666666666666,
              "#ed7953"
             ],
             [
              0.7777777777777778,
              "#fb9f3a"
             ],
             [
              0.8888888888888888,
              "#fdca26"
             ],
             [
              1,
              "#f0f921"
             ]
            ],
            "type": "contour"
           }
          ],
          "contourcarpet": [
           {
            "colorbar": {
             "outlinewidth": 0,
             "ticks": ""
            },
            "type": "contourcarpet"
           }
          ],
          "heatmap": [
           {
            "colorbar": {
             "outlinewidth": 0,
             "ticks": ""
            },
            "colorscale": [
             [
              0,
              "#0d0887"
             ],
             [
              0.1111111111111111,
              "#46039f"
             ],
             [
              0.2222222222222222,
              "#7201a8"
             ],
             [
              0.3333333333333333,
              "#9c179e"
             ],
             [
              0.4444444444444444,
              "#bd3786"
             ],
             [
              0.5555555555555556,
              "#d8576b"
             ],
             [
              0.6666666666666666,
              "#ed7953"
             ],
             [
              0.7777777777777778,
              "#fb9f3a"
             ],
             [
              0.8888888888888888,
              "#fdca26"
             ],
             [
              1,
              "#f0f921"
             ]
            ],
            "type": "heatmap"
           }
          ],
          "heatmapgl": [
           {
            "colorbar": {
             "outlinewidth": 0,
             "ticks": ""
            },
            "colorscale": [
             [
              0,
              "#0d0887"
             ],
             [
              0.1111111111111111,
              "#46039f"
             ],
             [
              0.2222222222222222,
              "#7201a8"
             ],
             [
              0.3333333333333333,
              "#9c179e"
             ],
             [
              0.4444444444444444,
              "#bd3786"
             ],
             [
              0.5555555555555556,
              "#d8576b"
             ],
             [
              0.6666666666666666,
              "#ed7953"
             ],
             [
              0.7777777777777778,
              "#fb9f3a"
             ],
             [
              0.8888888888888888,
              "#fdca26"
             ],
             [
              1,
              "#f0f921"
             ]
            ],
            "type": "heatmapgl"
           }
          ],
          "histogram": [
           {
            "marker": {
             "pattern": {
              "fillmode": "overlay",
              "size": 10,
              "solidity": 0.2
             }
            },
            "type": "histogram"
           }
          ],
          "histogram2d": [
           {
            "colorbar": {
             "outlinewidth": 0,
             "ticks": ""
            },
            "colorscale": [
             [
              0,
              "#0d0887"
             ],
             [
              0.1111111111111111,
              "#46039f"
             ],
             [
              0.2222222222222222,
              "#7201a8"
             ],
             [
              0.3333333333333333,
              "#9c179e"
             ],
             [
              0.4444444444444444,
              "#bd3786"
             ],
             [
              0.5555555555555556,
              "#d8576b"
             ],
             [
              0.6666666666666666,
              "#ed7953"
             ],
             [
              0.7777777777777778,
              "#fb9f3a"
             ],
             [
              0.8888888888888888,
              "#fdca26"
             ],
             [
              1,
              "#f0f921"
             ]
            ],
            "type": "histogram2d"
           }
          ],
          "histogram2dcontour": [
           {
            "colorbar": {
             "outlinewidth": 0,
             "ticks": ""
            },
            "colorscale": [
             [
              0,
              "#0d0887"
             ],
             [
              0.1111111111111111,
              "#46039f"
             ],
             [
              0.2222222222222222,
              "#7201a8"
             ],
             [
              0.3333333333333333,
              "#9c179e"
             ],
             [
              0.4444444444444444,
              "#bd3786"
             ],
             [
              0.5555555555555556,
              "#d8576b"
             ],
             [
              0.6666666666666666,
              "#ed7953"
             ],
             [
              0.7777777777777778,
              "#fb9f3a"
             ],
             [
              0.8888888888888888,
              "#fdca26"
             ],
             [
              1,
              "#f0f921"
             ]
            ],
            "type": "histogram2dcontour"
           }
          ],
          "mesh3d": [
           {
            "colorbar": {
             "outlinewidth": 0,
             "ticks": ""
            },
            "type": "mesh3d"
           }
          ],
          "parcoords": [
           {
            "line": {
             "colorbar": {
              "outlinewidth": 0,
              "ticks": ""
             }
            },
            "type": "parcoords"
           }
          ],
          "pie": [
           {
            "automargin": true,
            "type": "pie"
           }
          ],
          "scatter": [
           {
            "fillpattern": {
             "fillmode": "overlay",
             "size": 10,
             "solidity": 0.2
            },
            "type": "scatter"
           }
          ],
          "scatter3d": [
           {
            "line": {
             "colorbar": {
              "outlinewidth": 0,
              "ticks": ""
             }
            },
            "marker": {
             "colorbar": {
              "outlinewidth": 0,
              "ticks": ""
             }
            },
            "type": "scatter3d"
           }
          ],
          "scattercarpet": [
           {
            "marker": {
             "colorbar": {
              "outlinewidth": 0,
              "ticks": ""
             }
            },
            "type": "scattercarpet"
           }
          ],
          "scattergeo": [
           {
            "marker": {
             "colorbar": {
              "outlinewidth": 0,
              "ticks": ""
             }
            },
            "type": "scattergeo"
           }
          ],
          "scattergl": [
           {
            "marker": {
             "colorbar": {
              "outlinewidth": 0,
              "ticks": ""
             }
            },
            "type": "scattergl"
           }
          ],
          "scattermapbox": [
           {
            "marker": {
             "colorbar": {
              "outlinewidth": 0,
              "ticks": ""
             }
            },
            "type": "scattermapbox"
           }
          ],
          "scatterpolar": [
           {
            "marker": {
             "colorbar": {
              "outlinewidth": 0,
              "ticks": ""
             }
            },
            "type": "scatterpolar"
           }
          ],
          "scatterpolargl": [
           {
            "marker": {
             "colorbar": {
              "outlinewidth": 0,
              "ticks": ""
             }
            },
            "type": "scatterpolargl"
           }
          ],
          "scatterternary": [
           {
            "marker": {
             "colorbar": {
              "outlinewidth": 0,
              "ticks": ""
             }
            },
            "type": "scatterternary"
           }
          ],
          "surface": [
           {
            "colorbar": {
             "outlinewidth": 0,
             "ticks": ""
            },
            "colorscale": [
             [
              0,
              "#0d0887"
             ],
             [
              0.1111111111111111,
              "#46039f"
             ],
             [
              0.2222222222222222,
              "#7201a8"
             ],
             [
              0.3333333333333333,
              "#9c179e"
             ],
             [
              0.4444444444444444,
              "#bd3786"
             ],
             [
              0.5555555555555556,
              "#d8576b"
             ],
             [
              0.6666666666666666,
              "#ed7953"
             ],
             [
              0.7777777777777778,
              "#fb9f3a"
             ],
             [
              0.8888888888888888,
              "#fdca26"
             ],
             [
              1,
              "#f0f921"
             ]
            ],
            "type": "surface"
           }
          ],
          "table": [
           {
            "cells": {
             "fill": {
              "color": "#EBF0F8"
             },
             "line": {
              "color": "white"
             }
            },
            "header": {
             "fill": {
              "color": "#C8D4E3"
             },
             "line": {
              "color": "white"
             }
            },
            "type": "table"
           }
          ]
         },
         "layout": {
          "annotationdefaults": {
           "arrowcolor": "#2a3f5f",
           "arrowhead": 0,
           "arrowwidth": 1
          },
          "autotypenumbers": "strict",
          "coloraxis": {
           "colorbar": {
            "outlinewidth": 0,
            "ticks": ""
           }
          },
          "colorscale": {
           "diverging": [
            [
             0,
             "#8e0152"
            ],
            [
             0.1,
             "#c51b7d"
            ],
            [
             0.2,
             "#de77ae"
            ],
            [
             0.3,
             "#f1b6da"
            ],
            [
             0.4,
             "#fde0ef"
            ],
            [
             0.5,
             "#f7f7f7"
            ],
            [
             0.6,
             "#e6f5d0"
            ],
            [
             0.7,
             "#b8e186"
            ],
            [
             0.8,
             "#7fbc41"
            ],
            [
             0.9,
             "#4d9221"
            ],
            [
             1,
             "#276419"
            ]
           ],
           "sequential": [
            [
             0,
             "#0d0887"
            ],
            [
             0.1111111111111111,
             "#46039f"
            ],
            [
             0.2222222222222222,
             "#7201a8"
            ],
            [
             0.3333333333333333,
             "#9c179e"
            ],
            [
             0.4444444444444444,
             "#bd3786"
            ],
            [
             0.5555555555555556,
             "#d8576b"
            ],
            [
             0.6666666666666666,
             "#ed7953"
            ],
            [
             0.7777777777777778,
             "#fb9f3a"
            ],
            [
             0.8888888888888888,
             "#fdca26"
            ],
            [
             1,
             "#f0f921"
            ]
           ],
           "sequentialminus": [
            [
             0,
             "#0d0887"
            ],
            [
             0.1111111111111111,
             "#46039f"
            ],
            [
             0.2222222222222222,
             "#7201a8"
            ],
            [
             0.3333333333333333,
             "#9c179e"
            ],
            [
             0.4444444444444444,
             "#bd3786"
            ],
            [
             0.5555555555555556,
             "#d8576b"
            ],
            [
             0.6666666666666666,
             "#ed7953"
            ],
            [
             0.7777777777777778,
             "#fb9f3a"
            ],
            [
             0.8888888888888888,
             "#fdca26"
            ],
            [
             1,
             "#f0f921"
            ]
           ]
          },
          "colorway": [
           "#636efa",
           "#EF553B",
           "#00cc96",
           "#ab63fa",
           "#FFA15A",
           "#19d3f3",
           "#FF6692",
           "#B6E880",
           "#FF97FF",
           "#FECB52"
          ],
          "font": {
           "color": "#2a3f5f"
          },
          "geo": {
           "bgcolor": "white",
           "lakecolor": "white",
           "landcolor": "#E5ECF6",
           "showlakes": true,
           "showland": true,
           "subunitcolor": "white"
          },
          "hoverlabel": {
           "align": "left"
          },
          "hovermode": "closest",
          "mapbox": {
           "style": "light"
          },
          "paper_bgcolor": "white",
          "plot_bgcolor": "#E5ECF6",
          "polar": {
           "angularaxis": {
            "gridcolor": "white",
            "linecolor": "white",
            "ticks": ""
           },
           "bgcolor": "#E5ECF6",
           "radialaxis": {
            "gridcolor": "white",
            "linecolor": "white",
            "ticks": ""
           }
          },
          "scene": {
           "xaxis": {
            "backgroundcolor": "#E5ECF6",
            "gridcolor": "white",
            "gridwidth": 2,
            "linecolor": "white",
            "showbackground": true,
            "ticks": "",
            "zerolinecolor": "white"
           },
           "yaxis": {
            "backgroundcolor": "#E5ECF6",
            "gridcolor": "white",
            "gridwidth": 2,
            "linecolor": "white",
            "showbackground": true,
            "ticks": "",
            "zerolinecolor": "white"
           },
           "zaxis": {
            "backgroundcolor": "#E5ECF6",
            "gridcolor": "white",
            "gridwidth": 2,
            "linecolor": "white",
            "showbackground": true,
            "ticks": "",
            "zerolinecolor": "white"
           }
          },
          "shapedefaults": {
           "line": {
            "color": "#2a3f5f"
           }
          },
          "ternary": {
           "aaxis": {
            "gridcolor": "white",
            "linecolor": "white",
            "ticks": ""
           },
           "baxis": {
            "gridcolor": "white",
            "linecolor": "white",
            "ticks": ""
           },
           "bgcolor": "#E5ECF6",
           "caxis": {
            "gridcolor": "white",
            "linecolor": "white",
            "ticks": ""
           }
          },
          "title": {
           "x": 0.05
          },
          "xaxis": {
           "automargin": true,
           "gridcolor": "white",
           "linecolor": "white",
           "ticks": "",
           "title": {
            "standoff": 15
           },
           "zerolinecolor": "white",
           "zerolinewidth": 2
          },
          "yaxis": {
           "automargin": true,
           "gridcolor": "white",
           "linecolor": "white",
           "ticks": "",
           "title": {
            "standoff": 15
           },
           "zerolinecolor": "white",
           "zerolinewidth": 2
          }
         }
        },
        "title": {
         "text": "Total Energy Consumption vs. Flexible Consumption"
        },
        "xaxis": {
         "tickangle": -45,
         "title": {
          "text": "House ID"
         }
        },
        "yaxis": {
         "title": {
          "text": "Energy Consumption (kWh)"
         }
        }
       }
      }
     },
     "metadata": {},
     "output_type": "display_data"
    }
   ],
   "source": [
    "import pandas as pd\n",
    "import plotly.graph_objs as go\n",
    "\n",
    "# Load the Excel file with the correct sheet name\n",
    "excel_file = pd.ExcelFile(r'D:\\Grenoble_university\\6_month_internship\\working space\\data\\combined_1_year_data_with_flexibility.xlsx')\n",
    "\n",
    "# Load the appliances data\n",
    "appliances_file_path = r'D:\\Grenoble_university\\6_month_internship\\working space\\data\\column_titles_with add info.xlsx'\n",
    "appliances_df = pd.read_excel(appliances_file_path)\n",
    "\n",
    "# Initialize dictionaries to store total and flexible energy consumption\n",
    "total_consumption = {}\n",
    "flexible_consumption = {}\n",
    "\n",
    "# Iterate over each sheet from 2000900 to 2000920\n",
    "for sheet_number in range(2000900, 2000997):\n",
    "    sheet_name = str(sheet_number)\n",
    "    if sheet_name in excel_file.sheet_names:\n",
    "        print(f\"Processing sheet {sheet_name}\")\n",
    "        # Read the sheet\n",
    "        df = pd.read_excel(excel_file, sheet_name=sheet_name)\n",
    "        \n",
    "        # Initialize dictionaries for this sheet\n",
    "        total_consumption[sheet_name] = 0\n",
    "        flexible_consumption[sheet_name] = 0\n",
    "        \n",
    "        # Iterate over columns and check if appliance names match\n",
    "        for column in df.columns:\n",
    "            for index, appliance in appliances_df.iterrows():\n",
    "                # Extract substring before \"(\" symbol for comparison\n",
    "                appliance_name = appliance['Appliance'].split(\"(\")[0].strip()\n",
    "                if appliance_name in column:\n",
    "                    print(f\"Found matching appliance: {appliance_name}\")\n",
    "                    # Convert column data to numeric type\n",
    "                    df[column] = pd.to_numeric(df[column], errors='coerce')\n",
    "                    # Calculate annual energy consumption based on typical power\n",
    "                    typical_power = appliance['tipical power']\n",
    "                    annual_energy = typical_power * df[column].sum() / (60 * 24 * 365)  # Assuming data is in 1-minute intervals\n",
    "                    # Categorize as flexible or not flexible based on flexibility in appliances data\n",
    "                    flexibility = appliance['Flexibility']\n",
    "                    if flexibility == 'flexible':\n",
    "                        print(f\"{appliance['Appliance']} is flexible with annual energy consumption: {annual_energy} kWh\")\n",
    "                        flexible_consumption[sheet_name] += annual_energy\n",
    "                    else:\n",
    "                        print(f\"{appliance['Appliance']} is not flexible with annual energy consumption: {annual_energy} kWh\")\n",
    "                        total_consumption[sheet_name] += annual_energy\n",
    "\n",
    "# Convert dictionaries to DataFrame\n",
    "data_df = pd.DataFrame({\n",
    "    'House ID': list(total_consumption.keys()),\n",
    "    'Total Consumption': list(total_consumption.values()),\n",
    "    'Flexible Consumption': list(flexible_consumption.values())\n",
    "})\n",
    "\n",
    "# Define flexibility thresholds\n",
    "high_threshold = data_df['Flexible Consumption'].quantile(0.66)\n",
    "low_threshold = data_df['Flexible Consumption'].quantile(0.33)\n",
    "\n",
    "# Categorize flexibility potential\n",
    "def categorize_flexibility(value):\n",
    "    if value >= high_threshold:\n",
    "        return 'High'\n",
    "    elif value >= low_threshold:\n",
    "        return 'Average'\n",
    "    else:\n",
    "        return 'Low'\n",
    "\n",
    "data_df['Flexibility Category'] = data_df['Flexible Consumption'].apply(categorize_flexibility)\n",
    "\n",
    "# Define colors based on flexibility categories\n",
    "color_map = {\n",
    "    'High': 'green',\n",
    "    'Average': 'yellow',\n",
    "    'Low': 'red'\n",
    "}\n",
    "\n",
    "data_df['Color'] = data_df['Flexibility Category'].map(color_map)\n",
    "\n",
    "# Sort DataFrame by Total Flexible Consumption\n",
    "data_df = data_df.sort_values(by='Flexible Consumption')\n",
    "\n",
    "# Create a figure\n",
    "fig = go.Figure()\n",
    "\n",
    "# Add bars for total consumption\n",
    "fig.add_trace(go.Bar(\n",
    "    x=data_df['House ID'],\n",
    "    y=data_df['Total Consumption'],\n",
    "    name='Total Consumption',\n",
    "    marker_color='blue'\n",
    "))\n",
    "\n",
    "# Add bars for flexible consumption with colors based on flexibility category\n",
    "fig.add_trace(go.Bar(\n",
    "    x=data_df['House ID'],\n",
    "    y=data_df['Flexible Consumption'],\n",
    "    name='Flexible Consumption',\n",
    "    marker=dict(color=data_df['Color']),\n",
    "    opacity=0.5\n",
    "))\n",
    "\n",
    "# Update layout\n",
    "fig.update_layout(\n",
    "    title='Total Energy Consumption vs. Flexible Consumption',\n",
    "    xaxis_title='House ID',\n",
    "    yaxis_title='Energy Consumption (kWh)',\n",
    "    barmode='overlay',\n",
    "    xaxis_tickangle=-45\n",
    ")\n",
    "\n",
    "# Show the figure\n",
    "fig.show()\n"
   ]
  },
  {
   "cell_type": "markdown",
   "metadata": {},
   "source": [
    "# ranking buildings with flexible potential for all houses ( I need to rank them and copare with iris)\n",
    "1. we need to define when person is at home, (for example when woshing machine is activated it means someone is at home, same for all devices)\n",
    "    - if you get message one day before you have higher probability \n",
    "    - if you get message 1 hour before it can decrease - or increase we need to think. "
   ]
  },
  {
   "cell_type": "markdown",
   "metadata": {},
   "source": []
  }
 ],
 "metadata": {
  "kernelspec": {
   "display_name": "Python 3",
   "language": "python",
   "name": "python3"
  },
  "language_info": {
   "codemirror_mode": {
    "name": "ipython",
    "version": 3
   },
   "file_extension": ".py",
   "mimetype": "text/x-python",
   "name": "python",
   "nbconvert_exporter": "python",
   "pygments_lexer": "ipython3",
   "version": "3.10.7"
  }
 },
 "nbformat": 4,
 "nbformat_minor": 2
}
