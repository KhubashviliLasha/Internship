{
 "cells": [
  {
   "cell_type": "code",
   "execution_count": 9,
   "metadata": {},
   "outputs": [
    {
     "name": "stdout",
     "output_type": "stream",
     "text": [
      "Annual energy consumption data saved to D:\\Grenoble_university\\6_month_internship\\working space\\6) Flexibility potentials\\annual_energy_consumption_ex2.xlsx\n"
     ]
    }
   ],
   "source": [
    "import pandas as pd\n",
    "\n",
    "# Define the path to the input and output Excel files\n",
    "input_file = r\"D:\\Grenoble_university\\6_month_internship\\working space\\data\\combined_1_year_data_with_flexibility.xlsx\"\n",
    "output_file = r\"D:\\Grenoble_university\\6_month_internship\\working space\\6) Flexibility potentials\\annual_energy_consumption_ex1.xlsx\"\n",
    "\n",
    "# List of sheets to process\n",
    "sheets = ['2000900', '2000901', '2000902', '2000903']\n",
    "\n",
    "# Process each sheet\n",
    "with pd.ExcelWriter(output_file) as writer:\n",
    "    for sheet in sheets:\n",
    "        # Read the data from the current sheet\n",
    "        df = pd.read_excel(input_file, sheet_name=sheet)\n",
    "        \n",
    "        # Convert the 'date' column to datetime format\n",
    "        df['date'] = pd.to_datetime(df['date'])\n",
    "        \n",
    "        # Calculate the interval duration in hours\n",
    "        df = df.sort_values(by='date')  # Ensure the data is sorted by date\n",
    "        interval_seconds = (df['date'].iloc[1] - df['date'].iloc[0]).total_seconds()  # Interval in seconds\n",
    "        interval_hours = interval_seconds / 3600  # Convert seconds to hours\n",
    "        \n",
    "        # Identify the device columns (assuming all columns except 'Weekday' and 'date' are devices)\n",
    "        device_columns = [col for col in df.columns if col not in ['Weekday', 'date']]\n",
    "        \n",
    "        # Convert device columns to numeric, coerce errors to NaN\n",
    "        df[device_columns] = df[device_columns].apply(pd.to_numeric, errors='coerce')\n",
    "        \n",
    "        # Calculate average power consumption for each appliance\n",
    "        average_power_dict = {}\n",
    "        for device in device_columns:\n",
    "            average_power = df[device].sum() / len(df)  # Calculate average power\n",
    "            average_power_dict[device] = average_power\n",
    "        \n",
    "        # Convert average power consumption to energy consumption for each appliance\n",
    "        energy_consumption_dict = {}\n",
    "        for device, average_power in average_power_dict.items():\n",
    "            energy_consumption = average_power * interval_hours  # Energy in kWh\n",
    "            energy_consumption_dict[device] = energy_consumption\n",
    "        \n",
    "        # Convert the energy consumption to DataFrame for the current sheet\n",
    "        energy_consumption_df = pd.DataFrame.from_dict(energy_consumption_dict, orient='index', columns=['Energy_kWh']).T\n",
    "        \n",
    "        # Save the results to a new sheet in the Excel file\n",
    "        energy_consumption_df.to_excel(writer, sheet_name=sheet)\n",
    "\n",
    "print(f\"Annual energy consumption data saved to {output_file}\")\n"
   ]
  },
  {
   "cell_type": "code",
   "execution_count": 1,
   "metadata": {},
   "outputs": [
    {
     "name": "stdout",
     "output_type": "stream",
     "text": [
      "Energy values have been successfully saved to D:\\Grenoble_university\\6_month_internship\\working space\\6) Flexibility potentials\\energy_values.xlsx\n"
     ]
    }
   ],
   "source": [
    "import pandas as pd\n",
    "\n",
    "# Function to convert power values to energy values\n",
    "def power_to_energy(df):\n",
    "    # Assuming the power values are in watts and the time step is 10 minutes\n",
    "    # Energy (in kWh) = Power (in W) * Time (in hours)\n",
    "    # Time = 10 minutes = 10/60 hours = 1/6 hours\n",
    "    time_step_hours = 1/6\n",
    "    \n",
    "    # Copy the dataframe to avoid modifying the original\n",
    "    df_energy = df.copy()\n",
    "    \n",
    "    # Convert all columns except 'Weekday' and 'date' to numeric, coerce errors to NaN and fill NaN with 0\n",
    "    df_energy.iloc[2:, 2:] = df_energy.iloc[2:, 2:].apply(pd.to_numeric, errors='coerce').fillna(0)\n",
    "    \n",
    "    # Multiply all power values by time_step_hours to convert to energy (kWh)\n",
    "    df_energy.iloc[2:, 2:] = df_energy.iloc[2:, 2:] * time_step_hours\n",
    "    \n",
    "    return df_energy\n",
    "\n",
    "# File path to the input Excel file\n",
    "input_file_path = r'D:\\Grenoble_university\\6_month_internship\\working space\\data\\combined_1_year_data_with_flexibility.xlsx'\n",
    "# File path to the output Excel file\n",
    "output_file_path = r'D:\\Grenoble_university\\6_month_internship\\working space\\6) Flexibility potentials\\energy_values.xlsx'\n",
    "\n",
    "# Read the Excel file\n",
    "xls = pd.ExcelFile(input_file_path)\n",
    "\n",
    "# Dictionary to hold the dataframes for each sheet\n",
    "energy_sheets = {}\n",
    "\n",
    "# Loop through each sheet and convert power to energy\n",
    "for sheet_name in xls.sheet_names:\n",
    "    df = pd.read_excel(xls, sheet_name=sheet_name)\n",
    "    df_energy = power_to_energy(df)\n",
    "    energy_sheets[sheet_name] = df_energy\n",
    "\n",
    "# Write the energy values to a new Excel file\n",
    "with pd.ExcelWriter(output_file_path) as writer:\n",
    "    for sheet_name, df_energy in energy_sheets.items():\n",
    "        df_energy.to_excel(writer, sheet_name=sheet_name, index=False)\n",
    "\n",
    "print(\"Energy values have been successfully saved to\", output_file_path)\n"
   ]
  }
 ],
 "metadata": {
  "kernelspec": {
   "display_name": "Python 3",
   "language": "python",
   "name": "python3"
  },
  "language_info": {
   "codemirror_mode": {
    "name": "ipython",
    "version": 3
   },
   "file_extension": ".py",
   "mimetype": "text/x-python",
   "name": "python",
   "nbconvert_exporter": "python",
   "pygments_lexer": "ipython3",
   "version": "3.10.7"
  }
 },
 "nbformat": 4,
 "nbformat_minor": 2
}
