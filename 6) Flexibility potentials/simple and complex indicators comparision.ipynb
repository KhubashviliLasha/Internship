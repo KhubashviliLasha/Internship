{
 "cells": [
  {
   "cell_type": "markdown",
   "metadata": {},
   "source": [
    "# Ranking buildings with flexible potential for all houses (general knowlage vs IRISE data)"
   ]
  },
  {
   "cell_type": "markdown",
   "metadata": {},
   "source": [
    "1) Irise data ranking houses acording its flexibility potentials"
   ]
  },
  {
   "cell_type": "markdown",
   "metadata": {},
   "source": [
    "Ranking for 1 year (its possible to filter it for hours or days or months and so on) and for all houses. IRISE data (it is posible to filter them with houses also it is posible to drop houses which do not have reasonable data) (complex indicators)"
   ]
  },
  {
   "cell_type": "code",
   "execution_count": 4,
   "metadata": {},
   "outputs": [
    {
     "name": "stdout",
     "output_type": "stream",
     "text": [
      "Sheet 2000902 not found in the Excel file or excluded.\n",
      "Sheet 2000919 not found in the Excel file or excluded.\n",
      "Sheet 2000920 not found in the Excel file or excluded.\n",
      "Sheet 2000924 not found in the Excel file or excluded.\n",
      "Sheet 2000933 not found in the Excel file or excluded.\n",
      "Sheet 2000937 not found in the Excel file or excluded.\n",
      "Sheet 2000977 not found in the Excel file or excluded.\n",
      "Sheet 2000902 excluded.\n",
      "Sheet 2000919 excluded.\n",
      "Sheet 2000920 excluded.\n",
      "Sheet 2000924 excluded.\n",
      "Sheet 2000933 excluded.\n",
      "Sheet 2000937 excluded.\n",
      "Sheet 2000977 excluded.\n"
     ]
    }
   ],
   "source": [
    "import pandas as pd\n",
    "import plotly.graph_objects as go\n",
    "\n",
    "# Load the Excel file for total energy consumption\n",
    "excel_file_5 = pd.ExcelFile(r'D:\\Grenoble_university\\6_month_internship\\working space\\data\\combined_1_year_data_with_flexibility.xlsx')\n",
    "\n",
    "# Define the range of sheet numbers for total energy consumption\n",
    "start_sheet_number = 2000900\n",
    "end_sheet_number = 2000997\n",
    "\n",
    "# Initialize total consumption dictionary\n",
    "total_consumption = {}\n",
    "\n",
    "# Define houses to be excluded\n",
    "excluded_houses = {'2000902', '2000920', '2000919', '2000924', '2000933', '2000937', '2000977'}\n",
    "\n",
    "# Iterate through the sheet numbers for total energy consumption\n",
    "for sheet_number in range(start_sheet_number, end_sheet_number + 1):\n",
    "    sheet_name = str(sheet_number)\n",
    "    if sheet_name in excel_file_5.sheet_names and sheet_name not in excluded_houses:\n",
    "        # Read the sheet into a DataFrame\n",
    "        df = excel_file_5.parse(sheet_name)\n",
    "        \n",
    "        # Check if 'Site consumption ()' is in the columns of the DataFrame\n",
    "        if 'Site consumption ()' in df.columns:\n",
    "            # Convert 'Site consumption ()' column to numeric (ignore errors)\n",
    "            df['Site consumption ()'] = pd.to_numeric(df['Site consumption ()'], errors='coerce')\n",
    "            # Calculate the sum for 'Site consumption ()' column\n",
    "            sum_for_site_consumption = df['Site consumption ()'].sum()\n",
    "            total_consumption[sheet_name] = sum_for_site_consumption\n",
    "        else:\n",
    "            # Sum up all numeric columns\n",
    "            sum_for_devices = df.iloc[1:].drop(columns=['Weekday', 'date']).sum().sum()\n",
    "            total_consumption[sheet_name] = sum_for_devices\n",
    "    else:\n",
    "        print(f\"Sheet {sheet_name} not found in the Excel file or excluded.\")\n",
    "\n",
    "# Convert total consumption dictionary to DataFrame\n",
    "total_consumption_df = pd.DataFrame.from_dict(total_consumption, orient='index', columns=['Total Consumption'])\n",
    "\n",
    "# Read the Excel file into a dictionary of DataFrames for energy flexibility during peak hours\n",
    "combined_data_dict_5 = pd.read_excel(r'D:\\Grenoble_university\\6_month_internship\\working space\\data\\combined_1_year_data_with_flexibility.xlsx', sheet_name=None)\n",
    "\n",
    "# Define the time range for calculation (8 am - 10 am and 6 pm - 10 pm)\n",
    "start_time_morning = pd.Timestamp('00:00:00').time()\n",
    "end_time_morning = pd.Timestamp('12:00:00').time()\n",
    "start_time_evening = pd.Timestamp('12:00:01').time()\n",
    "end_time_evening = pd.Timestamp('23:59:59').time()\n",
    "\n",
    "# Initialize lists to store total morning and evening flexible consumption\n",
    "total_flex_consumption = []\n",
    "\n",
    "# Define a function to filter data by weekdays\n",
    "def filter_by_weekdays(df, weekdays):\n",
    "    # Convert 'date' column to datetime format\n",
    "    df['date'] = pd.to_datetime(df['date'])\n",
    "    # Create a dictionary to map weekday names to day numbers\n",
    "    weekday_map = {\n",
    "        'Monday': 0,\n",
    "        'Tuesday': 1,\n",
    "        'Wednesday': 2,\n",
    "        'Thursday': 3,\n",
    "        'Friday': 4,\n",
    "        'Saturday': 5,\n",
    "        'Sunday': 6\n",
    "    }\n",
    "    # Filter the DataFrame to include only the specified weekdays\n",
    "    day_numbers = [weekday_map[day] for day in weekdays]\n",
    "    return df[df['date'].dt.dayofweek.isin(day_numbers)]\n",
    "\n",
    "# Specify the weekdays you are interested in\n",
    "desired_weekdays = ['Sunday', 'Saturday', 'Friday', 'Thursday', 'Wednesday', 'Tuesday', 'Monday']\n",
    "\n",
    "# Iterate over each sheet and perform the filtering and calculation for energy flexibility during peak hours\n",
    "for sheet_name, df in combined_data_dict_5.items():\n",
    "    if sheet_name not in excluded_houses:\n",
    "        # Filter rows to include only flexible devices (second row)\n",
    "        flexibility_row = df.iloc[0] == 'flexible'\n",
    "        flexible_devices_df = df.loc[:, flexibility_row]\n",
    "\n",
    "        # Convert 'date' column to datetime format\n",
    "        df['date'] = pd.to_datetime(df['date'])\n",
    "\n",
    "        # Filter flexible devices data by desired weekdays\n",
    "        filtered_df = filter_by_weekdays(df, desired_weekdays)\n",
    "        flexible_devices_df = flexible_devices_df.loc[filtered_df.index]\n",
    "\n",
    "        # Filter rows based on time range and calculate sum for morning and evening\n",
    "        morning_sum = flexible_devices_df[\n",
    "            (filtered_df['date'].dt.time >= start_time_morning) & \n",
    "            (filtered_df['date'].dt.time <= end_time_morning)\n",
    "        ].sum().sum()\n",
    "\n",
    "        evening_sum = flexible_devices_df[\n",
    "            (filtered_df['date'].dt.time >= start_time_evening) & \n",
    "            (filtered_df['date'].dt.time <= end_time_evening)\n",
    "        ].sum().sum()\n",
    "\n",
    "        # Append total morning and evening sums to list\n",
    "        total_flex_consumption.append(morning_sum + evening_sum)\n",
    "    else:\n",
    "        print(f\"Sheet {sheet_name} excluded.\")\n",
    "\n",
    "# Create a DataFrame to store the flexible consumption data\n",
    "flex_consumption_df = pd.DataFrame({\n",
    "    'House ID': [k for k in combined_data_dict_5.keys() if k not in excluded_houses],\n",
    "    'Total Flexible Consumption': total_flex_consumption\n",
    "})\n",
    "\n",
    "# Convert values to kWh\n",
    "total_consumption_df['Total Consumption'] /= 1_000\n",
    "flex_consumption_df['Total Flexible Consumption'] /= 1_000\n",
    "\n",
    "# Merge the total consumption and flexible consumption DataFrames\n",
    "merged_df = total_consumption_df.merge(flex_consumption_df, left_index=True, right_on='House ID')\n",
    "\n",
    "# Define flexibility thresholds\n",
    "high_threshold = merged_df['Total Flexible Consumption'].quantile(0.66)\n",
    "low_threshold = merged_df['Total Flexible Consumption'].quantile(0.33)\n",
    "\n",
    "# Categorize flexibility potential\n",
    "def categorize_flexibility(value):\n",
    "    if value >= high_threshold:\n",
    "        return 'High'\n",
    "    elif value >= low_threshold:\n",
    "        return 'Average'\n",
    "    else:\n",
    "        return 'Low'\n",
    "\n",
    "merged_df['Flexibility Category'] = merged_df['Total Flexible Consumption'].apply(categorize_flexibility)\n",
    "\n",
    "# Define colors based on flexibility categories\n",
    "color_map = {\n",
    "    'High': 'green',\n",
    "    'Average': 'yellow',\n",
    "    'Low': 'red'\n",
    "}\n",
    "\n",
    "merged_df['Color'] = merged_df['Flexibility Category'].map(color_map)\n",
    "\n",
    "# Sort DataFrame by Total Flexible Consumption\n",
    "merged_df = merged_df.sort_values(by='Total Flexible Consumption')\n",
    "\n",
    "# Create separate DataFrames for each flexibility category\n",
    "high_df = merged_df[merged_df['Flexibility Category'] == 'High']\n",
    "average_df = merged_df[merged_df['Flexibility Category'] == 'Average']\n",
    "low_df = merged_df[merged_df['Flexibility Category'] == 'Low']\n",
    "\n"
   ]
  },
  {
   "cell_type": "code",
   "execution_count": 7,
   "metadata": {},
   "outputs": [
    {
     "data": {
      "application/vnd.plotly.v1+json": {
       "config": {
        "plotlyServerURL": "https://plot.ly"
       },
       "data": [
        {
         "marker": {
          "color": "blue"
         },
         "name": "Total Consumption",
         "type": "bar",
         "x": [
          "2000994",
          "2000992",
          "2000957",
          "2000905",
          "2000958",
          "2000993",
          "2000963",
          "2000918",
          "2000929",
          "2000995",
          "2000986",
          "2000926",
          "2000910",
          "2000911",
          "2000976",
          "2000973",
          "2000923",
          "2000932",
          "2000988",
          "2000965",
          "2000961",
          "2000906",
          "2000951",
          "2000941",
          "2000913",
          "2000935",
          "2000931",
          "2000979",
          "2000970",
          "2000912",
          "2000946",
          "2000960",
          "2000996",
          "2000925",
          "2000997",
          "2000985",
          "2000964",
          "2000922",
          "2000943",
          "2000908",
          "2000980",
          "2000952",
          "2000949",
          "2000903",
          "2000972",
          "2000930",
          "2000939",
          "2000942",
          "2000966",
          "2000950",
          "2000940",
          "2000916",
          "2000927",
          "2000901",
          "2000989",
          "2000956",
          "2000991",
          "2000917",
          "2000984",
          "2000968",
          "2000900",
          "2000947",
          "2000955",
          "2000983",
          "2000936",
          "2000987",
          "2000990",
          "2000975",
          "2000981",
          "2000907",
          "2000974",
          "2000921",
          "2000904",
          "2000962",
          "2000959",
          "2000969",
          "2000982",
          "2000909",
          "2000971",
          "2000948",
          "2000978",
          "2000934",
          "2000945",
          "2000928",
          "2000967",
          "2000915",
          "2000944",
          "2000914",
          "2000938",
          "2000953",
          "2000954"
         ],
         "y": [
          1505.839,
          3315.212,
          2509.275,
          2644.347,
          1941.833,
          635.496,
          3107.273,
          1821.784,
          2161.937,
          4005.725,
          2266.623,
          5003.568,
          2289.067,
          1743.784,
          3028.419,
          3484.451,
          2055.771,
          2744.192,
          3653.331,
          5326.945,
          5417.75,
          3356.984,
          6187.993,
          2955.401,
          2739.13,
          2453.96,
          4176.841,
          2884.031,
          3569.341,
          7715.054,
          2595.789,
          5679.094,
          3879.198,
          3409.214,
          4799.713,
          3302.312,
          4969.766,
          2992.618,
          3787.707,
          3480.698,
          6101.826,
          5682.121,
          4012.132,
          4408.269,
          2764.521,
          6194.527,
          4764.709,
          3360.559,
          4332.815,
          11687.4,
          6743.198,
          3260.412,
          4378.215,
          4661.35,
          8479.254,
          3488.753,
          4520.472,
          3398.101,
          4085.647,
          3104.098,
          5433.955,
          8138.546,
          6043.037,
          4054.982,
          5567.328,
          10002.391,
          5384.846,
          4371.705,
          5200.652,
          6148.312,
          7056.712,
          8081.341,
          10185.746,
          9177.521,
          8733.522,
          9482.164,
          8424.373,
          9416.947,
          10382.544,
          11091.206,
          8289.785,
          11938.424,
          10088.333,
          9234.631,
          9535.769,
          12067.459,
          13273.114,
          13151.874,
          14115.087,
          14698.261,
          17123.52
         ]
        },
        {
         "marker": {
          "color": "red"
         },
         "name": "Low Flexibility Consumption",
         "opacity": 0.5,
         "text": [
          "Low",
          "Low",
          "Low",
          "Low",
          "Low",
          "Low",
          "Low",
          "Low",
          "Low",
          "Low",
          "Low",
          "Low",
          "Low",
          "Low",
          "Low",
          "Low",
          "Low",
          "Low",
          "Low",
          "Low",
          "Low",
          "Low",
          "Low",
          "Low",
          "Low",
          "Low",
          "Low",
          "Low",
          "Low",
          "Low"
         ],
         "type": "bar",
         "x": [
          "2000994",
          "2000992",
          "2000957",
          "2000905",
          "2000958",
          "2000993",
          "2000963",
          "2000918",
          "2000929",
          "2000995",
          "2000986",
          "2000926",
          "2000910",
          "2000911",
          "2000976",
          "2000973",
          "2000923",
          "2000932",
          "2000988",
          "2000965",
          "2000961",
          "2000906",
          "2000951",
          "2000941",
          "2000913",
          "2000935",
          "2000931",
          "2000979",
          "2000970",
          "2000912"
         ],
         "y": [
          156.304,
          268.021,
          289.424,
          294.064,
          303.145,
          306.285,
          363.313,
          363.444,
          415.772,
          447.983,
          455.414,
          489.761,
          502.76,
          510.652,
          575.733,
          633.624,
          649.785,
          675.083,
          683.681,
          698.564,
          787.89,
          810.421,
          816.156,
          827.728,
          850.645,
          888.972,
          900.937,
          913.714,
          921.808,
          960.245
         ]
        },
        {
         "marker": {
          "color": "yellow"
         },
         "name": "Average Flexibility Consumption",
         "opacity": 0.5,
         "text": [
          "Average",
          "Average",
          "Average",
          "Average",
          "Average",
          "Average",
          "Average",
          "Average",
          "Average",
          "Average",
          "Average",
          "Average",
          "Average",
          "Average",
          "Average",
          "Average",
          "Average",
          "Average",
          "Average",
          "Average",
          "Average",
          "Average",
          "Average",
          "Average",
          "Average",
          "Average",
          "Average",
          "Average",
          "Average",
          "Average"
         ],
         "type": "bar",
         "x": [
          "2000946",
          "2000960",
          "2000996",
          "2000925",
          "2000997",
          "2000985",
          "2000964",
          "2000922",
          "2000943",
          "2000908",
          "2000980",
          "2000952",
          "2000949",
          "2000903",
          "2000972",
          "2000930",
          "2000939",
          "2000942",
          "2000966",
          "2000950",
          "2000940",
          "2000916",
          "2000927",
          "2000901",
          "2000989",
          "2000956",
          "2000991",
          "2000917",
          "2000984",
          "2000968"
         ],
         "y": [
          963.231,
          996.509,
          1108.628,
          1131.403,
          1157.762,
          1181.373,
          1201.511,
          1298.466,
          1301.128,
          1336.926,
          1340.455,
          1383.968,
          1399.238,
          1411.223,
          1479.928,
          1495.901,
          1512.524,
          1540.547,
          1574.37,
          1603.271,
          1788.026,
          1880.862,
          1908.051,
          1917.094,
          1934.745,
          2029.573,
          2067.049,
          2135.45,
          2147.794,
          2301.429
         ]
        },
        {
         "marker": {
          "color": "green"
         },
         "name": "High Flexibility Consumption",
         "opacity": 0.5,
         "text": [
          "High",
          "High",
          "High",
          "High",
          "High",
          "High",
          "High",
          "High",
          "High",
          "High",
          "High",
          "High",
          "High",
          "High",
          "High",
          "High",
          "High",
          "High",
          "High",
          "High",
          "High",
          "High",
          "High",
          "High",
          "High",
          "High",
          "High",
          "High",
          "High",
          "High",
          "High"
         ],
         "type": "bar",
         "x": [
          "2000900",
          "2000947",
          "2000955",
          "2000983",
          "2000936",
          "2000987",
          "2000990",
          "2000975",
          "2000981",
          "2000907",
          "2000974",
          "2000921",
          "2000904",
          "2000962",
          "2000959",
          "2000969",
          "2000982",
          "2000909",
          "2000971",
          "2000948",
          "2000978",
          "2000934",
          "2000945",
          "2000928",
          "2000967",
          "2000915",
          "2000944",
          "2000914",
          "2000938",
          "2000953",
          "2000954"
         ],
         "y": [
          2381.053,
          2544.025,
          2666.458,
          2679.561,
          2737.208,
          2809.616,
          2978.701,
          3003.854,
          3155.558,
          3379.502,
          3955.559,
          4241.081,
          4458.983,
          4992.889,
          5275.707,
          5360.918,
          5854.92,
          5908.031,
          6258.481,
          6577.495,
          6873.76,
          7040.175,
          7070.454,
          7466.371,
          7723.188,
          8785.793,
          9593.872,
          11398.48,
          11450.126,
          12470.351,
          13643.418
         ]
        }
       ],
       "layout": {
        "barmode": "overlay",
        "height": 800,
        "legend": {
         "traceorder": "reversed"
        },
        "margin": {
         "b": 200,
         "l": 100,
         "r": 100,
         "t": 100
        },
        "template": {
         "data": {
          "bar": [
           {
            "error_x": {
             "color": "#2a3f5f"
            },
            "error_y": {
             "color": "#2a3f5f"
            },
            "marker": {
             "line": {
              "color": "#E5ECF6",
              "width": 0.5
             },
             "pattern": {
              "fillmode": "overlay",
              "size": 10,
              "solidity": 0.2
             }
            },
            "type": "bar"
           }
          ],
          "barpolar": [
           {
            "marker": {
             "line": {
              "color": "#E5ECF6",
              "width": 0.5
             },
             "pattern": {
              "fillmode": "overlay",
              "size": 10,
              "solidity": 0.2
             }
            },
            "type": "barpolar"
           }
          ],
          "carpet": [
           {
            "aaxis": {
             "endlinecolor": "#2a3f5f",
             "gridcolor": "white",
             "linecolor": "white",
             "minorgridcolor": "white",
             "startlinecolor": "#2a3f5f"
            },
            "baxis": {
             "endlinecolor": "#2a3f5f",
             "gridcolor": "white",
             "linecolor": "white",
             "minorgridcolor": "white",
             "startlinecolor": "#2a3f5f"
            },
            "type": "carpet"
           }
          ],
          "choropleth": [
           {
            "colorbar": {
             "outlinewidth": 0,
             "ticks": ""
            },
            "type": "choropleth"
           }
          ],
          "contour": [
           {
            "colorbar": {
             "outlinewidth": 0,
             "ticks": ""
            },
            "colorscale": [
             [
              0,
              "#0d0887"
             ],
             [
              0.1111111111111111,
              "#46039f"
             ],
             [
              0.2222222222222222,
              "#7201a8"
             ],
             [
              0.3333333333333333,
              "#9c179e"
             ],
             [
              0.4444444444444444,
              "#bd3786"
             ],
             [
              0.5555555555555556,
              "#d8576b"
             ],
             [
              0.6666666666666666,
              "#ed7953"
             ],
             [
              0.7777777777777778,
              "#fb9f3a"
             ],
             [
              0.8888888888888888,
              "#fdca26"
             ],
             [
              1,
              "#f0f921"
             ]
            ],
            "type": "contour"
           }
          ],
          "contourcarpet": [
           {
            "colorbar": {
             "outlinewidth": 0,
             "ticks": ""
            },
            "type": "contourcarpet"
           }
          ],
          "heatmap": [
           {
            "colorbar": {
             "outlinewidth": 0,
             "ticks": ""
            },
            "colorscale": [
             [
              0,
              "#0d0887"
             ],
             [
              0.1111111111111111,
              "#46039f"
             ],
             [
              0.2222222222222222,
              "#7201a8"
             ],
             [
              0.3333333333333333,
              "#9c179e"
             ],
             [
              0.4444444444444444,
              "#bd3786"
             ],
             [
              0.5555555555555556,
              "#d8576b"
             ],
             [
              0.6666666666666666,
              "#ed7953"
             ],
             [
              0.7777777777777778,
              "#fb9f3a"
             ],
             [
              0.8888888888888888,
              "#fdca26"
             ],
             [
              1,
              "#f0f921"
             ]
            ],
            "type": "heatmap"
           }
          ],
          "heatmapgl": [
           {
            "colorbar": {
             "outlinewidth": 0,
             "ticks": ""
            },
            "colorscale": [
             [
              0,
              "#0d0887"
             ],
             [
              0.1111111111111111,
              "#46039f"
             ],
             [
              0.2222222222222222,
              "#7201a8"
             ],
             [
              0.3333333333333333,
              "#9c179e"
             ],
             [
              0.4444444444444444,
              "#bd3786"
             ],
             [
              0.5555555555555556,
              "#d8576b"
             ],
             [
              0.6666666666666666,
              "#ed7953"
             ],
             [
              0.7777777777777778,
              "#fb9f3a"
             ],
             [
              0.8888888888888888,
              "#fdca26"
             ],
             [
              1,
              "#f0f921"
             ]
            ],
            "type": "heatmapgl"
           }
          ],
          "histogram": [
           {
            "marker": {
             "pattern": {
              "fillmode": "overlay",
              "size": 10,
              "solidity": 0.2
             }
            },
            "type": "histogram"
           }
          ],
          "histogram2d": [
           {
            "colorbar": {
             "outlinewidth": 0,
             "ticks": ""
            },
            "colorscale": [
             [
              0,
              "#0d0887"
             ],
             [
              0.1111111111111111,
              "#46039f"
             ],
             [
              0.2222222222222222,
              "#7201a8"
             ],
             [
              0.3333333333333333,
              "#9c179e"
             ],
             [
              0.4444444444444444,
              "#bd3786"
             ],
             [
              0.5555555555555556,
              "#d8576b"
             ],
             [
              0.6666666666666666,
              "#ed7953"
             ],
             [
              0.7777777777777778,
              "#fb9f3a"
             ],
             [
              0.8888888888888888,
              "#fdca26"
             ],
             [
              1,
              "#f0f921"
             ]
            ],
            "type": "histogram2d"
           }
          ],
          "histogram2dcontour": [
           {
            "colorbar": {
             "outlinewidth": 0,
             "ticks": ""
            },
            "colorscale": [
             [
              0,
              "#0d0887"
             ],
             [
              0.1111111111111111,
              "#46039f"
             ],
             [
              0.2222222222222222,
              "#7201a8"
             ],
             [
              0.3333333333333333,
              "#9c179e"
             ],
             [
              0.4444444444444444,
              "#bd3786"
             ],
             [
              0.5555555555555556,
              "#d8576b"
             ],
             [
              0.6666666666666666,
              "#ed7953"
             ],
             [
              0.7777777777777778,
              "#fb9f3a"
             ],
             [
              0.8888888888888888,
              "#fdca26"
             ],
             [
              1,
              "#f0f921"
             ]
            ],
            "type": "histogram2dcontour"
           }
          ],
          "mesh3d": [
           {
            "colorbar": {
             "outlinewidth": 0,
             "ticks": ""
            },
            "type": "mesh3d"
           }
          ],
          "parcoords": [
           {
            "line": {
             "colorbar": {
              "outlinewidth": 0,
              "ticks": ""
             }
            },
            "type": "parcoords"
           }
          ],
          "pie": [
           {
            "automargin": true,
            "type": "pie"
           }
          ],
          "scatter": [
           {
            "fillpattern": {
             "fillmode": "overlay",
             "size": 10,
             "solidity": 0.2
            },
            "type": "scatter"
           }
          ],
          "scatter3d": [
           {
            "line": {
             "colorbar": {
              "outlinewidth": 0,
              "ticks": ""
             }
            },
            "marker": {
             "colorbar": {
              "outlinewidth": 0,
              "ticks": ""
             }
            },
            "type": "scatter3d"
           }
          ],
          "scattercarpet": [
           {
            "marker": {
             "colorbar": {
              "outlinewidth": 0,
              "ticks": ""
             }
            },
            "type": "scattercarpet"
           }
          ],
          "scattergeo": [
           {
            "marker": {
             "colorbar": {
              "outlinewidth": 0,
              "ticks": ""
             }
            },
            "type": "scattergeo"
           }
          ],
          "scattergl": [
           {
            "marker": {
             "colorbar": {
              "outlinewidth": 0,
              "ticks": ""
             }
            },
            "type": "scattergl"
           }
          ],
          "scattermapbox": [
           {
            "marker": {
             "colorbar": {
              "outlinewidth": 0,
              "ticks": ""
             }
            },
            "type": "scattermapbox"
           }
          ],
          "scatterpolar": [
           {
            "marker": {
             "colorbar": {
              "outlinewidth": 0,
              "ticks": ""
             }
            },
            "type": "scatterpolar"
           }
          ],
          "scatterpolargl": [
           {
            "marker": {
             "colorbar": {
              "outlinewidth": 0,
              "ticks": ""
             }
            },
            "type": "scatterpolargl"
           }
          ],
          "scatterternary": [
           {
            "marker": {
             "colorbar": {
              "outlinewidth": 0,
              "ticks": ""
             }
            },
            "type": "scatterternary"
           }
          ],
          "surface": [
           {
            "colorbar": {
             "outlinewidth": 0,
             "ticks": ""
            },
            "colorscale": [
             [
              0,
              "#0d0887"
             ],
             [
              0.1111111111111111,
              "#46039f"
             ],
             [
              0.2222222222222222,
              "#7201a8"
             ],
             [
              0.3333333333333333,
              "#9c179e"
             ],
             [
              0.4444444444444444,
              "#bd3786"
             ],
             [
              0.5555555555555556,
              "#d8576b"
             ],
             [
              0.6666666666666666,
              "#ed7953"
             ],
             [
              0.7777777777777778,
              "#fb9f3a"
             ],
             [
              0.8888888888888888,
              "#fdca26"
             ],
             [
              1,
              "#f0f921"
             ]
            ],
            "type": "surface"
           }
          ],
          "table": [
           {
            "cells": {
             "fill": {
              "color": "#EBF0F8"
             },
             "line": {
              "color": "white"
             }
            },
            "header": {
             "fill": {
              "color": "#C8D4E3"
             },
             "line": {
              "color": "white"
             }
            },
            "type": "table"
           }
          ]
         },
         "layout": {
          "annotationdefaults": {
           "arrowcolor": "#2a3f5f",
           "arrowhead": 0,
           "arrowwidth": 1
          },
          "autotypenumbers": "strict",
          "coloraxis": {
           "colorbar": {
            "outlinewidth": 0,
            "ticks": ""
           }
          },
          "colorscale": {
           "diverging": [
            [
             0,
             "#8e0152"
            ],
            [
             0.1,
             "#c51b7d"
            ],
            [
             0.2,
             "#de77ae"
            ],
            [
             0.3,
             "#f1b6da"
            ],
            [
             0.4,
             "#fde0ef"
            ],
            [
             0.5,
             "#f7f7f7"
            ],
            [
             0.6,
             "#e6f5d0"
            ],
            [
             0.7,
             "#b8e186"
            ],
            [
             0.8,
             "#7fbc41"
            ],
            [
             0.9,
             "#4d9221"
            ],
            [
             1,
             "#276419"
            ]
           ],
           "sequential": [
            [
             0,
             "#0d0887"
            ],
            [
             0.1111111111111111,
             "#46039f"
            ],
            [
             0.2222222222222222,
             "#7201a8"
            ],
            [
             0.3333333333333333,
             "#9c179e"
            ],
            [
             0.4444444444444444,
             "#bd3786"
            ],
            [
             0.5555555555555556,
             "#d8576b"
            ],
            [
             0.6666666666666666,
             "#ed7953"
            ],
            [
             0.7777777777777778,
             "#fb9f3a"
            ],
            [
             0.8888888888888888,
             "#fdca26"
            ],
            [
             1,
             "#f0f921"
            ]
           ],
           "sequentialminus": [
            [
             0,
             "#0d0887"
            ],
            [
             0.1111111111111111,
             "#46039f"
            ],
            [
             0.2222222222222222,
             "#7201a8"
            ],
            [
             0.3333333333333333,
             "#9c179e"
            ],
            [
             0.4444444444444444,
             "#bd3786"
            ],
            [
             0.5555555555555556,
             "#d8576b"
            ],
            [
             0.6666666666666666,
             "#ed7953"
            ],
            [
             0.7777777777777778,
             "#fb9f3a"
            ],
            [
             0.8888888888888888,
             "#fdca26"
            ],
            [
             1,
             "#f0f921"
            ]
           ]
          },
          "colorway": [
           "#636efa",
           "#EF553B",
           "#00cc96",
           "#ab63fa",
           "#FFA15A",
           "#19d3f3",
           "#FF6692",
           "#B6E880",
           "#FF97FF",
           "#FECB52"
          ],
          "font": {
           "color": "#2a3f5f"
          },
          "geo": {
           "bgcolor": "white",
           "lakecolor": "white",
           "landcolor": "#E5ECF6",
           "showlakes": true,
           "showland": true,
           "subunitcolor": "white"
          },
          "hoverlabel": {
           "align": "left"
          },
          "hovermode": "closest",
          "mapbox": {
           "style": "light"
          },
          "paper_bgcolor": "white",
          "plot_bgcolor": "#E5ECF6",
          "polar": {
           "angularaxis": {
            "gridcolor": "white",
            "linecolor": "white",
            "ticks": ""
           },
           "bgcolor": "#E5ECF6",
           "radialaxis": {
            "gridcolor": "white",
            "linecolor": "white",
            "ticks": ""
           }
          },
          "scene": {
           "xaxis": {
            "backgroundcolor": "#E5ECF6",
            "gridcolor": "white",
            "gridwidth": 2,
            "linecolor": "white",
            "showbackground": true,
            "ticks": "",
            "zerolinecolor": "white"
           },
           "yaxis": {
            "backgroundcolor": "#E5ECF6",
            "gridcolor": "white",
            "gridwidth": 2,
            "linecolor": "white",
            "showbackground": true,
            "ticks": "",
            "zerolinecolor": "white"
           },
           "zaxis": {
            "backgroundcolor": "#E5ECF6",
            "gridcolor": "white",
            "gridwidth": 2,
            "linecolor": "white",
            "showbackground": true,
            "ticks": "",
            "zerolinecolor": "white"
           }
          },
          "shapedefaults": {
           "line": {
            "color": "#2a3f5f"
           }
          },
          "ternary": {
           "aaxis": {
            "gridcolor": "white",
            "linecolor": "white",
            "ticks": ""
           },
           "baxis": {
            "gridcolor": "white",
            "linecolor": "white",
            "ticks": ""
           },
           "bgcolor": "#E5ECF6",
           "caxis": {
            "gridcolor": "white",
            "linecolor": "white",
            "ticks": ""
           }
          },
          "title": {
           "x": 0.05
          },
          "xaxis": {
           "automargin": true,
           "gridcolor": "white",
           "linecolor": "white",
           "ticks": "",
           "title": {
            "standoff": 15
           },
           "zerolinecolor": "white",
           "zerolinewidth": 2
          },
          "yaxis": {
           "automargin": true,
           "gridcolor": "white",
           "linecolor": "white",
           "ticks": "",
           "title": {
            "standoff": 15
           },
           "zerolinecolor": "white",
           "zerolinewidth": 2
          }
         }
        },
        "title": {
         "text": "Total Energy Consumption vs Flexible Consumption"
        },
        "width": 2000,
        "xaxis": {
         "tickangle": -45,
         "title": {
          "text": "House ID"
         }
        },
        "yaxis": {
         "range": [
          0,
          18000
         ],
         "tickformat": ",.0f",
         "title": {
          "text": "Energy Consumption (kWh)"
         }
        }
       }
      }
     },
     "metadata": {},
     "output_type": "display_data"
    }
   ],
   "source": [
    "# Create a figure\n",
    "fig = go.Figure()\n",
    "\n",
    "# Add bars for total consumption\n",
    "fig.add_trace(go.Bar(\n",
    "    x=merged_df['House ID'],\n",
    "    y=merged_df['Total Consumption'],\n",
    "    name='Total Consumption',\n",
    "    marker_color='blue'\n",
    "))\n",
    "\n",
    "# Add bars for flexible consumption with colors based on flexibility category\n",
    "fig.add_trace(go.Bar(\n",
    "    x=low_df['House ID'],\n",
    "    y=low_df['Total Flexible Consumption'],\n",
    "    name='Low Flexibility Consumption',\n",
    "    marker_color='red',\n",
    "    text=low_df['Flexibility Category'],\n",
    "    opacity=0.5\n",
    "))\n",
    "\n",
    "fig.add_trace(go.Bar(\n",
    "    x=average_df['House ID'],\n",
    "    y=average_df['Total Flexible Consumption'],\n",
    "    name='Average Flexibility Consumption',\n",
    "    marker_color='yellow',\n",
    "    text=average_df['Flexibility Category'],\n",
    "    opacity=0.5\n",
    "))\n",
    "\n",
    "fig.add_trace(go.Bar(\n",
    "    x=high_df['House ID'],\n",
    "    y=high_df['Total Flexible Consumption'],\n",
    "    name='High Flexibility Consumption',\n",
    "    marker_color='green',\n",
    "    text=high_df['Flexibility Category'],\n",
    "    opacity=0.5\n",
    "))\n",
    "\n",
    "# Update layout with appropriate y-axis range and formatting\n",
    "fig.update_layout(\n",
    "    title='Total Energy Consumption vs Flexible Consumption',\n",
    "    xaxis_title='House ID',\n",
    "    yaxis_title='Energy Consumption (kWh)',\n",
    "    yaxis=dict(\n",
    "        tickformat=',.0f',  # Use comma as a thousand separator\n",
    "        range=[0, 18000]    # Set y-axis range to a maximum of 18,000\n",
    "    ),\n",
    "    barmode='overlay',\n",
    "    xaxis_tickangle=-45,\n",
    "    width=2000,  # Increase width to fit more house IDs\n",
    "    height=800,  # Increase height for better readability\n",
    "    margin=dict(\n",
    "        l=100,   # left margin\n",
    "        r=100,   # right margin\n",
    "        b=200,  # bottom margin to accommodate x-axis labels\n",
    "        t=100   # top margin for title\n",
    "    ),\n",
    "    legend_traceorder='reversed'  # Reverse the order of items in the legend\n",
    ")\n",
    "\n",
    "# Show the figure\n",
    "fig.show()"
   ]
  },
  {
   "cell_type": "markdown",
   "metadata": {},
   "source": [
    "# Simple indicators\n",
    "Ranking for 1 year indicators acording its flexibility conditions. (for simple indicators)"
   ]
  },
  {
   "cell_type": "markdown",
   "metadata": {},
   "source": [
    "experiment n 1 (I am trying to have sum of site consumption from iris data)"
   ]
  },
  {
   "cell_type": "code",
   "execution_count": 26,
   "metadata": {},
   "outputs": [
    {
     "name": "stdout",
     "output_type": "stream",
     "text": [
      "Processing sheet 2000900\n",
      "Found matching appliance: Fridge\n",
      "Fridge is not flexible with annual energy consumption: 346 kWh\n",
      "Found matching appliance: Halogen lamp\n",
      "Halogen lamp is flexible with annual energy consumption: 134 kWh\n",
      "Found matching appliance: Power supply for wood boiler\n",
      "Power supply for wood boiler is flexible with annual energy consumption: 120 kWh\n",
      "Found matching appliance: Site consumption\n",
      "Site consumption is total site consumption (average values): 5433955.0 kWh\n",
      "Found matching appliance: Total site light consumption\n",
      "Total site light consumption is total light consumption (average values): 443 kWh\n",
      "Found matching appliance: Vertical freezer\n",
      "Vertical freezer is not flexible with annual energy consumption: 296 kWh\n",
      "Found matching appliance: Washing machine\n",
      "Washing machine is flexible with annual energy consumption: 100 kWh\n",
      "Found matching appliance: Water heater\n",
      "Water heater is flexible with annual energy consumption: 1676 kWh\n",
      "Processing sheet 2000901\n",
      "Found matching appliance: Chest freezer\n",
      "Chest freezer is not flexible with annual energy consumption: 296 kWh\n",
      "Found matching appliance: Clothes drier\n",
      "Clothes drier is flexible with annual energy consumption: 280 kWh\n",
      "Found matching appliance: Dish washer\n",
      "Dish washer is flexible with annual energy consumption: 154 kWh\n",
      "Found matching appliance: Fridge\n",
      "Fridge is not flexible with annual energy consumption: 346 kWh\n",
      "Found matching appliance: Microwave oven\n",
      "Microwave oven is flexible with annual energy consumption: 39 kWh\n",
      "Found matching appliance: Non halogen lamp\n",
      "Non halogen lamp is flexible with annual energy consumption: 134 kWh\n",
      "Found matching appliance: Non halogen lamp\n",
      "Non halogen lamp is flexible with annual energy consumption: 134 kWh\n",
      "Found matching appliance: Site consumption\n",
      "Site consumption is total site consumption (average values): 4661350.0 kWh\n",
      "Found matching appliance: Total site light consumption\n",
      "Total site light consumption is total light consumption (average values): 443 kWh\n",
      "Found matching appliance: TV\n",
      "TV is flexible with annual energy consumption: 150 kWh\n",
      "Found matching appliance: Washing machine\n",
      "Washing machine is flexible with annual energy consumption: 100 kWh\n",
      "Processing sheet 2000903\n",
      "Found matching appliance: Chest freezer\n",
      "Chest freezer is not flexible with annual energy consumption: 296 kWh\n",
      "Found matching appliance: Dish washer\n",
      "Dish washer is flexible with annual energy consumption: 154 kWh\n",
      "Found matching appliance: Halogen lamp\n",
      "Halogen lamp is flexible with annual energy consumption: 134 kWh\n",
      "Found matching appliance: Halogen lamp\n",
      "Halogen lamp is flexible with annual energy consumption: 134 kWh\n",
      "Found matching appliance: Halogen lamp\n",
      "Halogen lamp is flexible with annual energy consumption: 134 kWh\n",
      "Found matching appliance: Halogen lamp\n",
      "Halogen lamp is flexible with annual energy consumption: 134 kWh\n",
      "Found matching appliance: Power supply for fuel boiler\n",
      "Power supply for fuel boiler is flexible with annual energy consumption: 363 kWh\n",
      "Found matching appliance: Site consumption\n",
      "Site consumption is total site consumption (average values): 4408269.0 kWh\n",
      "Found matching appliance: Washing machine\n",
      "Washing machine is flexible with annual energy consumption: 100 kWh\n",
      "Processing sheet 2000904\n",
      "Found matching appliance: Chest freezer\n",
      "Chest freezer is not flexible with annual energy consumption: 296 kWh\n",
      "Found matching appliance: Clothes drier\n",
      "Clothes drier is flexible with annual energy consumption: 280 kWh\n",
      "Found matching appliance: Electric Cooker\n",
      "Electric Cooker is flexible with annual energy consumption: 159 kWh\n",
      "Found matching appliance: Halogen lamp\n",
      "Halogen lamp is flexible with annual energy consumption: 134 kWh\n",
      "Found matching appliance: Non halogen lamp\n",
      "Non halogen lamp is flexible with annual energy consumption: 134 kWh\n",
      "Found matching appliance: Non halogen lamp\n",
      "Non halogen lamp is flexible with annual energy consumption: 134 kWh\n",
      "Found matching appliance: Site consumption\n",
      "Site consumption is total site consumption (average values): 10185746.0 kWh\n",
      "Found matching appliance: Total site light consumption\n",
      "Total site light consumption is total light consumption (average values): 443 kWh\n",
      "Found matching appliance: Washing machine\n",
      "Washing machine is flexible with annual energy consumption: 100 kWh\n",
      "Found matching appliance: Water heater\n",
      "Water heater is flexible with annual energy consumption: 1676 kWh\n",
      "Processing sheet 2000905\n",
      "Found matching appliance: Chest freezer\n",
      "Chest freezer is not flexible with annual energy consumption: 296 kWh\n",
      "Found matching appliance: Fridge freezer\n",
      "Fridge freezer is not flexible with annual energy consumption: 296 kWh\n",
      "Found matching appliance: Fridge\n",
      "Fridge is not flexible with annual energy consumption: 346 kWh\n",
      "Found matching appliance: Halogen lamp\n",
      "Halogen lamp is flexible with annual energy consumption: 134 kWh\n",
      "Found matching appliance: Microwave oven\n",
      "Microwave oven is flexible with annual energy consumption: 39 kWh\n",
      "Found matching appliance: Site consumption\n",
      "Site consumption is total site consumption (average values): 2644347.0 kWh\n",
      "Found matching appliance: Total site light consumption\n",
      "Total site light consumption is total light consumption (average values): 443 kWh\n",
      "Found matching appliance: TV\n",
      "TV is flexible with annual energy consumption: 150 kWh\n",
      "Found matching appliance: Washing machine\n",
      "Washing machine is flexible with annual energy consumption: 100 kWh\n",
      "Processing sheet 2000906\n",
      "Found matching appliance: Electric Cooker\n",
      "Electric Cooker is flexible with annual energy consumption: 159 kWh\n",
      "Found matching appliance: Fridge freezer\n",
      "Fridge freezer is not flexible with annual energy consumption: 296 kWh\n",
      "Found matching appliance: Fridge\n",
      "Fridge is not flexible with annual energy consumption: 346 kWh\n",
      "Found matching appliance: Microwave oven\n",
      "Microwave oven is flexible with annual energy consumption: 39 kWh\n",
      "Found matching appliance: Non halogen lamp\n",
      "Non halogen lamp is flexible with annual energy consumption: 134 kWh\n",
      "Found matching appliance: Site consumption\n",
      "Site consumption is total site consumption (average values): 3356984.0 kWh\n",
      "Found matching appliance: Total site light consumption\n",
      "Total site light consumption is total light consumption (average values): 443 kWh\n",
      "Found matching appliance: TV\n",
      "TV is flexible with annual energy consumption: 150 kWh\n",
      "Found matching appliance: TV\n",
      "TV is flexible with annual energy consumption: 150 kWh\n",
      "Found matching appliance: Vertical freezer\n",
      "Vertical freezer is not flexible with annual energy consumption: 296 kWh\n",
      "Found matching appliance: Washing machine\n",
      "Washing machine is flexible with annual energy consumption: 100 kWh\n",
      "Processing sheet 2000907\n",
      "Found matching appliance: Clothes drier\n",
      "Clothes drier is flexible with annual energy consumption: 280 kWh\n",
      "Found matching appliance: Dish washer\n",
      "Dish washer is flexible with annual energy consumption: 154 kWh\n",
      "Found matching appliance: Microwave oven\n",
      "Microwave oven is flexible with annual energy consumption: 39 kWh\n",
      "Found matching appliance: Site consumption\n",
      "Site consumption is total site consumption (average values): 6148312.0 kWh\n",
      "Found matching appliance: Total site light consumption\n",
      "Total site light consumption is total light consumption (average values): 443 kWh\n",
      "Found matching appliance: Washing machine\n",
      "Washing machine is flexible with annual energy consumption: 100 kWh\n",
      "Found matching appliance: Water heater\n",
      "Water heater is flexible with annual energy consumption: 1676 kWh\n",
      "Processing sheet 2000908\n",
      "Found matching appliance: Clothes drier\n",
      "Clothes drier is flexible with annual energy consumption: 280 kWh\n",
      "Found matching appliance: Dish washer\n",
      "Dish washer is flexible with annual energy consumption: 154 kWh\n",
      "Found matching appliance: Electric oven\n",
      "Electric oven is flexible with annual energy consumption: 146 kWh\n",
      "Found matching appliance: Fridge freezer\n",
      "Fridge freezer is not flexible with annual energy consumption: 296 kWh\n",
      "Found matching appliance: Fridge\n",
      "Fridge is not flexible with annual energy consumption: 346 kWh\n",
      "Found matching appliance: Hot plate\n",
      "Hot plate is flexible with annual energy consumption: 159 kWh\n",
      "Found matching appliance: Microwave oven\n",
      "Microwave oven is flexible with annual energy consumption: 39 kWh\n",
      "Found matching appliance: Site consumption\n",
      "Site consumption is total site consumption (average values): 3480698.0 kWh\n",
      "Found matching appliance: Total site light consumption\n",
      "Total site light consumption is total light consumption (average values): 443 kWh\n",
      "Found matching appliance: TV\n",
      "TV is flexible with annual energy consumption: 150 kWh\n",
      "Found matching appliance: Vertical freezer\n",
      "Vertical freezer is not flexible with annual energy consumption: 296 kWh\n",
      "Found matching appliance: Washing machine\n",
      "Washing machine is flexible with annual energy consumption: 100 kWh\n",
      "Processing sheet 2000909\n",
      "Found matching appliance: Electric Cooker\n",
      "Electric Cooker is flexible with annual energy consumption: 159 kWh\n",
      "Found matching appliance: Electric heating\n",
      "Electric heating is flexible with annual energy consumption: 1720 kWh\n",
      "Found matching appliance: Fridge freezer\n",
      "Fridge freezer is not flexible with annual energy consumption: 296 kWh\n",
      "Found matching appliance: Fridge\n",
      "Fridge is not flexible with annual energy consumption: 346 kWh\n",
      "Found matching appliance: Halogen lamp\n",
      "Halogen lamp is flexible with annual energy consumption: 134 kWh\n",
      "Found matching appliance: Microwave oven\n",
      "Microwave oven is flexible with annual energy consumption: 39 kWh\n",
      "Found matching appliance: Site consumption\n",
      "Site consumption is total site consumption (average values): 9416947.0 kWh\n",
      "Found matching appliance: Total site light consumption\n",
      "Total site light consumption is total light consumption (average values): 443 kWh\n",
      "Found matching appliance: TV\n",
      "TV is flexible with annual energy consumption: 150 kWh\n",
      "Found matching appliance: Washing machine\n",
      "Washing machine is flexible with annual energy consumption: 100 kWh\n",
      "Found matching appliance: Water heater\n",
      "Water heater is flexible with annual energy consumption: 1676 kWh\n",
      "Processing sheet 2000910\n",
      "Found matching appliance: Dish washer\n",
      "Dish washer is flexible with annual energy consumption: 154 kWh\n",
      "Found matching appliance: Electric Cooker\n",
      "Electric Cooker is flexible with annual energy consumption: 159 kWh\n",
      "Found matching appliance: Fridge freezer\n",
      "Fridge freezer is not flexible with annual energy consumption: 296 kWh\n",
      "Found matching appliance: Fridge\n",
      "Fridge is not flexible with annual energy consumption: 346 kWh\n",
      "Found matching appliance: Halogen lamp\n",
      "Halogen lamp is flexible with annual energy consumption: 134 kWh\n",
      "Found matching appliance: Microwave oven\n",
      "Microwave oven is flexible with annual energy consumption: 39 kWh\n",
      "Found matching appliance: Site consumption\n",
      "Site consumption is total site consumption (average values): 2289067.0 kWh\n",
      "Found matching appliance: Total site light consumption\n",
      "Total site light consumption is total light consumption (average values): 443 kWh\n",
      "Found matching appliance: TV\n",
      "TV is flexible with annual energy consumption: 150 kWh\n",
      "Found matching appliance: Vertical freezer\n",
      "Vertical freezer is not flexible with annual energy consumption: 296 kWh\n",
      "Found matching appliance: Washing machine\n",
      "Washing machine is flexible with annual energy consumption: 100 kWh\n",
      "Processing sheet 2000911\n",
      "Found matching appliance: Electric Cooker\n",
      "Electric Cooker is flexible with annual energy consumption: 159 kWh\n",
      "Found matching appliance: Fridge freezer\n",
      "Fridge freezer is not flexible with annual energy consumption: 296 kWh\n",
      "Found matching appliance: Fridge\n",
      "Fridge is not flexible with annual energy consumption: 346 kWh\n",
      "Found matching appliance: Non halogen lamp\n",
      "Non halogen lamp is flexible with annual energy consumption: 134 kWh\n",
      "Found matching appliance: Non halogen lamp\n",
      "Non halogen lamp is flexible with annual energy consumption: 134 kWh\n",
      "Found matching appliance: Non halogen lamp\n",
      "Non halogen lamp is flexible with annual energy consumption: 134 kWh\n",
      "Found matching appliance: Non halogen lamp\n",
      "Non halogen lamp is flexible with annual energy consumption: 134 kWh\n",
      "Found matching appliance: Site consumption\n",
      "Site consumption is total site consumption (average values): 1743784.0 kWh\n",
      "Found matching appliance: Total site light consumption\n",
      "Total site light consumption is total light consumption (average values): 443 kWh\n",
      "Found matching appliance: TV\n",
      "TV is flexible with annual energy consumption: 150 kWh\n",
      "Found matching appliance: Washing machine\n",
      "Washing machine is flexible with annual energy consumption: 100 kWh\n",
      "Processing sheet 2000912\n",
      "Found matching appliance: Electric Cooker\n",
      "Electric Cooker is flexible with annual energy consumption: 159 kWh\n",
      "Found matching appliance: Fridge freezer\n",
      "Fridge freezer is not flexible with annual energy consumption: 296 kWh\n",
      "Found matching appliance: Fridge\n",
      "Fridge is not flexible with annual energy consumption: 346 kWh\n",
      "Found matching appliance: Non halogen lamp\n",
      "Non halogen lamp is flexible with annual energy consumption: 134 kWh\n",
      "Found matching appliance: Non halogen lamp\n",
      "Non halogen lamp is flexible with annual energy consumption: 134 kWh\n",
      "Found matching appliance: Site consumption\n",
      "Site consumption is total site consumption (average values): 7715054.0 kWh\n",
      "Found matching appliance: Total site light consumption\n",
      "Total site light consumption is total light consumption (average values): 443 kWh\n",
      "Found matching appliance: TV\n",
      "TV is flexible with annual energy consumption: 150 kWh\n",
      "Found matching appliance: Vertical freezer\n",
      "Vertical freezer is not flexible with annual energy consumption: 296 kWh\n",
      "Found matching appliance: Washing machine\n",
      "Washing machine is flexible with annual energy consumption: 100 kWh\n",
      "Processing sheet 2000913\n",
      "Found matching appliance: Fridge freezer\n",
      "Fridge freezer is not flexible with annual energy consumption: 296 kWh\n",
      "Found matching appliance: Fridge\n",
      "Fridge is not flexible with annual energy consumption: 346 kWh\n",
      "Found matching appliance: Halogen lamp\n",
      "Halogen lamp is flexible with annual energy consumption: 134 kWh\n",
      "Found matching appliance: Microwave oven\n",
      "Microwave oven is flexible with annual energy consumption: 39 kWh\n",
      "Found matching appliance: Power supply for fuel boiler\n",
      "Power supply for fuel boiler is flexible with annual energy consumption: 363 kWh\n",
      "Found matching appliance: Site consumption\n",
      "Site consumption is total site consumption (average values): 2739130.0 kWh\n",
      "Found matching appliance: Total site light consumption\n",
      "Total site light consumption is total light consumption (average values): 443 kWh\n",
      "Found matching appliance: TV\n",
      "TV is flexible with annual energy consumption: 150 kWh\n",
      "Found matching appliance: Washing machine\n",
      "Washing machine is flexible with annual energy consumption: 100 kWh\n",
      "Processing sheet 2000914\n",
      "Found matching appliance: Clothes drier\n",
      "Clothes drier is flexible with annual energy consumption: 280 kWh\n",
      "Found matching appliance: Dish washer\n",
      "Dish washer is flexible with annual energy consumption: 154 kWh\n",
      "Found matching appliance: Electric Cooker\n",
      "Electric Cooker is flexible with annual energy consumption: 159 kWh\n",
      "Found matching appliance: Electric heating\n",
      "Electric heating is flexible with annual energy consumption: 1720 kWh\n",
      "Found matching appliance: Fridge\n",
      "Fridge is not flexible with annual energy consumption: 346 kWh\n",
      "Found matching appliance: Halogen lamp\n",
      "Halogen lamp is flexible with annual energy consumption: 134 kWh\n",
      "Found matching appliance: Microwave oven\n",
      "Microwave oven is flexible with annual energy consumption: 39 kWh\n",
      "Found matching appliance: Site consumption\n",
      "Site consumption is total site consumption (average values): 13151874.0 kWh\n",
      "Found matching appliance: Total site light consumption\n",
      "Total site light consumption is total light consumption (average values): 443 kWh\n",
      "Found matching appliance: TV\n",
      "TV is flexible with annual energy consumption: 150 kWh\n",
      "Found matching appliance: TV\n",
      "TV is flexible with annual energy consumption: 150 kWh\n",
      "Found matching appliance: Vertical freezer\n",
      "Vertical freezer is not flexible with annual energy consumption: 296 kWh\n",
      "Found matching appliance: Washing machine\n",
      "Washing machine is flexible with annual energy consumption: 100 kWh\n",
      "Found matching appliance: Water heater\n",
      "Water heater is flexible with annual energy consumption: 1676 kWh\n",
      "Processing sheet 2000915\n",
      "Found matching appliance: Chest freezer\n",
      "Chest freezer is not flexible with annual energy consumption: 296 kWh\n",
      "Found matching appliance: Clothes drier\n",
      "Clothes drier is flexible with annual energy consumption: 280 kWh\n",
      "Found matching appliance: Electric Cooker\n",
      "Electric Cooker is flexible with annual energy consumption: 159 kWh\n",
      "Found matching appliance: Heat pump\n",
      "Heat pump is flexible with annual energy consumption: 4000 kWh\n",
      "Found matching appliance: Heat pump water heater\n",
      "Heat pump water heater is flexible with annual energy consumption: 2300 kWh\n",
      "Found matching appliance: Heat pump\n",
      "Heat pump is flexible with annual energy consumption: 4000 kWh\n",
      "Found matching appliance: Microwave oven\n",
      "Microwave oven is flexible with annual energy consumption: 39 kWh\n",
      "Found matching appliance: Site consumption\n",
      "Site consumption is total site consumption (average values): 12067459.0 kWh\n",
      "Found matching appliance: Total site light consumption\n",
      "Total site light consumption is total light consumption (average values): 443 kWh\n",
      "Found matching appliance: TV\n",
      "TV is flexible with annual energy consumption: 150 kWh\n",
      "Found matching appliance: TV\n",
      "TV is flexible with annual energy consumption: 150 kWh\n",
      "Found matching appliance: Washing machine\n",
      "Washing machine is flexible with annual energy consumption: 100 kWh\n",
      "Found matching appliance: Water heater\n",
      "Water heater is flexible with annual energy consumption: 1676 kWh\n",
      "Processing sheet 2000916\n",
      "Found matching appliance: Chest freezer\n",
      "Chest freezer is not flexible with annual energy consumption: 296 kWh\n",
      "Found matching appliance: Dish washer\n",
      "Dish washer is flexible with annual energy consumption: 154 kWh\n",
      "Found matching appliance: Electric oven\n",
      "Electric oven is flexible with annual energy consumption: 146 kWh\n",
      "Found matching appliance: Hot plate\n",
      "Hot plate is flexible with annual energy consumption: 159 kWh\n",
      "Found matching appliance: Microwave oven\n",
      "Microwave oven is flexible with annual energy consumption: 39 kWh\n",
      "Found matching appliance: Site consumption\n",
      "Site consumption is total site consumption (average values): 3260412.0 kWh\n",
      "Found matching appliance: Total site light consumption\n",
      "Total site light consumption is total light consumption (average values): 443 kWh\n",
      "Found matching appliance: TV\n",
      "TV is flexible with annual energy consumption: 150 kWh\n",
      "Found matching appliance: TV\n",
      "TV is flexible with annual energy consumption: 150 kWh\n",
      "Found matching appliance: TV\n",
      "TV is flexible with annual energy consumption: 150 kWh\n",
      "Found matching appliance: Washing machine\n",
      "Washing machine is flexible with annual energy consumption: 100 kWh\n",
      "Processing sheet 2000917\n",
      "Found matching appliance: Dish washer\n",
      "Dish washer is flexible with annual energy consumption: 154 kWh\n",
      "Found matching appliance: Electric Cooker\n",
      "Electric Cooker is flexible with annual energy consumption: 159 kWh\n",
      "Found matching appliance: Fridge\n",
      "Fridge is not flexible with annual energy consumption: 346 kWh\n",
      "Found matching appliance: Microwave oven\n",
      "Microwave oven is flexible with annual energy consumption: 39 kWh\n",
      "Found matching appliance: Non halogen lamp\n",
      "Non halogen lamp is flexible with annual energy consumption: 134 kWh\n",
      "Found matching appliance: Non halogen lamp\n",
      "Non halogen lamp is flexible with annual energy consumption: 134 kWh\n",
      "Found matching appliance: Site consumption\n",
      "Site consumption is total site consumption (average values): 3398101.0 kWh\n",
      "Found matching appliance: Total site light consumption\n",
      "Total site light consumption is total light consumption (average values): 443 kWh\n",
      "Found matching appliance: TV\n",
      "TV is flexible with annual energy consumption: 150 kWh\n",
      "Found matching appliance: TV\n",
      "TV is flexible with annual energy consumption: 150 kWh\n",
      "Found matching appliance: Washing machine\n",
      "Washing machine is flexible with annual energy consumption: 100 kWh\n",
      "Processing sheet 2000918\n",
      "Found matching appliance: Electric Cooker\n",
      "Electric Cooker is flexible with annual energy consumption: 159 kWh\n",
      "Found matching appliance: Fridge freezer\n",
      "Fridge freezer is not flexible with annual energy consumption: 296 kWh\n",
      "Found matching appliance: Fridge\n",
      "Fridge is not flexible with annual energy consumption: 346 kWh\n",
      "Found matching appliance: Halogen lamp\n",
      "Halogen lamp is flexible with annual energy consumption: 134 kWh\n",
      "Found matching appliance: Microwave oven\n",
      "Microwave oven is flexible with annual energy consumption: 39 kWh\n",
      "Found matching appliance: Site consumption\n",
      "Site consumption is total site consumption (average values): 1821784.0 kWh\n",
      "Found matching appliance: Total site light consumption\n",
      "Total site light consumption is total light consumption (average values): 443 kWh\n",
      "Found matching appliance: TV\n",
      "TV is flexible with annual energy consumption: 150 kWh\n",
      "Found matching appliance: Washing machine\n",
      "Washing machine is flexible with annual energy consumption: 100 kWh\n",
      "Processing sheet 2000921\n",
      "Found matching appliance: Electric Cooker\n",
      "Electric Cooker is flexible with annual energy consumption: 159 kWh\n",
      "Found matching appliance: Electric heating\n",
      "Electric heating is flexible with annual energy consumption: 1720 kWh\n",
      "Found matching appliance: Microwave oven\n",
      "Microwave oven is flexible with annual energy consumption: 39 kWh\n",
      "Found matching appliance: No-frost fridge\n",
      "No-frost fridge is not flexible with annual energy consumption: 186 kWh\n",
      "Found matching appliance: Site consumption\n",
      "Site consumption is total site consumption (average values): 8081341.0 kWh\n",
      "Found matching appliance: Total site light consumption\n",
      "Total site light consumption is total light consumption (average values): 443 kWh\n",
      "Found matching appliance: TV\n",
      "TV is flexible with annual energy consumption: 150 kWh\n",
      "Found matching appliance: TV\n",
      "TV is flexible with annual energy consumption: 150 kWh\n",
      "Found matching appliance: Washing machine\n",
      "Washing machine is flexible with annual energy consumption: 100 kWh\n",
      "Found matching appliance: Water heater\n",
      "Water heater is flexible with annual energy consumption: 1676 kWh\n",
      "Processing sheet 2000922\n",
      "Found matching appliance: Dish washer\n",
      "Dish washer is flexible with annual energy consumption: 154 kWh\n",
      "Found matching appliance: Electric oven\n",
      "Electric oven is flexible with annual energy consumption: 146 kWh\n",
      "Found matching appliance: Fridge freezer\n",
      "Fridge freezer is not flexible with annual energy consumption: 296 kWh\n",
      "Found matching appliance: Fridge\n",
      "Fridge is not flexible with annual energy consumption: 346 kWh\n",
      "Found matching appliance: Microwave oven\n",
      "Microwave oven is flexible with annual energy consumption: 39 kWh\n",
      "Found matching appliance: Site consumption\n",
      "Site consumption is total site consumption (average values): 2992618.0 kWh\n",
      "Found matching appliance: Total site light consumption\n",
      "Total site light consumption is total light consumption (average values): 443 kWh\n",
      "Found matching appliance: TV\n",
      "TV is flexible with annual energy consumption: 150 kWh\n",
      "Found matching appliance: TV\n",
      "TV is flexible with annual energy consumption: 150 kWh\n",
      "Found matching appliance: TV\n",
      "TV is flexible with annual energy consumption: 150 kWh\n",
      "Found matching appliance: Washing machine\n",
      "Washing machine is flexible with annual energy consumption: 100 kWh\n",
      "Found matching appliance: Washing machine+clothes drier\n",
      "Washing machine+clothes drier is flexible with annual energy consumption: 385 kWh\n",
      "Processing sheet 2000923\n",
      "Found matching appliance: Electric Cooker\n",
      "Electric Cooker is flexible with annual energy consumption: 159 kWh\n",
      "Found matching appliance: Fridge\n",
      "Fridge is not flexible with annual energy consumption: 346 kWh\n",
      "Found matching appliance: Non halogen lamp\n",
      "Non halogen lamp is flexible with annual energy consumption: 134 kWh\n",
      "Found matching appliance: Non halogen lamp\n",
      "Non halogen lamp is flexible with annual energy consumption: 134 kWh\n",
      "Found matching appliance: Non halogen lamp\n",
      "Non halogen lamp is flexible with annual energy consumption: 134 kWh\n",
      "Found matching appliance: Site consumption\n",
      "Site consumption is total site consumption (average values): 2055771.0 kWh\n",
      "Found matching appliance: Total site light consumption\n",
      "Total site light consumption is total light consumption (average values): 443 kWh\n",
      "Found matching appliance: TV\n",
      "TV is flexible with annual energy consumption: 150 kWh\n",
      "Found matching appliance: Washing machine\n",
      "Washing machine is flexible with annual energy consumption: 100 kWh\n",
      "Processing sheet 2000925\n",
      "Found matching appliance: Chest freezer\n",
      "Chest freezer is not flexible with annual energy consumption: 296 kWh\n",
      "Found matching appliance: Dish washer\n",
      "Dish washer is flexible with annual energy consumption: 154 kWh\n",
      "Found matching appliance: Fridge\n",
      "Fridge is not flexible with annual energy consumption: 346 kWh\n",
      "Found matching appliance: Halogen lamp\n",
      "Halogen lamp is flexible with annual energy consumption: 134 kWh\n",
      "Found matching appliance: Microwave oven\n",
      "Microwave oven is flexible with annual energy consumption: 39 kWh\n",
      "Found matching appliance: Microwave oven\n",
      "Microwave oven is flexible with annual energy consumption: 39 kWh\n",
      "Found matching appliance: Power supply for gas boiler\n",
      "Power supply for gas boiler is flexible with annual energy consumption: 375 kWh\n",
      "Found matching appliance: Site consumption\n",
      "Site consumption is total site consumption (average values): 3409214.0 kWh\n",
      "Found matching appliance: Total site light consumption\n",
      "Total site light consumption is total light consumption (average values): 443 kWh\n",
      "Found matching appliance: Washing machine\n",
      "Washing machine is flexible with annual energy consumption: 100 kWh\n",
      "Processing sheet 2000926\n",
      "Found matching appliance: Chest freezer\n",
      "Chest freezer is not flexible with annual energy consumption: 296 kWh\n",
      "Found matching appliance: Dish washer\n",
      "Dish washer is flexible with annual energy consumption: 154 kWh\n",
      "Found matching appliance: Electric oven\n",
      "Electric oven is flexible with annual energy consumption: 146 kWh\n",
      "Found matching appliance: Fridge\n",
      "Fridge is not flexible with annual energy consumption: 346 kWh\n",
      "Found matching appliance: Fridge\n",
      "Fridge is not flexible with annual energy consumption: 346 kWh\n",
      "Found matching appliance: Halogen lamp\n",
      "Halogen lamp is flexible with annual energy consumption: 134 kWh\n",
      "Found matching appliance: Halogen lamp\n",
      "Halogen lamp is flexible with annual energy consumption: 134 kWh\n",
      "Found matching appliance: Halogen lamp\n",
      "Halogen lamp is flexible with annual energy consumption: 134 kWh\n",
      "Found matching appliance: Halogen lamp\n",
      "Halogen lamp is flexible with annual energy consumption: 134 kWh\n",
      "Found matching appliance: Non halogen lamp\n",
      "Non halogen lamp is flexible with annual energy consumption: 134 kWh\n",
      "Found matching appliance: Site consumption\n",
      "Site consumption is total site consumption (average values): 5003568.0 kWh\n",
      "Found matching appliance: Total site light consumption\n",
      "Total site light consumption is total light consumption (average values): 443 kWh\n",
      "Found matching appliance: Washing machine\n",
      "Washing machine is flexible with annual energy consumption: 100 kWh\n",
      "Processing sheet 2000927\n",
      "Found matching appliance: Clothes drier\n",
      "Clothes drier is flexible with annual energy consumption: 280 kWh\n",
      "Found matching appliance: Electric oven\n",
      "Electric oven is flexible with annual energy consumption: 146 kWh\n",
      "Found matching appliance: Fridge freezer\n",
      "Fridge freezer is not flexible with annual energy consumption: 296 kWh\n",
      "Found matching appliance: Fridge\n",
      "Fridge is not flexible with annual energy consumption: 346 kWh\n",
      "Found matching appliance: Fridge\n",
      "Fridge is not flexible with annual energy consumption: 346 kWh\n",
      "Found matching appliance: Halogen lamp\n",
      "Halogen lamp is flexible with annual energy consumption: 134 kWh\n",
      "Found matching appliance: Halogen lamp\n",
      "Halogen lamp is flexible with annual energy consumption: 134 kWh\n",
      "Found matching appliance: Microwave oven\n",
      "Microwave oven is flexible with annual energy consumption: 39 kWh\n",
      "Found matching appliance: Site consumption\n",
      "Site consumption is total site consumption (average values): 4378215.0 kWh\n",
      "Found matching appliance: TV\n",
      "TV is flexible with annual energy consumption: 150 kWh\n",
      "Found matching appliance: Washing machine\n",
      "Washing machine is flexible with annual energy consumption: 100 kWh\n",
      "Processing sheet 2000928\n",
      "Found matching appliance: Chest freezer\n",
      "Chest freezer is not flexible with annual energy consumption: 296 kWh\n",
      "Found matching appliance: Clothes drier\n",
      "Clothes drier is flexible with annual energy consumption: 280 kWh\n",
      "Found matching appliance: Dish washer\n",
      "Dish washer is flexible with annual energy consumption: 154 kWh\n",
      "Found matching appliance: Electric Cooker\n",
      "Electric Cooker is flexible with annual energy consumption: 159 kWh\n",
      "Found matching appliance: Electric heating\n",
      "Electric heating is flexible with annual energy consumption: 1720 kWh\n",
      "Found matching appliance: Fridge freezer\n",
      "Fridge freezer is not flexible with annual energy consumption: 296 kWh\n",
      "Found matching appliance: Fridge\n",
      "Fridge is not flexible with annual energy consumption: 346 kWh\n",
      "Found matching appliance: Microwave oven\n",
      "Microwave oven is flexible with annual energy consumption: 39 kWh\n",
      "Found matching appliance: Site consumption\n",
      "Site consumption is total site consumption (average values): 9234631.0 kWh\n",
      "Found matching appliance: Total site light consumption\n",
      "Total site light consumption is total light consumption (average values): 443 kWh\n",
      "Found matching appliance: TV\n",
      "TV is flexible with annual energy consumption: 150 kWh\n",
      "Found matching appliance: TV\n",
      "TV is flexible with annual energy consumption: 150 kWh\n",
      "Found matching appliance: Washing machine\n",
      "Washing machine is flexible with annual energy consumption: 100 kWh\n",
      "Found matching appliance: Water heater\n",
      "Water heater is flexible with annual energy consumption: 1676 kWh\n",
      "Processing sheet 2000929\n",
      "Found matching appliance: Fridge freezer\n",
      "Fridge freezer is not flexible with annual energy consumption: 296 kWh\n",
      "Found matching appliance: Fridge\n",
      "Fridge is not flexible with annual energy consumption: 346 kWh\n",
      "Found matching appliance: Halogen lamp\n",
      "Halogen lamp is flexible with annual energy consumption: 134 kWh\n",
      "Found matching appliance: Microwave oven\n",
      "Microwave oven is flexible with annual energy consumption: 39 kWh\n",
      "Found matching appliance: Site consumption\n",
      "Site consumption is total site consumption (average values): 2161937.0 kWh\n",
      "Found matching appliance: TV\n",
      "TV is flexible with annual energy consumption: 150 kWh\n",
      "Found matching appliance: Washing machine\n",
      "Washing machine is flexible with annual energy consumption: 100 kWh\n",
      "Found matching appliance: Washing machine+clothes drier\n",
      "Washing machine+clothes drier is flexible with annual energy consumption: 385 kWh\n",
      "Processing sheet 2000930\n",
      "Found matching appliance: Clothes drier\n",
      "Clothes drier is flexible with annual energy consumption: 280 kWh\n",
      "Found matching appliance: Dish washer\n",
      "Dish washer is flexible with annual energy consumption: 154 kWh\n",
      "Found matching appliance: Fridge freezer\n",
      "Fridge freezer is not flexible with annual energy consumption: 296 kWh\n",
      "Found matching appliance: Fridge\n",
      "Fridge is not flexible with annual energy consumption: 346 kWh\n",
      "Found matching appliance: Site consumption\n",
      "Site consumption is total site consumption (average values): 6194527.0 kWh\n",
      "Found matching appliance: TV\n",
      "TV is flexible with annual energy consumption: 150 kWh\n",
      "Found matching appliance: TV\n",
      "TV is flexible with annual energy consumption: 150 kWh\n",
      "Found matching appliance: Vertical freezer\n",
      "Vertical freezer is not flexible with annual energy consumption: 296 kWh\n",
      "Found matching appliance: Washing machine\n",
      "Washing machine is flexible with annual energy consumption: 100 kWh\n",
      "Processing sheet 2000931\n",
      "Found matching appliance: Aquarium\n",
      "Aquarium is not flexible with annual energy consumption: 200 kWh\n",
      "Found matching appliance: Clothes drier\n",
      "Clothes drier is flexible with annual energy consumption: 280 kWh\n",
      "Found matching appliance: Dish washer\n",
      "Dish washer is flexible with annual energy consumption: 154 kWh\n",
      "Found matching appliance: Electric oven\n",
      "Electric oven is flexible with annual energy consumption: 146 kWh\n",
      "Found matching appliance: Fridge freezer\n",
      "Fridge freezer is not flexible with annual energy consumption: 296 kWh\n",
      "Found matching appliance: Fridge\n",
      "Fridge is not flexible with annual energy consumption: 346 kWh\n",
      "Found matching appliance: Microwave oven\n",
      "Microwave oven is flexible with annual energy consumption: 39 kWh\n",
      "Found matching appliance: Non halogen lamp\n",
      "Non halogen lamp is flexible with annual energy consumption: 134 kWh\n",
      "Found matching appliance: Site consumption\n",
      "Site consumption is total site consumption (average values): 4176841.0 kWh\n",
      "Found matching appliance: Total site light consumption\n",
      "Total site light consumption is total light consumption (average values): 443 kWh\n",
      "Found matching appliance: Vertical freezer\n",
      "Vertical freezer is not flexible with annual energy consumption: 296 kWh\n",
      "Found matching appliance: Washing machine\n",
      "Washing machine is flexible with annual energy consumption: 100 kWh\n",
      "Processing sheet 2000932\n",
      "Found matching appliance: Electric Cooker\n",
      "Electric Cooker is flexible with annual energy consumption: 159 kWh\n",
      "Found matching appliance: Fridge freezer\n",
      "Fridge freezer is not flexible with annual energy consumption: 296 kWh\n",
      "Found matching appliance: Fridge\n",
      "Fridge is not flexible with annual energy consumption: 346 kWh\n",
      "Found matching appliance: Microwave oven\n",
      "Microwave oven is flexible with annual energy consumption: 39 kWh\n",
      "Found matching appliance: Non halogen lamp\n",
      "Non halogen lamp is flexible with annual energy consumption: 134 kWh\n",
      "Found matching appliance: Non halogen lamp\n",
      "Non halogen lamp is flexible with annual energy consumption: 134 kWh\n",
      "Found matching appliance: Non halogen lamp\n",
      "Non halogen lamp is flexible with annual energy consumption: 134 kWh\n",
      "Found matching appliance: Site consumption\n",
      "Site consumption is total site consumption (average values): 2744192.0 kWh\n",
      "Found matching appliance: Total site light consumption\n",
      "Total site light consumption is total light consumption (average values): 443 kWh\n",
      "Found matching appliance: TV\n",
      "TV is flexible with annual energy consumption: 150 kWh\n",
      "Found matching appliance: TV\n",
      "TV is flexible with annual energy consumption: 150 kWh\n",
      "Found matching appliance: Washing machine\n",
      "Washing machine is flexible with annual energy consumption: 100 kWh\n",
      "Processing sheet 2000934\n",
      "Found matching appliance: Clothes drier\n",
      "Clothes drier is flexible with annual energy consumption: 280 kWh\n",
      "Found matching appliance: Electric heating\n",
      "Electric heating is flexible with annual energy consumption: 1720 kWh\n",
      "Found matching appliance: Halogen lamp\n",
      "Halogen lamp is flexible with annual energy consumption: 134 kWh\n",
      "Found matching appliance: Microwave oven\n",
      "Microwave oven is flexible with annual energy consumption: 39 kWh\n",
      "Found matching appliance: Site consumption\n",
      "Site consumption is total site consumption (average values): 11938424.0 kWh\n",
      "Found matching appliance: Total site light consumption\n",
      "Total site light consumption is total light consumption (average values): 443 kWh\n",
      "Found matching appliance: TV\n",
      "TV is flexible with annual energy consumption: 150 kWh\n",
      "Found matching appliance: TV\n",
      "TV is flexible with annual energy consumption: 150 kWh\n",
      "Found matching appliance: Vertical freezer\n",
      "Vertical freezer is not flexible with annual energy consumption: 296 kWh\n",
      "Found matching appliance: Washing machine\n",
      "Washing machine is flexible with annual energy consumption: 100 kWh\n",
      "Found matching appliance: Water heater\n",
      "Water heater is flexible with annual energy consumption: 1676 kWh\n",
      "Processing sheet 2000935\n",
      "Found matching appliance: Electric oven\n",
      "Electric oven is flexible with annual energy consumption: 146 kWh\n",
      "Found matching appliance: Fridge freezer\n",
      "Fridge freezer is not flexible with annual energy consumption: 296 kWh\n",
      "Found matching appliance: Fridge\n",
      "Fridge is not flexible with annual energy consumption: 346 kWh\n",
      "Found matching appliance: Non halogen lamp\n",
      "Non halogen lamp is flexible with annual energy consumption: 134 kWh\n",
      "Found matching appliance: Non halogen lamp\n",
      "Non halogen lamp is flexible with annual energy consumption: 134 kWh\n",
      "Found matching appliance: Non halogen lamp\n",
      "Non halogen lamp is flexible with annual energy consumption: 134 kWh\n",
      "Found matching appliance: Site consumption\n",
      "Site consumption is total site consumption (average values): 2453960.0 kWh\n",
      "Found matching appliance: Total site light consumption\n",
      "Total site light consumption is total light consumption (average values): 443 kWh\n",
      "Found matching appliance: TV\n",
      "TV is flexible with annual energy consumption: 150 kWh\n",
      "Found matching appliance: TV\n",
      "TV is flexible with annual energy consumption: 150 kWh\n",
      "Found matching appliance: TV\n",
      "TV is flexible with annual energy consumption: 150 kWh\n",
      "Found matching appliance: Washing machine\n",
      "Washing machine is flexible with annual energy consumption: 100 kWh\n",
      "Processing sheet 2000936\n",
      "Found matching appliance: Clothes drier\n",
      "Clothes drier is flexible with annual energy consumption: 280 kWh\n",
      "Found matching appliance: Dish washer\n",
      "Dish washer is flexible with annual energy consumption: 154 kWh\n",
      "Found matching appliance: Electric heating\n",
      "Electric heating is flexible with annual energy consumption: 1720 kWh\n",
      "Found matching appliance: Fridge\n",
      "Fridge is not flexible with annual energy consumption: 346 kWh\n",
      "Found matching appliance: Site consumption\n",
      "Site consumption is total site consumption (average values): 5567328.0 kWh\n",
      "Found matching appliance: Total site light consumption\n",
      "Total site light consumption is total light consumption (average values): 443 kWh\n",
      "Found matching appliance: TV\n",
      "TV is flexible with annual energy consumption: 150 kWh\n",
      "Found matching appliance: TV\n",
      "TV is flexible with annual energy consumption: 150 kWh\n",
      "Found matching appliance: Vertical freezer\n",
      "Vertical freezer is not flexible with annual energy consumption: 296 kWh\n",
      "Found matching appliance: Washing machine\n",
      "Washing machine is flexible with annual energy consumption: 100 kWh\n",
      "Found matching appliance: Water heater\n",
      "Water heater is flexible with annual energy consumption: 1676 kWh\n",
      "Processing sheet 2000938\n",
      "Found matching appliance: Chest freezer\n",
      "Chest freezer is not flexible with annual energy consumption: 296 kWh\n",
      "Found matching appliance: Clothes drier\n",
      "Clothes drier is flexible with annual energy consumption: 280 kWh\n",
      "Found matching appliance: Dish washer\n",
      "Dish washer is flexible with annual energy consumption: 154 kWh\n",
      "Found matching appliance: Electric Cooker\n",
      "Electric Cooker is flexible with annual energy consumption: 159 kWh\n",
      "Found matching appliance: Electric heating\n",
      "Electric heating is flexible with annual energy consumption: 1720 kWh\n",
      "Found matching appliance: Fridge\n",
      "Fridge is not flexible with annual energy consumption: 346 kWh\n",
      "Found matching appliance: Site consumption\n",
      "Site consumption is total site consumption (average values): 14115087.0 kWh\n",
      "Found matching appliance: Total site light consumption\n",
      "Total site light consumption is total light consumption (average values): 443 kWh\n",
      "Found matching appliance: TV\n",
      "TV is flexible with annual energy consumption: 150 kWh\n",
      "Found matching appliance: TV\n",
      "TV is flexible with annual energy consumption: 150 kWh\n",
      "Found matching appliance: Washing machine\n",
      "Washing machine is flexible with annual energy consumption: 100 kWh\n",
      "Found matching appliance: Water heater\n",
      "Water heater is flexible with annual energy consumption: 1676 kWh\n",
      "Processing sheet 2000939\n",
      "Found matching appliance: Clothes drier\n",
      "Clothes drier is flexible with annual energy consumption: 280 kWh\n",
      "Found matching appliance: Dish washer\n",
      "Dish washer is flexible with annual energy consumption: 154 kWh\n",
      "Found matching appliance: Electric oven\n",
      "Electric oven is flexible with annual energy consumption: 146 kWh\n",
      "Found matching appliance: Fridge freezer\n",
      "Fridge freezer is not flexible with annual energy consumption: 296 kWh\n",
      "Found matching appliance: Fridge\n",
      "Fridge is not flexible with annual energy consumption: 346 kWh\n",
      "Found matching appliance: Fridge\n",
      "Fridge is not flexible with annual energy consumption: 346 kWh\n",
      "Found matching appliance: Halogen lamp\n",
      "Halogen lamp is flexible with annual energy consumption: 134 kWh\n",
      "Found matching appliance: Microwave oven\n",
      "Microwave oven is flexible with annual energy consumption: 39 kWh\n",
      "Found matching appliance: Microwave oven\n",
      "Microwave oven is flexible with annual energy consumption: 39 kWh\n",
      "Found matching appliance: Site consumption\n",
      "Site consumption is total site consumption (average values): 4764709.0 kWh\n",
      "Found matching appliance: Vertical freezer\n",
      "Vertical freezer is not flexible with annual energy consumption: 296 kWh\n",
      "Found matching appliance: Washing machine\n",
      "Washing machine is flexible with annual energy consumption: 100 kWh\n",
      "Processing sheet 2000940\n",
      "Found matching appliance: Clothes drier\n",
      "Clothes drier is flexible with annual energy consumption: 280 kWh\n",
      "Found matching appliance: Dish washer\n",
      "Dish washer is flexible with annual energy consumption: 154 kWh\n",
      "Found matching appliance: Fridge freezer\n",
      "Fridge freezer is not flexible with annual energy consumption: 296 kWh\n",
      "Found matching appliance: Fridge\n",
      "Fridge is not flexible with annual energy consumption: 346 kWh\n",
      "Found matching appliance: Power supply for gas boiler\n",
      "Power supply for gas boiler is flexible with annual energy consumption: 375 kWh\n",
      "Found matching appliance: Site consumption\n",
      "Site consumption is total site consumption (average values): 6743198.0 kWh\n",
      "Found matching appliance: TV\n",
      "TV is flexible with annual energy consumption: 150 kWh\n",
      "Found matching appliance: Vertical freezer\n",
      "Vertical freezer is not flexible with annual energy consumption: 296 kWh\n",
      "Found matching appliance: Washing machine\n",
      "Washing machine is flexible with annual energy consumption: 100 kWh\n",
      "Processing sheet 2000941\n",
      "Found matching appliance: Chest freezer\n",
      "Chest freezer is not flexible with annual energy consumption: 296 kWh\n",
      "Found matching appliance: Dish washer\n",
      "Dish washer is flexible with annual energy consumption: 154 kWh\n",
      "Found matching appliance: Electric Cooker\n",
      "Electric Cooker is flexible with annual energy consumption: 159 kWh\n",
      "Found matching appliance: Fridge\n",
      "Fridge is not flexible with annual energy consumption: 346 kWh\n",
      "Found matching appliance: Fridge\n",
      "Fridge is not flexible with annual energy consumption: 346 kWh\n",
      "Found matching appliance: Microwave oven\n",
      "Microwave oven is flexible with annual energy consumption: 39 kWh\n",
      "Found matching appliance: Site consumption\n",
      "Site consumption is total site consumption (average values): 2955401.0 kWh\n",
      "Found matching appliance: Total site light consumption\n",
      "Total site light consumption is total light consumption (average values): 443 kWh\n",
      "Found matching appliance: TV\n",
      "TV is flexible with annual energy consumption: 150 kWh\n",
      "Found matching appliance: Washing machine\n",
      "Washing machine is flexible with annual energy consumption: 100 kWh\n",
      "Processing sheet 2000942\n",
      "Found matching appliance: Chest freezer\n",
      "Chest freezer is not flexible with annual energy consumption: 296 kWh\n",
      "Found matching appliance: Fridge freezer\n",
      "Fridge freezer is not flexible with annual energy consumption: 296 kWh\n",
      "Found matching appliance: Fridge\n",
      "Fridge is not flexible with annual energy consumption: 346 kWh\n",
      "Found matching appliance: Halogen lamp\n",
      "Halogen lamp is flexible with annual energy consumption: 134 kWh\n",
      "Found matching appliance: Microwave oven\n",
      "Microwave oven is flexible with annual energy consumption: 39 kWh\n",
      "Found matching appliance: Power supply for fuel boiler\n",
      "Power supply for fuel boiler is flexible with annual energy consumption: 363 kWh\n",
      "Found matching appliance: Site consumption\n",
      "Site consumption is total site consumption (average values): 3360559.0 kWh\n",
      "Found matching appliance: TV\n",
      "TV is flexible with annual energy consumption: 150 kWh\n",
      "Found matching appliance: Washing machine\n",
      "Washing machine is flexible with annual energy consumption: 100 kWh\n",
      "Processing sheet 2000943\n",
      "Found matching appliance: Clothes drier\n",
      "Clothes drier is flexible with annual energy consumption: 280 kWh\n",
      "Found matching appliance: Dish washer\n",
      "Dish washer is flexible with annual energy consumption: 154 kWh\n",
      "Found matching appliance: Electric oven\n",
      "Electric oven is flexible with annual energy consumption: 146 kWh\n",
      "Found matching appliance: Fridge\n",
      "Fridge is not flexible with annual energy consumption: 346 kWh\n",
      "Found matching appliance: Fridge\n",
      "Fridge is not flexible with annual energy consumption: 346 kWh\n",
      "Found matching appliance: Halogen lamp\n",
      "Halogen lamp is flexible with annual energy consumption: 134 kWh\n",
      "Found matching appliance: Microwave oven\n",
      "Microwave oven is flexible with annual energy consumption: 39 kWh\n",
      "Found matching appliance: Power supply for fuel boiler\n",
      "Power supply for fuel boiler is flexible with annual energy consumption: 363 kWh\n",
      "Found matching appliance: Site consumption\n",
      "Site consumption is total site consumption (average values): 3787707.0 kWh\n",
      "Found matching appliance: Vertical freezer\n",
      "Vertical freezer is not flexible with annual energy consumption: 296 kWh\n",
      "Found matching appliance: Washing machine\n",
      "Washing machine is flexible with annual energy consumption: 100 kWh\n",
      "Processing sheet 2000944\n",
      "Found matching appliance: Clothes drier\n",
      "Clothes drier is flexible with annual energy consumption: 280 kWh\n",
      "Found matching appliance: Dish washer\n",
      "Dish washer is flexible with annual energy consumption: 154 kWh\n",
      "Found matching appliance: Electric heating\n",
      "Electric heating is flexible with annual energy consumption: 1720 kWh\n",
      "Found matching appliance: Fridge\n",
      "Fridge is not flexible with annual energy consumption: 346 kWh\n",
      "Found matching appliance: Halogen lamp\n",
      "Halogen lamp is flexible with annual energy consumption: 134 kWh\n",
      "Found matching appliance: Site consumption\n",
      "Site consumption is total site consumption (average values): 13273114.0 kWh\n",
      "Found matching appliance: Total site light consumption\n",
      "Total site light consumption is total light consumption (average values): 443 kWh\n",
      "Found matching appliance: Vertical freezer\n",
      "Vertical freezer is not flexible with annual energy consumption: 296 kWh\n",
      "Found matching appliance: Washing machine\n",
      "Washing machine is flexible with annual energy consumption: 100 kWh\n",
      "Found matching appliance: Water heater\n",
      "Water heater is flexible with annual energy consumption: 1676 kWh\n",
      "Processing sheet 2000945\n",
      "Found matching appliance: Chest freezer\n",
      "Chest freezer is not flexible with annual energy consumption: 296 kWh\n",
      "Found matching appliance: Electric Cooker\n",
      "Electric Cooker is flexible with annual energy consumption: 159 kWh\n",
      "Found matching appliance: Electric heating\n",
      "Electric heating is flexible with annual energy consumption: 1720 kWh\n",
      "Found matching appliance: Fridge freezer\n",
      "Fridge freezer is not flexible with annual energy consumption: 296 kWh\n",
      "Found matching appliance: Fridge\n",
      "Fridge is not flexible with annual energy consumption: 346 kWh\n",
      "Found matching appliance: Microwave oven\n",
      "Microwave oven is flexible with annual energy consumption: 39 kWh\n",
      "Found matching appliance: Site consumption\n",
      "Site consumption is total site consumption (average values): 10088333.0 kWh\n",
      "Found matching appliance: Total site light consumption\n",
      "Total site light consumption is total light consumption (average values): 443 kWh\n",
      "Found matching appliance: TV\n",
      "TV is flexible with annual energy consumption: 150 kWh\n",
      "Found matching appliance: TV\n",
      "TV is flexible with annual energy consumption: 150 kWh\n",
      "Found matching appliance: Washing machine\n",
      "Washing machine is flexible with annual energy consumption: 100 kWh\n",
      "Found matching appliance: Water heater\n",
      "Water heater is flexible with annual energy consumption: 1676 kWh\n",
      "Processing sheet 2000946\n",
      "Found matching appliance: Chest freezer\n",
      "Chest freezer is not flexible with annual energy consumption: 296 kWh\n",
      "Found matching appliance: Clothes drier\n",
      "Clothes drier is flexible with annual energy consumption: 280 kWh\n",
      "Found matching appliance: Dish washer\n",
      "Dish washer is flexible with annual energy consumption: 154 kWh\n",
      "Found matching appliance: Electric oven\n",
      "Electric oven is flexible with annual energy consumption: 146 kWh\n",
      "Found matching appliance: Halogen lamp\n",
      "Halogen lamp is flexible with annual energy consumption: 134 kWh\n",
      "Found matching appliance: Hot plate\n",
      "Hot plate is flexible with annual energy consumption: 159 kWh\n",
      "Found matching appliance: Microwave oven\n",
      "Microwave oven is flexible with annual energy consumption: 39 kWh\n",
      "Found matching appliance: Site consumption\n",
      "Site consumption is total site consumption (average values): 2595789.0 kWh\n",
      "Found matching appliance: Total site light consumption\n",
      "Total site light consumption is total light consumption (average values): 443 kWh\n",
      "Found matching appliance: Washing machine\n",
      "Washing machine is flexible with annual energy consumption: 100 kWh\n",
      "Processing sheet 2000947\n",
      "Found matching appliance: Clothes drier\n",
      "Clothes drier is flexible with annual energy consumption: 280 kWh\n",
      "Found matching appliance: Dish washer\n",
      "Dish washer is flexible with annual energy consumption: 154 kWh\n",
      "Found matching appliance: Electric oven\n",
      "Electric oven is flexible with annual energy consumption: 146 kWh\n",
      "Found matching appliance: Fridge\n",
      "Fridge is not flexible with annual energy consumption: 346 kWh\n",
      "Found matching appliance: Hot plate\n",
      "Hot plate is flexible with annual energy consumption: 159 kWh\n",
      "Found matching appliance: Microwave oven\n",
      "Microwave oven is flexible with annual energy consumption: 39 kWh\n",
      "Found matching appliance: Site consumption\n",
      "Site consumption is total site consumption (average values): 8138546.0 kWh\n",
      "Found matching appliance: TV\n",
      "TV is flexible with annual energy consumption: 150 kWh\n",
      "Found matching appliance: TV\n",
      "TV is flexible with annual energy consumption: 150 kWh\n",
      "Found matching appliance: TV\n",
      "TV is flexible with annual energy consumption: 150 kWh\n",
      "Found matching appliance: Vertical freezer\n",
      "Vertical freezer is not flexible with annual energy consumption: 296 kWh\n",
      "Found matching appliance: Washing machine\n",
      "Washing machine is flexible with annual energy consumption: 100 kWh\n",
      "Processing sheet 2000948\n",
      "Found matching appliance: Dish washer\n",
      "Dish washer is flexible with annual energy consumption: 154 kWh\n",
      "Found matching appliance: Electric Cooker\n",
      "Electric Cooker is flexible with annual energy consumption: 159 kWh\n",
      "Found matching appliance: Fridge\n",
      "Fridge is not flexible with annual energy consumption: 346 kWh\n",
      "Found matching appliance: Fridge\n",
      "Fridge is not flexible with annual energy consumption: 346 kWh\n",
      "Found matching appliance: Halogen lamp\n",
      "Halogen lamp is flexible with annual energy consumption: 134 kWh\n",
      "Found matching appliance: Heat pump\n",
      "Heat pump is flexible with annual energy consumption: 4000 kWh\n",
      "Found matching appliance: Site consumption\n",
      "Site consumption is total site consumption (average values): 11091206.0 kWh\n",
      "Found matching appliance: Total site light consumption\n",
      "Total site light consumption is total light consumption (average values): 443 kWh\n",
      "Found matching appliance: Vertical freezer\n",
      "Vertical freezer is not flexible with annual energy consumption: 296 kWh\n",
      "Found matching appliance: Washing machine\n",
      "Washing machine is flexible with annual energy consumption: 100 kWh\n",
      "Found matching appliance: Washing machine+clothes drier\n",
      "Washing machine+clothes drier is flexible with annual energy consumption: 385 kWh\n",
      "Found matching appliance: Water heater\n",
      "Water heater is flexible with annual energy consumption: 1676 kWh\n",
      "Found matching appliance: Water pump\n",
      "Water pump is not flexible with annual energy consumption: 150 kWh\n",
      "Processing sheet 2000949\n",
      "Found matching appliance: Dish washer\n",
      "Dish washer is flexible with annual energy consumption: 154 kWh\n",
      "Found matching appliance: Electric oven\n",
      "Electric oven is flexible with annual energy consumption: 146 kWh\n",
      "Found matching appliance: Fridge freezer\n",
      "Fridge freezer is not flexible with annual energy consumption: 296 kWh\n",
      "Found matching appliance: Fridge\n",
      "Fridge is not flexible with annual energy consumption: 346 kWh\n",
      "Found matching appliance: Halogen lamp\n",
      "Halogen lamp is flexible with annual energy consumption: 134 kWh\n",
      "Found matching appliance: Microwave oven\n",
      "Microwave oven is flexible with annual energy consumption: 39 kWh\n",
      "Found matching appliance: Power supply for gas boiler\n",
      "Power supply for gas boiler is flexible with annual energy consumption: 375 kWh\n",
      "Found matching appliance: Site consumption\n",
      "Site consumption is total site consumption (average values): 4012132.0 kWh\n",
      "Found matching appliance: TV\n",
      "TV is flexible with annual energy consumption: 150 kWh\n",
      "Found matching appliance: Vertical freezer\n",
      "Vertical freezer is not flexible with annual energy consumption: 296 kWh\n",
      "Found matching appliance: Washing machine\n",
      "Washing machine is flexible with annual energy consumption: 100 kWh\n",
      "Processing sheet 2000950\n",
      "Found matching appliance: Dish washer\n",
      "Dish washer is flexible with annual energy consumption: 154 kWh\n",
      "Found matching appliance: Fridge freezer\n",
      "Fridge freezer is not flexible with annual energy consumption: 296 kWh\n",
      "Found matching appliance: Fridge\n",
      "Fridge is not flexible with annual energy consumption: 346 kWh\n",
      "Found matching appliance: Microwave oven\n",
      "Microwave oven is flexible with annual energy consumption: 39 kWh\n",
      "Found matching appliance: Site consumption\n",
      "Site consumption is total site consumption (average values): 11687400.0 kWh\n",
      "Found matching appliance: TV\n",
      "TV is flexible with annual energy consumption: 150 kWh\n",
      "Found matching appliance: TV\n",
      "TV is flexible with annual energy consumption: 150 kWh\n",
      "Found matching appliance: Washing machine\n",
      "Washing machine is flexible with annual energy consumption: 100 kWh\n",
      "Processing sheet 2000951\n",
      "Found matching appliance: Chest freezer\n",
      "Chest freezer is not flexible with annual energy consumption: 296 kWh\n",
      "Found matching appliance: Electric Cooker\n",
      "Electric Cooker is flexible with annual energy consumption: 159 kWh\n",
      "Found matching appliance: Fridge\n",
      "Fridge is not flexible with annual energy consumption: 346 kWh\n",
      "Found matching appliance: Halogen lamp\n",
      "Halogen lamp is flexible with annual energy consumption: 134 kWh\n",
      "Found matching appliance: Microwave oven\n",
      "Microwave oven is flexible with annual energy consumption: 39 kWh\n",
      "Found matching appliance: Non halogen lamp\n",
      "Non halogen lamp is flexible with annual energy consumption: 134 kWh\n",
      "Found matching appliance: Non halogen lamp\n",
      "Non halogen lamp is flexible with annual energy consumption: 134 kWh\n",
      "Found matching appliance: Site consumption\n",
      "Site consumption is total site consumption (average values): 6187993.0 kWh\n",
      "Found matching appliance: Total site light consumption\n",
      "Total site light consumption is total light consumption (average values): 443 kWh\n",
      "Found matching appliance: Vertical freezer\n",
      "Vertical freezer is not flexible with annual energy consumption: 296 kWh\n",
      "Found matching appliance: Washing machine\n",
      "Washing machine is flexible with annual energy consumption: 100 kWh\n",
      "Processing sheet 2000952\n",
      "Found matching appliance: Chest freezer\n",
      "Chest freezer is not flexible with annual energy consumption: 296 kWh\n",
      "Found matching appliance: Clothes drier\n",
      "Clothes drier is flexible with annual energy consumption: 280 kWh\n",
      "Found matching appliance: Dish washer\n",
      "Dish washer is flexible with annual energy consumption: 154 kWh\n",
      "Found matching appliance: Electric oven\n",
      "Electric oven is flexible with annual energy consumption: 146 kWh\n",
      "Found matching appliance: Microwave oven\n",
      "Microwave oven is flexible with annual energy consumption: 39 kWh\n",
      "Found matching appliance: Power supply for fuel boiler\n",
      "Power supply for fuel boiler is flexible with annual energy consumption: 363 kWh\n",
      "Found matching appliance: Site consumption\n",
      "Site consumption is total site consumption (average values): 5682121.0 kWh\n",
      "Found matching appliance: TV\n",
      "TV is flexible with annual energy consumption: 150 kWh\n",
      "Found matching appliance: TV\n",
      "TV is flexible with annual energy consumption: 150 kWh\n",
      "Found matching appliance: TV\n",
      "TV is flexible with annual energy consumption: 150 kWh\n",
      "Found matching appliance: Washing machine\n",
      "Washing machine is flexible with annual energy consumption: 100 kWh\n",
      "Processing sheet 2000953\n",
      "Found matching appliance: Chest freezer\n",
      "Chest freezer is not flexible with annual energy consumption: 296 kWh\n",
      "Found matching appliance: Dish washer\n",
      "Dish washer is flexible with annual energy consumption: 154 kWh\n",
      "Found matching appliance: Electric heating\n",
      "Electric heating is flexible with annual energy consumption: 1720 kWh\n",
      "Found matching appliance: Fridge freezer\n",
      "Fridge freezer is not flexible with annual energy consumption: 296 kWh\n",
      "Found matching appliance: Fridge\n",
      "Fridge is not flexible with annual energy consumption: 346 kWh\n",
      "Found matching appliance: Non halogen lamp\n",
      "Non halogen lamp is flexible with annual energy consumption: 134 kWh\n",
      "Found matching appliance: Non halogen lamp\n",
      "Non halogen lamp is flexible with annual energy consumption: 134 kWh\n",
      "Found matching appliance: Site consumption\n",
      "Site consumption is total site consumption (average values): 14698261.0 kWh\n",
      "Found matching appliance: Total site light consumption\n",
      "Total site light consumption is total light consumption (average values): 443 kWh\n",
      "Found matching appliance: TV\n",
      "TV is flexible with annual energy consumption: 150 kWh\n",
      "Found matching appliance: TV\n",
      "TV is flexible with annual energy consumption: 150 kWh\n",
      "Found matching appliance: Washing machine\n",
      "Washing machine is flexible with annual energy consumption: 100 kWh\n",
      "Found matching appliance: Water heater\n",
      "Water heater is flexible with annual energy consumption: 1676 kWh\n",
      "Processing sheet 2000954\n",
      "Found matching appliance: Electric heating\n",
      "Electric heating is flexible with annual energy consumption: 1720 kWh\n",
      "Found matching appliance: Fridge\n",
      "Fridge is not flexible with annual energy consumption: 346 kWh\n",
      "Found matching appliance: Site consumption\n",
      "Site consumption is total site consumption (average values): 17123520.0 kWh\n",
      "Found matching appliance: TV\n",
      "TV is flexible with annual energy consumption: 150 kWh\n",
      "Found matching appliance: TV\n",
      "TV is flexible with annual energy consumption: 150 kWh\n",
      "Found matching appliance: Vertical freezer\n",
      "Vertical freezer is not flexible with annual energy consumption: 296 kWh\n",
      "Found matching appliance: Washing machine\n",
      "Washing machine is flexible with annual energy consumption: 100 kWh\n",
      "Found matching appliance: Water heater\n",
      "Water heater is flexible with annual energy consumption: 1676 kWh\n",
      "Processing sheet 2000955\n",
      "Found matching appliance: Electric oven\n",
      "Electric oven is flexible with annual energy consumption: 146 kWh\n",
      "Found matching appliance: Fridge freezer\n",
      "Fridge freezer is not flexible with annual energy consumption: 296 kWh\n",
      "Found matching appliance: Fridge\n",
      "Fridge is not flexible with annual energy consumption: 346 kWh\n",
      "Found matching appliance: Site consumption\n",
      "Site consumption is total site consumption (average values): 6043037.0 kWh\n",
      "Found matching appliance: TV\n",
      "TV is flexible with annual energy consumption: 150 kWh\n",
      "Found matching appliance: Washing machine\n",
      "Washing machine is flexible with annual energy consumption: 100 kWh\n",
      "Found matching appliance: Water heater\n",
      "Water heater is flexible with annual energy consumption: 1676 kWh\n",
      "Processing sheet 2000956\n",
      "Found matching appliance: Electric oven\n",
      "Electric oven is flexible with annual energy consumption: 146 kWh\n",
      "Found matching appliance: Fridge freezer\n",
      "Fridge freezer is not flexible with annual energy consumption: 296 kWh\n",
      "Found matching appliance: Fridge\n",
      "Fridge is not flexible with annual energy consumption: 346 kWh\n",
      "Found matching appliance: Microwave oven\n",
      "Microwave oven is flexible with annual energy consumption: 39 kWh\n",
      "Found matching appliance: Non halogen lamp\n",
      "Non halogen lamp is flexible with annual energy consumption: 134 kWh\n",
      "Found matching appliance: Non halogen lamp\n",
      "Non halogen lamp is flexible with annual energy consumption: 134 kWh\n",
      "Found matching appliance: Site consumption\n",
      "Site consumption is total site consumption (average values): 3488753.0 kWh\n",
      "Found matching appliance: Total site light consumption\n",
      "Total site light consumption is total light consumption (average values): 443 kWh\n",
      "Found matching appliance: TV\n",
      "TV is flexible with annual energy consumption: 150 kWh\n",
      "Found matching appliance: TV\n",
      "TV is flexible with annual energy consumption: 150 kWh\n",
      "Found matching appliance: Vertical freezer\n",
      "Vertical freezer is not flexible with annual energy consumption: 296 kWh\n",
      "Found matching appliance: Washing machine\n",
      "Washing machine is flexible with annual energy consumption: 100 kWh\n",
      "Found matching appliance: Water heater\n",
      "Water heater is flexible with annual energy consumption: 1676 kWh\n",
      "Processing sheet 2000957\n",
      "Found matching appliance: Fridge freezer\n",
      "Fridge freezer is not flexible with annual energy consumption: 296 kWh\n",
      "Found matching appliance: Fridge\n",
      "Fridge is not flexible with annual energy consumption: 346 kWh\n",
      "Found matching appliance: Microwave oven\n",
      "Microwave oven is flexible with annual energy consumption: 39 kWh\n",
      "Found matching appliance: Site consumption\n",
      "Site consumption is total site consumption (average values): 2509275.0 kWh\n",
      "Found matching appliance: TV\n",
      "TV is flexible with annual energy consumption: 150 kWh\n",
      "Found matching appliance: Washing machine\n",
      "Washing machine is flexible with annual energy consumption: 100 kWh\n",
      "Processing sheet 2000958\n",
      "Found matching appliance: Fridge freezer\n",
      "Fridge freezer is not flexible with annual energy consumption: 296 kWh\n",
      "Found matching appliance: Fridge\n",
      "Fridge is not flexible with annual energy consumption: 346 kWh\n",
      "Found matching appliance: Microwave oven\n",
      "Microwave oven is flexible with annual energy consumption: 39 kWh\n",
      "Found matching appliance: Site consumption\n",
      "Site consumption is total site consumption (average values): 1941833.0 kWh\n",
      "Found matching appliance: TV\n",
      "TV is flexible with annual energy consumption: 150 kWh\n",
      "Found matching appliance: TV\n",
      "TV is flexible with annual energy consumption: 150 kWh\n",
      "Found matching appliance: Washing machine\n",
      "Washing machine is flexible with annual energy consumption: 100 kWh\n",
      "Processing sheet 2000959\n",
      "Found matching appliance: Clothes drier\n",
      "Clothes drier is flexible with annual energy consumption: 280 kWh\n",
      "Found matching appliance: Electric heating\n",
      "Electric heating is flexible with annual energy consumption: 1720 kWh\n",
      "Found matching appliance: Fridge freezer\n",
      "Fridge freezer is not flexible with annual energy consumption: 296 kWh\n",
      "Found matching appliance: Fridge\n",
      "Fridge is not flexible with annual energy consumption: 346 kWh\n",
      "Found matching appliance: Microwave oven\n",
      "Microwave oven is flexible with annual energy consumption: 39 kWh\n",
      "Found matching appliance: Site consumption\n",
      "Site consumption is total site consumption (average values): 8733522.0 kWh\n",
      "Found matching appliance: Total site light consumption\n",
      "Total site light consumption is total light consumption (average values): 443 kWh\n",
      "Found matching appliance: TV\n",
      "TV is flexible with annual energy consumption: 150 kWh\n",
      "Found matching appliance: Washing machine\n",
      "Washing machine is flexible with annual energy consumption: 100 kWh\n",
      "Found matching appliance: Water heater\n",
      "Water heater is flexible with annual energy consumption: 1676 kWh\n",
      "Processing sheet 2000960\n",
      "Found matching appliance: Clothes drier\n",
      "Clothes drier is flexible with annual energy consumption: 280 kWh\n",
      "Found matching appliance: Fridge freezer\n",
      "Fridge freezer is not flexible with annual energy consumption: 296 kWh\n",
      "Found matching appliance: Fridge\n",
      "Fridge is not flexible with annual energy consumption: 346 kWh\n",
      "Found matching appliance: Microwave oven\n",
      "Microwave oven is flexible with annual energy consumption: 39 kWh\n",
      "Found matching appliance: Site consumption\n",
      "Site consumption is total site consumption (average values): 4242704.0 kWh\n",
      "Found matching appliance: TV\n",
      "TV is flexible with annual energy consumption: 150 kWh\n",
      "Found matching appliance: TV\n",
      "TV is flexible with annual energy consumption: 150 kWh\n",
      "Found matching appliance: Washing machine\n",
      "Washing machine is flexible with annual energy consumption: 100 kWh\n",
      "Processing sheet 2000961\n",
      "Found matching appliance: Dish washer\n",
      "Dish washer is flexible with annual energy consumption: 154 kWh\n",
      "Found matching appliance: Fridge freezer\n",
      "Fridge freezer is not flexible with annual energy consumption: 296 kWh\n",
      "Found matching appliance: Fridge\n",
      "Fridge is not flexible with annual energy consumption: 346 kWh\n",
      "Found matching appliance: Halogen lamp\n",
      "Halogen lamp is flexible with annual energy consumption: 134 kWh\n",
      "Found matching appliance: Non halogen lamp\n",
      "Non halogen lamp is flexible with annual energy consumption: 134 kWh\n",
      "Found matching appliance: Non halogen lamp\n",
      "Non halogen lamp is flexible with annual energy consumption: 134 kWh\n",
      "Found matching appliance: Non halogen lamp\n",
      "Non halogen lamp is flexible with annual energy consumption: 134 kWh\n",
      "Found matching appliance: Site consumption\n",
      "Site consumption is total site consumption (average values): 5417750.0 kWh\n",
      "Found matching appliance: Total site light consumption\n",
      "Total site light consumption is total light consumption (average values): 443 kWh\n",
      "Found matching appliance: Washing machine\n",
      "Washing machine is flexible with annual energy consumption: 100 kWh\n",
      "Processing sheet 2000962\n",
      "Found matching appliance: Chest freezer\n",
      "Chest freezer is not flexible with annual energy consumption: 296 kWh\n",
      "Found matching appliance: Clothes drier\n",
      "Clothes drier is flexible with annual energy consumption: 280 kWh\n",
      "Found matching appliance: Fridge\n",
      "Fridge is not flexible with annual energy consumption: 346 kWh\n",
      "Found matching appliance: Halogen lamp\n",
      "Halogen lamp is flexible with annual energy consumption: 134 kWh\n",
      "Found matching appliance: Microwave oven\n",
      "Microwave oven is flexible with annual energy consumption: 39 kWh\n",
      "Found matching appliance: Site consumption\n",
      "Site consumption is total site consumption (average values): 9177521.0 kWh\n",
      "Found matching appliance: Total site light consumption\n",
      "Total site light consumption is total light consumption (average values): 443 kWh\n",
      "Found matching appliance: TV\n",
      "TV is flexible with annual energy consumption: 150 kWh\n",
      "Found matching appliance: TV\n",
      "TV is flexible with annual energy consumption: 150 kWh\n",
      "Found matching appliance: Washing machine\n",
      "Washing machine is flexible with annual energy consumption: 100 kWh\n",
      "Found matching appliance: Water heater\n",
      "Water heater is flexible with annual energy consumption: 1676 kWh\n",
      "Processing sheet 2000963\n",
      "Found matching appliance: Fridge freezer\n",
      "Fridge freezer is not flexible with annual energy consumption: 296 kWh\n",
      "Found matching appliance: Fridge\n",
      "Fridge is not flexible with annual energy consumption: 346 kWh\n",
      "Found matching appliance: Halogen lamp\n",
      "Halogen lamp is flexible with annual energy consumption: 134 kWh\n",
      "Found matching appliance: Halogen lamp\n",
      "Halogen lamp is flexible with annual energy consumption: 134 kWh\n",
      "Found matching appliance: Site consumption\n",
      "Site consumption is total site consumption (average values): 3107273.0 kWh\n",
      "Found matching appliance: TV\n",
      "TV is flexible with annual energy consumption: 150 kWh\n",
      "Found matching appliance: Washing machine\n",
      "Washing machine is flexible with annual energy consumption: 100 kWh\n",
      "Processing sheet 2000964\n",
      "Found matching appliance: Aquarium\n",
      "Aquarium is not flexible with annual energy consumption: 200 kWh\n",
      "Found matching appliance: Dish washer\n",
      "Dish washer is flexible with annual energy consumption: 154 kWh\n",
      "Found matching appliance: Electric Cooker\n",
      "Electric Cooker is flexible with annual energy consumption: 159 kWh\n",
      "Found matching appliance: Fridge freezer\n",
      "Fridge freezer is not flexible with annual energy consumption: 296 kWh\n",
      "Found matching appliance: Fridge\n",
      "Fridge is not flexible with annual energy consumption: 346 kWh\n",
      "Found matching appliance: Microwave oven\n",
      "Microwave oven is flexible with annual energy consumption: 39 kWh\n",
      "Found matching appliance: Non halogen lamp\n",
      "Non halogen lamp is flexible with annual energy consumption: 134 kWh\n",
      "Found matching appliance: Non halogen lamp\n",
      "Non halogen lamp is flexible with annual energy consumption: 134 kWh\n",
      "Found matching appliance: Non halogen lamp\n",
      "Non halogen lamp is flexible with annual energy consumption: 134 kWh\n",
      "Found matching appliance: Non halogen lamp\n",
      "Non halogen lamp is flexible with annual energy consumption: 134 kWh\n",
      "Found matching appliance: Site consumption\n",
      "Site consumption is total site consumption (average values): 4969766.0 kWh\n",
      "Found matching appliance: Total site light consumption\n",
      "Total site light consumption is total light consumption (average values): 443 kWh\n",
      "Found matching appliance: TV\n",
      "TV is flexible with annual energy consumption: 150 kWh\n",
      "Found matching appliance: TV\n",
      "TV is flexible with annual energy consumption: 150 kWh\n",
      "Found matching appliance: Washing machine\n",
      "Washing machine is flexible with annual energy consumption: 100 kWh\n",
      "Processing sheet 2000965\n",
      "Found matching appliance: Clothes drier\n",
      "Clothes drier is flexible with annual energy consumption: 280 kWh\n",
      "Found matching appliance: Fridge freezer\n",
      "Fridge freezer is not flexible with annual energy consumption: 296 kWh\n",
      "Found matching appliance: Fridge\n",
      "Fridge is not flexible with annual energy consumption: 346 kWh\n",
      "Found matching appliance: Halogen lamp\n",
      "Halogen lamp is flexible with annual energy consumption: 134 kWh\n",
      "Found matching appliance: Site consumption\n",
      "Site consumption is total site consumption (average values): 5326945.0 kWh\n",
      "Found matching appliance: Washing machine\n",
      "Washing machine is flexible with annual energy consumption: 100 kWh\n",
      "Processing sheet 2000966\n",
      "Found matching appliance: Chest freezer\n",
      "Chest freezer is not flexible with annual energy consumption: 296 kWh\n",
      "Found matching appliance: Clothes drier\n",
      "Clothes drier is flexible with annual energy consumption: 280 kWh\n",
      "Found matching appliance: Dish washer\n",
      "Dish washer is flexible with annual energy consumption: 154 kWh\n",
      "Found matching appliance: Electric oven\n",
      "Electric oven is flexible with annual energy consumption: 146 kWh\n",
      "Found matching appliance: Fridge freezer\n",
      "Fridge freezer is not flexible with annual energy consumption: 296 kWh\n",
      "Found matching appliance: Fridge\n",
      "Fridge is not flexible with annual energy consumption: 346 kWh\n",
      "Found matching appliance: Halogen lamp\n",
      "Halogen lamp is flexible with annual energy consumption: 134 kWh\n",
      "Found matching appliance: Site consumption\n",
      "Site consumption is total site consumption (average values): 4332815.0 kWh\n",
      "Found matching appliance: Total site light consumption\n",
      "Total site light consumption is total light consumption (average values): 443 kWh\n",
      "Found matching appliance: TV\n",
      "TV is flexible with annual energy consumption: 150 kWh\n",
      "Found matching appliance: TV\n",
      "TV is flexible with annual energy consumption: 150 kWh\n",
      "Found matching appliance: Washing machine\n",
      "Washing machine is flexible with annual energy consumption: 100 kWh\n",
      "Processing sheet 2000967\n",
      "Found matching appliance: Electric heating\n",
      "Electric heating is flexible with annual energy consumption: 1720 kWh\n",
      "Found matching appliance: Fridge freezer\n",
      "Fridge freezer is not flexible with annual energy consumption: 296 kWh\n",
      "Found matching appliance: Fridge\n",
      "Fridge is not flexible with annual energy consumption: 346 kWh\n",
      "Found matching appliance: Halogen lamp\n",
      "Halogen lamp is flexible with annual energy consumption: 134 kWh\n",
      "Found matching appliance: Halogen lamp\n",
      "Halogen lamp is flexible with annual energy consumption: 134 kWh\n",
      "Found matching appliance: Hot plate\n",
      "Hot plate is flexible with annual energy consumption: 159 kWh\n",
      "Found matching appliance: Microwave oven\n",
      "Microwave oven is flexible with annual energy consumption: 39 kWh\n",
      "Found matching appliance: Microwave oven\n",
      "Microwave oven is flexible with annual energy consumption: 39 kWh\n",
      "Found matching appliance: Non halogen lamp\n",
      "Non halogen lamp is flexible with annual energy consumption: 134 kWh\n",
      "Found matching appliance: Site consumption\n",
      "Site consumption is total site consumption (average values): 9535769.0 kWh\n",
      "Found matching appliance: Total site light consumption\n",
      "Total site light consumption is total light consumption (average values): 443 kWh\n",
      "Found matching appliance: TV\n",
      "TV is flexible with annual energy consumption: 150 kWh\n",
      "Found matching appliance: Washing machine\n",
      "Washing machine is flexible with annual energy consumption: 100 kWh\n",
      "Found matching appliance: Water heater\n",
      "Water heater is flexible with annual energy consumption: 1676 kWh\n",
      "Processing sheet 2000968\n",
      "Found matching appliance: Electric Cooker\n",
      "Electric Cooker is flexible with annual energy consumption: 159 kWh\n",
      "Found matching appliance: Electric heating\n",
      "Electric heating is flexible with annual energy consumption: 1720 kWh\n",
      "Found matching appliance: Fridge\n",
      "Fridge is not flexible with annual energy consumption: 346 kWh\n",
      "Found matching appliance: Site consumption\n",
      "Site consumption is total site consumption (average values): 3104098.0 kWh\n",
      "Found matching appliance: TV\n",
      "TV is flexible with annual energy consumption: 150 kWh\n",
      "Found matching appliance: Washing machine\n",
      "Washing machine is flexible with annual energy consumption: 100 kWh\n",
      "Found matching appliance: Washing machine+clothes drier\n",
      "Washing machine+clothes drier is flexible with annual energy consumption: 385 kWh\n",
      "Found matching appliance: Water heater\n",
      "Water heater is flexible with annual energy consumption: 1676 kWh\n",
      "Processing sheet 2000969\n",
      "Found matching appliance: Dish washer\n",
      "Dish washer is flexible with annual energy consumption: 154 kWh\n",
      "Found matching appliance: Electric heating\n",
      "Electric heating is flexible with annual energy consumption: 1720 kWh\n",
      "Found matching appliance: Halogen lamp\n",
      "Halogen lamp is flexible with annual energy consumption: 134 kWh\n",
      "Found matching appliance: Microwave oven\n",
      "Microwave oven is flexible with annual energy consumption: 39 kWh\n",
      "Found matching appliance: Site consumption\n",
      "Site consumption is total site consumption (average values): 9482164.0 kWh\n",
      "Found matching appliance: TV\n",
      "TV is flexible with annual energy consumption: 150 kWh\n",
      "Found matching appliance: Washing machine\n",
      "Washing machine is flexible with annual energy consumption: 100 kWh\n",
      "Found matching appliance: Washing machine+clothes drier\n",
      "Washing machine+clothes drier is flexible with annual energy consumption: 385 kWh\n",
      "Processing sheet 2000970\n",
      "Found matching appliance: Clothes drier\n",
      "Clothes drier is flexible with annual energy consumption: 280 kWh\n",
      "Found matching appliance: Dish washer\n",
      "Dish washer is flexible with annual energy consumption: 154 kWh\n",
      "Found matching appliance: Electric oven\n",
      "Electric oven is flexible with annual energy consumption: 146 kWh\n",
      "Found matching appliance: Fridge freezer\n",
      "Fridge freezer is not flexible with annual energy consumption: 296 kWh\n",
      "Found matching appliance: Fridge\n",
      "Fridge is not flexible with annual energy consumption: 346 kWh\n",
      "Found matching appliance: Halogen lamp\n",
      "Halogen lamp is flexible with annual energy consumption: 134 kWh\n",
      "Found matching appliance: Site consumption\n",
      "Site consumption is total site consumption (average values): 3569341.0 kWh\n",
      "Found matching appliance: Total site light consumption\n",
      "Total site light consumption is total light consumption (average values): 443 kWh\n",
      "Found matching appliance: TV\n",
      "TV is flexible with annual energy consumption: 150 kWh\n",
      "Found matching appliance: TV\n",
      "TV is flexible with annual energy consumption: 150 kWh\n",
      "Processing sheet 2000971\n",
      "Found matching appliance: Computer site\n",
      "Computer site is flexible with annual energy consumption: 124 kWh\n",
      "Found matching appliance: Electric heating\n",
      "Electric heating is flexible with annual energy consumption: 1720 kWh\n",
      "Found matching appliance: Fridge freezer\n",
      "Fridge freezer is not flexible with annual energy consumption: 296 kWh\n",
      "Found matching appliance: Fridge\n",
      "Fridge is not flexible with annual energy consumption: 346 kWh\n",
      "Found matching appliance: Fridge freezer\n",
      "Fridge freezer is not flexible with annual energy consumption: 296 kWh\n",
      "Found matching appliance: Fridge\n",
      "Fridge is not flexible with annual energy consumption: 346 kWh\n",
      "Found matching appliance: Fridge\n",
      "Fridge is not flexible with annual energy consumption: 346 kWh\n",
      "Found matching appliance: Fridge\n",
      "Fridge is not flexible with annual energy consumption: 346 kWh\n",
      "Found matching appliance: Halogen lamp\n",
      "Halogen lamp is flexible with annual energy consumption: 134 kWh\n",
      "Found matching appliance: Halogen lamp\n",
      "Halogen lamp is flexible with annual energy consumption: 134 kWh\n",
      "Found matching appliance: Microwave oven\n",
      "Microwave oven is flexible with annual energy consumption: 39 kWh\n",
      "Found matching appliance: Power supply for fuel boiler\n",
      "Power supply for fuel boiler is flexible with annual energy consumption: 363 kWh\n",
      "Found matching appliance: Site consumption\n",
      "Site consumption is total site consumption (average values): 10382544.0 kWh\n",
      "Found matching appliance: TV\n",
      "TV is flexible with annual energy consumption: 150 kWh\n",
      "Found matching appliance: Washing machine\n",
      "Washing machine is flexible with annual energy consumption: 100 kWh\n",
      "Processing sheet 2000972\n",
      "Found matching appliance: Clothes drier\n",
      "Clothes drier is flexible with annual energy consumption: 280 kWh\n",
      "Found matching appliance: Dish washer\n",
      "Dish washer is flexible with annual energy consumption: 154 kWh\n",
      "Found matching appliance: Electric Cooker\n",
      "Electric Cooker is flexible with annual energy consumption: 159 kWh\n",
      "Found matching appliance: Fridge freezer\n",
      "Fridge freezer is not flexible with annual energy consumption: 296 kWh\n",
      "Found matching appliance: Fridge\n",
      "Fridge is not flexible with annual energy consumption: 346 kWh\n",
      "Found matching appliance: Halogen lamp\n",
      "Halogen lamp is flexible with annual energy consumption: 134 kWh\n",
      "Found matching appliance: Halogen lamp\n",
      "Halogen lamp is flexible with annual energy consumption: 134 kWh\n",
      "Found matching appliance: Halogen lamp\n",
      "Halogen lamp is flexible with annual energy consumption: 134 kWh\n",
      "Found matching appliance: Site consumption\n",
      "Site consumption is total site consumption (average values): 2764521.0 kWh\n",
      "Found matching appliance: TV\n",
      "TV is flexible with annual energy consumption: 150 kWh\n",
      "Found matching appliance: TV\n",
      "TV is flexible with annual energy consumption: 150 kWh\n",
      "Found matching appliance: Washing machine\n",
      "Washing machine is flexible with annual energy consumption: 100 kWh\n",
      "Processing sheet 2000973\n",
      "Found matching appliance: Electric oven\n",
      "Electric oven is flexible with annual energy consumption: 146 kWh\n",
      "Found matching appliance: Fridge\n",
      "Fridge is not flexible with annual energy consumption: 346 kWh\n",
      "Found matching appliance: Microwave oven\n",
      "Microwave oven is flexible with annual energy consumption: 39 kWh\n",
      "Found matching appliance: Site consumption\n",
      "Site consumption is total site consumption (average values): 3484451.0 kWh\n",
      "Found matching appliance: TV\n",
      "TV is flexible with annual energy consumption: 150 kWh\n",
      "Found matching appliance: Vertical freezer\n",
      "Vertical freezer is not flexible with annual energy consumption: 296 kWh\n",
      "Found matching appliance: Washing machine\n",
      "Washing machine is flexible with annual energy consumption: 100 kWh\n",
      "Processing sheet 2000974\n",
      "Found matching appliance: Dish washer\n",
      "Dish washer is flexible with annual energy consumption: 154 kWh\n",
      "Found matching appliance: Electric heating\n",
      "Electric heating is flexible with annual energy consumption: 1720 kWh\n",
      "Found matching appliance: Electric oven\n",
      "Electric oven is flexible with annual energy consumption: 146 kWh\n",
      "Found matching appliance: Fridge freezer\n",
      "Fridge freezer is not flexible with annual energy consumption: 296 kWh\n",
      "Found matching appliance: Fridge\n",
      "Fridge is not flexible with annual energy consumption: 346 kWh\n",
      "Found matching appliance: Halogen lamp\n",
      "Halogen lamp is flexible with annual energy consumption: 134 kWh\n",
      "Found matching appliance: Halogen lamp\n",
      "Halogen lamp is flexible with annual energy consumption: 134 kWh\n",
      "Found matching appliance: Halogen lamp\n",
      "Halogen lamp is flexible with annual energy consumption: 134 kWh\n",
      "Found matching appliance: Halogen lamp\n",
      "Halogen lamp is flexible with annual energy consumption: 134 kWh\n",
      "Found matching appliance: Hot plate\n",
      "Hot plate is flexible with annual energy consumption: 159 kWh\n",
      "Found matching appliance: Site consumption\n",
      "Site consumption is total site consumption (average values): 7056712.0 kWh\n",
      "Found matching appliance: TV\n",
      "TV is flexible with annual energy consumption: 150 kWh\n",
      "Found matching appliance: TV\n",
      "TV is flexible with annual energy consumption: 150 kWh\n",
      "Found matching appliance: TV\n",
      "TV is flexible with annual energy consumption: 150 kWh\n",
      "Found matching appliance: Washing machine\n",
      "Washing machine is flexible with annual energy consumption: 100 kWh\n",
      "Found matching appliance: Washing machine+clothes drier\n",
      "Washing machine+clothes drier is flexible with annual energy consumption: 385 kWh\n",
      "Found matching appliance: Water heater\n",
      "Water heater is flexible with annual energy consumption: 1676 kWh\n",
      "Processing sheet 2000975\n",
      "Found matching appliance: Electric heating\n",
      "Electric heating is flexible with annual energy consumption: 1720 kWh\n",
      "Found matching appliance: Fridge\n",
      "Fridge is not flexible with annual energy consumption: 346 kWh\n",
      "Found matching appliance: Halogen lamp\n",
      "Halogen lamp is flexible with annual energy consumption: 134 kWh\n",
      "Found matching appliance: Hot plate\n",
      "Hot plate is flexible with annual energy consumption: 159 kWh\n",
      "Found matching appliance: Microwave oven\n",
      "Microwave oven is flexible with annual energy consumption: 39 kWh\n",
      "Found matching appliance: Site consumption\n",
      "Site consumption is total site consumption (average values): 4371705.0 kWh\n",
      "Found matching appliance: TV\n",
      "TV is flexible with annual energy consumption: 150 kWh\n",
      "Found matching appliance: Vertical freezer\n",
      "Vertical freezer is not flexible with annual energy consumption: 296 kWh\n",
      "Found matching appliance: Washing machine\n",
      "Washing machine is flexible with annual energy consumption: 100 kWh\n",
      "Found matching appliance: Water heater\n",
      "Water heater is flexible with annual energy consumption: 1676 kWh\n",
      "Processing sheet 2000976\n",
      "Found matching appliance: Fridge freezer\n",
      "Fridge freezer is not flexible with annual energy consumption: 296 kWh\n",
      "Found matching appliance: Fridge\n",
      "Fridge is not flexible with annual energy consumption: 346 kWh\n",
      "Found matching appliance: Halogen lamp\n",
      "Halogen lamp is flexible with annual energy consumption: 134 kWh\n",
      "Found matching appliance: Halogen lamp\n",
      "Halogen lamp is flexible with annual energy consumption: 134 kWh\n",
      "Found matching appliance: Microwave oven\n",
      "Microwave oven is flexible with annual energy consumption: 39 kWh\n",
      "Found matching appliance: Site consumption\n",
      "Site consumption is total site consumption (average values): 3028419.0 kWh\n",
      "Found matching appliance: Total site light consumption\n",
      "Total site light consumption is total light consumption (average values): 443 kWh\n",
      "Found matching appliance: TV\n",
      "TV is flexible with annual energy consumption: 150 kWh\n",
      "Found matching appliance: TV\n",
      "TV is flexible with annual energy consumption: 150 kWh\n",
      "Found matching appliance: Washing machine\n",
      "Washing machine is flexible with annual energy consumption: 100 kWh\n",
      "Processing sheet 2000978\n",
      "Found matching appliance: Clothes drier\n",
      "Clothes drier is flexible with annual energy consumption: 280 kWh\n",
      "Found matching appliance: Electric heating\n",
      "Electric heating is flexible with annual energy consumption: 1720 kWh\n",
      "Found matching appliance: Electric oven\n",
      "Electric oven is flexible with annual energy consumption: 146 kWh\n",
      "Found matching appliance: Fridge freezer\n",
      "Fridge freezer is not flexible with annual energy consumption: 296 kWh\n",
      "Found matching appliance: Fridge\n",
      "Fridge is not flexible with annual energy consumption: 346 kWh\n",
      "Found matching appliance: Halogen lamp\n",
      "Halogen lamp is flexible with annual energy consumption: 134 kWh\n",
      "Found matching appliance: Halogen lamp\n",
      "Halogen lamp is flexible with annual energy consumption: 134 kWh\n",
      "Found matching appliance: Site consumption\n",
      "Site consumption is total site consumption (average values): 8289785.0 kWh\n",
      "Found matching appliance: Total site light consumption\n",
      "Total site light consumption is total light consumption (average values): 443 kWh\n",
      "Found matching appliance: TV\n",
      "TV is flexible with annual energy consumption: 150 kWh\n",
      "Found matching appliance: TV\n",
      "TV is flexible with annual energy consumption: 150 kWh\n",
      "Found matching appliance: Washing machine\n",
      "Washing machine is flexible with annual energy consumption: 100 kWh\n",
      "Found matching appliance: Water heater\n",
      "Water heater is flexible with annual energy consumption: 1676 kWh\n",
      "Processing sheet 2000979\n",
      "Found matching appliance: Dish washer\n",
      "Dish washer is flexible with annual energy consumption: 154 kWh\n",
      "Found matching appliance: Electric oven\n",
      "Electric oven is flexible with annual energy consumption: 146 kWh\n",
      "Found matching appliance: Fridge freezer\n",
      "Fridge freezer is not flexible with annual energy consumption: 296 kWh\n",
      "Found matching appliance: Fridge\n",
      "Fridge is not flexible with annual energy consumption: 346 kWh\n",
      "Found matching appliance: Microwave oven\n",
      "Microwave oven is flexible with annual energy consumption: 39 kWh\n",
      "Found matching appliance: Power supply for wall boiler\n",
      "Power supply for wall boiler is flexible with annual energy consumption: 120 kWh\n",
      "Found matching appliance: Site consumption\n",
      "Site consumption is total site consumption (average values): 2884031.0 kWh\n",
      "Found matching appliance: TV\n",
      "TV is flexible with annual energy consumption: 150 kWh\n",
      "Found matching appliance: Washing machine\n",
      "Washing machine is flexible with annual energy consumption: 100 kWh\n",
      "Processing sheet 2000980\n",
      "Found matching appliance: Dish washer\n",
      "Dish washer is flexible with annual energy consumption: 154 kWh\n",
      "Found matching appliance: Electric oven\n",
      "Electric oven is flexible with annual energy consumption: 146 kWh\n",
      "Found matching appliance: Fridge freezer\n",
      "Fridge freezer is not flexible with annual energy consumption: 296 kWh\n",
      "Found matching appliance: Fridge\n",
      "Fridge is not flexible with annual energy consumption: 346 kWh\n",
      "Found matching appliance: Halogen lamp\n",
      "Halogen lamp is flexible with annual energy consumption: 134 kWh\n",
      "Found matching appliance: Halogen lamp\n",
      "Halogen lamp is flexible with annual energy consumption: 134 kWh\n",
      "Found matching appliance: Hot plate\n",
      "Hot plate is flexible with annual energy consumption: 159 kWh\n",
      "Found matching appliance: Microwave oven\n",
      "Microwave oven is flexible with annual energy consumption: 39 kWh\n",
      "Found matching appliance: Site consumption\n",
      "Site consumption is total site consumption (average values): 6101826.0 kWh\n",
      "Found matching appliance: Total site light consumption\n",
      "Total site light consumption is total light consumption (average values): 443 kWh\n",
      "Found matching appliance: TV\n",
      "TV is flexible with annual energy consumption: 150 kWh\n",
      "Found matching appliance: TV\n",
      "TV is flexible with annual energy consumption: 150 kWh\n",
      "Found matching appliance: Washing machine\n",
      "Washing machine is flexible with annual energy consumption: 100 kWh\n",
      "Processing sheet 2000981\n",
      "Found matching appliance: Aquarium\n",
      "Aquarium is not flexible with annual energy consumption: 200 kWh\n",
      "Found matching appliance: Chest freezer\n",
      "Chest freezer is not flexible with annual energy consumption: 296 kWh\n",
      "Found matching appliance: Dish washer\n",
      "Dish washer is flexible with annual energy consumption: 154 kWh\n",
      "Found matching appliance: Fridge\n",
      "Fridge is not flexible with annual energy consumption: 346 kWh\n",
      "Found matching appliance: Microwave oven\n",
      "Microwave oven is flexible with annual energy consumption: 39 kWh\n",
      "Found matching appliance: Site consumption\n",
      "Site consumption is total site consumption (average values): 5200652.0 kWh\n",
      "Found matching appliance: Total site light consumption\n",
      "Total site light consumption is total light consumption (average values): 443 kWh\n",
      "Found matching appliance: TV\n",
      "TV is flexible with annual energy consumption: 150 kWh\n",
      "Found matching appliance: TV\n",
      "TV is flexible with annual energy consumption: 150 kWh\n",
      "Found matching appliance: Washing machine\n",
      "Washing machine is flexible with annual energy consumption: 100 kWh\n",
      "Found matching appliance: Water heater\n",
      "Water heater is flexible with annual energy consumption: 1676 kWh\n",
      "Processing sheet 2000982\n",
      "Found matching appliance: Electric heating\n",
      "Electric heating is flexible with annual energy consumption: 1720 kWh\n",
      "Found matching appliance: Electric oven\n",
      "Electric oven is flexible with annual energy consumption: 146 kWh\n",
      "Found matching appliance: Fridge freezer\n",
      "Fridge freezer is not flexible with annual energy consumption: 296 kWh\n",
      "Found matching appliance: Fridge\n",
      "Fridge is not flexible with annual energy consumption: 346 kWh\n",
      "Found matching appliance: Hot plate\n",
      "Hot plate is flexible with annual energy consumption: 159 kWh\n",
      "Found matching appliance: Microwave oven\n",
      "Microwave oven is flexible with annual energy consumption: 39 kWh\n",
      "Found matching appliance: Site consumption\n",
      "Site consumption is total site consumption (average values): 8424373.0 kWh\n",
      "Found matching appliance: Total site light consumption\n",
      "Total site light consumption is total light consumption (average values): 443 kWh\n",
      "Found matching appliance: TV\n",
      "TV is flexible with annual energy consumption: 150 kWh\n",
      "Found matching appliance: Washing machine\n",
      "Washing machine is flexible with annual energy consumption: 100 kWh\n",
      "Found matching appliance: Washing machine+clothes drier\n",
      "Washing machine+clothes drier is flexible with annual energy consumption: 385 kWh\n",
      "Found matching appliance: Water heater\n",
      "Water heater is flexible with annual energy consumption: 1676 kWh\n",
      "Processing sheet 2000983\n",
      "Found matching appliance: Dish washer\n",
      "Dish washer is flexible with annual energy consumption: 154 kWh\n",
      "Found matching appliance: Electric heating\n",
      "Electric heating is flexible with annual energy consumption: 1720 kWh\n",
      "Found matching appliance: Fridge freezer\n",
      "Fridge freezer is not flexible with annual energy consumption: 296 kWh\n",
      "Found matching appliance: Fridge\n",
      "Fridge is not flexible with annual energy consumption: 346 kWh\n",
      "Found matching appliance: Hot plate\n",
      "Hot plate is flexible with annual energy consumption: 159 kWh\n",
      "Found matching appliance: Microwave oven\n",
      "Microwave oven is flexible with annual energy consumption: 39 kWh\n",
      "Found matching appliance: Non halogen lamp\n",
      "Non halogen lamp is flexible with annual energy consumption: 134 kWh\n",
      "Found matching appliance: Site consumption\n",
      "Site consumption is total site consumption (average values): 4054982.0 kWh\n",
      "Found matching appliance: Total site light consumption\n",
      "Total site light consumption is total light consumption (average values): 443 kWh\n",
      "Found matching appliance: TV\n",
      "TV is flexible with annual energy consumption: 150 kWh\n",
      "Found matching appliance: Washing machine\n",
      "Washing machine is flexible with annual energy consumption: 100 kWh\n",
      "Found matching appliance: Washing machine+clothes drier\n",
      "Washing machine+clothes drier is flexible with annual energy consumption: 385 kWh\n",
      "Found matching appliance: Water heater\n",
      "Water heater is flexible with annual energy consumption: 1676 kWh\n",
      "Found matching appliance: Water heater\n",
      "Water heater is flexible with annual energy consumption: 1676 kWh\n",
      "Processing sheet 2000984\n",
      "Found matching appliance: Dish washer\n",
      "Dish washer is flexible with annual energy consumption: 154 kWh\n",
      "Found matching appliance: Electric Cooker\n",
      "Electric Cooker is flexible with annual energy consumption: 159 kWh\n",
      "Found matching appliance: Fridge freezer\n",
      "Fridge freezer is not flexible with annual energy consumption: 296 kWh\n",
      "Found matching appliance: Fridge\n",
      "Fridge is not flexible with annual energy consumption: 346 kWh\n",
      "Found matching appliance: Halogen lamp\n",
      "Halogen lamp is flexible with annual energy consumption: 134 kWh\n",
      "Found matching appliance: Halogen lamp\n",
      "Halogen lamp is flexible with annual energy consumption: 134 kWh\n",
      "Found matching appliance: Halogen lamp\n",
      "Halogen lamp is flexible with annual energy consumption: 134 kWh\n",
      "Found matching appliance: Halogen lamp\n",
      "Halogen lamp is flexible with annual energy consumption: 134 kWh\n",
      "Found matching appliance: Halogen lamp\n",
      "Halogen lamp is flexible with annual energy consumption: 134 kWh\n",
      "Found matching appliance: Microwave oven\n",
      "Microwave oven is flexible with annual energy consumption: 39 kWh\n",
      "Found matching appliance: Site consumption\n",
      "Site consumption is total site consumption (average values): 4085647.0 kWh\n",
      "Found matching appliance: Total site light consumption\n",
      "Total site light consumption is total light consumption (average values): 443 kWh\n",
      "Found matching appliance: TV\n",
      "TV is flexible with annual energy consumption: 150 kWh\n",
      "Found matching appliance: TV\n",
      "TV is flexible with annual energy consumption: 150 kWh\n",
      "Found matching appliance: Washing machine\n",
      "Washing machine is flexible with annual energy consumption: 100 kWh\n",
      "Processing sheet 2000985\n",
      "Found matching appliance: Aquarium\n",
      "Aquarium is not flexible with annual energy consumption: 200 kWh\n",
      "Found matching appliance: Dish washer\n",
      "Dish washer is flexible with annual energy consumption: 154 kWh\n",
      "Found matching appliance: Electric Cooker\n",
      "Electric Cooker is flexible with annual energy consumption: 159 kWh\n",
      "Found matching appliance: Fridge freezer\n",
      "Fridge freezer is not flexible with annual energy consumption: 296 kWh\n",
      "Found matching appliance: Fridge\n",
      "Fridge is not flexible with annual energy consumption: 346 kWh\n",
      "Found matching appliance: Halogen lamp\n",
      "Halogen lamp is flexible with annual energy consumption: 134 kWh\n",
      "Found matching appliance: Halogen lamp\n",
      "Halogen lamp is flexible with annual energy consumption: 134 kWh\n",
      "Found matching appliance: Microwave oven\n",
      "Microwave oven is flexible with annual energy consumption: 39 kWh\n",
      "Found matching appliance: Site consumption\n",
      "Site consumption is total site consumption (average values): 3302312.0 kWh\n",
      "Found matching appliance: Total site light consumption\n",
      "Total site light consumption is total light consumption (average values): 443 kWh\n",
      "Found matching appliance: TV\n",
      "TV is flexible with annual energy consumption: 150 kWh\n",
      "Found matching appliance: Washing machine\n",
      "Washing machine is flexible with annual energy consumption: 100 kWh\n",
      "Processing sheet 2000986\n",
      "Found matching appliance: Aquarium\n",
      "Aquarium is not flexible with annual energy consumption: 200 kWh\n",
      "Found matching appliance: Chest freezer\n",
      "Chest freezer is not flexible with annual energy consumption: 296 kWh\n",
      "Found matching appliance: Electric Cooker\n",
      "Electric Cooker is flexible with annual energy consumption: 159 kWh\n",
      "Found matching appliance: Fridge freezer\n",
      "Fridge freezer is not flexible with annual energy consumption: 296 kWh\n",
      "Found matching appliance: Fridge\n",
      "Fridge is not flexible with annual energy consumption: 346 kWh\n",
      "Found matching appliance: Microwave oven\n",
      "Microwave oven is flexible with annual energy consumption: 39 kWh\n",
      "Found matching appliance: Microwave oven\n",
      "Microwave oven is flexible with annual energy consumption: 39 kWh\n",
      "Found matching appliance: Site consumption\n",
      "Site consumption is total site consumption (average values): 2266623.0 kWh\n",
      "Found matching appliance: TV\n",
      "TV is flexible with annual energy consumption: 150 kWh\n",
      "Found matching appliance: Washing machine\n",
      "Washing machine is flexible with annual energy consumption: 100 kWh\n",
      "Processing sheet 2000987\n",
      "Found matching appliance: Aquarium\n",
      "Aquarium is not flexible with annual energy consumption: 200 kWh\n",
      "Found matching appliance: Chest freezer\n",
      "Chest freezer is not flexible with annual energy consumption: 296 kWh\n",
      "Found matching appliance: Clothes drier\n",
      "Clothes drier is flexible with annual energy consumption: 280 kWh\n",
      "Found matching appliance: Electric Cooker\n",
      "Electric Cooker is flexible with annual energy consumption: 159 kWh\n",
      "Found matching appliance: Fridge freezer\n",
      "Fridge freezer is not flexible with annual energy consumption: 296 kWh\n",
      "Found matching appliance: Fridge\n",
      "Fridge is not flexible with annual energy consumption: 346 kWh\n",
      "Found matching appliance: Microwave oven\n",
      "Microwave oven is flexible with annual energy consumption: 39 kWh\n",
      "Found matching appliance: Site consumption\n",
      "Site consumption is total site consumption (average values): 10002391.0 kWh\n",
      "Found matching appliance: TV\n",
      "TV is flexible with annual energy consumption: 150 kWh\n",
      "Found matching appliance: TV\n",
      "TV is flexible with annual energy consumption: 150 kWh\n",
      "Found matching appliance: Washing machine\n",
      "Washing machine is flexible with annual energy consumption: 100 kWh\n",
      "Found matching appliance: Water heater\n",
      "Water heater is flexible with annual energy consumption: 1676 kWh\n",
      "Processing sheet 2000988\n",
      "Found matching appliance: Fridge\n",
      "Fridge is not flexible with annual energy consumption: 346 kWh\n",
      "Found matching appliance: Halogen lamp\n",
      "Halogen lamp is flexible with annual energy consumption: 134 kWh\n",
      "Found matching appliance: Microwave oven\n",
      "Microwave oven is flexible with annual energy consumption: 39 kWh\n",
      "Found matching appliance: Non halogen lamp\n",
      "Non halogen lamp is flexible with annual energy consumption: 134 kWh\n",
      "Found matching appliance: Non halogen lamp\n",
      "Non halogen lamp is flexible with annual energy consumption: 134 kWh\n",
      "Found matching appliance: Non halogen lamp\n",
      "Non halogen lamp is flexible with annual energy consumption: 134 kWh\n",
      "Found matching appliance: Site consumption\n",
      "Site consumption is total site consumption (average values): 3653331.0 kWh\n",
      "Found matching appliance: Total site light consumption\n",
      "Total site light consumption is total light consumption (average values): 443 kWh\n",
      "Found matching appliance: TV\n",
      "TV is flexible with annual energy consumption: 150 kWh\n",
      "Found matching appliance: Vertical freezer\n",
      "Vertical freezer is not flexible with annual energy consumption: 296 kWh\n",
      "Found matching appliance: Washing machine\n",
      "Washing machine is flexible with annual energy consumption: 100 kWh\n",
      "Processing sheet 2000989\n",
      "Found matching appliance: Chest freezer\n",
      "Chest freezer is not flexible with annual energy consumption: 296 kWh\n",
      "Found matching appliance: Clothes drier\n",
      "Clothes drier is flexible with annual energy consumption: 280 kWh\n",
      "Found matching appliance: Dish washer\n",
      "Dish washer is flexible with annual energy consumption: 154 kWh\n",
      "Found matching appliance: Microwave oven\n",
      "Microwave oven is flexible with annual energy consumption: 39 kWh\n",
      "Found matching appliance: Site consumption\n",
      "Site consumption is total site consumption (average values): 5654372.0 kWh\n",
      "Found matching appliance: TV\n",
      "TV is flexible with annual energy consumption: 150 kWh\n",
      "Found matching appliance: TV\n",
      "TV is flexible with annual energy consumption: 150 kWh\n",
      "Found matching appliance: Washing machine\n",
      "Washing machine is flexible with annual energy consumption: 100 kWh\n",
      "Processing sheet 2000990\n",
      "Found matching appliance: Computer site\n",
      "Computer site is flexible with annual energy consumption: 124 kWh\n",
      "Found matching appliance: Electric heating\n",
      "Electric heating is flexible with annual energy consumption: 1720 kWh\n",
      "Found matching appliance: Fridge\n",
      "Fridge is not flexible with annual energy consumption: 346 kWh\n",
      "Found matching appliance: Microwave oven\n",
      "Microwave oven is flexible with annual energy consumption: 39 kWh\n",
      "Found matching appliance: Site consumption\n",
      "Site consumption is total site consumption (average values): 5384846.0 kWh\n",
      "Found matching appliance: TV\n",
      "TV is flexible with annual energy consumption: 150 kWh\n",
      "Found matching appliance: Vertical freezer\n",
      "Vertical freezer is not flexible with annual energy consumption: 296 kWh\n",
      "Found matching appliance: Washing machine\n",
      "Washing machine is flexible with annual energy consumption: 100 kWh\n",
      "Found matching appliance: Water heater\n",
      "Water heater is flexible with annual energy consumption: 1676 kWh\n",
      "Processing sheet 2000991\n",
      "Found matching appliance: Chest freezer\n",
      "Chest freezer is not flexible with annual energy consumption: 296 kWh\n",
      "Found matching appliance: Dish washer\n",
      "Dish washer is flexible with annual energy consumption: 154 kWh\n",
      "Found matching appliance: Microwave oven\n",
      "Microwave oven is flexible with annual energy consumption: 39 kWh\n",
      "Found matching appliance: Site consumption\n",
      "Site consumption is total site consumption (average values): 4520472.0 kWh\n",
      "Found matching appliance: Washing machine\n",
      "Washing machine is flexible with annual energy consumption: 100 kWh\n",
      "Found matching appliance: Water heater\n",
      "Water heater is flexible with annual energy consumption: 1676 kWh\n",
      "Processing sheet 2000992\n",
      "Found matching appliance: Aquarium\n",
      "Aquarium is not flexible with annual energy consumption: 200 kWh\n",
      "Found matching appliance: Chest freezer\n",
      "Chest freezer is not flexible with annual energy consumption: 296 kWh\n",
      "Found matching appliance: Clothes drier\n",
      "Clothes drier is flexible with annual energy consumption: 280 kWh\n",
      "Found matching appliance: Fridge\n",
      "Fridge is not flexible with annual energy consumption: 346 kWh\n",
      "Found matching appliance: Microwave oven\n",
      "Microwave oven is flexible with annual energy consumption: 39 kWh\n",
      "Found matching appliance: Site consumption\n",
      "Site consumption is total site consumption (average values): 3315212.0 kWh\n",
      "Found matching appliance: TV\n",
      "TV is flexible with annual energy consumption: 150 kWh\n",
      "Processing sheet 2000993\n",
      "Found matching appliance: Chest freezer\n",
      "Chest freezer is not flexible with annual energy consumption: 296 kWh\n",
      "Found matching appliance: Dish washer\n",
      "Dish washer is flexible with annual energy consumption: 154 kWh\n",
      "Found matching appliance: Electric Cooker\n",
      "Electric Cooker is flexible with annual energy consumption: 159 kWh\n",
      "Found matching appliance: Fridge freezer\n",
      "Fridge freezer is not flexible with annual energy consumption: 296 kWh\n",
      "Found matching appliance: Fridge\n",
      "Fridge is not flexible with annual energy consumption: 346 kWh\n",
      "Found matching appliance: Microwave oven\n",
      "Microwave oven is flexible with annual energy consumption: 39 kWh\n",
      "Found matching appliance: Microwave oven\n",
      "Microwave oven is flexible with annual energy consumption: 39 kWh\n",
      "Found matching appliance: Power supply for fuel boiler\n",
      "Power supply for fuel boiler is flexible with annual energy consumption: 363 kWh\n",
      "Found matching appliance: Site consumption\n",
      "Site consumption is total site consumption (average values): 635496.0 kWh\n",
      "Found matching appliance: TV\n",
      "TV is flexible with annual energy consumption: 150 kWh\n",
      "Found matching appliance: Washing machine\n",
      "Washing machine is flexible with annual energy consumption: 100 kWh\n",
      "Processing sheet 2000994\n",
      "Found matching appliance: Fridge freezer\n",
      "Fridge freezer is not flexible with annual energy consumption: 296 kWh\n",
      "Found matching appliance: Fridge\n",
      "Fridge is not flexible with annual energy consumption: 346 kWh\n",
      "Found matching appliance: Microwave oven\n",
      "Microwave oven is flexible with annual energy consumption: 39 kWh\n",
      "Found matching appliance: Site consumption\n",
      "Site consumption is total site consumption (average values): 1505839.0 kWh\n",
      "Found matching appliance: TV\n",
      "TV is flexible with annual energy consumption: 150 kWh\n",
      "Found matching appliance: TV\n",
      "TV is flexible with annual energy consumption: 150 kWh\n",
      "Found matching appliance: Vertical freezer\n",
      "Vertical freezer is not flexible with annual energy consumption: 296 kWh\n",
      "Found matching appliance: Washing machine\n",
      "Washing machine is flexible with annual energy consumption: 100 kWh\n",
      "Processing sheet 2000995\n",
      "Found matching appliance: Chest freezer\n",
      "Chest freezer is not flexible with annual energy consumption: 296 kWh\n",
      "Found matching appliance: Fridge freezer\n",
      "Fridge freezer is not flexible with annual energy consumption: 296 kWh\n",
      "Found matching appliance: Fridge\n",
      "Fridge is not flexible with annual energy consumption: 346 kWh\n",
      "Found matching appliance: Microwave oven\n",
      "Microwave oven is flexible with annual energy consumption: 39 kWh\n",
      "Found matching appliance: Non halogen lamp\n",
      "Non halogen lamp is flexible with annual energy consumption: 134 kWh\n",
      "Found matching appliance: Non halogen lamp\n",
      "Non halogen lamp is flexible with annual energy consumption: 134 kWh\n",
      "Found matching appliance: Non halogen lamp\n",
      "Non halogen lamp is flexible with annual energy consumption: 134 kWh\n",
      "Found matching appliance: Site consumption\n",
      "Site consumption is total site consumption (average values): 4005725.0 kWh\n",
      "Found matching appliance: Total site light consumption\n",
      "Total site light consumption is total light consumption (average values): 443 kWh\n",
      "Found matching appliance: TV\n",
      "TV is flexible with annual energy consumption: 150 kWh\n",
      "Found matching appliance: TV\n",
      "TV is flexible with annual energy consumption: 150 kWh\n",
      "Found matching appliance: Washing machine\n",
      "Washing machine is flexible with annual energy consumption: 100 kWh\n",
      "Processing sheet 2000996\n",
      "Found matching appliance: Chest freezer\n",
      "Chest freezer is not flexible with annual energy consumption: 296 kWh\n",
      "Found matching appliance: Clothes drier\n",
      "Clothes drier is flexible with annual energy consumption: 280 kWh\n",
      "Found matching appliance: Dish washer\n",
      "Dish washer is flexible with annual energy consumption: 154 kWh\n",
      "Found matching appliance: Electric deep frier\n",
      "Electric deep frier is flexible with annual energy consumption: 159 kWh\n",
      "Found matching appliance: Electric oven\n",
      "Electric oven is flexible with annual energy consumption: 146 kWh\n",
      "Found matching appliance: Fridge freezer\n",
      "Fridge freezer is not flexible with annual energy consumption: 296 kWh\n",
      "Found matching appliance: Fridge\n",
      "Fridge is not flexible with annual energy consumption: 346 kWh\n",
      "Found matching appliance: Fridge\n",
      "Fridge is not flexible with annual energy consumption: 346 kWh\n",
      "Found matching appliance: Microwave oven\n",
      "Microwave oven is flexible with annual energy consumption: 39 kWh\n",
      "Found matching appliance: Site consumption\n",
      "Site consumption is total site consumption (average values): 3879198.0 kWh\n",
      "Found matching appliance: TV\n",
      "TV is flexible with annual energy consumption: 150 kWh\n",
      "Found matching appliance: TV\n",
      "TV is flexible with annual energy consumption: 150 kWh\n",
      "Found matching appliance: TV\n",
      "TV is flexible with annual energy consumption: 150 kWh\n",
      "Found matching appliance: Washing machine\n",
      "Washing machine is flexible with annual energy consumption: 100 kWh\n"
     ]
    },
    {
     "data": {
      "application/vnd.plotly.v1+json": {
       "config": {
        "plotlyServerURL": "https://plot.ly"
       },
       "data": [
        {
         "marker": {
          "color": "blue"
         },
         "name": "Total Consumption",
         "type": "bar",
         "x": [
          "2000957",
          "2000905",
          "2000973",
          "2000994",
          "2000958",
          "2000992",
          "2000986",
          "2000965",
          "2000963",
          "2000918",
          "2000950",
          "2000941",
          "2000912",
          "2000951",
          "2000976",
          "2000979",
          "2000960",
          "2000906",
          "2000910",
          "2000913",
          "2000942",
          "2000961",
          "2000929",
          "2000923",
          "2000988",
          "2000930",
          "2000925",
          "2000995",
          "2000931",
          "2000985",
          "2000989",
          "2000939",
          "2000911",
          "2000927",
          "2000901",
          "2000932",
          "2000993",
          "2000946",
          "2000970",
          "2000917",
          "2000908",
          "2000916",
          "2000940",
          "2000926",
          "2000935",
          "2000949",
          "2000966",
          "2000903",
          "2000980",
          "2000943",
          "2000922",
          "2000964",
          "2000996",
          "2000947",
          "2000972",
          "2000984",
          "2000952",
          "2000991",
          "2000900",
          "2000955",
          "2000907",
          "2000981",
          "2000962",
          "2000956",
          "2000987",
          "2000904",
          "2000969",
          "2000971",
          "2000954",
          "2000990",
          "2000959",
          "2000975",
          "2000909",
          "2000921",
          "2000945",
          "2000944",
          "2000968",
          "2000953",
          "2000936",
          "2000934",
          "2000967",
          "2000982",
          "2000938",
          "2000928",
          "2000978",
          "2000914",
          "2000974",
          "2000983",
          "2000948",
          "2000915"
         ],
         "y": [
          2509.275,
          2644.347,
          3484.451,
          1505.839,
          1941.833,
          3315.212,
          2266.623,
          5326.945,
          3107.273,
          1821.784,
          11687.4,
          2955.401,
          7715.054,
          6187.993,
          3028.419,
          2884.031,
          4242.704,
          3356.984,
          2289.067,
          2739.13,
          3360.559,
          5417.75,
          2161.937,
          2055.771,
          3653.331,
          6194.527,
          3409.214,
          4005.725,
          4176.841,
          3302.312,
          5654.372,
          4764.709,
          1743.784,
          4378.215,
          4661.35,
          2744.192,
          635.496,
          2595.789,
          3569.341,
          3398.101,
          3480.698,
          3260.412,
          6743.198,
          5003.568,
          2453.96,
          4012.132,
          4332.815,
          4408.269,
          6101.826,
          3787.707,
          2992.618,
          4969.766,
          3879.198,
          8138.546,
          2764.521,
          4085.647,
          5682.121,
          4520.472,
          5433.955,
          6043.037,
          6148.312,
          5200.652,
          9177.521,
          3488.753,
          10002.391,
          10185.746,
          9482.164,
          10382.544,
          17123.52,
          5384.846,
          8733.522,
          4371.705,
          9416.947,
          8081.341,
          10088.333,
          13273.114,
          3104.098,
          14698.261,
          5567.328,
          11938.424,
          9535.769,
          8424.373,
          14115.087,
          9234.631,
          8289.785,
          13151.874,
          7056.712,
          4054.982,
          11091.206,
          12067.459
         ]
        },
        {
         "marker": {
          "color": [
           "red",
           "red",
           "red",
           "red",
           "red",
           "red",
           "red",
           "red",
           "red",
           "red",
           "red",
           "red",
           "red",
           "red",
           "red",
           "red",
           "red",
           "red",
           "red",
           "red",
           "red",
           "red",
           "red",
           "red",
           "red",
           "red",
           "red",
           "red",
           "red",
           "red",
           "yellow",
           "yellow",
           "yellow",
           "yellow",
           "yellow",
           "yellow",
           "yellow",
           "yellow",
           "yellow",
           "yellow",
           "yellow",
           "yellow",
           "yellow",
           "yellow",
           "yellow",
           "yellow",
           "yellow",
           "yellow",
           "yellow",
           "yellow",
           "yellow",
           "yellow",
           "yellow",
           "yellow",
           "yellow",
           "yellow",
           "yellow",
           "yellow",
           "yellow",
           "green",
           "green",
           "green",
           "green",
           "green",
           "green",
           "green",
           "green",
           "green",
           "green",
           "green",
           "green",
           "green",
           "green",
           "green",
           "green",
           "green",
           "green",
           "green",
           "green",
           "green",
           "green",
           "green",
           "green",
           "green",
           "green",
           "green",
           "green",
           "green",
           "green",
           "green"
          ]
         },
         "name": "Flexible Consumption",
         "opacity": 0.5,
         "type": "bar",
         "x": [
          "2000957",
          "2000905",
          "2000973",
          "2000994",
          "2000958",
          "2000992",
          "2000986",
          "2000965",
          "2000963",
          "2000918",
          "2000950",
          "2000941",
          "2000912",
          "2000951",
          "2000976",
          "2000979",
          "2000960",
          "2000906",
          "2000910",
          "2000913",
          "2000942",
          "2000961",
          "2000929",
          "2000923",
          "2000988",
          "2000930",
          "2000925",
          "2000995",
          "2000931",
          "2000985",
          "2000989",
          "2000939",
          "2000911",
          "2000927",
          "2000901",
          "2000932",
          "2000993",
          "2000946",
          "2000970",
          "2000917",
          "2000908",
          "2000916",
          "2000940",
          "2000926",
          "2000935",
          "2000949",
          "2000966",
          "2000903",
          "2000980",
          "2000943",
          "2000922",
          "2000964",
          "2000996",
          "2000947",
          "2000972",
          "2000984",
          "2000952",
          "2000991",
          "2000900",
          "2000955",
          "2000907",
          "2000981",
          "2000962",
          "2000956",
          "2000987",
          "2000904",
          "2000969",
          "2000971",
          "2000954",
          "2000990",
          "2000959",
          "2000975",
          "2000909",
          "2000921",
          "2000945",
          "2000944",
          "2000968",
          "2000953",
          "2000936",
          "2000934",
          "2000967",
          "2000982",
          "2000938",
          "2000928",
          "2000978",
          "2000914",
          "2000974",
          "2000983",
          "2000948",
          "2000915"
         ],
         "y": [
          289,
          423,
          435,
          439,
          439,
          469,
          487,
          514,
          518,
          582,
          593,
          602,
          677,
          700,
          707,
          709,
          719,
          732,
          736,
          786,
          786,
          790,
          808,
          811,
          825,
          834,
          841,
          841,
          853,
          870,
          873,
          892,
          945,
          983,
          991,
          1000,
          1004,
          1012,
          1014,
          1020,
          1028,
          1048,
          1059,
          1070,
          1098,
          1098,
          1114,
          1153,
          1166,
          1216,
          1274,
          1288,
          1328,
          1328,
          1395,
          1422,
          1532,
          1969,
          2030,
          2072,
          2249,
          2269,
          2529,
          2529,
          2554,
          2617,
          2682,
          2764,
          3796,
          3809,
          3965,
          3978,
          3978,
          3994,
          3994,
          4064,
          4190,
          4218,
          4230,
          4249,
          4285,
          4375,
          4389,
          4428,
          4490,
          4562,
          5326,
          6193,
          6608,
          12854
         ]
        }
       ],
       "layout": {
        "barmode": "overlay",
        "height": 800,
        "margin": {
         "b": 200,
         "l": 100,
         "r": 100,
         "t": 100
        },
        "template": {
         "data": {
          "bar": [
           {
            "error_x": {
             "color": "#2a3f5f"
            },
            "error_y": {
             "color": "#2a3f5f"
            },
            "marker": {
             "line": {
              "color": "#E5ECF6",
              "width": 0.5
             },
             "pattern": {
              "fillmode": "overlay",
              "size": 10,
              "solidity": 0.2
             }
            },
            "type": "bar"
           }
          ],
          "barpolar": [
           {
            "marker": {
             "line": {
              "color": "#E5ECF6",
              "width": 0.5
             },
             "pattern": {
              "fillmode": "overlay",
              "size": 10,
              "solidity": 0.2
             }
            },
            "type": "barpolar"
           }
          ],
          "carpet": [
           {
            "aaxis": {
             "endlinecolor": "#2a3f5f",
             "gridcolor": "white",
             "linecolor": "white",
             "minorgridcolor": "white",
             "startlinecolor": "#2a3f5f"
            },
            "baxis": {
             "endlinecolor": "#2a3f5f",
             "gridcolor": "white",
             "linecolor": "white",
             "minorgridcolor": "white",
             "startlinecolor": "#2a3f5f"
            },
            "type": "carpet"
           }
          ],
          "choropleth": [
           {
            "colorbar": {
             "outlinewidth": 0,
             "ticks": ""
            },
            "type": "choropleth"
           }
          ],
          "contour": [
           {
            "colorbar": {
             "outlinewidth": 0,
             "ticks": ""
            },
            "colorscale": [
             [
              0,
              "#0d0887"
             ],
             [
              0.1111111111111111,
              "#46039f"
             ],
             [
              0.2222222222222222,
              "#7201a8"
             ],
             [
              0.3333333333333333,
              "#9c179e"
             ],
             [
              0.4444444444444444,
              "#bd3786"
             ],
             [
              0.5555555555555556,
              "#d8576b"
             ],
             [
              0.6666666666666666,
              "#ed7953"
             ],
             [
              0.7777777777777778,
              "#fb9f3a"
             ],
             [
              0.8888888888888888,
              "#fdca26"
             ],
             [
              1,
              "#f0f921"
             ]
            ],
            "type": "contour"
           }
          ],
          "contourcarpet": [
           {
            "colorbar": {
             "outlinewidth": 0,
             "ticks": ""
            },
            "type": "contourcarpet"
           }
          ],
          "heatmap": [
           {
            "colorbar": {
             "outlinewidth": 0,
             "ticks": ""
            },
            "colorscale": [
             [
              0,
              "#0d0887"
             ],
             [
              0.1111111111111111,
              "#46039f"
             ],
             [
              0.2222222222222222,
              "#7201a8"
             ],
             [
              0.3333333333333333,
              "#9c179e"
             ],
             [
              0.4444444444444444,
              "#bd3786"
             ],
             [
              0.5555555555555556,
              "#d8576b"
             ],
             [
              0.6666666666666666,
              "#ed7953"
             ],
             [
              0.7777777777777778,
              "#fb9f3a"
             ],
             [
              0.8888888888888888,
              "#fdca26"
             ],
             [
              1,
              "#f0f921"
             ]
            ],
            "type": "heatmap"
           }
          ],
          "heatmapgl": [
           {
            "colorbar": {
             "outlinewidth": 0,
             "ticks": ""
            },
            "colorscale": [
             [
              0,
              "#0d0887"
             ],
             [
              0.1111111111111111,
              "#46039f"
             ],
             [
              0.2222222222222222,
              "#7201a8"
             ],
             [
              0.3333333333333333,
              "#9c179e"
             ],
             [
              0.4444444444444444,
              "#bd3786"
             ],
             [
              0.5555555555555556,
              "#d8576b"
             ],
             [
              0.6666666666666666,
              "#ed7953"
             ],
             [
              0.7777777777777778,
              "#fb9f3a"
             ],
             [
              0.8888888888888888,
              "#fdca26"
             ],
             [
              1,
              "#f0f921"
             ]
            ],
            "type": "heatmapgl"
           }
          ],
          "histogram": [
           {
            "marker": {
             "pattern": {
              "fillmode": "overlay",
              "size": 10,
              "solidity": 0.2
             }
            },
            "type": "histogram"
           }
          ],
          "histogram2d": [
           {
            "colorbar": {
             "outlinewidth": 0,
             "ticks": ""
            },
            "colorscale": [
             [
              0,
              "#0d0887"
             ],
             [
              0.1111111111111111,
              "#46039f"
             ],
             [
              0.2222222222222222,
              "#7201a8"
             ],
             [
              0.3333333333333333,
              "#9c179e"
             ],
             [
              0.4444444444444444,
              "#bd3786"
             ],
             [
              0.5555555555555556,
              "#d8576b"
             ],
             [
              0.6666666666666666,
              "#ed7953"
             ],
             [
              0.7777777777777778,
              "#fb9f3a"
             ],
             [
              0.8888888888888888,
              "#fdca26"
             ],
             [
              1,
              "#f0f921"
             ]
            ],
            "type": "histogram2d"
           }
          ],
          "histogram2dcontour": [
           {
            "colorbar": {
             "outlinewidth": 0,
             "ticks": ""
            },
            "colorscale": [
             [
              0,
              "#0d0887"
             ],
             [
              0.1111111111111111,
              "#46039f"
             ],
             [
              0.2222222222222222,
              "#7201a8"
             ],
             [
              0.3333333333333333,
              "#9c179e"
             ],
             [
              0.4444444444444444,
              "#bd3786"
             ],
             [
              0.5555555555555556,
              "#d8576b"
             ],
             [
              0.6666666666666666,
              "#ed7953"
             ],
             [
              0.7777777777777778,
              "#fb9f3a"
             ],
             [
              0.8888888888888888,
              "#fdca26"
             ],
             [
              1,
              "#f0f921"
             ]
            ],
            "type": "histogram2dcontour"
           }
          ],
          "mesh3d": [
           {
            "colorbar": {
             "outlinewidth": 0,
             "ticks": ""
            },
            "type": "mesh3d"
           }
          ],
          "parcoords": [
           {
            "line": {
             "colorbar": {
              "outlinewidth": 0,
              "ticks": ""
             }
            },
            "type": "parcoords"
           }
          ],
          "pie": [
           {
            "automargin": true,
            "type": "pie"
           }
          ],
          "scatter": [
           {
            "fillpattern": {
             "fillmode": "overlay",
             "size": 10,
             "solidity": 0.2
            },
            "type": "scatter"
           }
          ],
          "scatter3d": [
           {
            "line": {
             "colorbar": {
              "outlinewidth": 0,
              "ticks": ""
             }
            },
            "marker": {
             "colorbar": {
              "outlinewidth": 0,
              "ticks": ""
             }
            },
            "type": "scatter3d"
           }
          ],
          "scattercarpet": [
           {
            "marker": {
             "colorbar": {
              "outlinewidth": 0,
              "ticks": ""
             }
            },
            "type": "scattercarpet"
           }
          ],
          "scattergeo": [
           {
            "marker": {
             "colorbar": {
              "outlinewidth": 0,
              "ticks": ""
             }
            },
            "type": "scattergeo"
           }
          ],
          "scattergl": [
           {
            "marker": {
             "colorbar": {
              "outlinewidth": 0,
              "ticks": ""
             }
            },
            "type": "scattergl"
           }
          ],
          "scattermapbox": [
           {
            "marker": {
             "colorbar": {
              "outlinewidth": 0,
              "ticks": ""
             }
            },
            "type": "scattermapbox"
           }
          ],
          "scatterpolar": [
           {
            "marker": {
             "colorbar": {
              "outlinewidth": 0,
              "ticks": ""
             }
            },
            "type": "scatterpolar"
           }
          ],
          "scatterpolargl": [
           {
            "marker": {
             "colorbar": {
              "outlinewidth": 0,
              "ticks": ""
             }
            },
            "type": "scatterpolargl"
           }
          ],
          "scatterternary": [
           {
            "marker": {
             "colorbar": {
              "outlinewidth": 0,
              "ticks": ""
             }
            },
            "type": "scatterternary"
           }
          ],
          "surface": [
           {
            "colorbar": {
             "outlinewidth": 0,
             "ticks": ""
            },
            "colorscale": [
             [
              0,
              "#0d0887"
             ],
             [
              0.1111111111111111,
              "#46039f"
             ],
             [
              0.2222222222222222,
              "#7201a8"
             ],
             [
              0.3333333333333333,
              "#9c179e"
             ],
             [
              0.4444444444444444,
              "#bd3786"
             ],
             [
              0.5555555555555556,
              "#d8576b"
             ],
             [
              0.6666666666666666,
              "#ed7953"
             ],
             [
              0.7777777777777778,
              "#fb9f3a"
             ],
             [
              0.8888888888888888,
              "#fdca26"
             ],
             [
              1,
              "#f0f921"
             ]
            ],
            "type": "surface"
           }
          ],
          "table": [
           {
            "cells": {
             "fill": {
              "color": "#EBF0F8"
             },
             "line": {
              "color": "white"
             }
            },
            "header": {
             "fill": {
              "color": "#C8D4E3"
             },
             "line": {
              "color": "white"
             }
            },
            "type": "table"
           }
          ]
         },
         "layout": {
          "annotationdefaults": {
           "arrowcolor": "#2a3f5f",
           "arrowhead": 0,
           "arrowwidth": 1
          },
          "autotypenumbers": "strict",
          "coloraxis": {
           "colorbar": {
            "outlinewidth": 0,
            "ticks": ""
           }
          },
          "colorscale": {
           "diverging": [
            [
             0,
             "#8e0152"
            ],
            [
             0.1,
             "#c51b7d"
            ],
            [
             0.2,
             "#de77ae"
            ],
            [
             0.3,
             "#f1b6da"
            ],
            [
             0.4,
             "#fde0ef"
            ],
            [
             0.5,
             "#f7f7f7"
            ],
            [
             0.6,
             "#e6f5d0"
            ],
            [
             0.7,
             "#b8e186"
            ],
            [
             0.8,
             "#7fbc41"
            ],
            [
             0.9,
             "#4d9221"
            ],
            [
             1,
             "#276419"
            ]
           ],
           "sequential": [
            [
             0,
             "#0d0887"
            ],
            [
             0.1111111111111111,
             "#46039f"
            ],
            [
             0.2222222222222222,
             "#7201a8"
            ],
            [
             0.3333333333333333,
             "#9c179e"
            ],
            [
             0.4444444444444444,
             "#bd3786"
            ],
            [
             0.5555555555555556,
             "#d8576b"
            ],
            [
             0.6666666666666666,
             "#ed7953"
            ],
            [
             0.7777777777777778,
             "#fb9f3a"
            ],
            [
             0.8888888888888888,
             "#fdca26"
            ],
            [
             1,
             "#f0f921"
            ]
           ],
           "sequentialminus": [
            [
             0,
             "#0d0887"
            ],
            [
             0.1111111111111111,
             "#46039f"
            ],
            [
             0.2222222222222222,
             "#7201a8"
            ],
            [
             0.3333333333333333,
             "#9c179e"
            ],
            [
             0.4444444444444444,
             "#bd3786"
            ],
            [
             0.5555555555555556,
             "#d8576b"
            ],
            [
             0.6666666666666666,
             "#ed7953"
            ],
            [
             0.7777777777777778,
             "#fb9f3a"
            ],
            [
             0.8888888888888888,
             "#fdca26"
            ],
            [
             1,
             "#f0f921"
            ]
           ]
          },
          "colorway": [
           "#636efa",
           "#EF553B",
           "#00cc96",
           "#ab63fa",
           "#FFA15A",
           "#19d3f3",
           "#FF6692",
           "#B6E880",
           "#FF97FF",
           "#FECB52"
          ],
          "font": {
           "color": "#2a3f5f"
          },
          "geo": {
           "bgcolor": "white",
           "lakecolor": "white",
           "landcolor": "#E5ECF6",
           "showlakes": true,
           "showland": true,
           "subunitcolor": "white"
          },
          "hoverlabel": {
           "align": "left"
          },
          "hovermode": "closest",
          "mapbox": {
           "style": "light"
          },
          "paper_bgcolor": "white",
          "plot_bgcolor": "#E5ECF6",
          "polar": {
           "angularaxis": {
            "gridcolor": "white",
            "linecolor": "white",
            "ticks": ""
           },
           "bgcolor": "#E5ECF6",
           "radialaxis": {
            "gridcolor": "white",
            "linecolor": "white",
            "ticks": ""
           }
          },
          "scene": {
           "xaxis": {
            "backgroundcolor": "#E5ECF6",
            "gridcolor": "white",
            "gridwidth": 2,
            "linecolor": "white",
            "showbackground": true,
            "ticks": "",
            "zerolinecolor": "white"
           },
           "yaxis": {
            "backgroundcolor": "#E5ECF6",
            "gridcolor": "white",
            "gridwidth": 2,
            "linecolor": "white",
            "showbackground": true,
            "ticks": "",
            "zerolinecolor": "white"
           },
           "zaxis": {
            "backgroundcolor": "#E5ECF6",
            "gridcolor": "white",
            "gridwidth": 2,
            "linecolor": "white",
            "showbackground": true,
            "ticks": "",
            "zerolinecolor": "white"
           }
          },
          "shapedefaults": {
           "line": {
            "color": "#2a3f5f"
           }
          },
          "ternary": {
           "aaxis": {
            "gridcolor": "white",
            "linecolor": "white",
            "ticks": ""
           },
           "baxis": {
            "gridcolor": "white",
            "linecolor": "white",
            "ticks": ""
           },
           "bgcolor": "#E5ECF6",
           "caxis": {
            "gridcolor": "white",
            "linecolor": "white",
            "ticks": ""
           }
          },
          "title": {
           "x": 0.05
          },
          "xaxis": {
           "automargin": true,
           "gridcolor": "white",
           "linecolor": "white",
           "ticks": "",
           "title": {
            "standoff": 15
           },
           "zerolinecolor": "white",
           "zerolinewidth": 2
          },
          "yaxis": {
           "automargin": true,
           "gridcolor": "white",
           "linecolor": "white",
           "ticks": "",
           "title": {
            "standoff": 15
           },
           "zerolinecolor": "white",
           "zerolinewidth": 2
          }
         }
        },
        "title": {
         "text": "Total Energy Consumption vs. Flexible Consumption"
        },
        "width": 2000,
        "xaxis": {
         "tickangle": -45,
         "title": {
          "text": "House ID"
         }
        },
        "yaxis": {
         "range": [
          0,
          25000
         ],
         "tickformat": ",.0f",
         "title": {
          "text": "Energy Consumption (kWh)"
         }
        }
       }
      }
     },
     "metadata": {},
     "output_type": "display_data"
    }
   ],
   "source": [
    "import pandas as pd\n",
    "import plotly.graph_objs as go\n",
    "\n",
    "# Load the Excel file with the correct sheet name\n",
    "excel_file = pd.ExcelFile(r'D:\\Grenoble_university\\6_month_internship\\working space\\data\\combined_1_year_data_with_flexibility.xlsx')\n",
    "\n",
    "# Load the appliances data\n",
    "appliances_file_path = r'D:\\Grenoble_university\\6_month_internship\\working space\\data\\column_titles_with add info.xlsx'\n",
    "appliances_df = pd.read_excel(appliances_file_path)\n",
    "\n",
    "# Define houses to be excluded\n",
    "excluded_houses = {'2000902', '2000920', '2000919', '2000924', '2000933', '2000937', '2000977'}\n",
    "\n",
    "# Initialize dictionaries to store total and flexible energy consumption\n",
    "total_consumption = {}\n",
    "flexible_consumption = {}\n",
    "total_site_consumption = {}\n",
    "Total_light_consumption = {}\n",
    "\n",
    "# Iterate over each sheet from 2000900 to 2000997\n",
    "for sheet_number in range(2000900, 2000997):\n",
    "    sheet_name = str(sheet_number)\n",
    "    if sheet_name in excel_file.sheet_names and sheet_name not in excluded_houses:\n",
    "        print(f\"Processing sheet {sheet_name}\")\n",
    "        # Read the sheet\n",
    "        df = pd.read_excel(excel_file, sheet_name=sheet_name)\n",
    "        \n",
    "        # Initialize dictionaries for this sheet\n",
    "        total_consumption[sheet_name] = 0\n",
    "        flexible_consumption[sheet_name] = 0\n",
    "        total_site_consumption[sheet_name] = 0\n",
    "        Total_light_consumption[sheet_name] = 0\n",
    "        \n",
    "        # Iterate over columns and check if appliance names match\n",
    "        for column in df.columns:\n",
    "            for index, appliance in appliances_df.iterrows():\n",
    "                # Extract substring before \"(\" symbol for comparison\n",
    "                appliance_name = appliance['Appliance']\n",
    "                if appliance_name in column:\n",
    "                    print(f\"Found matching appliance: {appliance_name}\")\n",
    "                    # Convert column data to numeric type\n",
    "                    df[column] = pd.to_numeric(df[column], errors='coerce')\n",
    "                    # Calculate annual energy consumption based on typical power\n",
    "                    Total_annual_energy = df[column].sum()  # Sum the column to get total annual energy consumption\n",
    "                    annual_energy = appliance['typical annual energy [kwh/yr]']\n",
    "                    # Categorize as flexible or not flexible based on flexibility in appliances data\n",
    "                    flexibility = appliance['Flexibility']\n",
    "                    if flexibility == 'flexible':\n",
    "                        print(f\"{appliance['Appliance']} is flexible with annual energy consumption: {annual_energy} kWh\")\n",
    "                        flexible_consumption[sheet_name] += annual_energy\n",
    "                        #total_consumption[sheet_name] += annual_energy  # Add flexible consumption to total\n",
    "                    elif flexibility == 'Uncategorized' and appliance_name == 'Site consumption':\n",
    "                        print(f\"{appliance['Appliance']} is total site consumption (average values): {Total_annual_energy} kWh\")\n",
    "                        total_site_consumption[sheet_name] += Total_annual_energy/1000\n",
    "                    elif flexibility == 'Uncategorized' and appliance_name == 'Total site light consumption':\n",
    "                        print(f\"{appliance['Appliance']} is total light consumption (average values): {annual_energy} kWh\")\n",
    "                        #Total_light_consumption[sheet_name] += annual_energy\n",
    "                    else:\n",
    "                        print(f\"{appliance['Appliance']} is not flexible with annual energy consumption: {annual_energy} kWh\")\n",
    "                        total_consumption[sheet_name] += annual_energy  # Add non-flexible consumption to total\n",
    "\n",
    "        # Add flexible consumption to total consumption\n",
    "        #total_consumption[sheet_name] += flexible_consumption[sheet_name]\n",
    "\n",
    "# Convert dictionaries to DataFrame\n",
    "data_df = pd.DataFrame({\n",
    "    'House ID': list(total_site_consumption.keys()),\n",
    "    'Total Consumption': list(total_site_consumption.values()),\n",
    "    'Flexible Consumption': list(flexible_consumption.values())\n",
    "})\n",
    "\n",
    "# Define flexibility thresholds\n",
    "high_threshold = data_df['Flexible Consumption'].quantile(0.66)\n",
    "low_threshold = data_df['Flexible Consumption'].quantile(0.33)\n",
    "\n",
    "# Categorize flexibility potential\n",
    "def categorize_flexibility(value):\n",
    "    if value >= high_threshold:\n",
    "        return 'High'\n",
    "    elif value >= low_threshold:\n",
    "        return 'Average'\n",
    "    else:\n",
    "        return 'Low'\n",
    "\n",
    "data_df['Flexibility Category'] = data_df['Flexible Consumption'].apply(categorize_flexibility)\n",
    "\n",
    "# Define colors based on flexibility categories\n",
    "color_map = {\n",
    "    'High': 'green',\n",
    "    'Average': 'yellow',\n",
    "    'Low': 'red'\n",
    "}\n",
    "\n",
    "data_df['Color'] = data_df['Flexibility Category'].map(color_map)\n",
    "\n",
    "# Sort DataFrame by Flexible Consumption\n",
    "data_df = data_df.sort_values(by='Flexible Consumption')\n",
    "\n",
    "# Create a figure\n",
    "fig = go.Figure()\n",
    "\n",
    "# Add bars for total consumption\n",
    "fig.add_trace(go.Bar(\n",
    "    x=data_df['House ID'],\n",
    "    y=data_df['Total Consumption'],\n",
    "    name='Total Consumption',\n",
    "    marker_color='blue'\n",
    "))\n",
    "\n",
    "# Add bars for flexible consumption with colors based on flexibility category\n",
    "fig.add_trace(go.Bar(\n",
    "    x=data_df['House ID'],\n",
    "    y=data_df['Flexible Consumption'],\n",
    "    name='Flexible Consumption',\n",
    "    marker=dict(color=data_df['Color']),\n",
    "    opacity=0.5\n",
    "))\n",
    "\n",
    "# Update layout\n",
    "fig.update_layout(\n",
    "    title='Total Energy Consumption vs. Flexible Consumption',\n",
    "    xaxis_title='House ID',\n",
    "    yaxis_title='Energy Consumption (kWh)',\n",
    "    yaxis=dict(\n",
    "        tickformat=',.0f',\n",
    "        range=[0, 25000]\n",
    "    ),\n",
    "    barmode='overlay',\n",
    "    xaxis_tickangle=-45,\n",
    "    width=2000,\n",
    "    height=800,\n",
    "    margin=dict(\n",
    "        l=100,\n",
    "        r=100,\n",
    "        b=200,\n",
    "        t=100\n",
    "    )\n",
    ")\n",
    "\n",
    "# Show the figure\n",
    "fig.show()\n"
   ]
  },
  {
   "cell_type": "markdown",
   "metadata": {},
   "source": [
    "Experiment 2 (total consumption is just sum of all electrical devices does not matter if it is flexible or not)"
   ]
  },
  {
   "cell_type": "code",
   "execution_count": 43,
   "metadata": {},
   "outputs": [
    {
     "name": "stdout",
     "output_type": "stream",
     "text": [
      "Processing sheet 2000900\n",
      "Found matching appliance: Fridge\n",
      "Fridge is not flexible with annual energy consumption: 346 kWh\n",
      "Found matching appliance: Halogen lamp\n",
      "Halogen lamp is flexible with annual energy consumption: 134 kWh\n",
      "Found matching appliance: Power supply for wood boiler\n",
      "Power supply for wood boiler is flexible with annual energy consumption: 120 kWh\n",
      "Found matching appliance: Site consumption\n",
      "Found matching appliance: Total site light consumption\n",
      "Found matching appliance: Vertical freezer\n",
      "Vertical freezer is not flexible with annual energy consumption: 296 kWh\n",
      "Found matching appliance: Washing machine\n",
      "Washing machine is flexible with annual energy consumption: 100 kWh\n",
      "Found matching appliance: Water heater\n",
      "Water heater is flexible with annual energy consumption: 1676 kWh\n",
      "Processing sheet 2000901\n",
      "Found matching appliance: Chest freezer\n",
      "Chest freezer is not flexible with annual energy consumption: 296 kWh\n",
      "Found matching appliance: Clothes drier\n",
      "Clothes drier is flexible with annual energy consumption: 280 kWh\n",
      "Found matching appliance: Dish washer\n",
      "Dish washer is flexible with annual energy consumption: 154 kWh\n",
      "Found matching appliance: Fridge\n",
      "Fridge is not flexible with annual energy consumption: 346 kWh\n",
      "Found matching appliance: Microwave oven\n",
      "Microwave oven is flexible with annual energy consumption: 39 kWh\n",
      "Found matching appliance: Non halogen lamp\n",
      "Non halogen lamp is flexible with annual energy consumption: 134 kWh\n",
      "Found matching appliance: Non halogen lamp\n",
      "Non halogen lamp is flexible with annual energy consumption: 134 kWh\n",
      "Found matching appliance: Site consumption\n",
      "Found matching appliance: Total site light consumption\n",
      "Found matching appliance: TV\n",
      "TV is flexible with annual energy consumption: 150 kWh\n",
      "Found matching appliance: Washing machine\n",
      "Washing machine is flexible with annual energy consumption: 100 kWh\n",
      "Processing sheet 2000903\n",
      "Found matching appliance: Chest freezer\n",
      "Chest freezer is not flexible with annual energy consumption: 296 kWh\n",
      "Found matching appliance: Dish washer\n",
      "Dish washer is flexible with annual energy consumption: 154 kWh\n",
      "Found matching appliance: Halogen lamp\n",
      "Halogen lamp is flexible with annual energy consumption: 134 kWh\n",
      "Found matching appliance: Halogen lamp\n",
      "Halogen lamp is flexible with annual energy consumption: 134 kWh\n",
      "Found matching appliance: Halogen lamp\n",
      "Halogen lamp is flexible with annual energy consumption: 134 kWh\n",
      "Found matching appliance: Halogen lamp\n",
      "Halogen lamp is flexible with annual energy consumption: 134 kWh\n",
      "Found matching appliance: Power supply for fuel boiler\n",
      "Power supply for fuel boiler is flexible with annual energy consumption: 363 kWh\n",
      "Found matching appliance: Site consumption\n",
      "Found matching appliance: Washing machine\n",
      "Washing machine is flexible with annual energy consumption: 100 kWh\n",
      "Processing sheet 2000904\n",
      "Found matching appliance: Chest freezer\n",
      "Chest freezer is not flexible with annual energy consumption: 296 kWh\n",
      "Found matching appliance: Clothes drier\n",
      "Clothes drier is flexible with annual energy consumption: 280 kWh\n",
      "Found matching appliance: Electric Cooker\n",
      "Electric Cooker is flexible with annual energy consumption: 159 kWh\n",
      "Found matching appliance: Halogen lamp\n",
      "Halogen lamp is flexible with annual energy consumption: 134 kWh\n",
      "Found matching appliance: Non halogen lamp\n",
      "Non halogen lamp is flexible with annual energy consumption: 134 kWh\n",
      "Found matching appliance: Non halogen lamp\n",
      "Non halogen lamp is flexible with annual energy consumption: 134 kWh\n",
      "Found matching appliance: Site consumption\n",
      "Found matching appliance: Total site light consumption\n",
      "Found matching appliance: Washing machine\n",
      "Washing machine is flexible with annual energy consumption: 100 kWh\n",
      "Found matching appliance: Water heater\n",
      "Water heater is flexible with annual energy consumption: 1676 kWh\n",
      "Processing sheet 2000905\n",
      "Found matching appliance: Chest freezer\n",
      "Chest freezer is not flexible with annual energy consumption: 296 kWh\n",
      "Found matching appliance: Fridge freezer\n",
      "Fridge freezer is not flexible with annual energy consumption: 296 kWh\n",
      "Found matching appliance: Fridge\n",
      "Fridge is not flexible with annual energy consumption: 346 kWh\n",
      "Found matching appliance: Halogen lamp\n",
      "Halogen lamp is flexible with annual energy consumption: 134 kWh\n",
      "Found matching appliance: Microwave oven\n",
      "Microwave oven is flexible with annual energy consumption: 39 kWh\n",
      "Found matching appliance: Site consumption\n",
      "Found matching appliance: Total site light consumption\n",
      "Found matching appliance: TV\n",
      "TV is flexible with annual energy consumption: 150 kWh\n",
      "Found matching appliance: Washing machine\n",
      "Washing machine is flexible with annual energy consumption: 100 kWh\n",
      "Processing sheet 2000906\n",
      "Found matching appliance: Electric Cooker\n",
      "Electric Cooker is flexible with annual energy consumption: 159 kWh\n",
      "Found matching appliance: Fridge freezer\n",
      "Fridge freezer is not flexible with annual energy consumption: 296 kWh\n",
      "Found matching appliance: Fridge\n",
      "Fridge is not flexible with annual energy consumption: 346 kWh\n",
      "Found matching appliance: Microwave oven\n",
      "Microwave oven is flexible with annual energy consumption: 39 kWh\n",
      "Found matching appliance: Non halogen lamp\n",
      "Non halogen lamp is flexible with annual energy consumption: 134 kWh\n",
      "Found matching appliance: Site consumption\n",
      "Found matching appliance: Total site light consumption\n",
      "Found matching appliance: TV\n",
      "TV is flexible with annual energy consumption: 150 kWh\n",
      "Found matching appliance: TV\n",
      "TV is flexible with annual energy consumption: 150 kWh\n",
      "Found matching appliance: Vertical freezer\n",
      "Vertical freezer is not flexible with annual energy consumption: 296 kWh\n",
      "Found matching appliance: Washing machine\n",
      "Washing machine is flexible with annual energy consumption: 100 kWh\n",
      "Processing sheet 2000907\n",
      "Found matching appliance: Clothes drier\n",
      "Clothes drier is flexible with annual energy consumption: 280 kWh\n",
      "Found matching appliance: Dish washer\n",
      "Dish washer is flexible with annual energy consumption: 154 kWh\n",
      "Found matching appliance: Microwave oven\n",
      "Microwave oven is flexible with annual energy consumption: 39 kWh\n",
      "Found matching appliance: Site consumption\n",
      "Found matching appliance: Total site light consumption\n",
      "Found matching appliance: Washing machine\n",
      "Washing machine is flexible with annual energy consumption: 100 kWh\n",
      "Found matching appliance: Water heater\n",
      "Water heater is flexible with annual energy consumption: 1676 kWh\n",
      "Processing sheet 2000908\n",
      "Found matching appliance: Clothes drier\n",
      "Clothes drier is flexible with annual energy consumption: 280 kWh\n",
      "Found matching appliance: Dish washer\n",
      "Dish washer is flexible with annual energy consumption: 154 kWh\n",
      "Found matching appliance: Electric oven\n",
      "Electric oven is flexible with annual energy consumption: 146 kWh\n",
      "Found matching appliance: Fridge freezer\n",
      "Fridge freezer is not flexible with annual energy consumption: 296 kWh\n",
      "Found matching appliance: Fridge\n",
      "Fridge is not flexible with annual energy consumption: 346 kWh\n",
      "Found matching appliance: Hot plate\n",
      "Hot plate is flexible with annual energy consumption: 159 kWh\n",
      "Found matching appliance: Microwave oven\n",
      "Microwave oven is flexible with annual energy consumption: 39 kWh\n",
      "Found matching appliance: Site consumption\n",
      "Found matching appliance: Total site light consumption\n",
      "Found matching appliance: TV\n",
      "TV is flexible with annual energy consumption: 150 kWh\n",
      "Found matching appliance: Vertical freezer\n",
      "Vertical freezer is not flexible with annual energy consumption: 296 kWh\n",
      "Found matching appliance: Washing machine\n",
      "Washing machine is flexible with annual energy consumption: 100 kWh\n",
      "Processing sheet 2000909\n",
      "Found matching appliance: Electric Cooker\n",
      "Electric Cooker is flexible with annual energy consumption: 159 kWh\n",
      "Found matching appliance: Electric heating\n",
      "Electric heating is flexible with annual energy consumption: 1720 kWh\n",
      "Found matching appliance: Fridge freezer\n",
      "Fridge freezer is not flexible with annual energy consumption: 296 kWh\n",
      "Found matching appliance: Fridge\n",
      "Fridge is not flexible with annual energy consumption: 346 kWh\n",
      "Found matching appliance: Halogen lamp\n",
      "Halogen lamp is flexible with annual energy consumption: 134 kWh\n",
      "Found matching appliance: Microwave oven\n",
      "Microwave oven is flexible with annual energy consumption: 39 kWh\n",
      "Found matching appliance: Site consumption\n",
      "Found matching appliance: Total site light consumption\n",
      "Found matching appliance: TV\n",
      "TV is flexible with annual energy consumption: 150 kWh\n",
      "Found matching appliance: Washing machine\n",
      "Washing machine is flexible with annual energy consumption: 100 kWh\n",
      "Found matching appliance: Water heater\n",
      "Water heater is flexible with annual energy consumption: 1676 kWh\n",
      "Processing sheet 2000910\n",
      "Found matching appliance: Dish washer\n",
      "Dish washer is flexible with annual energy consumption: 154 kWh\n",
      "Found matching appliance: Electric Cooker\n",
      "Electric Cooker is flexible with annual energy consumption: 159 kWh\n",
      "Found matching appliance: Fridge freezer\n",
      "Fridge freezer is not flexible with annual energy consumption: 296 kWh\n",
      "Found matching appliance: Fridge\n",
      "Fridge is not flexible with annual energy consumption: 346 kWh\n",
      "Found matching appliance: Halogen lamp\n",
      "Halogen lamp is flexible with annual energy consumption: 134 kWh\n",
      "Found matching appliance: Microwave oven\n",
      "Microwave oven is flexible with annual energy consumption: 39 kWh\n",
      "Found matching appliance: Site consumption\n",
      "Found matching appliance: Total site light consumption\n",
      "Found matching appliance: TV\n",
      "TV is flexible with annual energy consumption: 150 kWh\n",
      "Found matching appliance: Vertical freezer\n",
      "Vertical freezer is not flexible with annual energy consumption: 296 kWh\n",
      "Found matching appliance: Washing machine\n",
      "Washing machine is flexible with annual energy consumption: 100 kWh\n",
      "Processing sheet 2000911\n",
      "Found matching appliance: Electric Cooker\n",
      "Electric Cooker is flexible with annual energy consumption: 159 kWh\n",
      "Found matching appliance: Fridge freezer\n",
      "Fridge freezer is not flexible with annual energy consumption: 296 kWh\n",
      "Found matching appliance: Fridge\n",
      "Fridge is not flexible with annual energy consumption: 346 kWh\n",
      "Found matching appliance: Non halogen lamp\n",
      "Non halogen lamp is flexible with annual energy consumption: 134 kWh\n",
      "Found matching appliance: Non halogen lamp\n",
      "Non halogen lamp is flexible with annual energy consumption: 134 kWh\n",
      "Found matching appliance: Non halogen lamp\n",
      "Non halogen lamp is flexible with annual energy consumption: 134 kWh\n",
      "Found matching appliance: Non halogen lamp\n",
      "Non halogen lamp is flexible with annual energy consumption: 134 kWh\n",
      "Found matching appliance: Site consumption\n",
      "Found matching appliance: Total site light consumption\n",
      "Found matching appliance: TV\n",
      "TV is flexible with annual energy consumption: 150 kWh\n",
      "Found matching appliance: Washing machine\n",
      "Washing machine is flexible with annual energy consumption: 100 kWh\n",
      "Processing sheet 2000912\n",
      "Found matching appliance: Electric Cooker\n",
      "Electric Cooker is flexible with annual energy consumption: 159 kWh\n",
      "Found matching appliance: Fridge freezer\n",
      "Fridge freezer is not flexible with annual energy consumption: 296 kWh\n",
      "Found matching appliance: Fridge\n",
      "Fridge is not flexible with annual energy consumption: 346 kWh\n",
      "Found matching appliance: Non halogen lamp\n",
      "Non halogen lamp is flexible with annual energy consumption: 134 kWh\n",
      "Found matching appliance: Non halogen lamp\n",
      "Non halogen lamp is flexible with annual energy consumption: 134 kWh\n",
      "Found matching appliance: Site consumption\n",
      "Found matching appliance: Total site light consumption\n",
      "Found matching appliance: TV\n",
      "TV is flexible with annual energy consumption: 150 kWh\n",
      "Found matching appliance: Vertical freezer\n",
      "Vertical freezer is not flexible with annual energy consumption: 296 kWh\n",
      "Found matching appliance: Washing machine\n",
      "Washing machine is flexible with annual energy consumption: 100 kWh\n",
      "Processing sheet 2000913\n",
      "Found matching appliance: Fridge freezer\n",
      "Fridge freezer is not flexible with annual energy consumption: 296 kWh\n",
      "Found matching appliance: Fridge\n",
      "Fridge is not flexible with annual energy consumption: 346 kWh\n",
      "Found matching appliance: Halogen lamp\n",
      "Halogen lamp is flexible with annual energy consumption: 134 kWh\n",
      "Found matching appliance: Microwave oven\n",
      "Microwave oven is flexible with annual energy consumption: 39 kWh\n",
      "Found matching appliance: Power supply for fuel boiler\n",
      "Power supply for fuel boiler is flexible with annual energy consumption: 363 kWh\n",
      "Found matching appliance: Site consumption\n",
      "Found matching appliance: Total site light consumption\n",
      "Found matching appliance: TV\n",
      "TV is flexible with annual energy consumption: 150 kWh\n",
      "Found matching appliance: Washing machine\n",
      "Washing machine is flexible with annual energy consumption: 100 kWh\n",
      "Processing sheet 2000914\n",
      "Found matching appliance: Clothes drier\n",
      "Clothes drier is flexible with annual energy consumption: 280 kWh\n",
      "Found matching appliance: Dish washer\n",
      "Dish washer is flexible with annual energy consumption: 154 kWh\n",
      "Found matching appliance: Electric Cooker\n",
      "Electric Cooker is flexible with annual energy consumption: 159 kWh\n",
      "Found matching appliance: Electric heating\n",
      "Electric heating is flexible with annual energy consumption: 1720 kWh\n",
      "Found matching appliance: Fridge\n",
      "Fridge is not flexible with annual energy consumption: 346 kWh\n",
      "Found matching appliance: Halogen lamp\n",
      "Halogen lamp is flexible with annual energy consumption: 134 kWh\n",
      "Found matching appliance: Microwave oven\n",
      "Microwave oven is flexible with annual energy consumption: 39 kWh\n",
      "Found matching appliance: Site consumption\n",
      "Found matching appliance: Total site light consumption\n",
      "Found matching appliance: TV\n",
      "TV is flexible with annual energy consumption: 150 kWh\n",
      "Found matching appliance: TV\n",
      "TV is flexible with annual energy consumption: 150 kWh\n",
      "Found matching appliance: Vertical freezer\n",
      "Vertical freezer is not flexible with annual energy consumption: 296 kWh\n",
      "Found matching appliance: Washing machine\n",
      "Washing machine is flexible with annual energy consumption: 100 kWh\n",
      "Found matching appliance: Water heater\n",
      "Water heater is flexible with annual energy consumption: 1676 kWh\n",
      "Processing sheet 2000915\n",
      "Found matching appliance: Chest freezer\n",
      "Chest freezer is not flexible with annual energy consumption: 296 kWh\n",
      "Found matching appliance: Clothes drier\n",
      "Clothes drier is flexible with annual energy consumption: 280 kWh\n",
      "Found matching appliance: Electric Cooker\n",
      "Electric Cooker is flexible with annual energy consumption: 159 kWh\n",
      "Found matching appliance: Heat pump\n",
      "Heat pump is flexible with annual energy consumption: 4000 kWh\n",
      "Found matching appliance: Heat pump water heater\n",
      "Heat pump water heater is flexible with annual energy consumption: 2300 kWh\n",
      "Found matching appliance: Heat pump\n",
      "Heat pump is flexible with annual energy consumption: 4000 kWh\n",
      "Found matching appliance: Microwave oven\n",
      "Microwave oven is flexible with annual energy consumption: 39 kWh\n",
      "Found matching appliance: Site consumption\n",
      "Found matching appliance: Total site light consumption\n",
      "Found matching appliance: TV\n",
      "TV is flexible with annual energy consumption: 150 kWh\n",
      "Found matching appliance: TV\n",
      "TV is flexible with annual energy consumption: 150 kWh\n",
      "Found matching appliance: Washing machine\n",
      "Washing machine is flexible with annual energy consumption: 100 kWh\n",
      "Found matching appliance: Water heater\n",
      "Water heater is flexible with annual energy consumption: 1676 kWh\n",
      "Processing sheet 2000916\n",
      "Found matching appliance: Chest freezer\n",
      "Chest freezer is not flexible with annual energy consumption: 296 kWh\n",
      "Found matching appliance: Dish washer\n",
      "Dish washer is flexible with annual energy consumption: 154 kWh\n",
      "Found matching appliance: Electric oven\n",
      "Electric oven is flexible with annual energy consumption: 146 kWh\n",
      "Found matching appliance: Hot plate\n",
      "Hot plate is flexible with annual energy consumption: 159 kWh\n",
      "Found matching appliance: Microwave oven\n",
      "Microwave oven is flexible with annual energy consumption: 39 kWh\n",
      "Found matching appliance: Site consumption\n",
      "Found matching appliance: Total site light consumption\n",
      "Found matching appliance: TV\n",
      "TV is flexible with annual energy consumption: 150 kWh\n",
      "Found matching appliance: TV\n",
      "TV is flexible with annual energy consumption: 150 kWh\n",
      "Found matching appliance: TV\n",
      "TV is flexible with annual energy consumption: 150 kWh\n",
      "Found matching appliance: Washing machine\n",
      "Washing machine is flexible with annual energy consumption: 100 kWh\n",
      "Processing sheet 2000917\n",
      "Found matching appliance: Dish washer\n",
      "Dish washer is flexible with annual energy consumption: 154 kWh\n",
      "Found matching appliance: Electric Cooker\n",
      "Electric Cooker is flexible with annual energy consumption: 159 kWh\n",
      "Found matching appliance: Fridge\n",
      "Fridge is not flexible with annual energy consumption: 346 kWh\n",
      "Found matching appliance: Microwave oven\n",
      "Microwave oven is flexible with annual energy consumption: 39 kWh\n",
      "Found matching appliance: Non halogen lamp\n",
      "Non halogen lamp is flexible with annual energy consumption: 134 kWh\n",
      "Found matching appliance: Non halogen lamp\n",
      "Non halogen lamp is flexible with annual energy consumption: 134 kWh\n",
      "Found matching appliance: Site consumption\n",
      "Found matching appliance: Total site light consumption\n",
      "Found matching appliance: TV\n",
      "TV is flexible with annual energy consumption: 150 kWh\n",
      "Found matching appliance: TV\n",
      "TV is flexible with annual energy consumption: 150 kWh\n",
      "Found matching appliance: Washing machine\n",
      "Washing machine is flexible with annual energy consumption: 100 kWh\n",
      "Processing sheet 2000918\n",
      "Found matching appliance: Electric Cooker\n",
      "Electric Cooker is flexible with annual energy consumption: 159 kWh\n",
      "Found matching appliance: Fridge freezer\n",
      "Fridge freezer is not flexible with annual energy consumption: 296 kWh\n",
      "Found matching appliance: Fridge\n",
      "Fridge is not flexible with annual energy consumption: 346 kWh\n",
      "Found matching appliance: Halogen lamp\n",
      "Halogen lamp is flexible with annual energy consumption: 134 kWh\n",
      "Found matching appliance: Microwave oven\n",
      "Microwave oven is flexible with annual energy consumption: 39 kWh\n",
      "Found matching appliance: Site consumption\n",
      "Found matching appliance: Total site light consumption\n",
      "Found matching appliance: TV\n",
      "TV is flexible with annual energy consumption: 150 kWh\n",
      "Found matching appliance: Washing machine\n",
      "Washing machine is flexible with annual energy consumption: 100 kWh\n",
      "Processing sheet 2000921\n",
      "Found matching appliance: Electric Cooker\n",
      "Electric Cooker is flexible with annual energy consumption: 159 kWh\n",
      "Found matching appliance: Electric heating\n",
      "Electric heating is flexible with annual energy consumption: 1720 kWh\n",
      "Found matching appliance: Microwave oven\n",
      "Microwave oven is flexible with annual energy consumption: 39 kWh\n",
      "Found matching appliance: No-frost fridge\n",
      "No-frost fridge is not flexible with annual energy consumption: 186 kWh\n",
      "Found matching appliance: Site consumption\n",
      "Found matching appliance: Total site light consumption\n",
      "Found matching appliance: TV\n",
      "TV is flexible with annual energy consumption: 150 kWh\n",
      "Found matching appliance: TV\n",
      "TV is flexible with annual energy consumption: 150 kWh\n",
      "Found matching appliance: Washing machine\n",
      "Washing machine is flexible with annual energy consumption: 100 kWh\n",
      "Found matching appliance: Water heater\n",
      "Water heater is flexible with annual energy consumption: 1676 kWh\n",
      "Processing sheet 2000922\n",
      "Found matching appliance: Dish washer\n",
      "Dish washer is flexible with annual energy consumption: 154 kWh\n",
      "Found matching appliance: Electric oven\n",
      "Electric oven is flexible with annual energy consumption: 146 kWh\n",
      "Found matching appliance: Fridge freezer\n",
      "Fridge freezer is not flexible with annual energy consumption: 296 kWh\n",
      "Found matching appliance: Fridge\n",
      "Fridge is not flexible with annual energy consumption: 346 kWh\n",
      "Found matching appliance: Microwave oven\n",
      "Microwave oven is flexible with annual energy consumption: 39 kWh\n",
      "Found matching appliance: Site consumption\n",
      "Found matching appliance: Total site light consumption\n",
      "Found matching appliance: TV\n",
      "TV is flexible with annual energy consumption: 150 kWh\n",
      "Found matching appliance: TV\n",
      "TV is flexible with annual energy consumption: 150 kWh\n",
      "Found matching appliance: TV\n",
      "TV is flexible with annual energy consumption: 150 kWh\n",
      "Found matching appliance: Washing machine\n",
      "Washing machine is flexible with annual energy consumption: 100 kWh\n",
      "Found matching appliance: Washing machine+clothes drier\n",
      "Washing machine+clothes drier is flexible with annual energy consumption: 385 kWh\n",
      "Processing sheet 2000923\n",
      "Found matching appliance: Electric Cooker\n",
      "Electric Cooker is flexible with annual energy consumption: 159 kWh\n",
      "Found matching appliance: Fridge\n",
      "Fridge is not flexible with annual energy consumption: 346 kWh\n",
      "Found matching appliance: Non halogen lamp\n",
      "Non halogen lamp is flexible with annual energy consumption: 134 kWh\n",
      "Found matching appliance: Non halogen lamp\n",
      "Non halogen lamp is flexible with annual energy consumption: 134 kWh\n",
      "Found matching appliance: Non halogen lamp\n",
      "Non halogen lamp is flexible with annual energy consumption: 134 kWh\n",
      "Found matching appliance: Site consumption\n",
      "Found matching appliance: Total site light consumption\n",
      "Found matching appliance: TV\n",
      "TV is flexible with annual energy consumption: 150 kWh\n",
      "Found matching appliance: Washing machine\n",
      "Washing machine is flexible with annual energy consumption: 100 kWh\n",
      "Processing sheet 2000925\n",
      "Found matching appliance: Chest freezer\n",
      "Chest freezer is not flexible with annual energy consumption: 296 kWh\n",
      "Found matching appliance: Dish washer\n",
      "Dish washer is flexible with annual energy consumption: 154 kWh\n",
      "Found matching appliance: Fridge\n",
      "Fridge is not flexible with annual energy consumption: 346 kWh\n",
      "Found matching appliance: Halogen lamp\n",
      "Halogen lamp is flexible with annual energy consumption: 134 kWh\n",
      "Found matching appliance: Microwave oven\n",
      "Microwave oven is flexible with annual energy consumption: 39 kWh\n",
      "Found matching appliance: Microwave oven\n",
      "Microwave oven is flexible with annual energy consumption: 39 kWh\n",
      "Found matching appliance: Power supply for gas boiler\n",
      "Power supply for gas boiler is flexible with annual energy consumption: 375 kWh\n",
      "Found matching appliance: Site consumption\n",
      "Found matching appliance: Total site light consumption\n",
      "Found matching appliance: Washing machine\n",
      "Washing machine is flexible with annual energy consumption: 100 kWh\n",
      "Processing sheet 2000926\n",
      "Found matching appliance: Chest freezer\n",
      "Chest freezer is not flexible with annual energy consumption: 296 kWh\n",
      "Found matching appliance: Dish washer\n",
      "Dish washer is flexible with annual energy consumption: 154 kWh\n",
      "Found matching appliance: Electric oven\n",
      "Electric oven is flexible with annual energy consumption: 146 kWh\n",
      "Found matching appliance: Fridge\n",
      "Fridge is not flexible with annual energy consumption: 346 kWh\n",
      "Found matching appliance: Fridge\n",
      "Fridge is not flexible with annual energy consumption: 346 kWh\n",
      "Found matching appliance: Halogen lamp\n",
      "Halogen lamp is flexible with annual energy consumption: 134 kWh\n",
      "Found matching appliance: Halogen lamp\n",
      "Halogen lamp is flexible with annual energy consumption: 134 kWh\n",
      "Found matching appliance: Halogen lamp\n",
      "Halogen lamp is flexible with annual energy consumption: 134 kWh\n",
      "Found matching appliance: Halogen lamp\n",
      "Halogen lamp is flexible with annual energy consumption: 134 kWh\n",
      "Found matching appliance: Non halogen lamp\n",
      "Non halogen lamp is flexible with annual energy consumption: 134 kWh\n",
      "Found matching appliance: Site consumption\n",
      "Found matching appliance: Total site light consumption\n",
      "Found matching appliance: Washing machine\n",
      "Washing machine is flexible with annual energy consumption: 100 kWh\n",
      "Processing sheet 2000927\n",
      "Found matching appliance: Clothes drier\n",
      "Clothes drier is flexible with annual energy consumption: 280 kWh\n",
      "Found matching appliance: Electric oven\n",
      "Electric oven is flexible with annual energy consumption: 146 kWh\n",
      "Found matching appliance: Fridge freezer\n",
      "Fridge freezer is not flexible with annual energy consumption: 296 kWh\n",
      "Found matching appliance: Fridge\n",
      "Fridge is not flexible with annual energy consumption: 346 kWh\n",
      "Found matching appliance: Fridge\n",
      "Fridge is not flexible with annual energy consumption: 346 kWh\n",
      "Found matching appliance: Halogen lamp\n",
      "Halogen lamp is flexible with annual energy consumption: 134 kWh\n",
      "Found matching appliance: Halogen lamp\n",
      "Halogen lamp is flexible with annual energy consumption: 134 kWh\n",
      "Found matching appliance: Microwave oven\n",
      "Microwave oven is flexible with annual energy consumption: 39 kWh\n",
      "Found matching appliance: Site consumption\n",
      "Found matching appliance: TV\n",
      "TV is flexible with annual energy consumption: 150 kWh\n",
      "Found matching appliance: Washing machine\n",
      "Washing machine is flexible with annual energy consumption: 100 kWh\n",
      "Processing sheet 2000928\n",
      "Found matching appliance: Chest freezer\n",
      "Chest freezer is not flexible with annual energy consumption: 296 kWh\n",
      "Found matching appliance: Clothes drier\n",
      "Clothes drier is flexible with annual energy consumption: 280 kWh\n",
      "Found matching appliance: Dish washer\n",
      "Dish washer is flexible with annual energy consumption: 154 kWh\n",
      "Found matching appliance: Electric Cooker\n",
      "Electric Cooker is flexible with annual energy consumption: 159 kWh\n",
      "Found matching appliance: Electric heating\n",
      "Electric heating is flexible with annual energy consumption: 1720 kWh\n",
      "Found matching appliance: Fridge freezer\n",
      "Fridge freezer is not flexible with annual energy consumption: 296 kWh\n",
      "Found matching appliance: Fridge\n",
      "Fridge is not flexible with annual energy consumption: 346 kWh\n",
      "Found matching appliance: Microwave oven\n",
      "Microwave oven is flexible with annual energy consumption: 39 kWh\n",
      "Found matching appliance: Site consumption\n",
      "Found matching appliance: Total site light consumption\n",
      "Found matching appliance: TV\n",
      "TV is flexible with annual energy consumption: 150 kWh\n",
      "Found matching appliance: TV\n",
      "TV is flexible with annual energy consumption: 150 kWh\n",
      "Found matching appliance: Washing machine\n",
      "Washing machine is flexible with annual energy consumption: 100 kWh\n",
      "Found matching appliance: Water heater\n",
      "Water heater is flexible with annual energy consumption: 1676 kWh\n",
      "Processing sheet 2000929\n",
      "Found matching appliance: Fridge freezer\n",
      "Fridge freezer is not flexible with annual energy consumption: 296 kWh\n",
      "Found matching appliance: Fridge\n",
      "Fridge is not flexible with annual energy consumption: 346 kWh\n",
      "Found matching appliance: Halogen lamp\n",
      "Halogen lamp is flexible with annual energy consumption: 134 kWh\n",
      "Found matching appliance: Microwave oven\n",
      "Microwave oven is flexible with annual energy consumption: 39 kWh\n",
      "Found matching appliance: Site consumption\n",
      "Found matching appliance: TV\n",
      "TV is flexible with annual energy consumption: 150 kWh\n",
      "Found matching appliance: Washing machine\n",
      "Washing machine is flexible with annual energy consumption: 100 kWh\n",
      "Found matching appliance: Washing machine+clothes drier\n",
      "Washing machine+clothes drier is flexible with annual energy consumption: 385 kWh\n",
      "Processing sheet 2000930\n",
      "Found matching appliance: Clothes drier\n",
      "Clothes drier is flexible with annual energy consumption: 280 kWh\n",
      "Found matching appliance: Dish washer\n",
      "Dish washer is flexible with annual energy consumption: 154 kWh\n",
      "Found matching appliance: Fridge freezer\n",
      "Fridge freezer is not flexible with annual energy consumption: 296 kWh\n",
      "Found matching appliance: Fridge\n",
      "Fridge is not flexible with annual energy consumption: 346 kWh\n",
      "Found matching appliance: Site consumption\n",
      "Found matching appliance: TV\n",
      "TV is flexible with annual energy consumption: 150 kWh\n",
      "Found matching appliance: TV\n",
      "TV is flexible with annual energy consumption: 150 kWh\n",
      "Found matching appliance: Vertical freezer\n",
      "Vertical freezer is not flexible with annual energy consumption: 296 kWh\n",
      "Found matching appliance: Washing machine\n",
      "Washing machine is flexible with annual energy consumption: 100 kWh\n",
      "Processing sheet 2000931\n",
      "Found matching appliance: Aquarium\n",
      "Aquarium is not flexible with annual energy consumption: 200 kWh\n",
      "Found matching appliance: Clothes drier\n",
      "Clothes drier is flexible with annual energy consumption: 280 kWh\n",
      "Found matching appliance: Dish washer\n",
      "Dish washer is flexible with annual energy consumption: 154 kWh\n",
      "Found matching appliance: Electric oven\n",
      "Electric oven is flexible with annual energy consumption: 146 kWh\n",
      "Found matching appliance: Fridge freezer\n",
      "Fridge freezer is not flexible with annual energy consumption: 296 kWh\n",
      "Found matching appliance: Fridge\n",
      "Fridge is not flexible with annual energy consumption: 346 kWh\n",
      "Found matching appliance: Microwave oven\n",
      "Microwave oven is flexible with annual energy consumption: 39 kWh\n",
      "Found matching appliance: Non halogen lamp\n",
      "Non halogen lamp is flexible with annual energy consumption: 134 kWh\n",
      "Found matching appliance: Site consumption\n",
      "Found matching appliance: Total site light consumption\n",
      "Found matching appliance: Vertical freezer\n",
      "Vertical freezer is not flexible with annual energy consumption: 296 kWh\n",
      "Found matching appliance: Washing machine\n",
      "Washing machine is flexible with annual energy consumption: 100 kWh\n",
      "Processing sheet 2000932\n",
      "Found matching appliance: Electric Cooker\n",
      "Electric Cooker is flexible with annual energy consumption: 159 kWh\n",
      "Found matching appliance: Fridge freezer\n",
      "Fridge freezer is not flexible with annual energy consumption: 296 kWh\n",
      "Found matching appliance: Fridge\n",
      "Fridge is not flexible with annual energy consumption: 346 kWh\n",
      "Found matching appliance: Microwave oven\n",
      "Microwave oven is flexible with annual energy consumption: 39 kWh\n",
      "Found matching appliance: Non halogen lamp\n",
      "Non halogen lamp is flexible with annual energy consumption: 134 kWh\n",
      "Found matching appliance: Non halogen lamp\n",
      "Non halogen lamp is flexible with annual energy consumption: 134 kWh\n",
      "Found matching appliance: Non halogen lamp\n",
      "Non halogen lamp is flexible with annual energy consumption: 134 kWh\n",
      "Found matching appliance: Site consumption\n",
      "Found matching appliance: Total site light consumption\n",
      "Found matching appliance: TV\n",
      "TV is flexible with annual energy consumption: 150 kWh\n",
      "Found matching appliance: TV\n",
      "TV is flexible with annual energy consumption: 150 kWh\n",
      "Found matching appliance: Washing machine\n",
      "Washing machine is flexible with annual energy consumption: 100 kWh\n",
      "Processing sheet 2000934\n",
      "Found matching appliance: Clothes drier\n",
      "Clothes drier is flexible with annual energy consumption: 280 kWh\n",
      "Found matching appliance: Electric heating\n",
      "Electric heating is flexible with annual energy consumption: 1720 kWh\n",
      "Found matching appliance: Halogen lamp\n",
      "Halogen lamp is flexible with annual energy consumption: 134 kWh\n",
      "Found matching appliance: Microwave oven\n",
      "Microwave oven is flexible with annual energy consumption: 39 kWh\n",
      "Found matching appliance: Site consumption\n",
      "Found matching appliance: Total site light consumption\n",
      "Found matching appliance: TV\n",
      "TV is flexible with annual energy consumption: 150 kWh\n",
      "Found matching appliance: TV\n",
      "TV is flexible with annual energy consumption: 150 kWh\n",
      "Found matching appliance: Vertical freezer\n",
      "Vertical freezer is not flexible with annual energy consumption: 296 kWh\n",
      "Found matching appliance: Washing machine\n",
      "Washing machine is flexible with annual energy consumption: 100 kWh\n",
      "Found matching appliance: Water heater\n",
      "Water heater is flexible with annual energy consumption: 1676 kWh\n",
      "Processing sheet 2000935\n",
      "Found matching appliance: Electric oven\n",
      "Electric oven is flexible with annual energy consumption: 146 kWh\n",
      "Found matching appliance: Fridge freezer\n",
      "Fridge freezer is not flexible with annual energy consumption: 296 kWh\n",
      "Found matching appliance: Fridge\n",
      "Fridge is not flexible with annual energy consumption: 346 kWh\n",
      "Found matching appliance: Non halogen lamp\n",
      "Non halogen lamp is flexible with annual energy consumption: 134 kWh\n",
      "Found matching appliance: Non halogen lamp\n",
      "Non halogen lamp is flexible with annual energy consumption: 134 kWh\n",
      "Found matching appliance: Non halogen lamp\n",
      "Non halogen lamp is flexible with annual energy consumption: 134 kWh\n",
      "Found matching appliance: Site consumption\n",
      "Found matching appliance: Total site light consumption\n",
      "Found matching appliance: TV\n",
      "TV is flexible with annual energy consumption: 150 kWh\n",
      "Found matching appliance: TV\n",
      "TV is flexible with annual energy consumption: 150 kWh\n",
      "Found matching appliance: TV\n",
      "TV is flexible with annual energy consumption: 150 kWh\n",
      "Found matching appliance: Washing machine\n",
      "Washing machine is flexible with annual energy consumption: 100 kWh\n",
      "Processing sheet 2000936\n",
      "Found matching appliance: Clothes drier\n",
      "Clothes drier is flexible with annual energy consumption: 280 kWh\n",
      "Found matching appliance: Dish washer\n",
      "Dish washer is flexible with annual energy consumption: 154 kWh\n",
      "Found matching appliance: Electric heating\n",
      "Electric heating is flexible with annual energy consumption: 1720 kWh\n",
      "Found matching appliance: Fridge\n",
      "Fridge is not flexible with annual energy consumption: 346 kWh\n",
      "Found matching appliance: Site consumption\n",
      "Found matching appliance: Total site light consumption\n",
      "Found matching appliance: TV\n",
      "TV is flexible with annual energy consumption: 150 kWh\n",
      "Found matching appliance: TV\n",
      "TV is flexible with annual energy consumption: 150 kWh\n",
      "Found matching appliance: Vertical freezer\n",
      "Vertical freezer is not flexible with annual energy consumption: 296 kWh\n",
      "Found matching appliance: Washing machine\n",
      "Washing machine is flexible with annual energy consumption: 100 kWh\n",
      "Found matching appliance: Water heater\n",
      "Water heater is flexible with annual energy consumption: 1676 kWh\n",
      "Processing sheet 2000938\n",
      "Found matching appliance: Chest freezer\n",
      "Chest freezer is not flexible with annual energy consumption: 296 kWh\n",
      "Found matching appliance: Clothes drier\n",
      "Clothes drier is flexible with annual energy consumption: 280 kWh\n",
      "Found matching appliance: Dish washer\n",
      "Dish washer is flexible with annual energy consumption: 154 kWh\n",
      "Found matching appliance: Electric Cooker\n",
      "Electric Cooker is flexible with annual energy consumption: 159 kWh\n",
      "Found matching appliance: Electric heating\n",
      "Electric heating is flexible with annual energy consumption: 1720 kWh\n",
      "Found matching appliance: Fridge\n",
      "Fridge is not flexible with annual energy consumption: 346 kWh\n",
      "Found matching appliance: Site consumption\n",
      "Found matching appliance: Total site light consumption\n",
      "Found matching appliance: TV\n",
      "TV is flexible with annual energy consumption: 150 kWh\n",
      "Found matching appliance: TV\n",
      "TV is flexible with annual energy consumption: 150 kWh\n",
      "Found matching appliance: Washing machine\n",
      "Washing machine is flexible with annual energy consumption: 100 kWh\n",
      "Found matching appliance: Water heater\n",
      "Water heater is flexible with annual energy consumption: 1676 kWh\n",
      "Processing sheet 2000939\n",
      "Found matching appliance: Clothes drier\n",
      "Clothes drier is flexible with annual energy consumption: 280 kWh\n",
      "Found matching appliance: Dish washer\n",
      "Dish washer is flexible with annual energy consumption: 154 kWh\n",
      "Found matching appliance: Electric oven\n",
      "Electric oven is flexible with annual energy consumption: 146 kWh\n",
      "Found matching appliance: Fridge freezer\n",
      "Fridge freezer is not flexible with annual energy consumption: 296 kWh\n",
      "Found matching appliance: Fridge\n",
      "Fridge is not flexible with annual energy consumption: 346 kWh\n",
      "Found matching appliance: Fridge\n",
      "Fridge is not flexible with annual energy consumption: 346 kWh\n",
      "Found matching appliance: Halogen lamp\n",
      "Halogen lamp is flexible with annual energy consumption: 134 kWh\n",
      "Found matching appliance: Microwave oven\n",
      "Microwave oven is flexible with annual energy consumption: 39 kWh\n",
      "Found matching appliance: Microwave oven\n",
      "Microwave oven is flexible with annual energy consumption: 39 kWh\n",
      "Found matching appliance: Site consumption\n",
      "Found matching appliance: Vertical freezer\n",
      "Vertical freezer is not flexible with annual energy consumption: 296 kWh\n",
      "Found matching appliance: Washing machine\n",
      "Washing machine is flexible with annual energy consumption: 100 kWh\n",
      "Processing sheet 2000940\n",
      "Found matching appliance: Clothes drier\n",
      "Clothes drier is flexible with annual energy consumption: 280 kWh\n",
      "Found matching appliance: Dish washer\n",
      "Dish washer is flexible with annual energy consumption: 154 kWh\n",
      "Found matching appliance: Fridge freezer\n",
      "Fridge freezer is not flexible with annual energy consumption: 296 kWh\n",
      "Found matching appliance: Fridge\n",
      "Fridge is not flexible with annual energy consumption: 346 kWh\n",
      "Found matching appliance: Power supply for gas boiler\n",
      "Power supply for gas boiler is flexible with annual energy consumption: 375 kWh\n",
      "Found matching appliance: Site consumption\n",
      "Found matching appliance: TV\n",
      "TV is flexible with annual energy consumption: 150 kWh\n",
      "Found matching appliance: Vertical freezer\n",
      "Vertical freezer is not flexible with annual energy consumption: 296 kWh\n",
      "Found matching appliance: Washing machine\n",
      "Washing machine is flexible with annual energy consumption: 100 kWh\n",
      "Processing sheet 2000941\n",
      "Found matching appliance: Chest freezer\n",
      "Chest freezer is not flexible with annual energy consumption: 296 kWh\n",
      "Found matching appliance: Dish washer\n",
      "Dish washer is flexible with annual energy consumption: 154 kWh\n",
      "Found matching appliance: Electric Cooker\n",
      "Electric Cooker is flexible with annual energy consumption: 159 kWh\n",
      "Found matching appliance: Fridge\n",
      "Fridge is not flexible with annual energy consumption: 346 kWh\n",
      "Found matching appliance: Fridge\n",
      "Fridge is not flexible with annual energy consumption: 346 kWh\n",
      "Found matching appliance: Microwave oven\n",
      "Microwave oven is flexible with annual energy consumption: 39 kWh\n",
      "Found matching appliance: Site consumption\n",
      "Found matching appliance: Total site light consumption\n",
      "Found matching appliance: TV\n",
      "TV is flexible with annual energy consumption: 150 kWh\n",
      "Found matching appliance: Washing machine\n",
      "Washing machine is flexible with annual energy consumption: 100 kWh\n",
      "Processing sheet 2000942\n",
      "Found matching appliance: Chest freezer\n",
      "Chest freezer is not flexible with annual energy consumption: 296 kWh\n",
      "Found matching appliance: Fridge freezer\n",
      "Fridge freezer is not flexible with annual energy consumption: 296 kWh\n",
      "Found matching appliance: Fridge\n",
      "Fridge is not flexible with annual energy consumption: 346 kWh\n",
      "Found matching appliance: Halogen lamp\n",
      "Halogen lamp is flexible with annual energy consumption: 134 kWh\n",
      "Found matching appliance: Microwave oven\n",
      "Microwave oven is flexible with annual energy consumption: 39 kWh\n",
      "Found matching appliance: Power supply for fuel boiler\n",
      "Power supply for fuel boiler is flexible with annual energy consumption: 363 kWh\n",
      "Found matching appliance: Site consumption\n",
      "Found matching appliance: TV\n",
      "TV is flexible with annual energy consumption: 150 kWh\n",
      "Found matching appliance: Washing machine\n",
      "Washing machine is flexible with annual energy consumption: 100 kWh\n",
      "Processing sheet 2000943\n",
      "Found matching appliance: Clothes drier\n",
      "Clothes drier is flexible with annual energy consumption: 280 kWh\n",
      "Found matching appliance: Dish washer\n",
      "Dish washer is flexible with annual energy consumption: 154 kWh\n",
      "Found matching appliance: Electric oven\n",
      "Electric oven is flexible with annual energy consumption: 146 kWh\n",
      "Found matching appliance: Fridge\n",
      "Fridge is not flexible with annual energy consumption: 346 kWh\n",
      "Found matching appliance: Fridge\n",
      "Fridge is not flexible with annual energy consumption: 346 kWh\n",
      "Found matching appliance: Halogen lamp\n",
      "Halogen lamp is flexible with annual energy consumption: 134 kWh\n",
      "Found matching appliance: Microwave oven\n",
      "Microwave oven is flexible with annual energy consumption: 39 kWh\n",
      "Found matching appliance: Power supply for fuel boiler\n",
      "Power supply for fuel boiler is flexible with annual energy consumption: 363 kWh\n",
      "Found matching appliance: Site consumption\n",
      "Found matching appliance: Vertical freezer\n",
      "Vertical freezer is not flexible with annual energy consumption: 296 kWh\n",
      "Found matching appliance: Washing machine\n",
      "Washing machine is flexible with annual energy consumption: 100 kWh\n",
      "Processing sheet 2000944\n",
      "Found matching appliance: Clothes drier\n",
      "Clothes drier is flexible with annual energy consumption: 280 kWh\n",
      "Found matching appliance: Dish washer\n",
      "Dish washer is flexible with annual energy consumption: 154 kWh\n",
      "Found matching appliance: Electric heating\n",
      "Electric heating is flexible with annual energy consumption: 1720 kWh\n",
      "Found matching appliance: Fridge\n",
      "Fridge is not flexible with annual energy consumption: 346 kWh\n",
      "Found matching appliance: Halogen lamp\n",
      "Halogen lamp is flexible with annual energy consumption: 134 kWh\n",
      "Found matching appliance: Site consumption\n",
      "Found matching appliance: Total site light consumption\n",
      "Found matching appliance: Vertical freezer\n",
      "Vertical freezer is not flexible with annual energy consumption: 296 kWh\n",
      "Found matching appliance: Washing machine\n",
      "Washing machine is flexible with annual energy consumption: 100 kWh\n",
      "Found matching appliance: Water heater\n",
      "Water heater is flexible with annual energy consumption: 1676 kWh\n",
      "Processing sheet 2000945\n",
      "Found matching appliance: Chest freezer\n",
      "Chest freezer is not flexible with annual energy consumption: 296 kWh\n",
      "Found matching appliance: Electric Cooker\n",
      "Electric Cooker is flexible with annual energy consumption: 159 kWh\n",
      "Found matching appliance: Electric heating\n",
      "Electric heating is flexible with annual energy consumption: 1720 kWh\n",
      "Found matching appliance: Fridge freezer\n",
      "Fridge freezer is not flexible with annual energy consumption: 296 kWh\n",
      "Found matching appliance: Fridge\n",
      "Fridge is not flexible with annual energy consumption: 346 kWh\n",
      "Found matching appliance: Microwave oven\n",
      "Microwave oven is flexible with annual energy consumption: 39 kWh\n",
      "Found matching appliance: Site consumption\n",
      "Found matching appliance: Total site light consumption\n",
      "Found matching appliance: TV\n",
      "TV is flexible with annual energy consumption: 150 kWh\n",
      "Found matching appliance: TV\n",
      "TV is flexible with annual energy consumption: 150 kWh\n",
      "Found matching appliance: Washing machine\n",
      "Washing machine is flexible with annual energy consumption: 100 kWh\n",
      "Found matching appliance: Water heater\n",
      "Water heater is flexible with annual energy consumption: 1676 kWh\n",
      "Processing sheet 2000946\n",
      "Found matching appliance: Chest freezer\n",
      "Chest freezer is not flexible with annual energy consumption: 296 kWh\n",
      "Found matching appliance: Clothes drier\n",
      "Clothes drier is flexible with annual energy consumption: 280 kWh\n",
      "Found matching appliance: Dish washer\n",
      "Dish washer is flexible with annual energy consumption: 154 kWh\n",
      "Found matching appliance: Electric oven\n",
      "Electric oven is flexible with annual energy consumption: 146 kWh\n",
      "Found matching appliance: Halogen lamp\n",
      "Halogen lamp is flexible with annual energy consumption: 134 kWh\n",
      "Found matching appliance: Hot plate\n",
      "Hot plate is flexible with annual energy consumption: 159 kWh\n",
      "Found matching appliance: Microwave oven\n",
      "Microwave oven is flexible with annual energy consumption: 39 kWh\n",
      "Found matching appliance: Site consumption\n",
      "Found matching appliance: Total site light consumption\n",
      "Found matching appliance: Washing machine\n",
      "Washing machine is flexible with annual energy consumption: 100 kWh\n",
      "Processing sheet 2000947\n",
      "Found matching appliance: Clothes drier\n",
      "Clothes drier is flexible with annual energy consumption: 280 kWh\n",
      "Found matching appliance: Dish washer\n",
      "Dish washer is flexible with annual energy consumption: 154 kWh\n",
      "Found matching appliance: Electric oven\n",
      "Electric oven is flexible with annual energy consumption: 146 kWh\n",
      "Found matching appliance: Fridge\n",
      "Fridge is not flexible with annual energy consumption: 346 kWh\n",
      "Found matching appliance: Hot plate\n",
      "Hot plate is flexible with annual energy consumption: 159 kWh\n",
      "Found matching appliance: Microwave oven\n",
      "Microwave oven is flexible with annual energy consumption: 39 kWh\n",
      "Found matching appliance: Site consumption\n",
      "Found matching appliance: TV\n",
      "TV is flexible with annual energy consumption: 150 kWh\n",
      "Found matching appliance: TV\n",
      "TV is flexible with annual energy consumption: 150 kWh\n",
      "Found matching appliance: TV\n",
      "TV is flexible with annual energy consumption: 150 kWh\n",
      "Found matching appliance: Vertical freezer\n",
      "Vertical freezer is not flexible with annual energy consumption: 296 kWh\n",
      "Found matching appliance: Washing machine\n",
      "Washing machine is flexible with annual energy consumption: 100 kWh\n",
      "Processing sheet 2000948\n",
      "Found matching appliance: Dish washer\n",
      "Dish washer is flexible with annual energy consumption: 154 kWh\n",
      "Found matching appliance: Electric Cooker\n",
      "Electric Cooker is flexible with annual energy consumption: 159 kWh\n",
      "Found matching appliance: Fridge\n",
      "Fridge is not flexible with annual energy consumption: 346 kWh\n",
      "Found matching appliance: Fridge\n",
      "Fridge is not flexible with annual energy consumption: 346 kWh\n",
      "Found matching appliance: Halogen lamp\n",
      "Halogen lamp is flexible with annual energy consumption: 134 kWh\n",
      "Found matching appliance: Heat pump\n",
      "Heat pump is flexible with annual energy consumption: 4000 kWh\n",
      "Found matching appliance: Site consumption\n",
      "Found matching appliance: Total site light consumption\n",
      "Found matching appliance: Vertical freezer\n",
      "Vertical freezer is not flexible with annual energy consumption: 296 kWh\n",
      "Found matching appliance: Washing machine\n",
      "Washing machine is flexible with annual energy consumption: 100 kWh\n",
      "Found matching appliance: Washing machine+clothes drier\n",
      "Washing machine+clothes drier is flexible with annual energy consumption: 385 kWh\n",
      "Found matching appliance: Water heater\n",
      "Water heater is flexible with annual energy consumption: 1676 kWh\n",
      "Found matching appliance: Water pump\n",
      "Water pump is not flexible with annual energy consumption: 150 kWh\n",
      "Processing sheet 2000949\n",
      "Found matching appliance: Dish washer\n",
      "Dish washer is flexible with annual energy consumption: 154 kWh\n",
      "Found matching appliance: Electric oven\n",
      "Electric oven is flexible with annual energy consumption: 146 kWh\n",
      "Found matching appliance: Fridge freezer\n",
      "Fridge freezer is not flexible with annual energy consumption: 296 kWh\n",
      "Found matching appliance: Fridge\n",
      "Fridge is not flexible with annual energy consumption: 346 kWh\n",
      "Found matching appliance: Halogen lamp\n",
      "Halogen lamp is flexible with annual energy consumption: 134 kWh\n",
      "Found matching appliance: Microwave oven\n",
      "Microwave oven is flexible with annual energy consumption: 39 kWh\n",
      "Found matching appliance: Power supply for gas boiler\n",
      "Power supply for gas boiler is flexible with annual energy consumption: 375 kWh\n",
      "Found matching appliance: Site consumption\n",
      "Found matching appliance: TV\n",
      "TV is flexible with annual energy consumption: 150 kWh\n",
      "Found matching appliance: Vertical freezer\n",
      "Vertical freezer is not flexible with annual energy consumption: 296 kWh\n",
      "Found matching appliance: Washing machine\n",
      "Washing machine is flexible with annual energy consumption: 100 kWh\n",
      "Processing sheet 2000950\n",
      "Found matching appliance: Dish washer\n",
      "Dish washer is flexible with annual energy consumption: 154 kWh\n",
      "Found matching appliance: Fridge freezer\n",
      "Fridge freezer is not flexible with annual energy consumption: 296 kWh\n",
      "Found matching appliance: Fridge\n",
      "Fridge is not flexible with annual energy consumption: 346 kWh\n",
      "Found matching appliance: Microwave oven\n",
      "Microwave oven is flexible with annual energy consumption: 39 kWh\n",
      "Found matching appliance: Site consumption\n",
      "Found matching appliance: TV\n",
      "TV is flexible with annual energy consumption: 150 kWh\n",
      "Found matching appliance: TV\n",
      "TV is flexible with annual energy consumption: 150 kWh\n",
      "Found matching appliance: Washing machine\n",
      "Washing machine is flexible with annual energy consumption: 100 kWh\n",
      "Processing sheet 2000951\n",
      "Found matching appliance: Chest freezer\n",
      "Chest freezer is not flexible with annual energy consumption: 296 kWh\n",
      "Found matching appliance: Electric Cooker\n",
      "Electric Cooker is flexible with annual energy consumption: 159 kWh\n",
      "Found matching appliance: Fridge\n",
      "Fridge is not flexible with annual energy consumption: 346 kWh\n",
      "Found matching appliance: Halogen lamp\n",
      "Halogen lamp is flexible with annual energy consumption: 134 kWh\n",
      "Found matching appliance: Microwave oven\n",
      "Microwave oven is flexible with annual energy consumption: 39 kWh\n",
      "Found matching appliance: Non halogen lamp\n",
      "Non halogen lamp is flexible with annual energy consumption: 134 kWh\n",
      "Found matching appliance: Non halogen lamp\n",
      "Non halogen lamp is flexible with annual energy consumption: 134 kWh\n",
      "Found matching appliance: Site consumption\n",
      "Found matching appliance: Total site light consumption\n",
      "Found matching appliance: Vertical freezer\n",
      "Vertical freezer is not flexible with annual energy consumption: 296 kWh\n",
      "Found matching appliance: Washing machine\n",
      "Washing machine is flexible with annual energy consumption: 100 kWh\n",
      "Processing sheet 2000952\n",
      "Found matching appliance: Chest freezer\n",
      "Chest freezer is not flexible with annual energy consumption: 296 kWh\n",
      "Found matching appliance: Clothes drier\n",
      "Clothes drier is flexible with annual energy consumption: 280 kWh\n",
      "Found matching appliance: Dish washer\n",
      "Dish washer is flexible with annual energy consumption: 154 kWh\n",
      "Found matching appliance: Electric oven\n",
      "Electric oven is flexible with annual energy consumption: 146 kWh\n",
      "Found matching appliance: Microwave oven\n",
      "Microwave oven is flexible with annual energy consumption: 39 kWh\n",
      "Found matching appliance: Power supply for fuel boiler\n",
      "Power supply for fuel boiler is flexible with annual energy consumption: 363 kWh\n",
      "Found matching appliance: Site consumption\n",
      "Found matching appliance: TV\n",
      "TV is flexible with annual energy consumption: 150 kWh\n",
      "Found matching appliance: TV\n",
      "TV is flexible with annual energy consumption: 150 kWh\n",
      "Found matching appliance: TV\n",
      "TV is flexible with annual energy consumption: 150 kWh\n",
      "Found matching appliance: Washing machine\n",
      "Washing machine is flexible with annual energy consumption: 100 kWh\n",
      "Processing sheet 2000953\n",
      "Found matching appliance: Chest freezer\n",
      "Chest freezer is not flexible with annual energy consumption: 296 kWh\n",
      "Found matching appliance: Dish washer\n",
      "Dish washer is flexible with annual energy consumption: 154 kWh\n",
      "Found matching appliance: Electric heating\n",
      "Electric heating is flexible with annual energy consumption: 1720 kWh\n",
      "Found matching appliance: Fridge freezer\n",
      "Fridge freezer is not flexible with annual energy consumption: 296 kWh\n",
      "Found matching appliance: Fridge\n",
      "Fridge is not flexible with annual energy consumption: 346 kWh\n",
      "Found matching appliance: Non halogen lamp\n",
      "Non halogen lamp is flexible with annual energy consumption: 134 kWh\n",
      "Found matching appliance: Non halogen lamp\n",
      "Non halogen lamp is flexible with annual energy consumption: 134 kWh\n",
      "Found matching appliance: Site consumption\n",
      "Found matching appliance: Total site light consumption\n",
      "Found matching appliance: TV\n",
      "TV is flexible with annual energy consumption: 150 kWh\n",
      "Found matching appliance: TV\n",
      "TV is flexible with annual energy consumption: 150 kWh\n",
      "Found matching appliance: Washing machine\n",
      "Washing machine is flexible with annual energy consumption: 100 kWh\n",
      "Found matching appliance: Water heater\n",
      "Water heater is flexible with annual energy consumption: 1676 kWh\n",
      "Processing sheet 2000954\n",
      "Found matching appliance: Electric heating\n",
      "Electric heating is flexible with annual energy consumption: 1720 kWh\n",
      "Found matching appliance: Fridge\n",
      "Fridge is not flexible with annual energy consumption: 346 kWh\n",
      "Found matching appliance: Site consumption\n",
      "Found matching appliance: TV\n",
      "TV is flexible with annual energy consumption: 150 kWh\n",
      "Found matching appliance: TV\n",
      "TV is flexible with annual energy consumption: 150 kWh\n",
      "Found matching appliance: Vertical freezer\n",
      "Vertical freezer is not flexible with annual energy consumption: 296 kWh\n",
      "Found matching appliance: Washing machine\n",
      "Washing machine is flexible with annual energy consumption: 100 kWh\n",
      "Found matching appliance: Water heater\n",
      "Water heater is flexible with annual energy consumption: 1676 kWh\n",
      "Processing sheet 2000955\n",
      "Found matching appliance: Electric oven\n",
      "Electric oven is flexible with annual energy consumption: 146 kWh\n",
      "Found matching appliance: Fridge freezer\n",
      "Fridge freezer is not flexible with annual energy consumption: 296 kWh\n",
      "Found matching appliance: Fridge\n",
      "Fridge is not flexible with annual energy consumption: 346 kWh\n",
      "Found matching appliance: Site consumption\n",
      "Found matching appliance: TV\n",
      "TV is flexible with annual energy consumption: 150 kWh\n",
      "Found matching appliance: Washing machine\n",
      "Washing machine is flexible with annual energy consumption: 100 kWh\n",
      "Found matching appliance: Water heater\n",
      "Water heater is flexible with annual energy consumption: 1676 kWh\n",
      "Processing sheet 2000956\n",
      "Found matching appliance: Electric oven\n",
      "Electric oven is flexible with annual energy consumption: 146 kWh\n",
      "Found matching appliance: Fridge freezer\n",
      "Fridge freezer is not flexible with annual energy consumption: 296 kWh\n",
      "Found matching appliance: Fridge\n",
      "Fridge is not flexible with annual energy consumption: 346 kWh\n",
      "Found matching appliance: Microwave oven\n",
      "Microwave oven is flexible with annual energy consumption: 39 kWh\n",
      "Found matching appliance: Non halogen lamp\n",
      "Non halogen lamp is flexible with annual energy consumption: 134 kWh\n",
      "Found matching appliance: Non halogen lamp\n",
      "Non halogen lamp is flexible with annual energy consumption: 134 kWh\n",
      "Found matching appliance: Site consumption\n",
      "Found matching appliance: Total site light consumption\n",
      "Found matching appliance: TV\n",
      "TV is flexible with annual energy consumption: 150 kWh\n",
      "Found matching appliance: TV\n",
      "TV is flexible with annual energy consumption: 150 kWh\n",
      "Found matching appliance: Vertical freezer\n",
      "Vertical freezer is not flexible with annual energy consumption: 296 kWh\n",
      "Found matching appliance: Washing machine\n",
      "Washing machine is flexible with annual energy consumption: 100 kWh\n",
      "Found matching appliance: Water heater\n",
      "Water heater is flexible with annual energy consumption: 1676 kWh\n",
      "Processing sheet 2000957\n",
      "Found matching appliance: Fridge freezer\n",
      "Fridge freezer is not flexible with annual energy consumption: 296 kWh\n",
      "Found matching appliance: Fridge\n",
      "Fridge is not flexible with annual energy consumption: 346 kWh\n",
      "Found matching appliance: Microwave oven\n",
      "Microwave oven is flexible with annual energy consumption: 39 kWh\n",
      "Found matching appliance: Site consumption\n",
      "Found matching appliance: TV\n",
      "TV is flexible with annual energy consumption: 150 kWh\n",
      "Found matching appliance: Washing machine\n",
      "Washing machine is flexible with annual energy consumption: 100 kWh\n",
      "Processing sheet 2000958\n",
      "Found matching appliance: Fridge freezer\n",
      "Fridge freezer is not flexible with annual energy consumption: 296 kWh\n",
      "Found matching appliance: Fridge\n",
      "Fridge is not flexible with annual energy consumption: 346 kWh\n",
      "Found matching appliance: Microwave oven\n",
      "Microwave oven is flexible with annual energy consumption: 39 kWh\n",
      "Found matching appliance: Site consumption\n",
      "Found matching appliance: TV\n",
      "TV is flexible with annual energy consumption: 150 kWh\n",
      "Found matching appliance: TV\n",
      "TV is flexible with annual energy consumption: 150 kWh\n",
      "Found matching appliance: Washing machine\n",
      "Washing machine is flexible with annual energy consumption: 100 kWh\n",
      "Processing sheet 2000959\n",
      "Found matching appliance: Clothes drier\n",
      "Clothes drier is flexible with annual energy consumption: 280 kWh\n",
      "Found matching appliance: Electric heating\n",
      "Electric heating is flexible with annual energy consumption: 1720 kWh\n",
      "Found matching appliance: Fridge freezer\n",
      "Fridge freezer is not flexible with annual energy consumption: 296 kWh\n",
      "Found matching appliance: Fridge\n",
      "Fridge is not flexible with annual energy consumption: 346 kWh\n",
      "Found matching appliance: Microwave oven\n",
      "Microwave oven is flexible with annual energy consumption: 39 kWh\n",
      "Found matching appliance: Site consumption\n",
      "Found matching appliance: Total site light consumption\n",
      "Found matching appliance: TV\n",
      "TV is flexible with annual energy consumption: 150 kWh\n",
      "Found matching appliance: Washing machine\n",
      "Washing machine is flexible with annual energy consumption: 100 kWh\n",
      "Found matching appliance: Water heater\n",
      "Water heater is flexible with annual energy consumption: 1676 kWh\n",
      "Processing sheet 2000960\n",
      "Found matching appliance: Clothes drier\n",
      "Clothes drier is flexible with annual energy consumption: 280 kWh\n",
      "Found matching appliance: Fridge freezer\n",
      "Fridge freezer is not flexible with annual energy consumption: 296 kWh\n",
      "Found matching appliance: Fridge\n",
      "Fridge is not flexible with annual energy consumption: 346 kWh\n",
      "Found matching appliance: Microwave oven\n",
      "Microwave oven is flexible with annual energy consumption: 39 kWh\n",
      "Found matching appliance: Site consumption\n",
      "Found matching appliance: TV\n",
      "TV is flexible with annual energy consumption: 150 kWh\n",
      "Found matching appliance: TV\n",
      "TV is flexible with annual energy consumption: 150 kWh\n",
      "Found matching appliance: Washing machine\n",
      "Washing machine is flexible with annual energy consumption: 100 kWh\n",
      "Processing sheet 2000961\n",
      "Found matching appliance: Dish washer\n",
      "Dish washer is flexible with annual energy consumption: 154 kWh\n",
      "Found matching appliance: Fridge freezer\n",
      "Fridge freezer is not flexible with annual energy consumption: 296 kWh\n",
      "Found matching appliance: Fridge\n",
      "Fridge is not flexible with annual energy consumption: 346 kWh\n",
      "Found matching appliance: Halogen lamp\n",
      "Halogen lamp is flexible with annual energy consumption: 134 kWh\n",
      "Found matching appliance: Non halogen lamp\n",
      "Non halogen lamp is flexible with annual energy consumption: 134 kWh\n",
      "Found matching appliance: Non halogen lamp\n",
      "Non halogen lamp is flexible with annual energy consumption: 134 kWh\n",
      "Found matching appliance: Non halogen lamp\n",
      "Non halogen lamp is flexible with annual energy consumption: 134 kWh\n",
      "Found matching appliance: Site consumption\n",
      "Found matching appliance: Total site light consumption\n",
      "Found matching appliance: Washing machine\n",
      "Washing machine is flexible with annual energy consumption: 100 kWh\n",
      "Processing sheet 2000962\n",
      "Found matching appliance: Chest freezer\n",
      "Chest freezer is not flexible with annual energy consumption: 296 kWh\n",
      "Found matching appliance: Clothes drier\n",
      "Clothes drier is flexible with annual energy consumption: 280 kWh\n",
      "Found matching appliance: Fridge\n",
      "Fridge is not flexible with annual energy consumption: 346 kWh\n",
      "Found matching appliance: Halogen lamp\n",
      "Halogen lamp is flexible with annual energy consumption: 134 kWh\n",
      "Found matching appliance: Microwave oven\n",
      "Microwave oven is flexible with annual energy consumption: 39 kWh\n",
      "Found matching appliance: Site consumption\n",
      "Found matching appliance: Total site light consumption\n",
      "Found matching appliance: TV\n",
      "TV is flexible with annual energy consumption: 150 kWh\n",
      "Found matching appliance: TV\n",
      "TV is flexible with annual energy consumption: 150 kWh\n",
      "Found matching appliance: Washing machine\n",
      "Washing machine is flexible with annual energy consumption: 100 kWh\n",
      "Found matching appliance: Water heater\n",
      "Water heater is flexible with annual energy consumption: 1676 kWh\n",
      "Processing sheet 2000963\n",
      "Found matching appliance: Fridge freezer\n",
      "Fridge freezer is not flexible with annual energy consumption: 296 kWh\n",
      "Found matching appliance: Fridge\n",
      "Fridge is not flexible with annual energy consumption: 346 kWh\n",
      "Found matching appliance: Halogen lamp\n",
      "Halogen lamp is flexible with annual energy consumption: 134 kWh\n",
      "Found matching appliance: Halogen lamp\n",
      "Halogen lamp is flexible with annual energy consumption: 134 kWh\n",
      "Found matching appliance: Site consumption\n",
      "Found matching appliance: TV\n",
      "TV is flexible with annual energy consumption: 150 kWh\n",
      "Found matching appliance: Washing machine\n",
      "Washing machine is flexible with annual energy consumption: 100 kWh\n",
      "Processing sheet 2000964\n",
      "Found matching appliance: Aquarium\n",
      "Aquarium is not flexible with annual energy consumption: 200 kWh\n",
      "Found matching appliance: Dish washer\n",
      "Dish washer is flexible with annual energy consumption: 154 kWh\n",
      "Found matching appliance: Electric Cooker\n",
      "Electric Cooker is flexible with annual energy consumption: 159 kWh\n",
      "Found matching appliance: Fridge freezer\n",
      "Fridge freezer is not flexible with annual energy consumption: 296 kWh\n",
      "Found matching appliance: Fridge\n",
      "Fridge is not flexible with annual energy consumption: 346 kWh\n",
      "Found matching appliance: Microwave oven\n",
      "Microwave oven is flexible with annual energy consumption: 39 kWh\n",
      "Found matching appliance: Non halogen lamp\n",
      "Non halogen lamp is flexible with annual energy consumption: 134 kWh\n",
      "Found matching appliance: Non halogen lamp\n",
      "Non halogen lamp is flexible with annual energy consumption: 134 kWh\n",
      "Found matching appliance: Non halogen lamp\n",
      "Non halogen lamp is flexible with annual energy consumption: 134 kWh\n",
      "Found matching appliance: Non halogen lamp\n",
      "Non halogen lamp is flexible with annual energy consumption: 134 kWh\n",
      "Found matching appliance: Site consumption\n",
      "Found matching appliance: Total site light consumption\n",
      "Found matching appliance: TV\n",
      "TV is flexible with annual energy consumption: 150 kWh\n",
      "Found matching appliance: TV\n",
      "TV is flexible with annual energy consumption: 150 kWh\n",
      "Found matching appliance: Washing machine\n",
      "Washing machine is flexible with annual energy consumption: 100 kWh\n",
      "Processing sheet 2000965\n",
      "Found matching appliance: Clothes drier\n",
      "Clothes drier is flexible with annual energy consumption: 280 kWh\n",
      "Found matching appliance: Fridge freezer\n",
      "Fridge freezer is not flexible with annual energy consumption: 296 kWh\n",
      "Found matching appliance: Fridge\n",
      "Fridge is not flexible with annual energy consumption: 346 kWh\n",
      "Found matching appliance: Halogen lamp\n",
      "Halogen lamp is flexible with annual energy consumption: 134 kWh\n",
      "Found matching appliance: Site consumption\n",
      "Found matching appliance: Washing machine\n",
      "Washing machine is flexible with annual energy consumption: 100 kWh\n",
      "Processing sheet 2000966\n",
      "Found matching appliance: Chest freezer\n",
      "Chest freezer is not flexible with annual energy consumption: 296 kWh\n",
      "Found matching appliance: Clothes drier\n",
      "Clothes drier is flexible with annual energy consumption: 280 kWh\n",
      "Found matching appliance: Dish washer\n",
      "Dish washer is flexible with annual energy consumption: 154 kWh\n",
      "Found matching appliance: Electric oven\n",
      "Electric oven is flexible with annual energy consumption: 146 kWh\n",
      "Found matching appliance: Fridge freezer\n",
      "Fridge freezer is not flexible with annual energy consumption: 296 kWh\n",
      "Found matching appliance: Fridge\n",
      "Fridge is not flexible with annual energy consumption: 346 kWh\n",
      "Found matching appliance: Halogen lamp\n",
      "Halogen lamp is flexible with annual energy consumption: 134 kWh\n",
      "Found matching appliance: Site consumption\n",
      "Found matching appliance: Total site light consumption\n",
      "Found matching appliance: TV\n",
      "TV is flexible with annual energy consumption: 150 kWh\n",
      "Found matching appliance: TV\n",
      "TV is flexible with annual energy consumption: 150 kWh\n",
      "Found matching appliance: Washing machine\n",
      "Washing machine is flexible with annual energy consumption: 100 kWh\n",
      "Processing sheet 2000967\n",
      "Found matching appliance: Electric heating\n",
      "Electric heating is flexible with annual energy consumption: 1720 kWh\n",
      "Found matching appliance: Fridge freezer\n",
      "Fridge freezer is not flexible with annual energy consumption: 296 kWh\n",
      "Found matching appliance: Fridge\n",
      "Fridge is not flexible with annual energy consumption: 346 kWh\n",
      "Found matching appliance: Halogen lamp\n",
      "Halogen lamp is flexible with annual energy consumption: 134 kWh\n",
      "Found matching appliance: Halogen lamp\n",
      "Halogen lamp is flexible with annual energy consumption: 134 kWh\n",
      "Found matching appliance: Hot plate\n",
      "Hot plate is flexible with annual energy consumption: 159 kWh\n",
      "Found matching appliance: Microwave oven\n",
      "Microwave oven is flexible with annual energy consumption: 39 kWh\n",
      "Found matching appliance: Microwave oven\n",
      "Microwave oven is flexible with annual energy consumption: 39 kWh\n",
      "Found matching appliance: Non halogen lamp\n",
      "Non halogen lamp is flexible with annual energy consumption: 134 kWh\n",
      "Found matching appliance: Site consumption\n",
      "Found matching appliance: Total site light consumption\n",
      "Found matching appliance: TV\n",
      "TV is flexible with annual energy consumption: 150 kWh\n",
      "Found matching appliance: Washing machine\n",
      "Washing machine is flexible with annual energy consumption: 100 kWh\n",
      "Found matching appliance: Water heater\n",
      "Water heater is flexible with annual energy consumption: 1676 kWh\n",
      "Processing sheet 2000968\n",
      "Found matching appliance: Electric Cooker\n",
      "Electric Cooker is flexible with annual energy consumption: 159 kWh\n",
      "Found matching appliance: Electric heating\n",
      "Electric heating is flexible with annual energy consumption: 1720 kWh\n",
      "Found matching appliance: Fridge\n",
      "Fridge is not flexible with annual energy consumption: 346 kWh\n",
      "Found matching appliance: Site consumption\n",
      "Found matching appliance: TV\n",
      "TV is flexible with annual energy consumption: 150 kWh\n",
      "Found matching appliance: Washing machine\n",
      "Washing machine is flexible with annual energy consumption: 100 kWh\n",
      "Found matching appliance: Washing machine+clothes drier\n",
      "Washing machine+clothes drier is flexible with annual energy consumption: 385 kWh\n",
      "Found matching appliance: Water heater\n",
      "Water heater is flexible with annual energy consumption: 1676 kWh\n",
      "Processing sheet 2000969\n",
      "Found matching appliance: Dish washer\n",
      "Dish washer is flexible with annual energy consumption: 154 kWh\n",
      "Found matching appliance: Electric heating\n",
      "Electric heating is flexible with annual energy consumption: 1720 kWh\n",
      "Found matching appliance: Halogen lamp\n",
      "Halogen lamp is flexible with annual energy consumption: 134 kWh\n",
      "Found matching appliance: Microwave oven\n",
      "Microwave oven is flexible with annual energy consumption: 39 kWh\n",
      "Found matching appliance: Site consumption\n",
      "Found matching appliance: TV\n",
      "TV is flexible with annual energy consumption: 150 kWh\n",
      "Found matching appliance: Washing machine\n",
      "Washing machine is flexible with annual energy consumption: 100 kWh\n",
      "Found matching appliance: Washing machine+clothes drier\n",
      "Washing machine+clothes drier is flexible with annual energy consumption: 385 kWh\n",
      "Processing sheet 2000970\n",
      "Found matching appliance: Clothes drier\n",
      "Clothes drier is flexible with annual energy consumption: 280 kWh\n",
      "Found matching appliance: Dish washer\n",
      "Dish washer is flexible with annual energy consumption: 154 kWh\n",
      "Found matching appliance: Electric oven\n",
      "Electric oven is flexible with annual energy consumption: 146 kWh\n",
      "Found matching appliance: Fridge freezer\n",
      "Fridge freezer is not flexible with annual energy consumption: 296 kWh\n",
      "Found matching appliance: Fridge\n",
      "Fridge is not flexible with annual energy consumption: 346 kWh\n",
      "Found matching appliance: Halogen lamp\n",
      "Halogen lamp is flexible with annual energy consumption: 134 kWh\n",
      "Found matching appliance: Site consumption\n",
      "Found matching appliance: Total site light consumption\n",
      "Found matching appliance: TV\n",
      "TV is flexible with annual energy consumption: 150 kWh\n",
      "Found matching appliance: TV\n",
      "TV is flexible with annual energy consumption: 150 kWh\n",
      "Processing sheet 2000971\n",
      "Found matching appliance: Computer site\n",
      "Computer site is flexible with annual energy consumption: 124 kWh\n",
      "Found matching appliance: Electric heating\n",
      "Electric heating is flexible with annual energy consumption: 1720 kWh\n",
      "Found matching appliance: Fridge freezer\n",
      "Fridge freezer is not flexible with annual energy consumption: 296 kWh\n",
      "Found matching appliance: Fridge\n",
      "Fridge is not flexible with annual energy consumption: 346 kWh\n",
      "Found matching appliance: Fridge freezer\n",
      "Fridge freezer is not flexible with annual energy consumption: 296 kWh\n",
      "Found matching appliance: Fridge\n",
      "Fridge is not flexible with annual energy consumption: 346 kWh\n",
      "Found matching appliance: Fridge\n",
      "Fridge is not flexible with annual energy consumption: 346 kWh\n",
      "Found matching appliance: Fridge\n",
      "Fridge is not flexible with annual energy consumption: 346 kWh\n",
      "Found matching appliance: Halogen lamp\n",
      "Halogen lamp is flexible with annual energy consumption: 134 kWh\n",
      "Found matching appliance: Halogen lamp\n",
      "Halogen lamp is flexible with annual energy consumption: 134 kWh\n",
      "Found matching appliance: Microwave oven\n",
      "Microwave oven is flexible with annual energy consumption: 39 kWh\n",
      "Found matching appliance: Power supply for fuel boiler\n",
      "Power supply for fuel boiler is flexible with annual energy consumption: 363 kWh\n",
      "Found matching appliance: Site consumption\n",
      "Found matching appliance: TV\n",
      "TV is flexible with annual energy consumption: 150 kWh\n",
      "Found matching appliance: Washing machine\n",
      "Washing machine is flexible with annual energy consumption: 100 kWh\n",
      "Processing sheet 2000972\n",
      "Found matching appliance: Clothes drier\n",
      "Clothes drier is flexible with annual energy consumption: 280 kWh\n",
      "Found matching appliance: Dish washer\n",
      "Dish washer is flexible with annual energy consumption: 154 kWh\n",
      "Found matching appliance: Electric Cooker\n",
      "Electric Cooker is flexible with annual energy consumption: 159 kWh\n",
      "Found matching appliance: Fridge freezer\n",
      "Fridge freezer is not flexible with annual energy consumption: 296 kWh\n",
      "Found matching appliance: Fridge\n",
      "Fridge is not flexible with annual energy consumption: 346 kWh\n",
      "Found matching appliance: Halogen lamp\n",
      "Halogen lamp is flexible with annual energy consumption: 134 kWh\n",
      "Found matching appliance: Halogen lamp\n",
      "Halogen lamp is flexible with annual energy consumption: 134 kWh\n",
      "Found matching appliance: Halogen lamp\n",
      "Halogen lamp is flexible with annual energy consumption: 134 kWh\n",
      "Found matching appliance: Site consumption\n",
      "Found matching appliance: TV\n",
      "TV is flexible with annual energy consumption: 150 kWh\n",
      "Found matching appliance: TV\n",
      "TV is flexible with annual energy consumption: 150 kWh\n",
      "Found matching appliance: Washing machine\n",
      "Washing machine is flexible with annual energy consumption: 100 kWh\n",
      "Processing sheet 2000973\n",
      "Found matching appliance: Electric oven\n",
      "Electric oven is flexible with annual energy consumption: 146 kWh\n",
      "Found matching appliance: Fridge\n",
      "Fridge is not flexible with annual energy consumption: 346 kWh\n",
      "Found matching appliance: Microwave oven\n",
      "Microwave oven is flexible with annual energy consumption: 39 kWh\n",
      "Found matching appliance: Site consumption\n",
      "Found matching appliance: TV\n",
      "TV is flexible with annual energy consumption: 150 kWh\n",
      "Found matching appliance: Vertical freezer\n",
      "Vertical freezer is not flexible with annual energy consumption: 296 kWh\n",
      "Found matching appliance: Washing machine\n",
      "Washing machine is flexible with annual energy consumption: 100 kWh\n",
      "Processing sheet 2000974\n",
      "Found matching appliance: Dish washer\n",
      "Dish washer is flexible with annual energy consumption: 154 kWh\n",
      "Found matching appliance: Electric heating\n",
      "Electric heating is flexible with annual energy consumption: 1720 kWh\n",
      "Found matching appliance: Electric oven\n",
      "Electric oven is flexible with annual energy consumption: 146 kWh\n",
      "Found matching appliance: Fridge freezer\n",
      "Fridge freezer is not flexible with annual energy consumption: 296 kWh\n",
      "Found matching appliance: Fridge\n",
      "Fridge is not flexible with annual energy consumption: 346 kWh\n",
      "Found matching appliance: Halogen lamp\n",
      "Halogen lamp is flexible with annual energy consumption: 134 kWh\n",
      "Found matching appliance: Halogen lamp\n",
      "Halogen lamp is flexible with annual energy consumption: 134 kWh\n",
      "Found matching appliance: Halogen lamp\n",
      "Halogen lamp is flexible with annual energy consumption: 134 kWh\n",
      "Found matching appliance: Halogen lamp\n",
      "Halogen lamp is flexible with annual energy consumption: 134 kWh\n",
      "Found matching appliance: Hot plate\n",
      "Hot plate is flexible with annual energy consumption: 159 kWh\n",
      "Found matching appliance: Site consumption\n",
      "Found matching appliance: TV\n",
      "TV is flexible with annual energy consumption: 150 kWh\n",
      "Found matching appliance: TV\n",
      "TV is flexible with annual energy consumption: 150 kWh\n",
      "Found matching appliance: TV\n",
      "TV is flexible with annual energy consumption: 150 kWh\n",
      "Found matching appliance: Washing machine\n",
      "Washing machine is flexible with annual energy consumption: 100 kWh\n",
      "Found matching appliance: Washing machine+clothes drier\n",
      "Washing machine+clothes drier is flexible with annual energy consumption: 385 kWh\n",
      "Found matching appliance: Water heater\n",
      "Water heater is flexible with annual energy consumption: 1676 kWh\n",
      "Processing sheet 2000975\n",
      "Found matching appliance: Electric heating\n",
      "Electric heating is flexible with annual energy consumption: 1720 kWh\n",
      "Found matching appliance: Fridge\n",
      "Fridge is not flexible with annual energy consumption: 346 kWh\n",
      "Found matching appliance: Halogen lamp\n",
      "Halogen lamp is flexible with annual energy consumption: 134 kWh\n",
      "Found matching appliance: Hot plate\n",
      "Hot plate is flexible with annual energy consumption: 159 kWh\n",
      "Found matching appliance: Microwave oven\n",
      "Microwave oven is flexible with annual energy consumption: 39 kWh\n",
      "Found matching appliance: Site consumption\n",
      "Found matching appliance: TV\n",
      "TV is flexible with annual energy consumption: 150 kWh\n",
      "Found matching appliance: Vertical freezer\n",
      "Vertical freezer is not flexible with annual energy consumption: 296 kWh\n",
      "Found matching appliance: Washing machine\n",
      "Washing machine is flexible with annual energy consumption: 100 kWh\n",
      "Found matching appliance: Water heater\n",
      "Water heater is flexible with annual energy consumption: 1676 kWh\n",
      "Processing sheet 2000976\n",
      "Found matching appliance: Fridge freezer\n",
      "Fridge freezer is not flexible with annual energy consumption: 296 kWh\n",
      "Found matching appliance: Fridge\n",
      "Fridge is not flexible with annual energy consumption: 346 kWh\n",
      "Found matching appliance: Halogen lamp\n",
      "Halogen lamp is flexible with annual energy consumption: 134 kWh\n",
      "Found matching appliance: Halogen lamp\n",
      "Halogen lamp is flexible with annual energy consumption: 134 kWh\n",
      "Found matching appliance: Microwave oven\n",
      "Microwave oven is flexible with annual energy consumption: 39 kWh\n",
      "Found matching appliance: Site consumption\n",
      "Found matching appliance: Total site light consumption\n",
      "Found matching appliance: TV\n",
      "TV is flexible with annual energy consumption: 150 kWh\n",
      "Found matching appliance: TV\n",
      "TV is flexible with annual energy consumption: 150 kWh\n",
      "Found matching appliance: Washing machine\n",
      "Washing machine is flexible with annual energy consumption: 100 kWh\n",
      "Processing sheet 2000978\n",
      "Found matching appliance: Clothes drier\n",
      "Clothes drier is flexible with annual energy consumption: 280 kWh\n",
      "Found matching appliance: Electric heating\n",
      "Electric heating is flexible with annual energy consumption: 1720 kWh\n",
      "Found matching appliance: Electric oven\n",
      "Electric oven is flexible with annual energy consumption: 146 kWh\n",
      "Found matching appliance: Fridge freezer\n",
      "Fridge freezer is not flexible with annual energy consumption: 296 kWh\n",
      "Found matching appliance: Fridge\n",
      "Fridge is not flexible with annual energy consumption: 346 kWh\n",
      "Found matching appliance: Halogen lamp\n",
      "Halogen lamp is flexible with annual energy consumption: 134 kWh\n",
      "Found matching appliance: Halogen lamp\n",
      "Halogen lamp is flexible with annual energy consumption: 134 kWh\n",
      "Found matching appliance: Site consumption\n",
      "Found matching appliance: Total site light consumption\n",
      "Found matching appliance: TV\n",
      "TV is flexible with annual energy consumption: 150 kWh\n",
      "Found matching appliance: TV\n",
      "TV is flexible with annual energy consumption: 150 kWh\n",
      "Found matching appliance: Washing machine\n",
      "Washing machine is flexible with annual energy consumption: 100 kWh\n",
      "Found matching appliance: Water heater\n",
      "Water heater is flexible with annual energy consumption: 1676 kWh\n",
      "Processing sheet 2000979\n",
      "Found matching appliance: Dish washer\n",
      "Dish washer is flexible with annual energy consumption: 154 kWh\n",
      "Found matching appliance: Electric oven\n",
      "Electric oven is flexible with annual energy consumption: 146 kWh\n",
      "Found matching appliance: Fridge freezer\n",
      "Fridge freezer is not flexible with annual energy consumption: 296 kWh\n",
      "Found matching appliance: Fridge\n",
      "Fridge is not flexible with annual energy consumption: 346 kWh\n",
      "Found matching appliance: Microwave oven\n",
      "Microwave oven is flexible with annual energy consumption: 39 kWh\n",
      "Found matching appliance: Power supply for wall boiler\n",
      "Power supply for wall boiler is flexible with annual energy consumption: 120 kWh\n",
      "Found matching appliance: Site consumption\n",
      "Found matching appliance: TV\n",
      "TV is flexible with annual energy consumption: 150 kWh\n",
      "Found matching appliance: Washing machine\n",
      "Washing machine is flexible with annual energy consumption: 100 kWh\n",
      "Processing sheet 2000980\n",
      "Found matching appliance: Dish washer\n",
      "Dish washer is flexible with annual energy consumption: 154 kWh\n",
      "Found matching appliance: Electric oven\n",
      "Electric oven is flexible with annual energy consumption: 146 kWh\n",
      "Found matching appliance: Fridge freezer\n",
      "Fridge freezer is not flexible with annual energy consumption: 296 kWh\n",
      "Found matching appliance: Fridge\n",
      "Fridge is not flexible with annual energy consumption: 346 kWh\n",
      "Found matching appliance: Halogen lamp\n",
      "Halogen lamp is flexible with annual energy consumption: 134 kWh\n",
      "Found matching appliance: Halogen lamp\n",
      "Halogen lamp is flexible with annual energy consumption: 134 kWh\n",
      "Found matching appliance: Hot plate\n",
      "Hot plate is flexible with annual energy consumption: 159 kWh\n",
      "Found matching appliance: Microwave oven\n",
      "Microwave oven is flexible with annual energy consumption: 39 kWh\n",
      "Found matching appliance: Site consumption\n",
      "Found matching appliance: Total site light consumption\n",
      "Found matching appliance: TV\n",
      "TV is flexible with annual energy consumption: 150 kWh\n",
      "Found matching appliance: TV\n",
      "TV is flexible with annual energy consumption: 150 kWh\n",
      "Found matching appliance: Washing machine\n",
      "Washing machine is flexible with annual energy consumption: 100 kWh\n",
      "Processing sheet 2000981\n",
      "Found matching appliance: Aquarium\n",
      "Aquarium is not flexible with annual energy consumption: 200 kWh\n",
      "Found matching appliance: Chest freezer\n",
      "Chest freezer is not flexible with annual energy consumption: 296 kWh\n",
      "Found matching appliance: Dish washer\n",
      "Dish washer is flexible with annual energy consumption: 154 kWh\n",
      "Found matching appliance: Fridge\n",
      "Fridge is not flexible with annual energy consumption: 346 kWh\n",
      "Found matching appliance: Microwave oven\n",
      "Microwave oven is flexible with annual energy consumption: 39 kWh\n",
      "Found matching appliance: Site consumption\n",
      "Found matching appliance: Total site light consumption\n",
      "Found matching appliance: TV\n",
      "TV is flexible with annual energy consumption: 150 kWh\n",
      "Found matching appliance: TV\n",
      "TV is flexible with annual energy consumption: 150 kWh\n",
      "Found matching appliance: Washing machine\n",
      "Washing machine is flexible with annual energy consumption: 100 kWh\n",
      "Found matching appliance: Water heater\n",
      "Water heater is flexible with annual energy consumption: 1676 kWh\n",
      "Processing sheet 2000982\n",
      "Found matching appliance: Electric heating\n",
      "Electric heating is flexible with annual energy consumption: 1720 kWh\n",
      "Found matching appliance: Electric oven\n",
      "Electric oven is flexible with annual energy consumption: 146 kWh\n",
      "Found matching appliance: Fridge freezer\n",
      "Fridge freezer is not flexible with annual energy consumption: 296 kWh\n",
      "Found matching appliance: Fridge\n",
      "Fridge is not flexible with annual energy consumption: 346 kWh\n",
      "Found matching appliance: Hot plate\n",
      "Hot plate is flexible with annual energy consumption: 159 kWh\n",
      "Found matching appliance: Microwave oven\n",
      "Microwave oven is flexible with annual energy consumption: 39 kWh\n",
      "Found matching appliance: Site consumption\n",
      "Found matching appliance: Total site light consumption\n",
      "Found matching appliance: TV\n",
      "TV is flexible with annual energy consumption: 150 kWh\n",
      "Found matching appliance: Washing machine\n",
      "Washing machine is flexible with annual energy consumption: 100 kWh\n",
      "Found matching appliance: Washing machine+clothes drier\n",
      "Washing machine+clothes drier is flexible with annual energy consumption: 385 kWh\n",
      "Found matching appliance: Water heater\n",
      "Water heater is flexible with annual energy consumption: 1676 kWh\n",
      "Processing sheet 2000983\n",
      "Found matching appliance: Dish washer\n",
      "Dish washer is flexible with annual energy consumption: 154 kWh\n",
      "Found matching appliance: Electric heating\n",
      "Electric heating is flexible with annual energy consumption: 1720 kWh\n",
      "Found matching appliance: Fridge freezer\n",
      "Fridge freezer is not flexible with annual energy consumption: 296 kWh\n",
      "Found matching appliance: Fridge\n",
      "Fridge is not flexible with annual energy consumption: 346 kWh\n",
      "Found matching appliance: Hot plate\n",
      "Hot plate is flexible with annual energy consumption: 159 kWh\n",
      "Found matching appliance: Microwave oven\n",
      "Microwave oven is flexible with annual energy consumption: 39 kWh\n",
      "Found matching appliance: Non halogen lamp\n",
      "Non halogen lamp is flexible with annual energy consumption: 134 kWh\n",
      "Found matching appliance: Site consumption\n",
      "Found matching appliance: Total site light consumption\n",
      "Found matching appliance: TV\n",
      "TV is flexible with annual energy consumption: 150 kWh\n",
      "Found matching appliance: Washing machine\n",
      "Washing machine is flexible with annual energy consumption: 100 kWh\n",
      "Found matching appliance: Washing machine+clothes drier\n",
      "Washing machine+clothes drier is flexible with annual energy consumption: 385 kWh\n",
      "Found matching appliance: Water heater\n",
      "Water heater is flexible with annual energy consumption: 1676 kWh\n",
      "Found matching appliance: Water heater\n",
      "Water heater is flexible with annual energy consumption: 1676 kWh\n",
      "Processing sheet 2000984\n",
      "Found matching appliance: Dish washer\n",
      "Dish washer is flexible with annual energy consumption: 154 kWh\n",
      "Found matching appliance: Electric Cooker\n",
      "Electric Cooker is flexible with annual energy consumption: 159 kWh\n",
      "Found matching appliance: Fridge freezer\n",
      "Fridge freezer is not flexible with annual energy consumption: 296 kWh\n",
      "Found matching appliance: Fridge\n",
      "Fridge is not flexible with annual energy consumption: 346 kWh\n",
      "Found matching appliance: Halogen lamp\n",
      "Halogen lamp is flexible with annual energy consumption: 134 kWh\n",
      "Found matching appliance: Halogen lamp\n",
      "Halogen lamp is flexible with annual energy consumption: 134 kWh\n",
      "Found matching appliance: Halogen lamp\n",
      "Halogen lamp is flexible with annual energy consumption: 134 kWh\n",
      "Found matching appliance: Halogen lamp\n",
      "Halogen lamp is flexible with annual energy consumption: 134 kWh\n",
      "Found matching appliance: Halogen lamp\n",
      "Halogen lamp is flexible with annual energy consumption: 134 kWh\n",
      "Found matching appliance: Microwave oven\n",
      "Microwave oven is flexible with annual energy consumption: 39 kWh\n",
      "Found matching appliance: Site consumption\n",
      "Found matching appliance: Total site light consumption\n",
      "Found matching appliance: TV\n",
      "TV is flexible with annual energy consumption: 150 kWh\n",
      "Found matching appliance: TV\n",
      "TV is flexible with annual energy consumption: 150 kWh\n",
      "Found matching appliance: Washing machine\n",
      "Washing machine is flexible with annual energy consumption: 100 kWh\n",
      "Processing sheet 2000985\n",
      "Found matching appliance: Aquarium\n",
      "Aquarium is not flexible with annual energy consumption: 200 kWh\n",
      "Found matching appliance: Dish washer\n",
      "Dish washer is flexible with annual energy consumption: 154 kWh\n",
      "Found matching appliance: Electric Cooker\n",
      "Electric Cooker is flexible with annual energy consumption: 159 kWh\n",
      "Found matching appliance: Fridge freezer\n",
      "Fridge freezer is not flexible with annual energy consumption: 296 kWh\n",
      "Found matching appliance: Fridge\n",
      "Fridge is not flexible with annual energy consumption: 346 kWh\n",
      "Found matching appliance: Halogen lamp\n",
      "Halogen lamp is flexible with annual energy consumption: 134 kWh\n",
      "Found matching appliance: Halogen lamp\n",
      "Halogen lamp is flexible with annual energy consumption: 134 kWh\n",
      "Found matching appliance: Microwave oven\n",
      "Microwave oven is flexible with annual energy consumption: 39 kWh\n",
      "Found matching appliance: Site consumption\n",
      "Found matching appliance: Total site light consumption\n",
      "Found matching appliance: TV\n",
      "TV is flexible with annual energy consumption: 150 kWh\n",
      "Found matching appliance: Washing machine\n",
      "Washing machine is flexible with annual energy consumption: 100 kWh\n",
      "Processing sheet 2000986\n",
      "Found matching appliance: Aquarium\n",
      "Aquarium is not flexible with annual energy consumption: 200 kWh\n",
      "Found matching appliance: Chest freezer\n",
      "Chest freezer is not flexible with annual energy consumption: 296 kWh\n",
      "Found matching appliance: Electric Cooker\n",
      "Electric Cooker is flexible with annual energy consumption: 159 kWh\n",
      "Found matching appliance: Fridge freezer\n",
      "Fridge freezer is not flexible with annual energy consumption: 296 kWh\n",
      "Found matching appliance: Fridge\n",
      "Fridge is not flexible with annual energy consumption: 346 kWh\n",
      "Found matching appliance: Microwave oven\n",
      "Microwave oven is flexible with annual energy consumption: 39 kWh\n",
      "Found matching appliance: Microwave oven\n",
      "Microwave oven is flexible with annual energy consumption: 39 kWh\n",
      "Found matching appliance: Site consumption\n",
      "Found matching appliance: TV\n",
      "TV is flexible with annual energy consumption: 150 kWh\n",
      "Found matching appliance: Washing machine\n",
      "Washing machine is flexible with annual energy consumption: 100 kWh\n",
      "Processing sheet 2000987\n",
      "Found matching appliance: Aquarium\n",
      "Aquarium is not flexible with annual energy consumption: 200 kWh\n",
      "Found matching appliance: Chest freezer\n",
      "Chest freezer is not flexible with annual energy consumption: 296 kWh\n",
      "Found matching appliance: Clothes drier\n",
      "Clothes drier is flexible with annual energy consumption: 280 kWh\n",
      "Found matching appliance: Electric Cooker\n",
      "Electric Cooker is flexible with annual energy consumption: 159 kWh\n",
      "Found matching appliance: Fridge freezer\n",
      "Fridge freezer is not flexible with annual energy consumption: 296 kWh\n",
      "Found matching appliance: Fridge\n",
      "Fridge is not flexible with annual energy consumption: 346 kWh\n",
      "Found matching appliance: Microwave oven\n",
      "Microwave oven is flexible with annual energy consumption: 39 kWh\n",
      "Found matching appliance: Site consumption\n",
      "Found matching appliance: TV\n",
      "TV is flexible with annual energy consumption: 150 kWh\n",
      "Found matching appliance: TV\n",
      "TV is flexible with annual energy consumption: 150 kWh\n",
      "Found matching appliance: Washing machine\n",
      "Washing machine is flexible with annual energy consumption: 100 kWh\n",
      "Found matching appliance: Water heater\n",
      "Water heater is flexible with annual energy consumption: 1676 kWh\n",
      "Processing sheet 2000988\n",
      "Found matching appliance: Fridge\n",
      "Fridge is not flexible with annual energy consumption: 346 kWh\n",
      "Found matching appliance: Halogen lamp\n",
      "Halogen lamp is flexible with annual energy consumption: 134 kWh\n",
      "Found matching appliance: Microwave oven\n",
      "Microwave oven is flexible with annual energy consumption: 39 kWh\n",
      "Found matching appliance: Non halogen lamp\n",
      "Non halogen lamp is flexible with annual energy consumption: 134 kWh\n",
      "Found matching appliance: Non halogen lamp\n",
      "Non halogen lamp is flexible with annual energy consumption: 134 kWh\n",
      "Found matching appliance: Non halogen lamp\n",
      "Non halogen lamp is flexible with annual energy consumption: 134 kWh\n",
      "Found matching appliance: Site consumption\n",
      "Found matching appliance: Total site light consumption\n",
      "Found matching appliance: TV\n",
      "TV is flexible with annual energy consumption: 150 kWh\n",
      "Found matching appliance: Vertical freezer\n",
      "Vertical freezer is not flexible with annual energy consumption: 296 kWh\n",
      "Found matching appliance: Washing machine\n",
      "Washing machine is flexible with annual energy consumption: 100 kWh\n",
      "Processing sheet 2000989\n",
      "Found matching appliance: Chest freezer\n",
      "Chest freezer is not flexible with annual energy consumption: 296 kWh\n",
      "Found matching appliance: Clothes drier\n",
      "Clothes drier is flexible with annual energy consumption: 280 kWh\n",
      "Found matching appliance: Dish washer\n",
      "Dish washer is flexible with annual energy consumption: 154 kWh\n",
      "Found matching appliance: Microwave oven\n",
      "Microwave oven is flexible with annual energy consumption: 39 kWh\n",
      "Found matching appliance: Site consumption\n",
      "Found matching appliance: TV\n",
      "TV is flexible with annual energy consumption: 150 kWh\n",
      "Found matching appliance: TV\n",
      "TV is flexible with annual energy consumption: 150 kWh\n",
      "Found matching appliance: Washing machine\n",
      "Washing machine is flexible with annual energy consumption: 100 kWh\n",
      "Processing sheet 2000990\n",
      "Found matching appliance: Computer site\n",
      "Computer site is flexible with annual energy consumption: 124 kWh\n",
      "Found matching appliance: Electric heating\n",
      "Electric heating is flexible with annual energy consumption: 1720 kWh\n",
      "Found matching appliance: Fridge\n",
      "Fridge is not flexible with annual energy consumption: 346 kWh\n",
      "Found matching appliance: Microwave oven\n",
      "Microwave oven is flexible with annual energy consumption: 39 kWh\n",
      "Found matching appliance: Site consumption\n",
      "Found matching appliance: TV\n",
      "TV is flexible with annual energy consumption: 150 kWh\n",
      "Found matching appliance: Vertical freezer\n",
      "Vertical freezer is not flexible with annual energy consumption: 296 kWh\n",
      "Found matching appliance: Washing machine\n",
      "Washing machine is flexible with annual energy consumption: 100 kWh\n",
      "Found matching appliance: Water heater\n",
      "Water heater is flexible with annual energy consumption: 1676 kWh\n",
      "Processing sheet 2000991\n",
      "Found matching appliance: Chest freezer\n",
      "Chest freezer is not flexible with annual energy consumption: 296 kWh\n",
      "Found matching appliance: Dish washer\n",
      "Dish washer is flexible with annual energy consumption: 154 kWh\n",
      "Found matching appliance: Microwave oven\n",
      "Microwave oven is flexible with annual energy consumption: 39 kWh\n",
      "Found matching appliance: Site consumption\n",
      "Found matching appliance: Washing machine\n",
      "Washing machine is flexible with annual energy consumption: 100 kWh\n",
      "Found matching appliance: Water heater\n",
      "Water heater is flexible with annual energy consumption: 1676 kWh\n",
      "Processing sheet 2000992\n",
      "Found matching appliance: Aquarium\n",
      "Aquarium is not flexible with annual energy consumption: 200 kWh\n",
      "Found matching appliance: Chest freezer\n",
      "Chest freezer is not flexible with annual energy consumption: 296 kWh\n",
      "Found matching appliance: Clothes drier\n",
      "Clothes drier is flexible with annual energy consumption: 280 kWh\n",
      "Found matching appliance: Fridge\n",
      "Fridge is not flexible with annual energy consumption: 346 kWh\n",
      "Found matching appliance: Microwave oven\n",
      "Microwave oven is flexible with annual energy consumption: 39 kWh\n",
      "Found matching appliance: Site consumption\n",
      "Found matching appliance: TV\n",
      "TV is flexible with annual energy consumption: 150 kWh\n",
      "Processing sheet 2000993\n",
      "Found matching appliance: Chest freezer\n",
      "Chest freezer is not flexible with annual energy consumption: 296 kWh\n",
      "Found matching appliance: Dish washer\n",
      "Dish washer is flexible with annual energy consumption: 154 kWh\n",
      "Found matching appliance: Electric Cooker\n",
      "Electric Cooker is flexible with annual energy consumption: 159 kWh\n",
      "Found matching appliance: Fridge freezer\n",
      "Fridge freezer is not flexible with annual energy consumption: 296 kWh\n",
      "Found matching appliance: Fridge\n",
      "Fridge is not flexible with annual energy consumption: 346 kWh\n",
      "Found matching appliance: Microwave oven\n",
      "Microwave oven is flexible with annual energy consumption: 39 kWh\n",
      "Found matching appliance: Microwave oven\n",
      "Microwave oven is flexible with annual energy consumption: 39 kWh\n",
      "Found matching appliance: Power supply for fuel boiler\n",
      "Power supply for fuel boiler is flexible with annual energy consumption: 363 kWh\n",
      "Found matching appliance: Site consumption\n",
      "Found matching appliance: TV\n",
      "TV is flexible with annual energy consumption: 150 kWh\n",
      "Found matching appliance: Washing machine\n",
      "Washing machine is flexible with annual energy consumption: 100 kWh\n",
      "Processing sheet 2000994\n",
      "Found matching appliance: Fridge freezer\n",
      "Fridge freezer is not flexible with annual energy consumption: 296 kWh\n",
      "Found matching appliance: Fridge\n",
      "Fridge is not flexible with annual energy consumption: 346 kWh\n",
      "Found matching appliance: Microwave oven\n",
      "Microwave oven is flexible with annual energy consumption: 39 kWh\n",
      "Found matching appliance: Site consumption\n",
      "Found matching appliance: TV\n",
      "TV is flexible with annual energy consumption: 150 kWh\n",
      "Found matching appliance: TV\n",
      "TV is flexible with annual energy consumption: 150 kWh\n",
      "Found matching appliance: Vertical freezer\n",
      "Vertical freezer is not flexible with annual energy consumption: 296 kWh\n",
      "Found matching appliance: Washing machine\n",
      "Washing machine is flexible with annual energy consumption: 100 kWh\n",
      "Processing sheet 2000995\n",
      "Found matching appliance: Chest freezer\n",
      "Chest freezer is not flexible with annual energy consumption: 296 kWh\n",
      "Found matching appliance: Fridge freezer\n",
      "Fridge freezer is not flexible with annual energy consumption: 296 kWh\n",
      "Found matching appliance: Fridge\n",
      "Fridge is not flexible with annual energy consumption: 346 kWh\n",
      "Found matching appliance: Microwave oven\n",
      "Microwave oven is flexible with annual energy consumption: 39 kWh\n",
      "Found matching appliance: Non halogen lamp\n",
      "Non halogen lamp is flexible with annual energy consumption: 134 kWh\n",
      "Found matching appliance: Non halogen lamp\n",
      "Non halogen lamp is flexible with annual energy consumption: 134 kWh\n",
      "Found matching appliance: Non halogen lamp\n",
      "Non halogen lamp is flexible with annual energy consumption: 134 kWh\n",
      "Found matching appliance: Site consumption\n",
      "Found matching appliance: Total site light consumption\n",
      "Found matching appliance: TV\n",
      "TV is flexible with annual energy consumption: 150 kWh\n",
      "Found matching appliance: TV\n",
      "TV is flexible with annual energy consumption: 150 kWh\n",
      "Found matching appliance: Washing machine\n",
      "Washing machine is flexible with annual energy consumption: 100 kWh\n",
      "Processing sheet 2000996\n",
      "Found matching appliance: Chest freezer\n",
      "Chest freezer is not flexible with annual energy consumption: 296 kWh\n",
      "Found matching appliance: Clothes drier\n",
      "Clothes drier is flexible with annual energy consumption: 280 kWh\n",
      "Found matching appliance: Dish washer\n",
      "Dish washer is flexible with annual energy consumption: 154 kWh\n",
      "Found matching appliance: Electric deep frier\n",
      "Electric deep frier is flexible with annual energy consumption: 159 kWh\n",
      "Found matching appliance: Electric oven\n",
      "Electric oven is flexible with annual energy consumption: 146 kWh\n",
      "Found matching appliance: Fridge freezer\n",
      "Fridge freezer is not flexible with annual energy consumption: 296 kWh\n",
      "Found matching appliance: Fridge\n",
      "Fridge is not flexible with annual energy consumption: 346 kWh\n",
      "Found matching appliance: Fridge\n",
      "Fridge is not flexible with annual energy consumption: 346 kWh\n",
      "Found matching appliance: Microwave oven\n",
      "Microwave oven is flexible with annual energy consumption: 39 kWh\n",
      "Found matching appliance: Site consumption\n",
      "Found matching appliance: TV\n",
      "TV is flexible with annual energy consumption: 150 kWh\n",
      "Found matching appliance: TV\n",
      "TV is flexible with annual energy consumption: 150 kWh\n",
      "Found matching appliance: TV\n",
      "TV is flexible with annual energy consumption: 150 kWh\n",
      "Found matching appliance: Washing machine\n",
      "Washing machine is flexible with annual energy consumption: 100 kWh\n",
      "Processing sheet 2000997\n",
      "Found matching appliance: Dish washer\n",
      "Dish washer is flexible with annual energy consumption: 154 kWh\n",
      "Found matching appliance: Electric oven\n",
      "Electric oven is flexible with annual energy consumption: 146 kWh\n",
      "Found matching appliance: Fridge freezer\n",
      "Fridge freezer is not flexible with annual energy consumption: 296 kWh\n",
      "Found matching appliance: Fridge\n",
      "Fridge is not flexible with annual energy consumption: 346 kWh\n",
      "Found matching appliance: Microwave oven\n",
      "Microwave oven is flexible with annual energy consumption: 39 kWh\n",
      "Found matching appliance: Non halogen lamp\n",
      "Non halogen lamp is flexible with annual energy consumption: 134 kWh\n",
      "Found matching appliance: Site consumption\n",
      "Found matching appliance: Total site light consumption\n",
      "Found matching appliance: TV\n",
      "TV is flexible with annual energy consumption: 150 kWh\n",
      "Found matching appliance: TV\n",
      "TV is flexible with annual energy consumption: 150 kWh\n",
      "Found matching appliance: Vertical freezer\n",
      "Vertical freezer is not flexible with annual energy consumption: 296 kWh\n",
      "Found matching appliance: Washing machine\n",
      "Washing machine is flexible with annual energy consumption: 100 kWh\n"
     ]
    },
    {
     "data": {
      "application/vnd.plotly.v1+json": {
       "config": {
        "plotlyServerURL": "https://plot.ly"
       },
       "data": [
        {
         "marker": {
          "color": "blue"
         },
         "name": "Total Consumption",
         "type": "bar",
         "x": [
          "2000957",
          "2000905",
          "2000973",
          "2000994",
          "2000958",
          "2000992",
          "2000986",
          "2000965",
          "2000963",
          "2000918",
          "2000950",
          "2000941",
          "2000912",
          "2000951",
          "2000976",
          "2000979",
          "2000960",
          "2000906",
          "2000910",
          "2000913",
          "2000942",
          "2000961",
          "2000929",
          "2000923",
          "2000988",
          "2000930",
          "2000995",
          "2000925",
          "2000931",
          "2000985",
          "2000989",
          "2000997",
          "2000939",
          "2000911",
          "2000927",
          "2000901",
          "2000932",
          "2000993",
          "2000946",
          "2000970",
          "2000917",
          "2000908",
          "2000916",
          "2000940",
          "2000926",
          "2000935",
          "2000949",
          "2000966",
          "2000903",
          "2000980",
          "2000943",
          "2000922",
          "2000964",
          "2000947",
          "2000996",
          "2000972",
          "2000984",
          "2000952",
          "2000991",
          "2000900",
          "2000955",
          "2000907",
          "2000981",
          "2000962",
          "2000956",
          "2000987",
          "2000904",
          "2000969",
          "2000971",
          "2000954",
          "2000990",
          "2000959",
          "2000909",
          "2000975",
          "2000921",
          "2000945",
          "2000944",
          "2000968",
          "2000953",
          "2000936",
          "2000934",
          "2000967",
          "2000982",
          "2000938",
          "2000928",
          "2000978",
          "2000914",
          "2000974",
          "2000983",
          "2000948",
          "2000915"
         ],
         "y": [
          931,
          1361,
          1077,
          1377,
          1081,
          1311,
          1625,
          1156,
          1160,
          1224,
          1235,
          1590,
          1615,
          1638,
          1349,
          1351,
          1361,
          1670,
          1674,
          1428,
          1724,
          1432,
          1450,
          1157,
          1467,
          1772,
          1779,
          1483,
          1991,
          1712,
          1169,
          1811,
          2176,
          1587,
          1971,
          1633,
          1642,
          1942,
          1308,
          1656,
          1366,
          1966,
          1344,
          1997,
          2058,
          1740,
          2036,
          2052,
          1449,
          1808,
          2204,
          1916,
          2130,
          1970,
          2612,
          2037,
          2064,
          1828,
          2265,
          2672,
          2714,
          2249,
          3111,
          3171,
          3467,
          3692,
          2913,
          2682,
          4740,
          4438,
          4451,
          4607,
          4620,
          4620,
          4180,
          4932,
          4706,
          4536,
          5156,
          4872,
          4545,
          4927,
          5017,
          5031,
          5366,
          5132,
          5204,
          5968,
          6835,
          7746,
          13150
         ]
        },
        {
         "marker": {
          "color": [
           "red",
           "red",
           "red",
           "red",
           "red",
           "red",
           "red",
           "red",
           "red",
           "red",
           "red",
           "red",
           "red",
           "red",
           "red",
           "red",
           "red",
           "red",
           "red",
           "red",
           "red",
           "red",
           "red",
           "red",
           "red",
           "red",
           "red",
           "red",
           "red",
           "red",
           "yellow",
           "yellow",
           "yellow",
           "yellow",
           "yellow",
           "yellow",
           "yellow",
           "yellow",
           "yellow",
           "yellow",
           "yellow",
           "yellow",
           "yellow",
           "yellow",
           "yellow",
           "yellow",
           "yellow",
           "yellow",
           "yellow",
           "yellow",
           "yellow",
           "yellow",
           "yellow",
           "yellow",
           "yellow",
           "yellow",
           "yellow",
           "yellow",
           "yellow",
           "yellow",
           "green",
           "green",
           "green",
           "green",
           "green",
           "green",
           "green",
           "green",
           "green",
           "green",
           "green",
           "green",
           "green",
           "green",
           "green",
           "green",
           "green",
           "green",
           "green",
           "green",
           "green",
           "green",
           "green",
           "green",
           "green",
           "green",
           "green",
           "green",
           "green",
           "green",
           "green"
          ]
         },
         "name": "Flexible Consumption",
         "opacity": 0.5,
         "type": "bar",
         "x": [
          "2000957",
          "2000905",
          "2000973",
          "2000994",
          "2000958",
          "2000992",
          "2000986",
          "2000965",
          "2000963",
          "2000918",
          "2000950",
          "2000941",
          "2000912",
          "2000951",
          "2000976",
          "2000979",
          "2000960",
          "2000906",
          "2000910",
          "2000913",
          "2000942",
          "2000961",
          "2000929",
          "2000923",
          "2000988",
          "2000930",
          "2000995",
          "2000925",
          "2000931",
          "2000985",
          "2000989",
          "2000997",
          "2000939",
          "2000911",
          "2000927",
          "2000901",
          "2000932",
          "2000993",
          "2000946",
          "2000970",
          "2000917",
          "2000908",
          "2000916",
          "2000940",
          "2000926",
          "2000935",
          "2000949",
          "2000966",
          "2000903",
          "2000980",
          "2000943",
          "2000922",
          "2000964",
          "2000947",
          "2000996",
          "2000972",
          "2000984",
          "2000952",
          "2000991",
          "2000900",
          "2000955",
          "2000907",
          "2000981",
          "2000962",
          "2000956",
          "2000987",
          "2000904",
          "2000969",
          "2000971",
          "2000954",
          "2000990",
          "2000959",
          "2000909",
          "2000975",
          "2000921",
          "2000945",
          "2000944",
          "2000968",
          "2000953",
          "2000936",
          "2000934",
          "2000967",
          "2000982",
          "2000938",
          "2000928",
          "2000978",
          "2000914",
          "2000974",
          "2000983",
          "2000948",
          "2000915"
         ],
         "y": [
          289,
          423,
          435,
          439,
          439,
          469,
          487,
          514,
          518,
          582,
          593,
          602,
          677,
          700,
          707,
          709,
          719,
          732,
          736,
          786,
          786,
          790,
          808,
          811,
          825,
          834,
          841,
          841,
          853,
          870,
          873,
          873,
          892,
          945,
          983,
          991,
          1000,
          1004,
          1012,
          1014,
          1020,
          1028,
          1048,
          1059,
          1070,
          1098,
          1098,
          1114,
          1153,
          1166,
          1216,
          1274,
          1288,
          1328,
          1328,
          1395,
          1422,
          1532,
          1969,
          2030,
          2072,
          2249,
          2269,
          2529,
          2529,
          2554,
          2617,
          2682,
          2764,
          3796,
          3809,
          3965,
          3978,
          3978,
          3994,
          3994,
          4064,
          4190,
          4218,
          4230,
          4249,
          4285,
          4375,
          4389,
          4428,
          4490,
          4562,
          5326,
          6193,
          6608,
          12854
         ]
        }
       ],
       "layout": {
        "barmode": "overlay",
        "height": 800,
        "margin": {
         "b": 200,
         "l": 100,
         "r": 100,
         "t": 100
        },
        "template": {
         "data": {
          "bar": [
           {
            "error_x": {
             "color": "#2a3f5f"
            },
            "error_y": {
             "color": "#2a3f5f"
            },
            "marker": {
             "line": {
              "color": "#E5ECF6",
              "width": 0.5
             },
             "pattern": {
              "fillmode": "overlay",
              "size": 10,
              "solidity": 0.2
             }
            },
            "type": "bar"
           }
          ],
          "barpolar": [
           {
            "marker": {
             "line": {
              "color": "#E5ECF6",
              "width": 0.5
             },
             "pattern": {
              "fillmode": "overlay",
              "size": 10,
              "solidity": 0.2
             }
            },
            "type": "barpolar"
           }
          ],
          "carpet": [
           {
            "aaxis": {
             "endlinecolor": "#2a3f5f",
             "gridcolor": "white",
             "linecolor": "white",
             "minorgridcolor": "white",
             "startlinecolor": "#2a3f5f"
            },
            "baxis": {
             "endlinecolor": "#2a3f5f",
             "gridcolor": "white",
             "linecolor": "white",
             "minorgridcolor": "white",
             "startlinecolor": "#2a3f5f"
            },
            "type": "carpet"
           }
          ],
          "choropleth": [
           {
            "colorbar": {
             "outlinewidth": 0,
             "ticks": ""
            },
            "type": "choropleth"
           }
          ],
          "contour": [
           {
            "colorbar": {
             "outlinewidth": 0,
             "ticks": ""
            },
            "colorscale": [
             [
              0,
              "#0d0887"
             ],
             [
              0.1111111111111111,
              "#46039f"
             ],
             [
              0.2222222222222222,
              "#7201a8"
             ],
             [
              0.3333333333333333,
              "#9c179e"
             ],
             [
              0.4444444444444444,
              "#bd3786"
             ],
             [
              0.5555555555555556,
              "#d8576b"
             ],
             [
              0.6666666666666666,
              "#ed7953"
             ],
             [
              0.7777777777777778,
              "#fb9f3a"
             ],
             [
              0.8888888888888888,
              "#fdca26"
             ],
             [
              1,
              "#f0f921"
             ]
            ],
            "type": "contour"
           }
          ],
          "contourcarpet": [
           {
            "colorbar": {
             "outlinewidth": 0,
             "ticks": ""
            },
            "type": "contourcarpet"
           }
          ],
          "heatmap": [
           {
            "colorbar": {
             "outlinewidth": 0,
             "ticks": ""
            },
            "colorscale": [
             [
              0,
              "#0d0887"
             ],
             [
              0.1111111111111111,
              "#46039f"
             ],
             [
              0.2222222222222222,
              "#7201a8"
             ],
             [
              0.3333333333333333,
              "#9c179e"
             ],
             [
              0.4444444444444444,
              "#bd3786"
             ],
             [
              0.5555555555555556,
              "#d8576b"
             ],
             [
              0.6666666666666666,
              "#ed7953"
             ],
             [
              0.7777777777777778,
              "#fb9f3a"
             ],
             [
              0.8888888888888888,
              "#fdca26"
             ],
             [
              1,
              "#f0f921"
             ]
            ],
            "type": "heatmap"
           }
          ],
          "heatmapgl": [
           {
            "colorbar": {
             "outlinewidth": 0,
             "ticks": ""
            },
            "colorscale": [
             [
              0,
              "#0d0887"
             ],
             [
              0.1111111111111111,
              "#46039f"
             ],
             [
              0.2222222222222222,
              "#7201a8"
             ],
             [
              0.3333333333333333,
              "#9c179e"
             ],
             [
              0.4444444444444444,
              "#bd3786"
             ],
             [
              0.5555555555555556,
              "#d8576b"
             ],
             [
              0.6666666666666666,
              "#ed7953"
             ],
             [
              0.7777777777777778,
              "#fb9f3a"
             ],
             [
              0.8888888888888888,
              "#fdca26"
             ],
             [
              1,
              "#f0f921"
             ]
            ],
            "type": "heatmapgl"
           }
          ],
          "histogram": [
           {
            "marker": {
             "pattern": {
              "fillmode": "overlay",
              "size": 10,
              "solidity": 0.2
             }
            },
            "type": "histogram"
           }
          ],
          "histogram2d": [
           {
            "colorbar": {
             "outlinewidth": 0,
             "ticks": ""
            },
            "colorscale": [
             [
              0,
              "#0d0887"
             ],
             [
              0.1111111111111111,
              "#46039f"
             ],
             [
              0.2222222222222222,
              "#7201a8"
             ],
             [
              0.3333333333333333,
              "#9c179e"
             ],
             [
              0.4444444444444444,
              "#bd3786"
             ],
             [
              0.5555555555555556,
              "#d8576b"
             ],
             [
              0.6666666666666666,
              "#ed7953"
             ],
             [
              0.7777777777777778,
              "#fb9f3a"
             ],
             [
              0.8888888888888888,
              "#fdca26"
             ],
             [
              1,
              "#f0f921"
             ]
            ],
            "type": "histogram2d"
           }
          ],
          "histogram2dcontour": [
           {
            "colorbar": {
             "outlinewidth": 0,
             "ticks": ""
            },
            "colorscale": [
             [
              0,
              "#0d0887"
             ],
             [
              0.1111111111111111,
              "#46039f"
             ],
             [
              0.2222222222222222,
              "#7201a8"
             ],
             [
              0.3333333333333333,
              "#9c179e"
             ],
             [
              0.4444444444444444,
              "#bd3786"
             ],
             [
              0.5555555555555556,
              "#d8576b"
             ],
             [
              0.6666666666666666,
              "#ed7953"
             ],
             [
              0.7777777777777778,
              "#fb9f3a"
             ],
             [
              0.8888888888888888,
              "#fdca26"
             ],
             [
              1,
              "#f0f921"
             ]
            ],
            "type": "histogram2dcontour"
           }
          ],
          "mesh3d": [
           {
            "colorbar": {
             "outlinewidth": 0,
             "ticks": ""
            },
            "type": "mesh3d"
           }
          ],
          "parcoords": [
           {
            "line": {
             "colorbar": {
              "outlinewidth": 0,
              "ticks": ""
             }
            },
            "type": "parcoords"
           }
          ],
          "pie": [
           {
            "automargin": true,
            "type": "pie"
           }
          ],
          "scatter": [
           {
            "fillpattern": {
             "fillmode": "overlay",
             "size": 10,
             "solidity": 0.2
            },
            "type": "scatter"
           }
          ],
          "scatter3d": [
           {
            "line": {
             "colorbar": {
              "outlinewidth": 0,
              "ticks": ""
             }
            },
            "marker": {
             "colorbar": {
              "outlinewidth": 0,
              "ticks": ""
             }
            },
            "type": "scatter3d"
           }
          ],
          "scattercarpet": [
           {
            "marker": {
             "colorbar": {
              "outlinewidth": 0,
              "ticks": ""
             }
            },
            "type": "scattercarpet"
           }
          ],
          "scattergeo": [
           {
            "marker": {
             "colorbar": {
              "outlinewidth": 0,
              "ticks": ""
             }
            },
            "type": "scattergeo"
           }
          ],
          "scattergl": [
           {
            "marker": {
             "colorbar": {
              "outlinewidth": 0,
              "ticks": ""
             }
            },
            "type": "scattergl"
           }
          ],
          "scattermapbox": [
           {
            "marker": {
             "colorbar": {
              "outlinewidth": 0,
              "ticks": ""
             }
            },
            "type": "scattermapbox"
           }
          ],
          "scatterpolar": [
           {
            "marker": {
             "colorbar": {
              "outlinewidth": 0,
              "ticks": ""
             }
            },
            "type": "scatterpolar"
           }
          ],
          "scatterpolargl": [
           {
            "marker": {
             "colorbar": {
              "outlinewidth": 0,
              "ticks": ""
             }
            },
            "type": "scatterpolargl"
           }
          ],
          "scatterternary": [
           {
            "marker": {
             "colorbar": {
              "outlinewidth": 0,
              "ticks": ""
             }
            },
            "type": "scatterternary"
           }
          ],
          "surface": [
           {
            "colorbar": {
             "outlinewidth": 0,
             "ticks": ""
            },
            "colorscale": [
             [
              0,
              "#0d0887"
             ],
             [
              0.1111111111111111,
              "#46039f"
             ],
             [
              0.2222222222222222,
              "#7201a8"
             ],
             [
              0.3333333333333333,
              "#9c179e"
             ],
             [
              0.4444444444444444,
              "#bd3786"
             ],
             [
              0.5555555555555556,
              "#d8576b"
             ],
             [
              0.6666666666666666,
              "#ed7953"
             ],
             [
              0.7777777777777778,
              "#fb9f3a"
             ],
             [
              0.8888888888888888,
              "#fdca26"
             ],
             [
              1,
              "#f0f921"
             ]
            ],
            "type": "surface"
           }
          ],
          "table": [
           {
            "cells": {
             "fill": {
              "color": "#EBF0F8"
             },
             "line": {
              "color": "white"
             }
            },
            "header": {
             "fill": {
              "color": "#C8D4E3"
             },
             "line": {
              "color": "white"
             }
            },
            "type": "table"
           }
          ]
         },
         "layout": {
          "annotationdefaults": {
           "arrowcolor": "#2a3f5f",
           "arrowhead": 0,
           "arrowwidth": 1
          },
          "autotypenumbers": "strict",
          "coloraxis": {
           "colorbar": {
            "outlinewidth": 0,
            "ticks": ""
           }
          },
          "colorscale": {
           "diverging": [
            [
             0,
             "#8e0152"
            ],
            [
             0.1,
             "#c51b7d"
            ],
            [
             0.2,
             "#de77ae"
            ],
            [
             0.3,
             "#f1b6da"
            ],
            [
             0.4,
             "#fde0ef"
            ],
            [
             0.5,
             "#f7f7f7"
            ],
            [
             0.6,
             "#e6f5d0"
            ],
            [
             0.7,
             "#b8e186"
            ],
            [
             0.8,
             "#7fbc41"
            ],
            [
             0.9,
             "#4d9221"
            ],
            [
             1,
             "#276419"
            ]
           ],
           "sequential": [
            [
             0,
             "#0d0887"
            ],
            [
             0.1111111111111111,
             "#46039f"
            ],
            [
             0.2222222222222222,
             "#7201a8"
            ],
            [
             0.3333333333333333,
             "#9c179e"
            ],
            [
             0.4444444444444444,
             "#bd3786"
            ],
            [
             0.5555555555555556,
             "#d8576b"
            ],
            [
             0.6666666666666666,
             "#ed7953"
            ],
            [
             0.7777777777777778,
             "#fb9f3a"
            ],
            [
             0.8888888888888888,
             "#fdca26"
            ],
            [
             1,
             "#f0f921"
            ]
           ],
           "sequentialminus": [
            [
             0,
             "#0d0887"
            ],
            [
             0.1111111111111111,
             "#46039f"
            ],
            [
             0.2222222222222222,
             "#7201a8"
            ],
            [
             0.3333333333333333,
             "#9c179e"
            ],
            [
             0.4444444444444444,
             "#bd3786"
            ],
            [
             0.5555555555555556,
             "#d8576b"
            ],
            [
             0.6666666666666666,
             "#ed7953"
            ],
            [
             0.7777777777777778,
             "#fb9f3a"
            ],
            [
             0.8888888888888888,
             "#fdca26"
            ],
            [
             1,
             "#f0f921"
            ]
           ]
          },
          "colorway": [
           "#636efa",
           "#EF553B",
           "#00cc96",
           "#ab63fa",
           "#FFA15A",
           "#19d3f3",
           "#FF6692",
           "#B6E880",
           "#FF97FF",
           "#FECB52"
          ],
          "font": {
           "color": "#2a3f5f"
          },
          "geo": {
           "bgcolor": "white",
           "lakecolor": "white",
           "landcolor": "#E5ECF6",
           "showlakes": true,
           "showland": true,
           "subunitcolor": "white"
          },
          "hoverlabel": {
           "align": "left"
          },
          "hovermode": "closest",
          "mapbox": {
           "style": "light"
          },
          "paper_bgcolor": "white",
          "plot_bgcolor": "#E5ECF6",
          "polar": {
           "angularaxis": {
            "gridcolor": "white",
            "linecolor": "white",
            "ticks": ""
           },
           "bgcolor": "#E5ECF6",
           "radialaxis": {
            "gridcolor": "white",
            "linecolor": "white",
            "ticks": ""
           }
          },
          "scene": {
           "xaxis": {
            "backgroundcolor": "#E5ECF6",
            "gridcolor": "white",
            "gridwidth": 2,
            "linecolor": "white",
            "showbackground": true,
            "ticks": "",
            "zerolinecolor": "white"
           },
           "yaxis": {
            "backgroundcolor": "#E5ECF6",
            "gridcolor": "white",
            "gridwidth": 2,
            "linecolor": "white",
            "showbackground": true,
            "ticks": "",
            "zerolinecolor": "white"
           },
           "zaxis": {
            "backgroundcolor": "#E5ECF6",
            "gridcolor": "white",
            "gridwidth": 2,
            "linecolor": "white",
            "showbackground": true,
            "ticks": "",
            "zerolinecolor": "white"
           }
          },
          "shapedefaults": {
           "line": {
            "color": "#2a3f5f"
           }
          },
          "ternary": {
           "aaxis": {
            "gridcolor": "white",
            "linecolor": "white",
            "ticks": ""
           },
           "baxis": {
            "gridcolor": "white",
            "linecolor": "white",
            "ticks": ""
           },
           "bgcolor": "#E5ECF6",
           "caxis": {
            "gridcolor": "white",
            "linecolor": "white",
            "ticks": ""
           }
          },
          "title": {
           "x": 0.05
          },
          "xaxis": {
           "automargin": true,
           "gridcolor": "white",
           "linecolor": "white",
           "ticks": "",
           "title": {
            "standoff": 15
           },
           "zerolinecolor": "white",
           "zerolinewidth": 2
          },
          "yaxis": {
           "automargin": true,
           "gridcolor": "white",
           "linecolor": "white",
           "ticks": "",
           "title": {
            "standoff": 15
           },
           "zerolinecolor": "white",
           "zerolinewidth": 2
          }
         }
        },
        "title": {
         "text": "Total Energy Consumption vs. Flexible Consumption"
        },
        "width": 2000,
        "xaxis": {
         "tickangle": -45,
         "title": {
          "text": "House ID"
         }
        },
        "yaxis": {
         "range": [
          0,
          25000
         ],
         "tickformat": ",.0f",
         "title": {
          "text": "Energy Consumption (kWh)"
         }
        }
       }
      }
     },
     "metadata": {},
     "output_type": "display_data"
    }
   ],
   "source": [
    "import pandas as pd\n",
    "import plotly.graph_objs as go\n",
    "\n",
    "# Load the Excel file with the correct sheet name\n",
    "excel_file = pd.ExcelFile(r'D:\\Grenoble_university\\6_month_internship\\working space\\data\\combined_1_year_data_with_flexibility.xlsx')\n",
    "\n",
    "# Load the appliances data\n",
    "appliances_file_path = r'D:\\Grenoble_university\\6_month_internship\\working space\\data\\column_titles_with add info.xlsx'\n",
    "appliances_df = pd.read_excel(appliances_file_path)\n",
    "\n",
    "# Define houses to be excluded\n",
    "excluded_houses = {'2000902', '2000920', '2000919', '2000924','2000933', '2000937', '2000977'} #('2000902', '2000920', '2000919', '2000924' site consumption is less then sum of flexible devices), ('2000933', '2000937', '2000977' without site consumption)\n",
    "\n",
    "# Initialize dictionaries to store total and flexible energy consumption\n",
    "total_consumption = {}\n",
    "flexible_consumption = {}\n",
    "total_site_consumption = {}\n",
    "Total_light_consumption = {}\n",
    "\n",
    "# Iterate over each sheet from 2000900 to 2000997\n",
    "for sheet_number in range(2000900, 2000998):\n",
    "    sheet_name = str(sheet_number)\n",
    "    if sheet_name in excel_file.sheet_names and sheet_name not in excluded_houses:\n",
    "        print(f\"Processing sheet {sheet_name}\")\n",
    "        # Read the sheet\n",
    "        df = pd.read_excel(excel_file, sheet_name=sheet_name)\n",
    "        \n",
    "        # Initialize dictionaries for this sheet\n",
    "        total_consumption[sheet_name] = 0\n",
    "        flexible_consumption[sheet_name] = 0\n",
    "        total_site_consumption[sheet_name] = 0\n",
    "        Total_light_consumption[sheet_name] =0\n",
    "        \n",
    "        # Iterate over columns and check if appliance names match\n",
    "        for column in df.columns:\n",
    "            for index, appliance in appliances_df.iterrows():\n",
    "                # Extract substring before \"(\" symbol for comparison\n",
    "                appliance_name = appliance['Appliance'].split(\"(\")[0].strip()\n",
    "                if appliance_name in column:\n",
    "                    print(f\"Found matching appliance: {appliance_name}\")\n",
    "                    # Convert column data to numeric type\n",
    "                    df[column] = pd.to_numeric(df[column], errors='coerce')\n",
    "                    # Calculate annual energy consumption based on typical power\n",
    "                    # typical_power = appliance['typical power']\n",
    "                    annual_energy = appliance['typical annual energy [kwh/yr]']                       # typical_power * df[column].sum() / (60 * 24 * 365)  # Assuming data is in 1-minute intervals\n",
    "                    # Categorize as flexible or not flexible based on flexibility in appliances data\n",
    "                    flexibility = appliance['Flexibility']\n",
    "                    if flexibility == 'flexible':\n",
    "                        print(f\"{appliance['Appliance']} is flexible with annual energy consumption: {annual_energy} kWh\")\n",
    "                        flexible_consumption[sheet_name] += annual_energy\n",
    "                    elif flexibility == 'not_flexible':\n",
    "                        print(f\"{appliance['Appliance']} is not flexible with annual energy consumption: {annual_energy} kWh\")\n",
    "                        total_consumption[sheet_name] += annual_energy\n",
    "        # Add flexible consumption to total consumption\n",
    "        total_consumption[sheet_name] += flexible_consumption[sheet_name]\n",
    "\n",
    "# Convert dictionaries to DataFrame\n",
    "data_df = pd.DataFrame({\n",
    "    'House ID': list(total_consumption.keys()),\n",
    "    'Total Consumption': list(total_consumption.values()),\n",
    "    'Flexible Consumption': list(flexible_consumption.values())\n",
    "})\n",
    "\n",
    "# Define flexibility thresholds\n",
    "high_threshold = data_df['Flexible Consumption'].quantile(0.66)\n",
    "low_threshold = data_df['Flexible Consumption'].quantile(0.33)\n",
    "\n",
    "# Categorize flexibility potential\n",
    "def categorize_flexibility(value):\n",
    "    if value >= high_threshold:\n",
    "        return 'High'\n",
    "    elif value >= low_threshold:\n",
    "        return 'Average'\n",
    "    else:\n",
    "        return 'Low'\n",
    "\n",
    "data_df['Flexibility Category'] = data_df['Flexible Consumption'].apply(categorize_flexibility)\n",
    "\n",
    "# Define colors based on flexibility categories\n",
    "color_map = {\n",
    "    'High': 'green',\n",
    "    'Average': 'yellow',\n",
    "    'Low': 'red'\n",
    "}\n",
    "\n",
    "data_df['Color'] = data_df['Flexibility Category'].map(color_map)\n",
    "\n",
    "# Sort DataFrame by Flexible Consumption\n",
    "data_df = data_df.sort_values(by='Flexible Consumption')\n",
    "\n",
    "# Create a figure\n",
    "fig = go.Figure()\n",
    "\n",
    "# Add bars for total consumption\n",
    "fig.add_trace(go.Bar(\n",
    "    x=data_df['House ID'],\n",
    "    y=data_df['Total Consumption'],\n",
    "    name='Total Consumption',\n",
    "    marker_color='blue'\n",
    "))\n",
    "\n",
    "# Add bars for flexible consumption with colors based on flexibility category\n",
    "fig.add_trace(go.Bar(\n",
    "    x=data_df['House ID'],\n",
    "    y=data_df['Flexible Consumption'],\n",
    "    name='Flexible Consumption',\n",
    "    marker=dict(color=data_df['Color']),\n",
    "    opacity=0.5\n",
    "))\n",
    "\n",
    "# Update layout\n",
    "fig.update_layout(\n",
    "    title='Total Energy Consumption vs. Flexible Consumption',\n",
    "    xaxis_title='House ID',\n",
    "    yaxis_title='Energy Consumption (kWh)',\n",
    "    yaxis=dict(\n",
    "        tickformat=',.0f',\n",
    "        range=[0, 25000]\n",
    "    ),\n",
    "    barmode='overlay',\n",
    "    xaxis_tickangle=-45,\n",
    "    width=2000,\n",
    "    height=800,\n",
    "    margin=dict(\n",
    "        l=100,\n",
    "        r=100,\n",
    "        b=200,\n",
    "        t=100\n",
    "    )\n",
    ")\n",
    "\n",
    "# Show the figure\n",
    "fig.show()\n"
   ]
  },
  {
   "cell_type": "markdown",
   "metadata": {},
   "source": [
    "# Comparison matching: Simple and complex flexible houses "
   ]
  },
  {
   "cell_type": "code",
   "execution_count": 52,
   "metadata": {},
   "outputs": [
    {
     "name": "stdout",
     "output_type": "stream",
     "text": [
      "Total houses considered: 91\n",
      "Number of matching houses: 75\n",
      "Percentage of matching houses: 82.42%\n",
      "Houses with Matching Flexibility Categories:\n",
      "   House ID Flexibility_simple_1 Flexibility_complex_2  Match\n",
      "1   2000901              Average               Average   True\n",
      "2   2000903              Average               Average   True\n",
      "3   2000904                 High                  High   True\n",
      "4   2000905                  Low                   Low   True\n",
      "5   2000906                  Low                   Low   True\n",
      "6   2000907                 High                  High   True\n",
      "7   2000908              Average               Average   True\n",
      "8   2000909                 High                  High   True\n",
      "9   2000910                  Low                   Low   True\n",
      "11  2000912                  Low                   Low   True\n",
      "12  2000913                  Low                   Low   True\n",
      "13  2000914                 High                  High   True\n",
      "14  2000915                 High                  High   True\n",
      "15  2000916              Average               Average   True\n",
      "16  2000917              Average               Average   True\n",
      "17  2000918                  Low                   Low   True\n",
      "18  2000921                 High                  High   True\n",
      "19  2000922              Average               Average   True\n",
      "20  2000923                  Low                   Low   True\n",
      "23  2000927              Average               Average   True\n",
      "24  2000928                 High                  High   True\n",
      "25  2000929                  Low                   Low   True\n",
      "27  2000931                  Low                   Low   True\n",
      "29  2000934                 High                  High   True\n",
      "31  2000936                 High                  High   True\n",
      "32  2000938                 High                  High   True\n",
      "33  2000939              Average               Average   True\n",
      "34  2000940              Average               Average   True\n",
      "35  2000941                  Low                   Low   True\n",
      "37  2000943              Average               Average   True\n",
      "38  2000944                 High                  High   True\n",
      "39  2000945                 High                  High   True\n",
      "40  2000946              Average               Average   True\n",
      "42  2000948                 High                  High   True\n",
      "43  2000949              Average               Average   True\n",
      "45  2000951                  Low                   Low   True\n",
      "46  2000952              Average               Average   True\n",
      "47  2000953                 High                  High   True\n",
      "48  2000954                 High                  High   True\n",
      "49  2000955                 High                  High   True\n",
      "51  2000957                  Low                   Low   True\n",
      "52  2000958                  Low                   Low   True\n",
      "53  2000959                 High                  High   True\n",
      "55  2000961                  Low                   Low   True\n",
      "56  2000962                 High                  High   True\n",
      "57  2000963                  Low                   Low   True\n",
      "58  2000964              Average               Average   True\n",
      "59  2000965                  Low                   Low   True\n",
      "60  2000966              Average               Average   True\n",
      "61  2000967                 High                  High   True\n",
      "63  2000969                 High                  High   True\n",
      "65  2000971                 High                  High   True\n",
      "66  2000972              Average               Average   True\n",
      "67  2000973                  Low                   Low   True\n",
      "68  2000974                 High                  High   True\n",
      "69  2000975                 High                  High   True\n",
      "70  2000976                  Low                   Low   True\n",
      "71  2000978                 High                  High   True\n",
      "72  2000979                  Low                   Low   True\n",
      "73  2000980              Average               Average   True\n",
      "74  2000981                 High                  High   True\n",
      "75  2000982                 High                  High   True\n",
      "76  2000983                 High                  High   True\n",
      "77  2000984              Average               Average   True\n",
      "79  2000986                  Low                   Low   True\n",
      "80  2000987                 High                  High   True\n",
      "81  2000988                  Low                   Low   True\n",
      "82  2000989              Average               Average   True\n",
      "83  2000990                 High                  High   True\n",
      "84  2000991              Average               Average   True\n",
      "85  2000992                  Low                   Low   True\n",
      "87  2000994                  Low                   Low   True\n",
      "88  2000995                  Low                   Low   True\n",
      "89  2000996              Average               Average   True\n",
      "90  2000997              Average               Average   True\n",
      "\n",
      "Houses with Non-Matching Flexibility Categories:\n",
      "   House ID Flexibility_simple_1 Flexibility_complex_2  Match\n",
      "0   2000900              Average                  High  False\n",
      "10  2000911              Average                   Low  False\n",
      "21  2000925                  Low               Average  False\n",
      "22  2000926              Average                   Low  False\n",
      "26  2000930                  Low               Average  False\n",
      "28  2000932              Average                   Low  False\n",
      "30  2000935              Average                   Low  False\n",
      "36  2000942                  Low               Average  False\n",
      "41  2000947              Average                  High  False\n",
      "44  2000950                  Low               Average  False\n",
      "50  2000956                 High               Average  False\n",
      "54  2000960                  Low               Average  False\n",
      "62  2000968                 High               Average  False\n",
      "64  2000970              Average                   Low  False\n",
      "78  2000985                  Low               Average  False\n",
      "86  2000993              Average                   Low  False\n",
      "House 2000900: Flexibility simple 1 - Average, Flexibility complex 2 - High\n",
      "House 2000911: Flexibility simple 1 - Average, Flexibility complex 2 - Low\n",
      "House 2000925: Flexibility simple 1 - Low, Flexibility complex 2 - Average\n",
      "House 2000926: Flexibility simple 1 - Average, Flexibility complex 2 - Low\n",
      "House 2000930: Flexibility simple 1 - Low, Flexibility complex 2 - Average\n",
      "House 2000932: Flexibility simple 1 - Average, Flexibility complex 2 - Low\n",
      "House 2000935: Flexibility simple 1 - Average, Flexibility complex 2 - Low\n",
      "House 2000942: Flexibility simple 1 - Low, Flexibility complex 2 - Average\n",
      "House 2000947: Flexibility simple 1 - Average, Flexibility complex 2 - High\n",
      "House 2000950: Flexibility simple 1 - Low, Flexibility complex 2 - Average\n",
      "House 2000956: Flexibility simple 1 - High, Flexibility complex 2 - Average\n",
      "House 2000960: Flexibility simple 1 - Low, Flexibility complex 2 - Average\n",
      "House 2000968: Flexibility simple 1 - High, Flexibility complex 2 - Average\n",
      "House 2000970: Flexibility simple 1 - Average, Flexibility complex 2 - Low\n",
      "House 2000985: Flexibility simple 1 - Low, Flexibility complex 2 - Average\n",
      "House 2000993: Flexibility simple 1 - Average, Flexibility complex 2 - Low\n"
     ]
    },
    {
     "data": {
      "application/vnd.plotly.v1+json": {
       "config": {
        "plotlyServerURL": "https://plot.ly"
       },
       "data": [
        {
         "alignmentgroup": "True",
         "hovertemplate": "Code=Simple indicators_1<br>Flexibility Category=%{x}<br>Number of Houses=%{y}<extra></extra>",
         "legendgroup": "Simple indicators_1",
         "marker": {
          "color": "#636efa",
          "pattern": {
           "shape": ""
          }
         },
         "name": "Simple indicators_1",
         "offsetgroup": "Simple indicators_1",
         "orientation": "v",
         "showlegend": true,
         "textposition": "auto",
         "type": "bar",
         "x": [
          "High",
          "Low",
          "Average"
         ],
         "xaxis": "x",
         "y": [
          31,
          30,
          30
         ],
         "yaxis": "y"
        },
        {
         "alignmentgroup": "True",
         "hovertemplate": "Code=Complex indicators_2<br>Flexibility Category=%{x}<br>Number of Houses=%{y}<extra></extra>",
         "legendgroup": "Complex indicators_2",
         "marker": {
          "color": "#EF553B",
          "pattern": {
           "shape": ""
          }
         },
         "name": "Complex indicators_2",
         "offsetgroup": "Complex indicators_2",
         "orientation": "v",
         "showlegend": true,
         "textposition": "auto",
         "type": "bar",
         "x": [
          "High",
          "Low",
          "Average"
         ],
         "xaxis": "x",
         "y": [
          31,
          30,
          30
         ],
         "yaxis": "y"
        }
       ],
       "layout": {
        "barmode": "group",
        "legend": {
         "title": {
          "text": "Code"
         },
         "tracegroupgap": 0
        },
        "template": {
         "data": {
          "bar": [
           {
            "error_x": {
             "color": "#2a3f5f"
            },
            "error_y": {
             "color": "#2a3f5f"
            },
            "marker": {
             "line": {
              "color": "#E5ECF6",
              "width": 0.5
             },
             "pattern": {
              "fillmode": "overlay",
              "size": 10,
              "solidity": 0.2
             }
            },
            "type": "bar"
           }
          ],
          "barpolar": [
           {
            "marker": {
             "line": {
              "color": "#E5ECF6",
              "width": 0.5
             },
             "pattern": {
              "fillmode": "overlay",
              "size": 10,
              "solidity": 0.2
             }
            },
            "type": "barpolar"
           }
          ],
          "carpet": [
           {
            "aaxis": {
             "endlinecolor": "#2a3f5f",
             "gridcolor": "white",
             "linecolor": "white",
             "minorgridcolor": "white",
             "startlinecolor": "#2a3f5f"
            },
            "baxis": {
             "endlinecolor": "#2a3f5f",
             "gridcolor": "white",
             "linecolor": "white",
             "minorgridcolor": "white",
             "startlinecolor": "#2a3f5f"
            },
            "type": "carpet"
           }
          ],
          "choropleth": [
           {
            "colorbar": {
             "outlinewidth": 0,
             "ticks": ""
            },
            "type": "choropleth"
           }
          ],
          "contour": [
           {
            "colorbar": {
             "outlinewidth": 0,
             "ticks": ""
            },
            "colorscale": [
             [
              0,
              "#0d0887"
             ],
             [
              0.1111111111111111,
              "#46039f"
             ],
             [
              0.2222222222222222,
              "#7201a8"
             ],
             [
              0.3333333333333333,
              "#9c179e"
             ],
             [
              0.4444444444444444,
              "#bd3786"
             ],
             [
              0.5555555555555556,
              "#d8576b"
             ],
             [
              0.6666666666666666,
              "#ed7953"
             ],
             [
              0.7777777777777778,
              "#fb9f3a"
             ],
             [
              0.8888888888888888,
              "#fdca26"
             ],
             [
              1,
              "#f0f921"
             ]
            ],
            "type": "contour"
           }
          ],
          "contourcarpet": [
           {
            "colorbar": {
             "outlinewidth": 0,
             "ticks": ""
            },
            "type": "contourcarpet"
           }
          ],
          "heatmap": [
           {
            "colorbar": {
             "outlinewidth": 0,
             "ticks": ""
            },
            "colorscale": [
             [
              0,
              "#0d0887"
             ],
             [
              0.1111111111111111,
              "#46039f"
             ],
             [
              0.2222222222222222,
              "#7201a8"
             ],
             [
              0.3333333333333333,
              "#9c179e"
             ],
             [
              0.4444444444444444,
              "#bd3786"
             ],
             [
              0.5555555555555556,
              "#d8576b"
             ],
             [
              0.6666666666666666,
              "#ed7953"
             ],
             [
              0.7777777777777778,
              "#fb9f3a"
             ],
             [
              0.8888888888888888,
              "#fdca26"
             ],
             [
              1,
              "#f0f921"
             ]
            ],
            "type": "heatmap"
           }
          ],
          "heatmapgl": [
           {
            "colorbar": {
             "outlinewidth": 0,
             "ticks": ""
            },
            "colorscale": [
             [
              0,
              "#0d0887"
             ],
             [
              0.1111111111111111,
              "#46039f"
             ],
             [
              0.2222222222222222,
              "#7201a8"
             ],
             [
              0.3333333333333333,
              "#9c179e"
             ],
             [
              0.4444444444444444,
              "#bd3786"
             ],
             [
              0.5555555555555556,
              "#d8576b"
             ],
             [
              0.6666666666666666,
              "#ed7953"
             ],
             [
              0.7777777777777778,
              "#fb9f3a"
             ],
             [
              0.8888888888888888,
              "#fdca26"
             ],
             [
              1,
              "#f0f921"
             ]
            ],
            "type": "heatmapgl"
           }
          ],
          "histogram": [
           {
            "marker": {
             "pattern": {
              "fillmode": "overlay",
              "size": 10,
              "solidity": 0.2
             }
            },
            "type": "histogram"
           }
          ],
          "histogram2d": [
           {
            "colorbar": {
             "outlinewidth": 0,
             "ticks": ""
            },
            "colorscale": [
             [
              0,
              "#0d0887"
             ],
             [
              0.1111111111111111,
              "#46039f"
             ],
             [
              0.2222222222222222,
              "#7201a8"
             ],
             [
              0.3333333333333333,
              "#9c179e"
             ],
             [
              0.4444444444444444,
              "#bd3786"
             ],
             [
              0.5555555555555556,
              "#d8576b"
             ],
             [
              0.6666666666666666,
              "#ed7953"
             ],
             [
              0.7777777777777778,
              "#fb9f3a"
             ],
             [
              0.8888888888888888,
              "#fdca26"
             ],
             [
              1,
              "#f0f921"
             ]
            ],
            "type": "histogram2d"
           }
          ],
          "histogram2dcontour": [
           {
            "colorbar": {
             "outlinewidth": 0,
             "ticks": ""
            },
            "colorscale": [
             [
              0,
              "#0d0887"
             ],
             [
              0.1111111111111111,
              "#46039f"
             ],
             [
              0.2222222222222222,
              "#7201a8"
             ],
             [
              0.3333333333333333,
              "#9c179e"
             ],
             [
              0.4444444444444444,
              "#bd3786"
             ],
             [
              0.5555555555555556,
              "#d8576b"
             ],
             [
              0.6666666666666666,
              "#ed7953"
             ],
             [
              0.7777777777777778,
              "#fb9f3a"
             ],
             [
              0.8888888888888888,
              "#fdca26"
             ],
             [
              1,
              "#f0f921"
             ]
            ],
            "type": "histogram2dcontour"
           }
          ],
          "mesh3d": [
           {
            "colorbar": {
             "outlinewidth": 0,
             "ticks": ""
            },
            "type": "mesh3d"
           }
          ],
          "parcoords": [
           {
            "line": {
             "colorbar": {
              "outlinewidth": 0,
              "ticks": ""
             }
            },
            "type": "parcoords"
           }
          ],
          "pie": [
           {
            "automargin": true,
            "type": "pie"
           }
          ],
          "scatter": [
           {
            "fillpattern": {
             "fillmode": "overlay",
             "size": 10,
             "solidity": 0.2
            },
            "type": "scatter"
           }
          ],
          "scatter3d": [
           {
            "line": {
             "colorbar": {
              "outlinewidth": 0,
              "ticks": ""
             }
            },
            "marker": {
             "colorbar": {
              "outlinewidth": 0,
              "ticks": ""
             }
            },
            "type": "scatter3d"
           }
          ],
          "scattercarpet": [
           {
            "marker": {
             "colorbar": {
              "outlinewidth": 0,
              "ticks": ""
             }
            },
            "type": "scattercarpet"
           }
          ],
          "scattergeo": [
           {
            "marker": {
             "colorbar": {
              "outlinewidth": 0,
              "ticks": ""
             }
            },
            "type": "scattergeo"
           }
          ],
          "scattergl": [
           {
            "marker": {
             "colorbar": {
              "outlinewidth": 0,
              "ticks": ""
             }
            },
            "type": "scattergl"
           }
          ],
          "scattermapbox": [
           {
            "marker": {
             "colorbar": {
              "outlinewidth": 0,
              "ticks": ""
             }
            },
            "type": "scattermapbox"
           }
          ],
          "scatterpolar": [
           {
            "marker": {
             "colorbar": {
              "outlinewidth": 0,
              "ticks": ""
             }
            },
            "type": "scatterpolar"
           }
          ],
          "scatterpolargl": [
           {
            "marker": {
             "colorbar": {
              "outlinewidth": 0,
              "ticks": ""
             }
            },
            "type": "scatterpolargl"
           }
          ],
          "scatterternary": [
           {
            "marker": {
             "colorbar": {
              "outlinewidth": 0,
              "ticks": ""
             }
            },
            "type": "scatterternary"
           }
          ],
          "surface": [
           {
            "colorbar": {
             "outlinewidth": 0,
             "ticks": ""
            },
            "colorscale": [
             [
              0,
              "#0d0887"
             ],
             [
              0.1111111111111111,
              "#46039f"
             ],
             [
              0.2222222222222222,
              "#7201a8"
             ],
             [
              0.3333333333333333,
              "#9c179e"
             ],
             [
              0.4444444444444444,
              "#bd3786"
             ],
             [
              0.5555555555555556,
              "#d8576b"
             ],
             [
              0.6666666666666666,
              "#ed7953"
             ],
             [
              0.7777777777777778,
              "#fb9f3a"
             ],
             [
              0.8888888888888888,
              "#fdca26"
             ],
             [
              1,
              "#f0f921"
             ]
            ],
            "type": "surface"
           }
          ],
          "table": [
           {
            "cells": {
             "fill": {
              "color": "#EBF0F8"
             },
             "line": {
              "color": "white"
             }
            },
            "header": {
             "fill": {
              "color": "#C8D4E3"
             },
             "line": {
              "color": "white"
             }
            },
            "type": "table"
           }
          ]
         },
         "layout": {
          "annotationdefaults": {
           "arrowcolor": "#2a3f5f",
           "arrowhead": 0,
           "arrowwidth": 1
          },
          "autotypenumbers": "strict",
          "coloraxis": {
           "colorbar": {
            "outlinewidth": 0,
            "ticks": ""
           }
          },
          "colorscale": {
           "diverging": [
            [
             0,
             "#8e0152"
            ],
            [
             0.1,
             "#c51b7d"
            ],
            [
             0.2,
             "#de77ae"
            ],
            [
             0.3,
             "#f1b6da"
            ],
            [
             0.4,
             "#fde0ef"
            ],
            [
             0.5,
             "#f7f7f7"
            ],
            [
             0.6,
             "#e6f5d0"
            ],
            [
             0.7,
             "#b8e186"
            ],
            [
             0.8,
             "#7fbc41"
            ],
            [
             0.9,
             "#4d9221"
            ],
            [
             1,
             "#276419"
            ]
           ],
           "sequential": [
            [
             0,
             "#0d0887"
            ],
            [
             0.1111111111111111,
             "#46039f"
            ],
            [
             0.2222222222222222,
             "#7201a8"
            ],
            [
             0.3333333333333333,
             "#9c179e"
            ],
            [
             0.4444444444444444,
             "#bd3786"
            ],
            [
             0.5555555555555556,
             "#d8576b"
            ],
            [
             0.6666666666666666,
             "#ed7953"
            ],
            [
             0.7777777777777778,
             "#fb9f3a"
            ],
            [
             0.8888888888888888,
             "#fdca26"
            ],
            [
             1,
             "#f0f921"
            ]
           ],
           "sequentialminus": [
            [
             0,
             "#0d0887"
            ],
            [
             0.1111111111111111,
             "#46039f"
            ],
            [
             0.2222222222222222,
             "#7201a8"
            ],
            [
             0.3333333333333333,
             "#9c179e"
            ],
            [
             0.4444444444444444,
             "#bd3786"
            ],
            [
             0.5555555555555556,
             "#d8576b"
            ],
            [
             0.6666666666666666,
             "#ed7953"
            ],
            [
             0.7777777777777778,
             "#fb9f3a"
            ],
            [
             0.8888888888888888,
             "#fdca26"
            ],
            [
             1,
             "#f0f921"
            ]
           ]
          },
          "colorway": [
           "#636efa",
           "#EF553B",
           "#00cc96",
           "#ab63fa",
           "#FFA15A",
           "#19d3f3",
           "#FF6692",
           "#B6E880",
           "#FF97FF",
           "#FECB52"
          ],
          "font": {
           "color": "#2a3f5f"
          },
          "geo": {
           "bgcolor": "white",
           "lakecolor": "white",
           "landcolor": "#E5ECF6",
           "showlakes": true,
           "showland": true,
           "subunitcolor": "white"
          },
          "hoverlabel": {
           "align": "left"
          },
          "hovermode": "closest",
          "mapbox": {
           "style": "light"
          },
          "paper_bgcolor": "white",
          "plot_bgcolor": "#E5ECF6",
          "polar": {
           "angularaxis": {
            "gridcolor": "white",
            "linecolor": "white",
            "ticks": ""
           },
           "bgcolor": "#E5ECF6",
           "radialaxis": {
            "gridcolor": "white",
            "linecolor": "white",
            "ticks": ""
           }
          },
          "scene": {
           "xaxis": {
            "backgroundcolor": "#E5ECF6",
            "gridcolor": "white",
            "gridwidth": 2,
            "linecolor": "white",
            "showbackground": true,
            "ticks": "",
            "zerolinecolor": "white"
           },
           "yaxis": {
            "backgroundcolor": "#E5ECF6",
            "gridcolor": "white",
            "gridwidth": 2,
            "linecolor": "white",
            "showbackground": true,
            "ticks": "",
            "zerolinecolor": "white"
           },
           "zaxis": {
            "backgroundcolor": "#E5ECF6",
            "gridcolor": "white",
            "gridwidth": 2,
            "linecolor": "white",
            "showbackground": true,
            "ticks": "",
            "zerolinecolor": "white"
           }
          },
          "shapedefaults": {
           "line": {
            "color": "#2a3f5f"
           }
          },
          "ternary": {
           "aaxis": {
            "gridcolor": "white",
            "linecolor": "white",
            "ticks": ""
           },
           "baxis": {
            "gridcolor": "white",
            "linecolor": "white",
            "ticks": ""
           },
           "bgcolor": "#E5ECF6",
           "caxis": {
            "gridcolor": "white",
            "linecolor": "white",
            "ticks": ""
           }
          },
          "title": {
           "x": 0.05
          },
          "xaxis": {
           "automargin": true,
           "gridcolor": "white",
           "linecolor": "white",
           "ticks": "",
           "title": {
            "standoff": 15
           },
           "zerolinecolor": "white",
           "zerolinewidth": 2
          },
          "yaxis": {
           "automargin": true,
           "gridcolor": "white",
           "linecolor": "white",
           "ticks": "",
           "title": {
            "standoff": 15
           },
           "zerolinecolor": "white",
           "zerolinewidth": 2
          }
         }
        },
        "title": {
         "text": "Comparison of Flexibility Categories from Simple indicators 1 and Complex indicators 2"
        },
        "xaxis": {
         "anchor": "y",
         "domain": [
          0,
          1
         ],
         "title": {
          "text": "Flexibility Category"
         }
        },
        "yaxis": {
         "anchor": "x",
         "domain": [
          0,
          1
         ],
         "title": {
          "text": "Number of Houses"
         }
        }
       }
      }
     },
     "metadata": {},
     "output_type": "display_data"
    },
    {
     "data": {
      "application/vnd.plotly.v1+json": {
       "config": {
        "plotlyServerURL": "https://plot.ly"
       },
       "data": [
        {
         "alignmentgroup": "True",
         "customdata": [
          [
           31.868131868131865
          ],
          [
           26.373626373626376
          ],
          [
           24.175824175824175
          ],
          [
           6.593406593406594
          ],
          [
           6.593406593406594
          ],
          [
           2.197802197802198
          ],
          [
           2.197802197802198
          ]
         ],
         "hovertemplate": "Category Comparison=%{x}<br>Number of Houses=%{marker.color}<br>Percentage=%{customdata[0]:.2f}<extra></extra>",
         "legendgroup": "",
         "marker": {
          "color": [
           29,
           24,
           22,
           6,
           6,
           2,
           2
          ],
          "coloraxis": "coloraxis",
          "pattern": {
           "shape": ""
          }
         },
         "name": "",
         "offsetgroup": "",
         "orientation": "v",
         "showlegend": false,
         "textposition": "auto",
         "type": "bar",
         "x": [
          "High to High",
          "Low to Low",
          "Average to Average",
          "Average to Low",
          "Low to Average",
          "Average to High",
          "High to Average"
         ],
         "xaxis": "x",
         "y": [
          29,
          24,
          22,
          6,
          6,
          2,
          2
         ],
         "yaxis": "y"
        }
       ],
       "layout": {
        "barmode": "relative",
        "coloraxis": {
         "colorbar": {
          "title": {
           "text": "Number of Houses"
          }
         },
         "colorscale": [
          [
           0,
           "#440154"
          ],
          [
           0.1111111111111111,
           "#482878"
          ],
          [
           0.2222222222222222,
           "#3e4989"
          ],
          [
           0.3333333333333333,
           "#31688e"
          ],
          [
           0.4444444444444444,
           "#26828e"
          ],
          [
           0.5555555555555556,
           "#1f9e89"
          ],
          [
           0.6666666666666666,
           "#35b779"
          ],
          [
           0.7777777777777778,
           "#6ece58"
          ],
          [
           0.8888888888888888,
           "#b5de2b"
          ],
          [
           1,
           "#fde725"
          ]
         ]
        },
        "legend": {
         "tracegroupgap": 0
        },
        "template": {
         "data": {
          "bar": [
           {
            "error_x": {
             "color": "#2a3f5f"
            },
            "error_y": {
             "color": "#2a3f5f"
            },
            "marker": {
             "line": {
              "color": "#E5ECF6",
              "width": 0.5
             },
             "pattern": {
              "fillmode": "overlay",
              "size": 10,
              "solidity": 0.2
             }
            },
            "type": "bar"
           }
          ],
          "barpolar": [
           {
            "marker": {
             "line": {
              "color": "#E5ECF6",
              "width": 0.5
             },
             "pattern": {
              "fillmode": "overlay",
              "size": 10,
              "solidity": 0.2
             }
            },
            "type": "barpolar"
           }
          ],
          "carpet": [
           {
            "aaxis": {
             "endlinecolor": "#2a3f5f",
             "gridcolor": "white",
             "linecolor": "white",
             "minorgridcolor": "white",
             "startlinecolor": "#2a3f5f"
            },
            "baxis": {
             "endlinecolor": "#2a3f5f",
             "gridcolor": "white",
             "linecolor": "white",
             "minorgridcolor": "white",
             "startlinecolor": "#2a3f5f"
            },
            "type": "carpet"
           }
          ],
          "choropleth": [
           {
            "colorbar": {
             "outlinewidth": 0,
             "ticks": ""
            },
            "type": "choropleth"
           }
          ],
          "contour": [
           {
            "colorbar": {
             "outlinewidth": 0,
             "ticks": ""
            },
            "colorscale": [
             [
              0,
              "#0d0887"
             ],
             [
              0.1111111111111111,
              "#46039f"
             ],
             [
              0.2222222222222222,
              "#7201a8"
             ],
             [
              0.3333333333333333,
              "#9c179e"
             ],
             [
              0.4444444444444444,
              "#bd3786"
             ],
             [
              0.5555555555555556,
              "#d8576b"
             ],
             [
              0.6666666666666666,
              "#ed7953"
             ],
             [
              0.7777777777777778,
              "#fb9f3a"
             ],
             [
              0.8888888888888888,
              "#fdca26"
             ],
             [
              1,
              "#f0f921"
             ]
            ],
            "type": "contour"
           }
          ],
          "contourcarpet": [
           {
            "colorbar": {
             "outlinewidth": 0,
             "ticks": ""
            },
            "type": "contourcarpet"
           }
          ],
          "heatmap": [
           {
            "colorbar": {
             "outlinewidth": 0,
             "ticks": ""
            },
            "colorscale": [
             [
              0,
              "#0d0887"
             ],
             [
              0.1111111111111111,
              "#46039f"
             ],
             [
              0.2222222222222222,
              "#7201a8"
             ],
             [
              0.3333333333333333,
              "#9c179e"
             ],
             [
              0.4444444444444444,
              "#bd3786"
             ],
             [
              0.5555555555555556,
              "#d8576b"
             ],
             [
              0.6666666666666666,
              "#ed7953"
             ],
             [
              0.7777777777777778,
              "#fb9f3a"
             ],
             [
              0.8888888888888888,
              "#fdca26"
             ],
             [
              1,
              "#f0f921"
             ]
            ],
            "type": "heatmap"
           }
          ],
          "heatmapgl": [
           {
            "colorbar": {
             "outlinewidth": 0,
             "ticks": ""
            },
            "colorscale": [
             [
              0,
              "#0d0887"
             ],
             [
              0.1111111111111111,
              "#46039f"
             ],
             [
              0.2222222222222222,
              "#7201a8"
             ],
             [
              0.3333333333333333,
              "#9c179e"
             ],
             [
              0.4444444444444444,
              "#bd3786"
             ],
             [
              0.5555555555555556,
              "#d8576b"
             ],
             [
              0.6666666666666666,
              "#ed7953"
             ],
             [
              0.7777777777777778,
              "#fb9f3a"
             ],
             [
              0.8888888888888888,
              "#fdca26"
             ],
             [
              1,
              "#f0f921"
             ]
            ],
            "type": "heatmapgl"
           }
          ],
          "histogram": [
           {
            "marker": {
             "pattern": {
              "fillmode": "overlay",
              "size": 10,
              "solidity": 0.2
             }
            },
            "type": "histogram"
           }
          ],
          "histogram2d": [
           {
            "colorbar": {
             "outlinewidth": 0,
             "ticks": ""
            },
            "colorscale": [
             [
              0,
              "#0d0887"
             ],
             [
              0.1111111111111111,
              "#46039f"
             ],
             [
              0.2222222222222222,
              "#7201a8"
             ],
             [
              0.3333333333333333,
              "#9c179e"
             ],
             [
              0.4444444444444444,
              "#bd3786"
             ],
             [
              0.5555555555555556,
              "#d8576b"
             ],
             [
              0.6666666666666666,
              "#ed7953"
             ],
             [
              0.7777777777777778,
              "#fb9f3a"
             ],
             [
              0.8888888888888888,
              "#fdca26"
             ],
             [
              1,
              "#f0f921"
             ]
            ],
            "type": "histogram2d"
           }
          ],
          "histogram2dcontour": [
           {
            "colorbar": {
             "outlinewidth": 0,
             "ticks": ""
            },
            "colorscale": [
             [
              0,
              "#0d0887"
             ],
             [
              0.1111111111111111,
              "#46039f"
             ],
             [
              0.2222222222222222,
              "#7201a8"
             ],
             [
              0.3333333333333333,
              "#9c179e"
             ],
             [
              0.4444444444444444,
              "#bd3786"
             ],
             [
              0.5555555555555556,
              "#d8576b"
             ],
             [
              0.6666666666666666,
              "#ed7953"
             ],
             [
              0.7777777777777778,
              "#fb9f3a"
             ],
             [
              0.8888888888888888,
              "#fdca26"
             ],
             [
              1,
              "#f0f921"
             ]
            ],
            "type": "histogram2dcontour"
           }
          ],
          "mesh3d": [
           {
            "colorbar": {
             "outlinewidth": 0,
             "ticks": ""
            },
            "type": "mesh3d"
           }
          ],
          "parcoords": [
           {
            "line": {
             "colorbar": {
              "outlinewidth": 0,
              "ticks": ""
             }
            },
            "type": "parcoords"
           }
          ],
          "pie": [
           {
            "automargin": true,
            "type": "pie"
           }
          ],
          "scatter": [
           {
            "fillpattern": {
             "fillmode": "overlay",
             "size": 10,
             "solidity": 0.2
            },
            "type": "scatter"
           }
          ],
          "scatter3d": [
           {
            "line": {
             "colorbar": {
              "outlinewidth": 0,
              "ticks": ""
             }
            },
            "marker": {
             "colorbar": {
              "outlinewidth": 0,
              "ticks": ""
             }
            },
            "type": "scatter3d"
           }
          ],
          "scattercarpet": [
           {
            "marker": {
             "colorbar": {
              "outlinewidth": 0,
              "ticks": ""
             }
            },
            "type": "scattercarpet"
           }
          ],
          "scattergeo": [
           {
            "marker": {
             "colorbar": {
              "outlinewidth": 0,
              "ticks": ""
             }
            },
            "type": "scattergeo"
           }
          ],
          "scattergl": [
           {
            "marker": {
             "colorbar": {
              "outlinewidth": 0,
              "ticks": ""
             }
            },
            "type": "scattergl"
           }
          ],
          "scattermapbox": [
           {
            "marker": {
             "colorbar": {
              "outlinewidth": 0,
              "ticks": ""
             }
            },
            "type": "scattermapbox"
           }
          ],
          "scatterpolar": [
           {
            "marker": {
             "colorbar": {
              "outlinewidth": 0,
              "ticks": ""
             }
            },
            "type": "scatterpolar"
           }
          ],
          "scatterpolargl": [
           {
            "marker": {
             "colorbar": {
              "outlinewidth": 0,
              "ticks": ""
             }
            },
            "type": "scatterpolargl"
           }
          ],
          "scatterternary": [
           {
            "marker": {
             "colorbar": {
              "outlinewidth": 0,
              "ticks": ""
             }
            },
            "type": "scatterternary"
           }
          ],
          "surface": [
           {
            "colorbar": {
             "outlinewidth": 0,
             "ticks": ""
            },
            "colorscale": [
             [
              0,
              "#0d0887"
             ],
             [
              0.1111111111111111,
              "#46039f"
             ],
             [
              0.2222222222222222,
              "#7201a8"
             ],
             [
              0.3333333333333333,
              "#9c179e"
             ],
             [
              0.4444444444444444,
              "#bd3786"
             ],
             [
              0.5555555555555556,
              "#d8576b"
             ],
             [
              0.6666666666666666,
              "#ed7953"
             ],
             [
              0.7777777777777778,
              "#fb9f3a"
             ],
             [
              0.8888888888888888,
              "#fdca26"
             ],
             [
              1,
              "#f0f921"
             ]
            ],
            "type": "surface"
           }
          ],
          "table": [
           {
            "cells": {
             "fill": {
              "color": "#EBF0F8"
             },
             "line": {
              "color": "white"
             }
            },
            "header": {
             "fill": {
              "color": "#C8D4E3"
             },
             "line": {
              "color": "white"
             }
            },
            "type": "table"
           }
          ]
         },
         "layout": {
          "annotationdefaults": {
           "arrowcolor": "#2a3f5f",
           "arrowhead": 0,
           "arrowwidth": 1
          },
          "autotypenumbers": "strict",
          "coloraxis": {
           "colorbar": {
            "outlinewidth": 0,
            "ticks": ""
           }
          },
          "colorscale": {
           "diverging": [
            [
             0,
             "#8e0152"
            ],
            [
             0.1,
             "#c51b7d"
            ],
            [
             0.2,
             "#de77ae"
            ],
            [
             0.3,
             "#f1b6da"
            ],
            [
             0.4,
             "#fde0ef"
            ],
            [
             0.5,
             "#f7f7f7"
            ],
            [
             0.6,
             "#e6f5d0"
            ],
            [
             0.7,
             "#b8e186"
            ],
            [
             0.8,
             "#7fbc41"
            ],
            [
             0.9,
             "#4d9221"
            ],
            [
             1,
             "#276419"
            ]
           ],
           "sequential": [
            [
             0,
             "#0d0887"
            ],
            [
             0.1111111111111111,
             "#46039f"
            ],
            [
             0.2222222222222222,
             "#7201a8"
            ],
            [
             0.3333333333333333,
             "#9c179e"
            ],
            [
             0.4444444444444444,
             "#bd3786"
            ],
            [
             0.5555555555555556,
             "#d8576b"
            ],
            [
             0.6666666666666666,
             "#ed7953"
            ],
            [
             0.7777777777777778,
             "#fb9f3a"
            ],
            [
             0.8888888888888888,
             "#fdca26"
            ],
            [
             1,
             "#f0f921"
            ]
           ],
           "sequentialminus": [
            [
             0,
             "#0d0887"
            ],
            [
             0.1111111111111111,
             "#46039f"
            ],
            [
             0.2222222222222222,
             "#7201a8"
            ],
            [
             0.3333333333333333,
             "#9c179e"
            ],
            [
             0.4444444444444444,
             "#bd3786"
            ],
            [
             0.5555555555555556,
             "#d8576b"
            ],
            [
             0.6666666666666666,
             "#ed7953"
            ],
            [
             0.7777777777777778,
             "#fb9f3a"
            ],
            [
             0.8888888888888888,
             "#fdca26"
            ],
            [
             1,
             "#f0f921"
            ]
           ]
          },
          "colorway": [
           "#636efa",
           "#EF553B",
           "#00cc96",
           "#ab63fa",
           "#FFA15A",
           "#19d3f3",
           "#FF6692",
           "#B6E880",
           "#FF97FF",
           "#FECB52"
          ],
          "font": {
           "color": "#2a3f5f"
          },
          "geo": {
           "bgcolor": "white",
           "lakecolor": "white",
           "landcolor": "#E5ECF6",
           "showlakes": true,
           "showland": true,
           "subunitcolor": "white"
          },
          "hoverlabel": {
           "align": "left"
          },
          "hovermode": "closest",
          "mapbox": {
           "style": "light"
          },
          "paper_bgcolor": "white",
          "plot_bgcolor": "#E5ECF6",
          "polar": {
           "angularaxis": {
            "gridcolor": "white",
            "linecolor": "white",
            "ticks": ""
           },
           "bgcolor": "#E5ECF6",
           "radialaxis": {
            "gridcolor": "white",
            "linecolor": "white",
            "ticks": ""
           }
          },
          "scene": {
           "xaxis": {
            "backgroundcolor": "#E5ECF6",
            "gridcolor": "white",
            "gridwidth": 2,
            "linecolor": "white",
            "showbackground": true,
            "ticks": "",
            "zerolinecolor": "white"
           },
           "yaxis": {
            "backgroundcolor": "#E5ECF6",
            "gridcolor": "white",
            "gridwidth": 2,
            "linecolor": "white",
            "showbackground": true,
            "ticks": "",
            "zerolinecolor": "white"
           },
           "zaxis": {
            "backgroundcolor": "#E5ECF6",
            "gridcolor": "white",
            "gridwidth": 2,
            "linecolor": "white",
            "showbackground": true,
            "ticks": "",
            "zerolinecolor": "white"
           }
          },
          "shapedefaults": {
           "line": {
            "color": "#2a3f5f"
           }
          },
          "ternary": {
           "aaxis": {
            "gridcolor": "white",
            "linecolor": "white",
            "ticks": ""
           },
           "baxis": {
            "gridcolor": "white",
            "linecolor": "white",
            "ticks": ""
           },
           "bgcolor": "#E5ECF6",
           "caxis": {
            "gridcolor": "white",
            "linecolor": "white",
            "ticks": ""
           }
          },
          "title": {
           "x": 0.05
          },
          "xaxis": {
           "automargin": true,
           "gridcolor": "white",
           "linecolor": "white",
           "ticks": "",
           "title": {
            "standoff": 15
           },
           "zerolinecolor": "white",
           "zerolinewidth": 2
          },
          "yaxis": {
           "automargin": true,
           "gridcolor": "white",
           "linecolor": "white",
           "ticks": "",
           "title": {
            "standoff": 15
           },
           "zerolinecolor": "white",
           "zerolinewidth": 2
          }
         }
        },
        "title": {
         "text": "Comparison of Flexibility Categories between Simple indicators 1 and Complex indicators 2"
        },
        "xaxis": {
         "anchor": "y",
         "domain": [
          0,
          1
         ],
         "title": {
          "text": "Category Comparison"
         }
        },
        "yaxis": {
         "anchor": "x",
         "domain": [
          0,
          1
         ],
         "title": {
          "text": "Number of Houses"
         }
        }
       }
      }
     },
     "metadata": {},
     "output_type": "display_data"
    },
    {
     "data": {
      "application/vnd.plotly.v1+json": {
       "config": {
        "plotlyServerURL": "https://plot.ly"
       },
       "data": [
        {
         "marker": {
          "color": [
           "#636EFA",
           "#EF553B"
          ]
         },
         "text": [
          "82.42%",
          "17.58%"
         ],
         "textposition": "outside",
         "type": "bar",
         "x": [
          "Matching",
          "Non-Matching"
         ],
         "y": [
          82.41758241758241,
          17.58241758241759
         ]
        }
       ],
       "layout": {
        "height": 500,
        "template": {
         "data": {
          "bar": [
           {
            "error_x": {
             "color": "#2a3f5f"
            },
            "error_y": {
             "color": "#2a3f5f"
            },
            "marker": {
             "line": {
              "color": "#E5ECF6",
              "width": 0.5
             },
             "pattern": {
              "fillmode": "overlay",
              "size": 10,
              "solidity": 0.2
             }
            },
            "type": "bar"
           }
          ],
          "barpolar": [
           {
            "marker": {
             "line": {
              "color": "#E5ECF6",
              "width": 0.5
             },
             "pattern": {
              "fillmode": "overlay",
              "size": 10,
              "solidity": 0.2
             }
            },
            "type": "barpolar"
           }
          ],
          "carpet": [
           {
            "aaxis": {
             "endlinecolor": "#2a3f5f",
             "gridcolor": "white",
             "linecolor": "white",
             "minorgridcolor": "white",
             "startlinecolor": "#2a3f5f"
            },
            "baxis": {
             "endlinecolor": "#2a3f5f",
             "gridcolor": "white",
             "linecolor": "white",
             "minorgridcolor": "white",
             "startlinecolor": "#2a3f5f"
            },
            "type": "carpet"
           }
          ],
          "choropleth": [
           {
            "colorbar": {
             "outlinewidth": 0,
             "ticks": ""
            },
            "type": "choropleth"
           }
          ],
          "contour": [
           {
            "colorbar": {
             "outlinewidth": 0,
             "ticks": ""
            },
            "colorscale": [
             [
              0,
              "#0d0887"
             ],
             [
              0.1111111111111111,
              "#46039f"
             ],
             [
              0.2222222222222222,
              "#7201a8"
             ],
             [
              0.3333333333333333,
              "#9c179e"
             ],
             [
              0.4444444444444444,
              "#bd3786"
             ],
             [
              0.5555555555555556,
              "#d8576b"
             ],
             [
              0.6666666666666666,
              "#ed7953"
             ],
             [
              0.7777777777777778,
              "#fb9f3a"
             ],
             [
              0.8888888888888888,
              "#fdca26"
             ],
             [
              1,
              "#f0f921"
             ]
            ],
            "type": "contour"
           }
          ],
          "contourcarpet": [
           {
            "colorbar": {
             "outlinewidth": 0,
             "ticks": ""
            },
            "type": "contourcarpet"
           }
          ],
          "heatmap": [
           {
            "colorbar": {
             "outlinewidth": 0,
             "ticks": ""
            },
            "colorscale": [
             [
              0,
              "#0d0887"
             ],
             [
              0.1111111111111111,
              "#46039f"
             ],
             [
              0.2222222222222222,
              "#7201a8"
             ],
             [
              0.3333333333333333,
              "#9c179e"
             ],
             [
              0.4444444444444444,
              "#bd3786"
             ],
             [
              0.5555555555555556,
              "#d8576b"
             ],
             [
              0.6666666666666666,
              "#ed7953"
             ],
             [
              0.7777777777777778,
              "#fb9f3a"
             ],
             [
              0.8888888888888888,
              "#fdca26"
             ],
             [
              1,
              "#f0f921"
             ]
            ],
            "type": "heatmap"
           }
          ],
          "heatmapgl": [
           {
            "colorbar": {
             "outlinewidth": 0,
             "ticks": ""
            },
            "colorscale": [
             [
              0,
              "#0d0887"
             ],
             [
              0.1111111111111111,
              "#46039f"
             ],
             [
              0.2222222222222222,
              "#7201a8"
             ],
             [
              0.3333333333333333,
              "#9c179e"
             ],
             [
              0.4444444444444444,
              "#bd3786"
             ],
             [
              0.5555555555555556,
              "#d8576b"
             ],
             [
              0.6666666666666666,
              "#ed7953"
             ],
             [
              0.7777777777777778,
              "#fb9f3a"
             ],
             [
              0.8888888888888888,
              "#fdca26"
             ],
             [
              1,
              "#f0f921"
             ]
            ],
            "type": "heatmapgl"
           }
          ],
          "histogram": [
           {
            "marker": {
             "pattern": {
              "fillmode": "overlay",
              "size": 10,
              "solidity": 0.2
             }
            },
            "type": "histogram"
           }
          ],
          "histogram2d": [
           {
            "colorbar": {
             "outlinewidth": 0,
             "ticks": ""
            },
            "colorscale": [
             [
              0,
              "#0d0887"
             ],
             [
              0.1111111111111111,
              "#46039f"
             ],
             [
              0.2222222222222222,
              "#7201a8"
             ],
             [
              0.3333333333333333,
              "#9c179e"
             ],
             [
              0.4444444444444444,
              "#bd3786"
             ],
             [
              0.5555555555555556,
              "#d8576b"
             ],
             [
              0.6666666666666666,
              "#ed7953"
             ],
             [
              0.7777777777777778,
              "#fb9f3a"
             ],
             [
              0.8888888888888888,
              "#fdca26"
             ],
             [
              1,
              "#f0f921"
             ]
            ],
            "type": "histogram2d"
           }
          ],
          "histogram2dcontour": [
           {
            "colorbar": {
             "outlinewidth": 0,
             "ticks": ""
            },
            "colorscale": [
             [
              0,
              "#0d0887"
             ],
             [
              0.1111111111111111,
              "#46039f"
             ],
             [
              0.2222222222222222,
              "#7201a8"
             ],
             [
              0.3333333333333333,
              "#9c179e"
             ],
             [
              0.4444444444444444,
              "#bd3786"
             ],
             [
              0.5555555555555556,
              "#d8576b"
             ],
             [
              0.6666666666666666,
              "#ed7953"
             ],
             [
              0.7777777777777778,
              "#fb9f3a"
             ],
             [
              0.8888888888888888,
              "#fdca26"
             ],
             [
              1,
              "#f0f921"
             ]
            ],
            "type": "histogram2dcontour"
           }
          ],
          "mesh3d": [
           {
            "colorbar": {
             "outlinewidth": 0,
             "ticks": ""
            },
            "type": "mesh3d"
           }
          ],
          "parcoords": [
           {
            "line": {
             "colorbar": {
              "outlinewidth": 0,
              "ticks": ""
             }
            },
            "type": "parcoords"
           }
          ],
          "pie": [
           {
            "automargin": true,
            "type": "pie"
           }
          ],
          "scatter": [
           {
            "fillpattern": {
             "fillmode": "overlay",
             "size": 10,
             "solidity": 0.2
            },
            "type": "scatter"
           }
          ],
          "scatter3d": [
           {
            "line": {
             "colorbar": {
              "outlinewidth": 0,
              "ticks": ""
             }
            },
            "marker": {
             "colorbar": {
              "outlinewidth": 0,
              "ticks": ""
             }
            },
            "type": "scatter3d"
           }
          ],
          "scattercarpet": [
           {
            "marker": {
             "colorbar": {
              "outlinewidth": 0,
              "ticks": ""
             }
            },
            "type": "scattercarpet"
           }
          ],
          "scattergeo": [
           {
            "marker": {
             "colorbar": {
              "outlinewidth": 0,
              "ticks": ""
             }
            },
            "type": "scattergeo"
           }
          ],
          "scattergl": [
           {
            "marker": {
             "colorbar": {
              "outlinewidth": 0,
              "ticks": ""
             }
            },
            "type": "scattergl"
           }
          ],
          "scattermapbox": [
           {
            "marker": {
             "colorbar": {
              "outlinewidth": 0,
              "ticks": ""
             }
            },
            "type": "scattermapbox"
           }
          ],
          "scatterpolar": [
           {
            "marker": {
             "colorbar": {
              "outlinewidth": 0,
              "ticks": ""
             }
            },
            "type": "scatterpolar"
           }
          ],
          "scatterpolargl": [
           {
            "marker": {
             "colorbar": {
              "outlinewidth": 0,
              "ticks": ""
             }
            },
            "type": "scatterpolargl"
           }
          ],
          "scatterternary": [
           {
            "marker": {
             "colorbar": {
              "outlinewidth": 0,
              "ticks": ""
             }
            },
            "type": "scatterternary"
           }
          ],
          "surface": [
           {
            "colorbar": {
             "outlinewidth": 0,
             "ticks": ""
            },
            "colorscale": [
             [
              0,
              "#0d0887"
             ],
             [
              0.1111111111111111,
              "#46039f"
             ],
             [
              0.2222222222222222,
              "#7201a8"
             ],
             [
              0.3333333333333333,
              "#9c179e"
             ],
             [
              0.4444444444444444,
              "#bd3786"
             ],
             [
              0.5555555555555556,
              "#d8576b"
             ],
             [
              0.6666666666666666,
              "#ed7953"
             ],
             [
              0.7777777777777778,
              "#fb9f3a"
             ],
             [
              0.8888888888888888,
              "#fdca26"
             ],
             [
              1,
              "#f0f921"
             ]
            ],
            "type": "surface"
           }
          ],
          "table": [
           {
            "cells": {
             "fill": {
              "color": "#EBF0F8"
             },
             "line": {
              "color": "white"
             }
            },
            "header": {
             "fill": {
              "color": "#C8D4E3"
             },
             "line": {
              "color": "white"
             }
            },
            "type": "table"
           }
          ]
         },
         "layout": {
          "annotationdefaults": {
           "arrowcolor": "#2a3f5f",
           "arrowhead": 0,
           "arrowwidth": 1
          },
          "autotypenumbers": "strict",
          "coloraxis": {
           "colorbar": {
            "outlinewidth": 0,
            "ticks": ""
           }
          },
          "colorscale": {
           "diverging": [
            [
             0,
             "#8e0152"
            ],
            [
             0.1,
             "#c51b7d"
            ],
            [
             0.2,
             "#de77ae"
            ],
            [
             0.3,
             "#f1b6da"
            ],
            [
             0.4,
             "#fde0ef"
            ],
            [
             0.5,
             "#f7f7f7"
            ],
            [
             0.6,
             "#e6f5d0"
            ],
            [
             0.7,
             "#b8e186"
            ],
            [
             0.8,
             "#7fbc41"
            ],
            [
             0.9,
             "#4d9221"
            ],
            [
             1,
             "#276419"
            ]
           ],
           "sequential": [
            [
             0,
             "#0d0887"
            ],
            [
             0.1111111111111111,
             "#46039f"
            ],
            [
             0.2222222222222222,
             "#7201a8"
            ],
            [
             0.3333333333333333,
             "#9c179e"
            ],
            [
             0.4444444444444444,
             "#bd3786"
            ],
            [
             0.5555555555555556,
             "#d8576b"
            ],
            [
             0.6666666666666666,
             "#ed7953"
            ],
            [
             0.7777777777777778,
             "#fb9f3a"
            ],
            [
             0.8888888888888888,
             "#fdca26"
            ],
            [
             1,
             "#f0f921"
            ]
           ],
           "sequentialminus": [
            [
             0,
             "#0d0887"
            ],
            [
             0.1111111111111111,
             "#46039f"
            ],
            [
             0.2222222222222222,
             "#7201a8"
            ],
            [
             0.3333333333333333,
             "#9c179e"
            ],
            [
             0.4444444444444444,
             "#bd3786"
            ],
            [
             0.5555555555555556,
             "#d8576b"
            ],
            [
             0.6666666666666666,
             "#ed7953"
            ],
            [
             0.7777777777777778,
             "#fb9f3a"
            ],
            [
             0.8888888888888888,
             "#fdca26"
            ],
            [
             1,
             "#f0f921"
            ]
           ]
          },
          "colorway": [
           "#636efa",
           "#EF553B",
           "#00cc96",
           "#ab63fa",
           "#FFA15A",
           "#19d3f3",
           "#FF6692",
           "#B6E880",
           "#FF97FF",
           "#FECB52"
          ],
          "font": {
           "color": "#2a3f5f"
          },
          "geo": {
           "bgcolor": "white",
           "lakecolor": "white",
           "landcolor": "#E5ECF6",
           "showlakes": true,
           "showland": true,
           "subunitcolor": "white"
          },
          "hoverlabel": {
           "align": "left"
          },
          "hovermode": "closest",
          "mapbox": {
           "style": "light"
          },
          "paper_bgcolor": "white",
          "plot_bgcolor": "#E5ECF6",
          "polar": {
           "angularaxis": {
            "gridcolor": "white",
            "linecolor": "white",
            "ticks": ""
           },
           "bgcolor": "#E5ECF6",
           "radialaxis": {
            "gridcolor": "white",
            "linecolor": "white",
            "ticks": ""
           }
          },
          "scene": {
           "xaxis": {
            "backgroundcolor": "#E5ECF6",
            "gridcolor": "white",
            "gridwidth": 2,
            "linecolor": "white",
            "showbackground": true,
            "ticks": "",
            "zerolinecolor": "white"
           },
           "yaxis": {
            "backgroundcolor": "#E5ECF6",
            "gridcolor": "white",
            "gridwidth": 2,
            "linecolor": "white",
            "showbackground": true,
            "ticks": "",
            "zerolinecolor": "white"
           },
           "zaxis": {
            "backgroundcolor": "#E5ECF6",
            "gridcolor": "white",
            "gridwidth": 2,
            "linecolor": "white",
            "showbackground": true,
            "ticks": "",
            "zerolinecolor": "white"
           }
          },
          "shapedefaults": {
           "line": {
            "color": "#2a3f5f"
           }
          },
          "ternary": {
           "aaxis": {
            "gridcolor": "white",
            "linecolor": "white",
            "ticks": ""
           },
           "baxis": {
            "gridcolor": "white",
            "linecolor": "white",
            "ticks": ""
           },
           "bgcolor": "#E5ECF6",
           "caxis": {
            "gridcolor": "white",
            "linecolor": "white",
            "ticks": ""
           }
          },
          "title": {
           "x": 0.05
          },
          "xaxis": {
           "automargin": true,
           "gridcolor": "white",
           "linecolor": "white",
           "ticks": "",
           "title": {
            "standoff": 15
           },
           "zerolinecolor": "white",
           "zerolinewidth": 2
          },
          "yaxis": {
           "automargin": true,
           "gridcolor": "white",
           "linecolor": "white",
           "ticks": "",
           "title": {
            "standoff": 15
           },
           "zerolinecolor": "white",
           "zerolinewidth": 2
          }
         }
        },
        "title": {
         "text": "Percentage of Matching and Non-Matching Houses"
        },
        "xaxis": {
         "title": {
          "text": "Category percentage"
         }
        },
        "yaxis": {
         "ticksuffix": "%",
         "title": {
          "text": "Percentage of Houses"
         }
        }
       }
      }
     },
     "metadata": {},
     "output_type": "display_data"
    }
   ],
   "source": [
    "import pandas as pd\n",
    "import plotly.express as px\n",
    "import plotly.graph_objects as go\n",
    "\n",
    "# Assuming flexibility_code1 and flexibility_code2 are already computed from Code 1 and Code 2 respectively\n",
    "\n",
    "# Extract relevant columns from data_df (Code 1)\n",
    "flexibility_simple_1_df = data_df[['House ID', 'Flexibility Category']].rename(columns={'Flexibility Category': 'Flexibility_simple_1'})\n",
    "\n",
    "# Extract relevant columns from merged_df (Code 2)\n",
    "flexibility_complex_2_df = merged_df[['House ID', 'Flexibility Category']].rename(columns={'Flexibility Category': 'Flexibility_complex_2'})\n",
    "\n",
    "# Merge flexibility categories from both codes based on House ID\n",
    "flexibility_comparison = pd.merge(flexibility_simple_1_df, flexibility_complex_2_df, on='House ID', how='outer')\n",
    "\n",
    "# Fill NaN values with 'Unknown' for houses not present in both codes\n",
    "flexibility_comparison = flexibility_comparison.fillna('Unknown')\n",
    "\n",
    "# Identify matching and non-matching flexibility categories\n",
    "flexibility_comparison['Match'] = flexibility_comparison['Flexibility_simple_1'] == flexibility_comparison['Flexibility_complex_2']\n",
    "\n",
    "# Calculate total number of houses and number of matching houses\n",
    "total_houses = len(flexibility_comparison)\n",
    "matching_houses = flexibility_comparison['Match'].sum()\n",
    "\n",
    "# Calculate percentage of matching houses\n",
    "percentage_matching = (matching_houses / total_houses) * 100\n",
    "percentage_non_matching = 100 - percentage_matching\n",
    "\n",
    "pd.set_option('display.max_rows', None)\n",
    "pd.set_option('display.max_columns', None)\n",
    "\n",
    "# Output the results\n",
    "print(f\"Total houses considered: {total_houses}\")\n",
    "print(f\"Number of matching houses: {matching_houses}\")\n",
    "print(f\"Percentage of matching houses: {percentage_matching:.2f}%\")\n",
    "\n",
    "# Separate houses into matched and non-matched categories\n",
    "matched_houses = flexibility_comparison[flexibility_comparison['Match']]\n",
    "mismatched_houses = flexibility_comparison[~flexibility_comparison['Match']]\n",
    "\n",
    "# Display the results\n",
    "print(\"Houses with Matching Flexibility Categories:\")\n",
    "print(matched_houses)\n",
    "\n",
    "print(\"\\nHouses with Non-Matching Flexibility Categories:\")\n",
    "print(mismatched_houses)\n",
    "\n",
    "# Optionally, you can also show the details of how each house differs\n",
    "if not mismatched_houses.empty:\n",
    "    for index, row in mismatched_houses.iterrows():\n",
    "        house_id = row['House ID']\n",
    "        flexibility_code1 = row['Flexibility_simple_1']\n",
    "        flexibility_code2 = row['Flexibility_complex_2']\n",
    "        print(f\"House {house_id}: Flexibility simple 1 - {flexibility_code1}, Flexibility complex 2 - {flexibility_code2}\")\n",
    "\n",
    "# Visualization\n",
    "# Count the number of houses in each flexibility category for both codes\n",
    "flexibility_simple_counts_1 = flexibility_simple_1_df['Flexibility_simple_1'].value_counts().reset_index()\n",
    "flexibility_simple_counts_1.columns = ['Flexibility Category', 'Count']\n",
    "flexibility_simple_counts_1['Code'] = 'Simple indicators_1'\n",
    "\n",
    "flexibility_complex_counts_2 = flexibility_complex_2_df['Flexibility_complex_2'].value_counts().reset_index()\n",
    "flexibility_complex_counts_2.columns = ['Flexibility Category', 'Count']\n",
    "flexibility_complex_counts_2['Code'] = 'Complex indicators_2'\n",
    "\n",
    "# Combine counts into a single DataFrame\n",
    "flexibility_counts = pd.concat([flexibility_simple_counts_1, flexibility_complex_counts_2])\n",
    "\n",
    "# Create bar plot to show the counts of each flexibility category for both codes\n",
    "fig = px.bar(flexibility_counts, x='Flexibility Category', y='Count', color='Code', barmode='group',\n",
    "             title='Comparison of Flexibility Categories from Simple indicators 1 and Complex indicators 2',\n",
    "             labels={'Count': 'Number of Houses', 'Flexibility Category': 'Flexibility Category'})\n",
    "\n",
    "fig.show()\n",
    "\n",
    "# Create a scatter plot to visualize matching and non-matching houses\n",
    "flexibility_comparison['Category Comparison'] = flexibility_comparison.apply(\n",
    "    lambda row: f\"{row['Flexibility_simple_1']} to {row['Flexibility_complex_2']}\", axis=1\n",
    ")\n",
    "\n",
    "# Count the number of houses in each category comparison\n",
    "comparison_counts = flexibility_comparison['Category Comparison'].value_counts().reset_index()\n",
    "comparison_counts.columns = ['Category Comparison', 'Count']\n",
    "\n",
    "# Calculate the percentage for each category comparison\n",
    "comparison_counts['Percentage'] = (comparison_counts['Count'] / total_houses) * 100\n",
    "\n",
    "# Create bar plot to show the counts of each category comparison\n",
    "fig_comparison = px.bar(comparison_counts, x='Category Comparison', y='Count',\n",
    "                        title='Comparison of Flexibility Categories between Simple indicators 1 and Complex indicators 2',\n",
    "                        labels={'Count': 'Number of Houses', 'Category Comparison': 'Category Comparison'},\n",
    "                        color='Count', color_continuous_scale='Viridis',\n",
    "                        hover_data={'Percentage': ':.2f'})\n",
    "\n",
    "fig_comparison.show()\n",
    "\n",
    "# Visualization of matching and non-matching percentages\n",
    "match_data = pd.DataFrame({\n",
    "    'Category': ['Matching', 'Non-Matching'],\n",
    "    'Count': [matching_houses, total_houses - matching_houses],\n",
    "    'Percentage': [percentage_matching, percentage_non_matching]\n",
    "})\n",
    "\n",
    "fig_match = go.Figure()\n",
    "\n",
    "# Add bars\n",
    "fig_match.add_trace(go.Bar(\n",
    "    x=match_data['Category'],\n",
    "    y=match_data['Percentage'],\n",
    "    text=match_data['Percentage'].apply(lambda x: f'{x:.2f}%'),\n",
    "    textposition='outside',\n",
    "    marker_color=['#636EFA', '#EF553B']\n",
    "))\n",
    "\n",
    "# Update layout\n",
    "fig_match.update_layout(\n",
    "    title='Percentage of Matching and Non-Matching Houses',\n",
    "    xaxis_title='Category percentage',\n",
    "    yaxis_title='Percentage of Houses',\n",
    "    yaxis_ticksuffix='%',\n",
    "    height=500\n",
    ")\n",
    "\n",
    "fig_match.show()\n"
   ]
  }
 ],
 "metadata": {
  "kernelspec": {
   "display_name": "Python 3",
   "language": "python",
   "name": "python3"
  },
  "language_info": {
   "codemirror_mode": {
    "name": "ipython",
    "version": 3
   },
   "file_extension": ".py",
   "mimetype": "text/x-python",
   "name": "python",
   "nbconvert_exporter": "python",
   "pygments_lexer": "ipython3",
   "version": "3.10.7"
  }
 },
 "nbformat": 4,
 "nbformat_minor": 2
}
