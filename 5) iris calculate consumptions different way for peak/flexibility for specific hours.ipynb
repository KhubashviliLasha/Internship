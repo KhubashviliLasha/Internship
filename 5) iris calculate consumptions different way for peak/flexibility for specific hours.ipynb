{
 "cells": [
  {
   "cell_type": "markdown",
   "metadata": {},
   "source": [
    "## 2000900 Total consumption of all devices"
   ]
  },
  {
   "cell_type": "code",
   "execution_count": 71,
   "metadata": {},
   "outputs": [
    {
     "name": "stdout",
     "output_type": "stream",
     "text": [
      "\n",
      "Total Sum without Filtering by Time:\n",
      "Vertical freezer (Cellar, 145l): 331472.0\n",
      "Fridge (Kitchen, 180l): 254973.0\n",
      "Halogen lamp 1 (0,5kW): 97408.0\n",
      "Washing machine (): 98919.0\n",
      "Water heater (): 1831683.0\n",
      "Power supply for wood boiler (): 353043.0\n"
     ]
    }
   ],
   "source": [
    "import pandas as pd\n",
    "\n",
    "# Read the Excel file with column titles\n",
    "column_titles_df = pd.read_excel(r'D:\\Grenoble_university\\6_month_internship\\working space\\data\\column_titles.xlsx')\n",
    "\n",
    "# Extract the part of the column titles till '(' symbol\n",
    "column_titles_df['title_prefix'] = column_titles_df['Appliance'].str.split('(').str[0]\n",
    "\n",
    "# Read the Excel file with data\n",
    "df = pd.read_excel(r'D:\\Grenoble_university\\6_month_internship\\working space\\data\\combined_1_year_data_with_flexibility.xlsx')\n",
    "\n",
    "# Initialize dictionaries to store total sums without filtering by time\n",
    "total_sum_without_filtering = {}\n",
    "\n",
    "# Iterate through column titles and sum up corresponding numeric values without filtering by time\n",
    "for index, row in column_titles_df.iterrows():\n",
    "    title_prefix = row['title_prefix'].strip()  # Strip whitespace characters\n",
    "    matching_columns = [col for col in df.columns if title_prefix in col]\n",
    "    if matching_columns:\n",
    "        for col in matching_columns:\n",
    "            # Convert values to numeric type\n",
    "            df[col] = pd.to_numeric(df[col], errors='coerce')\n",
    "            # Sum up numeric values\n",
    "            total_sum_without_filtering[col] = df[col].sum()\n",
    "\n",
    "# Print the total sums without filtering by time in vertical format\n",
    "print(\"\\nTotal Sum without Filtering by Time:\")\n",
    "for key, value in total_sum_without_filtering.items():\n",
    "    print(f\"{key}: {value}\")\n"
   ]
  },
  {
   "cell_type": "code",
   "execution_count": 73,
   "metadata": {},
   "outputs": [
    {
     "name": "stdout",
     "output_type": "stream",
     "text": [
      "total sum of 2000900: 2967498.0\n"
     ]
    }
   ],
   "source": [
    "total_sum_2000900=sum(total_sum_without_filtering.values())\n",
    "\n",
    "print('total sum of 2000900:', total_sum_2000900)"
   ]
  },
  {
   "cell_type": "markdown",
   "metadata": {},
   "source": [
    "# peak hours consumptions 2000900"
   ]
  },
  {
   "cell_type": "code",
   "execution_count": 84,
   "metadata": {},
   "outputs": [
    {
     "name": "stdout",
     "output_type": "stream",
     "text": [
      "\n",
      "Morning Total Sum:\n",
      "Vertical freezer (Cellar, 145l): 29711\n",
      "Fridge (Kitchen, 180l): 21994\n",
      "Halogen lamp 1 (0,5kW): 1532\n",
      "Washing machine (): 13222\n",
      "Water heater (): 210550\n",
      "Power supply for wood boiler (): 32800\n",
      "\n",
      "Evening Total Sum:\n",
      "Vertical freezer (Cellar, 145l): 58463\n",
      "Fridge (Kitchen, 180l): 49576\n",
      "Halogen lamp 1 (0,5kW): 74557\n",
      "Washing machine (): 8803\n",
      "Water heater (): 405628\n",
      "Power supply for wood boiler (): 60808\n"
     ]
    }
   ],
   "source": [
    "import pandas as pd\n",
    "\n",
    "# Read the Excel file with column titles\n",
    "column_titles_df = pd.read_excel(r'D:\\Grenoble_university\\6_month_internship\\working space\\data\\column_titles.xlsx')\n",
    "\n",
    "# Extract the part of the column titles till '(' symbol\n",
    "column_titles_df['title_prefix'] = column_titles_df['Appliance'].str.split('(').str[0]\n",
    "\n",
    "# Read the Excel file with data\n",
    "df = pd.read_excel(r'D:\\Grenoble_university\\6_month_internship\\working space\\data\\combined_1_year_data_with_flexibility.xlsx')\n",
    "\n",
    "# Convert 'date' column to datetime format\n",
    "df['date'] = pd.to_datetime(df['date'])\n",
    "\n",
    "# Define the time ranges for filtering\n",
    "start_time_morning = pd.Timestamp('08:00:00').time()\n",
    "end_time_morning = pd.Timestamp('10:00:00').time()\n",
    "start_time_evening = pd.Timestamp('18:00:00').time()\n",
    "end_time_evening = pd.Timestamp('22:00:00').time()\n",
    "\n",
    "# Filter rows based on time ranges\n",
    "morning_data = df[(df['date'].dt.time >= start_time_morning) & (df['date'].dt.time <= end_time_morning)]\n",
    "evening_data = df[(df['date'].dt.time >= start_time_evening) & (df['date'].dt.time <= end_time_evening)]\n",
    "\n",
    "# Initialize dictionaries to store total sums\n",
    "morning_total_sum = {}\n",
    "evening_total_sum = {}\n",
    "\n",
    "# Iterate through column titles and sum up corresponding values\n",
    "for index, row in column_titles_df.iterrows():\n",
    "    title_prefix = row['title_prefix'].strip()  # Strip whitespace characters\n",
    "    matching_columns = [col for col in df.columns if title_prefix in col]\n",
    "    if matching_columns:\n",
    "        for col in matching_columns:\n",
    "            morning_total_sum[col] = morning_data[col].sum()\n",
    "            evening_total_sum[col] = evening_data[col].sum()\n",
    "\n",
    "# Print the total sums in vertical format\n",
    "print(\"\\nMorning Total Sum:\")\n",
    "for key, value in morning_total_sum.items():\n",
    "    print(f\"{key}: {value}\")\n",
    "\n",
    "print(\"\\nEvening Total Sum:\")\n",
    "for key, value in evening_total_sum.items():\n",
    "    print(f\"{key}: {value}\")\n"
   ]
  },
  {
   "cell_type": "code",
   "execution_count": 85,
   "metadata": {},
   "outputs": [
    {
     "name": "stdout",
     "output_type": "stream",
     "text": [
      "Morning data (8 am - 10 am):\n",
      "      Weekday                date Fridge (Kitchen, 180l)  \\\n",
      "111    Friday 1998-01-23 08:00:00                      0   \n",
      "112    Friday 1998-01-23 08:10:00                      0   \n",
      "113    Friday 1998-01-23 08:20:00                      0   \n",
      "114    Friday 1998-01-23 08:30:00                     12   \n",
      "115    Friday 1998-01-23 08:40:00                      0   \n",
      "...       ...                 ...                    ...   \n",
      "52535  Friday 1999-01-22 09:20:00                     11   \n",
      "52536  Friday 1999-01-22 09:30:00                      0   \n",
      "52537  Friday 1999-01-22 09:40:00                      0   \n",
      "52538  Friday 1999-01-22 09:50:00                      0   \n",
      "52539  Friday 1999-01-22 10:00:00                      0   \n",
      "\n",
      "      Halogen lamp 1 (0,5kW) Power supply for wood boiler ()  \\\n",
      "111                        0                              11   \n",
      "112                        0                              11   \n",
      "113                        0                              10   \n",
      "114                        0                              11   \n",
      "115                        0                              11   \n",
      "...                      ...                             ...   \n",
      "52535                      0                               6   \n",
      "52536                      0                               7   \n",
      "52537                      0                               6   \n",
      "52538                      0                               7   \n",
      "52539                      0                               6   \n",
      "\n",
      "      Site consumption () Total site light consumption ()  \\\n",
      "111                    48                              17   \n",
      "112                    38                              15   \n",
      "113                    34                              15   \n",
      "114                    46                              14   \n",
      "115                    51                              15   \n",
      "...                   ...                             ...   \n",
      "52535                  90                              13   \n",
      "52536                  49                              11   \n",
      "52537                  52                               9   \n",
      "52538                  36                               0   \n",
      "52539                  25                               0   \n",
      "\n",
      "      Vertical freezer (Cellar, 145l) Washing machine () Water heater ()  \n",
      "111                                 0                  0               0  \n",
      "112                                 0                  0               0  \n",
      "113                                 0                  0               0  \n",
      "114                                 0                  0               0  \n",
      "115                                21                  0               0  \n",
      "...                               ...                ...             ...  \n",
      "52535                               0                  0               0  \n",
      "52536                               9                  0               0  \n",
      "52537                              19                  0               0  \n",
      "52538                              12                  0               0  \n",
      "52539                               0                  0               0  \n",
      "\n",
      "[4745 rows x 10 columns]\n",
      "\n",
      "Evening data (6 pm - 10 pm):\n",
      "        Weekday                date Fridge (Kitchen, 180l)  \\\n",
      "27     Thursday 1998-01-22 18:00:00                      9   \n",
      "28     Thursday 1998-01-22 18:10:00                      0   \n",
      "29     Thursday 1998-01-22 18:20:00                      0   \n",
      "30     Thursday 1998-01-22 18:30:00                      5   \n",
      "31     Thursday 1998-01-22 18:40:00                      5   \n",
      "...         ...                 ...                    ...   \n",
      "52463  Thursday 1999-01-21 21:20:00                      0   \n",
      "52464  Thursday 1999-01-21 21:30:00                      0   \n",
      "52465  Thursday 1999-01-21 21:40:00                      0   \n",
      "52466  Thursday 1999-01-21 21:50:00                      0   \n",
      "52467  Thursday 1999-01-21 22:00:00                      0   \n",
      "\n",
      "      Halogen lamp 1 (0,5kW) Power supply for wood boiler ()  \\\n",
      "27                        61                              10   \n",
      "28                        62                               9   \n",
      "29                        63                              11   \n",
      "30                        63                              10   \n",
      "31                        63                              10   \n",
      "...                      ...                             ...   \n",
      "52463                      0                               6   \n",
      "52464                      0                               7   \n",
      "52465                      0                               6   \n",
      "52466                      0                               7   \n",
      "52467                      0                               6   \n",
      "\n",
      "      Site consumption () Total site light consumption ()  \\\n",
      "27                    387                              31   \n",
      "28                    330                              34   \n",
      "29                    265                              35   \n",
      "30                    205                              38   \n",
      "31                    281                              27   \n",
      "...                   ...                             ...   \n",
      "52463                 101                               9   \n",
      "52464                  51                               7   \n",
      "52465                 111                               8   \n",
      "52466                  66                               8   \n",
      "52467                 101                               8   \n",
      "\n",
      "      Vertical freezer (Cellar, 145l) Washing machine () Water heater ()  \n",
      "27                                  2                  0             259  \n",
      "28                                 20                  0              90  \n",
      "29                                  9                  0             119  \n",
      "30                                  0                  0              74  \n",
      "31                                  0                  0              75  \n",
      "...                               ...                ...             ...  \n",
      "52463                               0                  0              45  \n",
      "52464                               0                  0               0  \n",
      "52465                              15                  0              45  \n",
      "52466                              18                  0               0  \n",
      "52467                               7                  0              44  \n",
      "\n",
      "[9125 rows x 10 columns]\n"
     ]
    }
   ],
   "source": [
    "# Filter rows based on time ranges\n",
    "morning_data_2000900 = df[(df['date'].dt.time >= start_time_morning) & (df['date'].dt.time <= end_time_morning)]\n",
    "evening_data_2000900 = df[(df['date'].dt.time >= start_time_evening) & (df['date'].dt.time <= end_time_evening)]\n",
    "\n",
    "# Print the filtered data\n",
    "print(\"Morning data (8 am - 10 am):\")\n",
    "print(morning_data)\n",
    "\n",
    "print(\"\\nEvening data (6 pm - 10 pm):\")\n",
    "print(evening_data)"
   ]
  },
  {
   "cell_type": "code",
   "execution_count": 86,
   "metadata": {},
   "outputs": [
    {
     "name": "stdout",
     "output_type": "stream",
     "text": [
      "Total Morning Sum 2000900: 309809\n"
     ]
    }
   ],
   "source": [
    "# Calculate the total sum of morning total sums\n",
    "total_morning_sum = sum(morning_total_sum.values())\n",
    "\n",
    "# Print the total sum of morning total sums\n",
    "print(\"Total Morning Sum 2000900:\", total_morning_sum)\n"
   ]
  },
  {
   "cell_type": "code",
   "execution_count": 87,
   "metadata": {},
   "outputs": [
    {
     "name": "stdout",
     "output_type": "stream",
     "text": [
      "total evening Sum 2000900: 657835\n"
     ]
    }
   ],
   "source": [
    "total_evening_sum=sum(evening_total_sum.values())\n",
    "\n",
    "print(\"total evening Sum 2000900:\", total_evening_sum)"
   ]
  },
  {
   "cell_type": "code",
   "execution_count": 88,
   "metadata": {},
   "outputs": [
    {
     "data": {
      "text/plain": [
       "967644"
      ]
     },
     "execution_count": 88,
     "metadata": {},
     "output_type": "execute_result"
    }
   ],
   "source": [
    "Total_peak_consumption=total_morning_sum+total_evening_sum\n",
    "Total_peak_consumption"
   ]
  },
  {
   "cell_type": "markdown",
   "metadata": {},
   "source": [
    "# out of peak hours consumption"
   ]
  },
  {
   "cell_type": "code",
   "execution_count": 101,
   "metadata": {},
   "outputs": [
    {
     "name": "stdout",
     "output_type": "stream",
     "text": [
      "\n",
      "Night not peak Total Sum:\n",
      "Vertical freezer (Cellar, 145l): 133166\n",
      "Fridge (Kitchen, 180l): 98209\n",
      "Halogen lamp 1 (0,5kW): 18945\n",
      "Washing machine (): 2048\n",
      "Water heater (): 430896\n",
      "Power supply for wood boiler (): 144337\n",
      "\n",
      "EAfternoon not peak Total Sum:\n",
      "Vertical freezer (Cellar, 145l): 110132\n",
      "Fridge (Kitchen, 180l): 85194\n",
      "Halogen lamp 1 (0,5kW): 2374\n",
      "Washing machine (): 74846\n",
      "Water heater (): 784609\n",
      "Power supply for wood boiler (): 115098\n"
     ]
    }
   ],
   "source": [
    "\n",
    "# Extract the part of the column titles till '(' symbol\n",
    "column_titles_df['title_prefix'] = column_titles_df['Appliance'].str.split('(').str[0]\n",
    "\n",
    "\n",
    "# Convert 'date' column to datetime format\n",
    "df['date'] = pd.to_datetime(df['date'])\n",
    "\n",
    "# Define the time ranges for filtering\n",
    "start_time_night = pd.Timestamp('22:00:00').time()\n",
    "end_time_night = pd.Timestamp('08:00:00').time()  # This will represent 8 am of the next day\n",
    "start_time_afternoon = pd.Timestamp('10:00:00').time()\n",
    "end_time_afternoon = pd.Timestamp('18:00:00').time()\n",
    "\n",
    "# Filter rows based on time ranges\n",
    "Not_peak_night_data = df[(df['date'].dt.time > start_time_night) | (df['date'].dt.time < end_time_night)]\n",
    "Not_peak_afternoon_data = df[(df['date'].dt.time > start_time_afternoon) & (df['date'].dt.time < end_time_afternoon)]\n",
    "\n",
    "# Initialize dictionaries to store total sums\n",
    "not_peak_morning_total_sum = {}\n",
    "not_peak_afternoon_total_sum = {}\n",
    "\n",
    "# Iterate through column titles and sum up corresponding values\n",
    "for index, row in column_titles_df.iterrows():\n",
    "    title_prefix = row['title_prefix'].strip()  # Strip whitespace characters\n",
    "    matching_columns = [col for col in df.columns if title_prefix in col]\n",
    "    if matching_columns:\n",
    "        for col in matching_columns:\n",
    "            not_peak_morning_total_sum[col] = Not_peak_night_data[col].sum()\n",
    "            not_peak_afternoon_total_sum[col] = Not_peak_afternoon_data[col].sum()\n",
    "\n",
    "# Print the total sums in vertical format\n",
    "print(\"\\nNight not peak Total Sum:\")\n",
    "for key, value in not_peak_morning_total_sum.items():\n",
    "    print(f\"{key}: {value}\")\n",
    "\n",
    "print(\"\\nEAfternoon not peak Total Sum:\")\n",
    "for key, value in not_peak_afternoon_total_sum.items():\n",
    "    print(f\"{key}: {value}\")\n"
   ]
  },
  {
   "cell_type": "code",
   "execution_count": 102,
   "metadata": {},
   "outputs": [
    {
     "name": "stdout",
     "output_type": "stream",
     "text": [
      "Morning data (8 am - 10 am):\n",
      "Empty DataFrame\n",
      "Columns: [Weekday, date, Fridge (Kitchen, 180l), Halogen lamp 1 (0,5kW), Power supply for wood boiler (), Site consumption (), Total site light consumption (), Vertical freezer (Cellar, 145l), Washing machine (), Water heater ()]\n",
      "Index: []\n",
      "\n",
      "Afternoon data (10 am - 6 pm):\n",
      "        Weekday                date Fridge (Kitchen, 180l)  \\\n",
      "1      Thursday 1998-01-22 13:40:00                      0   \n",
      "2      Thursday 1998-01-22 13:50:00                     11   \n",
      "3      Thursday 1998-01-22 14:00:00                      0   \n",
      "4      Thursday 1998-01-22 14:10:00                      0   \n",
      "5      Thursday 1998-01-22 14:20:00                      0   \n",
      "...         ...                 ...                    ...   \n",
      "52557    Friday 1999-01-22 13:00:00                     12   \n",
      "52558    Friday 1999-01-22 13:10:00                     13   \n",
      "52559    Friday 1999-01-22 13:20:00                     12   \n",
      "52560    Friday 1999-01-22 13:30:00                     12   \n",
      "52561    Friday 1999-01-22 13:40:00                     12   \n",
      "\n",
      "      Halogen lamp 1 (0,5kW) Power supply for wood boiler ()  \\\n",
      "1                         12                              20   \n",
      "2                          0                              11   \n",
      "3                          0                              11   \n",
      "4                          0                              10   \n",
      "5                          0                              11   \n",
      "...                      ...                             ...   \n",
      "52557                      0                               6   \n",
      "52558                      0                               7   \n",
      "52559                      0                               6   \n",
      "52560                      0                               7   \n",
      "52561                      0                               6   \n",
      "\n",
      "      Site consumption () Total site light consumption ()  \\\n",
      "1                     294                              45   \n",
      "2                      85                               3   \n",
      "3                      58                               0   \n",
      "4                     176                               0   \n",
      "5                      67                               0   \n",
      "...                   ...                             ...   \n",
      "52557                 118                               7   \n",
      "52558                  65                               8   \n",
      "52559                 168                               8   \n",
      "52560                 127                               8   \n",
      "52561                 153                              10   \n",
      "\n",
      "      Vertical freezer (Cellar, 145l) Washing machine () Water heater ()  \n",
      "1                                  38                  0              37  \n",
      "2                                  18                  0              37  \n",
      "3                                   1                  0              35  \n",
      "4                                   0                  0              38  \n",
      "5                                   0                  0              44  \n",
      "...                               ...                ...             ...  \n",
      "52557                               0                  0              74  \n",
      "52558                               0                  0              25  \n",
      "52559                               0                  0             126  \n",
      "52560                              12                  0              72  \n",
      "52561                              19                  0              94  \n",
      "\n",
      "[17886 rows x 10 columns]\n"
     ]
    }
   ],
   "source": [
    "# Filter rows based on time ranges for not peak night and afternoon\n",
    "not_peak_night_data = df[(df['date'].dt.time >= start_time_night) & (df['date'].dt.time <= end_time_night)]\n",
    "not_peak_afternoon_data = df[(df['date'].dt.time >= start_time_afternoon) & (df['date'].dt.time <= end_time_afternoon)]\n",
    "\n",
    "print(\"Morning data (8 am - 10 am):\")\n",
    "print(not_peak_night_data)\n",
    "\n",
    "print(\"\\nAfternoon data (10 am - 6 pm):\")\n",
    "print(not_peak_afternoon_data)\n"
   ]
  },
  {
   "cell_type": "code",
   "execution_count": 103,
   "metadata": {},
   "outputs": [
    {
     "name": "stdout",
     "output_type": "stream",
     "text": [
      "Total night sum 2000900: 827601\n"
     ]
    }
   ],
   "source": [
    "# Calculate the total sum of morning total sums\n",
    "total_night_sum_2000900 = sum(not_peak_morning_total_sum.values())\n",
    "\n",
    "# Print the total sum of morning total sums\n",
    "print(\"Total night sum 2000900:\", total_night_sum_2000900)\n"
   ]
  },
  {
   "cell_type": "code",
   "execution_count": 104,
   "metadata": {},
   "outputs": [
    {
     "name": "stdout",
     "output_type": "stream",
     "text": [
      "total afternoon sum 2000900: 1172253\n"
     ]
    }
   ],
   "source": [
    "total_afternoon_sum_2000900=sum(not_peak_afternoon_total_sum.values())\n",
    "\n",
    "print(\"total afternoon sum 2000900:\",total_afternoon_sum_2000900)"
   ]
  },
  {
   "cell_type": "code",
   "execution_count": 105,
   "metadata": {},
   "outputs": [
    {
     "name": "stdout",
     "output_type": "stream",
     "text": [
      "total sum 2000900: 1999854\n"
     ]
    }
   ],
   "source": [
    "total_not_peak_consumption=total_night_sum_2000900+total_afternoon_sum_2000900\n",
    "print(\"total sum 2000900:\",total_not_peak_consumption)"
   ]
  },
  {
   "cell_type": "code",
   "execution_count": 106,
   "metadata": {},
   "outputs": [
    {
     "data": {
      "text/plain": [
       "2967498"
      ]
     },
     "execution_count": 106,
     "metadata": {},
     "output_type": "execute_result"
    }
   ],
   "source": [
    "total_not_peak_consumption+Total_peak_consumption"
   ]
  },
  {
   "cell_type": "markdown",
   "metadata": {},
   "source": [
    "# pek hours flexible consumption for one house (2000900)"
   ]
  },
  {
   "cell_type": "code",
   "execution_count": 107,
   "metadata": {},
   "outputs": [
    {
     "name": "stdout",
     "output_type": "stream",
     "text": [
      "Morning sum (8 am - 10 am):\n",
      "Power supply for wood boiler ()     32800\n",
      "Washing machine ()                  13222\n",
      "Water heater ()                    210550\n",
      "dtype: object\n",
      "\n",
      "Evening sum (6 pm - 10 pm):\n",
      "Power supply for wood boiler ()     60808\n",
      "Washing machine ()                   8803\n",
      "Water heater ()                    405628\n",
      "dtype: object\n"
     ]
    }
   ],
   "source": [
    "import pandas as pd\n",
    "\n",
    "# Read the Excel file\n",
    "df = pd.read_excel(r'D:\\Grenoble_university\\6_month_internship\\working space\\data\\combined_1_year_data_with_flexibility.xlsx')\n",
    "\n",
    "# Filter rows to include only flexible devices (second row)\n",
    "flexibility_row = df.iloc[0] == 'flexible'\n",
    "flexible_devices_df = df.loc[:, flexibility_row]\n",
    "\n",
    "# Convert 'date' column to datetime format\n",
    "df['date'] = pd.to_datetime(df['date'])\n",
    "\n",
    "# Define the time range for calculation (8 am - 10 am and 6 pm - 10 pm)\n",
    "start_time_morning = pd.Timestamp('08:00:00').time()\n",
    "end_time_morning = pd.Timestamp('10:00:00').time()\n",
    "start_time_evening = pd.Timestamp('18:00:00').time()\n",
    "end_time_evening = pd.Timestamp('22:00:00').time()\n",
    "\n",
    "# Filter rows based on time range and calculate sum\n",
    "morning_sum = flexible_devices_df[\n",
    "    (df['date'].dt.time >= start_time_morning) & \n",
    "    (df['date'].dt.time <= end_time_morning)\n",
    "].sum()\n",
    "\n",
    "evening_sum = flexible_devices_df[\n",
    "    (df['date'].dt.time >= start_time_evening) & \n",
    "    (df['date'].dt.time <= end_time_evening)\n",
    "].sum()\n",
    "\n",
    "print(\"Morning sum (8 am - 10 am):\")\n",
    "print(morning_sum)\n",
    "print(\"\\nEvening sum (6 pm - 10 pm):\")\n",
    "print(evening_sum)\n"
   ]
  },
  {
   "cell_type": "code",
   "execution_count": 108,
   "metadata": {},
   "outputs": [
    {
     "name": "stdout",
     "output_type": "stream",
     "text": [
      "Morning data (8 am - 10 am):\n",
      "      Power supply for wood boiler () Washing machine () Water heater ()\n",
      "111                                11                  0               0\n",
      "112                                11                  0               0\n",
      "113                                10                  0               0\n",
      "114                                11                  0               0\n",
      "115                                11                  0               0\n",
      "...                               ...                ...             ...\n",
      "52535                               6                  0               0\n",
      "52536                               7                  0               0\n",
      "52537                               6                  0               0\n",
      "52538                               7                  0               0\n",
      "52539                               6                  0               0\n",
      "\n",
      "[4745 rows x 3 columns]\n",
      "\n",
      "Evening data (6 pm - 10 pm):\n",
      "      Power supply for wood boiler () Washing machine () Water heater ()\n",
      "27                                 10                  0             259\n",
      "28                                  9                  0              90\n",
      "29                                 11                  0             119\n",
      "30                                 10                  0              74\n",
      "31                                 10                  0              75\n",
      "...                               ...                ...             ...\n",
      "52463                               6                  0              45\n",
      "52464                               7                  0               0\n",
      "52465                               6                  0              45\n",
      "52466                               7                  0               0\n",
      "52467                               6                  0              44\n",
      "\n",
      "[9125 rows x 3 columns]\n"
     ]
    }
   ],
   "source": [
    "# Filter rows based on time ranges\n",
    "morning_data = flexible_devices_df[(df['date'].dt.time >= start_time_morning) & (df['date'].dt.time <= end_time_morning)]\n",
    "evening_data = flexible_devices_df[(df['date'].dt.time >= start_time_evening) & (df['date'].dt.time <= end_time_evening)]\n",
    "\n",
    "print(\"Morning data (8 am - 10 am):\")\n",
    "print(morning_data)\n",
    "\n",
    "print(\"\\nEvening data (6 pm - 10 pm):\")\n",
    "print(evening_data)"
   ]
  },
  {
   "cell_type": "code",
   "execution_count": 109,
   "metadata": {},
   "outputs": [
    {
     "name": "stdout",
     "output_type": "stream",
     "text": [
      "morning peak 2000900 = 256572\n"
     ]
    }
   ],
   "source": [
    "morning_peak_2000900=morning_sum.sum()\n",
    "print('morning peak 2000900 =', morning_peak_2000900)\n"
   ]
  },
  {
   "cell_type": "code",
   "execution_count": 110,
   "metadata": {},
   "outputs": [
    {
     "name": "stdout",
     "output_type": "stream",
     "text": [
      "evening peak 2000900 = 475239\n"
     ]
    }
   ],
   "source": [
    "evening_peak_2000900=evening_sum.sum()\n",
    "print('evening peak 2000900 =', evening_peak_2000900)"
   ]
  },
  {
   "cell_type": "code",
   "execution_count": 111,
   "metadata": {},
   "outputs": [
    {
     "data": {
      "text/plain": [
       "731811"
      ]
     },
     "execution_count": 111,
     "metadata": {},
     "output_type": "execute_result"
    }
   ],
   "source": [
    "flex_pick=evening_peak_2000900+morning_peak_2000900\n",
    "flex_pick"
   ]
  },
  {
   "cell_type": "markdown",
   "metadata": {},
   "source": [
    "# consumptions for flexible devices out of peak hours (one house)"
   ]
  },
  {
   "cell_type": "code",
   "execution_count": 112,
   "metadata": {},
   "outputs": [
    {
     "name": "stdout",
     "output_type": "stream",
     "text": [
      "Night sum (22 pm - 8 am):\n",
      "Power supply for wood boiler ()    144337\n",
      "Washing machine ()                   2048\n",
      "Water heater ()                    430896\n",
      "dtype: object\n",
      "\n",
      "Afternoon sum (10 am - 6 pm):\n",
      "Power supply for wood boiler ()    115098\n",
      "Washing machine ()                  74846\n",
      "Water heater ()                    784609\n",
      "dtype: object\n"
     ]
    }
   ],
   "source": [
    "import pandas as pd\n",
    "\n",
    "# Read the Excel file\n",
    "df = pd.read_excel(r'D:\\Grenoble_university\\6_month_internship\\working space\\data\\combined_1_year_data_with_flexibility.xlsx')\n",
    "\n",
    "# Filter rows to include only flexible devices (second row)\n",
    "flexibility_row = df.iloc[0] == 'flexible'\n",
    "flexible_devices_df = df.loc[:, flexibility_row]\n",
    "\n",
    "# Convert 'date' column to datetime format\n",
    "df['date'] = pd.to_datetime(df['date'])\n",
    "\n",
    "# Define the time range for calculation (8 am - 10 am and 6 pm - 10 pm)\n",
    "start_time_night = pd.Timestamp('22:00:00').time()\n",
    "end_time_night = pd.Timestamp('08:00:00').time()  # This will represent 8 am of the next day\n",
    "start_time_afternoon = pd.Timestamp('10:00:00').time()\n",
    "end_time_afternoon = pd.Timestamp('18:00:00').time()\n",
    "\n",
    "# Filter rows based on time range and calculate sum\n",
    "night_sum = flexible_devices_df[\n",
    "    ((df['date'].dt.time > start_time_night) | (df['date'].dt.time < end_time_night))\n",
    "].sum()\n",
    "\n",
    "afternoon_sum = flexible_devices_df[\n",
    "    (df['date'].dt.time > start_time_afternoon) & (df['date'].dt.time < end_time_afternoon)\n",
    "].sum()\n",
    "\n",
    "print(\"Night sum (22 pm - 8 am):\")\n",
    "print(night_sum)\n",
    "print(\"\\nAfternoon sum (10 am - 6 pm):\")\n",
    "print(afternoon_sum)\n"
   ]
  },
  {
   "cell_type": "code",
   "execution_count": 113,
   "metadata": {},
   "outputs": [
    {
     "name": "stdout",
     "output_type": "stream",
     "text": [
      "Morning data (8 am - 10 am):\n",
      "      Power supply for wood boiler () Washing machine () Water heater ()\n",
      "1                                  20                  0              37\n",
      "2                                  11                  0              37\n",
      "3                                  11                  0              35\n",
      "4                                  10                  0              38\n",
      "5                                  11                  0              44\n",
      "...                               ...                ...             ...\n",
      "52557                               6                  0              74\n",
      "52558                               7                  0              25\n",
      "52559                               6                  0             126\n",
      "52560                               7                  0              72\n",
      "52561                               6                  0              94\n",
      "\n",
      "[17886 rows x 3 columns]\n",
      "\n",
      "Evening data (6 pm - 10 pm):\n",
      "      Power supply for wood boiler () Washing machine () Water heater ()\n",
      "1                                  20                  0              37\n",
      "2                                  11                  0              37\n",
      "3                                  11                  0              35\n",
      "4                                  10                  0              38\n",
      "5                                  11                  0              44\n",
      "...                               ...                ...             ...\n",
      "52557                               6                  0              74\n",
      "52558                               7                  0              25\n",
      "52559                               6                  0             126\n",
      "52560                               7                  0              72\n",
      "52561                               6                  0              94\n",
      "\n",
      "[17886 rows x 3 columns]\n"
     ]
    }
   ],
   "source": [
    "# Filter rows based on time ranges\n",
    "night_data = flexible_devices_df[(df['date'].dt.time >= start_time_night) & (df['date'].dt.time <= end_time_night)]\n",
    "afternoon_data = flexible_devices_df[(df['date'].dt.time >= start_time_afternoon) & (df['date'].dt.time <= end_time_afternoon)]\n",
    "\n",
    "print(\"Morning data (8 am - 10 am):\")\n",
    "print(afternoon_data)\n",
    "\n",
    "print(\"\\nEvening data (6 pm - 10 pm):\")\n",
    "print(afternoon_data)"
   ]
  },
  {
   "cell_type": "code",
   "execution_count": 114,
   "metadata": {},
   "outputs": [
    {
     "name": "stdout",
     "output_type": "stream",
     "text": [
      "night not peak 2000900 = 577281\n"
     ]
    }
   ],
   "source": [
    "night_not_pk_2000900=night_sum.sum()\n",
    "print('night not peak 2000900 =', night_not_pk_2000900)\n"
   ]
  },
  {
   "cell_type": "code",
   "execution_count": 116,
   "metadata": {},
   "outputs": [
    {
     "name": "stdout",
     "output_type": "stream",
     "text": [
      "afternoon not peak 2000900 = 974553\n"
     ]
    }
   ],
   "source": [
    "afternoon_not_pk_2000900=afternoon_sum.sum()\n",
    "print('afternoon not peak 2000900 =', afternoon_not_pk_2000900)"
   ]
  },
  {
   "cell_type": "code",
   "execution_count": 117,
   "metadata": {},
   "outputs": [
    {
     "data": {
      "text/plain": [
       "1551834"
      ]
     },
     "execution_count": 117,
     "metadata": {},
     "output_type": "execute_result"
    }
   ],
   "source": [
    "flex_not_peak=afternoon_not_pk_2000900+night_not_pk_2000900\n",
    "flex_not_peak"
   ]
  },
  {
   "cell_type": "markdown",
   "metadata": {},
   "source": [
    "# flexible consumption for all hours for one house"
   ]
  },
  {
   "cell_type": "code",
   "execution_count": 124,
   "metadata": {},
   "outputs": [
    {
     "name": "stdout",
     "output_type": "stream",
     "text": [
      "total flexible consumption during all day for 2000900: 2283645\n"
     ]
    }
   ],
   "source": [
    "total_flex_sum_2000900=flex_pick+flex_not_peak\n",
    "print('total flexible consumption during all day for 2000900:', total_flex_sum_2000900)"
   ]
  },
  {
   "cell_type": "code",
   "execution_count": 125,
   "metadata": {},
   "outputs": [
    {
     "data": {
      "text/plain": [
       "0.32045742661403154"
      ]
     },
     "execution_count": 125,
     "metadata": {},
     "output_type": "execute_result"
    }
   ],
   "source": [
    "flex_pick/(total_flex_sum_2000900)"
   ]
  },
  {
   "cell_type": "markdown",
   "metadata": {},
   "source": [
    "# flexible consumption for all houses "
   ]
  },
  {
   "cell_type": "code",
   "execution_count": null,
   "metadata": {},
   "outputs": [],
   "source": [
    "import pandas as pd\n",
    "\n",
    "# Read the Excel file into a dictionary of DataFrames, with sheet names as keys\n",
    "combined_data_dict = pd.read_excel(r'D:\\Grenoble_university\\6_month_internship\\working space\\data\\combined_1_year_data_with_flexibility.xlsx', sheet_name=None)\n",
    "\n",
    "# Define the time range for calculation (8 am - 10 am and 6 pm - 10 pm)\n",
    "start_time_morning = pd.Timestamp('08:00:00').time()\n",
    "end_time_morning = pd.Timestamp('10:00:00').time()\n",
    "start_time_evening = pd.Timestamp('18:00:00').time()\n",
    "end_time_evening = pd.Timestamp('22:00:00').time()\n",
    "\n",
    "# Iterate over each sheet and perform the filtering and calculation\n",
    "for sheet_name, df in combined_data_dict.items():\n",
    "    # Filter rows to include only flexible devices (second row)\n",
    "    flexibility_row = df.iloc[0] == 'flexible'\n",
    "    flexible_devices_df = df.loc[:, flexibility_row]\n",
    "\n",
    "    # Convert 'date' column to datetime format\n",
    "    df['date'] = pd.to_datetime(df['date'])\n",
    "\n",
    "    # Filter rows based on time range and calculate sum\n",
    "    morning_sum = flexible_devices_df[\n",
    "        (df['date'].dt.time >= start_time_morning) & \n",
    "        (df['date'].dt.time <= end_time_morning)\n",
    "    ].sum()\n",
    "\n",
    "    evening_sum = flexible_devices_df[\n",
    "        (df['date'].dt.time >= start_time_evening) & \n",
    "        (df['date'].dt.time <= end_time_evening)\n",
    "    ].sum()\n",
    "\n",
    "    print(f\"Sheet: {sheet_name}\")\n",
    "    print(\"Morning sum (8 am - 10 am):\")\n",
    "    print(morning_sum)\n",
    "    print(\"\\nEvening sum (6 pm - 10 pm):\")\n",
    "    print(evening_sum)\n",
    "    print(\"\\n\")"
   ]
  },
  {
   "cell_type": "markdown",
   "metadata": {},
   "source": [
    "to sum up them "
   ]
  },
  {
   "cell_type": "code",
   "execution_count": null,
   "metadata": {},
   "outputs": [],
   "source": [
    "import pandas as pd\n",
    "\n",
    "# Read the Excel file into a dictionary of DataFrames, with sheet names as keys\n",
    "combined_data_dict = pd.read_excel(r'D:\\Grenoble_university\\6_month_internship\\working space\\data\\combined_1_year_data_with_flexibility.xlsx', sheet_name=None)\n",
    "\n",
    "# Define the time range for calculation (8 am - 10 am and 6 pm - 10 pm)\n",
    "start_time_morning = pd.Timestamp('08:00:00').time()\n",
    "end_time_morning = pd.Timestamp('10:00:00').time()\n",
    "start_time_evening = pd.Timestamp('18:00:00').time()\n",
    "end_time_evening = pd.Timestamp('22:00:00').time()\n",
    "\n",
    "# Initialize variables to accumulate morning and evening sums as Series objects\n",
    "total_morning_sum = pd.Series(dtype='float64')\n",
    "total_evening_sum = pd.Series(dtype='float64')\n",
    "\n",
    "# Iterate over each sheet and perform the filtering and calculation\n",
    "for sheet_name, df in combined_data_dict.items():\n",
    "    # Filter rows to include only flexible devices (second row)\n",
    "    flexibility_row = df.iloc[0] == 'flexible'\n",
    "    flexible_devices_df = df.loc[:, flexibility_row]\n",
    "\n",
    "    # Convert 'date' column to datetime format\n",
    "    df['date'] = pd.to_datetime(df['date'])\n",
    "\n",
    "    # Filter rows based on time range and calculate sum\n",
    "    morning_sum = flexible_devices_df[\n",
    "        (df['date'].dt.time >= start_time_morning) & \n",
    "        (df['date'].dt.time <= end_time_morning)\n",
    "    ].sum()\n",
    "\n",
    "    evening_sum = flexible_devices_df[\n",
    "        (df['date'].dt.time >= start_time_evening) & \n",
    "        (df['date'].dt.time <= end_time_evening)\n",
    "    ].sum()\n",
    "\n",
    "    # Accumulate morning and evening sums\n",
    "    total_morning_sum = total_morning_sum.add(morning_sum, fill_value=0)\n",
    "    total_evening_sum = total_evening_sum.add(evening_sum, fill_value=0)\n",
    "\n",
    "    print(f\"Sheet: {sheet_name}\")\n",
    "    print(\"Morning sum (8 am - 10 am):\")\n",
    "    print(morning_sum)\n",
    "    print(\"\\nEvening sum (6 pm - 10 pm):\")\n",
    "    print(evening_sum)\n",
    "    print(\"\\n\")\n",
    "\n",
    "# Print the total morning and evening sums\n",
    "print(\"Total Morning Sum:\")\n",
    "print(total_morning_sum)\n",
    "print(\"\\nTotal Evening Sum:\")\n",
    "print(total_evening_sum)\n"
   ]
  },
  {
   "cell_type": "code",
   "execution_count": null,
   "metadata": {},
   "outputs": [],
   "source": [
    "print(\"Total Morning Sum:\")\n",
    "print(total_morning_sum)\n",
    "print(\"\\nTotal Evening Sum:\")\n",
    "print(total_evening_sum)\n"
   ]
  },
  {
   "cell_type": "code",
   "execution_count": null,
   "metadata": {},
   "outputs": [],
   "source": [
    "dh=total_evening_sum.sum()\n",
    "\n",
    "#total_morning_sum.sum()"
   ]
  },
  {
   "cell_type": "code",
   "execution_count": null,
   "metadata": {},
   "outputs": [],
   "source": [
    "flexible_sum=total_morning_sum.sum()+total_evening_sum.sum()\n",
    "flexible_sum"
   ]
  },
  {
   "cell_type": "markdown",
   "metadata": {},
   "source": [
    "# consumptions for all devices out of peak hours"
   ]
  },
  {
   "cell_type": "markdown",
   "metadata": {},
   "source": [
    "# consumption out of peak hours"
   ]
  },
  {
   "cell_type": "code",
   "execution_count": null,
   "metadata": {},
   "outputs": [],
   "source": [
    "import pandas as pd\n",
    "\n",
    "sheet_name='2000900'\n",
    "# Read the Excel file\n",
    "df = pd.read_excel(r'D:\\Grenoble_university\\6_month_internship\\working space\\data\\combined_1_year_data_with_flexibility.xlsx', sheet_name=sheet_name)\n",
    "\n",
    "# Filter rows to include only flexible devices (second row)\n",
    "flexibility_row = df.iloc[0] == 'flexible'\n",
    "flexible_devices_df = df.loc[:, flexibility_row]\n",
    "\n",
    "# Convert 'date' column to datetime format\n",
    "df['date'] = pd.to_datetime(df['date'])\n",
    "\n",
    "# Define the time ranges for calculation (excluding 8 am - 10 am and 6 pm - 10 pm)\n",
    "excluded_ranges = [\n",
    "    (pd.Timestamp('08:00:00').time(), pd.Timestamp('10:00:00').time()),\n",
    "    (pd.Timestamp('18:00:00').time(), pd.Timestamp('22:00:00').time())\n",
    "]\n",
    "\n",
    "# Calculate sum for each hour outside the excluded ranges\n",
    "hourly_sums = {}\n",
    "for hour in range(24):\n",
    "    if any(start <= pd.Timestamp(f'{hour}:00:00').time() < end for start, end in excluded_ranges):\n",
    "        continue  # Skip the excluded time ranges\n",
    "    start_time = pd.Timestamp(f'{hour}:00:00').time()\n",
    "    end_time = pd.Timestamp(f'{hour}:59:59').time()\n",
    "    hourly_sum = flexible_devices_df[\n",
    "        (df['date'].dt.time >= start_time) & \n",
    "        (df['date'].dt.time <= end_time)\n",
    "    ].sum()\n",
    "    hourly_sums[f'{hour}:00 - {hour}:59'] = hourly_sum\n",
    "\n",
    "# Print the sum for each hour\n",
    "for hour, sum_ in hourly_sums.items():\n",
    "    print(f\"{hour}: {sum_}\")\n"
   ]
  },
  {
   "cell_type": "markdown",
   "metadata": {},
   "source": [
    "# each hour consumption during one year for washing machine"
   ]
  },
  {
   "cell_type": "code",
   "execution_count": 16,
   "metadata": {},
   "outputs": [
    {
     "name": "stdout",
     "output_type": "stream",
     "text": [
      "Washing machine for 0:00 - 0:59: 37\n",
      "Washing machine for 1:00 - 1:59: 0\n",
      "Washing machine for 2:00 - 2:59: 318\n",
      "Washing machine for 3:00 - 3:59: 287\n",
      "Washing machine for 4:00 - 4:59: 0\n",
      "Washing machine for 5:00 - 5:59: 0\n",
      "Washing machine for 6:00 - 6:59: 0\n",
      "Washing machine for 7:00 - 7:59: 988\n",
      "Washing machine for 8:00 - 8:59: 2736\n",
      "Washing machine for 9:00 - 9:59: 7030\n",
      "Washing machine for 10:00 - 10:59: 19821\n",
      "Washing machine for 11:00 - 11:59: 13368\n",
      "Washing machine for 12:00 - 12:59: 8603\n",
      "Washing machine for 13:00 - 13:59: 5723\n",
      "Washing machine for 14:00 - 14:59: 6359\n",
      "Washing machine for 15:00 - 15:59: 11394\n",
      "Washing machine for 16:00 - 16:59: 6278\n",
      "Washing machine for 17:00 - 17:59: 6756\n",
      "Washing machine for 18:00 - 18:59: 4410\n",
      "Washing machine for 19:00 - 19:59: 3558\n",
      "Washing machine for 20:00 - 20:59: 799\n",
      "Washing machine for 21:00 - 21:59: 36\n",
      "Washing machine for 22:00 - 22:59: 0\n",
      "Washing machine for 23:00 - 23:59: 418\n"
     ]
    }
   ],
   "source": [
    "import pandas as pd\n",
    "\n",
    "# Read the Excel file\n",
    "df = pd.read_excel(r'D:\\Grenoble_university\\6_month_internship\\working space\\data\\combined_1_year_data_with_flexibility.xlsx')\n",
    "\n",
    "# Filter rows to include only the washing machine (assuming it's in a specific column, adjust as needed)\n",
    "washing_machine_df = df['Washing machine ()']\n",
    "\n",
    "# Convert 'date' column to datetime format\n",
    "df['date'] = pd.to_datetime(df['date'])\n",
    "\n",
    "# Calculate the sum for the washing machine for each hour of the day\n",
    "hourly_sums = {}\n",
    "for hour in range(24):\n",
    "    start_time = pd.Timestamp(f'{hour}:00:00').time()\n",
    "    end_time = pd.Timestamp(f'{hour}:59:59').time()\n",
    "    hourly_sum = washing_machine_df[\n",
    "        (df['date'].dt.time >= start_time) & \n",
    "        (df['date'].dt.time <= end_time)\n",
    "    ].sum()\n",
    "    hourly_sums[f'{hour}:00 - {hour}:59'] = hourly_sum\n",
    "\n",
    "# Print the sum for the washing machine for each hour\n",
    "for hour, sum_ in hourly_sums.items():\n",
    "    print(f\"Washing machine for {hour}: {sum_}\")\n"
   ]
  },
  {
   "cell_type": "code",
   "execution_count": 17,
   "metadata": {},
   "outputs": [
    {
     "name": "stdout",
     "output_type": "stream",
     "text": [
      "Total sum for washing machine: 98919.0\n"
     ]
    }
   ],
   "source": [
    "# Convert washing machine data to numeric\n",
    "washing_machine_df_numeric = pd.to_numeric(washing_machine_df, errors='coerce')\n",
    "\n",
    "# Print total sum for washing machine\n",
    "print(\"Total sum for washing machine:\", washing_machine_df_numeric.sum())\n"
   ]
  },
  {
   "cell_type": "markdown",
   "metadata": {},
   "source": [
    "# total consumption of washing machine"
   ]
  },
  {
   "cell_type": "code",
   "execution_count": 18,
   "metadata": {},
   "outputs": [
    {
     "name": "stdout",
     "output_type": "stream",
     "text": [
      "Total consumption for the washing machine: 98919\n"
     ]
    }
   ],
   "source": [
    "import pandas as pd\n",
    "\n",
    "# Read the Excel file\n",
    "df = pd.read_excel(r'D:\\Grenoble_university\\6_month_internship\\working space\\data\\combined_1_year_data_with_flexibility.xlsx')\n",
    "\n",
    "# Filter rows to include only the washing machine (assuming it's in a specific column, adjust as needed)\n",
    "washing_machine_df = df['Washing machine ()']\n",
    "\n",
    "# Convert 'date' column to datetime format\n",
    "df['date'] = pd.to_datetime(df['date'])\n",
    "\n",
    "# Initialize total consumption\n",
    "total_consumption = 0\n",
    "\n",
    "# Calculate the total consumption for the washing machine for each hour of the day\n",
    "for hour in range(24):\n",
    "    start_time = pd.Timestamp(f'{hour}:00:00').time()\n",
    "    end_time = pd.Timestamp(f'{hour}:59:59').time()\n",
    "    hourly_sum = washing_machine_df[\n",
    "        (df['date'].dt.time >= start_time) & \n",
    "        (df['date'].dt.time <= end_time)\n",
    "    ].sum()\n",
    "    total_consumption += hourly_sum\n",
    "\n",
    "# Print the total consumption for the washing machine\n",
    "print(f\"Total consumption for the washing machine: {total_consumption}\")\n"
   ]
  },
  {
   "cell_type": "markdown",
   "metadata": {},
   "source": [
    "# total consumption of power supply for wood boiler"
   ]
  },
  {
   "cell_type": "code",
   "execution_count": 19,
   "metadata": {},
   "outputs": [
    {
     "name": "stdout",
     "output_type": "stream",
     "text": [
      "Power supply for wood boiler for 0:00 - 0:59: 14761\n",
      "Power supply for wood boiler for 1:00 - 1:59: 14543\n",
      "Power supply for wood boiler for 2:00 - 2:59: 14648\n",
      "Power supply for wood boiler for 3:00 - 3:59: 14723\n",
      "Power supply for wood boiler for 4:00 - 4:59: 14739\n",
      "Power supply for wood boiler for 5:00 - 5:59: 14681\n",
      "Power supply for wood boiler for 6:00 - 6:59: 14534\n",
      "Power supply for wood boiler for 7:00 - 7:59: 14874\n",
      "Power supply for wood boiler for 8:00 - 8:59: 14503\n",
      "Power supply for wood boiler for 9:00 - 9:59: 15886\n",
      "Power supply for wood boiler for 10:00 - 10:59: 14497\n",
      "Power supply for wood boiler for 11:00 - 11:59: 14461\n",
      "Power supply for wood boiler for 12:00 - 12:59: 14687\n",
      "Power supply for wood boiler for 13:00 - 13:59: 14698\n",
      "Power supply for wood boiler for 14:00 - 14:59: 14725\n",
      "Power supply for wood boiler for 15:00 - 15:59: 14764\n",
      "Power supply for wood boiler for 16:00 - 16:59: 14796\n",
      "Power supply for wood boiler for 17:00 - 17:59: 14881\n",
      "Power supply for wood boiler for 18:00 - 18:59: 14710\n",
      "Power supply for wood boiler for 19:00 - 19:59: 14605\n",
      "Power supply for wood boiler for 20:00 - 20:59: 14576\n",
      "Power supply for wood boiler for 21:00 - 21:59: 14503\n",
      "Power supply for wood boiler for 22:00 - 22:59: 14542\n",
      "Power supply for wood boiler for 23:00 - 23:59: 14706\n"
     ]
    }
   ],
   "source": [
    "import pandas as pd\n",
    "\n",
    "# Read the Excel file\n",
    "df = pd.read_excel(r'D:\\Grenoble_university\\6_month_internship\\working space\\data\\combined_1_year_data_with_flexibility.xlsx')\n",
    "\n",
    "# Filter rows to include only the 'Power supply for wood boiler' (assuming it's in a specific column, adjust as needed)\n",
    "boiler_df = df['Power supply for wood boiler ()']\n",
    "\n",
    "# Convert 'date' column to datetime format\n",
    "df['date'] = pd.to_datetime(df['date'])\n",
    "\n",
    "# Calculate the sum for the 'Power supply for wood boiler' for each hour of the day\n",
    "hourly_sums = {}\n",
    "for hour in range(24):\n",
    "    start_time = pd.Timestamp(f'{hour}:00:00').time()\n",
    "    end_time = pd.Timestamp(f'{hour}:59:59').time()\n",
    "    hourly_sum = boiler_df[\n",
    "        (df['date'].dt.time >= start_time) & \n",
    "        (df['date'].dt.time <= end_time)\n",
    "    ].sum()\n",
    "    hourly_sums[f'{hour}:00 - {hour}:59'] = hourly_sum\n",
    "\n",
    "# Print the sum for the 'Power supply for wood boiler' for each hour\n",
    "for hour, sum_ in hourly_sums.items():\n",
    "    print(f\"Power supply for wood boiler for {hour}: {sum_}\")\n"
   ]
  },
  {
   "cell_type": "code",
   "execution_count": 21,
   "metadata": {},
   "outputs": [
    {
     "name": "stdout",
     "output_type": "stream",
     "text": [
      "Total sum for Power supply for wood boiler: 353043.0\n"
     ]
    }
   ],
   "source": [
    "# Convert 'Power supply for wood boiler' data to numeric and print total sum\n",
    "print(\"Total sum for Power supply for wood boiler:\", pd.to_numeric(df['Power supply for wood boiler ()'], errors='coerce').sum())\n"
   ]
  }
 ],
 "metadata": {
  "kernelspec": {
   "display_name": "Python 3",
   "language": "python",
   "name": "python3"
  },
  "language_info": {
   "codemirror_mode": {
    "name": "ipython",
    "version": 3
   },
   "file_extension": ".py",
   "mimetype": "text/x-python",
   "name": "python",
   "nbconvert_exporter": "python",
   "pygments_lexer": "ipython3",
   "version": "3.10.7"
  }
 },
 "nbformat": 4,
 "nbformat_minor": 2
}
